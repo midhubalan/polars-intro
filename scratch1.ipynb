{
 "cells": [
  {
   "cell_type": "code",
   "execution_count": 1,
   "id": "a4f64739-34c8-4874-bbd4-491c3c0543e2",
   "metadata": {},
   "outputs": [],
   "source": [
    "import polars as pl\n",
    "\n",
    "import matplotlib.pyplot as plt\n",
    "import seaborn as sns\n",
    "import plotly.express as px\n",
    "import altair as alt"
   ]
  },
  {
   "cell_type": "code",
   "execution_count": 2,
   "id": "1b3556cb-d825-4c8d-8c5b-990a813fb346",
   "metadata": {},
   "outputs": [],
   "source": [
    "pl.Config.set_tbl_cols = 10\n",
    "pl.Config.set_tbl_rows = 6\n",
    "pl.Config.set_fmt_str_lengths = 100"
   ]
  },
  {
   "cell_type": "code",
   "execution_count": 3,
   "id": "a81f1590-1fbc-437c-bac8-9b592ee4c266",
   "metadata": {},
   "outputs": [
    {
     "data": {
      "text/html": [
       "<div><style>\n",
       ".dataframe > thead > tr,\n",
       ".dataframe > tbody > tr {\n",
       "  text-align: right;\n",
       "  white-space: pre-wrap;\n",
       "}\n",
       "</style>\n",
       "<small>shape: (9, 13)</small><table border=\"1\" class=\"dataframe\"><thead><tr><th>statistic</th><th>PassengerId</th><th>Survived</th><th>Pclass</th><th>Name</th><th>Sex</th><th>Age</th><th>SibSp</th><th>Parch</th><th>Ticket</th><th>Fare</th><th>Cabin</th><th>Embarked</th></tr><tr><td>str</td><td>f64</td><td>f64</td><td>f64</td><td>str</td><td>str</td><td>f64</td><td>f64</td><td>f64</td><td>str</td><td>f64</td><td>str</td><td>str</td></tr></thead><tbody><tr><td>&quot;count&quot;</td><td>891.0</td><td>891.0</td><td>891.0</td><td>&quot;891&quot;</td><td>&quot;891&quot;</td><td>714.0</td><td>891.0</td><td>891.0</td><td>&quot;891&quot;</td><td>891.0</td><td>&quot;204&quot;</td><td>&quot;889&quot;</td></tr><tr><td>&quot;null_count&quot;</td><td>0.0</td><td>0.0</td><td>0.0</td><td>&quot;0&quot;</td><td>&quot;0&quot;</td><td>177.0</td><td>0.0</td><td>0.0</td><td>&quot;0&quot;</td><td>0.0</td><td>&quot;687&quot;</td><td>&quot;2&quot;</td></tr><tr><td>&quot;mean&quot;</td><td>446.0</td><td>0.383838</td><td>2.308642</td><td>null</td><td>null</td><td>29.699118</td><td>0.523008</td><td>0.381594</td><td>null</td><td>32.204208</td><td>null</td><td>null</td></tr><tr><td>&quot;std&quot;</td><td>257.353842</td><td>0.486592</td><td>0.836071</td><td>null</td><td>null</td><td>14.526497</td><td>1.102743</td><td>0.806057</td><td>null</td><td>49.693429</td><td>null</td><td>null</td></tr><tr><td>&quot;min&quot;</td><td>1.0</td><td>0.0</td><td>1.0</td><td>&quot;Abbing, Mr. Anthony&quot;</td><td>&quot;female&quot;</td><td>0.42</td><td>0.0</td><td>0.0</td><td>&quot;110152&quot;</td><td>0.0</td><td>&quot;A10&quot;</td><td>&quot;C&quot;</td></tr><tr><td>&quot;25%&quot;</td><td>224.0</td><td>0.0</td><td>2.0</td><td>null</td><td>null</td><td>20.0</td><td>0.0</td><td>0.0</td><td>null</td><td>7.925</td><td>null</td><td>null</td></tr><tr><td>&quot;50%&quot;</td><td>446.0</td><td>0.0</td><td>3.0</td><td>null</td><td>null</td><td>28.0</td><td>0.0</td><td>0.0</td><td>null</td><td>14.4542</td><td>null</td><td>null</td></tr><tr><td>&quot;75%&quot;</td><td>669.0</td><td>1.0</td><td>3.0</td><td>null</td><td>null</td><td>38.0</td><td>1.0</td><td>0.0</td><td>null</td><td>31.0</td><td>null</td><td>null</td></tr><tr><td>&quot;max&quot;</td><td>891.0</td><td>1.0</td><td>3.0</td><td>&quot;van Melkebeke, Mr. Philemon&quot;</td><td>&quot;male&quot;</td><td>80.0</td><td>8.0</td><td>6.0</td><td>&quot;WE/P 5735&quot;</td><td>512.3292</td><td>&quot;T&quot;</td><td>&quot;S&quot;</td></tr></tbody></table></div>"
      ],
      "text/plain": [
       "shape: (9, 13)\n",
       "┌────────────┬─────────────┬──────────┬──────────┬───┬───────────┬───────────┬───────┬──────────┐\n",
       "│ statistic  ┆ PassengerId ┆ Survived ┆ Pclass   ┆ … ┆ Ticket    ┆ Fare      ┆ Cabin ┆ Embarked │\n",
       "│ ---        ┆ ---         ┆ ---      ┆ ---      ┆   ┆ ---       ┆ ---       ┆ ---   ┆ ---      │\n",
       "│ str        ┆ f64         ┆ f64      ┆ f64      ┆   ┆ str       ┆ f64       ┆ str   ┆ str      │\n",
       "╞════════════╪═════════════╪══════════╪══════════╪═══╪═══════════╪═══════════╪═══════╪══════════╡\n",
       "│ count      ┆ 891.0       ┆ 891.0    ┆ 891.0    ┆ … ┆ 891       ┆ 891.0     ┆ 204   ┆ 889      │\n",
       "│ null_count ┆ 0.0         ┆ 0.0      ┆ 0.0      ┆ … ┆ 0         ┆ 0.0       ┆ 687   ┆ 2        │\n",
       "│ mean       ┆ 446.0       ┆ 0.383838 ┆ 2.308642 ┆ … ┆ null      ┆ 32.204208 ┆ null  ┆ null     │\n",
       "│ std        ┆ 257.353842  ┆ 0.486592 ┆ 0.836071 ┆ … ┆ null      ┆ 49.693429 ┆ null  ┆ null     │\n",
       "│ min        ┆ 1.0         ┆ 0.0      ┆ 1.0      ┆ … ┆ 110152    ┆ 0.0       ┆ A10   ┆ C        │\n",
       "│ 25%        ┆ 224.0       ┆ 0.0      ┆ 2.0      ┆ … ┆ null      ┆ 7.925     ┆ null  ┆ null     │\n",
       "│ 50%        ┆ 446.0       ┆ 0.0      ┆ 3.0      ┆ … ┆ null      ┆ 14.4542   ┆ null  ┆ null     │\n",
       "│ 75%        ┆ 669.0       ┆ 1.0      ┆ 3.0      ┆ … ┆ null      ┆ 31.0      ┆ null  ┆ null     │\n",
       "│ max        ┆ 891.0       ┆ 1.0      ┆ 3.0      ┆ … ┆ WE/P 5735 ┆ 512.3292  ┆ T     ┆ S        │\n",
       "└────────────┴─────────────┴──────────┴──────────┴───┴───────────┴───────────┴───────┴──────────┘"
      ]
     },
     "execution_count": 3,
     "metadata": {},
     "output_type": "execute_result"
    }
   ],
   "source": [
    "csv_file = \"notebooks/data/titanic.csv\"\n",
    "df = pl.read_csv(csv_file)\n",
    "df.describe()"
   ]
  },
  {
   "cell_type": "code",
   "execution_count": 4,
   "id": "0925a33a-7656-4d81-85fa-cee5224ad84d",
   "metadata": {},
   "outputs": [
    {
     "data": {
      "text/plain": [
       "Schema([('PassengerId', Int64),\n",
       "        ('Survived', Int64),\n",
       "        ('Pclass', Int64),\n",
       "        ('Name', String),\n",
       "        ('Sex', String),\n",
       "        ('Age', Float64),\n",
       "        ('SibSp', Int64),\n",
       "        ('Parch', Int64),\n",
       "        ('Ticket', String),\n",
       "        ('Fare', Float64),\n",
       "        ('Cabin', String),\n",
       "        ('Embarked', String)])"
      ]
     },
     "execution_count": 4,
     "metadata": {},
     "output_type": "execute_result"
    }
   ],
   "source": [
    "df.schema"
   ]
  },
  {
   "cell_type": "code",
   "execution_count": 5,
   "id": "52390924-32da-4566-b52e-b72a3e12a2b9",
   "metadata": {},
   "outputs": [
    {
     "data": {
      "text/html": [
       "<div><style>\n",
       ".dataframe > thead > tr,\n",
       ".dataframe > tbody > tr {\n",
       "  text-align: right;\n",
       "  white-space: pre-wrap;\n",
       "}\n",
       "</style>\n",
       "<small>shape: (3, 2)</small><table border=\"1\" class=\"dataframe\"><thead><tr><th>Pclass</th><th>count</th></tr><tr><td>i64</td><td>u32</td></tr></thead><tbody><tr><td>1</td><td>216</td></tr><tr><td>2</td><td>184</td></tr><tr><td>3</td><td>491</td></tr></tbody></table></div>"
      ],
      "text/plain": [
       "shape: (3, 2)\n",
       "┌────────┬───────┐\n",
       "│ Pclass ┆ count │\n",
       "│ ---    ┆ ---   │\n",
       "│ i64    ┆ u32   │\n",
       "╞════════╪═══════╡\n",
       "│ 1      ┆ 216   │\n",
       "│ 2      ┆ 184   │\n",
       "│ 3      ┆ 491   │\n",
       "└────────┴───────┘"
      ]
     },
     "execution_count": 5,
     "metadata": {},
     "output_type": "execute_result"
    }
   ],
   "source": [
    "pax_class_counts = (\n",
    "    df[\"Pclass\"]\n",
    "        .value_counts()\n",
    "        .sort(\"Pclass\")\n",
    ")\n",
    "pax_class_counts"
   ]
  },
  {
   "cell_type": "code",
   "execution_count": 6,
   "id": "5db21647-4134-4dd7-a5f0-7f77ffcea652",
   "metadata": {},
   "outputs": [
    {
     "data": {
      "text/html": [
       "\n",
       "<style>\n",
       "  #altair-viz-bb6d54925970479d92fb2b731e5ba1b6.vega-embed {\n",
       "    width: 100%;\n",
       "    display: flex;\n",
       "  }\n",
       "\n",
       "  #altair-viz-bb6d54925970479d92fb2b731e5ba1b6.vega-embed details,\n",
       "  #altair-viz-bb6d54925970479d92fb2b731e5ba1b6.vega-embed details summary {\n",
       "    position: relative;\n",
       "  }\n",
       "</style>\n",
       "<div id=\"altair-viz-bb6d54925970479d92fb2b731e5ba1b6\"></div>\n",
       "<script type=\"text/javascript\">\n",
       "  var VEGA_DEBUG = (typeof VEGA_DEBUG == \"undefined\") ? {} : VEGA_DEBUG;\n",
       "  (function(spec, embedOpt){\n",
       "    let outputDiv = document.currentScript.previousElementSibling;\n",
       "    if (outputDiv.id !== \"altair-viz-bb6d54925970479d92fb2b731e5ba1b6\") {\n",
       "      outputDiv = document.getElementById(\"altair-viz-bb6d54925970479d92fb2b731e5ba1b6\");\n",
       "    }\n",
       "\n",
       "    const paths = {\n",
       "      \"vega\": \"https://cdn.jsdelivr.net/npm/vega@5?noext\",\n",
       "      \"vega-lib\": \"https://cdn.jsdelivr.net/npm/vega-lib?noext\",\n",
       "      \"vega-lite\": \"https://cdn.jsdelivr.net/npm/vega-lite@5.20.1?noext\",\n",
       "      \"vega-embed\": \"https://cdn.jsdelivr.net/npm/vega-embed@6?noext\",\n",
       "    };\n",
       "\n",
       "    function maybeLoadScript(lib, version) {\n",
       "      var key = `${lib.replace(\"-\", \"\")}_version`;\n",
       "      return (VEGA_DEBUG[key] == version) ?\n",
       "        Promise.resolve(paths[lib]) :\n",
       "        new Promise(function(resolve, reject) {\n",
       "          var s = document.createElement('script');\n",
       "          document.getElementsByTagName(\"head\")[0].appendChild(s);\n",
       "          s.async = true;\n",
       "          s.onload = () => {\n",
       "            VEGA_DEBUG[key] = version;\n",
       "            return resolve(paths[lib]);\n",
       "          };\n",
       "          s.onerror = () => reject(`Error loading script: ${paths[lib]}`);\n",
       "          s.src = paths[lib];\n",
       "        });\n",
       "    }\n",
       "\n",
       "    function showError(err) {\n",
       "      outputDiv.innerHTML = `<div class=\"error\" style=\"color:red;\">${err}</div>`;\n",
       "      throw err;\n",
       "    }\n",
       "\n",
       "    function displayChart(vegaEmbed) {\n",
       "      vegaEmbed(outputDiv, spec, embedOpt)\n",
       "        .catch(err => showError(`Javascript Error: ${err.message}<br>This usually means there's a typo in your chart specification. See the javascript console for the full traceback.`));\n",
       "    }\n",
       "\n",
       "    if(typeof define === \"function\" && define.amd) {\n",
       "      requirejs.config({paths});\n",
       "      let deps = [\"vega-embed\"];\n",
       "      require(deps, displayChart, err => showError(`Error loading script: ${err.message}`));\n",
       "    } else {\n",
       "      maybeLoadScript(\"vega\", \"5\")\n",
       "        .then(() => maybeLoadScript(\"vega-lite\", \"5.20.1\"))\n",
       "        .then(() => maybeLoadScript(\"vega-embed\", \"6\"))\n",
       "        .catch(showError)\n",
       "        .then(() => displayChart(vegaEmbed));\n",
       "    }\n",
       "  })({\"config\": {\"view\": {\"continuousWidth\": 300, \"continuousHeight\": 300}}, \"data\": {\"name\": \"data-531d6b3fc7dce488c1d8776ad238d626\"}, \"mark\": {\"type\": \"bar\", \"tooltip\": true}, \"encoding\": {\"x\": {\"field\": \"Pclass\", \"type\": \"nominal\"}, \"y\": {\"field\": \"count\", \"type\": \"quantitative\"}}, \"params\": [{\"name\": \"param_1\", \"select\": {\"type\": \"interval\", \"encodings\": [\"x\", \"y\"]}, \"bind\": \"scales\"}], \"width\": 500, \"$schema\": \"https://vega.github.io/schema/vega-lite/v5.20.1.json\", \"datasets\": {\"data-531d6b3fc7dce488c1d8776ad238d626\": [{\"Pclass\": \"1\", \"count\": 216}, {\"Pclass\": \"2\", \"count\": 184}, {\"Pclass\": \"3\", \"count\": 491}]}}, {\"mode\": \"vega-lite\"});\n",
       "</script>"
      ],
      "text/plain": [
       "alt.Chart(...)"
      ]
     },
     "execution_count": 6,
     "metadata": {},
     "output_type": "execute_result"
    }
   ],
   "source": [
    "(\n",
    "    pax_class_counts\n",
    "    .with_columns(\n",
    "        pl.col(\"Pclass\").cast(pl.String)\n",
    "    )\n",
    "    .plot.bar\n",
    "    (\n",
    "        x=\"Pclass\",\n",
    "        y=\"count\"\n",
    "    )\n",
    "    .properties\n",
    "    (\n",
    "        width=500\n",
    "    )\n",
    ")"
   ]
  },
  {
   "cell_type": "code",
   "execution_count": 7,
   "id": "e0b6882d-57f4-46e5-b1ee-6e4cc2d60226",
   "metadata": {},
   "outputs": [
    {
     "data": {
      "text/html": [
       "\n",
       "<style>\n",
       "  #altair-viz-029b05a50d9d40939b61ffb0f0bca716.vega-embed {\n",
       "    width: 100%;\n",
       "    display: flex;\n",
       "  }\n",
       "\n",
       "  #altair-viz-029b05a50d9d40939b61ffb0f0bca716.vega-embed details,\n",
       "  #altair-viz-029b05a50d9d40939b61ffb0f0bca716.vega-embed details summary {\n",
       "    position: relative;\n",
       "  }\n",
       "</style>\n",
       "<div id=\"altair-viz-029b05a50d9d40939b61ffb0f0bca716\"></div>\n",
       "<script type=\"text/javascript\">\n",
       "  var VEGA_DEBUG = (typeof VEGA_DEBUG == \"undefined\") ? {} : VEGA_DEBUG;\n",
       "  (function(spec, embedOpt){\n",
       "    let outputDiv = document.currentScript.previousElementSibling;\n",
       "    if (outputDiv.id !== \"altair-viz-029b05a50d9d40939b61ffb0f0bca716\") {\n",
       "      outputDiv = document.getElementById(\"altair-viz-029b05a50d9d40939b61ffb0f0bca716\");\n",
       "    }\n",
       "\n",
       "    const paths = {\n",
       "      \"vega\": \"https://cdn.jsdelivr.net/npm/vega@5?noext\",\n",
       "      \"vega-lib\": \"https://cdn.jsdelivr.net/npm/vega-lib?noext\",\n",
       "      \"vega-lite\": \"https://cdn.jsdelivr.net/npm/vega-lite@5.20.1?noext\",\n",
       "      \"vega-embed\": \"https://cdn.jsdelivr.net/npm/vega-embed@6?noext\",\n",
       "    };\n",
       "\n",
       "    function maybeLoadScript(lib, version) {\n",
       "      var key = `${lib.replace(\"-\", \"\")}_version`;\n",
       "      return (VEGA_DEBUG[key] == version) ?\n",
       "        Promise.resolve(paths[lib]) :\n",
       "        new Promise(function(resolve, reject) {\n",
       "          var s = document.createElement('script');\n",
       "          document.getElementsByTagName(\"head\")[0].appendChild(s);\n",
       "          s.async = true;\n",
       "          s.onload = () => {\n",
       "            VEGA_DEBUG[key] = version;\n",
       "            return resolve(paths[lib]);\n",
       "          };\n",
       "          s.onerror = () => reject(`Error loading script: ${paths[lib]}`);\n",
       "          s.src = paths[lib];\n",
       "        });\n",
       "    }\n",
       "\n",
       "    function showError(err) {\n",
       "      outputDiv.innerHTML = `<div class=\"error\" style=\"color:red;\">${err}</div>`;\n",
       "      throw err;\n",
       "    }\n",
       "\n",
       "    function displayChart(vegaEmbed) {\n",
       "      vegaEmbed(outputDiv, spec, embedOpt)\n",
       "        .catch(err => showError(`Javascript Error: ${err.message}<br>This usually means there's a typo in your chart specification. See the javascript console for the full traceback.`));\n",
       "    }\n",
       "\n",
       "    if(typeof define === \"function\" && define.amd) {\n",
       "      requirejs.config({paths});\n",
       "      let deps = [\"vega-embed\"];\n",
       "      require(deps, displayChart, err => showError(`Error loading script: ${err.message}`));\n",
       "    } else {\n",
       "      maybeLoadScript(\"vega\", \"5\")\n",
       "        .then(() => maybeLoadScript(\"vega-lite\", \"5.20.1\"))\n",
       "        .then(() => maybeLoadScript(\"vega-embed\", \"6\"))\n",
       "        .catch(showError)\n",
       "        .then(() => displayChart(vegaEmbed));\n",
       "    }\n",
       "  })({\"config\": {\"view\": {\"continuousWidth\": 300, \"continuousHeight\": 300}}, \"data\": {\"name\": \"data-c30dd86a46631d7ff2337a1aecc8478f\"}, \"mark\": {\"type\": \"bar\", \"tooltip\": true}, \"encoding\": {\"tooltip\": [{\"field\": \"Pclass\", \"title\": \"Class\", \"type\": \"quantitative\"}, {\"field\": \"count\", \"title\": \"Number of Passengers\", \"type\": \"quantitative\"}], \"x\": {\"field\": \"Pclass\", \"title\": \"Passenger Class\", \"type\": \"ordinal\"}, \"y\": {\"field\": \"count\", \"title\": \"Number of Passengers\", \"type\": \"quantitative\"}}, \"params\": [{\"name\": \"param_2\", \"select\": {\"type\": \"interval\", \"encodings\": [\"x\", \"y\"]}, \"bind\": \"scales\"}], \"title\": \"Number of Passengers Across Classes\", \"width\": 600, \"$schema\": \"https://vega.github.io/schema/vega-lite/v5.20.1.json\", \"datasets\": {\"data-c30dd86a46631d7ff2337a1aecc8478f\": [{\"Pclass\": 1, \"count\": 216}, {\"Pclass\": 2, \"count\": 184}, {\"Pclass\": 3, \"count\": 491}]}}, {\"mode\": \"vega-lite\"});\n",
       "</script>"
      ],
      "text/plain": [
       "alt.Chart(...)"
      ]
     },
     "execution_count": 7,
     "metadata": {},
     "output_type": "execute_result"
    }
   ],
   "source": [
    "(\n",
    "    pax_class_counts\n",
    "    .plot.bar(\n",
    "        x=alt.X(\"Pclass:O\",title=\"Passenger Class\"),\n",
    "        y=alt.Y(\"count\", title=\"Number of Passengers\"),\n",
    "        tooltip=[\n",
    "            alt.Tooltip(\"Pclass\", title=\"Class\"),\n",
    "            alt.Tooltip(\"count\", title=\"Number of Passengers\"),\n",
    "        ]\n",
    "    )\n",
    "    .properties\n",
    "    (\n",
    "        width=600,\n",
    "        title=\"Number of Passengers Across Classes\"\n",
    "    )\n",
    ")"
   ]
  },
  {
   "cell_type": "code",
   "execution_count": 8,
   "id": "1cb6da77-eac8-4656-aec5-f7b3efe2a4ab",
   "metadata": {},
   "outputs": [
    {
     "data": {
      "text/html": [
       "\n",
       "<style>\n",
       "  #altair-viz-9e39fea61ce84ba78e9f9ad57155a0ee.vega-embed {\n",
       "    width: 100%;\n",
       "    display: flex;\n",
       "  }\n",
       "\n",
       "  #altair-viz-9e39fea61ce84ba78e9f9ad57155a0ee.vega-embed details,\n",
       "  #altair-viz-9e39fea61ce84ba78e9f9ad57155a0ee.vega-embed details summary {\n",
       "    position: relative;\n",
       "  }\n",
       "</style>\n",
       "<div id=\"altair-viz-9e39fea61ce84ba78e9f9ad57155a0ee\"></div>\n",
       "<script type=\"text/javascript\">\n",
       "  var VEGA_DEBUG = (typeof VEGA_DEBUG == \"undefined\") ? {} : VEGA_DEBUG;\n",
       "  (function(spec, embedOpt){\n",
       "    let outputDiv = document.currentScript.previousElementSibling;\n",
       "    if (outputDiv.id !== \"altair-viz-9e39fea61ce84ba78e9f9ad57155a0ee\") {\n",
       "      outputDiv = document.getElementById(\"altair-viz-9e39fea61ce84ba78e9f9ad57155a0ee\");\n",
       "    }\n",
       "\n",
       "    const paths = {\n",
       "      \"vega\": \"https://cdn.jsdelivr.net/npm/vega@5?noext\",\n",
       "      \"vega-lib\": \"https://cdn.jsdelivr.net/npm/vega-lib?noext\",\n",
       "      \"vega-lite\": \"https://cdn.jsdelivr.net/npm/vega-lite@5.20.1?noext\",\n",
       "      \"vega-embed\": \"https://cdn.jsdelivr.net/npm/vega-embed@6?noext\",\n",
       "    };\n",
       "\n",
       "    function maybeLoadScript(lib, version) {\n",
       "      var key = `${lib.replace(\"-\", \"\")}_version`;\n",
       "      return (VEGA_DEBUG[key] == version) ?\n",
       "        Promise.resolve(paths[lib]) :\n",
       "        new Promise(function(resolve, reject) {\n",
       "          var s = document.createElement('script');\n",
       "          document.getElementsByTagName(\"head\")[0].appendChild(s);\n",
       "          s.async = true;\n",
       "          s.onload = () => {\n",
       "            VEGA_DEBUG[key] = version;\n",
       "            return resolve(paths[lib]);\n",
       "          };\n",
       "          s.onerror = () => reject(`Error loading script: ${paths[lib]}`);\n",
       "          s.src = paths[lib];\n",
       "        });\n",
       "    }\n",
       "\n",
       "    function showError(err) {\n",
       "      outputDiv.innerHTML = `<div class=\"error\" style=\"color:red;\">${err}</div>`;\n",
       "      throw err;\n",
       "    }\n",
       "\n",
       "    function displayChart(vegaEmbed) {\n",
       "      vegaEmbed(outputDiv, spec, embedOpt)\n",
       "        .catch(err => showError(`Javascript Error: ${err.message}<br>This usually means there's a typo in your chart specification. See the javascript console for the full traceback.`));\n",
       "    }\n",
       "\n",
       "    if(typeof define === \"function\" && define.amd) {\n",
       "      requirejs.config({paths});\n",
       "      let deps = [\"vega-embed\"];\n",
       "      require(deps, displayChart, err => showError(`Error loading script: ${err.message}`));\n",
       "    } else {\n",
       "      maybeLoadScript(\"vega\", \"5\")\n",
       "        .then(() => maybeLoadScript(\"vega-lite\", \"5.20.1\"))\n",
       "        .then(() => maybeLoadScript(\"vega-embed\", \"6\"))\n",
       "        .catch(showError)\n",
       "        .then(() => displayChart(vegaEmbed));\n",
       "    }\n",
       "  })({\"config\": {\"view\": {\"continuousWidth\": 300, \"continuousHeight\": 300}}, \"data\": {\"name\": \"data-eb4c1b9997f51a02fdb9c236c9019e4c\"}, \"mark\": {\"type\": \"bar\", \"tooltip\": true}, \"encoding\": {\"color\": {\"field\": \"Survived\", \"legend\": {\"title\": \"Survived\"}, \"type\": \"nominal\"}, \"tooltip\": [{\"field\": \"Pclass\", \"title\": \"Class\", \"type\": \"quantitative\"}, {\"field\": \"Survived\", \"type\": \"quantitative\"}, {\"aggregate\": \"count\", \"title\": \"Pax Count\", \"type\": \"quantitative\"}], \"x\": {\"field\": \"Pclass\", \"title\": \"Passenger Class\", \"type\": \"ordinal\"}, \"y\": {\"aggregate\": \"count\", \"title\": \"Number of Passengers\", \"type\": \"quantitative\"}}, \"params\": [{\"name\": \"param_3\", \"select\": {\"type\": \"interval\", \"encodings\": [\"x\", \"y\"]}, \"bind\": \"scales\"}], \"width\": 500, \"$schema\": \"https://vega.github.io/schema/vega-lite/v5.20.1.json\", \"datasets\": {\"data-eb4c1b9997f51a02fdb9c236c9019e4c\": [{\"PassengerId\": 1, \"Survived\": 0, \"Pclass\": 3, \"Name\": \"Braund, Mr. Owen Harris\", \"Sex\": \"male\", \"Age\": 22.0, \"SibSp\": 1, \"Parch\": 0, \"Ticket\": \"A/5 21171\", \"Fare\": 7.25, \"Cabin\": null, \"Embarked\": \"S\"}, {\"PassengerId\": 2, \"Survived\": 1, \"Pclass\": 1, \"Name\": \"Cumings, Mrs. John Bradley (Florence Briggs Thayer)\", \"Sex\": \"female\", \"Age\": 38.0, \"SibSp\": 1, \"Parch\": 0, \"Ticket\": \"PC 17599\", \"Fare\": 71.2833, \"Cabin\": \"C85\", \"Embarked\": \"C\"}, {\"PassengerId\": 3, \"Survived\": 1, \"Pclass\": 3, \"Name\": \"Heikkinen, Miss. Laina\", \"Sex\": \"female\", \"Age\": 26.0, \"SibSp\": 0, \"Parch\": 0, \"Ticket\": \"STON/O2. 3101282\", \"Fare\": 7.925, \"Cabin\": null, \"Embarked\": \"S\"}, {\"PassengerId\": 4, \"Survived\": 1, \"Pclass\": 1, \"Name\": \"Futrelle, Mrs. Jacques Heath (Lily May Peel)\", \"Sex\": \"female\", \"Age\": 35.0, \"SibSp\": 1, \"Parch\": 0, \"Ticket\": \"113803\", \"Fare\": 53.1, \"Cabin\": \"C123\", \"Embarked\": \"S\"}, {\"PassengerId\": 5, \"Survived\": 0, \"Pclass\": 3, \"Name\": \"Allen, Mr. William Henry\", \"Sex\": \"male\", \"Age\": 35.0, \"SibSp\": 0, \"Parch\": 0, \"Ticket\": \"373450\", \"Fare\": 8.05, \"Cabin\": null, \"Embarked\": \"S\"}, {\"PassengerId\": 6, \"Survived\": 0, \"Pclass\": 3, \"Name\": \"Moran, Mr. James\", \"Sex\": \"male\", \"Age\": null, \"SibSp\": 0, \"Parch\": 0, \"Ticket\": \"330877\", \"Fare\": 8.4583, \"Cabin\": null, \"Embarked\": \"Q\"}, {\"PassengerId\": 7, \"Survived\": 0, \"Pclass\": 1, \"Name\": \"McCarthy, Mr. Timothy J\", \"Sex\": \"male\", \"Age\": 54.0, \"SibSp\": 0, \"Parch\": 0, \"Ticket\": \"17463\", \"Fare\": 51.8625, \"Cabin\": \"E46\", \"Embarked\": \"S\"}, {\"PassengerId\": 8, \"Survived\": 0, \"Pclass\": 3, \"Name\": \"Palsson, Master. Gosta Leonard\", \"Sex\": \"male\", \"Age\": 2.0, \"SibSp\": 3, \"Parch\": 1, \"Ticket\": \"349909\", \"Fare\": 21.075, \"Cabin\": null, \"Embarked\": \"S\"}, {\"PassengerId\": 9, \"Survived\": 1, \"Pclass\": 3, \"Name\": \"Johnson, Mrs. Oscar W (Elisabeth Vilhelmina Berg)\", \"Sex\": \"female\", \"Age\": 27.0, \"SibSp\": 0, \"Parch\": 2, \"Ticket\": \"347742\", \"Fare\": 11.1333, \"Cabin\": null, \"Embarked\": \"S\"}, {\"PassengerId\": 10, \"Survived\": 1, \"Pclass\": 2, \"Name\": \"Nasser, Mrs. Nicholas (Adele Achem)\", \"Sex\": \"female\", \"Age\": 14.0, \"SibSp\": 1, \"Parch\": 0, \"Ticket\": \"237736\", \"Fare\": 30.0708, \"Cabin\": null, \"Embarked\": \"C\"}, {\"PassengerId\": 11, \"Survived\": 1, \"Pclass\": 3, \"Name\": \"Sandstrom, Miss. Marguerite Rut\", \"Sex\": \"female\", \"Age\": 4.0, \"SibSp\": 1, \"Parch\": 1, \"Ticket\": \"PP 9549\", \"Fare\": 16.7, \"Cabin\": \"G6\", \"Embarked\": \"S\"}, {\"PassengerId\": 12, \"Survived\": 1, \"Pclass\": 1, \"Name\": \"Bonnell, Miss. Elizabeth\", \"Sex\": \"female\", \"Age\": 58.0, \"SibSp\": 0, \"Parch\": 0, \"Ticket\": \"113783\", \"Fare\": 26.55, \"Cabin\": \"C103\", \"Embarked\": \"S\"}, {\"PassengerId\": 13, \"Survived\": 0, \"Pclass\": 3, \"Name\": \"Saundercock, Mr. William Henry\", \"Sex\": \"male\", \"Age\": 20.0, \"SibSp\": 0, \"Parch\": 0, \"Ticket\": \"A/5. 2151\", \"Fare\": 8.05, \"Cabin\": null, \"Embarked\": \"S\"}, {\"PassengerId\": 14, \"Survived\": 0, \"Pclass\": 3, \"Name\": \"Andersson, Mr. Anders Johan\", \"Sex\": \"male\", \"Age\": 39.0, \"SibSp\": 1, \"Parch\": 5, \"Ticket\": \"347082\", \"Fare\": 31.275, \"Cabin\": null, \"Embarked\": \"S\"}, {\"PassengerId\": 15, \"Survived\": 0, \"Pclass\": 3, \"Name\": \"Vestrom, Miss. Hulda Amanda Adolfina\", \"Sex\": \"female\", \"Age\": 14.0, \"SibSp\": 0, \"Parch\": 0, \"Ticket\": \"350406\", \"Fare\": 7.8542, \"Cabin\": null, \"Embarked\": \"S\"}, {\"PassengerId\": 16, \"Survived\": 1, \"Pclass\": 2, \"Name\": \"Hewlett, Mrs. (Mary D Kingcome) \", \"Sex\": \"female\", \"Age\": 55.0, \"SibSp\": 0, \"Parch\": 0, \"Ticket\": \"248706\", \"Fare\": 16.0, \"Cabin\": null, \"Embarked\": \"S\"}, {\"PassengerId\": 17, \"Survived\": 0, \"Pclass\": 3, \"Name\": \"Rice, Master. Eugene\", \"Sex\": \"male\", \"Age\": 2.0, \"SibSp\": 4, \"Parch\": 1, \"Ticket\": \"382652\", \"Fare\": 29.125, \"Cabin\": null, \"Embarked\": \"Q\"}, {\"PassengerId\": 18, \"Survived\": 1, \"Pclass\": 2, \"Name\": \"Williams, Mr. Charles Eugene\", \"Sex\": \"male\", \"Age\": null, \"SibSp\": 0, \"Parch\": 0, \"Ticket\": \"244373\", \"Fare\": 13.0, \"Cabin\": null, \"Embarked\": \"S\"}, {\"PassengerId\": 19, \"Survived\": 0, \"Pclass\": 3, \"Name\": \"Vander Planke, Mrs. Julius (Emelia Maria Vandemoortele)\", \"Sex\": \"female\", \"Age\": 31.0, \"SibSp\": 1, \"Parch\": 0, \"Ticket\": \"345763\", \"Fare\": 18.0, \"Cabin\": null, \"Embarked\": \"S\"}, {\"PassengerId\": 20, \"Survived\": 1, \"Pclass\": 3, \"Name\": \"Masselmani, Mrs. Fatima\", \"Sex\": \"female\", \"Age\": null, \"SibSp\": 0, \"Parch\": 0, \"Ticket\": \"2649\", \"Fare\": 7.225, \"Cabin\": null, \"Embarked\": \"C\"}, {\"PassengerId\": 21, \"Survived\": 0, \"Pclass\": 2, \"Name\": \"Fynney, Mr. Joseph J\", \"Sex\": \"male\", \"Age\": 35.0, \"SibSp\": 0, \"Parch\": 0, \"Ticket\": \"239865\", \"Fare\": 26.0, \"Cabin\": null, \"Embarked\": \"S\"}, {\"PassengerId\": 22, \"Survived\": 1, \"Pclass\": 2, \"Name\": \"Beesley, Mr. Lawrence\", \"Sex\": \"male\", \"Age\": 34.0, \"SibSp\": 0, \"Parch\": 0, \"Ticket\": \"248698\", \"Fare\": 13.0, \"Cabin\": \"D56\", \"Embarked\": \"S\"}, {\"PassengerId\": 23, \"Survived\": 1, \"Pclass\": 3, \"Name\": \"McGowan, Miss. Anna \\\"Annie\\\"\", \"Sex\": \"female\", \"Age\": 15.0, \"SibSp\": 0, \"Parch\": 0, \"Ticket\": \"330923\", \"Fare\": 8.0292, \"Cabin\": null, \"Embarked\": \"Q\"}, {\"PassengerId\": 24, \"Survived\": 1, \"Pclass\": 1, \"Name\": \"Sloper, Mr. William Thompson\", \"Sex\": \"male\", \"Age\": 28.0, \"SibSp\": 0, \"Parch\": 0, \"Ticket\": \"113788\", \"Fare\": 35.5, \"Cabin\": \"A6\", \"Embarked\": \"S\"}, {\"PassengerId\": 25, \"Survived\": 0, \"Pclass\": 3, \"Name\": \"Palsson, Miss. Torborg Danira\", \"Sex\": \"female\", \"Age\": 8.0, \"SibSp\": 3, \"Parch\": 1, \"Ticket\": \"349909\", \"Fare\": 21.075, \"Cabin\": null, \"Embarked\": \"S\"}, {\"PassengerId\": 26, \"Survived\": 1, \"Pclass\": 3, \"Name\": \"Asplund, Mrs. Carl Oscar (Selma Augusta Emilia Johansson)\", \"Sex\": \"female\", \"Age\": 38.0, \"SibSp\": 1, \"Parch\": 5, \"Ticket\": \"347077\", \"Fare\": 31.3875, \"Cabin\": null, \"Embarked\": \"S\"}, {\"PassengerId\": 27, \"Survived\": 0, \"Pclass\": 3, \"Name\": \"Emir, Mr. Farred Chehab\", \"Sex\": \"male\", \"Age\": null, \"SibSp\": 0, \"Parch\": 0, \"Ticket\": \"2631\", \"Fare\": 7.225, \"Cabin\": null, \"Embarked\": \"C\"}, {\"PassengerId\": 28, \"Survived\": 0, \"Pclass\": 1, \"Name\": \"Fortune, Mr. Charles Alexander\", \"Sex\": \"male\", \"Age\": 19.0, \"SibSp\": 3, \"Parch\": 2, \"Ticket\": \"19950\", \"Fare\": 263.0, \"Cabin\": \"C23 C25 C27\", \"Embarked\": \"S\"}, {\"PassengerId\": 29, \"Survived\": 1, \"Pclass\": 3, \"Name\": \"O'Dwyer, Miss. Ellen \\\"Nellie\\\"\", \"Sex\": \"female\", \"Age\": null, \"SibSp\": 0, \"Parch\": 0, \"Ticket\": \"330959\", \"Fare\": 7.8792, \"Cabin\": null, \"Embarked\": \"Q\"}, {\"PassengerId\": 30, \"Survived\": 0, \"Pclass\": 3, \"Name\": \"Todoroff, Mr. Lalio\", \"Sex\": \"male\", \"Age\": null, \"SibSp\": 0, \"Parch\": 0, \"Ticket\": \"349216\", \"Fare\": 7.8958, \"Cabin\": null, \"Embarked\": \"S\"}, {\"PassengerId\": 31, \"Survived\": 0, \"Pclass\": 1, \"Name\": \"Uruchurtu, Don. Manuel E\", \"Sex\": \"male\", \"Age\": 40.0, \"SibSp\": 0, \"Parch\": 0, \"Ticket\": \"PC 17601\", \"Fare\": 27.7208, \"Cabin\": null, \"Embarked\": \"C\"}, {\"PassengerId\": 32, \"Survived\": 1, \"Pclass\": 1, \"Name\": \"Spencer, Mrs. William Augustus (Marie Eugenie)\", \"Sex\": \"female\", \"Age\": null, \"SibSp\": 1, \"Parch\": 0, \"Ticket\": \"PC 17569\", \"Fare\": 146.5208, \"Cabin\": \"B78\", \"Embarked\": \"C\"}, {\"PassengerId\": 33, \"Survived\": 1, \"Pclass\": 3, \"Name\": \"Glynn, Miss. Mary Agatha\", \"Sex\": \"female\", \"Age\": null, \"SibSp\": 0, \"Parch\": 0, \"Ticket\": \"335677\", \"Fare\": 7.75, \"Cabin\": null, \"Embarked\": \"Q\"}, {\"PassengerId\": 34, \"Survived\": 0, \"Pclass\": 2, \"Name\": \"Wheadon, Mr. Edward H\", \"Sex\": \"male\", \"Age\": 66.0, \"SibSp\": 0, \"Parch\": 0, \"Ticket\": \"C.A. 24579\", \"Fare\": 10.5, \"Cabin\": null, \"Embarked\": \"S\"}, {\"PassengerId\": 35, \"Survived\": 0, \"Pclass\": 1, \"Name\": \"Meyer, Mr. Edgar Joseph\", \"Sex\": \"male\", \"Age\": 28.0, \"SibSp\": 1, \"Parch\": 0, \"Ticket\": \"PC 17604\", \"Fare\": 82.1708, \"Cabin\": null, \"Embarked\": \"C\"}, {\"PassengerId\": 36, \"Survived\": 0, \"Pclass\": 1, \"Name\": \"Holverson, Mr. Alexander Oskar\", \"Sex\": \"male\", \"Age\": 42.0, \"SibSp\": 1, \"Parch\": 0, \"Ticket\": \"113789\", \"Fare\": 52.0, \"Cabin\": null, \"Embarked\": \"S\"}, {\"PassengerId\": 37, \"Survived\": 1, \"Pclass\": 3, \"Name\": \"Mamee, Mr. Hanna\", \"Sex\": \"male\", \"Age\": null, \"SibSp\": 0, \"Parch\": 0, \"Ticket\": \"2677\", \"Fare\": 7.2292, \"Cabin\": null, \"Embarked\": \"C\"}, {\"PassengerId\": 38, \"Survived\": 0, \"Pclass\": 3, \"Name\": \"Cann, Mr. Ernest Charles\", \"Sex\": \"male\", \"Age\": 21.0, \"SibSp\": 0, \"Parch\": 0, \"Ticket\": \"A./5. 2152\", \"Fare\": 8.05, \"Cabin\": null, \"Embarked\": \"S\"}, {\"PassengerId\": 39, \"Survived\": 0, \"Pclass\": 3, \"Name\": \"Vander Planke, Miss. Augusta Maria\", \"Sex\": \"female\", \"Age\": 18.0, \"SibSp\": 2, \"Parch\": 0, \"Ticket\": \"345764\", \"Fare\": 18.0, \"Cabin\": null, \"Embarked\": \"S\"}, {\"PassengerId\": 40, \"Survived\": 1, \"Pclass\": 3, \"Name\": \"Nicola-Yarred, Miss. Jamila\", \"Sex\": \"female\", \"Age\": 14.0, \"SibSp\": 1, \"Parch\": 0, \"Ticket\": \"2651\", \"Fare\": 11.2417, \"Cabin\": null, \"Embarked\": \"C\"}, {\"PassengerId\": 41, \"Survived\": 0, \"Pclass\": 3, \"Name\": \"Ahlin, Mrs. Johan (Johanna Persdotter Larsson)\", \"Sex\": \"female\", \"Age\": 40.0, \"SibSp\": 1, \"Parch\": 0, \"Ticket\": \"7546\", \"Fare\": 9.475, \"Cabin\": null, \"Embarked\": \"S\"}, {\"PassengerId\": 42, \"Survived\": 0, \"Pclass\": 2, \"Name\": \"Turpin, Mrs. William John Robert (Dorothy Ann Wonnacott)\", \"Sex\": \"female\", \"Age\": 27.0, \"SibSp\": 1, \"Parch\": 0, \"Ticket\": \"11668\", \"Fare\": 21.0, \"Cabin\": null, \"Embarked\": \"S\"}, {\"PassengerId\": 43, \"Survived\": 0, \"Pclass\": 3, \"Name\": \"Kraeff, Mr. Theodor\", \"Sex\": \"male\", \"Age\": null, \"SibSp\": 0, \"Parch\": 0, \"Ticket\": \"349253\", \"Fare\": 7.8958, \"Cabin\": null, \"Embarked\": \"C\"}, {\"PassengerId\": 44, \"Survived\": 1, \"Pclass\": 2, \"Name\": \"Laroche, Miss. Simonne Marie Anne Andree\", \"Sex\": \"female\", \"Age\": 3.0, \"SibSp\": 1, \"Parch\": 2, \"Ticket\": \"SC/Paris 2123\", \"Fare\": 41.5792, \"Cabin\": null, \"Embarked\": \"C\"}, {\"PassengerId\": 45, \"Survived\": 1, \"Pclass\": 3, \"Name\": \"Devaney, Miss. Margaret Delia\", \"Sex\": \"female\", \"Age\": 19.0, \"SibSp\": 0, \"Parch\": 0, \"Ticket\": \"330958\", \"Fare\": 7.8792, \"Cabin\": null, \"Embarked\": \"Q\"}, {\"PassengerId\": 46, \"Survived\": 0, \"Pclass\": 3, \"Name\": \"Rogers, Mr. William John\", \"Sex\": \"male\", \"Age\": null, \"SibSp\": 0, \"Parch\": 0, \"Ticket\": \"S.C./A.4. 23567\", \"Fare\": 8.05, \"Cabin\": null, \"Embarked\": \"S\"}, {\"PassengerId\": 47, \"Survived\": 0, \"Pclass\": 3, \"Name\": \"Lennon, Mr. Denis\", \"Sex\": \"male\", \"Age\": null, \"SibSp\": 1, \"Parch\": 0, \"Ticket\": \"370371\", \"Fare\": 15.5, \"Cabin\": null, \"Embarked\": \"Q\"}, {\"PassengerId\": 48, \"Survived\": 1, \"Pclass\": 3, \"Name\": \"O'Driscoll, Miss. Bridget\", \"Sex\": \"female\", \"Age\": null, \"SibSp\": 0, \"Parch\": 0, \"Ticket\": \"14311\", \"Fare\": 7.75, \"Cabin\": null, \"Embarked\": \"Q\"}, {\"PassengerId\": 49, \"Survived\": 0, \"Pclass\": 3, \"Name\": \"Samaan, Mr. Youssef\", \"Sex\": \"male\", \"Age\": null, \"SibSp\": 2, \"Parch\": 0, \"Ticket\": \"2662\", \"Fare\": 21.6792, \"Cabin\": null, \"Embarked\": \"C\"}, {\"PassengerId\": 50, \"Survived\": 0, \"Pclass\": 3, \"Name\": \"Arnold-Franchi, Mrs. Josef (Josefine Franchi)\", \"Sex\": \"female\", \"Age\": 18.0, \"SibSp\": 1, \"Parch\": 0, \"Ticket\": \"349237\", \"Fare\": 17.8, \"Cabin\": null, \"Embarked\": \"S\"}, {\"PassengerId\": 51, \"Survived\": 0, \"Pclass\": 3, \"Name\": \"Panula, Master. Juha Niilo\", \"Sex\": \"male\", \"Age\": 7.0, \"SibSp\": 4, \"Parch\": 1, \"Ticket\": \"3101295\", \"Fare\": 39.6875, \"Cabin\": null, \"Embarked\": \"S\"}, {\"PassengerId\": 52, \"Survived\": 0, \"Pclass\": 3, \"Name\": \"Nosworthy, Mr. Richard Cater\", \"Sex\": \"male\", \"Age\": 21.0, \"SibSp\": 0, \"Parch\": 0, \"Ticket\": \"A/4. 39886\", \"Fare\": 7.8, \"Cabin\": null, \"Embarked\": \"S\"}, {\"PassengerId\": 53, \"Survived\": 1, \"Pclass\": 1, \"Name\": \"Harper, Mrs. Henry Sleeper (Myna Haxtun)\", \"Sex\": \"female\", \"Age\": 49.0, \"SibSp\": 1, \"Parch\": 0, \"Ticket\": \"PC 17572\", \"Fare\": 76.7292, \"Cabin\": \"D33\", \"Embarked\": \"C\"}, {\"PassengerId\": 54, \"Survived\": 1, \"Pclass\": 2, \"Name\": \"Faunthorpe, Mrs. Lizzie (Elizabeth Anne Wilkinson)\", \"Sex\": \"female\", \"Age\": 29.0, \"SibSp\": 1, \"Parch\": 0, \"Ticket\": \"2926\", \"Fare\": 26.0, \"Cabin\": null, \"Embarked\": \"S\"}, {\"PassengerId\": 55, \"Survived\": 0, \"Pclass\": 1, \"Name\": \"Ostby, Mr. Engelhart Cornelius\", \"Sex\": \"male\", \"Age\": 65.0, \"SibSp\": 0, \"Parch\": 1, \"Ticket\": \"113509\", \"Fare\": 61.9792, \"Cabin\": \"B30\", \"Embarked\": \"C\"}, {\"PassengerId\": 56, \"Survived\": 1, \"Pclass\": 1, \"Name\": \"Woolner, Mr. Hugh\", \"Sex\": \"male\", \"Age\": null, \"SibSp\": 0, \"Parch\": 0, \"Ticket\": \"19947\", \"Fare\": 35.5, \"Cabin\": \"C52\", \"Embarked\": \"S\"}, {\"PassengerId\": 57, \"Survived\": 1, \"Pclass\": 2, \"Name\": \"Rugg, Miss. Emily\", \"Sex\": \"female\", \"Age\": 21.0, \"SibSp\": 0, \"Parch\": 0, \"Ticket\": \"C.A. 31026\", \"Fare\": 10.5, \"Cabin\": null, \"Embarked\": \"S\"}, {\"PassengerId\": 58, \"Survived\": 0, \"Pclass\": 3, \"Name\": \"Novel, Mr. Mansouer\", \"Sex\": \"male\", \"Age\": 28.5, \"SibSp\": 0, \"Parch\": 0, \"Ticket\": \"2697\", \"Fare\": 7.2292, \"Cabin\": null, \"Embarked\": \"C\"}, {\"PassengerId\": 59, \"Survived\": 1, \"Pclass\": 2, \"Name\": \"West, Miss. Constance Mirium\", \"Sex\": \"female\", \"Age\": 5.0, \"SibSp\": 1, \"Parch\": 2, \"Ticket\": \"C.A. 34651\", \"Fare\": 27.75, \"Cabin\": null, \"Embarked\": \"S\"}, {\"PassengerId\": 60, \"Survived\": 0, \"Pclass\": 3, \"Name\": \"Goodwin, Master. William Frederick\", \"Sex\": \"male\", \"Age\": 11.0, \"SibSp\": 5, \"Parch\": 2, \"Ticket\": \"CA 2144\", \"Fare\": 46.9, \"Cabin\": null, \"Embarked\": \"S\"}, {\"PassengerId\": 61, \"Survived\": 0, \"Pclass\": 3, \"Name\": \"Sirayanian, Mr. Orsen\", \"Sex\": \"male\", \"Age\": 22.0, \"SibSp\": 0, \"Parch\": 0, \"Ticket\": \"2669\", \"Fare\": 7.2292, \"Cabin\": null, \"Embarked\": \"C\"}, {\"PassengerId\": 62, \"Survived\": 1, \"Pclass\": 1, \"Name\": \"Icard, Miss. Amelie\", \"Sex\": \"female\", \"Age\": 38.0, \"SibSp\": 0, \"Parch\": 0, \"Ticket\": \"113572\", \"Fare\": 80.0, \"Cabin\": \"B28\", \"Embarked\": null}, {\"PassengerId\": 63, \"Survived\": 0, \"Pclass\": 1, \"Name\": \"Harris, Mr. Henry Birkhardt\", \"Sex\": \"male\", \"Age\": 45.0, \"SibSp\": 1, \"Parch\": 0, \"Ticket\": \"36973\", \"Fare\": 83.475, \"Cabin\": \"C83\", \"Embarked\": \"S\"}, {\"PassengerId\": 64, \"Survived\": 0, \"Pclass\": 3, \"Name\": \"Skoog, Master. Harald\", \"Sex\": \"male\", \"Age\": 4.0, \"SibSp\": 3, \"Parch\": 2, \"Ticket\": \"347088\", \"Fare\": 27.9, \"Cabin\": null, \"Embarked\": \"S\"}, {\"PassengerId\": 65, \"Survived\": 0, \"Pclass\": 1, \"Name\": \"Stewart, Mr. Albert A\", \"Sex\": \"male\", \"Age\": null, \"SibSp\": 0, \"Parch\": 0, \"Ticket\": \"PC 17605\", \"Fare\": 27.7208, \"Cabin\": null, \"Embarked\": \"C\"}, {\"PassengerId\": 66, \"Survived\": 1, \"Pclass\": 3, \"Name\": \"Moubarek, Master. Gerios\", \"Sex\": \"male\", \"Age\": null, \"SibSp\": 1, \"Parch\": 1, \"Ticket\": \"2661\", \"Fare\": 15.2458, \"Cabin\": null, \"Embarked\": \"C\"}, {\"PassengerId\": 67, \"Survived\": 1, \"Pclass\": 2, \"Name\": \"Nye, Mrs. (Elizabeth Ramell)\", \"Sex\": \"female\", \"Age\": 29.0, \"SibSp\": 0, \"Parch\": 0, \"Ticket\": \"C.A. 29395\", \"Fare\": 10.5, \"Cabin\": \"F33\", \"Embarked\": \"S\"}, {\"PassengerId\": 68, \"Survived\": 0, \"Pclass\": 3, \"Name\": \"Crease, Mr. Ernest James\", \"Sex\": \"male\", \"Age\": 19.0, \"SibSp\": 0, \"Parch\": 0, \"Ticket\": \"S.P. 3464\", \"Fare\": 8.1583, \"Cabin\": null, \"Embarked\": \"S\"}, {\"PassengerId\": 69, \"Survived\": 1, \"Pclass\": 3, \"Name\": \"Andersson, Miss. Erna Alexandra\", \"Sex\": \"female\", \"Age\": 17.0, \"SibSp\": 4, \"Parch\": 2, \"Ticket\": \"3101281\", \"Fare\": 7.925, \"Cabin\": null, \"Embarked\": \"S\"}, {\"PassengerId\": 70, \"Survived\": 0, \"Pclass\": 3, \"Name\": \"Kink, Mr. Vincenz\", \"Sex\": \"male\", \"Age\": 26.0, \"SibSp\": 2, \"Parch\": 0, \"Ticket\": \"315151\", \"Fare\": 8.6625, \"Cabin\": null, \"Embarked\": \"S\"}, {\"PassengerId\": 71, \"Survived\": 0, \"Pclass\": 2, \"Name\": \"Jenkin, Mr. Stephen Curnow\", \"Sex\": \"male\", \"Age\": 32.0, \"SibSp\": 0, \"Parch\": 0, \"Ticket\": \"C.A. 33111\", \"Fare\": 10.5, \"Cabin\": null, \"Embarked\": \"S\"}, {\"PassengerId\": 72, \"Survived\": 0, \"Pclass\": 3, \"Name\": \"Goodwin, Miss. Lillian Amy\", \"Sex\": \"female\", \"Age\": 16.0, \"SibSp\": 5, \"Parch\": 2, \"Ticket\": \"CA 2144\", \"Fare\": 46.9, \"Cabin\": null, \"Embarked\": \"S\"}, {\"PassengerId\": 73, \"Survived\": 0, \"Pclass\": 2, \"Name\": \"Hood, Mr. Ambrose Jr\", \"Sex\": \"male\", \"Age\": 21.0, \"SibSp\": 0, \"Parch\": 0, \"Ticket\": \"S.O.C. 14879\", \"Fare\": 73.5, \"Cabin\": null, \"Embarked\": \"S\"}, {\"PassengerId\": 74, \"Survived\": 0, \"Pclass\": 3, \"Name\": \"Chronopoulos, Mr. Apostolos\", \"Sex\": \"male\", \"Age\": 26.0, \"SibSp\": 1, \"Parch\": 0, \"Ticket\": \"2680\", \"Fare\": 14.4542, \"Cabin\": null, \"Embarked\": \"C\"}, {\"PassengerId\": 75, \"Survived\": 1, \"Pclass\": 3, \"Name\": \"Bing, Mr. Lee\", \"Sex\": \"male\", \"Age\": 32.0, \"SibSp\": 0, \"Parch\": 0, \"Ticket\": \"1601\", \"Fare\": 56.4958, \"Cabin\": null, \"Embarked\": \"S\"}, {\"PassengerId\": 76, \"Survived\": 0, \"Pclass\": 3, \"Name\": \"Moen, Mr. Sigurd Hansen\", \"Sex\": \"male\", \"Age\": 25.0, \"SibSp\": 0, \"Parch\": 0, \"Ticket\": \"348123\", \"Fare\": 7.65, \"Cabin\": \"F G73\", \"Embarked\": \"S\"}, {\"PassengerId\": 77, \"Survived\": 0, \"Pclass\": 3, \"Name\": \"Staneff, Mr. Ivan\", \"Sex\": \"male\", \"Age\": null, \"SibSp\": 0, \"Parch\": 0, \"Ticket\": \"349208\", \"Fare\": 7.8958, \"Cabin\": null, \"Embarked\": \"S\"}, {\"PassengerId\": 78, \"Survived\": 0, \"Pclass\": 3, \"Name\": \"Moutal, Mr. Rahamin Haim\", \"Sex\": \"male\", \"Age\": null, \"SibSp\": 0, \"Parch\": 0, \"Ticket\": \"374746\", \"Fare\": 8.05, \"Cabin\": null, \"Embarked\": \"S\"}, {\"PassengerId\": 79, \"Survived\": 1, \"Pclass\": 2, \"Name\": \"Caldwell, Master. Alden Gates\", \"Sex\": \"male\", \"Age\": 0.83, \"SibSp\": 0, \"Parch\": 2, \"Ticket\": \"248738\", \"Fare\": 29.0, \"Cabin\": null, \"Embarked\": \"S\"}, {\"PassengerId\": 80, \"Survived\": 1, \"Pclass\": 3, \"Name\": \"Dowdell, Miss. Elizabeth\", \"Sex\": \"female\", \"Age\": 30.0, \"SibSp\": 0, \"Parch\": 0, \"Ticket\": \"364516\", \"Fare\": 12.475, \"Cabin\": null, \"Embarked\": \"S\"}, {\"PassengerId\": 81, \"Survived\": 0, \"Pclass\": 3, \"Name\": \"Waelens, Mr. Achille\", \"Sex\": \"male\", \"Age\": 22.0, \"SibSp\": 0, \"Parch\": 0, \"Ticket\": \"345767\", \"Fare\": 9.0, \"Cabin\": null, \"Embarked\": \"S\"}, {\"PassengerId\": 82, \"Survived\": 1, \"Pclass\": 3, \"Name\": \"Sheerlinck, Mr. Jan Baptist\", \"Sex\": \"male\", \"Age\": 29.0, \"SibSp\": 0, \"Parch\": 0, \"Ticket\": \"345779\", \"Fare\": 9.5, \"Cabin\": null, \"Embarked\": \"S\"}, {\"PassengerId\": 83, \"Survived\": 1, \"Pclass\": 3, \"Name\": \"McDermott, Miss. Brigdet Delia\", \"Sex\": \"female\", \"Age\": null, \"SibSp\": 0, \"Parch\": 0, \"Ticket\": \"330932\", \"Fare\": 7.7875, \"Cabin\": null, \"Embarked\": \"Q\"}, {\"PassengerId\": 84, \"Survived\": 0, \"Pclass\": 1, \"Name\": \"Carrau, Mr. Francisco M\", \"Sex\": \"male\", \"Age\": 28.0, \"SibSp\": 0, \"Parch\": 0, \"Ticket\": \"113059\", \"Fare\": 47.1, \"Cabin\": null, \"Embarked\": \"S\"}, {\"PassengerId\": 85, \"Survived\": 1, \"Pclass\": 2, \"Name\": \"Ilett, Miss. Bertha\", \"Sex\": \"female\", \"Age\": 17.0, \"SibSp\": 0, \"Parch\": 0, \"Ticket\": \"SO/C 14885\", \"Fare\": 10.5, \"Cabin\": null, \"Embarked\": \"S\"}, {\"PassengerId\": 86, \"Survived\": 1, \"Pclass\": 3, \"Name\": \"Backstrom, Mrs. Karl Alfred (Maria Mathilda Gustafsson)\", \"Sex\": \"female\", \"Age\": 33.0, \"SibSp\": 3, \"Parch\": 0, \"Ticket\": \"3101278\", \"Fare\": 15.85, \"Cabin\": null, \"Embarked\": \"S\"}, {\"PassengerId\": 87, \"Survived\": 0, \"Pclass\": 3, \"Name\": \"Ford, Mr. William Neal\", \"Sex\": \"male\", \"Age\": 16.0, \"SibSp\": 1, \"Parch\": 3, \"Ticket\": \"W./C. 6608\", \"Fare\": 34.375, \"Cabin\": null, \"Embarked\": \"S\"}, {\"PassengerId\": 88, \"Survived\": 0, \"Pclass\": 3, \"Name\": \"Slocovski, Mr. Selman Francis\", \"Sex\": \"male\", \"Age\": null, \"SibSp\": 0, \"Parch\": 0, \"Ticket\": \"SOTON/OQ 392086\", \"Fare\": 8.05, \"Cabin\": null, \"Embarked\": \"S\"}, {\"PassengerId\": 89, \"Survived\": 1, \"Pclass\": 1, \"Name\": \"Fortune, Miss. Mabel Helen\", \"Sex\": \"female\", \"Age\": 23.0, \"SibSp\": 3, \"Parch\": 2, \"Ticket\": \"19950\", \"Fare\": 263.0, \"Cabin\": \"C23 C25 C27\", \"Embarked\": \"S\"}, {\"PassengerId\": 90, \"Survived\": 0, \"Pclass\": 3, \"Name\": \"Celotti, Mr. Francesco\", \"Sex\": \"male\", \"Age\": 24.0, \"SibSp\": 0, \"Parch\": 0, \"Ticket\": \"343275\", \"Fare\": 8.05, \"Cabin\": null, \"Embarked\": \"S\"}, {\"PassengerId\": 91, \"Survived\": 0, \"Pclass\": 3, \"Name\": \"Christmann, Mr. Emil\", \"Sex\": \"male\", \"Age\": 29.0, \"SibSp\": 0, \"Parch\": 0, \"Ticket\": \"343276\", \"Fare\": 8.05, \"Cabin\": null, \"Embarked\": \"S\"}, {\"PassengerId\": 92, \"Survived\": 0, \"Pclass\": 3, \"Name\": \"Andreasson, Mr. Paul Edvin\", \"Sex\": \"male\", \"Age\": 20.0, \"SibSp\": 0, \"Parch\": 0, \"Ticket\": \"347466\", \"Fare\": 7.8542, \"Cabin\": null, \"Embarked\": \"S\"}, {\"PassengerId\": 93, \"Survived\": 0, \"Pclass\": 1, \"Name\": \"Chaffee, Mr. Herbert Fuller\", \"Sex\": \"male\", \"Age\": 46.0, \"SibSp\": 1, \"Parch\": 0, \"Ticket\": \"W.E.P. 5734\", \"Fare\": 61.175, \"Cabin\": \"E31\", \"Embarked\": \"S\"}, {\"PassengerId\": 94, \"Survived\": 0, \"Pclass\": 3, \"Name\": \"Dean, Mr. Bertram Frank\", \"Sex\": \"male\", \"Age\": 26.0, \"SibSp\": 1, \"Parch\": 2, \"Ticket\": \"C.A. 2315\", \"Fare\": 20.575, \"Cabin\": null, \"Embarked\": \"S\"}, {\"PassengerId\": 95, \"Survived\": 0, \"Pclass\": 3, \"Name\": \"Coxon, Mr. Daniel\", \"Sex\": \"male\", \"Age\": 59.0, \"SibSp\": 0, \"Parch\": 0, \"Ticket\": \"364500\", \"Fare\": 7.25, \"Cabin\": null, \"Embarked\": \"S\"}, {\"PassengerId\": 96, \"Survived\": 0, \"Pclass\": 3, \"Name\": \"Shorney, Mr. Charles Joseph\", \"Sex\": \"male\", \"Age\": null, \"SibSp\": 0, \"Parch\": 0, \"Ticket\": \"374910\", \"Fare\": 8.05, \"Cabin\": null, \"Embarked\": \"S\"}, {\"PassengerId\": 97, \"Survived\": 0, \"Pclass\": 1, \"Name\": \"Goldschmidt, Mr. George B\", \"Sex\": \"male\", \"Age\": 71.0, \"SibSp\": 0, \"Parch\": 0, \"Ticket\": \"PC 17754\", \"Fare\": 34.6542, \"Cabin\": \"A5\", \"Embarked\": \"C\"}, {\"PassengerId\": 98, \"Survived\": 1, \"Pclass\": 1, \"Name\": \"Greenfield, Mr. William Bertram\", \"Sex\": \"male\", \"Age\": 23.0, \"SibSp\": 0, \"Parch\": 1, \"Ticket\": \"PC 17759\", \"Fare\": 63.3583, \"Cabin\": \"D10 D12\", \"Embarked\": \"C\"}, {\"PassengerId\": 99, \"Survived\": 1, \"Pclass\": 2, \"Name\": \"Doling, Mrs. John T (Ada Julia Bone)\", \"Sex\": \"female\", \"Age\": 34.0, \"SibSp\": 0, \"Parch\": 1, \"Ticket\": \"231919\", \"Fare\": 23.0, \"Cabin\": null, \"Embarked\": \"S\"}, {\"PassengerId\": 100, \"Survived\": 0, \"Pclass\": 2, \"Name\": \"Kantor, Mr. Sinai\", \"Sex\": \"male\", \"Age\": 34.0, \"SibSp\": 1, \"Parch\": 0, \"Ticket\": \"244367\", \"Fare\": 26.0, \"Cabin\": null, \"Embarked\": \"S\"}, {\"PassengerId\": 101, \"Survived\": 0, \"Pclass\": 3, \"Name\": \"Petranec, Miss. Matilda\", \"Sex\": \"female\", \"Age\": 28.0, \"SibSp\": 0, \"Parch\": 0, \"Ticket\": \"349245\", \"Fare\": 7.8958, \"Cabin\": null, \"Embarked\": \"S\"}, {\"PassengerId\": 102, \"Survived\": 0, \"Pclass\": 3, \"Name\": \"Petroff, Mr. Pastcho (\\\"Pentcho\\\")\", \"Sex\": \"male\", \"Age\": null, \"SibSp\": 0, \"Parch\": 0, \"Ticket\": \"349215\", \"Fare\": 7.8958, \"Cabin\": null, \"Embarked\": \"S\"}, {\"PassengerId\": 103, \"Survived\": 0, \"Pclass\": 1, \"Name\": \"White, Mr. Richard Frasar\", \"Sex\": \"male\", \"Age\": 21.0, \"SibSp\": 0, \"Parch\": 1, \"Ticket\": \"35281\", \"Fare\": 77.2875, \"Cabin\": \"D26\", \"Embarked\": \"S\"}, {\"PassengerId\": 104, \"Survived\": 0, \"Pclass\": 3, \"Name\": \"Johansson, Mr. Gustaf Joel\", \"Sex\": \"male\", \"Age\": 33.0, \"SibSp\": 0, \"Parch\": 0, \"Ticket\": \"7540\", \"Fare\": 8.6542, \"Cabin\": null, \"Embarked\": \"S\"}, {\"PassengerId\": 105, \"Survived\": 0, \"Pclass\": 3, \"Name\": \"Gustafsson, Mr. Anders Vilhelm\", \"Sex\": \"male\", \"Age\": 37.0, \"SibSp\": 2, \"Parch\": 0, \"Ticket\": \"3101276\", \"Fare\": 7.925, \"Cabin\": null, \"Embarked\": \"S\"}, {\"PassengerId\": 106, \"Survived\": 0, \"Pclass\": 3, \"Name\": \"Mionoff, Mr. Stoytcho\", \"Sex\": \"male\", \"Age\": 28.0, \"SibSp\": 0, \"Parch\": 0, \"Ticket\": \"349207\", \"Fare\": 7.8958, \"Cabin\": null, \"Embarked\": \"S\"}, {\"PassengerId\": 107, \"Survived\": 1, \"Pclass\": 3, \"Name\": \"Salkjelsvik, Miss. Anna Kristine\", \"Sex\": \"female\", \"Age\": 21.0, \"SibSp\": 0, \"Parch\": 0, \"Ticket\": \"343120\", \"Fare\": 7.65, \"Cabin\": null, \"Embarked\": \"S\"}, {\"PassengerId\": 108, \"Survived\": 1, \"Pclass\": 3, \"Name\": \"Moss, Mr. Albert Johan\", \"Sex\": \"male\", \"Age\": null, \"SibSp\": 0, \"Parch\": 0, \"Ticket\": \"312991\", \"Fare\": 7.775, \"Cabin\": null, \"Embarked\": \"S\"}, {\"PassengerId\": 109, \"Survived\": 0, \"Pclass\": 3, \"Name\": \"Rekic, Mr. Tido\", \"Sex\": \"male\", \"Age\": 38.0, \"SibSp\": 0, \"Parch\": 0, \"Ticket\": \"349249\", \"Fare\": 7.8958, \"Cabin\": null, \"Embarked\": \"S\"}, {\"PassengerId\": 110, \"Survived\": 1, \"Pclass\": 3, \"Name\": \"Moran, Miss. Bertha\", \"Sex\": \"female\", \"Age\": null, \"SibSp\": 1, \"Parch\": 0, \"Ticket\": \"371110\", \"Fare\": 24.15, \"Cabin\": null, \"Embarked\": \"Q\"}, {\"PassengerId\": 111, \"Survived\": 0, \"Pclass\": 1, \"Name\": \"Porter, Mr. Walter Chamberlain\", \"Sex\": \"male\", \"Age\": 47.0, \"SibSp\": 0, \"Parch\": 0, \"Ticket\": \"110465\", \"Fare\": 52.0, \"Cabin\": \"C110\", \"Embarked\": \"S\"}, {\"PassengerId\": 112, \"Survived\": 0, \"Pclass\": 3, \"Name\": \"Zabour, Miss. Hileni\", \"Sex\": \"female\", \"Age\": 14.5, \"SibSp\": 1, \"Parch\": 0, \"Ticket\": \"2665\", \"Fare\": 14.4542, \"Cabin\": null, \"Embarked\": \"C\"}, {\"PassengerId\": 113, \"Survived\": 0, \"Pclass\": 3, \"Name\": \"Barton, Mr. David John\", \"Sex\": \"male\", \"Age\": 22.0, \"SibSp\": 0, \"Parch\": 0, \"Ticket\": \"324669\", \"Fare\": 8.05, \"Cabin\": null, \"Embarked\": \"S\"}, {\"PassengerId\": 114, \"Survived\": 0, \"Pclass\": 3, \"Name\": \"Jussila, Miss. Katriina\", \"Sex\": \"female\", \"Age\": 20.0, \"SibSp\": 1, \"Parch\": 0, \"Ticket\": \"4136\", \"Fare\": 9.825, \"Cabin\": null, \"Embarked\": \"S\"}, {\"PassengerId\": 115, \"Survived\": 0, \"Pclass\": 3, \"Name\": \"Attalah, Miss. Malake\", \"Sex\": \"female\", \"Age\": 17.0, \"SibSp\": 0, \"Parch\": 0, \"Ticket\": \"2627\", \"Fare\": 14.4583, \"Cabin\": null, \"Embarked\": \"C\"}, {\"PassengerId\": 116, \"Survived\": 0, \"Pclass\": 3, \"Name\": \"Pekoniemi, Mr. Edvard\", \"Sex\": \"male\", \"Age\": 21.0, \"SibSp\": 0, \"Parch\": 0, \"Ticket\": \"STON/O 2. 3101294\", \"Fare\": 7.925, \"Cabin\": null, \"Embarked\": \"S\"}, {\"PassengerId\": 117, \"Survived\": 0, \"Pclass\": 3, \"Name\": \"Connors, Mr. Patrick\", \"Sex\": \"male\", \"Age\": 70.5, \"SibSp\": 0, \"Parch\": 0, \"Ticket\": \"370369\", \"Fare\": 7.75, \"Cabin\": null, \"Embarked\": \"Q\"}, {\"PassengerId\": 118, \"Survived\": 0, \"Pclass\": 2, \"Name\": \"Turpin, Mr. William John Robert\", \"Sex\": \"male\", \"Age\": 29.0, \"SibSp\": 1, \"Parch\": 0, \"Ticket\": \"11668\", \"Fare\": 21.0, \"Cabin\": null, \"Embarked\": \"S\"}, {\"PassengerId\": 119, \"Survived\": 0, \"Pclass\": 1, \"Name\": \"Baxter, Mr. Quigg Edmond\", \"Sex\": \"male\", \"Age\": 24.0, \"SibSp\": 0, \"Parch\": 1, \"Ticket\": \"PC 17558\", \"Fare\": 247.5208, \"Cabin\": \"B58 B60\", \"Embarked\": \"C\"}, {\"PassengerId\": 120, \"Survived\": 0, \"Pclass\": 3, \"Name\": \"Andersson, Miss. Ellis Anna Maria\", \"Sex\": \"female\", \"Age\": 2.0, \"SibSp\": 4, \"Parch\": 2, \"Ticket\": \"347082\", \"Fare\": 31.275, \"Cabin\": null, \"Embarked\": \"S\"}, {\"PassengerId\": 121, \"Survived\": 0, \"Pclass\": 2, \"Name\": \"Hickman, Mr. Stanley George\", \"Sex\": \"male\", \"Age\": 21.0, \"SibSp\": 2, \"Parch\": 0, \"Ticket\": \"S.O.C. 14879\", \"Fare\": 73.5, \"Cabin\": null, \"Embarked\": \"S\"}, {\"PassengerId\": 122, \"Survived\": 0, \"Pclass\": 3, \"Name\": \"Moore, Mr. Leonard Charles\", \"Sex\": \"male\", \"Age\": null, \"SibSp\": 0, \"Parch\": 0, \"Ticket\": \"A4. 54510\", \"Fare\": 8.05, \"Cabin\": null, \"Embarked\": \"S\"}, {\"PassengerId\": 123, \"Survived\": 0, \"Pclass\": 2, \"Name\": \"Nasser, Mr. Nicholas\", \"Sex\": \"male\", \"Age\": 32.5, \"SibSp\": 1, \"Parch\": 0, \"Ticket\": \"237736\", \"Fare\": 30.0708, \"Cabin\": null, \"Embarked\": \"C\"}, {\"PassengerId\": 124, \"Survived\": 1, \"Pclass\": 2, \"Name\": \"Webber, Miss. Susan\", \"Sex\": \"female\", \"Age\": 32.5, \"SibSp\": 0, \"Parch\": 0, \"Ticket\": \"27267\", \"Fare\": 13.0, \"Cabin\": \"E101\", \"Embarked\": \"S\"}, {\"PassengerId\": 125, \"Survived\": 0, \"Pclass\": 1, \"Name\": \"White, Mr. Percival Wayland\", \"Sex\": \"male\", \"Age\": 54.0, \"SibSp\": 0, \"Parch\": 1, \"Ticket\": \"35281\", \"Fare\": 77.2875, \"Cabin\": \"D26\", \"Embarked\": \"S\"}, {\"PassengerId\": 126, \"Survived\": 1, \"Pclass\": 3, \"Name\": \"Nicola-Yarred, Master. Elias\", \"Sex\": \"male\", \"Age\": 12.0, \"SibSp\": 1, \"Parch\": 0, \"Ticket\": \"2651\", \"Fare\": 11.2417, \"Cabin\": null, \"Embarked\": \"C\"}, {\"PassengerId\": 127, \"Survived\": 0, \"Pclass\": 3, \"Name\": \"McMahon, Mr. Martin\", \"Sex\": \"male\", \"Age\": null, \"SibSp\": 0, \"Parch\": 0, \"Ticket\": \"370372\", \"Fare\": 7.75, \"Cabin\": null, \"Embarked\": \"Q\"}, {\"PassengerId\": 128, \"Survived\": 1, \"Pclass\": 3, \"Name\": \"Madsen, Mr. Fridtjof Arne\", \"Sex\": \"male\", \"Age\": 24.0, \"SibSp\": 0, \"Parch\": 0, \"Ticket\": \"C 17369\", \"Fare\": 7.1417, \"Cabin\": null, \"Embarked\": \"S\"}, {\"PassengerId\": 129, \"Survived\": 1, \"Pclass\": 3, \"Name\": \"Peter, Miss. Anna\", \"Sex\": \"female\", \"Age\": null, \"SibSp\": 1, \"Parch\": 1, \"Ticket\": \"2668\", \"Fare\": 22.3583, \"Cabin\": \"F E69\", \"Embarked\": \"C\"}, {\"PassengerId\": 130, \"Survived\": 0, \"Pclass\": 3, \"Name\": \"Ekstrom, Mr. Johan\", \"Sex\": \"male\", \"Age\": 45.0, \"SibSp\": 0, \"Parch\": 0, \"Ticket\": \"347061\", \"Fare\": 6.975, \"Cabin\": null, \"Embarked\": \"S\"}, {\"PassengerId\": 131, \"Survived\": 0, \"Pclass\": 3, \"Name\": \"Drazenoic, Mr. Jozef\", \"Sex\": \"male\", \"Age\": 33.0, \"SibSp\": 0, \"Parch\": 0, \"Ticket\": \"349241\", \"Fare\": 7.8958, \"Cabin\": null, \"Embarked\": \"C\"}, {\"PassengerId\": 132, \"Survived\": 0, \"Pclass\": 3, \"Name\": \"Coelho, Mr. Domingos Fernandeo\", \"Sex\": \"male\", \"Age\": 20.0, \"SibSp\": 0, \"Parch\": 0, \"Ticket\": \"SOTON/O.Q. 3101307\", \"Fare\": 7.05, \"Cabin\": null, \"Embarked\": \"S\"}, {\"PassengerId\": 133, \"Survived\": 0, \"Pclass\": 3, \"Name\": \"Robins, Mrs. Alexander A (Grace Charity Laury)\", \"Sex\": \"female\", \"Age\": 47.0, \"SibSp\": 1, \"Parch\": 0, \"Ticket\": \"A/5. 3337\", \"Fare\": 14.5, \"Cabin\": null, \"Embarked\": \"S\"}, {\"PassengerId\": 134, \"Survived\": 1, \"Pclass\": 2, \"Name\": \"Weisz, Mrs. Leopold (Mathilde Francoise Pede)\", \"Sex\": \"female\", \"Age\": 29.0, \"SibSp\": 1, \"Parch\": 0, \"Ticket\": \"228414\", \"Fare\": 26.0, \"Cabin\": null, \"Embarked\": \"S\"}, {\"PassengerId\": 135, \"Survived\": 0, \"Pclass\": 2, \"Name\": \"Sobey, Mr. Samuel James Hayden\", \"Sex\": \"male\", \"Age\": 25.0, \"SibSp\": 0, \"Parch\": 0, \"Ticket\": \"C.A. 29178\", \"Fare\": 13.0, \"Cabin\": null, \"Embarked\": \"S\"}, {\"PassengerId\": 136, \"Survived\": 0, \"Pclass\": 2, \"Name\": \"Richard, Mr. Emile\", \"Sex\": \"male\", \"Age\": 23.0, \"SibSp\": 0, \"Parch\": 0, \"Ticket\": \"SC/PARIS 2133\", \"Fare\": 15.0458, \"Cabin\": null, \"Embarked\": \"C\"}, {\"PassengerId\": 137, \"Survived\": 1, \"Pclass\": 1, \"Name\": \"Newsom, Miss. Helen Monypeny\", \"Sex\": \"female\", \"Age\": 19.0, \"SibSp\": 0, \"Parch\": 2, \"Ticket\": \"11752\", \"Fare\": 26.2833, \"Cabin\": \"D47\", \"Embarked\": \"S\"}, {\"PassengerId\": 138, \"Survived\": 0, \"Pclass\": 1, \"Name\": \"Futrelle, Mr. Jacques Heath\", \"Sex\": \"male\", \"Age\": 37.0, \"SibSp\": 1, \"Parch\": 0, \"Ticket\": \"113803\", \"Fare\": 53.1, \"Cabin\": \"C123\", \"Embarked\": \"S\"}, {\"PassengerId\": 139, \"Survived\": 0, \"Pclass\": 3, \"Name\": \"Osen, Mr. Olaf Elon\", \"Sex\": \"male\", \"Age\": 16.0, \"SibSp\": 0, \"Parch\": 0, \"Ticket\": \"7534\", \"Fare\": 9.2167, \"Cabin\": null, \"Embarked\": \"S\"}, {\"PassengerId\": 140, \"Survived\": 0, \"Pclass\": 1, \"Name\": \"Giglio, Mr. Victor\", \"Sex\": \"male\", \"Age\": 24.0, \"SibSp\": 0, \"Parch\": 0, \"Ticket\": \"PC 17593\", \"Fare\": 79.2, \"Cabin\": \"B86\", \"Embarked\": \"C\"}, {\"PassengerId\": 141, \"Survived\": 0, \"Pclass\": 3, \"Name\": \"Boulos, Mrs. Joseph (Sultana)\", \"Sex\": \"female\", \"Age\": null, \"SibSp\": 0, \"Parch\": 2, \"Ticket\": \"2678\", \"Fare\": 15.2458, \"Cabin\": null, \"Embarked\": \"C\"}, {\"PassengerId\": 142, \"Survived\": 1, \"Pclass\": 3, \"Name\": \"Nysten, Miss. Anna Sofia\", \"Sex\": \"female\", \"Age\": 22.0, \"SibSp\": 0, \"Parch\": 0, \"Ticket\": \"347081\", \"Fare\": 7.75, \"Cabin\": null, \"Embarked\": \"S\"}, {\"PassengerId\": 143, \"Survived\": 1, \"Pclass\": 3, \"Name\": \"Hakkarainen, Mrs. Pekka Pietari (Elin Matilda Dolck)\", \"Sex\": \"female\", \"Age\": 24.0, \"SibSp\": 1, \"Parch\": 0, \"Ticket\": \"STON/O2. 3101279\", \"Fare\": 15.85, \"Cabin\": null, \"Embarked\": \"S\"}, {\"PassengerId\": 144, \"Survived\": 0, \"Pclass\": 3, \"Name\": \"Burke, Mr. Jeremiah\", \"Sex\": \"male\", \"Age\": 19.0, \"SibSp\": 0, \"Parch\": 0, \"Ticket\": \"365222\", \"Fare\": 6.75, \"Cabin\": null, \"Embarked\": \"Q\"}, {\"PassengerId\": 145, \"Survived\": 0, \"Pclass\": 2, \"Name\": \"Andrew, Mr. Edgardo Samuel\", \"Sex\": \"male\", \"Age\": 18.0, \"SibSp\": 0, \"Parch\": 0, \"Ticket\": \"231945\", \"Fare\": 11.5, \"Cabin\": null, \"Embarked\": \"S\"}, {\"PassengerId\": 146, \"Survived\": 0, \"Pclass\": 2, \"Name\": \"Nicholls, Mr. Joseph Charles\", \"Sex\": \"male\", \"Age\": 19.0, \"SibSp\": 1, \"Parch\": 1, \"Ticket\": \"C.A. 33112\", \"Fare\": 36.75, \"Cabin\": null, \"Embarked\": \"S\"}, {\"PassengerId\": 147, \"Survived\": 1, \"Pclass\": 3, \"Name\": \"Andersson, Mr. August Edvard (\\\"Wennerstrom\\\")\", \"Sex\": \"male\", \"Age\": 27.0, \"SibSp\": 0, \"Parch\": 0, \"Ticket\": \"350043\", \"Fare\": 7.7958, \"Cabin\": null, \"Embarked\": \"S\"}, {\"PassengerId\": 148, \"Survived\": 0, \"Pclass\": 3, \"Name\": \"Ford, Miss. Robina Maggie \\\"Ruby\\\"\", \"Sex\": \"female\", \"Age\": 9.0, \"SibSp\": 2, \"Parch\": 2, \"Ticket\": \"W./C. 6608\", \"Fare\": 34.375, \"Cabin\": null, \"Embarked\": \"S\"}, {\"PassengerId\": 149, \"Survived\": 0, \"Pclass\": 2, \"Name\": \"Navratil, Mr. Michel (\\\"Louis M Hoffman\\\")\", \"Sex\": \"male\", \"Age\": 36.5, \"SibSp\": 0, \"Parch\": 2, \"Ticket\": \"230080\", \"Fare\": 26.0, \"Cabin\": \"F2\", \"Embarked\": \"S\"}, {\"PassengerId\": 150, \"Survived\": 0, \"Pclass\": 2, \"Name\": \"Byles, Rev. Thomas Roussel Davids\", \"Sex\": \"male\", \"Age\": 42.0, \"SibSp\": 0, \"Parch\": 0, \"Ticket\": \"244310\", \"Fare\": 13.0, \"Cabin\": null, \"Embarked\": \"S\"}, {\"PassengerId\": 151, \"Survived\": 0, \"Pclass\": 2, \"Name\": \"Bateman, Rev. Robert James\", \"Sex\": \"male\", \"Age\": 51.0, \"SibSp\": 0, \"Parch\": 0, \"Ticket\": \"S.O.P. 1166\", \"Fare\": 12.525, \"Cabin\": null, \"Embarked\": \"S\"}, {\"PassengerId\": 152, \"Survived\": 1, \"Pclass\": 1, \"Name\": \"Pears, Mrs. Thomas (Edith Wearne)\", \"Sex\": \"female\", \"Age\": 22.0, \"SibSp\": 1, \"Parch\": 0, \"Ticket\": \"113776\", \"Fare\": 66.6, \"Cabin\": \"C2\", \"Embarked\": \"S\"}, {\"PassengerId\": 153, \"Survived\": 0, \"Pclass\": 3, \"Name\": \"Meo, Mr. Alfonzo\", \"Sex\": \"male\", \"Age\": 55.5, \"SibSp\": 0, \"Parch\": 0, \"Ticket\": \"A.5. 11206\", \"Fare\": 8.05, \"Cabin\": null, \"Embarked\": \"S\"}, {\"PassengerId\": 154, \"Survived\": 0, \"Pclass\": 3, \"Name\": \"van Billiard, Mr. Austin Blyler\", \"Sex\": \"male\", \"Age\": 40.5, \"SibSp\": 0, \"Parch\": 2, \"Ticket\": \"A/5. 851\", \"Fare\": 14.5, \"Cabin\": null, \"Embarked\": \"S\"}, {\"PassengerId\": 155, \"Survived\": 0, \"Pclass\": 3, \"Name\": \"Olsen, Mr. Ole Martin\", \"Sex\": \"male\", \"Age\": null, \"SibSp\": 0, \"Parch\": 0, \"Ticket\": \"Fa 265302\", \"Fare\": 7.3125, \"Cabin\": null, \"Embarked\": \"S\"}, {\"PassengerId\": 156, \"Survived\": 0, \"Pclass\": 1, \"Name\": \"Williams, Mr. Charles Duane\", \"Sex\": \"male\", \"Age\": 51.0, \"SibSp\": 0, \"Parch\": 1, \"Ticket\": \"PC 17597\", \"Fare\": 61.3792, \"Cabin\": null, \"Embarked\": \"C\"}, {\"PassengerId\": 157, \"Survived\": 1, \"Pclass\": 3, \"Name\": \"Gilnagh, Miss. Katherine \\\"Katie\\\"\", \"Sex\": \"female\", \"Age\": 16.0, \"SibSp\": 0, \"Parch\": 0, \"Ticket\": \"35851\", \"Fare\": 7.7333, \"Cabin\": null, \"Embarked\": \"Q\"}, {\"PassengerId\": 158, \"Survived\": 0, \"Pclass\": 3, \"Name\": \"Corn, Mr. Harry\", \"Sex\": \"male\", \"Age\": 30.0, \"SibSp\": 0, \"Parch\": 0, \"Ticket\": \"SOTON/OQ 392090\", \"Fare\": 8.05, \"Cabin\": null, \"Embarked\": \"S\"}, {\"PassengerId\": 159, \"Survived\": 0, \"Pclass\": 3, \"Name\": \"Smiljanic, Mr. Mile\", \"Sex\": \"male\", \"Age\": null, \"SibSp\": 0, \"Parch\": 0, \"Ticket\": \"315037\", \"Fare\": 8.6625, \"Cabin\": null, \"Embarked\": \"S\"}, {\"PassengerId\": 160, \"Survived\": 0, \"Pclass\": 3, \"Name\": \"Sage, Master. Thomas Henry\", \"Sex\": \"male\", \"Age\": null, \"SibSp\": 8, \"Parch\": 2, \"Ticket\": \"CA. 2343\", \"Fare\": 69.55, \"Cabin\": null, \"Embarked\": \"S\"}, {\"PassengerId\": 161, \"Survived\": 0, \"Pclass\": 3, \"Name\": \"Cribb, Mr. John Hatfield\", \"Sex\": \"male\", \"Age\": 44.0, \"SibSp\": 0, \"Parch\": 1, \"Ticket\": \"371362\", \"Fare\": 16.1, \"Cabin\": null, \"Embarked\": \"S\"}, {\"PassengerId\": 162, \"Survived\": 1, \"Pclass\": 2, \"Name\": \"Watt, Mrs. James (Elizabeth \\\"Bessie\\\" Inglis Milne)\", \"Sex\": \"female\", \"Age\": 40.0, \"SibSp\": 0, \"Parch\": 0, \"Ticket\": \"C.A. 33595\", \"Fare\": 15.75, \"Cabin\": null, \"Embarked\": \"S\"}, {\"PassengerId\": 163, \"Survived\": 0, \"Pclass\": 3, \"Name\": \"Bengtsson, Mr. John Viktor\", \"Sex\": \"male\", \"Age\": 26.0, \"SibSp\": 0, \"Parch\": 0, \"Ticket\": \"347068\", \"Fare\": 7.775, \"Cabin\": null, \"Embarked\": \"S\"}, {\"PassengerId\": 164, \"Survived\": 0, \"Pclass\": 3, \"Name\": \"Calic, Mr. Jovo\", \"Sex\": \"male\", \"Age\": 17.0, \"SibSp\": 0, \"Parch\": 0, \"Ticket\": \"315093\", \"Fare\": 8.6625, \"Cabin\": null, \"Embarked\": \"S\"}, {\"PassengerId\": 165, \"Survived\": 0, \"Pclass\": 3, \"Name\": \"Panula, Master. Eino Viljami\", \"Sex\": \"male\", \"Age\": 1.0, \"SibSp\": 4, \"Parch\": 1, \"Ticket\": \"3101295\", \"Fare\": 39.6875, \"Cabin\": null, \"Embarked\": \"S\"}, {\"PassengerId\": 166, \"Survived\": 1, \"Pclass\": 3, \"Name\": \"Goldsmith, Master. Frank John William \\\"Frankie\\\"\", \"Sex\": \"male\", \"Age\": 9.0, \"SibSp\": 0, \"Parch\": 2, \"Ticket\": \"363291\", \"Fare\": 20.525, \"Cabin\": null, \"Embarked\": \"S\"}, {\"PassengerId\": 167, \"Survived\": 1, \"Pclass\": 1, \"Name\": \"Chibnall, Mrs. (Edith Martha Bowerman)\", \"Sex\": \"female\", \"Age\": null, \"SibSp\": 0, \"Parch\": 1, \"Ticket\": \"113505\", \"Fare\": 55.0, \"Cabin\": \"E33\", \"Embarked\": \"S\"}, {\"PassengerId\": 168, \"Survived\": 0, \"Pclass\": 3, \"Name\": \"Skoog, Mrs. William (Anna Bernhardina Karlsson)\", \"Sex\": \"female\", \"Age\": 45.0, \"SibSp\": 1, \"Parch\": 4, \"Ticket\": \"347088\", \"Fare\": 27.9, \"Cabin\": null, \"Embarked\": \"S\"}, {\"PassengerId\": 169, \"Survived\": 0, \"Pclass\": 1, \"Name\": \"Baumann, Mr. John D\", \"Sex\": \"male\", \"Age\": null, \"SibSp\": 0, \"Parch\": 0, \"Ticket\": \"PC 17318\", \"Fare\": 25.925, \"Cabin\": null, \"Embarked\": \"S\"}, {\"PassengerId\": 170, \"Survived\": 0, \"Pclass\": 3, \"Name\": \"Ling, Mr. Lee\", \"Sex\": \"male\", \"Age\": 28.0, \"SibSp\": 0, \"Parch\": 0, \"Ticket\": \"1601\", \"Fare\": 56.4958, \"Cabin\": null, \"Embarked\": \"S\"}, {\"PassengerId\": 171, \"Survived\": 0, \"Pclass\": 1, \"Name\": \"Van der hoef, Mr. Wyckoff\", \"Sex\": \"male\", \"Age\": 61.0, \"SibSp\": 0, \"Parch\": 0, \"Ticket\": \"111240\", \"Fare\": 33.5, \"Cabin\": \"B19\", \"Embarked\": \"S\"}, {\"PassengerId\": 172, \"Survived\": 0, \"Pclass\": 3, \"Name\": \"Rice, Master. Arthur\", \"Sex\": \"male\", \"Age\": 4.0, \"SibSp\": 4, \"Parch\": 1, \"Ticket\": \"382652\", \"Fare\": 29.125, \"Cabin\": null, \"Embarked\": \"Q\"}, {\"PassengerId\": 173, \"Survived\": 1, \"Pclass\": 3, \"Name\": \"Johnson, Miss. Eleanor Ileen\", \"Sex\": \"female\", \"Age\": 1.0, \"SibSp\": 1, \"Parch\": 1, \"Ticket\": \"347742\", \"Fare\": 11.1333, \"Cabin\": null, \"Embarked\": \"S\"}, {\"PassengerId\": 174, \"Survived\": 0, \"Pclass\": 3, \"Name\": \"Sivola, Mr. Antti Wilhelm\", \"Sex\": \"male\", \"Age\": 21.0, \"SibSp\": 0, \"Parch\": 0, \"Ticket\": \"STON/O 2. 3101280\", \"Fare\": 7.925, \"Cabin\": null, \"Embarked\": \"S\"}, {\"PassengerId\": 175, \"Survived\": 0, \"Pclass\": 1, \"Name\": \"Smith, Mr. James Clinch\", \"Sex\": \"male\", \"Age\": 56.0, \"SibSp\": 0, \"Parch\": 0, \"Ticket\": \"17764\", \"Fare\": 30.6958, \"Cabin\": \"A7\", \"Embarked\": \"C\"}, {\"PassengerId\": 176, \"Survived\": 0, \"Pclass\": 3, \"Name\": \"Klasen, Mr. Klas Albin\", \"Sex\": \"male\", \"Age\": 18.0, \"SibSp\": 1, \"Parch\": 1, \"Ticket\": \"350404\", \"Fare\": 7.8542, \"Cabin\": null, \"Embarked\": \"S\"}, {\"PassengerId\": 177, \"Survived\": 0, \"Pclass\": 3, \"Name\": \"Lefebre, Master. Henry Forbes\", \"Sex\": \"male\", \"Age\": null, \"SibSp\": 3, \"Parch\": 1, \"Ticket\": \"4133\", \"Fare\": 25.4667, \"Cabin\": null, \"Embarked\": \"S\"}, {\"PassengerId\": 178, \"Survived\": 0, \"Pclass\": 1, \"Name\": \"Isham, Miss. Ann Elizabeth\", \"Sex\": \"female\", \"Age\": 50.0, \"SibSp\": 0, \"Parch\": 0, \"Ticket\": \"PC 17595\", \"Fare\": 28.7125, \"Cabin\": \"C49\", \"Embarked\": \"C\"}, {\"PassengerId\": 179, \"Survived\": 0, \"Pclass\": 2, \"Name\": \"Hale, Mr. Reginald\", \"Sex\": \"male\", \"Age\": 30.0, \"SibSp\": 0, \"Parch\": 0, \"Ticket\": \"250653\", \"Fare\": 13.0, \"Cabin\": null, \"Embarked\": \"S\"}, {\"PassengerId\": 180, \"Survived\": 0, \"Pclass\": 3, \"Name\": \"Leonard, Mr. Lionel\", \"Sex\": \"male\", \"Age\": 36.0, \"SibSp\": 0, \"Parch\": 0, \"Ticket\": \"LINE\", \"Fare\": 0.0, \"Cabin\": null, \"Embarked\": \"S\"}, {\"PassengerId\": 181, \"Survived\": 0, \"Pclass\": 3, \"Name\": \"Sage, Miss. Constance Gladys\", \"Sex\": \"female\", \"Age\": null, \"SibSp\": 8, \"Parch\": 2, \"Ticket\": \"CA. 2343\", \"Fare\": 69.55, \"Cabin\": null, \"Embarked\": \"S\"}, {\"PassengerId\": 182, \"Survived\": 0, \"Pclass\": 2, \"Name\": \"Pernot, Mr. Rene\", \"Sex\": \"male\", \"Age\": null, \"SibSp\": 0, \"Parch\": 0, \"Ticket\": \"SC/PARIS 2131\", \"Fare\": 15.05, \"Cabin\": null, \"Embarked\": \"C\"}, {\"PassengerId\": 183, \"Survived\": 0, \"Pclass\": 3, \"Name\": \"Asplund, Master. Clarence Gustaf Hugo\", \"Sex\": \"male\", \"Age\": 9.0, \"SibSp\": 4, \"Parch\": 2, \"Ticket\": \"347077\", \"Fare\": 31.3875, \"Cabin\": null, \"Embarked\": \"S\"}, {\"PassengerId\": 184, \"Survived\": 1, \"Pclass\": 2, \"Name\": \"Becker, Master. Richard F\", \"Sex\": \"male\", \"Age\": 1.0, \"SibSp\": 2, \"Parch\": 1, \"Ticket\": \"230136\", \"Fare\": 39.0, \"Cabin\": \"F4\", \"Embarked\": \"S\"}, {\"PassengerId\": 185, \"Survived\": 1, \"Pclass\": 3, \"Name\": \"Kink-Heilmann, Miss. Luise Gretchen\", \"Sex\": \"female\", \"Age\": 4.0, \"SibSp\": 0, \"Parch\": 2, \"Ticket\": \"315153\", \"Fare\": 22.025, \"Cabin\": null, \"Embarked\": \"S\"}, {\"PassengerId\": 186, \"Survived\": 0, \"Pclass\": 1, \"Name\": \"Rood, Mr. Hugh Roscoe\", \"Sex\": \"male\", \"Age\": null, \"SibSp\": 0, \"Parch\": 0, \"Ticket\": \"113767\", \"Fare\": 50.0, \"Cabin\": \"A32\", \"Embarked\": \"S\"}, {\"PassengerId\": 187, \"Survived\": 1, \"Pclass\": 3, \"Name\": \"O'Brien, Mrs. Thomas (Johanna \\\"Hannah\\\" Godfrey)\", \"Sex\": \"female\", \"Age\": null, \"SibSp\": 1, \"Parch\": 0, \"Ticket\": \"370365\", \"Fare\": 15.5, \"Cabin\": null, \"Embarked\": \"Q\"}, {\"PassengerId\": 188, \"Survived\": 1, \"Pclass\": 1, \"Name\": \"Romaine, Mr. Charles Hallace (\\\"Mr C Rolmane\\\")\", \"Sex\": \"male\", \"Age\": 45.0, \"SibSp\": 0, \"Parch\": 0, \"Ticket\": \"111428\", \"Fare\": 26.55, \"Cabin\": null, \"Embarked\": \"S\"}, {\"PassengerId\": 189, \"Survived\": 0, \"Pclass\": 3, \"Name\": \"Bourke, Mr. John\", \"Sex\": \"male\", \"Age\": 40.0, \"SibSp\": 1, \"Parch\": 1, \"Ticket\": \"364849\", \"Fare\": 15.5, \"Cabin\": null, \"Embarked\": \"Q\"}, {\"PassengerId\": 190, \"Survived\": 0, \"Pclass\": 3, \"Name\": \"Turcin, Mr. Stjepan\", \"Sex\": \"male\", \"Age\": 36.0, \"SibSp\": 0, \"Parch\": 0, \"Ticket\": \"349247\", \"Fare\": 7.8958, \"Cabin\": null, \"Embarked\": \"S\"}, {\"PassengerId\": 191, \"Survived\": 1, \"Pclass\": 2, \"Name\": \"Pinsky, Mrs. (Rosa)\", \"Sex\": \"female\", \"Age\": 32.0, \"SibSp\": 0, \"Parch\": 0, \"Ticket\": \"234604\", \"Fare\": 13.0, \"Cabin\": null, \"Embarked\": \"S\"}, {\"PassengerId\": 192, \"Survived\": 0, \"Pclass\": 2, \"Name\": \"Carbines, Mr. William\", \"Sex\": \"male\", \"Age\": 19.0, \"SibSp\": 0, \"Parch\": 0, \"Ticket\": \"28424\", \"Fare\": 13.0, \"Cabin\": null, \"Embarked\": \"S\"}, {\"PassengerId\": 193, \"Survived\": 1, \"Pclass\": 3, \"Name\": \"Andersen-Jensen, Miss. Carla Christine Nielsine\", \"Sex\": \"female\", \"Age\": 19.0, \"SibSp\": 1, \"Parch\": 0, \"Ticket\": \"350046\", \"Fare\": 7.8542, \"Cabin\": null, \"Embarked\": \"S\"}, {\"PassengerId\": 194, \"Survived\": 1, \"Pclass\": 2, \"Name\": \"Navratil, Master. Michel M\", \"Sex\": \"male\", \"Age\": 3.0, \"SibSp\": 1, \"Parch\": 1, \"Ticket\": \"230080\", \"Fare\": 26.0, \"Cabin\": \"F2\", \"Embarked\": \"S\"}, {\"PassengerId\": 195, \"Survived\": 1, \"Pclass\": 1, \"Name\": \"Brown, Mrs. James Joseph (Margaret Tobin)\", \"Sex\": \"female\", \"Age\": 44.0, \"SibSp\": 0, \"Parch\": 0, \"Ticket\": \"PC 17610\", \"Fare\": 27.7208, \"Cabin\": \"B4\", \"Embarked\": \"C\"}, {\"PassengerId\": 196, \"Survived\": 1, \"Pclass\": 1, \"Name\": \"Lurette, Miss. Elise\", \"Sex\": \"female\", \"Age\": 58.0, \"SibSp\": 0, \"Parch\": 0, \"Ticket\": \"PC 17569\", \"Fare\": 146.5208, \"Cabin\": \"B80\", \"Embarked\": \"C\"}, {\"PassengerId\": 197, \"Survived\": 0, \"Pclass\": 3, \"Name\": \"Mernagh, Mr. Robert\", \"Sex\": \"male\", \"Age\": null, \"SibSp\": 0, \"Parch\": 0, \"Ticket\": \"368703\", \"Fare\": 7.75, \"Cabin\": null, \"Embarked\": \"Q\"}, {\"PassengerId\": 198, \"Survived\": 0, \"Pclass\": 3, \"Name\": \"Olsen, Mr. Karl Siegwart Andreas\", \"Sex\": \"male\", \"Age\": 42.0, \"SibSp\": 0, \"Parch\": 1, \"Ticket\": \"4579\", \"Fare\": 8.4042, \"Cabin\": null, \"Embarked\": \"S\"}, {\"PassengerId\": 199, \"Survived\": 1, \"Pclass\": 3, \"Name\": \"Madigan, Miss. Margaret \\\"Maggie\\\"\", \"Sex\": \"female\", \"Age\": null, \"SibSp\": 0, \"Parch\": 0, \"Ticket\": \"370370\", \"Fare\": 7.75, \"Cabin\": null, \"Embarked\": \"Q\"}, {\"PassengerId\": 200, \"Survived\": 0, \"Pclass\": 2, \"Name\": \"Yrois, Miss. Henriette (\\\"Mrs Harbeck\\\")\", \"Sex\": \"female\", \"Age\": 24.0, \"SibSp\": 0, \"Parch\": 0, \"Ticket\": \"248747\", \"Fare\": 13.0, \"Cabin\": null, \"Embarked\": \"S\"}, {\"PassengerId\": 201, \"Survived\": 0, \"Pclass\": 3, \"Name\": \"Vande Walle, Mr. Nestor Cyriel\", \"Sex\": \"male\", \"Age\": 28.0, \"SibSp\": 0, \"Parch\": 0, \"Ticket\": \"345770\", \"Fare\": 9.5, \"Cabin\": null, \"Embarked\": \"S\"}, {\"PassengerId\": 202, \"Survived\": 0, \"Pclass\": 3, \"Name\": \"Sage, Mr. Frederick\", \"Sex\": \"male\", \"Age\": null, \"SibSp\": 8, \"Parch\": 2, \"Ticket\": \"CA. 2343\", \"Fare\": 69.55, \"Cabin\": null, \"Embarked\": \"S\"}, {\"PassengerId\": 203, \"Survived\": 0, \"Pclass\": 3, \"Name\": \"Johanson, Mr. Jakob Alfred\", \"Sex\": \"male\", \"Age\": 34.0, \"SibSp\": 0, \"Parch\": 0, \"Ticket\": \"3101264\", \"Fare\": 6.4958, \"Cabin\": null, \"Embarked\": \"S\"}, {\"PassengerId\": 204, \"Survived\": 0, \"Pclass\": 3, \"Name\": \"Youseff, Mr. Gerious\", \"Sex\": \"male\", \"Age\": 45.5, \"SibSp\": 0, \"Parch\": 0, \"Ticket\": \"2628\", \"Fare\": 7.225, \"Cabin\": null, \"Embarked\": \"C\"}, {\"PassengerId\": 205, \"Survived\": 1, \"Pclass\": 3, \"Name\": \"Cohen, Mr. Gurshon \\\"Gus\\\"\", \"Sex\": \"male\", \"Age\": 18.0, \"SibSp\": 0, \"Parch\": 0, \"Ticket\": \"A/5 3540\", \"Fare\": 8.05, \"Cabin\": null, \"Embarked\": \"S\"}, {\"PassengerId\": 206, \"Survived\": 0, \"Pclass\": 3, \"Name\": \"Strom, Miss. Telma Matilda\", \"Sex\": \"female\", \"Age\": 2.0, \"SibSp\": 0, \"Parch\": 1, \"Ticket\": \"347054\", \"Fare\": 10.4625, \"Cabin\": \"G6\", \"Embarked\": \"S\"}, {\"PassengerId\": 207, \"Survived\": 0, \"Pclass\": 3, \"Name\": \"Backstrom, Mr. Karl Alfred\", \"Sex\": \"male\", \"Age\": 32.0, \"SibSp\": 1, \"Parch\": 0, \"Ticket\": \"3101278\", \"Fare\": 15.85, \"Cabin\": null, \"Embarked\": \"S\"}, {\"PassengerId\": 208, \"Survived\": 1, \"Pclass\": 3, \"Name\": \"Albimona, Mr. Nassef Cassem\", \"Sex\": \"male\", \"Age\": 26.0, \"SibSp\": 0, \"Parch\": 0, \"Ticket\": \"2699\", \"Fare\": 18.7875, \"Cabin\": null, \"Embarked\": \"C\"}, {\"PassengerId\": 209, \"Survived\": 1, \"Pclass\": 3, \"Name\": \"Carr, Miss. Helen \\\"Ellen\\\"\", \"Sex\": \"female\", \"Age\": 16.0, \"SibSp\": 0, \"Parch\": 0, \"Ticket\": \"367231\", \"Fare\": 7.75, \"Cabin\": null, \"Embarked\": \"Q\"}, {\"PassengerId\": 210, \"Survived\": 1, \"Pclass\": 1, \"Name\": \"Blank, Mr. Henry\", \"Sex\": \"male\", \"Age\": 40.0, \"SibSp\": 0, \"Parch\": 0, \"Ticket\": \"112277\", \"Fare\": 31.0, \"Cabin\": \"A31\", \"Embarked\": \"C\"}, {\"PassengerId\": 211, \"Survived\": 0, \"Pclass\": 3, \"Name\": \"Ali, Mr. Ahmed\", \"Sex\": \"male\", \"Age\": 24.0, \"SibSp\": 0, \"Parch\": 0, \"Ticket\": \"SOTON/O.Q. 3101311\", \"Fare\": 7.05, \"Cabin\": null, \"Embarked\": \"S\"}, {\"PassengerId\": 212, \"Survived\": 1, \"Pclass\": 2, \"Name\": \"Cameron, Miss. Clear Annie\", \"Sex\": \"female\", \"Age\": 35.0, \"SibSp\": 0, \"Parch\": 0, \"Ticket\": \"F.C.C. 13528\", \"Fare\": 21.0, \"Cabin\": null, \"Embarked\": \"S\"}, {\"PassengerId\": 213, \"Survived\": 0, \"Pclass\": 3, \"Name\": \"Perkin, Mr. John Henry\", \"Sex\": \"male\", \"Age\": 22.0, \"SibSp\": 0, \"Parch\": 0, \"Ticket\": \"A/5 21174\", \"Fare\": 7.25, \"Cabin\": null, \"Embarked\": \"S\"}, {\"PassengerId\": 214, \"Survived\": 0, \"Pclass\": 2, \"Name\": \"Givard, Mr. Hans Kristensen\", \"Sex\": \"male\", \"Age\": 30.0, \"SibSp\": 0, \"Parch\": 0, \"Ticket\": \"250646\", \"Fare\": 13.0, \"Cabin\": null, \"Embarked\": \"S\"}, {\"PassengerId\": 215, \"Survived\": 0, \"Pclass\": 3, \"Name\": \"Kiernan, Mr. Philip\", \"Sex\": \"male\", \"Age\": null, \"SibSp\": 1, \"Parch\": 0, \"Ticket\": \"367229\", \"Fare\": 7.75, \"Cabin\": null, \"Embarked\": \"Q\"}, {\"PassengerId\": 216, \"Survived\": 1, \"Pclass\": 1, \"Name\": \"Newell, Miss. Madeleine\", \"Sex\": \"female\", \"Age\": 31.0, \"SibSp\": 1, \"Parch\": 0, \"Ticket\": \"35273\", \"Fare\": 113.275, \"Cabin\": \"D36\", \"Embarked\": \"C\"}, {\"PassengerId\": 217, \"Survived\": 1, \"Pclass\": 3, \"Name\": \"Honkanen, Miss. Eliina\", \"Sex\": \"female\", \"Age\": 27.0, \"SibSp\": 0, \"Parch\": 0, \"Ticket\": \"STON/O2. 3101283\", \"Fare\": 7.925, \"Cabin\": null, \"Embarked\": \"S\"}, {\"PassengerId\": 218, \"Survived\": 0, \"Pclass\": 2, \"Name\": \"Jacobsohn, Mr. Sidney Samuel\", \"Sex\": \"male\", \"Age\": 42.0, \"SibSp\": 1, \"Parch\": 0, \"Ticket\": \"243847\", \"Fare\": 27.0, \"Cabin\": null, \"Embarked\": \"S\"}, {\"PassengerId\": 219, \"Survived\": 1, \"Pclass\": 1, \"Name\": \"Bazzani, Miss. Albina\", \"Sex\": \"female\", \"Age\": 32.0, \"SibSp\": 0, \"Parch\": 0, \"Ticket\": \"11813\", \"Fare\": 76.2917, \"Cabin\": \"D15\", \"Embarked\": \"C\"}, {\"PassengerId\": 220, \"Survived\": 0, \"Pclass\": 2, \"Name\": \"Harris, Mr. Walter\", \"Sex\": \"male\", \"Age\": 30.0, \"SibSp\": 0, \"Parch\": 0, \"Ticket\": \"W/C 14208\", \"Fare\": 10.5, \"Cabin\": null, \"Embarked\": \"S\"}, {\"PassengerId\": 221, \"Survived\": 1, \"Pclass\": 3, \"Name\": \"Sunderland, Mr. Victor Francis\", \"Sex\": \"male\", \"Age\": 16.0, \"SibSp\": 0, \"Parch\": 0, \"Ticket\": \"SOTON/OQ 392089\", \"Fare\": 8.05, \"Cabin\": null, \"Embarked\": \"S\"}, {\"PassengerId\": 222, \"Survived\": 0, \"Pclass\": 2, \"Name\": \"Bracken, Mr. James H\", \"Sex\": \"male\", \"Age\": 27.0, \"SibSp\": 0, \"Parch\": 0, \"Ticket\": \"220367\", \"Fare\": 13.0, \"Cabin\": null, \"Embarked\": \"S\"}, {\"PassengerId\": 223, \"Survived\": 0, \"Pclass\": 3, \"Name\": \"Green, Mr. George Henry\", \"Sex\": \"male\", \"Age\": 51.0, \"SibSp\": 0, \"Parch\": 0, \"Ticket\": \"21440\", \"Fare\": 8.05, \"Cabin\": null, \"Embarked\": \"S\"}, {\"PassengerId\": 224, \"Survived\": 0, \"Pclass\": 3, \"Name\": \"Nenkoff, Mr. Christo\", \"Sex\": \"male\", \"Age\": null, \"SibSp\": 0, \"Parch\": 0, \"Ticket\": \"349234\", \"Fare\": 7.8958, \"Cabin\": null, \"Embarked\": \"S\"}, {\"PassengerId\": 225, \"Survived\": 1, \"Pclass\": 1, \"Name\": \"Hoyt, Mr. Frederick Maxfield\", \"Sex\": \"male\", \"Age\": 38.0, \"SibSp\": 1, \"Parch\": 0, \"Ticket\": \"19943\", \"Fare\": 90.0, \"Cabin\": \"C93\", \"Embarked\": \"S\"}, {\"PassengerId\": 226, \"Survived\": 0, \"Pclass\": 3, \"Name\": \"Berglund, Mr. Karl Ivar Sven\", \"Sex\": \"male\", \"Age\": 22.0, \"SibSp\": 0, \"Parch\": 0, \"Ticket\": \"PP 4348\", \"Fare\": 9.35, \"Cabin\": null, \"Embarked\": \"S\"}, {\"PassengerId\": 227, \"Survived\": 1, \"Pclass\": 2, \"Name\": \"Mellors, Mr. William John\", \"Sex\": \"male\", \"Age\": 19.0, \"SibSp\": 0, \"Parch\": 0, \"Ticket\": \"SW/PP 751\", \"Fare\": 10.5, \"Cabin\": null, \"Embarked\": \"S\"}, {\"PassengerId\": 228, \"Survived\": 0, \"Pclass\": 3, \"Name\": \"Lovell, Mr. John Hall (\\\"Henry\\\")\", \"Sex\": \"male\", \"Age\": 20.5, \"SibSp\": 0, \"Parch\": 0, \"Ticket\": \"A/5 21173\", \"Fare\": 7.25, \"Cabin\": null, \"Embarked\": \"S\"}, {\"PassengerId\": 229, \"Survived\": 0, \"Pclass\": 2, \"Name\": \"Fahlstrom, Mr. Arne Jonas\", \"Sex\": \"male\", \"Age\": 18.0, \"SibSp\": 0, \"Parch\": 0, \"Ticket\": \"236171\", \"Fare\": 13.0, \"Cabin\": null, \"Embarked\": \"S\"}, {\"PassengerId\": 230, \"Survived\": 0, \"Pclass\": 3, \"Name\": \"Lefebre, Miss. Mathilde\", \"Sex\": \"female\", \"Age\": null, \"SibSp\": 3, \"Parch\": 1, \"Ticket\": \"4133\", \"Fare\": 25.4667, \"Cabin\": null, \"Embarked\": \"S\"}, {\"PassengerId\": 231, \"Survived\": 1, \"Pclass\": 1, \"Name\": \"Harris, Mrs. Henry Birkhardt (Irene Wallach)\", \"Sex\": \"female\", \"Age\": 35.0, \"SibSp\": 1, \"Parch\": 0, \"Ticket\": \"36973\", \"Fare\": 83.475, \"Cabin\": \"C83\", \"Embarked\": \"S\"}, {\"PassengerId\": 232, \"Survived\": 0, \"Pclass\": 3, \"Name\": \"Larsson, Mr. Bengt Edvin\", \"Sex\": \"male\", \"Age\": 29.0, \"SibSp\": 0, \"Parch\": 0, \"Ticket\": \"347067\", \"Fare\": 7.775, \"Cabin\": null, \"Embarked\": \"S\"}, {\"PassengerId\": 233, \"Survived\": 0, \"Pclass\": 2, \"Name\": \"Sjostedt, Mr. Ernst Adolf\", \"Sex\": \"male\", \"Age\": 59.0, \"SibSp\": 0, \"Parch\": 0, \"Ticket\": \"237442\", \"Fare\": 13.5, \"Cabin\": null, \"Embarked\": \"S\"}, {\"PassengerId\": 234, \"Survived\": 1, \"Pclass\": 3, \"Name\": \"Asplund, Miss. Lillian Gertrud\", \"Sex\": \"female\", \"Age\": 5.0, \"SibSp\": 4, \"Parch\": 2, \"Ticket\": \"347077\", \"Fare\": 31.3875, \"Cabin\": null, \"Embarked\": \"S\"}, {\"PassengerId\": 235, \"Survived\": 0, \"Pclass\": 2, \"Name\": \"Leyson, Mr. Robert William Norman\", \"Sex\": \"male\", \"Age\": 24.0, \"SibSp\": 0, \"Parch\": 0, \"Ticket\": \"C.A. 29566\", \"Fare\": 10.5, \"Cabin\": null, \"Embarked\": \"S\"}, {\"PassengerId\": 236, \"Survived\": 0, \"Pclass\": 3, \"Name\": \"Harknett, Miss. Alice Phoebe\", \"Sex\": \"female\", \"Age\": null, \"SibSp\": 0, \"Parch\": 0, \"Ticket\": \"W./C. 6609\", \"Fare\": 7.55, \"Cabin\": null, \"Embarked\": \"S\"}, {\"PassengerId\": 237, \"Survived\": 0, \"Pclass\": 2, \"Name\": \"Hold, Mr. Stephen\", \"Sex\": \"male\", \"Age\": 44.0, \"SibSp\": 1, \"Parch\": 0, \"Ticket\": \"26707\", \"Fare\": 26.0, \"Cabin\": null, \"Embarked\": \"S\"}, {\"PassengerId\": 238, \"Survived\": 1, \"Pclass\": 2, \"Name\": \"Collyer, Miss. Marjorie \\\"Lottie\\\"\", \"Sex\": \"female\", \"Age\": 8.0, \"SibSp\": 0, \"Parch\": 2, \"Ticket\": \"C.A. 31921\", \"Fare\": 26.25, \"Cabin\": null, \"Embarked\": \"S\"}, {\"PassengerId\": 239, \"Survived\": 0, \"Pclass\": 2, \"Name\": \"Pengelly, Mr. Frederick William\", \"Sex\": \"male\", \"Age\": 19.0, \"SibSp\": 0, \"Parch\": 0, \"Ticket\": \"28665\", \"Fare\": 10.5, \"Cabin\": null, \"Embarked\": \"S\"}, {\"PassengerId\": 240, \"Survived\": 0, \"Pclass\": 2, \"Name\": \"Hunt, Mr. George Henry\", \"Sex\": \"male\", \"Age\": 33.0, \"SibSp\": 0, \"Parch\": 0, \"Ticket\": \"SCO/W 1585\", \"Fare\": 12.275, \"Cabin\": null, \"Embarked\": \"S\"}, {\"PassengerId\": 241, \"Survived\": 0, \"Pclass\": 3, \"Name\": \"Zabour, Miss. Thamine\", \"Sex\": \"female\", \"Age\": null, \"SibSp\": 1, \"Parch\": 0, \"Ticket\": \"2665\", \"Fare\": 14.4542, \"Cabin\": null, \"Embarked\": \"C\"}, {\"PassengerId\": 242, \"Survived\": 1, \"Pclass\": 3, \"Name\": \"Murphy, Miss. Katherine \\\"Kate\\\"\", \"Sex\": \"female\", \"Age\": null, \"SibSp\": 1, \"Parch\": 0, \"Ticket\": \"367230\", \"Fare\": 15.5, \"Cabin\": null, \"Embarked\": \"Q\"}, {\"PassengerId\": 243, \"Survived\": 0, \"Pclass\": 2, \"Name\": \"Coleridge, Mr. Reginald Charles\", \"Sex\": \"male\", \"Age\": 29.0, \"SibSp\": 0, \"Parch\": 0, \"Ticket\": \"W./C. 14263\", \"Fare\": 10.5, \"Cabin\": null, \"Embarked\": \"S\"}, {\"PassengerId\": 244, \"Survived\": 0, \"Pclass\": 3, \"Name\": \"Maenpaa, Mr. Matti Alexanteri\", \"Sex\": \"male\", \"Age\": 22.0, \"SibSp\": 0, \"Parch\": 0, \"Ticket\": \"STON/O 2. 3101275\", \"Fare\": 7.125, \"Cabin\": null, \"Embarked\": \"S\"}, {\"PassengerId\": 245, \"Survived\": 0, \"Pclass\": 3, \"Name\": \"Attalah, Mr. Sleiman\", \"Sex\": \"male\", \"Age\": 30.0, \"SibSp\": 0, \"Parch\": 0, \"Ticket\": \"2694\", \"Fare\": 7.225, \"Cabin\": null, \"Embarked\": \"C\"}, {\"PassengerId\": 246, \"Survived\": 0, \"Pclass\": 1, \"Name\": \"Minahan, Dr. William Edward\", \"Sex\": \"male\", \"Age\": 44.0, \"SibSp\": 2, \"Parch\": 0, \"Ticket\": \"19928\", \"Fare\": 90.0, \"Cabin\": \"C78\", \"Embarked\": \"Q\"}, {\"PassengerId\": 247, \"Survived\": 0, \"Pclass\": 3, \"Name\": \"Lindahl, Miss. Agda Thorilda Viktoria\", \"Sex\": \"female\", \"Age\": 25.0, \"SibSp\": 0, \"Parch\": 0, \"Ticket\": \"347071\", \"Fare\": 7.775, \"Cabin\": null, \"Embarked\": \"S\"}, {\"PassengerId\": 248, \"Survived\": 1, \"Pclass\": 2, \"Name\": \"Hamalainen, Mrs. William (Anna)\", \"Sex\": \"female\", \"Age\": 24.0, \"SibSp\": 0, \"Parch\": 2, \"Ticket\": \"250649\", \"Fare\": 14.5, \"Cabin\": null, \"Embarked\": \"S\"}, {\"PassengerId\": 249, \"Survived\": 1, \"Pclass\": 1, \"Name\": \"Beckwith, Mr. Richard Leonard\", \"Sex\": \"male\", \"Age\": 37.0, \"SibSp\": 1, \"Parch\": 1, \"Ticket\": \"11751\", \"Fare\": 52.5542, \"Cabin\": \"D35\", \"Embarked\": \"S\"}, {\"PassengerId\": 250, \"Survived\": 0, \"Pclass\": 2, \"Name\": \"Carter, Rev. Ernest Courtenay\", \"Sex\": \"male\", \"Age\": 54.0, \"SibSp\": 1, \"Parch\": 0, \"Ticket\": \"244252\", \"Fare\": 26.0, \"Cabin\": null, \"Embarked\": \"S\"}, {\"PassengerId\": 251, \"Survived\": 0, \"Pclass\": 3, \"Name\": \"Reed, Mr. James George\", \"Sex\": \"male\", \"Age\": null, \"SibSp\": 0, \"Parch\": 0, \"Ticket\": \"362316\", \"Fare\": 7.25, \"Cabin\": null, \"Embarked\": \"S\"}, {\"PassengerId\": 252, \"Survived\": 0, \"Pclass\": 3, \"Name\": \"Strom, Mrs. Wilhelm (Elna Matilda Persson)\", \"Sex\": \"female\", \"Age\": 29.0, \"SibSp\": 1, \"Parch\": 1, \"Ticket\": \"347054\", \"Fare\": 10.4625, \"Cabin\": \"G6\", \"Embarked\": \"S\"}, {\"PassengerId\": 253, \"Survived\": 0, \"Pclass\": 1, \"Name\": \"Stead, Mr. William Thomas\", \"Sex\": \"male\", \"Age\": 62.0, \"SibSp\": 0, \"Parch\": 0, \"Ticket\": \"113514\", \"Fare\": 26.55, \"Cabin\": \"C87\", \"Embarked\": \"S\"}, {\"PassengerId\": 254, \"Survived\": 0, \"Pclass\": 3, \"Name\": \"Lobb, Mr. William Arthur\", \"Sex\": \"male\", \"Age\": 30.0, \"SibSp\": 1, \"Parch\": 0, \"Ticket\": \"A/5. 3336\", \"Fare\": 16.1, \"Cabin\": null, \"Embarked\": \"S\"}, {\"PassengerId\": 255, \"Survived\": 0, \"Pclass\": 3, \"Name\": \"Rosblom, Mrs. Viktor (Helena Wilhelmina)\", \"Sex\": \"female\", \"Age\": 41.0, \"SibSp\": 0, \"Parch\": 2, \"Ticket\": \"370129\", \"Fare\": 20.2125, \"Cabin\": null, \"Embarked\": \"S\"}, {\"PassengerId\": 256, \"Survived\": 1, \"Pclass\": 3, \"Name\": \"Touma, Mrs. Darwis (Hanne Youssef Razi)\", \"Sex\": \"female\", \"Age\": 29.0, \"SibSp\": 0, \"Parch\": 2, \"Ticket\": \"2650\", \"Fare\": 15.2458, \"Cabin\": null, \"Embarked\": \"C\"}, {\"PassengerId\": 257, \"Survived\": 1, \"Pclass\": 1, \"Name\": \"Thorne, Mrs. Gertrude Maybelle\", \"Sex\": \"female\", \"Age\": null, \"SibSp\": 0, \"Parch\": 0, \"Ticket\": \"PC 17585\", \"Fare\": 79.2, \"Cabin\": null, \"Embarked\": \"C\"}, {\"PassengerId\": 258, \"Survived\": 1, \"Pclass\": 1, \"Name\": \"Cherry, Miss. Gladys\", \"Sex\": \"female\", \"Age\": 30.0, \"SibSp\": 0, \"Parch\": 0, \"Ticket\": \"110152\", \"Fare\": 86.5, \"Cabin\": \"B77\", \"Embarked\": \"S\"}, {\"PassengerId\": 259, \"Survived\": 1, \"Pclass\": 1, \"Name\": \"Ward, Miss. Anna\", \"Sex\": \"female\", \"Age\": 35.0, \"SibSp\": 0, \"Parch\": 0, \"Ticket\": \"PC 17755\", \"Fare\": 512.3292, \"Cabin\": null, \"Embarked\": \"C\"}, {\"PassengerId\": 260, \"Survived\": 1, \"Pclass\": 2, \"Name\": \"Parrish, Mrs. (Lutie Davis)\", \"Sex\": \"female\", \"Age\": 50.0, \"SibSp\": 0, \"Parch\": 1, \"Ticket\": \"230433\", \"Fare\": 26.0, \"Cabin\": null, \"Embarked\": \"S\"}, {\"PassengerId\": 261, \"Survived\": 0, \"Pclass\": 3, \"Name\": \"Smith, Mr. Thomas\", \"Sex\": \"male\", \"Age\": null, \"SibSp\": 0, \"Parch\": 0, \"Ticket\": \"384461\", \"Fare\": 7.75, \"Cabin\": null, \"Embarked\": \"Q\"}, {\"PassengerId\": 262, \"Survived\": 1, \"Pclass\": 3, \"Name\": \"Asplund, Master. Edvin Rojj Felix\", \"Sex\": \"male\", \"Age\": 3.0, \"SibSp\": 4, \"Parch\": 2, \"Ticket\": \"347077\", \"Fare\": 31.3875, \"Cabin\": null, \"Embarked\": \"S\"}, {\"PassengerId\": 263, \"Survived\": 0, \"Pclass\": 1, \"Name\": \"Taussig, Mr. Emil\", \"Sex\": \"male\", \"Age\": 52.0, \"SibSp\": 1, \"Parch\": 1, \"Ticket\": \"110413\", \"Fare\": 79.65, \"Cabin\": \"E67\", \"Embarked\": \"S\"}, {\"PassengerId\": 264, \"Survived\": 0, \"Pclass\": 1, \"Name\": \"Harrison, Mr. William\", \"Sex\": \"male\", \"Age\": 40.0, \"SibSp\": 0, \"Parch\": 0, \"Ticket\": \"112059\", \"Fare\": 0.0, \"Cabin\": \"B94\", \"Embarked\": \"S\"}, {\"PassengerId\": 265, \"Survived\": 0, \"Pclass\": 3, \"Name\": \"Henry, Miss. Delia\", \"Sex\": \"female\", \"Age\": null, \"SibSp\": 0, \"Parch\": 0, \"Ticket\": \"382649\", \"Fare\": 7.75, \"Cabin\": null, \"Embarked\": \"Q\"}, {\"PassengerId\": 266, \"Survived\": 0, \"Pclass\": 2, \"Name\": \"Reeves, Mr. David\", \"Sex\": \"male\", \"Age\": 36.0, \"SibSp\": 0, \"Parch\": 0, \"Ticket\": \"C.A. 17248\", \"Fare\": 10.5, \"Cabin\": null, \"Embarked\": \"S\"}, {\"PassengerId\": 267, \"Survived\": 0, \"Pclass\": 3, \"Name\": \"Panula, Mr. Ernesti Arvid\", \"Sex\": \"male\", \"Age\": 16.0, \"SibSp\": 4, \"Parch\": 1, \"Ticket\": \"3101295\", \"Fare\": 39.6875, \"Cabin\": null, \"Embarked\": \"S\"}, {\"PassengerId\": 268, \"Survived\": 1, \"Pclass\": 3, \"Name\": \"Persson, Mr. Ernst Ulrik\", \"Sex\": \"male\", \"Age\": 25.0, \"SibSp\": 1, \"Parch\": 0, \"Ticket\": \"347083\", \"Fare\": 7.775, \"Cabin\": null, \"Embarked\": \"S\"}, {\"PassengerId\": 269, \"Survived\": 1, \"Pclass\": 1, \"Name\": \"Graham, Mrs. William Thompson (Edith Junkins)\", \"Sex\": \"female\", \"Age\": 58.0, \"SibSp\": 0, \"Parch\": 1, \"Ticket\": \"PC 17582\", \"Fare\": 153.4625, \"Cabin\": \"C125\", \"Embarked\": \"S\"}, {\"PassengerId\": 270, \"Survived\": 1, \"Pclass\": 1, \"Name\": \"Bissette, Miss. Amelia\", \"Sex\": \"female\", \"Age\": 35.0, \"SibSp\": 0, \"Parch\": 0, \"Ticket\": \"PC 17760\", \"Fare\": 135.6333, \"Cabin\": \"C99\", \"Embarked\": \"S\"}, {\"PassengerId\": 271, \"Survived\": 0, \"Pclass\": 1, \"Name\": \"Cairns, Mr. Alexander\", \"Sex\": \"male\", \"Age\": null, \"SibSp\": 0, \"Parch\": 0, \"Ticket\": \"113798\", \"Fare\": 31.0, \"Cabin\": null, \"Embarked\": \"S\"}, {\"PassengerId\": 272, \"Survived\": 1, \"Pclass\": 3, \"Name\": \"Tornquist, Mr. William Henry\", \"Sex\": \"male\", \"Age\": 25.0, \"SibSp\": 0, \"Parch\": 0, \"Ticket\": \"LINE\", \"Fare\": 0.0, \"Cabin\": null, \"Embarked\": \"S\"}, {\"PassengerId\": 273, \"Survived\": 1, \"Pclass\": 2, \"Name\": \"Mellinger, Mrs. (Elizabeth Anne Maidment)\", \"Sex\": \"female\", \"Age\": 41.0, \"SibSp\": 0, \"Parch\": 1, \"Ticket\": \"250644\", \"Fare\": 19.5, \"Cabin\": null, \"Embarked\": \"S\"}, {\"PassengerId\": 274, \"Survived\": 0, \"Pclass\": 1, \"Name\": \"Natsch, Mr. Charles H\", \"Sex\": \"male\", \"Age\": 37.0, \"SibSp\": 0, \"Parch\": 1, \"Ticket\": \"PC 17596\", \"Fare\": 29.7, \"Cabin\": \"C118\", \"Embarked\": \"C\"}, {\"PassengerId\": 275, \"Survived\": 1, \"Pclass\": 3, \"Name\": \"Healy, Miss. Hanora \\\"Nora\\\"\", \"Sex\": \"female\", \"Age\": null, \"SibSp\": 0, \"Parch\": 0, \"Ticket\": \"370375\", \"Fare\": 7.75, \"Cabin\": null, \"Embarked\": \"Q\"}, {\"PassengerId\": 276, \"Survived\": 1, \"Pclass\": 1, \"Name\": \"Andrews, Miss. Kornelia Theodosia\", \"Sex\": \"female\", \"Age\": 63.0, \"SibSp\": 1, \"Parch\": 0, \"Ticket\": \"13502\", \"Fare\": 77.9583, \"Cabin\": \"D7\", \"Embarked\": \"S\"}, {\"PassengerId\": 277, \"Survived\": 0, \"Pclass\": 3, \"Name\": \"Lindblom, Miss. Augusta Charlotta\", \"Sex\": \"female\", \"Age\": 45.0, \"SibSp\": 0, \"Parch\": 0, \"Ticket\": \"347073\", \"Fare\": 7.75, \"Cabin\": null, \"Embarked\": \"S\"}, {\"PassengerId\": 278, \"Survived\": 0, \"Pclass\": 2, \"Name\": \"Parkes, Mr. Francis \\\"Frank\\\"\", \"Sex\": \"male\", \"Age\": null, \"SibSp\": 0, \"Parch\": 0, \"Ticket\": \"239853\", \"Fare\": 0.0, \"Cabin\": null, \"Embarked\": \"S\"}, {\"PassengerId\": 279, \"Survived\": 0, \"Pclass\": 3, \"Name\": \"Rice, Master. Eric\", \"Sex\": \"male\", \"Age\": 7.0, \"SibSp\": 4, \"Parch\": 1, \"Ticket\": \"382652\", \"Fare\": 29.125, \"Cabin\": null, \"Embarked\": \"Q\"}, {\"PassengerId\": 280, \"Survived\": 1, \"Pclass\": 3, \"Name\": \"Abbott, Mrs. Stanton (Rosa Hunt)\", \"Sex\": \"female\", \"Age\": 35.0, \"SibSp\": 1, \"Parch\": 1, \"Ticket\": \"C.A. 2673\", \"Fare\": 20.25, \"Cabin\": null, \"Embarked\": \"S\"}, {\"PassengerId\": 281, \"Survived\": 0, \"Pclass\": 3, \"Name\": \"Duane, Mr. Frank\", \"Sex\": \"male\", \"Age\": 65.0, \"SibSp\": 0, \"Parch\": 0, \"Ticket\": \"336439\", \"Fare\": 7.75, \"Cabin\": null, \"Embarked\": \"Q\"}, {\"PassengerId\": 282, \"Survived\": 0, \"Pclass\": 3, \"Name\": \"Olsson, Mr. Nils Johan Goransson\", \"Sex\": \"male\", \"Age\": 28.0, \"SibSp\": 0, \"Parch\": 0, \"Ticket\": \"347464\", \"Fare\": 7.8542, \"Cabin\": null, \"Embarked\": \"S\"}, {\"PassengerId\": 283, \"Survived\": 0, \"Pclass\": 3, \"Name\": \"de Pelsmaeker, Mr. Alfons\", \"Sex\": \"male\", \"Age\": 16.0, \"SibSp\": 0, \"Parch\": 0, \"Ticket\": \"345778\", \"Fare\": 9.5, \"Cabin\": null, \"Embarked\": \"S\"}, {\"PassengerId\": 284, \"Survived\": 1, \"Pclass\": 3, \"Name\": \"Dorking, Mr. Edward Arthur\", \"Sex\": \"male\", \"Age\": 19.0, \"SibSp\": 0, \"Parch\": 0, \"Ticket\": \"A/5. 10482\", \"Fare\": 8.05, \"Cabin\": null, \"Embarked\": \"S\"}, {\"PassengerId\": 285, \"Survived\": 0, \"Pclass\": 1, \"Name\": \"Smith, Mr. Richard William\", \"Sex\": \"male\", \"Age\": null, \"SibSp\": 0, \"Parch\": 0, \"Ticket\": \"113056\", \"Fare\": 26.0, \"Cabin\": \"A19\", \"Embarked\": \"S\"}, {\"PassengerId\": 286, \"Survived\": 0, \"Pclass\": 3, \"Name\": \"Stankovic, Mr. Ivan\", \"Sex\": \"male\", \"Age\": 33.0, \"SibSp\": 0, \"Parch\": 0, \"Ticket\": \"349239\", \"Fare\": 8.6625, \"Cabin\": null, \"Embarked\": \"C\"}, {\"PassengerId\": 287, \"Survived\": 1, \"Pclass\": 3, \"Name\": \"de Mulder, Mr. Theodore\", \"Sex\": \"male\", \"Age\": 30.0, \"SibSp\": 0, \"Parch\": 0, \"Ticket\": \"345774\", \"Fare\": 9.5, \"Cabin\": null, \"Embarked\": \"S\"}, {\"PassengerId\": 288, \"Survived\": 0, \"Pclass\": 3, \"Name\": \"Naidenoff, Mr. Penko\", \"Sex\": \"male\", \"Age\": 22.0, \"SibSp\": 0, \"Parch\": 0, \"Ticket\": \"349206\", \"Fare\": 7.8958, \"Cabin\": null, \"Embarked\": \"S\"}, {\"PassengerId\": 289, \"Survived\": 1, \"Pclass\": 2, \"Name\": \"Hosono, Mr. Masabumi\", \"Sex\": \"male\", \"Age\": 42.0, \"SibSp\": 0, \"Parch\": 0, \"Ticket\": \"237798\", \"Fare\": 13.0, \"Cabin\": null, \"Embarked\": \"S\"}, {\"PassengerId\": 290, \"Survived\": 1, \"Pclass\": 3, \"Name\": \"Connolly, Miss. Kate\", \"Sex\": \"female\", \"Age\": 22.0, \"SibSp\": 0, \"Parch\": 0, \"Ticket\": \"370373\", \"Fare\": 7.75, \"Cabin\": null, \"Embarked\": \"Q\"}, {\"PassengerId\": 291, \"Survived\": 1, \"Pclass\": 1, \"Name\": \"Barber, Miss. Ellen \\\"Nellie\\\"\", \"Sex\": \"female\", \"Age\": 26.0, \"SibSp\": 0, \"Parch\": 0, \"Ticket\": \"19877\", \"Fare\": 78.85, \"Cabin\": null, \"Embarked\": \"S\"}, {\"PassengerId\": 292, \"Survived\": 1, \"Pclass\": 1, \"Name\": \"Bishop, Mrs. Dickinson H (Helen Walton)\", \"Sex\": \"female\", \"Age\": 19.0, \"SibSp\": 1, \"Parch\": 0, \"Ticket\": \"11967\", \"Fare\": 91.0792, \"Cabin\": \"B49\", \"Embarked\": \"C\"}, {\"PassengerId\": 293, \"Survived\": 0, \"Pclass\": 2, \"Name\": \"Levy, Mr. Rene Jacques\", \"Sex\": \"male\", \"Age\": 36.0, \"SibSp\": 0, \"Parch\": 0, \"Ticket\": \"SC/Paris 2163\", \"Fare\": 12.875, \"Cabin\": \"D\", \"Embarked\": \"C\"}, {\"PassengerId\": 294, \"Survived\": 0, \"Pclass\": 3, \"Name\": \"Haas, Miss. Aloisia\", \"Sex\": \"female\", \"Age\": 24.0, \"SibSp\": 0, \"Parch\": 0, \"Ticket\": \"349236\", \"Fare\": 8.85, \"Cabin\": null, \"Embarked\": \"S\"}, {\"PassengerId\": 295, \"Survived\": 0, \"Pclass\": 3, \"Name\": \"Mineff, Mr. Ivan\", \"Sex\": \"male\", \"Age\": 24.0, \"SibSp\": 0, \"Parch\": 0, \"Ticket\": \"349233\", \"Fare\": 7.8958, \"Cabin\": null, \"Embarked\": \"S\"}, {\"PassengerId\": 296, \"Survived\": 0, \"Pclass\": 1, \"Name\": \"Lewy, Mr. Ervin G\", \"Sex\": \"male\", \"Age\": null, \"SibSp\": 0, \"Parch\": 0, \"Ticket\": \"PC 17612\", \"Fare\": 27.7208, \"Cabin\": null, \"Embarked\": \"C\"}, {\"PassengerId\": 297, \"Survived\": 0, \"Pclass\": 3, \"Name\": \"Hanna, Mr. Mansour\", \"Sex\": \"male\", \"Age\": 23.5, \"SibSp\": 0, \"Parch\": 0, \"Ticket\": \"2693\", \"Fare\": 7.2292, \"Cabin\": null, \"Embarked\": \"C\"}, {\"PassengerId\": 298, \"Survived\": 0, \"Pclass\": 1, \"Name\": \"Allison, Miss. Helen Loraine\", \"Sex\": \"female\", \"Age\": 2.0, \"SibSp\": 1, \"Parch\": 2, \"Ticket\": \"113781\", \"Fare\": 151.55, \"Cabin\": \"C22 C26\", \"Embarked\": \"S\"}, {\"PassengerId\": 299, \"Survived\": 1, \"Pclass\": 1, \"Name\": \"Saalfeld, Mr. Adolphe\", \"Sex\": \"male\", \"Age\": null, \"SibSp\": 0, \"Parch\": 0, \"Ticket\": \"19988\", \"Fare\": 30.5, \"Cabin\": \"C106\", \"Embarked\": \"S\"}, {\"PassengerId\": 300, \"Survived\": 1, \"Pclass\": 1, \"Name\": \"Baxter, Mrs. James (Helene DeLaudeniere Chaput)\", \"Sex\": \"female\", \"Age\": 50.0, \"SibSp\": 0, \"Parch\": 1, \"Ticket\": \"PC 17558\", \"Fare\": 247.5208, \"Cabin\": \"B58 B60\", \"Embarked\": \"C\"}, {\"PassengerId\": 301, \"Survived\": 1, \"Pclass\": 3, \"Name\": \"Kelly, Miss. Anna Katherine \\\"Annie Kate\\\"\", \"Sex\": \"female\", \"Age\": null, \"SibSp\": 0, \"Parch\": 0, \"Ticket\": \"9234\", \"Fare\": 7.75, \"Cabin\": null, \"Embarked\": \"Q\"}, {\"PassengerId\": 302, \"Survived\": 1, \"Pclass\": 3, \"Name\": \"McCoy, Mr. Bernard\", \"Sex\": \"male\", \"Age\": null, \"SibSp\": 2, \"Parch\": 0, \"Ticket\": \"367226\", \"Fare\": 23.25, \"Cabin\": null, \"Embarked\": \"Q\"}, {\"PassengerId\": 303, \"Survived\": 0, \"Pclass\": 3, \"Name\": \"Johnson, Mr. William Cahoone Jr\", \"Sex\": \"male\", \"Age\": 19.0, \"SibSp\": 0, \"Parch\": 0, \"Ticket\": \"LINE\", \"Fare\": 0.0, \"Cabin\": null, \"Embarked\": \"S\"}, {\"PassengerId\": 304, \"Survived\": 1, \"Pclass\": 2, \"Name\": \"Keane, Miss. Nora A\", \"Sex\": \"female\", \"Age\": null, \"SibSp\": 0, \"Parch\": 0, \"Ticket\": \"226593\", \"Fare\": 12.35, \"Cabin\": \"E101\", \"Embarked\": \"Q\"}, {\"PassengerId\": 305, \"Survived\": 0, \"Pclass\": 3, \"Name\": \"Williams, Mr. Howard Hugh \\\"Harry\\\"\", \"Sex\": \"male\", \"Age\": null, \"SibSp\": 0, \"Parch\": 0, \"Ticket\": \"A/5 2466\", \"Fare\": 8.05, \"Cabin\": null, \"Embarked\": \"S\"}, {\"PassengerId\": 306, \"Survived\": 1, \"Pclass\": 1, \"Name\": \"Allison, Master. Hudson Trevor\", \"Sex\": \"male\", \"Age\": 0.92, \"SibSp\": 1, \"Parch\": 2, \"Ticket\": \"113781\", \"Fare\": 151.55, \"Cabin\": \"C22 C26\", \"Embarked\": \"S\"}, {\"PassengerId\": 307, \"Survived\": 1, \"Pclass\": 1, \"Name\": \"Fleming, Miss. Margaret\", \"Sex\": \"female\", \"Age\": null, \"SibSp\": 0, \"Parch\": 0, \"Ticket\": \"17421\", \"Fare\": 110.8833, \"Cabin\": null, \"Embarked\": \"C\"}, {\"PassengerId\": 308, \"Survived\": 1, \"Pclass\": 1, \"Name\": \"Penasco y Castellana, Mrs. Victor de Satode (Maria Josefa Perez de Soto y Vallejo)\", \"Sex\": \"female\", \"Age\": 17.0, \"SibSp\": 1, \"Parch\": 0, \"Ticket\": \"PC 17758\", \"Fare\": 108.9, \"Cabin\": \"C65\", \"Embarked\": \"C\"}, {\"PassengerId\": 309, \"Survived\": 0, \"Pclass\": 2, \"Name\": \"Abelson, Mr. Samuel\", \"Sex\": \"male\", \"Age\": 30.0, \"SibSp\": 1, \"Parch\": 0, \"Ticket\": \"P/PP 3381\", \"Fare\": 24.0, \"Cabin\": null, \"Embarked\": \"C\"}, {\"PassengerId\": 310, \"Survived\": 1, \"Pclass\": 1, \"Name\": \"Francatelli, Miss. Laura Mabel\", \"Sex\": \"female\", \"Age\": 30.0, \"SibSp\": 0, \"Parch\": 0, \"Ticket\": \"PC 17485\", \"Fare\": 56.9292, \"Cabin\": \"E36\", \"Embarked\": \"C\"}, {\"PassengerId\": 311, \"Survived\": 1, \"Pclass\": 1, \"Name\": \"Hays, Miss. Margaret Bechstein\", \"Sex\": \"female\", \"Age\": 24.0, \"SibSp\": 0, \"Parch\": 0, \"Ticket\": \"11767\", \"Fare\": 83.1583, \"Cabin\": \"C54\", \"Embarked\": \"C\"}, {\"PassengerId\": 312, \"Survived\": 1, \"Pclass\": 1, \"Name\": \"Ryerson, Miss. Emily Borie\", \"Sex\": \"female\", \"Age\": 18.0, \"SibSp\": 2, \"Parch\": 2, \"Ticket\": \"PC 17608\", \"Fare\": 262.375, \"Cabin\": \"B57 B59 B63 B66\", \"Embarked\": \"C\"}, {\"PassengerId\": 313, \"Survived\": 0, \"Pclass\": 2, \"Name\": \"Lahtinen, Mrs. William (Anna Sylfven)\", \"Sex\": \"female\", \"Age\": 26.0, \"SibSp\": 1, \"Parch\": 1, \"Ticket\": \"250651\", \"Fare\": 26.0, \"Cabin\": null, \"Embarked\": \"S\"}, {\"PassengerId\": 314, \"Survived\": 0, \"Pclass\": 3, \"Name\": \"Hendekovic, Mr. Ignjac\", \"Sex\": \"male\", \"Age\": 28.0, \"SibSp\": 0, \"Parch\": 0, \"Ticket\": \"349243\", \"Fare\": 7.8958, \"Cabin\": null, \"Embarked\": \"S\"}, {\"PassengerId\": 315, \"Survived\": 0, \"Pclass\": 2, \"Name\": \"Hart, Mr. Benjamin\", \"Sex\": \"male\", \"Age\": 43.0, \"SibSp\": 1, \"Parch\": 1, \"Ticket\": \"F.C.C. 13529\", \"Fare\": 26.25, \"Cabin\": null, \"Embarked\": \"S\"}, {\"PassengerId\": 316, \"Survived\": 1, \"Pclass\": 3, \"Name\": \"Nilsson, Miss. Helmina Josefina\", \"Sex\": \"female\", \"Age\": 26.0, \"SibSp\": 0, \"Parch\": 0, \"Ticket\": \"347470\", \"Fare\": 7.8542, \"Cabin\": null, \"Embarked\": \"S\"}, {\"PassengerId\": 317, \"Survived\": 1, \"Pclass\": 2, \"Name\": \"Kantor, Mrs. Sinai (Miriam Sternin)\", \"Sex\": \"female\", \"Age\": 24.0, \"SibSp\": 1, \"Parch\": 0, \"Ticket\": \"244367\", \"Fare\": 26.0, \"Cabin\": null, \"Embarked\": \"S\"}, {\"PassengerId\": 318, \"Survived\": 0, \"Pclass\": 2, \"Name\": \"Moraweck, Dr. Ernest\", \"Sex\": \"male\", \"Age\": 54.0, \"SibSp\": 0, \"Parch\": 0, \"Ticket\": \"29011\", \"Fare\": 14.0, \"Cabin\": null, \"Embarked\": \"S\"}, {\"PassengerId\": 319, \"Survived\": 1, \"Pclass\": 1, \"Name\": \"Wick, Miss. Mary Natalie\", \"Sex\": \"female\", \"Age\": 31.0, \"SibSp\": 0, \"Parch\": 2, \"Ticket\": \"36928\", \"Fare\": 164.8667, \"Cabin\": \"C7\", \"Embarked\": \"S\"}, {\"PassengerId\": 320, \"Survived\": 1, \"Pclass\": 1, \"Name\": \"Spedden, Mrs. Frederic Oakley (Margaretta Corning Stone)\", \"Sex\": \"female\", \"Age\": 40.0, \"SibSp\": 1, \"Parch\": 1, \"Ticket\": \"16966\", \"Fare\": 134.5, \"Cabin\": \"E34\", \"Embarked\": \"C\"}, {\"PassengerId\": 321, \"Survived\": 0, \"Pclass\": 3, \"Name\": \"Dennis, Mr. Samuel\", \"Sex\": \"male\", \"Age\": 22.0, \"SibSp\": 0, \"Parch\": 0, \"Ticket\": \"A/5 21172\", \"Fare\": 7.25, \"Cabin\": null, \"Embarked\": \"S\"}, {\"PassengerId\": 322, \"Survived\": 0, \"Pclass\": 3, \"Name\": \"Danoff, Mr. Yoto\", \"Sex\": \"male\", \"Age\": 27.0, \"SibSp\": 0, \"Parch\": 0, \"Ticket\": \"349219\", \"Fare\": 7.8958, \"Cabin\": null, \"Embarked\": \"S\"}, {\"PassengerId\": 323, \"Survived\": 1, \"Pclass\": 2, \"Name\": \"Slayter, Miss. Hilda Mary\", \"Sex\": \"female\", \"Age\": 30.0, \"SibSp\": 0, \"Parch\": 0, \"Ticket\": \"234818\", \"Fare\": 12.35, \"Cabin\": null, \"Embarked\": \"Q\"}, {\"PassengerId\": 324, \"Survived\": 1, \"Pclass\": 2, \"Name\": \"Caldwell, Mrs. Albert Francis (Sylvia Mae Harbaugh)\", \"Sex\": \"female\", \"Age\": 22.0, \"SibSp\": 1, \"Parch\": 1, \"Ticket\": \"248738\", \"Fare\": 29.0, \"Cabin\": null, \"Embarked\": \"S\"}, {\"PassengerId\": 325, \"Survived\": 0, \"Pclass\": 3, \"Name\": \"Sage, Mr. George John Jr\", \"Sex\": \"male\", \"Age\": null, \"SibSp\": 8, \"Parch\": 2, \"Ticket\": \"CA. 2343\", \"Fare\": 69.55, \"Cabin\": null, \"Embarked\": \"S\"}, {\"PassengerId\": 326, \"Survived\": 1, \"Pclass\": 1, \"Name\": \"Young, Miss. Marie Grice\", \"Sex\": \"female\", \"Age\": 36.0, \"SibSp\": 0, \"Parch\": 0, \"Ticket\": \"PC 17760\", \"Fare\": 135.6333, \"Cabin\": \"C32\", \"Embarked\": \"C\"}, {\"PassengerId\": 327, \"Survived\": 0, \"Pclass\": 3, \"Name\": \"Nysveen, Mr. Johan Hansen\", \"Sex\": \"male\", \"Age\": 61.0, \"SibSp\": 0, \"Parch\": 0, \"Ticket\": \"345364\", \"Fare\": 6.2375, \"Cabin\": null, \"Embarked\": \"S\"}, {\"PassengerId\": 328, \"Survived\": 1, \"Pclass\": 2, \"Name\": \"Ball, Mrs. (Ada E Hall)\", \"Sex\": \"female\", \"Age\": 36.0, \"SibSp\": 0, \"Parch\": 0, \"Ticket\": \"28551\", \"Fare\": 13.0, \"Cabin\": \"D\", \"Embarked\": \"S\"}, {\"PassengerId\": 329, \"Survived\": 1, \"Pclass\": 3, \"Name\": \"Goldsmith, Mrs. Frank John (Emily Alice Brown)\", \"Sex\": \"female\", \"Age\": 31.0, \"SibSp\": 1, \"Parch\": 1, \"Ticket\": \"363291\", \"Fare\": 20.525, \"Cabin\": null, \"Embarked\": \"S\"}, {\"PassengerId\": 330, \"Survived\": 1, \"Pclass\": 1, \"Name\": \"Hippach, Miss. Jean Gertrude\", \"Sex\": \"female\", \"Age\": 16.0, \"SibSp\": 0, \"Parch\": 1, \"Ticket\": \"111361\", \"Fare\": 57.9792, \"Cabin\": \"B18\", \"Embarked\": \"C\"}, {\"PassengerId\": 331, \"Survived\": 1, \"Pclass\": 3, \"Name\": \"McCoy, Miss. Agnes\", \"Sex\": \"female\", \"Age\": null, \"SibSp\": 2, \"Parch\": 0, \"Ticket\": \"367226\", \"Fare\": 23.25, \"Cabin\": null, \"Embarked\": \"Q\"}, {\"PassengerId\": 332, \"Survived\": 0, \"Pclass\": 1, \"Name\": \"Partner, Mr. Austen\", \"Sex\": \"male\", \"Age\": 45.5, \"SibSp\": 0, \"Parch\": 0, \"Ticket\": \"113043\", \"Fare\": 28.5, \"Cabin\": \"C124\", \"Embarked\": \"S\"}, {\"PassengerId\": 333, \"Survived\": 0, \"Pclass\": 1, \"Name\": \"Graham, Mr. George Edward\", \"Sex\": \"male\", \"Age\": 38.0, \"SibSp\": 0, \"Parch\": 1, \"Ticket\": \"PC 17582\", \"Fare\": 153.4625, \"Cabin\": \"C91\", \"Embarked\": \"S\"}, {\"PassengerId\": 334, \"Survived\": 0, \"Pclass\": 3, \"Name\": \"Vander Planke, Mr. Leo Edmondus\", \"Sex\": \"male\", \"Age\": 16.0, \"SibSp\": 2, \"Parch\": 0, \"Ticket\": \"345764\", \"Fare\": 18.0, \"Cabin\": null, \"Embarked\": \"S\"}, {\"PassengerId\": 335, \"Survived\": 1, \"Pclass\": 1, \"Name\": \"Frauenthal, Mrs. Henry William (Clara Heinsheimer)\", \"Sex\": \"female\", \"Age\": null, \"SibSp\": 1, \"Parch\": 0, \"Ticket\": \"PC 17611\", \"Fare\": 133.65, \"Cabin\": null, \"Embarked\": \"S\"}, {\"PassengerId\": 336, \"Survived\": 0, \"Pclass\": 3, \"Name\": \"Denkoff, Mr. Mitto\", \"Sex\": \"male\", \"Age\": null, \"SibSp\": 0, \"Parch\": 0, \"Ticket\": \"349225\", \"Fare\": 7.8958, \"Cabin\": null, \"Embarked\": \"S\"}, {\"PassengerId\": 337, \"Survived\": 0, \"Pclass\": 1, \"Name\": \"Pears, Mr. Thomas Clinton\", \"Sex\": \"male\", \"Age\": 29.0, \"SibSp\": 1, \"Parch\": 0, \"Ticket\": \"113776\", \"Fare\": 66.6, \"Cabin\": \"C2\", \"Embarked\": \"S\"}, {\"PassengerId\": 338, \"Survived\": 1, \"Pclass\": 1, \"Name\": \"Burns, Miss. Elizabeth Margaret\", \"Sex\": \"female\", \"Age\": 41.0, \"SibSp\": 0, \"Parch\": 0, \"Ticket\": \"16966\", \"Fare\": 134.5, \"Cabin\": \"E40\", \"Embarked\": \"C\"}, {\"PassengerId\": 339, \"Survived\": 1, \"Pclass\": 3, \"Name\": \"Dahl, Mr. Karl Edwart\", \"Sex\": \"male\", \"Age\": 45.0, \"SibSp\": 0, \"Parch\": 0, \"Ticket\": \"7598\", \"Fare\": 8.05, \"Cabin\": null, \"Embarked\": \"S\"}, {\"PassengerId\": 340, \"Survived\": 0, \"Pclass\": 1, \"Name\": \"Blackwell, Mr. Stephen Weart\", \"Sex\": \"male\", \"Age\": 45.0, \"SibSp\": 0, \"Parch\": 0, \"Ticket\": \"113784\", \"Fare\": 35.5, \"Cabin\": \"T\", \"Embarked\": \"S\"}, {\"PassengerId\": 341, \"Survived\": 1, \"Pclass\": 2, \"Name\": \"Navratil, Master. Edmond Roger\", \"Sex\": \"male\", \"Age\": 2.0, \"SibSp\": 1, \"Parch\": 1, \"Ticket\": \"230080\", \"Fare\": 26.0, \"Cabin\": \"F2\", \"Embarked\": \"S\"}, {\"PassengerId\": 342, \"Survived\": 1, \"Pclass\": 1, \"Name\": \"Fortune, Miss. Alice Elizabeth\", \"Sex\": \"female\", \"Age\": 24.0, \"SibSp\": 3, \"Parch\": 2, \"Ticket\": \"19950\", \"Fare\": 263.0, \"Cabin\": \"C23 C25 C27\", \"Embarked\": \"S\"}, {\"PassengerId\": 343, \"Survived\": 0, \"Pclass\": 2, \"Name\": \"Collander, Mr. Erik Gustaf\", \"Sex\": \"male\", \"Age\": 28.0, \"SibSp\": 0, \"Parch\": 0, \"Ticket\": \"248740\", \"Fare\": 13.0, \"Cabin\": null, \"Embarked\": \"S\"}, {\"PassengerId\": 344, \"Survived\": 0, \"Pclass\": 2, \"Name\": \"Sedgwick, Mr. Charles Frederick Waddington\", \"Sex\": \"male\", \"Age\": 25.0, \"SibSp\": 0, \"Parch\": 0, \"Ticket\": \"244361\", \"Fare\": 13.0, \"Cabin\": null, \"Embarked\": \"S\"}, {\"PassengerId\": 345, \"Survived\": 0, \"Pclass\": 2, \"Name\": \"Fox, Mr. Stanley Hubert\", \"Sex\": \"male\", \"Age\": 36.0, \"SibSp\": 0, \"Parch\": 0, \"Ticket\": \"229236\", \"Fare\": 13.0, \"Cabin\": null, \"Embarked\": \"S\"}, {\"PassengerId\": 346, \"Survived\": 1, \"Pclass\": 2, \"Name\": \"Brown, Miss. Amelia \\\"Mildred\\\"\", \"Sex\": \"female\", \"Age\": 24.0, \"SibSp\": 0, \"Parch\": 0, \"Ticket\": \"248733\", \"Fare\": 13.0, \"Cabin\": \"F33\", \"Embarked\": \"S\"}, {\"PassengerId\": 347, \"Survived\": 1, \"Pclass\": 2, \"Name\": \"Smith, Miss. Marion Elsie\", \"Sex\": \"female\", \"Age\": 40.0, \"SibSp\": 0, \"Parch\": 0, \"Ticket\": \"31418\", \"Fare\": 13.0, \"Cabin\": null, \"Embarked\": \"S\"}, {\"PassengerId\": 348, \"Survived\": 1, \"Pclass\": 3, \"Name\": \"Davison, Mrs. Thomas Henry (Mary E Finck)\", \"Sex\": \"female\", \"Age\": null, \"SibSp\": 1, \"Parch\": 0, \"Ticket\": \"386525\", \"Fare\": 16.1, \"Cabin\": null, \"Embarked\": \"S\"}, {\"PassengerId\": 349, \"Survived\": 1, \"Pclass\": 3, \"Name\": \"Coutts, Master. William Loch \\\"William\\\"\", \"Sex\": \"male\", \"Age\": 3.0, \"SibSp\": 1, \"Parch\": 1, \"Ticket\": \"C.A. 37671\", \"Fare\": 15.9, \"Cabin\": null, \"Embarked\": \"S\"}, {\"PassengerId\": 350, \"Survived\": 0, \"Pclass\": 3, \"Name\": \"Dimic, Mr. Jovan\", \"Sex\": \"male\", \"Age\": 42.0, \"SibSp\": 0, \"Parch\": 0, \"Ticket\": \"315088\", \"Fare\": 8.6625, \"Cabin\": null, \"Embarked\": \"S\"}, {\"PassengerId\": 351, \"Survived\": 0, \"Pclass\": 3, \"Name\": \"Odahl, Mr. Nils Martin\", \"Sex\": \"male\", \"Age\": 23.0, \"SibSp\": 0, \"Parch\": 0, \"Ticket\": \"7267\", \"Fare\": 9.225, \"Cabin\": null, \"Embarked\": \"S\"}, {\"PassengerId\": 352, \"Survived\": 0, \"Pclass\": 1, \"Name\": \"Williams-Lambert, Mr. Fletcher Fellows\", \"Sex\": \"male\", \"Age\": null, \"SibSp\": 0, \"Parch\": 0, \"Ticket\": \"113510\", \"Fare\": 35.0, \"Cabin\": \"C128\", \"Embarked\": \"S\"}, {\"PassengerId\": 353, \"Survived\": 0, \"Pclass\": 3, \"Name\": \"Elias, Mr. Tannous\", \"Sex\": \"male\", \"Age\": 15.0, \"SibSp\": 1, \"Parch\": 1, \"Ticket\": \"2695\", \"Fare\": 7.2292, \"Cabin\": null, \"Embarked\": \"C\"}, {\"PassengerId\": 354, \"Survived\": 0, \"Pclass\": 3, \"Name\": \"Arnold-Franchi, Mr. Josef\", \"Sex\": \"male\", \"Age\": 25.0, \"SibSp\": 1, \"Parch\": 0, \"Ticket\": \"349237\", \"Fare\": 17.8, \"Cabin\": null, \"Embarked\": \"S\"}, {\"PassengerId\": 355, \"Survived\": 0, \"Pclass\": 3, \"Name\": \"Yousif, Mr. Wazli\", \"Sex\": \"male\", \"Age\": null, \"SibSp\": 0, \"Parch\": 0, \"Ticket\": \"2647\", \"Fare\": 7.225, \"Cabin\": null, \"Embarked\": \"C\"}, {\"PassengerId\": 356, \"Survived\": 0, \"Pclass\": 3, \"Name\": \"Vanden Steen, Mr. Leo Peter\", \"Sex\": \"male\", \"Age\": 28.0, \"SibSp\": 0, \"Parch\": 0, \"Ticket\": \"345783\", \"Fare\": 9.5, \"Cabin\": null, \"Embarked\": \"S\"}, {\"PassengerId\": 357, \"Survived\": 1, \"Pclass\": 1, \"Name\": \"Bowerman, Miss. Elsie Edith\", \"Sex\": \"female\", \"Age\": 22.0, \"SibSp\": 0, \"Parch\": 1, \"Ticket\": \"113505\", \"Fare\": 55.0, \"Cabin\": \"E33\", \"Embarked\": \"S\"}, {\"PassengerId\": 358, \"Survived\": 0, \"Pclass\": 2, \"Name\": \"Funk, Miss. Annie Clemmer\", \"Sex\": \"female\", \"Age\": 38.0, \"SibSp\": 0, \"Parch\": 0, \"Ticket\": \"237671\", \"Fare\": 13.0, \"Cabin\": null, \"Embarked\": \"S\"}, {\"PassengerId\": 359, \"Survived\": 1, \"Pclass\": 3, \"Name\": \"McGovern, Miss. Mary\", \"Sex\": \"female\", \"Age\": null, \"SibSp\": 0, \"Parch\": 0, \"Ticket\": \"330931\", \"Fare\": 7.8792, \"Cabin\": null, \"Embarked\": \"Q\"}, {\"PassengerId\": 360, \"Survived\": 1, \"Pclass\": 3, \"Name\": \"Mockler, Miss. Helen Mary \\\"Ellie\\\"\", \"Sex\": \"female\", \"Age\": null, \"SibSp\": 0, \"Parch\": 0, \"Ticket\": \"330980\", \"Fare\": 7.8792, \"Cabin\": null, \"Embarked\": \"Q\"}, {\"PassengerId\": 361, \"Survived\": 0, \"Pclass\": 3, \"Name\": \"Skoog, Mr. Wilhelm\", \"Sex\": \"male\", \"Age\": 40.0, \"SibSp\": 1, \"Parch\": 4, \"Ticket\": \"347088\", \"Fare\": 27.9, \"Cabin\": null, \"Embarked\": \"S\"}, {\"PassengerId\": 362, \"Survived\": 0, \"Pclass\": 2, \"Name\": \"del Carlo, Mr. Sebastiano\", \"Sex\": \"male\", \"Age\": 29.0, \"SibSp\": 1, \"Parch\": 0, \"Ticket\": \"SC/PARIS 2167\", \"Fare\": 27.7208, \"Cabin\": null, \"Embarked\": \"C\"}, {\"PassengerId\": 363, \"Survived\": 0, \"Pclass\": 3, \"Name\": \"Barbara, Mrs. (Catherine David)\", \"Sex\": \"female\", \"Age\": 45.0, \"SibSp\": 0, \"Parch\": 1, \"Ticket\": \"2691\", \"Fare\": 14.4542, \"Cabin\": null, \"Embarked\": \"C\"}, {\"PassengerId\": 364, \"Survived\": 0, \"Pclass\": 3, \"Name\": \"Asim, Mr. Adola\", \"Sex\": \"male\", \"Age\": 35.0, \"SibSp\": 0, \"Parch\": 0, \"Ticket\": \"SOTON/O.Q. 3101310\", \"Fare\": 7.05, \"Cabin\": null, \"Embarked\": \"S\"}, {\"PassengerId\": 365, \"Survived\": 0, \"Pclass\": 3, \"Name\": \"O'Brien, Mr. Thomas\", \"Sex\": \"male\", \"Age\": null, \"SibSp\": 1, \"Parch\": 0, \"Ticket\": \"370365\", \"Fare\": 15.5, \"Cabin\": null, \"Embarked\": \"Q\"}, {\"PassengerId\": 366, \"Survived\": 0, \"Pclass\": 3, \"Name\": \"Adahl, Mr. Mauritz Nils Martin\", \"Sex\": \"male\", \"Age\": 30.0, \"SibSp\": 0, \"Parch\": 0, \"Ticket\": \"C 7076\", \"Fare\": 7.25, \"Cabin\": null, \"Embarked\": \"S\"}, {\"PassengerId\": 367, \"Survived\": 1, \"Pclass\": 1, \"Name\": \"Warren, Mrs. Frank Manley (Anna Sophia Atkinson)\", \"Sex\": \"female\", \"Age\": 60.0, \"SibSp\": 1, \"Parch\": 0, \"Ticket\": \"110813\", \"Fare\": 75.25, \"Cabin\": \"D37\", \"Embarked\": \"C\"}, {\"PassengerId\": 368, \"Survived\": 1, \"Pclass\": 3, \"Name\": \"Moussa, Mrs. (Mantoura Boulos)\", \"Sex\": \"female\", \"Age\": null, \"SibSp\": 0, \"Parch\": 0, \"Ticket\": \"2626\", \"Fare\": 7.2292, \"Cabin\": null, \"Embarked\": \"C\"}, {\"PassengerId\": 369, \"Survived\": 1, \"Pclass\": 3, \"Name\": \"Jermyn, Miss. Annie\", \"Sex\": \"female\", \"Age\": null, \"SibSp\": 0, \"Parch\": 0, \"Ticket\": \"14313\", \"Fare\": 7.75, \"Cabin\": null, \"Embarked\": \"Q\"}, {\"PassengerId\": 370, \"Survived\": 1, \"Pclass\": 1, \"Name\": \"Aubart, Mme. Leontine Pauline\", \"Sex\": \"female\", \"Age\": 24.0, \"SibSp\": 0, \"Parch\": 0, \"Ticket\": \"PC 17477\", \"Fare\": 69.3, \"Cabin\": \"B35\", \"Embarked\": \"C\"}, {\"PassengerId\": 371, \"Survived\": 1, \"Pclass\": 1, \"Name\": \"Harder, Mr. George Achilles\", \"Sex\": \"male\", \"Age\": 25.0, \"SibSp\": 1, \"Parch\": 0, \"Ticket\": \"11765\", \"Fare\": 55.4417, \"Cabin\": \"E50\", \"Embarked\": \"C\"}, {\"PassengerId\": 372, \"Survived\": 0, \"Pclass\": 3, \"Name\": \"Wiklund, Mr. Jakob Alfred\", \"Sex\": \"male\", \"Age\": 18.0, \"SibSp\": 1, \"Parch\": 0, \"Ticket\": \"3101267\", \"Fare\": 6.4958, \"Cabin\": null, \"Embarked\": \"S\"}, {\"PassengerId\": 373, \"Survived\": 0, \"Pclass\": 3, \"Name\": \"Beavan, Mr. William Thomas\", \"Sex\": \"male\", \"Age\": 19.0, \"SibSp\": 0, \"Parch\": 0, \"Ticket\": \"323951\", \"Fare\": 8.05, \"Cabin\": null, \"Embarked\": \"S\"}, {\"PassengerId\": 374, \"Survived\": 0, \"Pclass\": 1, \"Name\": \"Ringhini, Mr. Sante\", \"Sex\": \"male\", \"Age\": 22.0, \"SibSp\": 0, \"Parch\": 0, \"Ticket\": \"PC 17760\", \"Fare\": 135.6333, \"Cabin\": null, \"Embarked\": \"C\"}, {\"PassengerId\": 375, \"Survived\": 0, \"Pclass\": 3, \"Name\": \"Palsson, Miss. Stina Viola\", \"Sex\": \"female\", \"Age\": 3.0, \"SibSp\": 3, \"Parch\": 1, \"Ticket\": \"349909\", \"Fare\": 21.075, \"Cabin\": null, \"Embarked\": \"S\"}, {\"PassengerId\": 376, \"Survived\": 1, \"Pclass\": 1, \"Name\": \"Meyer, Mrs. Edgar Joseph (Leila Saks)\", \"Sex\": \"female\", \"Age\": null, \"SibSp\": 1, \"Parch\": 0, \"Ticket\": \"PC 17604\", \"Fare\": 82.1708, \"Cabin\": null, \"Embarked\": \"C\"}, {\"PassengerId\": 377, \"Survived\": 1, \"Pclass\": 3, \"Name\": \"Landergren, Miss. Aurora Adelia\", \"Sex\": \"female\", \"Age\": 22.0, \"SibSp\": 0, \"Parch\": 0, \"Ticket\": \"C 7077\", \"Fare\": 7.25, \"Cabin\": null, \"Embarked\": \"S\"}, {\"PassengerId\": 378, \"Survived\": 0, \"Pclass\": 1, \"Name\": \"Widener, Mr. Harry Elkins\", \"Sex\": \"male\", \"Age\": 27.0, \"SibSp\": 0, \"Parch\": 2, \"Ticket\": \"113503\", \"Fare\": 211.5, \"Cabin\": \"C82\", \"Embarked\": \"C\"}, {\"PassengerId\": 379, \"Survived\": 0, \"Pclass\": 3, \"Name\": \"Betros, Mr. Tannous\", \"Sex\": \"male\", \"Age\": 20.0, \"SibSp\": 0, \"Parch\": 0, \"Ticket\": \"2648\", \"Fare\": 4.0125, \"Cabin\": null, \"Embarked\": \"C\"}, {\"PassengerId\": 380, \"Survived\": 0, \"Pclass\": 3, \"Name\": \"Gustafsson, Mr. Karl Gideon\", \"Sex\": \"male\", \"Age\": 19.0, \"SibSp\": 0, \"Parch\": 0, \"Ticket\": \"347069\", \"Fare\": 7.775, \"Cabin\": null, \"Embarked\": \"S\"}, {\"PassengerId\": 381, \"Survived\": 1, \"Pclass\": 1, \"Name\": \"Bidois, Miss. Rosalie\", \"Sex\": \"female\", \"Age\": 42.0, \"SibSp\": 0, \"Parch\": 0, \"Ticket\": \"PC 17757\", \"Fare\": 227.525, \"Cabin\": null, \"Embarked\": \"C\"}, {\"PassengerId\": 382, \"Survived\": 1, \"Pclass\": 3, \"Name\": \"Nakid, Miss. Maria (\\\"Mary\\\")\", \"Sex\": \"female\", \"Age\": 1.0, \"SibSp\": 0, \"Parch\": 2, \"Ticket\": \"2653\", \"Fare\": 15.7417, \"Cabin\": null, \"Embarked\": \"C\"}, {\"PassengerId\": 383, \"Survived\": 0, \"Pclass\": 3, \"Name\": \"Tikkanen, Mr. Juho\", \"Sex\": \"male\", \"Age\": 32.0, \"SibSp\": 0, \"Parch\": 0, \"Ticket\": \"STON/O 2. 3101293\", \"Fare\": 7.925, \"Cabin\": null, \"Embarked\": \"S\"}, {\"PassengerId\": 384, \"Survived\": 1, \"Pclass\": 1, \"Name\": \"Holverson, Mrs. Alexander Oskar (Mary Aline Towner)\", \"Sex\": \"female\", \"Age\": 35.0, \"SibSp\": 1, \"Parch\": 0, \"Ticket\": \"113789\", \"Fare\": 52.0, \"Cabin\": null, \"Embarked\": \"S\"}, {\"PassengerId\": 385, \"Survived\": 0, \"Pclass\": 3, \"Name\": \"Plotcharsky, Mr. Vasil\", \"Sex\": \"male\", \"Age\": null, \"SibSp\": 0, \"Parch\": 0, \"Ticket\": \"349227\", \"Fare\": 7.8958, \"Cabin\": null, \"Embarked\": \"S\"}, {\"PassengerId\": 386, \"Survived\": 0, \"Pclass\": 2, \"Name\": \"Davies, Mr. Charles Henry\", \"Sex\": \"male\", \"Age\": 18.0, \"SibSp\": 0, \"Parch\": 0, \"Ticket\": \"S.O.C. 14879\", \"Fare\": 73.5, \"Cabin\": null, \"Embarked\": \"S\"}, {\"PassengerId\": 387, \"Survived\": 0, \"Pclass\": 3, \"Name\": \"Goodwin, Master. Sidney Leonard\", \"Sex\": \"male\", \"Age\": 1.0, \"SibSp\": 5, \"Parch\": 2, \"Ticket\": \"CA 2144\", \"Fare\": 46.9, \"Cabin\": null, \"Embarked\": \"S\"}, {\"PassengerId\": 388, \"Survived\": 1, \"Pclass\": 2, \"Name\": \"Buss, Miss. Kate\", \"Sex\": \"female\", \"Age\": 36.0, \"SibSp\": 0, \"Parch\": 0, \"Ticket\": \"27849\", \"Fare\": 13.0, \"Cabin\": null, \"Embarked\": \"S\"}, {\"PassengerId\": 389, \"Survived\": 0, \"Pclass\": 3, \"Name\": \"Sadlier, Mr. Matthew\", \"Sex\": \"male\", \"Age\": null, \"SibSp\": 0, \"Parch\": 0, \"Ticket\": \"367655\", \"Fare\": 7.7292, \"Cabin\": null, \"Embarked\": \"Q\"}, {\"PassengerId\": 390, \"Survived\": 1, \"Pclass\": 2, \"Name\": \"Lehmann, Miss. Bertha\", \"Sex\": \"female\", \"Age\": 17.0, \"SibSp\": 0, \"Parch\": 0, \"Ticket\": \"SC 1748\", \"Fare\": 12.0, \"Cabin\": null, \"Embarked\": \"C\"}, {\"PassengerId\": 391, \"Survived\": 1, \"Pclass\": 1, \"Name\": \"Carter, Mr. William Ernest\", \"Sex\": \"male\", \"Age\": 36.0, \"SibSp\": 1, \"Parch\": 2, \"Ticket\": \"113760\", \"Fare\": 120.0, \"Cabin\": \"B96 B98\", \"Embarked\": \"S\"}, {\"PassengerId\": 392, \"Survived\": 1, \"Pclass\": 3, \"Name\": \"Jansson, Mr. Carl Olof\", \"Sex\": \"male\", \"Age\": 21.0, \"SibSp\": 0, \"Parch\": 0, \"Ticket\": \"350034\", \"Fare\": 7.7958, \"Cabin\": null, \"Embarked\": \"S\"}, {\"PassengerId\": 393, \"Survived\": 0, \"Pclass\": 3, \"Name\": \"Gustafsson, Mr. Johan Birger\", \"Sex\": \"male\", \"Age\": 28.0, \"SibSp\": 2, \"Parch\": 0, \"Ticket\": \"3101277\", \"Fare\": 7.925, \"Cabin\": null, \"Embarked\": \"S\"}, {\"PassengerId\": 394, \"Survived\": 1, \"Pclass\": 1, \"Name\": \"Newell, Miss. Marjorie\", \"Sex\": \"female\", \"Age\": 23.0, \"SibSp\": 1, \"Parch\": 0, \"Ticket\": \"35273\", \"Fare\": 113.275, \"Cabin\": \"D36\", \"Embarked\": \"C\"}, {\"PassengerId\": 395, \"Survived\": 1, \"Pclass\": 3, \"Name\": \"Sandstrom, Mrs. Hjalmar (Agnes Charlotta Bengtsson)\", \"Sex\": \"female\", \"Age\": 24.0, \"SibSp\": 0, \"Parch\": 2, \"Ticket\": \"PP 9549\", \"Fare\": 16.7, \"Cabin\": \"G6\", \"Embarked\": \"S\"}, {\"PassengerId\": 396, \"Survived\": 0, \"Pclass\": 3, \"Name\": \"Johansson, Mr. Erik\", \"Sex\": \"male\", \"Age\": 22.0, \"SibSp\": 0, \"Parch\": 0, \"Ticket\": \"350052\", \"Fare\": 7.7958, \"Cabin\": null, \"Embarked\": \"S\"}, {\"PassengerId\": 397, \"Survived\": 0, \"Pclass\": 3, \"Name\": \"Olsson, Miss. Elina\", \"Sex\": \"female\", \"Age\": 31.0, \"SibSp\": 0, \"Parch\": 0, \"Ticket\": \"350407\", \"Fare\": 7.8542, \"Cabin\": null, \"Embarked\": \"S\"}, {\"PassengerId\": 398, \"Survived\": 0, \"Pclass\": 2, \"Name\": \"McKane, Mr. Peter David\", \"Sex\": \"male\", \"Age\": 46.0, \"SibSp\": 0, \"Parch\": 0, \"Ticket\": \"28403\", \"Fare\": 26.0, \"Cabin\": null, \"Embarked\": \"S\"}, {\"PassengerId\": 399, \"Survived\": 0, \"Pclass\": 2, \"Name\": \"Pain, Dr. Alfred\", \"Sex\": \"male\", \"Age\": 23.0, \"SibSp\": 0, \"Parch\": 0, \"Ticket\": \"244278\", \"Fare\": 10.5, \"Cabin\": null, \"Embarked\": \"S\"}, {\"PassengerId\": 400, \"Survived\": 1, \"Pclass\": 2, \"Name\": \"Trout, Mrs. William H (Jessie L)\", \"Sex\": \"female\", \"Age\": 28.0, \"SibSp\": 0, \"Parch\": 0, \"Ticket\": \"240929\", \"Fare\": 12.65, \"Cabin\": null, \"Embarked\": \"S\"}, {\"PassengerId\": 401, \"Survived\": 1, \"Pclass\": 3, \"Name\": \"Niskanen, Mr. Juha\", \"Sex\": \"male\", \"Age\": 39.0, \"SibSp\": 0, \"Parch\": 0, \"Ticket\": \"STON/O 2. 3101289\", \"Fare\": 7.925, \"Cabin\": null, \"Embarked\": \"S\"}, {\"PassengerId\": 402, \"Survived\": 0, \"Pclass\": 3, \"Name\": \"Adams, Mr. John\", \"Sex\": \"male\", \"Age\": 26.0, \"SibSp\": 0, \"Parch\": 0, \"Ticket\": \"341826\", \"Fare\": 8.05, \"Cabin\": null, \"Embarked\": \"S\"}, {\"PassengerId\": 403, \"Survived\": 0, \"Pclass\": 3, \"Name\": \"Jussila, Miss. Mari Aina\", \"Sex\": \"female\", \"Age\": 21.0, \"SibSp\": 1, \"Parch\": 0, \"Ticket\": \"4137\", \"Fare\": 9.825, \"Cabin\": null, \"Embarked\": \"S\"}, {\"PassengerId\": 404, \"Survived\": 0, \"Pclass\": 3, \"Name\": \"Hakkarainen, Mr. Pekka Pietari\", \"Sex\": \"male\", \"Age\": 28.0, \"SibSp\": 1, \"Parch\": 0, \"Ticket\": \"STON/O2. 3101279\", \"Fare\": 15.85, \"Cabin\": null, \"Embarked\": \"S\"}, {\"PassengerId\": 405, \"Survived\": 0, \"Pclass\": 3, \"Name\": \"Oreskovic, Miss. Marija\", \"Sex\": \"female\", \"Age\": 20.0, \"SibSp\": 0, \"Parch\": 0, \"Ticket\": \"315096\", \"Fare\": 8.6625, \"Cabin\": null, \"Embarked\": \"S\"}, {\"PassengerId\": 406, \"Survived\": 0, \"Pclass\": 2, \"Name\": \"Gale, Mr. Shadrach\", \"Sex\": \"male\", \"Age\": 34.0, \"SibSp\": 1, \"Parch\": 0, \"Ticket\": \"28664\", \"Fare\": 21.0, \"Cabin\": null, \"Embarked\": \"S\"}, {\"PassengerId\": 407, \"Survived\": 0, \"Pclass\": 3, \"Name\": \"Widegren, Mr. Carl/Charles Peter\", \"Sex\": \"male\", \"Age\": 51.0, \"SibSp\": 0, \"Parch\": 0, \"Ticket\": \"347064\", \"Fare\": 7.75, \"Cabin\": null, \"Embarked\": \"S\"}, {\"PassengerId\": 408, \"Survived\": 1, \"Pclass\": 2, \"Name\": \"Richards, Master. William Rowe\", \"Sex\": \"male\", \"Age\": 3.0, \"SibSp\": 1, \"Parch\": 1, \"Ticket\": \"29106\", \"Fare\": 18.75, \"Cabin\": null, \"Embarked\": \"S\"}, {\"PassengerId\": 409, \"Survived\": 0, \"Pclass\": 3, \"Name\": \"Birkeland, Mr. Hans Martin Monsen\", \"Sex\": \"male\", \"Age\": 21.0, \"SibSp\": 0, \"Parch\": 0, \"Ticket\": \"312992\", \"Fare\": 7.775, \"Cabin\": null, \"Embarked\": \"S\"}, {\"PassengerId\": 410, \"Survived\": 0, \"Pclass\": 3, \"Name\": \"Lefebre, Miss. Ida\", \"Sex\": \"female\", \"Age\": null, \"SibSp\": 3, \"Parch\": 1, \"Ticket\": \"4133\", \"Fare\": 25.4667, \"Cabin\": null, \"Embarked\": \"S\"}, {\"PassengerId\": 411, \"Survived\": 0, \"Pclass\": 3, \"Name\": \"Sdycoff, Mr. Todor\", \"Sex\": \"male\", \"Age\": null, \"SibSp\": 0, \"Parch\": 0, \"Ticket\": \"349222\", \"Fare\": 7.8958, \"Cabin\": null, \"Embarked\": \"S\"}, {\"PassengerId\": 412, \"Survived\": 0, \"Pclass\": 3, \"Name\": \"Hart, Mr. Henry\", \"Sex\": \"male\", \"Age\": null, \"SibSp\": 0, \"Parch\": 0, \"Ticket\": \"394140\", \"Fare\": 6.8583, \"Cabin\": null, \"Embarked\": \"Q\"}, {\"PassengerId\": 413, \"Survived\": 1, \"Pclass\": 1, \"Name\": \"Minahan, Miss. Daisy E\", \"Sex\": \"female\", \"Age\": 33.0, \"SibSp\": 1, \"Parch\": 0, \"Ticket\": \"19928\", \"Fare\": 90.0, \"Cabin\": \"C78\", \"Embarked\": \"Q\"}, {\"PassengerId\": 414, \"Survived\": 0, \"Pclass\": 2, \"Name\": \"Cunningham, Mr. Alfred Fleming\", \"Sex\": \"male\", \"Age\": null, \"SibSp\": 0, \"Parch\": 0, \"Ticket\": \"239853\", \"Fare\": 0.0, \"Cabin\": null, \"Embarked\": \"S\"}, {\"PassengerId\": 415, \"Survived\": 1, \"Pclass\": 3, \"Name\": \"Sundman, Mr. Johan Julian\", \"Sex\": \"male\", \"Age\": 44.0, \"SibSp\": 0, \"Parch\": 0, \"Ticket\": \"STON/O 2. 3101269\", \"Fare\": 7.925, \"Cabin\": null, \"Embarked\": \"S\"}, {\"PassengerId\": 416, \"Survived\": 0, \"Pclass\": 3, \"Name\": \"Meek, Mrs. Thomas (Annie Louise Rowley)\", \"Sex\": \"female\", \"Age\": null, \"SibSp\": 0, \"Parch\": 0, \"Ticket\": \"343095\", \"Fare\": 8.05, \"Cabin\": null, \"Embarked\": \"S\"}, {\"PassengerId\": 417, \"Survived\": 1, \"Pclass\": 2, \"Name\": \"Drew, Mrs. James Vivian (Lulu Thorne Christian)\", \"Sex\": \"female\", \"Age\": 34.0, \"SibSp\": 1, \"Parch\": 1, \"Ticket\": \"28220\", \"Fare\": 32.5, \"Cabin\": null, \"Embarked\": \"S\"}, {\"PassengerId\": 418, \"Survived\": 1, \"Pclass\": 2, \"Name\": \"Silven, Miss. Lyyli Karoliina\", \"Sex\": \"female\", \"Age\": 18.0, \"SibSp\": 0, \"Parch\": 2, \"Ticket\": \"250652\", \"Fare\": 13.0, \"Cabin\": null, \"Embarked\": \"S\"}, {\"PassengerId\": 419, \"Survived\": 0, \"Pclass\": 2, \"Name\": \"Matthews, Mr. William John\", \"Sex\": \"male\", \"Age\": 30.0, \"SibSp\": 0, \"Parch\": 0, \"Ticket\": \"28228\", \"Fare\": 13.0, \"Cabin\": null, \"Embarked\": \"S\"}, {\"PassengerId\": 420, \"Survived\": 0, \"Pclass\": 3, \"Name\": \"Van Impe, Miss. Catharina\", \"Sex\": \"female\", \"Age\": 10.0, \"SibSp\": 0, \"Parch\": 2, \"Ticket\": \"345773\", \"Fare\": 24.15, \"Cabin\": null, \"Embarked\": \"S\"}, {\"PassengerId\": 421, \"Survived\": 0, \"Pclass\": 3, \"Name\": \"Gheorgheff, Mr. Stanio\", \"Sex\": \"male\", \"Age\": null, \"SibSp\": 0, \"Parch\": 0, \"Ticket\": \"349254\", \"Fare\": 7.8958, \"Cabin\": null, \"Embarked\": \"C\"}, {\"PassengerId\": 422, \"Survived\": 0, \"Pclass\": 3, \"Name\": \"Charters, Mr. David\", \"Sex\": \"male\", \"Age\": 21.0, \"SibSp\": 0, \"Parch\": 0, \"Ticket\": \"A/5. 13032\", \"Fare\": 7.7333, \"Cabin\": null, \"Embarked\": \"Q\"}, {\"PassengerId\": 423, \"Survived\": 0, \"Pclass\": 3, \"Name\": \"Zimmerman, Mr. Leo\", \"Sex\": \"male\", \"Age\": 29.0, \"SibSp\": 0, \"Parch\": 0, \"Ticket\": \"315082\", \"Fare\": 7.875, \"Cabin\": null, \"Embarked\": \"S\"}, {\"PassengerId\": 424, \"Survived\": 0, \"Pclass\": 3, \"Name\": \"Danbom, Mrs. Ernst Gilbert (Anna Sigrid Maria Brogren)\", \"Sex\": \"female\", \"Age\": 28.0, \"SibSp\": 1, \"Parch\": 1, \"Ticket\": \"347080\", \"Fare\": 14.4, \"Cabin\": null, \"Embarked\": \"S\"}, {\"PassengerId\": 425, \"Survived\": 0, \"Pclass\": 3, \"Name\": \"Rosblom, Mr. Viktor Richard\", \"Sex\": \"male\", \"Age\": 18.0, \"SibSp\": 1, \"Parch\": 1, \"Ticket\": \"370129\", \"Fare\": 20.2125, \"Cabin\": null, \"Embarked\": \"S\"}, {\"PassengerId\": 426, \"Survived\": 0, \"Pclass\": 3, \"Name\": \"Wiseman, Mr. Phillippe\", \"Sex\": \"male\", \"Age\": null, \"SibSp\": 0, \"Parch\": 0, \"Ticket\": \"A/4. 34244\", \"Fare\": 7.25, \"Cabin\": null, \"Embarked\": \"S\"}, {\"PassengerId\": 427, \"Survived\": 1, \"Pclass\": 2, \"Name\": \"Clarke, Mrs. Charles V (Ada Maria Winfield)\", \"Sex\": \"female\", \"Age\": 28.0, \"SibSp\": 1, \"Parch\": 0, \"Ticket\": \"2003\", \"Fare\": 26.0, \"Cabin\": null, \"Embarked\": \"S\"}, {\"PassengerId\": 428, \"Survived\": 1, \"Pclass\": 2, \"Name\": \"Phillips, Miss. Kate Florence (\\\"Mrs Kate Louise Phillips Marshall\\\")\", \"Sex\": \"female\", \"Age\": 19.0, \"SibSp\": 0, \"Parch\": 0, \"Ticket\": \"250655\", \"Fare\": 26.0, \"Cabin\": null, \"Embarked\": \"S\"}, {\"PassengerId\": 429, \"Survived\": 0, \"Pclass\": 3, \"Name\": \"Flynn, Mr. James\", \"Sex\": \"male\", \"Age\": null, \"SibSp\": 0, \"Parch\": 0, \"Ticket\": \"364851\", \"Fare\": 7.75, \"Cabin\": null, \"Embarked\": \"Q\"}, {\"PassengerId\": 430, \"Survived\": 1, \"Pclass\": 3, \"Name\": \"Pickard, Mr. Berk (Berk Trembisky)\", \"Sex\": \"male\", \"Age\": 32.0, \"SibSp\": 0, \"Parch\": 0, \"Ticket\": \"SOTON/O.Q. 392078\", \"Fare\": 8.05, \"Cabin\": \"E10\", \"Embarked\": \"S\"}, {\"PassengerId\": 431, \"Survived\": 1, \"Pclass\": 1, \"Name\": \"Bjornstrom-Steffansson, Mr. Mauritz Hakan\", \"Sex\": \"male\", \"Age\": 28.0, \"SibSp\": 0, \"Parch\": 0, \"Ticket\": \"110564\", \"Fare\": 26.55, \"Cabin\": \"C52\", \"Embarked\": \"S\"}, {\"PassengerId\": 432, \"Survived\": 1, \"Pclass\": 3, \"Name\": \"Thorneycroft, Mrs. Percival (Florence Kate White)\", \"Sex\": \"female\", \"Age\": null, \"SibSp\": 1, \"Parch\": 0, \"Ticket\": \"376564\", \"Fare\": 16.1, \"Cabin\": null, \"Embarked\": \"S\"}, {\"PassengerId\": 433, \"Survived\": 1, \"Pclass\": 2, \"Name\": \"Louch, Mrs. Charles Alexander (Alice Adelaide Slow)\", \"Sex\": \"female\", \"Age\": 42.0, \"SibSp\": 1, \"Parch\": 0, \"Ticket\": \"SC/AH 3085\", \"Fare\": 26.0, \"Cabin\": null, \"Embarked\": \"S\"}, {\"PassengerId\": 434, \"Survived\": 0, \"Pclass\": 3, \"Name\": \"Kallio, Mr. Nikolai Erland\", \"Sex\": \"male\", \"Age\": 17.0, \"SibSp\": 0, \"Parch\": 0, \"Ticket\": \"STON/O 2. 3101274\", \"Fare\": 7.125, \"Cabin\": null, \"Embarked\": \"S\"}, {\"PassengerId\": 435, \"Survived\": 0, \"Pclass\": 1, \"Name\": \"Silvey, Mr. William Baird\", \"Sex\": \"male\", \"Age\": 50.0, \"SibSp\": 1, \"Parch\": 0, \"Ticket\": \"13507\", \"Fare\": 55.9, \"Cabin\": \"E44\", \"Embarked\": \"S\"}, {\"PassengerId\": 436, \"Survived\": 1, \"Pclass\": 1, \"Name\": \"Carter, Miss. Lucile Polk\", \"Sex\": \"female\", \"Age\": 14.0, \"SibSp\": 1, \"Parch\": 2, \"Ticket\": \"113760\", \"Fare\": 120.0, \"Cabin\": \"B96 B98\", \"Embarked\": \"S\"}, {\"PassengerId\": 437, \"Survived\": 0, \"Pclass\": 3, \"Name\": \"Ford, Miss. Doolina Margaret \\\"Daisy\\\"\", \"Sex\": \"female\", \"Age\": 21.0, \"SibSp\": 2, \"Parch\": 2, \"Ticket\": \"W./C. 6608\", \"Fare\": 34.375, \"Cabin\": null, \"Embarked\": \"S\"}, {\"PassengerId\": 438, \"Survived\": 1, \"Pclass\": 2, \"Name\": \"Richards, Mrs. Sidney (Emily Hocking)\", \"Sex\": \"female\", \"Age\": 24.0, \"SibSp\": 2, \"Parch\": 3, \"Ticket\": \"29106\", \"Fare\": 18.75, \"Cabin\": null, \"Embarked\": \"S\"}, {\"PassengerId\": 439, \"Survived\": 0, \"Pclass\": 1, \"Name\": \"Fortune, Mr. Mark\", \"Sex\": \"male\", \"Age\": 64.0, \"SibSp\": 1, \"Parch\": 4, \"Ticket\": \"19950\", \"Fare\": 263.0, \"Cabin\": \"C23 C25 C27\", \"Embarked\": \"S\"}, {\"PassengerId\": 440, \"Survived\": 0, \"Pclass\": 2, \"Name\": \"Kvillner, Mr. Johan Henrik Johannesson\", \"Sex\": \"male\", \"Age\": 31.0, \"SibSp\": 0, \"Parch\": 0, \"Ticket\": \"C.A. 18723\", \"Fare\": 10.5, \"Cabin\": null, \"Embarked\": \"S\"}, {\"PassengerId\": 441, \"Survived\": 1, \"Pclass\": 2, \"Name\": \"Hart, Mrs. Benjamin (Esther Ada Bloomfield)\", \"Sex\": \"female\", \"Age\": 45.0, \"SibSp\": 1, \"Parch\": 1, \"Ticket\": \"F.C.C. 13529\", \"Fare\": 26.25, \"Cabin\": null, \"Embarked\": \"S\"}, {\"PassengerId\": 442, \"Survived\": 0, \"Pclass\": 3, \"Name\": \"Hampe, Mr. Leon\", \"Sex\": \"male\", \"Age\": 20.0, \"SibSp\": 0, \"Parch\": 0, \"Ticket\": \"345769\", \"Fare\": 9.5, \"Cabin\": null, \"Embarked\": \"S\"}, {\"PassengerId\": 443, \"Survived\": 0, \"Pclass\": 3, \"Name\": \"Petterson, Mr. Johan Emil\", \"Sex\": \"male\", \"Age\": 25.0, \"SibSp\": 1, \"Parch\": 0, \"Ticket\": \"347076\", \"Fare\": 7.775, \"Cabin\": null, \"Embarked\": \"S\"}, {\"PassengerId\": 444, \"Survived\": 1, \"Pclass\": 2, \"Name\": \"Reynaldo, Ms. Encarnacion\", \"Sex\": \"female\", \"Age\": 28.0, \"SibSp\": 0, \"Parch\": 0, \"Ticket\": \"230434\", \"Fare\": 13.0, \"Cabin\": null, \"Embarked\": \"S\"}, {\"PassengerId\": 445, \"Survived\": 1, \"Pclass\": 3, \"Name\": \"Johannesen-Bratthammer, Mr. Bernt\", \"Sex\": \"male\", \"Age\": null, \"SibSp\": 0, \"Parch\": 0, \"Ticket\": \"65306\", \"Fare\": 8.1125, \"Cabin\": null, \"Embarked\": \"S\"}, {\"PassengerId\": 446, \"Survived\": 1, \"Pclass\": 1, \"Name\": \"Dodge, Master. Washington\", \"Sex\": \"male\", \"Age\": 4.0, \"SibSp\": 0, \"Parch\": 2, \"Ticket\": \"33638\", \"Fare\": 81.8583, \"Cabin\": \"A34\", \"Embarked\": \"S\"}, {\"PassengerId\": 447, \"Survived\": 1, \"Pclass\": 2, \"Name\": \"Mellinger, Miss. Madeleine Violet\", \"Sex\": \"female\", \"Age\": 13.0, \"SibSp\": 0, \"Parch\": 1, \"Ticket\": \"250644\", \"Fare\": 19.5, \"Cabin\": null, \"Embarked\": \"S\"}, {\"PassengerId\": 448, \"Survived\": 1, \"Pclass\": 1, \"Name\": \"Seward, Mr. Frederic Kimber\", \"Sex\": \"male\", \"Age\": 34.0, \"SibSp\": 0, \"Parch\": 0, \"Ticket\": \"113794\", \"Fare\": 26.55, \"Cabin\": null, \"Embarked\": \"S\"}, {\"PassengerId\": 449, \"Survived\": 1, \"Pclass\": 3, \"Name\": \"Baclini, Miss. Marie Catherine\", \"Sex\": \"female\", \"Age\": 5.0, \"SibSp\": 2, \"Parch\": 1, \"Ticket\": \"2666\", \"Fare\": 19.2583, \"Cabin\": null, \"Embarked\": \"C\"}, {\"PassengerId\": 450, \"Survived\": 1, \"Pclass\": 1, \"Name\": \"Peuchen, Major. Arthur Godfrey\", \"Sex\": \"male\", \"Age\": 52.0, \"SibSp\": 0, \"Parch\": 0, \"Ticket\": \"113786\", \"Fare\": 30.5, \"Cabin\": \"C104\", \"Embarked\": \"S\"}, {\"PassengerId\": 451, \"Survived\": 0, \"Pclass\": 2, \"Name\": \"West, Mr. Edwy Arthur\", \"Sex\": \"male\", \"Age\": 36.0, \"SibSp\": 1, \"Parch\": 2, \"Ticket\": \"C.A. 34651\", \"Fare\": 27.75, \"Cabin\": null, \"Embarked\": \"S\"}, {\"PassengerId\": 452, \"Survived\": 0, \"Pclass\": 3, \"Name\": \"Hagland, Mr. Ingvald Olai Olsen\", \"Sex\": \"male\", \"Age\": null, \"SibSp\": 1, \"Parch\": 0, \"Ticket\": \"65303\", \"Fare\": 19.9667, \"Cabin\": null, \"Embarked\": \"S\"}, {\"PassengerId\": 453, \"Survived\": 0, \"Pclass\": 1, \"Name\": \"Foreman, Mr. Benjamin Laventall\", \"Sex\": \"male\", \"Age\": 30.0, \"SibSp\": 0, \"Parch\": 0, \"Ticket\": \"113051\", \"Fare\": 27.75, \"Cabin\": \"C111\", \"Embarked\": \"C\"}, {\"PassengerId\": 454, \"Survived\": 1, \"Pclass\": 1, \"Name\": \"Goldenberg, Mr. Samuel L\", \"Sex\": \"male\", \"Age\": 49.0, \"SibSp\": 1, \"Parch\": 0, \"Ticket\": \"17453\", \"Fare\": 89.1042, \"Cabin\": \"C92\", \"Embarked\": \"C\"}, {\"PassengerId\": 455, \"Survived\": 0, \"Pclass\": 3, \"Name\": \"Peduzzi, Mr. Joseph\", \"Sex\": \"male\", \"Age\": null, \"SibSp\": 0, \"Parch\": 0, \"Ticket\": \"A/5 2817\", \"Fare\": 8.05, \"Cabin\": null, \"Embarked\": \"S\"}, {\"PassengerId\": 456, \"Survived\": 1, \"Pclass\": 3, \"Name\": \"Jalsevac, Mr. Ivan\", \"Sex\": \"male\", \"Age\": 29.0, \"SibSp\": 0, \"Parch\": 0, \"Ticket\": \"349240\", \"Fare\": 7.8958, \"Cabin\": null, \"Embarked\": \"C\"}, {\"PassengerId\": 457, \"Survived\": 0, \"Pclass\": 1, \"Name\": \"Millet, Mr. Francis Davis\", \"Sex\": \"male\", \"Age\": 65.0, \"SibSp\": 0, \"Parch\": 0, \"Ticket\": \"13509\", \"Fare\": 26.55, \"Cabin\": \"E38\", \"Embarked\": \"S\"}, {\"PassengerId\": 458, \"Survived\": 1, \"Pclass\": 1, \"Name\": \"Kenyon, Mrs. Frederick R (Marion)\", \"Sex\": \"female\", \"Age\": null, \"SibSp\": 1, \"Parch\": 0, \"Ticket\": \"17464\", \"Fare\": 51.8625, \"Cabin\": \"D21\", \"Embarked\": \"S\"}, {\"PassengerId\": 459, \"Survived\": 1, \"Pclass\": 2, \"Name\": \"Toomey, Miss. Ellen\", \"Sex\": \"female\", \"Age\": 50.0, \"SibSp\": 0, \"Parch\": 0, \"Ticket\": \"F.C.C. 13531\", \"Fare\": 10.5, \"Cabin\": null, \"Embarked\": \"S\"}, {\"PassengerId\": 460, \"Survived\": 0, \"Pclass\": 3, \"Name\": \"O'Connor, Mr. Maurice\", \"Sex\": \"male\", \"Age\": null, \"SibSp\": 0, \"Parch\": 0, \"Ticket\": \"371060\", \"Fare\": 7.75, \"Cabin\": null, \"Embarked\": \"Q\"}, {\"PassengerId\": 461, \"Survived\": 1, \"Pclass\": 1, \"Name\": \"Anderson, Mr. Harry\", \"Sex\": \"male\", \"Age\": 48.0, \"SibSp\": 0, \"Parch\": 0, \"Ticket\": \"19952\", \"Fare\": 26.55, \"Cabin\": \"E12\", \"Embarked\": \"S\"}, {\"PassengerId\": 462, \"Survived\": 0, \"Pclass\": 3, \"Name\": \"Morley, Mr. William\", \"Sex\": \"male\", \"Age\": 34.0, \"SibSp\": 0, \"Parch\": 0, \"Ticket\": \"364506\", \"Fare\": 8.05, \"Cabin\": null, \"Embarked\": \"S\"}, {\"PassengerId\": 463, \"Survived\": 0, \"Pclass\": 1, \"Name\": \"Gee, Mr. Arthur H\", \"Sex\": \"male\", \"Age\": 47.0, \"SibSp\": 0, \"Parch\": 0, \"Ticket\": \"111320\", \"Fare\": 38.5, \"Cabin\": \"E63\", \"Embarked\": \"S\"}, {\"PassengerId\": 464, \"Survived\": 0, \"Pclass\": 2, \"Name\": \"Milling, Mr. Jacob Christian\", \"Sex\": \"male\", \"Age\": 48.0, \"SibSp\": 0, \"Parch\": 0, \"Ticket\": \"234360\", \"Fare\": 13.0, \"Cabin\": null, \"Embarked\": \"S\"}, {\"PassengerId\": 465, \"Survived\": 0, \"Pclass\": 3, \"Name\": \"Maisner, Mr. Simon\", \"Sex\": \"male\", \"Age\": null, \"SibSp\": 0, \"Parch\": 0, \"Ticket\": \"A/S 2816\", \"Fare\": 8.05, \"Cabin\": null, \"Embarked\": \"S\"}, {\"PassengerId\": 466, \"Survived\": 0, \"Pclass\": 3, \"Name\": \"Goncalves, Mr. Manuel Estanslas\", \"Sex\": \"male\", \"Age\": 38.0, \"SibSp\": 0, \"Parch\": 0, \"Ticket\": \"SOTON/O.Q. 3101306\", \"Fare\": 7.05, \"Cabin\": null, \"Embarked\": \"S\"}, {\"PassengerId\": 467, \"Survived\": 0, \"Pclass\": 2, \"Name\": \"Campbell, Mr. William\", \"Sex\": \"male\", \"Age\": null, \"SibSp\": 0, \"Parch\": 0, \"Ticket\": \"239853\", \"Fare\": 0.0, \"Cabin\": null, \"Embarked\": \"S\"}, {\"PassengerId\": 468, \"Survived\": 0, \"Pclass\": 1, \"Name\": \"Smart, Mr. John Montgomery\", \"Sex\": \"male\", \"Age\": 56.0, \"SibSp\": 0, \"Parch\": 0, \"Ticket\": \"113792\", \"Fare\": 26.55, \"Cabin\": null, \"Embarked\": \"S\"}, {\"PassengerId\": 469, \"Survived\": 0, \"Pclass\": 3, \"Name\": \"Scanlan, Mr. James\", \"Sex\": \"male\", \"Age\": null, \"SibSp\": 0, \"Parch\": 0, \"Ticket\": \"36209\", \"Fare\": 7.725, \"Cabin\": null, \"Embarked\": \"Q\"}, {\"PassengerId\": 470, \"Survived\": 1, \"Pclass\": 3, \"Name\": \"Baclini, Miss. Helene Barbara\", \"Sex\": \"female\", \"Age\": 0.75, \"SibSp\": 2, \"Parch\": 1, \"Ticket\": \"2666\", \"Fare\": 19.2583, \"Cabin\": null, \"Embarked\": \"C\"}, {\"PassengerId\": 471, \"Survived\": 0, \"Pclass\": 3, \"Name\": \"Keefe, Mr. Arthur\", \"Sex\": \"male\", \"Age\": null, \"SibSp\": 0, \"Parch\": 0, \"Ticket\": \"323592\", \"Fare\": 7.25, \"Cabin\": null, \"Embarked\": \"S\"}, {\"PassengerId\": 472, \"Survived\": 0, \"Pclass\": 3, \"Name\": \"Cacic, Mr. Luka\", \"Sex\": \"male\", \"Age\": 38.0, \"SibSp\": 0, \"Parch\": 0, \"Ticket\": \"315089\", \"Fare\": 8.6625, \"Cabin\": null, \"Embarked\": \"S\"}, {\"PassengerId\": 473, \"Survived\": 1, \"Pclass\": 2, \"Name\": \"West, Mrs. Edwy Arthur (Ada Mary Worth)\", \"Sex\": \"female\", \"Age\": 33.0, \"SibSp\": 1, \"Parch\": 2, \"Ticket\": \"C.A. 34651\", \"Fare\": 27.75, \"Cabin\": null, \"Embarked\": \"S\"}, {\"PassengerId\": 474, \"Survived\": 1, \"Pclass\": 2, \"Name\": \"Jerwan, Mrs. Amin S (Marie Marthe Thuillard)\", \"Sex\": \"female\", \"Age\": 23.0, \"SibSp\": 0, \"Parch\": 0, \"Ticket\": \"SC/AH Basle 541\", \"Fare\": 13.7917, \"Cabin\": \"D\", \"Embarked\": \"C\"}, {\"PassengerId\": 475, \"Survived\": 0, \"Pclass\": 3, \"Name\": \"Strandberg, Miss. Ida Sofia\", \"Sex\": \"female\", \"Age\": 22.0, \"SibSp\": 0, \"Parch\": 0, \"Ticket\": \"7553\", \"Fare\": 9.8375, \"Cabin\": null, \"Embarked\": \"S\"}, {\"PassengerId\": 476, \"Survived\": 0, \"Pclass\": 1, \"Name\": \"Clifford, Mr. George Quincy\", \"Sex\": \"male\", \"Age\": null, \"SibSp\": 0, \"Parch\": 0, \"Ticket\": \"110465\", \"Fare\": 52.0, \"Cabin\": \"A14\", \"Embarked\": \"S\"}, {\"PassengerId\": 477, \"Survived\": 0, \"Pclass\": 2, \"Name\": \"Renouf, Mr. Peter Henry\", \"Sex\": \"male\", \"Age\": 34.0, \"SibSp\": 1, \"Parch\": 0, \"Ticket\": \"31027\", \"Fare\": 21.0, \"Cabin\": null, \"Embarked\": \"S\"}, {\"PassengerId\": 478, \"Survived\": 0, \"Pclass\": 3, \"Name\": \"Braund, Mr. Lewis Richard\", \"Sex\": \"male\", \"Age\": 29.0, \"SibSp\": 1, \"Parch\": 0, \"Ticket\": \"3460\", \"Fare\": 7.0458, \"Cabin\": null, \"Embarked\": \"S\"}, {\"PassengerId\": 479, \"Survived\": 0, \"Pclass\": 3, \"Name\": \"Karlsson, Mr. Nils August\", \"Sex\": \"male\", \"Age\": 22.0, \"SibSp\": 0, \"Parch\": 0, \"Ticket\": \"350060\", \"Fare\": 7.5208, \"Cabin\": null, \"Embarked\": \"S\"}, {\"PassengerId\": 480, \"Survived\": 1, \"Pclass\": 3, \"Name\": \"Hirvonen, Miss. Hildur E\", \"Sex\": \"female\", \"Age\": 2.0, \"SibSp\": 0, \"Parch\": 1, \"Ticket\": \"3101298\", \"Fare\": 12.2875, \"Cabin\": null, \"Embarked\": \"S\"}, {\"PassengerId\": 481, \"Survived\": 0, \"Pclass\": 3, \"Name\": \"Goodwin, Master. Harold Victor\", \"Sex\": \"male\", \"Age\": 9.0, \"SibSp\": 5, \"Parch\": 2, \"Ticket\": \"CA 2144\", \"Fare\": 46.9, \"Cabin\": null, \"Embarked\": \"S\"}, {\"PassengerId\": 482, \"Survived\": 0, \"Pclass\": 2, \"Name\": \"Frost, Mr. Anthony Wood \\\"Archie\\\"\", \"Sex\": \"male\", \"Age\": null, \"SibSp\": 0, \"Parch\": 0, \"Ticket\": \"239854\", \"Fare\": 0.0, \"Cabin\": null, \"Embarked\": \"S\"}, {\"PassengerId\": 483, \"Survived\": 0, \"Pclass\": 3, \"Name\": \"Rouse, Mr. Richard Henry\", \"Sex\": \"male\", \"Age\": 50.0, \"SibSp\": 0, \"Parch\": 0, \"Ticket\": \"A/5 3594\", \"Fare\": 8.05, \"Cabin\": null, \"Embarked\": \"S\"}, {\"PassengerId\": 484, \"Survived\": 1, \"Pclass\": 3, \"Name\": \"Turkula, Mrs. (Hedwig)\", \"Sex\": \"female\", \"Age\": 63.0, \"SibSp\": 0, \"Parch\": 0, \"Ticket\": \"4134\", \"Fare\": 9.5875, \"Cabin\": null, \"Embarked\": \"S\"}, {\"PassengerId\": 485, \"Survived\": 1, \"Pclass\": 1, \"Name\": \"Bishop, Mr. Dickinson H\", \"Sex\": \"male\", \"Age\": 25.0, \"SibSp\": 1, \"Parch\": 0, \"Ticket\": \"11967\", \"Fare\": 91.0792, \"Cabin\": \"B49\", \"Embarked\": \"C\"}, {\"PassengerId\": 486, \"Survived\": 0, \"Pclass\": 3, \"Name\": \"Lefebre, Miss. Jeannie\", \"Sex\": \"female\", \"Age\": null, \"SibSp\": 3, \"Parch\": 1, \"Ticket\": \"4133\", \"Fare\": 25.4667, \"Cabin\": null, \"Embarked\": \"S\"}, {\"PassengerId\": 487, \"Survived\": 1, \"Pclass\": 1, \"Name\": \"Hoyt, Mrs. Frederick Maxfield (Jane Anne Forby)\", \"Sex\": \"female\", \"Age\": 35.0, \"SibSp\": 1, \"Parch\": 0, \"Ticket\": \"19943\", \"Fare\": 90.0, \"Cabin\": \"C93\", \"Embarked\": \"S\"}, {\"PassengerId\": 488, \"Survived\": 0, \"Pclass\": 1, \"Name\": \"Kent, Mr. Edward Austin\", \"Sex\": \"male\", \"Age\": 58.0, \"SibSp\": 0, \"Parch\": 0, \"Ticket\": \"11771\", \"Fare\": 29.7, \"Cabin\": \"B37\", \"Embarked\": \"C\"}, {\"PassengerId\": 489, \"Survived\": 0, \"Pclass\": 3, \"Name\": \"Somerton, Mr. Francis William\", \"Sex\": \"male\", \"Age\": 30.0, \"SibSp\": 0, \"Parch\": 0, \"Ticket\": \"A.5. 18509\", \"Fare\": 8.05, \"Cabin\": null, \"Embarked\": \"S\"}, {\"PassengerId\": 490, \"Survived\": 1, \"Pclass\": 3, \"Name\": \"Coutts, Master. Eden Leslie \\\"Neville\\\"\", \"Sex\": \"male\", \"Age\": 9.0, \"SibSp\": 1, \"Parch\": 1, \"Ticket\": \"C.A. 37671\", \"Fare\": 15.9, \"Cabin\": null, \"Embarked\": \"S\"}, {\"PassengerId\": 491, \"Survived\": 0, \"Pclass\": 3, \"Name\": \"Hagland, Mr. Konrad Mathias Reiersen\", \"Sex\": \"male\", \"Age\": null, \"SibSp\": 1, \"Parch\": 0, \"Ticket\": \"65304\", \"Fare\": 19.9667, \"Cabin\": null, \"Embarked\": \"S\"}, {\"PassengerId\": 492, \"Survived\": 0, \"Pclass\": 3, \"Name\": \"Windelov, Mr. Einar\", \"Sex\": \"male\", \"Age\": 21.0, \"SibSp\": 0, \"Parch\": 0, \"Ticket\": \"SOTON/OQ 3101317\", \"Fare\": 7.25, \"Cabin\": null, \"Embarked\": \"S\"}, {\"PassengerId\": 493, \"Survived\": 0, \"Pclass\": 1, \"Name\": \"Molson, Mr. Harry Markland\", \"Sex\": \"male\", \"Age\": 55.0, \"SibSp\": 0, \"Parch\": 0, \"Ticket\": \"113787\", \"Fare\": 30.5, \"Cabin\": \"C30\", \"Embarked\": \"S\"}, {\"PassengerId\": 494, \"Survived\": 0, \"Pclass\": 1, \"Name\": \"Artagaveytia, Mr. Ramon\", \"Sex\": \"male\", \"Age\": 71.0, \"SibSp\": 0, \"Parch\": 0, \"Ticket\": \"PC 17609\", \"Fare\": 49.5042, \"Cabin\": null, \"Embarked\": \"C\"}, {\"PassengerId\": 495, \"Survived\": 0, \"Pclass\": 3, \"Name\": \"Stanley, Mr. Edward Roland\", \"Sex\": \"male\", \"Age\": 21.0, \"SibSp\": 0, \"Parch\": 0, \"Ticket\": \"A/4 45380\", \"Fare\": 8.05, \"Cabin\": null, \"Embarked\": \"S\"}, {\"PassengerId\": 496, \"Survived\": 0, \"Pclass\": 3, \"Name\": \"Yousseff, Mr. Gerious\", \"Sex\": \"male\", \"Age\": null, \"SibSp\": 0, \"Parch\": 0, \"Ticket\": \"2627\", \"Fare\": 14.4583, \"Cabin\": null, \"Embarked\": \"C\"}, {\"PassengerId\": 497, \"Survived\": 1, \"Pclass\": 1, \"Name\": \"Eustis, Miss. Elizabeth Mussey\", \"Sex\": \"female\", \"Age\": 54.0, \"SibSp\": 1, \"Parch\": 0, \"Ticket\": \"36947\", \"Fare\": 78.2667, \"Cabin\": \"D20\", \"Embarked\": \"C\"}, {\"PassengerId\": 498, \"Survived\": 0, \"Pclass\": 3, \"Name\": \"Shellard, Mr. Frederick William\", \"Sex\": \"male\", \"Age\": null, \"SibSp\": 0, \"Parch\": 0, \"Ticket\": \"C.A. 6212\", \"Fare\": 15.1, \"Cabin\": null, \"Embarked\": \"S\"}, {\"PassengerId\": 499, \"Survived\": 0, \"Pclass\": 1, \"Name\": \"Allison, Mrs. Hudson J C (Bessie Waldo Daniels)\", \"Sex\": \"female\", \"Age\": 25.0, \"SibSp\": 1, \"Parch\": 2, \"Ticket\": \"113781\", \"Fare\": 151.55, \"Cabin\": \"C22 C26\", \"Embarked\": \"S\"}, {\"PassengerId\": 500, \"Survived\": 0, \"Pclass\": 3, \"Name\": \"Svensson, Mr. Olof\", \"Sex\": \"male\", \"Age\": 24.0, \"SibSp\": 0, \"Parch\": 0, \"Ticket\": \"350035\", \"Fare\": 7.7958, \"Cabin\": null, \"Embarked\": \"S\"}, {\"PassengerId\": 501, \"Survived\": 0, \"Pclass\": 3, \"Name\": \"Calic, Mr. Petar\", \"Sex\": \"male\", \"Age\": 17.0, \"SibSp\": 0, \"Parch\": 0, \"Ticket\": \"315086\", \"Fare\": 8.6625, \"Cabin\": null, \"Embarked\": \"S\"}, {\"PassengerId\": 502, \"Survived\": 0, \"Pclass\": 3, \"Name\": \"Canavan, Miss. Mary\", \"Sex\": \"female\", \"Age\": 21.0, \"SibSp\": 0, \"Parch\": 0, \"Ticket\": \"364846\", \"Fare\": 7.75, \"Cabin\": null, \"Embarked\": \"Q\"}, {\"PassengerId\": 503, \"Survived\": 0, \"Pclass\": 3, \"Name\": \"O'Sullivan, Miss. Bridget Mary\", \"Sex\": \"female\", \"Age\": null, \"SibSp\": 0, \"Parch\": 0, \"Ticket\": \"330909\", \"Fare\": 7.6292, \"Cabin\": null, \"Embarked\": \"Q\"}, {\"PassengerId\": 504, \"Survived\": 0, \"Pclass\": 3, \"Name\": \"Laitinen, Miss. Kristina Sofia\", \"Sex\": \"female\", \"Age\": 37.0, \"SibSp\": 0, \"Parch\": 0, \"Ticket\": \"4135\", \"Fare\": 9.5875, \"Cabin\": null, \"Embarked\": \"S\"}, {\"PassengerId\": 505, \"Survived\": 1, \"Pclass\": 1, \"Name\": \"Maioni, Miss. Roberta\", \"Sex\": \"female\", \"Age\": 16.0, \"SibSp\": 0, \"Parch\": 0, \"Ticket\": \"110152\", \"Fare\": 86.5, \"Cabin\": \"B79\", \"Embarked\": \"S\"}, {\"PassengerId\": 506, \"Survived\": 0, \"Pclass\": 1, \"Name\": \"Penasco y Castellana, Mr. Victor de Satode\", \"Sex\": \"male\", \"Age\": 18.0, \"SibSp\": 1, \"Parch\": 0, \"Ticket\": \"PC 17758\", \"Fare\": 108.9, \"Cabin\": \"C65\", \"Embarked\": \"C\"}, {\"PassengerId\": 507, \"Survived\": 1, \"Pclass\": 2, \"Name\": \"Quick, Mrs. Frederick Charles (Jane Richards)\", \"Sex\": \"female\", \"Age\": 33.0, \"SibSp\": 0, \"Parch\": 2, \"Ticket\": \"26360\", \"Fare\": 26.0, \"Cabin\": null, \"Embarked\": \"S\"}, {\"PassengerId\": 508, \"Survived\": 1, \"Pclass\": 1, \"Name\": \"Bradley, Mr. George (\\\"George Arthur Brayton\\\")\", \"Sex\": \"male\", \"Age\": null, \"SibSp\": 0, \"Parch\": 0, \"Ticket\": \"111427\", \"Fare\": 26.55, \"Cabin\": null, \"Embarked\": \"S\"}, {\"PassengerId\": 509, \"Survived\": 0, \"Pclass\": 3, \"Name\": \"Olsen, Mr. Henry Margido\", \"Sex\": \"male\", \"Age\": 28.0, \"SibSp\": 0, \"Parch\": 0, \"Ticket\": \"C 4001\", \"Fare\": 22.525, \"Cabin\": null, \"Embarked\": \"S\"}, {\"PassengerId\": 510, \"Survived\": 1, \"Pclass\": 3, \"Name\": \"Lang, Mr. Fang\", \"Sex\": \"male\", \"Age\": 26.0, \"SibSp\": 0, \"Parch\": 0, \"Ticket\": \"1601\", \"Fare\": 56.4958, \"Cabin\": null, \"Embarked\": \"S\"}, {\"PassengerId\": 511, \"Survived\": 1, \"Pclass\": 3, \"Name\": \"Daly, Mr. Eugene Patrick\", \"Sex\": \"male\", \"Age\": 29.0, \"SibSp\": 0, \"Parch\": 0, \"Ticket\": \"382651\", \"Fare\": 7.75, \"Cabin\": null, \"Embarked\": \"Q\"}, {\"PassengerId\": 512, \"Survived\": 0, \"Pclass\": 3, \"Name\": \"Webber, Mr. James\", \"Sex\": \"male\", \"Age\": null, \"SibSp\": 0, \"Parch\": 0, \"Ticket\": \"SOTON/OQ 3101316\", \"Fare\": 8.05, \"Cabin\": null, \"Embarked\": \"S\"}, {\"PassengerId\": 513, \"Survived\": 1, \"Pclass\": 1, \"Name\": \"McGough, Mr. James Robert\", \"Sex\": \"male\", \"Age\": 36.0, \"SibSp\": 0, \"Parch\": 0, \"Ticket\": \"PC 17473\", \"Fare\": 26.2875, \"Cabin\": \"E25\", \"Embarked\": \"S\"}, {\"PassengerId\": 514, \"Survived\": 1, \"Pclass\": 1, \"Name\": \"Rothschild, Mrs. Martin (Elizabeth L. Barrett)\", \"Sex\": \"female\", \"Age\": 54.0, \"SibSp\": 1, \"Parch\": 0, \"Ticket\": \"PC 17603\", \"Fare\": 59.4, \"Cabin\": null, \"Embarked\": \"C\"}, {\"PassengerId\": 515, \"Survived\": 0, \"Pclass\": 3, \"Name\": \"Coleff, Mr. Satio\", \"Sex\": \"male\", \"Age\": 24.0, \"SibSp\": 0, \"Parch\": 0, \"Ticket\": \"349209\", \"Fare\": 7.4958, \"Cabin\": null, \"Embarked\": \"S\"}, {\"PassengerId\": 516, \"Survived\": 0, \"Pclass\": 1, \"Name\": \"Walker, Mr. William Anderson\", \"Sex\": \"male\", \"Age\": 47.0, \"SibSp\": 0, \"Parch\": 0, \"Ticket\": \"36967\", \"Fare\": 34.0208, \"Cabin\": \"D46\", \"Embarked\": \"S\"}, {\"PassengerId\": 517, \"Survived\": 1, \"Pclass\": 2, \"Name\": \"Lemore, Mrs. (Amelia Milley)\", \"Sex\": \"female\", \"Age\": 34.0, \"SibSp\": 0, \"Parch\": 0, \"Ticket\": \"C.A. 34260\", \"Fare\": 10.5, \"Cabin\": \"F33\", \"Embarked\": \"S\"}, {\"PassengerId\": 518, \"Survived\": 0, \"Pclass\": 3, \"Name\": \"Ryan, Mr. Patrick\", \"Sex\": \"male\", \"Age\": null, \"SibSp\": 0, \"Parch\": 0, \"Ticket\": \"371110\", \"Fare\": 24.15, \"Cabin\": null, \"Embarked\": \"Q\"}, {\"PassengerId\": 519, \"Survived\": 1, \"Pclass\": 2, \"Name\": \"Angle, Mrs. William A (Florence \\\"Mary\\\" Agnes Hughes)\", \"Sex\": \"female\", \"Age\": 36.0, \"SibSp\": 1, \"Parch\": 0, \"Ticket\": \"226875\", \"Fare\": 26.0, \"Cabin\": null, \"Embarked\": \"S\"}, {\"PassengerId\": 520, \"Survived\": 0, \"Pclass\": 3, \"Name\": \"Pavlovic, Mr. Stefo\", \"Sex\": \"male\", \"Age\": 32.0, \"SibSp\": 0, \"Parch\": 0, \"Ticket\": \"349242\", \"Fare\": 7.8958, \"Cabin\": null, \"Embarked\": \"S\"}, {\"PassengerId\": 521, \"Survived\": 1, \"Pclass\": 1, \"Name\": \"Perreault, Miss. Anne\", \"Sex\": \"female\", \"Age\": 30.0, \"SibSp\": 0, \"Parch\": 0, \"Ticket\": \"12749\", \"Fare\": 93.5, \"Cabin\": \"B73\", \"Embarked\": \"S\"}, {\"PassengerId\": 522, \"Survived\": 0, \"Pclass\": 3, \"Name\": \"Vovk, Mr. Janko\", \"Sex\": \"male\", \"Age\": 22.0, \"SibSp\": 0, \"Parch\": 0, \"Ticket\": \"349252\", \"Fare\": 7.8958, \"Cabin\": null, \"Embarked\": \"S\"}, {\"PassengerId\": 523, \"Survived\": 0, \"Pclass\": 3, \"Name\": \"Lahoud, Mr. Sarkis\", \"Sex\": \"male\", \"Age\": null, \"SibSp\": 0, \"Parch\": 0, \"Ticket\": \"2624\", \"Fare\": 7.225, \"Cabin\": null, \"Embarked\": \"C\"}, {\"PassengerId\": 524, \"Survived\": 1, \"Pclass\": 1, \"Name\": \"Hippach, Mrs. Louis Albert (Ida Sophia Fischer)\", \"Sex\": \"female\", \"Age\": 44.0, \"SibSp\": 0, \"Parch\": 1, \"Ticket\": \"111361\", \"Fare\": 57.9792, \"Cabin\": \"B18\", \"Embarked\": \"C\"}, {\"PassengerId\": 525, \"Survived\": 0, \"Pclass\": 3, \"Name\": \"Kassem, Mr. Fared\", \"Sex\": \"male\", \"Age\": null, \"SibSp\": 0, \"Parch\": 0, \"Ticket\": \"2700\", \"Fare\": 7.2292, \"Cabin\": null, \"Embarked\": \"C\"}, {\"PassengerId\": 526, \"Survived\": 0, \"Pclass\": 3, \"Name\": \"Farrell, Mr. James\", \"Sex\": \"male\", \"Age\": 40.5, \"SibSp\": 0, \"Parch\": 0, \"Ticket\": \"367232\", \"Fare\": 7.75, \"Cabin\": null, \"Embarked\": \"Q\"}, {\"PassengerId\": 527, \"Survived\": 1, \"Pclass\": 2, \"Name\": \"Ridsdale, Miss. Lucy\", \"Sex\": \"female\", \"Age\": 50.0, \"SibSp\": 0, \"Parch\": 0, \"Ticket\": \"W./C. 14258\", \"Fare\": 10.5, \"Cabin\": null, \"Embarked\": \"S\"}, {\"PassengerId\": 528, \"Survived\": 0, \"Pclass\": 1, \"Name\": \"Farthing, Mr. John\", \"Sex\": \"male\", \"Age\": null, \"SibSp\": 0, \"Parch\": 0, \"Ticket\": \"PC 17483\", \"Fare\": 221.7792, \"Cabin\": \"C95\", \"Embarked\": \"S\"}, {\"PassengerId\": 529, \"Survived\": 0, \"Pclass\": 3, \"Name\": \"Salonen, Mr. Johan Werner\", \"Sex\": \"male\", \"Age\": 39.0, \"SibSp\": 0, \"Parch\": 0, \"Ticket\": \"3101296\", \"Fare\": 7.925, \"Cabin\": null, \"Embarked\": \"S\"}, {\"PassengerId\": 530, \"Survived\": 0, \"Pclass\": 2, \"Name\": \"Hocking, Mr. Richard George\", \"Sex\": \"male\", \"Age\": 23.0, \"SibSp\": 2, \"Parch\": 1, \"Ticket\": \"29104\", \"Fare\": 11.5, \"Cabin\": null, \"Embarked\": \"S\"}, {\"PassengerId\": 531, \"Survived\": 1, \"Pclass\": 2, \"Name\": \"Quick, Miss. Phyllis May\", \"Sex\": \"female\", \"Age\": 2.0, \"SibSp\": 1, \"Parch\": 1, \"Ticket\": \"26360\", \"Fare\": 26.0, \"Cabin\": null, \"Embarked\": \"S\"}, {\"PassengerId\": 532, \"Survived\": 0, \"Pclass\": 3, \"Name\": \"Toufik, Mr. Nakli\", \"Sex\": \"male\", \"Age\": null, \"SibSp\": 0, \"Parch\": 0, \"Ticket\": \"2641\", \"Fare\": 7.2292, \"Cabin\": null, \"Embarked\": \"C\"}, {\"PassengerId\": 533, \"Survived\": 0, \"Pclass\": 3, \"Name\": \"Elias, Mr. Joseph Jr\", \"Sex\": \"male\", \"Age\": 17.0, \"SibSp\": 1, \"Parch\": 1, \"Ticket\": \"2690\", \"Fare\": 7.2292, \"Cabin\": null, \"Embarked\": \"C\"}, {\"PassengerId\": 534, \"Survived\": 1, \"Pclass\": 3, \"Name\": \"Peter, Mrs. Catherine (Catherine Rizk)\", \"Sex\": \"female\", \"Age\": null, \"SibSp\": 0, \"Parch\": 2, \"Ticket\": \"2668\", \"Fare\": 22.3583, \"Cabin\": null, \"Embarked\": \"C\"}, {\"PassengerId\": 535, \"Survived\": 0, \"Pclass\": 3, \"Name\": \"Cacic, Miss. Marija\", \"Sex\": \"female\", \"Age\": 30.0, \"SibSp\": 0, \"Parch\": 0, \"Ticket\": \"315084\", \"Fare\": 8.6625, \"Cabin\": null, \"Embarked\": \"S\"}, {\"PassengerId\": 536, \"Survived\": 1, \"Pclass\": 2, \"Name\": \"Hart, Miss. Eva Miriam\", \"Sex\": \"female\", \"Age\": 7.0, \"SibSp\": 0, \"Parch\": 2, \"Ticket\": \"F.C.C. 13529\", \"Fare\": 26.25, \"Cabin\": null, \"Embarked\": \"S\"}, {\"PassengerId\": 537, \"Survived\": 0, \"Pclass\": 1, \"Name\": \"Butt, Major. Archibald Willingham\", \"Sex\": \"male\", \"Age\": 45.0, \"SibSp\": 0, \"Parch\": 0, \"Ticket\": \"113050\", \"Fare\": 26.55, \"Cabin\": \"B38\", \"Embarked\": \"S\"}, {\"PassengerId\": 538, \"Survived\": 1, \"Pclass\": 1, \"Name\": \"LeRoy, Miss. Bertha\", \"Sex\": \"female\", \"Age\": 30.0, \"SibSp\": 0, \"Parch\": 0, \"Ticket\": \"PC 17761\", \"Fare\": 106.425, \"Cabin\": null, \"Embarked\": \"C\"}, {\"PassengerId\": 539, \"Survived\": 0, \"Pclass\": 3, \"Name\": \"Risien, Mr. Samuel Beard\", \"Sex\": \"male\", \"Age\": null, \"SibSp\": 0, \"Parch\": 0, \"Ticket\": \"364498\", \"Fare\": 14.5, \"Cabin\": null, \"Embarked\": \"S\"}, {\"PassengerId\": 540, \"Survived\": 1, \"Pclass\": 1, \"Name\": \"Frolicher, Miss. Hedwig Margaritha\", \"Sex\": \"female\", \"Age\": 22.0, \"SibSp\": 0, \"Parch\": 2, \"Ticket\": \"13568\", \"Fare\": 49.5, \"Cabin\": \"B39\", \"Embarked\": \"C\"}, {\"PassengerId\": 541, \"Survived\": 1, \"Pclass\": 1, \"Name\": \"Crosby, Miss. Harriet R\", \"Sex\": \"female\", \"Age\": 36.0, \"SibSp\": 0, \"Parch\": 2, \"Ticket\": \"WE/P 5735\", \"Fare\": 71.0, \"Cabin\": \"B22\", \"Embarked\": \"S\"}, {\"PassengerId\": 542, \"Survived\": 0, \"Pclass\": 3, \"Name\": \"Andersson, Miss. Ingeborg Constanzia\", \"Sex\": \"female\", \"Age\": 9.0, \"SibSp\": 4, \"Parch\": 2, \"Ticket\": \"347082\", \"Fare\": 31.275, \"Cabin\": null, \"Embarked\": \"S\"}, {\"PassengerId\": 543, \"Survived\": 0, \"Pclass\": 3, \"Name\": \"Andersson, Miss. Sigrid Elisabeth\", \"Sex\": \"female\", \"Age\": 11.0, \"SibSp\": 4, \"Parch\": 2, \"Ticket\": \"347082\", \"Fare\": 31.275, \"Cabin\": null, \"Embarked\": \"S\"}, {\"PassengerId\": 544, \"Survived\": 1, \"Pclass\": 2, \"Name\": \"Beane, Mr. Edward\", \"Sex\": \"male\", \"Age\": 32.0, \"SibSp\": 1, \"Parch\": 0, \"Ticket\": \"2908\", \"Fare\": 26.0, \"Cabin\": null, \"Embarked\": \"S\"}, {\"PassengerId\": 545, \"Survived\": 0, \"Pclass\": 1, \"Name\": \"Douglas, Mr. Walter Donald\", \"Sex\": \"male\", \"Age\": 50.0, \"SibSp\": 1, \"Parch\": 0, \"Ticket\": \"PC 17761\", \"Fare\": 106.425, \"Cabin\": \"C86\", \"Embarked\": \"C\"}, {\"PassengerId\": 546, \"Survived\": 0, \"Pclass\": 1, \"Name\": \"Nicholson, Mr. Arthur Ernest\", \"Sex\": \"male\", \"Age\": 64.0, \"SibSp\": 0, \"Parch\": 0, \"Ticket\": \"693\", \"Fare\": 26.0, \"Cabin\": null, \"Embarked\": \"S\"}, {\"PassengerId\": 547, \"Survived\": 1, \"Pclass\": 2, \"Name\": \"Beane, Mrs. Edward (Ethel Clarke)\", \"Sex\": \"female\", \"Age\": 19.0, \"SibSp\": 1, \"Parch\": 0, \"Ticket\": \"2908\", \"Fare\": 26.0, \"Cabin\": null, \"Embarked\": \"S\"}, {\"PassengerId\": 548, \"Survived\": 1, \"Pclass\": 2, \"Name\": \"Padro y Manent, Mr. Julian\", \"Sex\": \"male\", \"Age\": null, \"SibSp\": 0, \"Parch\": 0, \"Ticket\": \"SC/PARIS 2146\", \"Fare\": 13.8625, \"Cabin\": null, \"Embarked\": \"C\"}, {\"PassengerId\": 549, \"Survived\": 0, \"Pclass\": 3, \"Name\": \"Goldsmith, Mr. Frank John\", \"Sex\": \"male\", \"Age\": 33.0, \"SibSp\": 1, \"Parch\": 1, \"Ticket\": \"363291\", \"Fare\": 20.525, \"Cabin\": null, \"Embarked\": \"S\"}, {\"PassengerId\": 550, \"Survived\": 1, \"Pclass\": 2, \"Name\": \"Davies, Master. John Morgan Jr\", \"Sex\": \"male\", \"Age\": 8.0, \"SibSp\": 1, \"Parch\": 1, \"Ticket\": \"C.A. 33112\", \"Fare\": 36.75, \"Cabin\": null, \"Embarked\": \"S\"}, {\"PassengerId\": 551, \"Survived\": 1, \"Pclass\": 1, \"Name\": \"Thayer, Mr. John Borland Jr\", \"Sex\": \"male\", \"Age\": 17.0, \"SibSp\": 0, \"Parch\": 2, \"Ticket\": \"17421\", \"Fare\": 110.8833, \"Cabin\": \"C70\", \"Embarked\": \"C\"}, {\"PassengerId\": 552, \"Survived\": 0, \"Pclass\": 2, \"Name\": \"Sharp, Mr. Percival James R\", \"Sex\": \"male\", \"Age\": 27.0, \"SibSp\": 0, \"Parch\": 0, \"Ticket\": \"244358\", \"Fare\": 26.0, \"Cabin\": null, \"Embarked\": \"S\"}, {\"PassengerId\": 553, \"Survived\": 0, \"Pclass\": 3, \"Name\": \"O'Brien, Mr. Timothy\", \"Sex\": \"male\", \"Age\": null, \"SibSp\": 0, \"Parch\": 0, \"Ticket\": \"330979\", \"Fare\": 7.8292, \"Cabin\": null, \"Embarked\": \"Q\"}, {\"PassengerId\": 554, \"Survived\": 1, \"Pclass\": 3, \"Name\": \"Leeni, Mr. Fahim (\\\"Philip Zenni\\\")\", \"Sex\": \"male\", \"Age\": 22.0, \"SibSp\": 0, \"Parch\": 0, \"Ticket\": \"2620\", \"Fare\": 7.225, \"Cabin\": null, \"Embarked\": \"C\"}, {\"PassengerId\": 555, \"Survived\": 1, \"Pclass\": 3, \"Name\": \"Ohman, Miss. Velin\", \"Sex\": \"female\", \"Age\": 22.0, \"SibSp\": 0, \"Parch\": 0, \"Ticket\": \"347085\", \"Fare\": 7.775, \"Cabin\": null, \"Embarked\": \"S\"}, {\"PassengerId\": 556, \"Survived\": 0, \"Pclass\": 1, \"Name\": \"Wright, Mr. George\", \"Sex\": \"male\", \"Age\": 62.0, \"SibSp\": 0, \"Parch\": 0, \"Ticket\": \"113807\", \"Fare\": 26.55, \"Cabin\": null, \"Embarked\": \"S\"}, {\"PassengerId\": 557, \"Survived\": 1, \"Pclass\": 1, \"Name\": \"Duff Gordon, Lady. (Lucille Christiana Sutherland) (\\\"Mrs Morgan\\\")\", \"Sex\": \"female\", \"Age\": 48.0, \"SibSp\": 1, \"Parch\": 0, \"Ticket\": \"11755\", \"Fare\": 39.6, \"Cabin\": \"A16\", \"Embarked\": \"C\"}, {\"PassengerId\": 558, \"Survived\": 0, \"Pclass\": 1, \"Name\": \"Robbins, Mr. Victor\", \"Sex\": \"male\", \"Age\": null, \"SibSp\": 0, \"Parch\": 0, \"Ticket\": \"PC 17757\", \"Fare\": 227.525, \"Cabin\": null, \"Embarked\": \"C\"}, {\"PassengerId\": 559, \"Survived\": 1, \"Pclass\": 1, \"Name\": \"Taussig, Mrs. Emil (Tillie Mandelbaum)\", \"Sex\": \"female\", \"Age\": 39.0, \"SibSp\": 1, \"Parch\": 1, \"Ticket\": \"110413\", \"Fare\": 79.65, \"Cabin\": \"E67\", \"Embarked\": \"S\"}, {\"PassengerId\": 560, \"Survived\": 1, \"Pclass\": 3, \"Name\": \"de Messemaeker, Mrs. Guillaume Joseph (Emma)\", \"Sex\": \"female\", \"Age\": 36.0, \"SibSp\": 1, \"Parch\": 0, \"Ticket\": \"345572\", \"Fare\": 17.4, \"Cabin\": null, \"Embarked\": \"S\"}, {\"PassengerId\": 561, \"Survived\": 0, \"Pclass\": 3, \"Name\": \"Morrow, Mr. Thomas Rowan\", \"Sex\": \"male\", \"Age\": null, \"SibSp\": 0, \"Parch\": 0, \"Ticket\": \"372622\", \"Fare\": 7.75, \"Cabin\": null, \"Embarked\": \"Q\"}, {\"PassengerId\": 562, \"Survived\": 0, \"Pclass\": 3, \"Name\": \"Sivic, Mr. Husein\", \"Sex\": \"male\", \"Age\": 40.0, \"SibSp\": 0, \"Parch\": 0, \"Ticket\": \"349251\", \"Fare\": 7.8958, \"Cabin\": null, \"Embarked\": \"S\"}, {\"PassengerId\": 563, \"Survived\": 0, \"Pclass\": 2, \"Name\": \"Norman, Mr. Robert Douglas\", \"Sex\": \"male\", \"Age\": 28.0, \"SibSp\": 0, \"Parch\": 0, \"Ticket\": \"218629\", \"Fare\": 13.5, \"Cabin\": null, \"Embarked\": \"S\"}, {\"PassengerId\": 564, \"Survived\": 0, \"Pclass\": 3, \"Name\": \"Simmons, Mr. John\", \"Sex\": \"male\", \"Age\": null, \"SibSp\": 0, \"Parch\": 0, \"Ticket\": \"SOTON/OQ 392082\", \"Fare\": 8.05, \"Cabin\": null, \"Embarked\": \"S\"}, {\"PassengerId\": 565, \"Survived\": 0, \"Pclass\": 3, \"Name\": \"Meanwell, Miss. (Marion Ogden)\", \"Sex\": \"female\", \"Age\": null, \"SibSp\": 0, \"Parch\": 0, \"Ticket\": \"SOTON/O.Q. 392087\", \"Fare\": 8.05, \"Cabin\": null, \"Embarked\": \"S\"}, {\"PassengerId\": 566, \"Survived\": 0, \"Pclass\": 3, \"Name\": \"Davies, Mr. Alfred J\", \"Sex\": \"male\", \"Age\": 24.0, \"SibSp\": 2, \"Parch\": 0, \"Ticket\": \"A/4 48871\", \"Fare\": 24.15, \"Cabin\": null, \"Embarked\": \"S\"}, {\"PassengerId\": 567, \"Survived\": 0, \"Pclass\": 3, \"Name\": \"Stoytcheff, Mr. Ilia\", \"Sex\": \"male\", \"Age\": 19.0, \"SibSp\": 0, \"Parch\": 0, \"Ticket\": \"349205\", \"Fare\": 7.8958, \"Cabin\": null, \"Embarked\": \"S\"}, {\"PassengerId\": 568, \"Survived\": 0, \"Pclass\": 3, \"Name\": \"Palsson, Mrs. Nils (Alma Cornelia Berglund)\", \"Sex\": \"female\", \"Age\": 29.0, \"SibSp\": 0, \"Parch\": 4, \"Ticket\": \"349909\", \"Fare\": 21.075, \"Cabin\": null, \"Embarked\": \"S\"}, {\"PassengerId\": 569, \"Survived\": 0, \"Pclass\": 3, \"Name\": \"Doharr, Mr. Tannous\", \"Sex\": \"male\", \"Age\": null, \"SibSp\": 0, \"Parch\": 0, \"Ticket\": \"2686\", \"Fare\": 7.2292, \"Cabin\": null, \"Embarked\": \"C\"}, {\"PassengerId\": 570, \"Survived\": 1, \"Pclass\": 3, \"Name\": \"Jonsson, Mr. Carl\", \"Sex\": \"male\", \"Age\": 32.0, \"SibSp\": 0, \"Parch\": 0, \"Ticket\": \"350417\", \"Fare\": 7.8542, \"Cabin\": null, \"Embarked\": \"S\"}, {\"PassengerId\": 571, \"Survived\": 1, \"Pclass\": 2, \"Name\": \"Harris, Mr. George\", \"Sex\": \"male\", \"Age\": 62.0, \"SibSp\": 0, \"Parch\": 0, \"Ticket\": \"S.W./PP 752\", \"Fare\": 10.5, \"Cabin\": null, \"Embarked\": \"S\"}, {\"PassengerId\": 572, \"Survived\": 1, \"Pclass\": 1, \"Name\": \"Appleton, Mrs. Edward Dale (Charlotte Lamson)\", \"Sex\": \"female\", \"Age\": 53.0, \"SibSp\": 2, \"Parch\": 0, \"Ticket\": \"11769\", \"Fare\": 51.4792, \"Cabin\": \"C101\", \"Embarked\": \"S\"}, {\"PassengerId\": 573, \"Survived\": 1, \"Pclass\": 1, \"Name\": \"Flynn, Mr. John Irwin (\\\"Irving\\\")\", \"Sex\": \"male\", \"Age\": 36.0, \"SibSp\": 0, \"Parch\": 0, \"Ticket\": \"PC 17474\", \"Fare\": 26.3875, \"Cabin\": \"E25\", \"Embarked\": \"S\"}, {\"PassengerId\": 574, \"Survived\": 1, \"Pclass\": 3, \"Name\": \"Kelly, Miss. Mary\", \"Sex\": \"female\", \"Age\": null, \"SibSp\": 0, \"Parch\": 0, \"Ticket\": \"14312\", \"Fare\": 7.75, \"Cabin\": null, \"Embarked\": \"Q\"}, {\"PassengerId\": 575, \"Survived\": 0, \"Pclass\": 3, \"Name\": \"Rush, Mr. Alfred George John\", \"Sex\": \"male\", \"Age\": 16.0, \"SibSp\": 0, \"Parch\": 0, \"Ticket\": \"A/4. 20589\", \"Fare\": 8.05, \"Cabin\": null, \"Embarked\": \"S\"}, {\"PassengerId\": 576, \"Survived\": 0, \"Pclass\": 3, \"Name\": \"Patchett, Mr. George\", \"Sex\": \"male\", \"Age\": 19.0, \"SibSp\": 0, \"Parch\": 0, \"Ticket\": \"358585\", \"Fare\": 14.5, \"Cabin\": null, \"Embarked\": \"S\"}, {\"PassengerId\": 577, \"Survived\": 1, \"Pclass\": 2, \"Name\": \"Garside, Miss. Ethel\", \"Sex\": \"female\", \"Age\": 34.0, \"SibSp\": 0, \"Parch\": 0, \"Ticket\": \"243880\", \"Fare\": 13.0, \"Cabin\": null, \"Embarked\": \"S\"}, {\"PassengerId\": 578, \"Survived\": 1, \"Pclass\": 1, \"Name\": \"Silvey, Mrs. William Baird (Alice Munger)\", \"Sex\": \"female\", \"Age\": 39.0, \"SibSp\": 1, \"Parch\": 0, \"Ticket\": \"13507\", \"Fare\": 55.9, \"Cabin\": \"E44\", \"Embarked\": \"S\"}, {\"PassengerId\": 579, \"Survived\": 0, \"Pclass\": 3, \"Name\": \"Caram, Mrs. Joseph (Maria Elias)\", \"Sex\": \"female\", \"Age\": null, \"SibSp\": 1, \"Parch\": 0, \"Ticket\": \"2689\", \"Fare\": 14.4583, \"Cabin\": null, \"Embarked\": \"C\"}, {\"PassengerId\": 580, \"Survived\": 1, \"Pclass\": 3, \"Name\": \"Jussila, Mr. Eiriik\", \"Sex\": \"male\", \"Age\": 32.0, \"SibSp\": 0, \"Parch\": 0, \"Ticket\": \"STON/O 2. 3101286\", \"Fare\": 7.925, \"Cabin\": null, \"Embarked\": \"S\"}, {\"PassengerId\": 581, \"Survived\": 1, \"Pclass\": 2, \"Name\": \"Christy, Miss. Julie Rachel\", \"Sex\": \"female\", \"Age\": 25.0, \"SibSp\": 1, \"Parch\": 1, \"Ticket\": \"237789\", \"Fare\": 30.0, \"Cabin\": null, \"Embarked\": \"S\"}, {\"PassengerId\": 582, \"Survived\": 1, \"Pclass\": 1, \"Name\": \"Thayer, Mrs. John Borland (Marian Longstreth Morris)\", \"Sex\": \"female\", \"Age\": 39.0, \"SibSp\": 1, \"Parch\": 1, \"Ticket\": \"17421\", \"Fare\": 110.8833, \"Cabin\": \"C68\", \"Embarked\": \"C\"}, {\"PassengerId\": 583, \"Survived\": 0, \"Pclass\": 2, \"Name\": \"Downton, Mr. William James\", \"Sex\": \"male\", \"Age\": 54.0, \"SibSp\": 0, \"Parch\": 0, \"Ticket\": \"28403\", \"Fare\": 26.0, \"Cabin\": null, \"Embarked\": \"S\"}, {\"PassengerId\": 584, \"Survived\": 0, \"Pclass\": 1, \"Name\": \"Ross, Mr. John Hugo\", \"Sex\": \"male\", \"Age\": 36.0, \"SibSp\": 0, \"Parch\": 0, \"Ticket\": \"13049\", \"Fare\": 40.125, \"Cabin\": \"A10\", \"Embarked\": \"C\"}, {\"PassengerId\": 585, \"Survived\": 0, \"Pclass\": 3, \"Name\": \"Paulner, Mr. Uscher\", \"Sex\": \"male\", \"Age\": null, \"SibSp\": 0, \"Parch\": 0, \"Ticket\": \"3411\", \"Fare\": 8.7125, \"Cabin\": null, \"Embarked\": \"C\"}, {\"PassengerId\": 586, \"Survived\": 1, \"Pclass\": 1, \"Name\": \"Taussig, Miss. Ruth\", \"Sex\": \"female\", \"Age\": 18.0, \"SibSp\": 0, \"Parch\": 2, \"Ticket\": \"110413\", \"Fare\": 79.65, \"Cabin\": \"E68\", \"Embarked\": \"S\"}, {\"PassengerId\": 587, \"Survived\": 0, \"Pclass\": 2, \"Name\": \"Jarvis, Mr. John Denzil\", \"Sex\": \"male\", \"Age\": 47.0, \"SibSp\": 0, \"Parch\": 0, \"Ticket\": \"237565\", \"Fare\": 15.0, \"Cabin\": null, \"Embarked\": \"S\"}, {\"PassengerId\": 588, \"Survived\": 1, \"Pclass\": 1, \"Name\": \"Frolicher-Stehli, Mr. Maxmillian\", \"Sex\": \"male\", \"Age\": 60.0, \"SibSp\": 1, \"Parch\": 1, \"Ticket\": \"13567\", \"Fare\": 79.2, \"Cabin\": \"B41\", \"Embarked\": \"C\"}, {\"PassengerId\": 589, \"Survived\": 0, \"Pclass\": 3, \"Name\": \"Gilinski, Mr. Eliezer\", \"Sex\": \"male\", \"Age\": 22.0, \"SibSp\": 0, \"Parch\": 0, \"Ticket\": \"14973\", \"Fare\": 8.05, \"Cabin\": null, \"Embarked\": \"S\"}, {\"PassengerId\": 590, \"Survived\": 0, \"Pclass\": 3, \"Name\": \"Murdlin, Mr. Joseph\", \"Sex\": \"male\", \"Age\": null, \"SibSp\": 0, \"Parch\": 0, \"Ticket\": \"A./5. 3235\", \"Fare\": 8.05, \"Cabin\": null, \"Embarked\": \"S\"}, {\"PassengerId\": 591, \"Survived\": 0, \"Pclass\": 3, \"Name\": \"Rintamaki, Mr. Matti\", \"Sex\": \"male\", \"Age\": 35.0, \"SibSp\": 0, \"Parch\": 0, \"Ticket\": \"STON/O 2. 3101273\", \"Fare\": 7.125, \"Cabin\": null, \"Embarked\": \"S\"}, {\"PassengerId\": 592, \"Survived\": 1, \"Pclass\": 1, \"Name\": \"Stephenson, Mrs. Walter Bertram (Martha Eustis)\", \"Sex\": \"female\", \"Age\": 52.0, \"SibSp\": 1, \"Parch\": 0, \"Ticket\": \"36947\", \"Fare\": 78.2667, \"Cabin\": \"D20\", \"Embarked\": \"C\"}, {\"PassengerId\": 593, \"Survived\": 0, \"Pclass\": 3, \"Name\": \"Elsbury, Mr. William James\", \"Sex\": \"male\", \"Age\": 47.0, \"SibSp\": 0, \"Parch\": 0, \"Ticket\": \"A/5 3902\", \"Fare\": 7.25, \"Cabin\": null, \"Embarked\": \"S\"}, {\"PassengerId\": 594, \"Survived\": 0, \"Pclass\": 3, \"Name\": \"Bourke, Miss. Mary\", \"Sex\": \"female\", \"Age\": null, \"SibSp\": 0, \"Parch\": 2, \"Ticket\": \"364848\", \"Fare\": 7.75, \"Cabin\": null, \"Embarked\": \"Q\"}, {\"PassengerId\": 595, \"Survived\": 0, \"Pclass\": 2, \"Name\": \"Chapman, Mr. John Henry\", \"Sex\": \"male\", \"Age\": 37.0, \"SibSp\": 1, \"Parch\": 0, \"Ticket\": \"SC/AH 29037\", \"Fare\": 26.0, \"Cabin\": null, \"Embarked\": \"S\"}, {\"PassengerId\": 596, \"Survived\": 0, \"Pclass\": 3, \"Name\": \"Van Impe, Mr. Jean Baptiste\", \"Sex\": \"male\", \"Age\": 36.0, \"SibSp\": 1, \"Parch\": 1, \"Ticket\": \"345773\", \"Fare\": 24.15, \"Cabin\": null, \"Embarked\": \"S\"}, {\"PassengerId\": 597, \"Survived\": 1, \"Pclass\": 2, \"Name\": \"Leitch, Miss. Jessie Wills\", \"Sex\": \"female\", \"Age\": null, \"SibSp\": 0, \"Parch\": 0, \"Ticket\": \"248727\", \"Fare\": 33.0, \"Cabin\": null, \"Embarked\": \"S\"}, {\"PassengerId\": 598, \"Survived\": 0, \"Pclass\": 3, \"Name\": \"Johnson, Mr. Alfred\", \"Sex\": \"male\", \"Age\": 49.0, \"SibSp\": 0, \"Parch\": 0, \"Ticket\": \"LINE\", \"Fare\": 0.0, \"Cabin\": null, \"Embarked\": \"S\"}, {\"PassengerId\": 599, \"Survived\": 0, \"Pclass\": 3, \"Name\": \"Boulos, Mr. Hanna\", \"Sex\": \"male\", \"Age\": null, \"SibSp\": 0, \"Parch\": 0, \"Ticket\": \"2664\", \"Fare\": 7.225, \"Cabin\": null, \"Embarked\": \"C\"}, {\"PassengerId\": 600, \"Survived\": 1, \"Pclass\": 1, \"Name\": \"Duff Gordon, Sir. Cosmo Edmund (\\\"Mr Morgan\\\")\", \"Sex\": \"male\", \"Age\": 49.0, \"SibSp\": 1, \"Parch\": 0, \"Ticket\": \"PC 17485\", \"Fare\": 56.9292, \"Cabin\": \"A20\", \"Embarked\": \"C\"}, {\"PassengerId\": 601, \"Survived\": 1, \"Pclass\": 2, \"Name\": \"Jacobsohn, Mrs. Sidney Samuel (Amy Frances Christy)\", \"Sex\": \"female\", \"Age\": 24.0, \"SibSp\": 2, \"Parch\": 1, \"Ticket\": \"243847\", \"Fare\": 27.0, \"Cabin\": null, \"Embarked\": \"S\"}, {\"PassengerId\": 602, \"Survived\": 0, \"Pclass\": 3, \"Name\": \"Slabenoff, Mr. Petco\", \"Sex\": \"male\", \"Age\": null, \"SibSp\": 0, \"Parch\": 0, \"Ticket\": \"349214\", \"Fare\": 7.8958, \"Cabin\": null, \"Embarked\": \"S\"}, {\"PassengerId\": 603, \"Survived\": 0, \"Pclass\": 1, \"Name\": \"Harrington, Mr. Charles H\", \"Sex\": \"male\", \"Age\": null, \"SibSp\": 0, \"Parch\": 0, \"Ticket\": \"113796\", \"Fare\": 42.4, \"Cabin\": null, \"Embarked\": \"S\"}, {\"PassengerId\": 604, \"Survived\": 0, \"Pclass\": 3, \"Name\": \"Torber, Mr. Ernst William\", \"Sex\": \"male\", \"Age\": 44.0, \"SibSp\": 0, \"Parch\": 0, \"Ticket\": \"364511\", \"Fare\": 8.05, \"Cabin\": null, \"Embarked\": \"S\"}, {\"PassengerId\": 605, \"Survived\": 1, \"Pclass\": 1, \"Name\": \"Homer, Mr. Harry (\\\"Mr E Haven\\\")\", \"Sex\": \"male\", \"Age\": 35.0, \"SibSp\": 0, \"Parch\": 0, \"Ticket\": \"111426\", \"Fare\": 26.55, \"Cabin\": null, \"Embarked\": \"C\"}, {\"PassengerId\": 606, \"Survived\": 0, \"Pclass\": 3, \"Name\": \"Lindell, Mr. Edvard Bengtsson\", \"Sex\": \"male\", \"Age\": 36.0, \"SibSp\": 1, \"Parch\": 0, \"Ticket\": \"349910\", \"Fare\": 15.55, \"Cabin\": null, \"Embarked\": \"S\"}, {\"PassengerId\": 607, \"Survived\": 0, \"Pclass\": 3, \"Name\": \"Karaic, Mr. Milan\", \"Sex\": \"male\", \"Age\": 30.0, \"SibSp\": 0, \"Parch\": 0, \"Ticket\": \"349246\", \"Fare\": 7.8958, \"Cabin\": null, \"Embarked\": \"S\"}, {\"PassengerId\": 608, \"Survived\": 1, \"Pclass\": 1, \"Name\": \"Daniel, Mr. Robert Williams\", \"Sex\": \"male\", \"Age\": 27.0, \"SibSp\": 0, \"Parch\": 0, \"Ticket\": \"113804\", \"Fare\": 30.5, \"Cabin\": null, \"Embarked\": \"S\"}, {\"PassengerId\": 609, \"Survived\": 1, \"Pclass\": 2, \"Name\": \"Laroche, Mrs. Joseph (Juliette Marie Louise Lafargue)\", \"Sex\": \"female\", \"Age\": 22.0, \"SibSp\": 1, \"Parch\": 2, \"Ticket\": \"SC/Paris 2123\", \"Fare\": 41.5792, \"Cabin\": null, \"Embarked\": \"C\"}, {\"PassengerId\": 610, \"Survived\": 1, \"Pclass\": 1, \"Name\": \"Shutes, Miss. Elizabeth W\", \"Sex\": \"female\", \"Age\": 40.0, \"SibSp\": 0, \"Parch\": 0, \"Ticket\": \"PC 17582\", \"Fare\": 153.4625, \"Cabin\": \"C125\", \"Embarked\": \"S\"}, {\"PassengerId\": 611, \"Survived\": 0, \"Pclass\": 3, \"Name\": \"Andersson, Mrs. Anders Johan (Alfrida Konstantia Brogren)\", \"Sex\": \"female\", \"Age\": 39.0, \"SibSp\": 1, \"Parch\": 5, \"Ticket\": \"347082\", \"Fare\": 31.275, \"Cabin\": null, \"Embarked\": \"S\"}, {\"PassengerId\": 612, \"Survived\": 0, \"Pclass\": 3, \"Name\": \"Jardin, Mr. Jose Neto\", \"Sex\": \"male\", \"Age\": null, \"SibSp\": 0, \"Parch\": 0, \"Ticket\": \"SOTON/O.Q. 3101305\", \"Fare\": 7.05, \"Cabin\": null, \"Embarked\": \"S\"}, {\"PassengerId\": 613, \"Survived\": 1, \"Pclass\": 3, \"Name\": \"Murphy, Miss. Margaret Jane\", \"Sex\": \"female\", \"Age\": null, \"SibSp\": 1, \"Parch\": 0, \"Ticket\": \"367230\", \"Fare\": 15.5, \"Cabin\": null, \"Embarked\": \"Q\"}, {\"PassengerId\": 614, \"Survived\": 0, \"Pclass\": 3, \"Name\": \"Horgan, Mr. John\", \"Sex\": \"male\", \"Age\": null, \"SibSp\": 0, \"Parch\": 0, \"Ticket\": \"370377\", \"Fare\": 7.75, \"Cabin\": null, \"Embarked\": \"Q\"}, {\"PassengerId\": 615, \"Survived\": 0, \"Pclass\": 3, \"Name\": \"Brocklebank, Mr. William Alfred\", \"Sex\": \"male\", \"Age\": 35.0, \"SibSp\": 0, \"Parch\": 0, \"Ticket\": \"364512\", \"Fare\": 8.05, \"Cabin\": null, \"Embarked\": \"S\"}, {\"PassengerId\": 616, \"Survived\": 1, \"Pclass\": 2, \"Name\": \"Herman, Miss. Alice\", \"Sex\": \"female\", \"Age\": 24.0, \"SibSp\": 1, \"Parch\": 2, \"Ticket\": \"220845\", \"Fare\": 65.0, \"Cabin\": null, \"Embarked\": \"S\"}, {\"PassengerId\": 617, \"Survived\": 0, \"Pclass\": 3, \"Name\": \"Danbom, Mr. Ernst Gilbert\", \"Sex\": \"male\", \"Age\": 34.0, \"SibSp\": 1, \"Parch\": 1, \"Ticket\": \"347080\", \"Fare\": 14.4, \"Cabin\": null, \"Embarked\": \"S\"}, {\"PassengerId\": 618, \"Survived\": 0, \"Pclass\": 3, \"Name\": \"Lobb, Mrs. William Arthur (Cordelia K Stanlick)\", \"Sex\": \"female\", \"Age\": 26.0, \"SibSp\": 1, \"Parch\": 0, \"Ticket\": \"A/5. 3336\", \"Fare\": 16.1, \"Cabin\": null, \"Embarked\": \"S\"}, {\"PassengerId\": 619, \"Survived\": 1, \"Pclass\": 2, \"Name\": \"Becker, Miss. Marion Louise\", \"Sex\": \"female\", \"Age\": 4.0, \"SibSp\": 2, \"Parch\": 1, \"Ticket\": \"230136\", \"Fare\": 39.0, \"Cabin\": \"F4\", \"Embarked\": \"S\"}, {\"PassengerId\": 620, \"Survived\": 0, \"Pclass\": 2, \"Name\": \"Gavey, Mr. Lawrence\", \"Sex\": \"male\", \"Age\": 26.0, \"SibSp\": 0, \"Parch\": 0, \"Ticket\": \"31028\", \"Fare\": 10.5, \"Cabin\": null, \"Embarked\": \"S\"}, {\"PassengerId\": 621, \"Survived\": 0, \"Pclass\": 3, \"Name\": \"Yasbeck, Mr. Antoni\", \"Sex\": \"male\", \"Age\": 27.0, \"SibSp\": 1, \"Parch\": 0, \"Ticket\": \"2659\", \"Fare\": 14.4542, \"Cabin\": null, \"Embarked\": \"C\"}, {\"PassengerId\": 622, \"Survived\": 1, \"Pclass\": 1, \"Name\": \"Kimball, Mr. Edwin Nelson Jr\", \"Sex\": \"male\", \"Age\": 42.0, \"SibSp\": 1, \"Parch\": 0, \"Ticket\": \"11753\", \"Fare\": 52.5542, \"Cabin\": \"D19\", \"Embarked\": \"S\"}, {\"PassengerId\": 623, \"Survived\": 1, \"Pclass\": 3, \"Name\": \"Nakid, Mr. Sahid\", \"Sex\": \"male\", \"Age\": 20.0, \"SibSp\": 1, \"Parch\": 1, \"Ticket\": \"2653\", \"Fare\": 15.7417, \"Cabin\": null, \"Embarked\": \"C\"}, {\"PassengerId\": 624, \"Survived\": 0, \"Pclass\": 3, \"Name\": \"Hansen, Mr. Henry Damsgaard\", \"Sex\": \"male\", \"Age\": 21.0, \"SibSp\": 0, \"Parch\": 0, \"Ticket\": \"350029\", \"Fare\": 7.8542, \"Cabin\": null, \"Embarked\": \"S\"}, {\"PassengerId\": 625, \"Survived\": 0, \"Pclass\": 3, \"Name\": \"Bowen, Mr. David John \\\"Dai\\\"\", \"Sex\": \"male\", \"Age\": 21.0, \"SibSp\": 0, \"Parch\": 0, \"Ticket\": \"54636\", \"Fare\": 16.1, \"Cabin\": null, \"Embarked\": \"S\"}, {\"PassengerId\": 626, \"Survived\": 0, \"Pclass\": 1, \"Name\": \"Sutton, Mr. Frederick\", \"Sex\": \"male\", \"Age\": 61.0, \"SibSp\": 0, \"Parch\": 0, \"Ticket\": \"36963\", \"Fare\": 32.3208, \"Cabin\": \"D50\", \"Embarked\": \"S\"}, {\"PassengerId\": 627, \"Survived\": 0, \"Pclass\": 2, \"Name\": \"Kirkland, Rev. Charles Leonard\", \"Sex\": \"male\", \"Age\": 57.0, \"SibSp\": 0, \"Parch\": 0, \"Ticket\": \"219533\", \"Fare\": 12.35, \"Cabin\": null, \"Embarked\": \"Q\"}, {\"PassengerId\": 628, \"Survived\": 1, \"Pclass\": 1, \"Name\": \"Longley, Miss. Gretchen Fiske\", \"Sex\": \"female\", \"Age\": 21.0, \"SibSp\": 0, \"Parch\": 0, \"Ticket\": \"13502\", \"Fare\": 77.9583, \"Cabin\": \"D9\", \"Embarked\": \"S\"}, {\"PassengerId\": 629, \"Survived\": 0, \"Pclass\": 3, \"Name\": \"Bostandyeff, Mr. Guentcho\", \"Sex\": \"male\", \"Age\": 26.0, \"SibSp\": 0, \"Parch\": 0, \"Ticket\": \"349224\", \"Fare\": 7.8958, \"Cabin\": null, \"Embarked\": \"S\"}, {\"PassengerId\": 630, \"Survived\": 0, \"Pclass\": 3, \"Name\": \"O'Connell, Mr. Patrick D\", \"Sex\": \"male\", \"Age\": null, \"SibSp\": 0, \"Parch\": 0, \"Ticket\": \"334912\", \"Fare\": 7.7333, \"Cabin\": null, \"Embarked\": \"Q\"}, {\"PassengerId\": 631, \"Survived\": 1, \"Pclass\": 1, \"Name\": \"Barkworth, Mr. Algernon Henry Wilson\", \"Sex\": \"male\", \"Age\": 80.0, \"SibSp\": 0, \"Parch\": 0, \"Ticket\": \"27042\", \"Fare\": 30.0, \"Cabin\": \"A23\", \"Embarked\": \"S\"}, {\"PassengerId\": 632, \"Survived\": 0, \"Pclass\": 3, \"Name\": \"Lundahl, Mr. Johan Svensson\", \"Sex\": \"male\", \"Age\": 51.0, \"SibSp\": 0, \"Parch\": 0, \"Ticket\": \"347743\", \"Fare\": 7.0542, \"Cabin\": null, \"Embarked\": \"S\"}, {\"PassengerId\": 633, \"Survived\": 1, \"Pclass\": 1, \"Name\": \"Stahelin-Maeglin, Dr. Max\", \"Sex\": \"male\", \"Age\": 32.0, \"SibSp\": 0, \"Parch\": 0, \"Ticket\": \"13214\", \"Fare\": 30.5, \"Cabin\": \"B50\", \"Embarked\": \"C\"}, {\"PassengerId\": 634, \"Survived\": 0, \"Pclass\": 1, \"Name\": \"Parr, Mr. William Henry Marsh\", \"Sex\": \"male\", \"Age\": null, \"SibSp\": 0, \"Parch\": 0, \"Ticket\": \"112052\", \"Fare\": 0.0, \"Cabin\": null, \"Embarked\": \"S\"}, {\"PassengerId\": 635, \"Survived\": 0, \"Pclass\": 3, \"Name\": \"Skoog, Miss. Mabel\", \"Sex\": \"female\", \"Age\": 9.0, \"SibSp\": 3, \"Parch\": 2, \"Ticket\": \"347088\", \"Fare\": 27.9, \"Cabin\": null, \"Embarked\": \"S\"}, {\"PassengerId\": 636, \"Survived\": 1, \"Pclass\": 2, \"Name\": \"Davis, Miss. Mary\", \"Sex\": \"female\", \"Age\": 28.0, \"SibSp\": 0, \"Parch\": 0, \"Ticket\": \"237668\", \"Fare\": 13.0, \"Cabin\": null, \"Embarked\": \"S\"}, {\"PassengerId\": 637, \"Survived\": 0, \"Pclass\": 3, \"Name\": \"Leinonen, Mr. Antti Gustaf\", \"Sex\": \"male\", \"Age\": 32.0, \"SibSp\": 0, \"Parch\": 0, \"Ticket\": \"STON/O 2. 3101292\", \"Fare\": 7.925, \"Cabin\": null, \"Embarked\": \"S\"}, {\"PassengerId\": 638, \"Survived\": 0, \"Pclass\": 2, \"Name\": \"Collyer, Mr. Harvey\", \"Sex\": \"male\", \"Age\": 31.0, \"SibSp\": 1, \"Parch\": 1, \"Ticket\": \"C.A. 31921\", \"Fare\": 26.25, \"Cabin\": null, \"Embarked\": \"S\"}, {\"PassengerId\": 639, \"Survived\": 0, \"Pclass\": 3, \"Name\": \"Panula, Mrs. Juha (Maria Emilia Ojala)\", \"Sex\": \"female\", \"Age\": 41.0, \"SibSp\": 0, \"Parch\": 5, \"Ticket\": \"3101295\", \"Fare\": 39.6875, \"Cabin\": null, \"Embarked\": \"S\"}, {\"PassengerId\": 640, \"Survived\": 0, \"Pclass\": 3, \"Name\": \"Thorneycroft, Mr. Percival\", \"Sex\": \"male\", \"Age\": null, \"SibSp\": 1, \"Parch\": 0, \"Ticket\": \"376564\", \"Fare\": 16.1, \"Cabin\": null, \"Embarked\": \"S\"}, {\"PassengerId\": 641, \"Survived\": 0, \"Pclass\": 3, \"Name\": \"Jensen, Mr. Hans Peder\", \"Sex\": \"male\", \"Age\": 20.0, \"SibSp\": 0, \"Parch\": 0, \"Ticket\": \"350050\", \"Fare\": 7.8542, \"Cabin\": null, \"Embarked\": \"S\"}, {\"PassengerId\": 642, \"Survived\": 1, \"Pclass\": 1, \"Name\": \"Sagesser, Mlle. Emma\", \"Sex\": \"female\", \"Age\": 24.0, \"SibSp\": 0, \"Parch\": 0, \"Ticket\": \"PC 17477\", \"Fare\": 69.3, \"Cabin\": \"B35\", \"Embarked\": \"C\"}, {\"PassengerId\": 643, \"Survived\": 0, \"Pclass\": 3, \"Name\": \"Skoog, Miss. Margit Elizabeth\", \"Sex\": \"female\", \"Age\": 2.0, \"SibSp\": 3, \"Parch\": 2, \"Ticket\": \"347088\", \"Fare\": 27.9, \"Cabin\": null, \"Embarked\": \"S\"}, {\"PassengerId\": 644, \"Survived\": 1, \"Pclass\": 3, \"Name\": \"Foo, Mr. Choong\", \"Sex\": \"male\", \"Age\": null, \"SibSp\": 0, \"Parch\": 0, \"Ticket\": \"1601\", \"Fare\": 56.4958, \"Cabin\": null, \"Embarked\": \"S\"}, {\"PassengerId\": 645, \"Survived\": 1, \"Pclass\": 3, \"Name\": \"Baclini, Miss. Eugenie\", \"Sex\": \"female\", \"Age\": 0.75, \"SibSp\": 2, \"Parch\": 1, \"Ticket\": \"2666\", \"Fare\": 19.2583, \"Cabin\": null, \"Embarked\": \"C\"}, {\"PassengerId\": 646, \"Survived\": 1, \"Pclass\": 1, \"Name\": \"Harper, Mr. Henry Sleeper\", \"Sex\": \"male\", \"Age\": 48.0, \"SibSp\": 1, \"Parch\": 0, \"Ticket\": \"PC 17572\", \"Fare\": 76.7292, \"Cabin\": \"D33\", \"Embarked\": \"C\"}, {\"PassengerId\": 647, \"Survived\": 0, \"Pclass\": 3, \"Name\": \"Cor, Mr. Liudevit\", \"Sex\": \"male\", \"Age\": 19.0, \"SibSp\": 0, \"Parch\": 0, \"Ticket\": \"349231\", \"Fare\": 7.8958, \"Cabin\": null, \"Embarked\": \"S\"}, {\"PassengerId\": 648, \"Survived\": 1, \"Pclass\": 1, \"Name\": \"Simonius-Blumer, Col. Oberst Alfons\", \"Sex\": \"male\", \"Age\": 56.0, \"SibSp\": 0, \"Parch\": 0, \"Ticket\": \"13213\", \"Fare\": 35.5, \"Cabin\": \"A26\", \"Embarked\": \"C\"}, {\"PassengerId\": 649, \"Survived\": 0, \"Pclass\": 3, \"Name\": \"Willey, Mr. Edward\", \"Sex\": \"male\", \"Age\": null, \"SibSp\": 0, \"Parch\": 0, \"Ticket\": \"S.O./P.P. 751\", \"Fare\": 7.55, \"Cabin\": null, \"Embarked\": \"S\"}, {\"PassengerId\": 650, \"Survived\": 1, \"Pclass\": 3, \"Name\": \"Stanley, Miss. Amy Zillah Elsie\", \"Sex\": \"female\", \"Age\": 23.0, \"SibSp\": 0, \"Parch\": 0, \"Ticket\": \"CA. 2314\", \"Fare\": 7.55, \"Cabin\": null, \"Embarked\": \"S\"}, {\"PassengerId\": 651, \"Survived\": 0, \"Pclass\": 3, \"Name\": \"Mitkoff, Mr. Mito\", \"Sex\": \"male\", \"Age\": null, \"SibSp\": 0, \"Parch\": 0, \"Ticket\": \"349221\", \"Fare\": 7.8958, \"Cabin\": null, \"Embarked\": \"S\"}, {\"PassengerId\": 652, \"Survived\": 1, \"Pclass\": 2, \"Name\": \"Doling, Miss. Elsie\", \"Sex\": \"female\", \"Age\": 18.0, \"SibSp\": 0, \"Parch\": 1, \"Ticket\": \"231919\", \"Fare\": 23.0, \"Cabin\": null, \"Embarked\": \"S\"}, {\"PassengerId\": 653, \"Survived\": 0, \"Pclass\": 3, \"Name\": \"Kalvik, Mr. Johannes Halvorsen\", \"Sex\": \"male\", \"Age\": 21.0, \"SibSp\": 0, \"Parch\": 0, \"Ticket\": \"8475\", \"Fare\": 8.4333, \"Cabin\": null, \"Embarked\": \"S\"}, {\"PassengerId\": 654, \"Survived\": 1, \"Pclass\": 3, \"Name\": \"O'Leary, Miss. Hanora \\\"Norah\\\"\", \"Sex\": \"female\", \"Age\": null, \"SibSp\": 0, \"Parch\": 0, \"Ticket\": \"330919\", \"Fare\": 7.8292, \"Cabin\": null, \"Embarked\": \"Q\"}, {\"PassengerId\": 655, \"Survived\": 0, \"Pclass\": 3, \"Name\": \"Hegarty, Miss. Hanora \\\"Nora\\\"\", \"Sex\": \"female\", \"Age\": 18.0, \"SibSp\": 0, \"Parch\": 0, \"Ticket\": \"365226\", \"Fare\": 6.75, \"Cabin\": null, \"Embarked\": \"Q\"}, {\"PassengerId\": 656, \"Survived\": 0, \"Pclass\": 2, \"Name\": \"Hickman, Mr. Leonard Mark\", \"Sex\": \"male\", \"Age\": 24.0, \"SibSp\": 2, \"Parch\": 0, \"Ticket\": \"S.O.C. 14879\", \"Fare\": 73.5, \"Cabin\": null, \"Embarked\": \"S\"}, {\"PassengerId\": 657, \"Survived\": 0, \"Pclass\": 3, \"Name\": \"Radeff, Mr. Alexander\", \"Sex\": \"male\", \"Age\": null, \"SibSp\": 0, \"Parch\": 0, \"Ticket\": \"349223\", \"Fare\": 7.8958, \"Cabin\": null, \"Embarked\": \"S\"}, {\"PassengerId\": 658, \"Survived\": 0, \"Pclass\": 3, \"Name\": \"Bourke, Mrs. John (Catherine)\", \"Sex\": \"female\", \"Age\": 32.0, \"SibSp\": 1, \"Parch\": 1, \"Ticket\": \"364849\", \"Fare\": 15.5, \"Cabin\": null, \"Embarked\": \"Q\"}, {\"PassengerId\": 659, \"Survived\": 0, \"Pclass\": 2, \"Name\": \"Eitemiller, Mr. George Floyd\", \"Sex\": \"male\", \"Age\": 23.0, \"SibSp\": 0, \"Parch\": 0, \"Ticket\": \"29751\", \"Fare\": 13.0, \"Cabin\": null, \"Embarked\": \"S\"}, {\"PassengerId\": 660, \"Survived\": 0, \"Pclass\": 1, \"Name\": \"Newell, Mr. Arthur Webster\", \"Sex\": \"male\", \"Age\": 58.0, \"SibSp\": 0, \"Parch\": 2, \"Ticket\": \"35273\", \"Fare\": 113.275, \"Cabin\": \"D48\", \"Embarked\": \"C\"}, {\"PassengerId\": 661, \"Survived\": 1, \"Pclass\": 1, \"Name\": \"Frauenthal, Dr. Henry William\", \"Sex\": \"male\", \"Age\": 50.0, \"SibSp\": 2, \"Parch\": 0, \"Ticket\": \"PC 17611\", \"Fare\": 133.65, \"Cabin\": null, \"Embarked\": \"S\"}, {\"PassengerId\": 662, \"Survived\": 0, \"Pclass\": 3, \"Name\": \"Badt, Mr. Mohamed\", \"Sex\": \"male\", \"Age\": 40.0, \"SibSp\": 0, \"Parch\": 0, \"Ticket\": \"2623\", \"Fare\": 7.225, \"Cabin\": null, \"Embarked\": \"C\"}, {\"PassengerId\": 663, \"Survived\": 0, \"Pclass\": 1, \"Name\": \"Colley, Mr. Edward Pomeroy\", \"Sex\": \"male\", \"Age\": 47.0, \"SibSp\": 0, \"Parch\": 0, \"Ticket\": \"5727\", \"Fare\": 25.5875, \"Cabin\": \"E58\", \"Embarked\": \"S\"}, {\"PassengerId\": 664, \"Survived\": 0, \"Pclass\": 3, \"Name\": \"Coleff, Mr. Peju\", \"Sex\": \"male\", \"Age\": 36.0, \"SibSp\": 0, \"Parch\": 0, \"Ticket\": \"349210\", \"Fare\": 7.4958, \"Cabin\": null, \"Embarked\": \"S\"}, {\"PassengerId\": 665, \"Survived\": 1, \"Pclass\": 3, \"Name\": \"Lindqvist, Mr. Eino William\", \"Sex\": \"male\", \"Age\": 20.0, \"SibSp\": 1, \"Parch\": 0, \"Ticket\": \"STON/O 2. 3101285\", \"Fare\": 7.925, \"Cabin\": null, \"Embarked\": \"S\"}, {\"PassengerId\": 666, \"Survived\": 0, \"Pclass\": 2, \"Name\": \"Hickman, Mr. Lewis\", \"Sex\": \"male\", \"Age\": 32.0, \"SibSp\": 2, \"Parch\": 0, \"Ticket\": \"S.O.C. 14879\", \"Fare\": 73.5, \"Cabin\": null, \"Embarked\": \"S\"}, {\"PassengerId\": 667, \"Survived\": 0, \"Pclass\": 2, \"Name\": \"Butler, Mr. Reginald Fenton\", \"Sex\": \"male\", \"Age\": 25.0, \"SibSp\": 0, \"Parch\": 0, \"Ticket\": \"234686\", \"Fare\": 13.0, \"Cabin\": null, \"Embarked\": \"S\"}, {\"PassengerId\": 668, \"Survived\": 0, \"Pclass\": 3, \"Name\": \"Rommetvedt, Mr. Knud Paust\", \"Sex\": \"male\", \"Age\": null, \"SibSp\": 0, \"Parch\": 0, \"Ticket\": \"312993\", \"Fare\": 7.775, \"Cabin\": null, \"Embarked\": \"S\"}, {\"PassengerId\": 669, \"Survived\": 0, \"Pclass\": 3, \"Name\": \"Cook, Mr. Jacob\", \"Sex\": \"male\", \"Age\": 43.0, \"SibSp\": 0, \"Parch\": 0, \"Ticket\": \"A/5 3536\", \"Fare\": 8.05, \"Cabin\": null, \"Embarked\": \"S\"}, {\"PassengerId\": 670, \"Survived\": 1, \"Pclass\": 1, \"Name\": \"Taylor, Mrs. Elmer Zebley (Juliet Cummins Wright)\", \"Sex\": \"female\", \"Age\": null, \"SibSp\": 1, \"Parch\": 0, \"Ticket\": \"19996\", \"Fare\": 52.0, \"Cabin\": \"C126\", \"Embarked\": \"S\"}, {\"PassengerId\": 671, \"Survived\": 1, \"Pclass\": 2, \"Name\": \"Brown, Mrs. Thomas William Solomon (Elizabeth Catherine Ford)\", \"Sex\": \"female\", \"Age\": 40.0, \"SibSp\": 1, \"Parch\": 1, \"Ticket\": \"29750\", \"Fare\": 39.0, \"Cabin\": null, \"Embarked\": \"S\"}, {\"PassengerId\": 672, \"Survived\": 0, \"Pclass\": 1, \"Name\": \"Davidson, Mr. Thornton\", \"Sex\": \"male\", \"Age\": 31.0, \"SibSp\": 1, \"Parch\": 0, \"Ticket\": \"F.C. 12750\", \"Fare\": 52.0, \"Cabin\": \"B71\", \"Embarked\": \"S\"}, {\"PassengerId\": 673, \"Survived\": 0, \"Pclass\": 2, \"Name\": \"Mitchell, Mr. Henry Michael\", \"Sex\": \"male\", \"Age\": 70.0, \"SibSp\": 0, \"Parch\": 0, \"Ticket\": \"C.A. 24580\", \"Fare\": 10.5, \"Cabin\": null, \"Embarked\": \"S\"}, {\"PassengerId\": 674, \"Survived\": 1, \"Pclass\": 2, \"Name\": \"Wilhelms, Mr. Charles\", \"Sex\": \"male\", \"Age\": 31.0, \"SibSp\": 0, \"Parch\": 0, \"Ticket\": \"244270\", \"Fare\": 13.0, \"Cabin\": null, \"Embarked\": \"S\"}, {\"PassengerId\": 675, \"Survived\": 0, \"Pclass\": 2, \"Name\": \"Watson, Mr. Ennis Hastings\", \"Sex\": \"male\", \"Age\": null, \"SibSp\": 0, \"Parch\": 0, \"Ticket\": \"239856\", \"Fare\": 0.0, \"Cabin\": null, \"Embarked\": \"S\"}, {\"PassengerId\": 676, \"Survived\": 0, \"Pclass\": 3, \"Name\": \"Edvardsson, Mr. Gustaf Hjalmar\", \"Sex\": \"male\", \"Age\": 18.0, \"SibSp\": 0, \"Parch\": 0, \"Ticket\": \"349912\", \"Fare\": 7.775, \"Cabin\": null, \"Embarked\": \"S\"}, {\"PassengerId\": 677, \"Survived\": 0, \"Pclass\": 3, \"Name\": \"Sawyer, Mr. Frederick Charles\", \"Sex\": \"male\", \"Age\": 24.5, \"SibSp\": 0, \"Parch\": 0, \"Ticket\": \"342826\", \"Fare\": 8.05, \"Cabin\": null, \"Embarked\": \"S\"}, {\"PassengerId\": 678, \"Survived\": 1, \"Pclass\": 3, \"Name\": \"Turja, Miss. Anna Sofia\", \"Sex\": \"female\", \"Age\": 18.0, \"SibSp\": 0, \"Parch\": 0, \"Ticket\": \"4138\", \"Fare\": 9.8417, \"Cabin\": null, \"Embarked\": \"S\"}, {\"PassengerId\": 679, \"Survived\": 0, \"Pclass\": 3, \"Name\": \"Goodwin, Mrs. Frederick (Augusta Tyler)\", \"Sex\": \"female\", \"Age\": 43.0, \"SibSp\": 1, \"Parch\": 6, \"Ticket\": \"CA 2144\", \"Fare\": 46.9, \"Cabin\": null, \"Embarked\": \"S\"}, {\"PassengerId\": 680, \"Survived\": 1, \"Pclass\": 1, \"Name\": \"Cardeza, Mr. Thomas Drake Martinez\", \"Sex\": \"male\", \"Age\": 36.0, \"SibSp\": 0, \"Parch\": 1, \"Ticket\": \"PC 17755\", \"Fare\": 512.3292, \"Cabin\": \"B51 B53 B55\", \"Embarked\": \"C\"}, {\"PassengerId\": 681, \"Survived\": 0, \"Pclass\": 3, \"Name\": \"Peters, Miss. Katie\", \"Sex\": \"female\", \"Age\": null, \"SibSp\": 0, \"Parch\": 0, \"Ticket\": \"330935\", \"Fare\": 8.1375, \"Cabin\": null, \"Embarked\": \"Q\"}, {\"PassengerId\": 682, \"Survived\": 1, \"Pclass\": 1, \"Name\": \"Hassab, Mr. Hammad\", \"Sex\": \"male\", \"Age\": 27.0, \"SibSp\": 0, \"Parch\": 0, \"Ticket\": \"PC 17572\", \"Fare\": 76.7292, \"Cabin\": \"D49\", \"Embarked\": \"C\"}, {\"PassengerId\": 683, \"Survived\": 0, \"Pclass\": 3, \"Name\": \"Olsvigen, Mr. Thor Anderson\", \"Sex\": \"male\", \"Age\": 20.0, \"SibSp\": 0, \"Parch\": 0, \"Ticket\": \"6563\", \"Fare\": 9.225, \"Cabin\": null, \"Embarked\": \"S\"}, {\"PassengerId\": 684, \"Survived\": 0, \"Pclass\": 3, \"Name\": \"Goodwin, Mr. Charles Edward\", \"Sex\": \"male\", \"Age\": 14.0, \"SibSp\": 5, \"Parch\": 2, \"Ticket\": \"CA 2144\", \"Fare\": 46.9, \"Cabin\": null, \"Embarked\": \"S\"}, {\"PassengerId\": 685, \"Survived\": 0, \"Pclass\": 2, \"Name\": \"Brown, Mr. Thomas William Solomon\", \"Sex\": \"male\", \"Age\": 60.0, \"SibSp\": 1, \"Parch\": 1, \"Ticket\": \"29750\", \"Fare\": 39.0, \"Cabin\": null, \"Embarked\": \"S\"}, {\"PassengerId\": 686, \"Survived\": 0, \"Pclass\": 2, \"Name\": \"Laroche, Mr. Joseph Philippe Lemercier\", \"Sex\": \"male\", \"Age\": 25.0, \"SibSp\": 1, \"Parch\": 2, \"Ticket\": \"SC/Paris 2123\", \"Fare\": 41.5792, \"Cabin\": null, \"Embarked\": \"C\"}, {\"PassengerId\": 687, \"Survived\": 0, \"Pclass\": 3, \"Name\": \"Panula, Mr. Jaako Arnold\", \"Sex\": \"male\", \"Age\": 14.0, \"SibSp\": 4, \"Parch\": 1, \"Ticket\": \"3101295\", \"Fare\": 39.6875, \"Cabin\": null, \"Embarked\": \"S\"}, {\"PassengerId\": 688, \"Survived\": 0, \"Pclass\": 3, \"Name\": \"Dakic, Mr. Branko\", \"Sex\": \"male\", \"Age\": 19.0, \"SibSp\": 0, \"Parch\": 0, \"Ticket\": \"349228\", \"Fare\": 10.1708, \"Cabin\": null, \"Embarked\": \"S\"}, {\"PassengerId\": 689, \"Survived\": 0, \"Pclass\": 3, \"Name\": \"Fischer, Mr. Eberhard Thelander\", \"Sex\": \"male\", \"Age\": 18.0, \"SibSp\": 0, \"Parch\": 0, \"Ticket\": \"350036\", \"Fare\": 7.7958, \"Cabin\": null, \"Embarked\": \"S\"}, {\"PassengerId\": 690, \"Survived\": 1, \"Pclass\": 1, \"Name\": \"Madill, Miss. Georgette Alexandra\", \"Sex\": \"female\", \"Age\": 15.0, \"SibSp\": 0, \"Parch\": 1, \"Ticket\": \"24160\", \"Fare\": 211.3375, \"Cabin\": \"B5\", \"Embarked\": \"S\"}, {\"PassengerId\": 691, \"Survived\": 1, \"Pclass\": 1, \"Name\": \"Dick, Mr. Albert Adrian\", \"Sex\": \"male\", \"Age\": 31.0, \"SibSp\": 1, \"Parch\": 0, \"Ticket\": \"17474\", \"Fare\": 57.0, \"Cabin\": \"B20\", \"Embarked\": \"S\"}, {\"PassengerId\": 692, \"Survived\": 1, \"Pclass\": 3, \"Name\": \"Karun, Miss. Manca\", \"Sex\": \"female\", \"Age\": 4.0, \"SibSp\": 0, \"Parch\": 1, \"Ticket\": \"349256\", \"Fare\": 13.4167, \"Cabin\": null, \"Embarked\": \"C\"}, {\"PassengerId\": 693, \"Survived\": 1, \"Pclass\": 3, \"Name\": \"Lam, Mr. Ali\", \"Sex\": \"male\", \"Age\": null, \"SibSp\": 0, \"Parch\": 0, \"Ticket\": \"1601\", \"Fare\": 56.4958, \"Cabin\": null, \"Embarked\": \"S\"}, {\"PassengerId\": 694, \"Survived\": 0, \"Pclass\": 3, \"Name\": \"Saad, Mr. Khalil\", \"Sex\": \"male\", \"Age\": 25.0, \"SibSp\": 0, \"Parch\": 0, \"Ticket\": \"2672\", \"Fare\": 7.225, \"Cabin\": null, \"Embarked\": \"C\"}, {\"PassengerId\": 695, \"Survived\": 0, \"Pclass\": 1, \"Name\": \"Weir, Col. John\", \"Sex\": \"male\", \"Age\": 60.0, \"SibSp\": 0, \"Parch\": 0, \"Ticket\": \"113800\", \"Fare\": 26.55, \"Cabin\": null, \"Embarked\": \"S\"}, {\"PassengerId\": 696, \"Survived\": 0, \"Pclass\": 2, \"Name\": \"Chapman, Mr. Charles Henry\", \"Sex\": \"male\", \"Age\": 52.0, \"SibSp\": 0, \"Parch\": 0, \"Ticket\": \"248731\", \"Fare\": 13.5, \"Cabin\": null, \"Embarked\": \"S\"}, {\"PassengerId\": 697, \"Survived\": 0, \"Pclass\": 3, \"Name\": \"Kelly, Mr. James\", \"Sex\": \"male\", \"Age\": 44.0, \"SibSp\": 0, \"Parch\": 0, \"Ticket\": \"363592\", \"Fare\": 8.05, \"Cabin\": null, \"Embarked\": \"S\"}, {\"PassengerId\": 698, \"Survived\": 1, \"Pclass\": 3, \"Name\": \"Mullens, Miss. Katherine \\\"Katie\\\"\", \"Sex\": \"female\", \"Age\": null, \"SibSp\": 0, \"Parch\": 0, \"Ticket\": \"35852\", \"Fare\": 7.7333, \"Cabin\": null, \"Embarked\": \"Q\"}, {\"PassengerId\": 699, \"Survived\": 0, \"Pclass\": 1, \"Name\": \"Thayer, Mr. John Borland\", \"Sex\": \"male\", \"Age\": 49.0, \"SibSp\": 1, \"Parch\": 1, \"Ticket\": \"17421\", \"Fare\": 110.8833, \"Cabin\": \"C68\", \"Embarked\": \"C\"}, {\"PassengerId\": 700, \"Survived\": 0, \"Pclass\": 3, \"Name\": \"Humblen, Mr. Adolf Mathias Nicolai Olsen\", \"Sex\": \"male\", \"Age\": 42.0, \"SibSp\": 0, \"Parch\": 0, \"Ticket\": \"348121\", \"Fare\": 7.65, \"Cabin\": \"F G63\", \"Embarked\": \"S\"}, {\"PassengerId\": 701, \"Survived\": 1, \"Pclass\": 1, \"Name\": \"Astor, Mrs. John Jacob (Madeleine Talmadge Force)\", \"Sex\": \"female\", \"Age\": 18.0, \"SibSp\": 1, \"Parch\": 0, \"Ticket\": \"PC 17757\", \"Fare\": 227.525, \"Cabin\": \"C62 C64\", \"Embarked\": \"C\"}, {\"PassengerId\": 702, \"Survived\": 1, \"Pclass\": 1, \"Name\": \"Silverthorne, Mr. Spencer Victor\", \"Sex\": \"male\", \"Age\": 35.0, \"SibSp\": 0, \"Parch\": 0, \"Ticket\": \"PC 17475\", \"Fare\": 26.2875, \"Cabin\": \"E24\", \"Embarked\": \"S\"}, {\"PassengerId\": 703, \"Survived\": 0, \"Pclass\": 3, \"Name\": \"Barbara, Miss. Saiide\", \"Sex\": \"female\", \"Age\": 18.0, \"SibSp\": 0, \"Parch\": 1, \"Ticket\": \"2691\", \"Fare\": 14.4542, \"Cabin\": null, \"Embarked\": \"C\"}, {\"PassengerId\": 704, \"Survived\": 0, \"Pclass\": 3, \"Name\": \"Gallagher, Mr. Martin\", \"Sex\": \"male\", \"Age\": 25.0, \"SibSp\": 0, \"Parch\": 0, \"Ticket\": \"36864\", \"Fare\": 7.7417, \"Cabin\": null, \"Embarked\": \"Q\"}, {\"PassengerId\": 705, \"Survived\": 0, \"Pclass\": 3, \"Name\": \"Hansen, Mr. Henrik Juul\", \"Sex\": \"male\", \"Age\": 26.0, \"SibSp\": 1, \"Parch\": 0, \"Ticket\": \"350025\", \"Fare\": 7.8542, \"Cabin\": null, \"Embarked\": \"S\"}, {\"PassengerId\": 706, \"Survived\": 0, \"Pclass\": 2, \"Name\": \"Morley, Mr. Henry Samuel (\\\"Mr Henry Marshall\\\")\", \"Sex\": \"male\", \"Age\": 39.0, \"SibSp\": 0, \"Parch\": 0, \"Ticket\": \"250655\", \"Fare\": 26.0, \"Cabin\": null, \"Embarked\": \"S\"}, {\"PassengerId\": 707, \"Survived\": 1, \"Pclass\": 2, \"Name\": \"Kelly, Mrs. Florence \\\"Fannie\\\"\", \"Sex\": \"female\", \"Age\": 45.0, \"SibSp\": 0, \"Parch\": 0, \"Ticket\": \"223596\", \"Fare\": 13.5, \"Cabin\": null, \"Embarked\": \"S\"}, {\"PassengerId\": 708, \"Survived\": 1, \"Pclass\": 1, \"Name\": \"Calderhead, Mr. Edward Pennington\", \"Sex\": \"male\", \"Age\": 42.0, \"SibSp\": 0, \"Parch\": 0, \"Ticket\": \"PC 17476\", \"Fare\": 26.2875, \"Cabin\": \"E24\", \"Embarked\": \"S\"}, {\"PassengerId\": 709, \"Survived\": 1, \"Pclass\": 1, \"Name\": \"Cleaver, Miss. Alice\", \"Sex\": \"female\", \"Age\": 22.0, \"SibSp\": 0, \"Parch\": 0, \"Ticket\": \"113781\", \"Fare\": 151.55, \"Cabin\": null, \"Embarked\": \"S\"}, {\"PassengerId\": 710, \"Survived\": 1, \"Pclass\": 3, \"Name\": \"Moubarek, Master. Halim Gonios (\\\"William George\\\")\", \"Sex\": \"male\", \"Age\": null, \"SibSp\": 1, \"Parch\": 1, \"Ticket\": \"2661\", \"Fare\": 15.2458, \"Cabin\": null, \"Embarked\": \"C\"}, {\"PassengerId\": 711, \"Survived\": 1, \"Pclass\": 1, \"Name\": \"Mayne, Mlle. Berthe Antonine (\\\"Mrs de Villiers\\\")\", \"Sex\": \"female\", \"Age\": 24.0, \"SibSp\": 0, \"Parch\": 0, \"Ticket\": \"PC 17482\", \"Fare\": 49.5042, \"Cabin\": \"C90\", \"Embarked\": \"C\"}, {\"PassengerId\": 712, \"Survived\": 0, \"Pclass\": 1, \"Name\": \"Klaber, Mr. Herman\", \"Sex\": \"male\", \"Age\": null, \"SibSp\": 0, \"Parch\": 0, \"Ticket\": \"113028\", \"Fare\": 26.55, \"Cabin\": \"C124\", \"Embarked\": \"S\"}, {\"PassengerId\": 713, \"Survived\": 1, \"Pclass\": 1, \"Name\": \"Taylor, Mr. Elmer Zebley\", \"Sex\": \"male\", \"Age\": 48.0, \"SibSp\": 1, \"Parch\": 0, \"Ticket\": \"19996\", \"Fare\": 52.0, \"Cabin\": \"C126\", \"Embarked\": \"S\"}, {\"PassengerId\": 714, \"Survived\": 0, \"Pclass\": 3, \"Name\": \"Larsson, Mr. August Viktor\", \"Sex\": \"male\", \"Age\": 29.0, \"SibSp\": 0, \"Parch\": 0, \"Ticket\": \"7545\", \"Fare\": 9.4833, \"Cabin\": null, \"Embarked\": \"S\"}, {\"PassengerId\": 715, \"Survived\": 0, \"Pclass\": 2, \"Name\": \"Greenberg, Mr. Samuel\", \"Sex\": \"male\", \"Age\": 52.0, \"SibSp\": 0, \"Parch\": 0, \"Ticket\": \"250647\", \"Fare\": 13.0, \"Cabin\": null, \"Embarked\": \"S\"}, {\"PassengerId\": 716, \"Survived\": 0, \"Pclass\": 3, \"Name\": \"Soholt, Mr. Peter Andreas Lauritz Andersen\", \"Sex\": \"male\", \"Age\": 19.0, \"SibSp\": 0, \"Parch\": 0, \"Ticket\": \"348124\", \"Fare\": 7.65, \"Cabin\": \"F G73\", \"Embarked\": \"S\"}, {\"PassengerId\": 717, \"Survived\": 1, \"Pclass\": 1, \"Name\": \"Endres, Miss. Caroline Louise\", \"Sex\": \"female\", \"Age\": 38.0, \"SibSp\": 0, \"Parch\": 0, \"Ticket\": \"PC 17757\", \"Fare\": 227.525, \"Cabin\": \"C45\", \"Embarked\": \"C\"}, {\"PassengerId\": 718, \"Survived\": 1, \"Pclass\": 2, \"Name\": \"Troutt, Miss. Edwina Celia \\\"Winnie\\\"\", \"Sex\": \"female\", \"Age\": 27.0, \"SibSp\": 0, \"Parch\": 0, \"Ticket\": \"34218\", \"Fare\": 10.5, \"Cabin\": \"E101\", \"Embarked\": \"S\"}, {\"PassengerId\": 719, \"Survived\": 0, \"Pclass\": 3, \"Name\": \"McEvoy, Mr. Michael\", \"Sex\": \"male\", \"Age\": null, \"SibSp\": 0, \"Parch\": 0, \"Ticket\": \"36568\", \"Fare\": 15.5, \"Cabin\": null, \"Embarked\": \"Q\"}, {\"PassengerId\": 720, \"Survived\": 0, \"Pclass\": 3, \"Name\": \"Johnson, Mr. Malkolm Joackim\", \"Sex\": \"male\", \"Age\": 33.0, \"SibSp\": 0, \"Parch\": 0, \"Ticket\": \"347062\", \"Fare\": 7.775, \"Cabin\": null, \"Embarked\": \"S\"}, {\"PassengerId\": 721, \"Survived\": 1, \"Pclass\": 2, \"Name\": \"Harper, Miss. Annie Jessie \\\"Nina\\\"\", \"Sex\": \"female\", \"Age\": 6.0, \"SibSp\": 0, \"Parch\": 1, \"Ticket\": \"248727\", \"Fare\": 33.0, \"Cabin\": null, \"Embarked\": \"S\"}, {\"PassengerId\": 722, \"Survived\": 0, \"Pclass\": 3, \"Name\": \"Jensen, Mr. Svend Lauritz\", \"Sex\": \"male\", \"Age\": 17.0, \"SibSp\": 1, \"Parch\": 0, \"Ticket\": \"350048\", \"Fare\": 7.0542, \"Cabin\": null, \"Embarked\": \"S\"}, {\"PassengerId\": 723, \"Survived\": 0, \"Pclass\": 2, \"Name\": \"Gillespie, Mr. William Henry\", \"Sex\": \"male\", \"Age\": 34.0, \"SibSp\": 0, \"Parch\": 0, \"Ticket\": \"12233\", \"Fare\": 13.0, \"Cabin\": null, \"Embarked\": \"S\"}, {\"PassengerId\": 724, \"Survived\": 0, \"Pclass\": 2, \"Name\": \"Hodges, Mr. Henry Price\", \"Sex\": \"male\", \"Age\": 50.0, \"SibSp\": 0, \"Parch\": 0, \"Ticket\": \"250643\", \"Fare\": 13.0, \"Cabin\": null, \"Embarked\": \"S\"}, {\"PassengerId\": 725, \"Survived\": 1, \"Pclass\": 1, \"Name\": \"Chambers, Mr. Norman Campbell\", \"Sex\": \"male\", \"Age\": 27.0, \"SibSp\": 1, \"Parch\": 0, \"Ticket\": \"113806\", \"Fare\": 53.1, \"Cabin\": \"E8\", \"Embarked\": \"S\"}, {\"PassengerId\": 726, \"Survived\": 0, \"Pclass\": 3, \"Name\": \"Oreskovic, Mr. Luka\", \"Sex\": \"male\", \"Age\": 20.0, \"SibSp\": 0, \"Parch\": 0, \"Ticket\": \"315094\", \"Fare\": 8.6625, \"Cabin\": null, \"Embarked\": \"S\"}, {\"PassengerId\": 727, \"Survived\": 1, \"Pclass\": 2, \"Name\": \"Renouf, Mrs. Peter Henry (Lillian Jefferys)\", \"Sex\": \"female\", \"Age\": 30.0, \"SibSp\": 3, \"Parch\": 0, \"Ticket\": \"31027\", \"Fare\": 21.0, \"Cabin\": null, \"Embarked\": \"S\"}, {\"PassengerId\": 728, \"Survived\": 1, \"Pclass\": 3, \"Name\": \"Mannion, Miss. Margareth\", \"Sex\": \"female\", \"Age\": null, \"SibSp\": 0, \"Parch\": 0, \"Ticket\": \"36866\", \"Fare\": 7.7375, \"Cabin\": null, \"Embarked\": \"Q\"}, {\"PassengerId\": 729, \"Survived\": 0, \"Pclass\": 2, \"Name\": \"Bryhl, Mr. Kurt Arnold Gottfrid\", \"Sex\": \"male\", \"Age\": 25.0, \"SibSp\": 1, \"Parch\": 0, \"Ticket\": \"236853\", \"Fare\": 26.0, \"Cabin\": null, \"Embarked\": \"S\"}, {\"PassengerId\": 730, \"Survived\": 0, \"Pclass\": 3, \"Name\": \"Ilmakangas, Miss. Pieta Sofia\", \"Sex\": \"female\", \"Age\": 25.0, \"SibSp\": 1, \"Parch\": 0, \"Ticket\": \"STON/O2. 3101271\", \"Fare\": 7.925, \"Cabin\": null, \"Embarked\": \"S\"}, {\"PassengerId\": 731, \"Survived\": 1, \"Pclass\": 1, \"Name\": \"Allen, Miss. Elisabeth Walton\", \"Sex\": \"female\", \"Age\": 29.0, \"SibSp\": 0, \"Parch\": 0, \"Ticket\": \"24160\", \"Fare\": 211.3375, \"Cabin\": \"B5\", \"Embarked\": \"S\"}, {\"PassengerId\": 732, \"Survived\": 0, \"Pclass\": 3, \"Name\": \"Hassan, Mr. Houssein G N\", \"Sex\": \"male\", \"Age\": 11.0, \"SibSp\": 0, \"Parch\": 0, \"Ticket\": \"2699\", \"Fare\": 18.7875, \"Cabin\": null, \"Embarked\": \"C\"}, {\"PassengerId\": 733, \"Survived\": 0, \"Pclass\": 2, \"Name\": \"Knight, Mr. Robert J\", \"Sex\": \"male\", \"Age\": null, \"SibSp\": 0, \"Parch\": 0, \"Ticket\": \"239855\", \"Fare\": 0.0, \"Cabin\": null, \"Embarked\": \"S\"}, {\"PassengerId\": 734, \"Survived\": 0, \"Pclass\": 2, \"Name\": \"Berriman, Mr. William John\", \"Sex\": \"male\", \"Age\": 23.0, \"SibSp\": 0, \"Parch\": 0, \"Ticket\": \"28425\", \"Fare\": 13.0, \"Cabin\": null, \"Embarked\": \"S\"}, {\"PassengerId\": 735, \"Survived\": 0, \"Pclass\": 2, \"Name\": \"Troupiansky, Mr. Moses Aaron\", \"Sex\": \"male\", \"Age\": 23.0, \"SibSp\": 0, \"Parch\": 0, \"Ticket\": \"233639\", \"Fare\": 13.0, \"Cabin\": null, \"Embarked\": \"S\"}, {\"PassengerId\": 736, \"Survived\": 0, \"Pclass\": 3, \"Name\": \"Williams, Mr. Leslie\", \"Sex\": \"male\", \"Age\": 28.5, \"SibSp\": 0, \"Parch\": 0, \"Ticket\": \"54636\", \"Fare\": 16.1, \"Cabin\": null, \"Embarked\": \"S\"}, {\"PassengerId\": 737, \"Survived\": 0, \"Pclass\": 3, \"Name\": \"Ford, Mrs. Edward (Margaret Ann Watson)\", \"Sex\": \"female\", \"Age\": 48.0, \"SibSp\": 1, \"Parch\": 3, \"Ticket\": \"W./C. 6608\", \"Fare\": 34.375, \"Cabin\": null, \"Embarked\": \"S\"}, {\"PassengerId\": 738, \"Survived\": 1, \"Pclass\": 1, \"Name\": \"Lesurer, Mr. Gustave J\", \"Sex\": \"male\", \"Age\": 35.0, \"SibSp\": 0, \"Parch\": 0, \"Ticket\": \"PC 17755\", \"Fare\": 512.3292, \"Cabin\": \"B101\", \"Embarked\": \"C\"}, {\"PassengerId\": 739, \"Survived\": 0, \"Pclass\": 3, \"Name\": \"Ivanoff, Mr. Kanio\", \"Sex\": \"male\", \"Age\": null, \"SibSp\": 0, \"Parch\": 0, \"Ticket\": \"349201\", \"Fare\": 7.8958, \"Cabin\": null, \"Embarked\": \"S\"}, {\"PassengerId\": 740, \"Survived\": 0, \"Pclass\": 3, \"Name\": \"Nankoff, Mr. Minko\", \"Sex\": \"male\", \"Age\": null, \"SibSp\": 0, \"Parch\": 0, \"Ticket\": \"349218\", \"Fare\": 7.8958, \"Cabin\": null, \"Embarked\": \"S\"}, {\"PassengerId\": 741, \"Survived\": 1, \"Pclass\": 1, \"Name\": \"Hawksford, Mr. Walter James\", \"Sex\": \"male\", \"Age\": null, \"SibSp\": 0, \"Parch\": 0, \"Ticket\": \"16988\", \"Fare\": 30.0, \"Cabin\": \"D45\", \"Embarked\": \"S\"}, {\"PassengerId\": 742, \"Survived\": 0, \"Pclass\": 1, \"Name\": \"Cavendish, Mr. Tyrell William\", \"Sex\": \"male\", \"Age\": 36.0, \"SibSp\": 1, \"Parch\": 0, \"Ticket\": \"19877\", \"Fare\": 78.85, \"Cabin\": \"C46\", \"Embarked\": \"S\"}, {\"PassengerId\": 743, \"Survived\": 1, \"Pclass\": 1, \"Name\": \"Ryerson, Miss. Susan Parker \\\"Suzette\\\"\", \"Sex\": \"female\", \"Age\": 21.0, \"SibSp\": 2, \"Parch\": 2, \"Ticket\": \"PC 17608\", \"Fare\": 262.375, \"Cabin\": \"B57 B59 B63 B66\", \"Embarked\": \"C\"}, {\"PassengerId\": 744, \"Survived\": 0, \"Pclass\": 3, \"Name\": \"McNamee, Mr. Neal\", \"Sex\": \"male\", \"Age\": 24.0, \"SibSp\": 1, \"Parch\": 0, \"Ticket\": \"376566\", \"Fare\": 16.1, \"Cabin\": null, \"Embarked\": \"S\"}, {\"PassengerId\": 745, \"Survived\": 1, \"Pclass\": 3, \"Name\": \"Stranden, Mr. Juho\", \"Sex\": \"male\", \"Age\": 31.0, \"SibSp\": 0, \"Parch\": 0, \"Ticket\": \"STON/O 2. 3101288\", \"Fare\": 7.925, \"Cabin\": null, \"Embarked\": \"S\"}, {\"PassengerId\": 746, \"Survived\": 0, \"Pclass\": 1, \"Name\": \"Crosby, Capt. Edward Gifford\", \"Sex\": \"male\", \"Age\": 70.0, \"SibSp\": 1, \"Parch\": 1, \"Ticket\": \"WE/P 5735\", \"Fare\": 71.0, \"Cabin\": \"B22\", \"Embarked\": \"S\"}, {\"PassengerId\": 747, \"Survived\": 0, \"Pclass\": 3, \"Name\": \"Abbott, Mr. Rossmore Edward\", \"Sex\": \"male\", \"Age\": 16.0, \"SibSp\": 1, \"Parch\": 1, \"Ticket\": \"C.A. 2673\", \"Fare\": 20.25, \"Cabin\": null, \"Embarked\": \"S\"}, {\"PassengerId\": 748, \"Survived\": 1, \"Pclass\": 2, \"Name\": \"Sinkkonen, Miss. Anna\", \"Sex\": \"female\", \"Age\": 30.0, \"SibSp\": 0, \"Parch\": 0, \"Ticket\": \"250648\", \"Fare\": 13.0, \"Cabin\": null, \"Embarked\": \"S\"}, {\"PassengerId\": 749, \"Survived\": 0, \"Pclass\": 1, \"Name\": \"Marvin, Mr. Daniel Warner\", \"Sex\": \"male\", \"Age\": 19.0, \"SibSp\": 1, \"Parch\": 0, \"Ticket\": \"113773\", \"Fare\": 53.1, \"Cabin\": \"D30\", \"Embarked\": \"S\"}, {\"PassengerId\": 750, \"Survived\": 0, \"Pclass\": 3, \"Name\": \"Connaghton, Mr. Michael\", \"Sex\": \"male\", \"Age\": 31.0, \"SibSp\": 0, \"Parch\": 0, \"Ticket\": \"335097\", \"Fare\": 7.75, \"Cabin\": null, \"Embarked\": \"Q\"}, {\"PassengerId\": 751, \"Survived\": 1, \"Pclass\": 2, \"Name\": \"Wells, Miss. Joan\", \"Sex\": \"female\", \"Age\": 4.0, \"SibSp\": 1, \"Parch\": 1, \"Ticket\": \"29103\", \"Fare\": 23.0, \"Cabin\": null, \"Embarked\": \"S\"}, {\"PassengerId\": 752, \"Survived\": 1, \"Pclass\": 3, \"Name\": \"Moor, Master. Meier\", \"Sex\": \"male\", \"Age\": 6.0, \"SibSp\": 0, \"Parch\": 1, \"Ticket\": \"392096\", \"Fare\": 12.475, \"Cabin\": \"E121\", \"Embarked\": \"S\"}, {\"PassengerId\": 753, \"Survived\": 0, \"Pclass\": 3, \"Name\": \"Vande Velde, Mr. Johannes Joseph\", \"Sex\": \"male\", \"Age\": 33.0, \"SibSp\": 0, \"Parch\": 0, \"Ticket\": \"345780\", \"Fare\": 9.5, \"Cabin\": null, \"Embarked\": \"S\"}, {\"PassengerId\": 754, \"Survived\": 0, \"Pclass\": 3, \"Name\": \"Jonkoff, Mr. Lalio\", \"Sex\": \"male\", \"Age\": 23.0, \"SibSp\": 0, \"Parch\": 0, \"Ticket\": \"349204\", \"Fare\": 7.8958, \"Cabin\": null, \"Embarked\": \"S\"}, {\"PassengerId\": 755, \"Survived\": 1, \"Pclass\": 2, \"Name\": \"Herman, Mrs. Samuel (Jane Laver)\", \"Sex\": \"female\", \"Age\": 48.0, \"SibSp\": 1, \"Parch\": 2, \"Ticket\": \"220845\", \"Fare\": 65.0, \"Cabin\": null, \"Embarked\": \"S\"}, {\"PassengerId\": 756, \"Survived\": 1, \"Pclass\": 2, \"Name\": \"Hamalainen, Master. Viljo\", \"Sex\": \"male\", \"Age\": 0.67, \"SibSp\": 1, \"Parch\": 1, \"Ticket\": \"250649\", \"Fare\": 14.5, \"Cabin\": null, \"Embarked\": \"S\"}, {\"PassengerId\": 757, \"Survived\": 0, \"Pclass\": 3, \"Name\": \"Carlsson, Mr. August Sigfrid\", \"Sex\": \"male\", \"Age\": 28.0, \"SibSp\": 0, \"Parch\": 0, \"Ticket\": \"350042\", \"Fare\": 7.7958, \"Cabin\": null, \"Embarked\": \"S\"}, {\"PassengerId\": 758, \"Survived\": 0, \"Pclass\": 2, \"Name\": \"Bailey, Mr. Percy Andrew\", \"Sex\": \"male\", \"Age\": 18.0, \"SibSp\": 0, \"Parch\": 0, \"Ticket\": \"29108\", \"Fare\": 11.5, \"Cabin\": null, \"Embarked\": \"S\"}, {\"PassengerId\": 759, \"Survived\": 0, \"Pclass\": 3, \"Name\": \"Theobald, Mr. Thomas Leonard\", \"Sex\": \"male\", \"Age\": 34.0, \"SibSp\": 0, \"Parch\": 0, \"Ticket\": \"363294\", \"Fare\": 8.05, \"Cabin\": null, \"Embarked\": \"S\"}, {\"PassengerId\": 760, \"Survived\": 1, \"Pclass\": 1, \"Name\": \"Rothes, the Countess. of (Lucy Noel Martha Dyer-Edwards)\", \"Sex\": \"female\", \"Age\": 33.0, \"SibSp\": 0, \"Parch\": 0, \"Ticket\": \"110152\", \"Fare\": 86.5, \"Cabin\": \"B77\", \"Embarked\": \"S\"}, {\"PassengerId\": 761, \"Survived\": 0, \"Pclass\": 3, \"Name\": \"Garfirth, Mr. John\", \"Sex\": \"male\", \"Age\": null, \"SibSp\": 0, \"Parch\": 0, \"Ticket\": \"358585\", \"Fare\": 14.5, \"Cabin\": null, \"Embarked\": \"S\"}, {\"PassengerId\": 762, \"Survived\": 0, \"Pclass\": 3, \"Name\": \"Nirva, Mr. Iisakki Antino Aijo\", \"Sex\": \"male\", \"Age\": 41.0, \"SibSp\": 0, \"Parch\": 0, \"Ticket\": \"SOTON/O2 3101272\", \"Fare\": 7.125, \"Cabin\": null, \"Embarked\": \"S\"}, {\"PassengerId\": 763, \"Survived\": 1, \"Pclass\": 3, \"Name\": \"Barah, Mr. Hanna Assi\", \"Sex\": \"male\", \"Age\": 20.0, \"SibSp\": 0, \"Parch\": 0, \"Ticket\": \"2663\", \"Fare\": 7.2292, \"Cabin\": null, \"Embarked\": \"C\"}, {\"PassengerId\": 764, \"Survived\": 1, \"Pclass\": 1, \"Name\": \"Carter, Mrs. William Ernest (Lucile Polk)\", \"Sex\": \"female\", \"Age\": 36.0, \"SibSp\": 1, \"Parch\": 2, \"Ticket\": \"113760\", \"Fare\": 120.0, \"Cabin\": \"B96 B98\", \"Embarked\": \"S\"}, {\"PassengerId\": 765, \"Survived\": 0, \"Pclass\": 3, \"Name\": \"Eklund, Mr. Hans Linus\", \"Sex\": \"male\", \"Age\": 16.0, \"SibSp\": 0, \"Parch\": 0, \"Ticket\": \"347074\", \"Fare\": 7.775, \"Cabin\": null, \"Embarked\": \"S\"}, {\"PassengerId\": 766, \"Survived\": 1, \"Pclass\": 1, \"Name\": \"Hogeboom, Mrs. John C (Anna Andrews)\", \"Sex\": \"female\", \"Age\": 51.0, \"SibSp\": 1, \"Parch\": 0, \"Ticket\": \"13502\", \"Fare\": 77.9583, \"Cabin\": \"D11\", \"Embarked\": \"S\"}, {\"PassengerId\": 767, \"Survived\": 0, \"Pclass\": 1, \"Name\": \"Brewe, Dr. Arthur Jackson\", \"Sex\": \"male\", \"Age\": null, \"SibSp\": 0, \"Parch\": 0, \"Ticket\": \"112379\", \"Fare\": 39.6, \"Cabin\": null, \"Embarked\": \"C\"}, {\"PassengerId\": 768, \"Survived\": 0, \"Pclass\": 3, \"Name\": \"Mangan, Miss. Mary\", \"Sex\": \"female\", \"Age\": 30.5, \"SibSp\": 0, \"Parch\": 0, \"Ticket\": \"364850\", \"Fare\": 7.75, \"Cabin\": null, \"Embarked\": \"Q\"}, {\"PassengerId\": 769, \"Survived\": 0, \"Pclass\": 3, \"Name\": \"Moran, Mr. Daniel J\", \"Sex\": \"male\", \"Age\": null, \"SibSp\": 1, \"Parch\": 0, \"Ticket\": \"371110\", \"Fare\": 24.15, \"Cabin\": null, \"Embarked\": \"Q\"}, {\"PassengerId\": 770, \"Survived\": 0, \"Pclass\": 3, \"Name\": \"Gronnestad, Mr. Daniel Danielsen\", \"Sex\": \"male\", \"Age\": 32.0, \"SibSp\": 0, \"Parch\": 0, \"Ticket\": \"8471\", \"Fare\": 8.3625, \"Cabin\": null, \"Embarked\": \"S\"}, {\"PassengerId\": 771, \"Survived\": 0, \"Pclass\": 3, \"Name\": \"Lievens, Mr. Rene Aime\", \"Sex\": \"male\", \"Age\": 24.0, \"SibSp\": 0, \"Parch\": 0, \"Ticket\": \"345781\", \"Fare\": 9.5, \"Cabin\": null, \"Embarked\": \"S\"}, {\"PassengerId\": 772, \"Survived\": 0, \"Pclass\": 3, \"Name\": \"Jensen, Mr. Niels Peder\", \"Sex\": \"male\", \"Age\": 48.0, \"SibSp\": 0, \"Parch\": 0, \"Ticket\": \"350047\", \"Fare\": 7.8542, \"Cabin\": null, \"Embarked\": \"S\"}, {\"PassengerId\": 773, \"Survived\": 0, \"Pclass\": 2, \"Name\": \"Mack, Mrs. (Mary)\", \"Sex\": \"female\", \"Age\": 57.0, \"SibSp\": 0, \"Parch\": 0, \"Ticket\": \"S.O./P.P. 3\", \"Fare\": 10.5, \"Cabin\": \"E77\", \"Embarked\": \"S\"}, {\"PassengerId\": 774, \"Survived\": 0, \"Pclass\": 3, \"Name\": \"Elias, Mr. Dibo\", \"Sex\": \"male\", \"Age\": null, \"SibSp\": 0, \"Parch\": 0, \"Ticket\": \"2674\", \"Fare\": 7.225, \"Cabin\": null, \"Embarked\": \"C\"}, {\"PassengerId\": 775, \"Survived\": 1, \"Pclass\": 2, \"Name\": \"Hocking, Mrs. Elizabeth (Eliza Needs)\", \"Sex\": \"female\", \"Age\": 54.0, \"SibSp\": 1, \"Parch\": 3, \"Ticket\": \"29105\", \"Fare\": 23.0, \"Cabin\": null, \"Embarked\": \"S\"}, {\"PassengerId\": 776, \"Survived\": 0, \"Pclass\": 3, \"Name\": \"Myhrman, Mr. Pehr Fabian Oliver Malkolm\", \"Sex\": \"male\", \"Age\": 18.0, \"SibSp\": 0, \"Parch\": 0, \"Ticket\": \"347078\", \"Fare\": 7.75, \"Cabin\": null, \"Embarked\": \"S\"}, {\"PassengerId\": 777, \"Survived\": 0, \"Pclass\": 3, \"Name\": \"Tobin, Mr. Roger\", \"Sex\": \"male\", \"Age\": null, \"SibSp\": 0, \"Parch\": 0, \"Ticket\": \"383121\", \"Fare\": 7.75, \"Cabin\": \"F38\", \"Embarked\": \"Q\"}, {\"PassengerId\": 778, \"Survived\": 1, \"Pclass\": 3, \"Name\": \"Emanuel, Miss. Virginia Ethel\", \"Sex\": \"female\", \"Age\": 5.0, \"SibSp\": 0, \"Parch\": 0, \"Ticket\": \"364516\", \"Fare\": 12.475, \"Cabin\": null, \"Embarked\": \"S\"}, {\"PassengerId\": 779, \"Survived\": 0, \"Pclass\": 3, \"Name\": \"Kilgannon, Mr. Thomas J\", \"Sex\": \"male\", \"Age\": null, \"SibSp\": 0, \"Parch\": 0, \"Ticket\": \"36865\", \"Fare\": 7.7375, \"Cabin\": null, \"Embarked\": \"Q\"}, {\"PassengerId\": 780, \"Survived\": 1, \"Pclass\": 1, \"Name\": \"Robert, Mrs. Edward Scott (Elisabeth Walton McMillan)\", \"Sex\": \"female\", \"Age\": 43.0, \"SibSp\": 0, \"Parch\": 1, \"Ticket\": \"24160\", \"Fare\": 211.3375, \"Cabin\": \"B3\", \"Embarked\": \"S\"}, {\"PassengerId\": 781, \"Survived\": 1, \"Pclass\": 3, \"Name\": \"Ayoub, Miss. Banoura\", \"Sex\": \"female\", \"Age\": 13.0, \"SibSp\": 0, \"Parch\": 0, \"Ticket\": \"2687\", \"Fare\": 7.2292, \"Cabin\": null, \"Embarked\": \"C\"}, {\"PassengerId\": 782, \"Survived\": 1, \"Pclass\": 1, \"Name\": \"Dick, Mrs. Albert Adrian (Vera Gillespie)\", \"Sex\": \"female\", \"Age\": 17.0, \"SibSp\": 1, \"Parch\": 0, \"Ticket\": \"17474\", \"Fare\": 57.0, \"Cabin\": \"B20\", \"Embarked\": \"S\"}, {\"PassengerId\": 783, \"Survived\": 0, \"Pclass\": 1, \"Name\": \"Long, Mr. Milton Clyde\", \"Sex\": \"male\", \"Age\": 29.0, \"SibSp\": 0, \"Parch\": 0, \"Ticket\": \"113501\", \"Fare\": 30.0, \"Cabin\": \"D6\", \"Embarked\": \"S\"}, {\"PassengerId\": 784, \"Survived\": 0, \"Pclass\": 3, \"Name\": \"Johnston, Mr. Andrew G\", \"Sex\": \"male\", \"Age\": null, \"SibSp\": 1, \"Parch\": 2, \"Ticket\": \"W./C. 6607\", \"Fare\": 23.45, \"Cabin\": null, \"Embarked\": \"S\"}, {\"PassengerId\": 785, \"Survived\": 0, \"Pclass\": 3, \"Name\": \"Ali, Mr. William\", \"Sex\": \"male\", \"Age\": 25.0, \"SibSp\": 0, \"Parch\": 0, \"Ticket\": \"SOTON/O.Q. 3101312\", \"Fare\": 7.05, \"Cabin\": null, \"Embarked\": \"S\"}, {\"PassengerId\": 786, \"Survived\": 0, \"Pclass\": 3, \"Name\": \"Harmer, Mr. Abraham (David Lishin)\", \"Sex\": \"male\", \"Age\": 25.0, \"SibSp\": 0, \"Parch\": 0, \"Ticket\": \"374887\", \"Fare\": 7.25, \"Cabin\": null, \"Embarked\": \"S\"}, {\"PassengerId\": 787, \"Survived\": 1, \"Pclass\": 3, \"Name\": \"Sjoblom, Miss. Anna Sofia\", \"Sex\": \"female\", \"Age\": 18.0, \"SibSp\": 0, \"Parch\": 0, \"Ticket\": \"3101265\", \"Fare\": 7.4958, \"Cabin\": null, \"Embarked\": \"S\"}, {\"PassengerId\": 788, \"Survived\": 0, \"Pclass\": 3, \"Name\": \"Rice, Master. George Hugh\", \"Sex\": \"male\", \"Age\": 8.0, \"SibSp\": 4, \"Parch\": 1, \"Ticket\": \"382652\", \"Fare\": 29.125, \"Cabin\": null, \"Embarked\": \"Q\"}, {\"PassengerId\": 789, \"Survived\": 1, \"Pclass\": 3, \"Name\": \"Dean, Master. Bertram Vere\", \"Sex\": \"male\", \"Age\": 1.0, \"SibSp\": 1, \"Parch\": 2, \"Ticket\": \"C.A. 2315\", \"Fare\": 20.575, \"Cabin\": null, \"Embarked\": \"S\"}, {\"PassengerId\": 790, \"Survived\": 0, \"Pclass\": 1, \"Name\": \"Guggenheim, Mr. Benjamin\", \"Sex\": \"male\", \"Age\": 46.0, \"SibSp\": 0, \"Parch\": 0, \"Ticket\": \"PC 17593\", \"Fare\": 79.2, \"Cabin\": \"B82 B84\", \"Embarked\": \"C\"}, {\"PassengerId\": 791, \"Survived\": 0, \"Pclass\": 3, \"Name\": \"Keane, Mr. Andrew \\\"Andy\\\"\", \"Sex\": \"male\", \"Age\": null, \"SibSp\": 0, \"Parch\": 0, \"Ticket\": \"12460\", \"Fare\": 7.75, \"Cabin\": null, \"Embarked\": \"Q\"}, {\"PassengerId\": 792, \"Survived\": 0, \"Pclass\": 2, \"Name\": \"Gaskell, Mr. Alfred\", \"Sex\": \"male\", \"Age\": 16.0, \"SibSp\": 0, \"Parch\": 0, \"Ticket\": \"239865\", \"Fare\": 26.0, \"Cabin\": null, \"Embarked\": \"S\"}, {\"PassengerId\": 793, \"Survived\": 0, \"Pclass\": 3, \"Name\": \"Sage, Miss. Stella Anna\", \"Sex\": \"female\", \"Age\": null, \"SibSp\": 8, \"Parch\": 2, \"Ticket\": \"CA. 2343\", \"Fare\": 69.55, \"Cabin\": null, \"Embarked\": \"S\"}, {\"PassengerId\": 794, \"Survived\": 0, \"Pclass\": 1, \"Name\": \"Hoyt, Mr. William Fisher\", \"Sex\": \"male\", \"Age\": null, \"SibSp\": 0, \"Parch\": 0, \"Ticket\": \"PC 17600\", \"Fare\": 30.6958, \"Cabin\": null, \"Embarked\": \"C\"}, {\"PassengerId\": 795, \"Survived\": 0, \"Pclass\": 3, \"Name\": \"Dantcheff, Mr. Ristiu\", \"Sex\": \"male\", \"Age\": 25.0, \"SibSp\": 0, \"Parch\": 0, \"Ticket\": \"349203\", \"Fare\": 7.8958, \"Cabin\": null, \"Embarked\": \"S\"}, {\"PassengerId\": 796, \"Survived\": 0, \"Pclass\": 2, \"Name\": \"Otter, Mr. Richard\", \"Sex\": \"male\", \"Age\": 39.0, \"SibSp\": 0, \"Parch\": 0, \"Ticket\": \"28213\", \"Fare\": 13.0, \"Cabin\": null, \"Embarked\": \"S\"}, {\"PassengerId\": 797, \"Survived\": 1, \"Pclass\": 1, \"Name\": \"Leader, Dr. Alice (Farnham)\", \"Sex\": \"female\", \"Age\": 49.0, \"SibSp\": 0, \"Parch\": 0, \"Ticket\": \"17465\", \"Fare\": 25.9292, \"Cabin\": \"D17\", \"Embarked\": \"S\"}, {\"PassengerId\": 798, \"Survived\": 1, \"Pclass\": 3, \"Name\": \"Osman, Mrs. Mara\", \"Sex\": \"female\", \"Age\": 31.0, \"SibSp\": 0, \"Parch\": 0, \"Ticket\": \"349244\", \"Fare\": 8.6833, \"Cabin\": null, \"Embarked\": \"S\"}, {\"PassengerId\": 799, \"Survived\": 0, \"Pclass\": 3, \"Name\": \"Ibrahim Shawah, Mr. Yousseff\", \"Sex\": \"male\", \"Age\": 30.0, \"SibSp\": 0, \"Parch\": 0, \"Ticket\": \"2685\", \"Fare\": 7.2292, \"Cabin\": null, \"Embarked\": \"C\"}, {\"PassengerId\": 800, \"Survived\": 0, \"Pclass\": 3, \"Name\": \"Van Impe, Mrs. Jean Baptiste (Rosalie Paula Govaert)\", \"Sex\": \"female\", \"Age\": 30.0, \"SibSp\": 1, \"Parch\": 1, \"Ticket\": \"345773\", \"Fare\": 24.15, \"Cabin\": null, \"Embarked\": \"S\"}, {\"PassengerId\": 801, \"Survived\": 0, \"Pclass\": 2, \"Name\": \"Ponesell, Mr. Martin\", \"Sex\": \"male\", \"Age\": 34.0, \"SibSp\": 0, \"Parch\": 0, \"Ticket\": \"250647\", \"Fare\": 13.0, \"Cabin\": null, \"Embarked\": \"S\"}, {\"PassengerId\": 802, \"Survived\": 1, \"Pclass\": 2, \"Name\": \"Collyer, Mrs. Harvey (Charlotte Annie Tate)\", \"Sex\": \"female\", \"Age\": 31.0, \"SibSp\": 1, \"Parch\": 1, \"Ticket\": \"C.A. 31921\", \"Fare\": 26.25, \"Cabin\": null, \"Embarked\": \"S\"}, {\"PassengerId\": 803, \"Survived\": 1, \"Pclass\": 1, \"Name\": \"Carter, Master. William Thornton II\", \"Sex\": \"male\", \"Age\": 11.0, \"SibSp\": 1, \"Parch\": 2, \"Ticket\": \"113760\", \"Fare\": 120.0, \"Cabin\": \"B96 B98\", \"Embarked\": \"S\"}, {\"PassengerId\": 804, \"Survived\": 1, \"Pclass\": 3, \"Name\": \"Thomas, Master. Assad Alexander\", \"Sex\": \"male\", \"Age\": 0.42, \"SibSp\": 0, \"Parch\": 1, \"Ticket\": \"2625\", \"Fare\": 8.5167, \"Cabin\": null, \"Embarked\": \"C\"}, {\"PassengerId\": 805, \"Survived\": 1, \"Pclass\": 3, \"Name\": \"Hedman, Mr. Oskar Arvid\", \"Sex\": \"male\", \"Age\": 27.0, \"SibSp\": 0, \"Parch\": 0, \"Ticket\": \"347089\", \"Fare\": 6.975, \"Cabin\": null, \"Embarked\": \"S\"}, {\"PassengerId\": 806, \"Survived\": 0, \"Pclass\": 3, \"Name\": \"Johansson, Mr. Karl Johan\", \"Sex\": \"male\", \"Age\": 31.0, \"SibSp\": 0, \"Parch\": 0, \"Ticket\": \"347063\", \"Fare\": 7.775, \"Cabin\": null, \"Embarked\": \"S\"}, {\"PassengerId\": 807, \"Survived\": 0, \"Pclass\": 1, \"Name\": \"Andrews, Mr. Thomas Jr\", \"Sex\": \"male\", \"Age\": 39.0, \"SibSp\": 0, \"Parch\": 0, \"Ticket\": \"112050\", \"Fare\": 0.0, \"Cabin\": \"A36\", \"Embarked\": \"S\"}, {\"PassengerId\": 808, \"Survived\": 0, \"Pclass\": 3, \"Name\": \"Pettersson, Miss. Ellen Natalia\", \"Sex\": \"female\", \"Age\": 18.0, \"SibSp\": 0, \"Parch\": 0, \"Ticket\": \"347087\", \"Fare\": 7.775, \"Cabin\": null, \"Embarked\": \"S\"}, {\"PassengerId\": 809, \"Survived\": 0, \"Pclass\": 2, \"Name\": \"Meyer, Mr. August\", \"Sex\": \"male\", \"Age\": 39.0, \"SibSp\": 0, \"Parch\": 0, \"Ticket\": \"248723\", \"Fare\": 13.0, \"Cabin\": null, \"Embarked\": \"S\"}, {\"PassengerId\": 810, \"Survived\": 1, \"Pclass\": 1, \"Name\": \"Chambers, Mrs. Norman Campbell (Bertha Griggs)\", \"Sex\": \"female\", \"Age\": 33.0, \"SibSp\": 1, \"Parch\": 0, \"Ticket\": \"113806\", \"Fare\": 53.1, \"Cabin\": \"E8\", \"Embarked\": \"S\"}, {\"PassengerId\": 811, \"Survived\": 0, \"Pclass\": 3, \"Name\": \"Alexander, Mr. William\", \"Sex\": \"male\", \"Age\": 26.0, \"SibSp\": 0, \"Parch\": 0, \"Ticket\": \"3474\", \"Fare\": 7.8875, \"Cabin\": null, \"Embarked\": \"S\"}, {\"PassengerId\": 812, \"Survived\": 0, \"Pclass\": 3, \"Name\": \"Lester, Mr. James\", \"Sex\": \"male\", \"Age\": 39.0, \"SibSp\": 0, \"Parch\": 0, \"Ticket\": \"A/4 48871\", \"Fare\": 24.15, \"Cabin\": null, \"Embarked\": \"S\"}, {\"PassengerId\": 813, \"Survived\": 0, \"Pclass\": 2, \"Name\": \"Slemen, Mr. Richard James\", \"Sex\": \"male\", \"Age\": 35.0, \"SibSp\": 0, \"Parch\": 0, \"Ticket\": \"28206\", \"Fare\": 10.5, \"Cabin\": null, \"Embarked\": \"S\"}, {\"PassengerId\": 814, \"Survived\": 0, \"Pclass\": 3, \"Name\": \"Andersson, Miss. Ebba Iris Alfrida\", \"Sex\": \"female\", \"Age\": 6.0, \"SibSp\": 4, \"Parch\": 2, \"Ticket\": \"347082\", \"Fare\": 31.275, \"Cabin\": null, \"Embarked\": \"S\"}, {\"PassengerId\": 815, \"Survived\": 0, \"Pclass\": 3, \"Name\": \"Tomlin, Mr. Ernest Portage\", \"Sex\": \"male\", \"Age\": 30.5, \"SibSp\": 0, \"Parch\": 0, \"Ticket\": \"364499\", \"Fare\": 8.05, \"Cabin\": null, \"Embarked\": \"S\"}, {\"PassengerId\": 816, \"Survived\": 0, \"Pclass\": 1, \"Name\": \"Fry, Mr. Richard\", \"Sex\": \"male\", \"Age\": null, \"SibSp\": 0, \"Parch\": 0, \"Ticket\": \"112058\", \"Fare\": 0.0, \"Cabin\": \"B102\", \"Embarked\": \"S\"}, {\"PassengerId\": 817, \"Survived\": 0, \"Pclass\": 3, \"Name\": \"Heininen, Miss. Wendla Maria\", \"Sex\": \"female\", \"Age\": 23.0, \"SibSp\": 0, \"Parch\": 0, \"Ticket\": \"STON/O2. 3101290\", \"Fare\": 7.925, \"Cabin\": null, \"Embarked\": \"S\"}, {\"PassengerId\": 818, \"Survived\": 0, \"Pclass\": 2, \"Name\": \"Mallet, Mr. Albert\", \"Sex\": \"male\", \"Age\": 31.0, \"SibSp\": 1, \"Parch\": 1, \"Ticket\": \"S.C./PARIS 2079\", \"Fare\": 37.0042, \"Cabin\": null, \"Embarked\": \"C\"}, {\"PassengerId\": 819, \"Survived\": 0, \"Pclass\": 3, \"Name\": \"Holm, Mr. John Fredrik Alexander\", \"Sex\": \"male\", \"Age\": 43.0, \"SibSp\": 0, \"Parch\": 0, \"Ticket\": \"C 7075\", \"Fare\": 6.45, \"Cabin\": null, \"Embarked\": \"S\"}, {\"PassengerId\": 820, \"Survived\": 0, \"Pclass\": 3, \"Name\": \"Skoog, Master. Karl Thorsten\", \"Sex\": \"male\", \"Age\": 10.0, \"SibSp\": 3, \"Parch\": 2, \"Ticket\": \"347088\", \"Fare\": 27.9, \"Cabin\": null, \"Embarked\": \"S\"}, {\"PassengerId\": 821, \"Survived\": 1, \"Pclass\": 1, \"Name\": \"Hays, Mrs. Charles Melville (Clara Jennings Gregg)\", \"Sex\": \"female\", \"Age\": 52.0, \"SibSp\": 1, \"Parch\": 1, \"Ticket\": \"12749\", \"Fare\": 93.5, \"Cabin\": \"B69\", \"Embarked\": \"S\"}, {\"PassengerId\": 822, \"Survived\": 1, \"Pclass\": 3, \"Name\": \"Lulic, Mr. Nikola\", \"Sex\": \"male\", \"Age\": 27.0, \"SibSp\": 0, \"Parch\": 0, \"Ticket\": \"315098\", \"Fare\": 8.6625, \"Cabin\": null, \"Embarked\": \"S\"}, {\"PassengerId\": 823, \"Survived\": 0, \"Pclass\": 1, \"Name\": \"Reuchlin, Jonkheer. John George\", \"Sex\": \"male\", \"Age\": 38.0, \"SibSp\": 0, \"Parch\": 0, \"Ticket\": \"19972\", \"Fare\": 0.0, \"Cabin\": null, \"Embarked\": \"S\"}, {\"PassengerId\": 824, \"Survived\": 1, \"Pclass\": 3, \"Name\": \"Moor, Mrs. (Beila)\", \"Sex\": \"female\", \"Age\": 27.0, \"SibSp\": 0, \"Parch\": 1, \"Ticket\": \"392096\", \"Fare\": 12.475, \"Cabin\": \"E121\", \"Embarked\": \"S\"}, {\"PassengerId\": 825, \"Survived\": 0, \"Pclass\": 3, \"Name\": \"Panula, Master. Urho Abraham\", \"Sex\": \"male\", \"Age\": 2.0, \"SibSp\": 4, \"Parch\": 1, \"Ticket\": \"3101295\", \"Fare\": 39.6875, \"Cabin\": null, \"Embarked\": \"S\"}, {\"PassengerId\": 826, \"Survived\": 0, \"Pclass\": 3, \"Name\": \"Flynn, Mr. John\", \"Sex\": \"male\", \"Age\": null, \"SibSp\": 0, \"Parch\": 0, \"Ticket\": \"368323\", \"Fare\": 6.95, \"Cabin\": null, \"Embarked\": \"Q\"}, {\"PassengerId\": 827, \"Survived\": 0, \"Pclass\": 3, \"Name\": \"Lam, Mr. Len\", \"Sex\": \"male\", \"Age\": null, \"SibSp\": 0, \"Parch\": 0, \"Ticket\": \"1601\", \"Fare\": 56.4958, \"Cabin\": null, \"Embarked\": \"S\"}, {\"PassengerId\": 828, \"Survived\": 1, \"Pclass\": 2, \"Name\": \"Mallet, Master. Andre\", \"Sex\": \"male\", \"Age\": 1.0, \"SibSp\": 0, \"Parch\": 2, \"Ticket\": \"S.C./PARIS 2079\", \"Fare\": 37.0042, \"Cabin\": null, \"Embarked\": \"C\"}, {\"PassengerId\": 829, \"Survived\": 1, \"Pclass\": 3, \"Name\": \"McCormack, Mr. Thomas Joseph\", \"Sex\": \"male\", \"Age\": null, \"SibSp\": 0, \"Parch\": 0, \"Ticket\": \"367228\", \"Fare\": 7.75, \"Cabin\": null, \"Embarked\": \"Q\"}, {\"PassengerId\": 830, \"Survived\": 1, \"Pclass\": 1, \"Name\": \"Stone, Mrs. George Nelson (Martha Evelyn)\", \"Sex\": \"female\", \"Age\": 62.0, \"SibSp\": 0, \"Parch\": 0, \"Ticket\": \"113572\", \"Fare\": 80.0, \"Cabin\": \"B28\", \"Embarked\": null}, {\"PassengerId\": 831, \"Survived\": 1, \"Pclass\": 3, \"Name\": \"Yasbeck, Mrs. Antoni (Selini Alexander)\", \"Sex\": \"female\", \"Age\": 15.0, \"SibSp\": 1, \"Parch\": 0, \"Ticket\": \"2659\", \"Fare\": 14.4542, \"Cabin\": null, \"Embarked\": \"C\"}, {\"PassengerId\": 832, \"Survived\": 1, \"Pclass\": 2, \"Name\": \"Richards, Master. George Sibley\", \"Sex\": \"male\", \"Age\": 0.83, \"SibSp\": 1, \"Parch\": 1, \"Ticket\": \"29106\", \"Fare\": 18.75, \"Cabin\": null, \"Embarked\": \"S\"}, {\"PassengerId\": 833, \"Survived\": 0, \"Pclass\": 3, \"Name\": \"Saad, Mr. Amin\", \"Sex\": \"male\", \"Age\": null, \"SibSp\": 0, \"Parch\": 0, \"Ticket\": \"2671\", \"Fare\": 7.2292, \"Cabin\": null, \"Embarked\": \"C\"}, {\"PassengerId\": 834, \"Survived\": 0, \"Pclass\": 3, \"Name\": \"Augustsson, Mr. Albert\", \"Sex\": \"male\", \"Age\": 23.0, \"SibSp\": 0, \"Parch\": 0, \"Ticket\": \"347468\", \"Fare\": 7.8542, \"Cabin\": null, \"Embarked\": \"S\"}, {\"PassengerId\": 835, \"Survived\": 0, \"Pclass\": 3, \"Name\": \"Allum, Mr. Owen George\", \"Sex\": \"male\", \"Age\": 18.0, \"SibSp\": 0, \"Parch\": 0, \"Ticket\": \"2223\", \"Fare\": 8.3, \"Cabin\": null, \"Embarked\": \"S\"}, {\"PassengerId\": 836, \"Survived\": 1, \"Pclass\": 1, \"Name\": \"Compton, Miss. Sara Rebecca\", \"Sex\": \"female\", \"Age\": 39.0, \"SibSp\": 1, \"Parch\": 1, \"Ticket\": \"PC 17756\", \"Fare\": 83.1583, \"Cabin\": \"E49\", \"Embarked\": \"C\"}, {\"PassengerId\": 837, \"Survived\": 0, \"Pclass\": 3, \"Name\": \"Pasic, Mr. Jakob\", \"Sex\": \"male\", \"Age\": 21.0, \"SibSp\": 0, \"Parch\": 0, \"Ticket\": \"315097\", \"Fare\": 8.6625, \"Cabin\": null, \"Embarked\": \"S\"}, {\"PassengerId\": 838, \"Survived\": 0, \"Pclass\": 3, \"Name\": \"Sirota, Mr. Maurice\", \"Sex\": \"male\", \"Age\": null, \"SibSp\": 0, \"Parch\": 0, \"Ticket\": \"392092\", \"Fare\": 8.05, \"Cabin\": null, \"Embarked\": \"S\"}, {\"PassengerId\": 839, \"Survived\": 1, \"Pclass\": 3, \"Name\": \"Chip, Mr. Chang\", \"Sex\": \"male\", \"Age\": 32.0, \"SibSp\": 0, \"Parch\": 0, \"Ticket\": \"1601\", \"Fare\": 56.4958, \"Cabin\": null, \"Embarked\": \"S\"}, {\"PassengerId\": 840, \"Survived\": 1, \"Pclass\": 1, \"Name\": \"Marechal, Mr. Pierre\", \"Sex\": \"male\", \"Age\": null, \"SibSp\": 0, \"Parch\": 0, \"Ticket\": \"11774\", \"Fare\": 29.7, \"Cabin\": \"C47\", \"Embarked\": \"C\"}, {\"PassengerId\": 841, \"Survived\": 0, \"Pclass\": 3, \"Name\": \"Alhomaki, Mr. Ilmari Rudolf\", \"Sex\": \"male\", \"Age\": 20.0, \"SibSp\": 0, \"Parch\": 0, \"Ticket\": \"SOTON/O2 3101287\", \"Fare\": 7.925, \"Cabin\": null, \"Embarked\": \"S\"}, {\"PassengerId\": 842, \"Survived\": 0, \"Pclass\": 2, \"Name\": \"Mudd, Mr. Thomas Charles\", \"Sex\": \"male\", \"Age\": 16.0, \"SibSp\": 0, \"Parch\": 0, \"Ticket\": \"S.O./P.P. 3\", \"Fare\": 10.5, \"Cabin\": null, \"Embarked\": \"S\"}, {\"PassengerId\": 843, \"Survived\": 1, \"Pclass\": 1, \"Name\": \"Serepeca, Miss. Augusta\", \"Sex\": \"female\", \"Age\": 30.0, \"SibSp\": 0, \"Parch\": 0, \"Ticket\": \"113798\", \"Fare\": 31.0, \"Cabin\": null, \"Embarked\": \"C\"}, {\"PassengerId\": 844, \"Survived\": 0, \"Pclass\": 3, \"Name\": \"Lemberopolous, Mr. Peter L\", \"Sex\": \"male\", \"Age\": 34.5, \"SibSp\": 0, \"Parch\": 0, \"Ticket\": \"2683\", \"Fare\": 6.4375, \"Cabin\": null, \"Embarked\": \"C\"}, {\"PassengerId\": 845, \"Survived\": 0, \"Pclass\": 3, \"Name\": \"Culumovic, Mr. Jeso\", \"Sex\": \"male\", \"Age\": 17.0, \"SibSp\": 0, \"Parch\": 0, \"Ticket\": \"315090\", \"Fare\": 8.6625, \"Cabin\": null, \"Embarked\": \"S\"}, {\"PassengerId\": 846, \"Survived\": 0, \"Pclass\": 3, \"Name\": \"Abbing, Mr. Anthony\", \"Sex\": \"male\", \"Age\": 42.0, \"SibSp\": 0, \"Parch\": 0, \"Ticket\": \"C.A. 5547\", \"Fare\": 7.55, \"Cabin\": null, \"Embarked\": \"S\"}, {\"PassengerId\": 847, \"Survived\": 0, \"Pclass\": 3, \"Name\": \"Sage, Mr. Douglas Bullen\", \"Sex\": \"male\", \"Age\": null, \"SibSp\": 8, \"Parch\": 2, \"Ticket\": \"CA. 2343\", \"Fare\": 69.55, \"Cabin\": null, \"Embarked\": \"S\"}, {\"PassengerId\": 848, \"Survived\": 0, \"Pclass\": 3, \"Name\": \"Markoff, Mr. Marin\", \"Sex\": \"male\", \"Age\": 35.0, \"SibSp\": 0, \"Parch\": 0, \"Ticket\": \"349213\", \"Fare\": 7.8958, \"Cabin\": null, \"Embarked\": \"C\"}, {\"PassengerId\": 849, \"Survived\": 0, \"Pclass\": 2, \"Name\": \"Harper, Rev. John\", \"Sex\": \"male\", \"Age\": 28.0, \"SibSp\": 0, \"Parch\": 1, \"Ticket\": \"248727\", \"Fare\": 33.0, \"Cabin\": null, \"Embarked\": \"S\"}, {\"PassengerId\": 850, \"Survived\": 1, \"Pclass\": 1, \"Name\": \"Goldenberg, Mrs. Samuel L (Edwiga Grabowska)\", \"Sex\": \"female\", \"Age\": null, \"SibSp\": 1, \"Parch\": 0, \"Ticket\": \"17453\", \"Fare\": 89.1042, \"Cabin\": \"C92\", \"Embarked\": \"C\"}, {\"PassengerId\": 851, \"Survived\": 0, \"Pclass\": 3, \"Name\": \"Andersson, Master. Sigvard Harald Elias\", \"Sex\": \"male\", \"Age\": 4.0, \"SibSp\": 4, \"Parch\": 2, \"Ticket\": \"347082\", \"Fare\": 31.275, \"Cabin\": null, \"Embarked\": \"S\"}, {\"PassengerId\": 852, \"Survived\": 0, \"Pclass\": 3, \"Name\": \"Svensson, Mr. Johan\", \"Sex\": \"male\", \"Age\": 74.0, \"SibSp\": 0, \"Parch\": 0, \"Ticket\": \"347060\", \"Fare\": 7.775, \"Cabin\": null, \"Embarked\": \"S\"}, {\"PassengerId\": 853, \"Survived\": 0, \"Pclass\": 3, \"Name\": \"Boulos, Miss. Nourelain\", \"Sex\": \"female\", \"Age\": 9.0, \"SibSp\": 1, \"Parch\": 1, \"Ticket\": \"2678\", \"Fare\": 15.2458, \"Cabin\": null, \"Embarked\": \"C\"}, {\"PassengerId\": 854, \"Survived\": 1, \"Pclass\": 1, \"Name\": \"Lines, Miss. Mary Conover\", \"Sex\": \"female\", \"Age\": 16.0, \"SibSp\": 0, \"Parch\": 1, \"Ticket\": \"PC 17592\", \"Fare\": 39.4, \"Cabin\": \"D28\", \"Embarked\": \"S\"}, {\"PassengerId\": 855, \"Survived\": 0, \"Pclass\": 2, \"Name\": \"Carter, Mrs. Ernest Courtenay (Lilian Hughes)\", \"Sex\": \"female\", \"Age\": 44.0, \"SibSp\": 1, \"Parch\": 0, \"Ticket\": \"244252\", \"Fare\": 26.0, \"Cabin\": null, \"Embarked\": \"S\"}, {\"PassengerId\": 856, \"Survived\": 1, \"Pclass\": 3, \"Name\": \"Aks, Mrs. Sam (Leah Rosen)\", \"Sex\": \"female\", \"Age\": 18.0, \"SibSp\": 0, \"Parch\": 1, \"Ticket\": \"392091\", \"Fare\": 9.35, \"Cabin\": null, \"Embarked\": \"S\"}, {\"PassengerId\": 857, \"Survived\": 1, \"Pclass\": 1, \"Name\": \"Wick, Mrs. George Dennick (Mary Hitchcock)\", \"Sex\": \"female\", \"Age\": 45.0, \"SibSp\": 1, \"Parch\": 1, \"Ticket\": \"36928\", \"Fare\": 164.8667, \"Cabin\": null, \"Embarked\": \"S\"}, {\"PassengerId\": 858, \"Survived\": 1, \"Pclass\": 1, \"Name\": \"Daly, Mr. Peter Denis \", \"Sex\": \"male\", \"Age\": 51.0, \"SibSp\": 0, \"Parch\": 0, \"Ticket\": \"113055\", \"Fare\": 26.55, \"Cabin\": \"E17\", \"Embarked\": \"S\"}, {\"PassengerId\": 859, \"Survived\": 1, \"Pclass\": 3, \"Name\": \"Baclini, Mrs. Solomon (Latifa Qurban)\", \"Sex\": \"female\", \"Age\": 24.0, \"SibSp\": 0, \"Parch\": 3, \"Ticket\": \"2666\", \"Fare\": 19.2583, \"Cabin\": null, \"Embarked\": \"C\"}, {\"PassengerId\": 860, \"Survived\": 0, \"Pclass\": 3, \"Name\": \"Razi, Mr. Raihed\", \"Sex\": \"male\", \"Age\": null, \"SibSp\": 0, \"Parch\": 0, \"Ticket\": \"2629\", \"Fare\": 7.2292, \"Cabin\": null, \"Embarked\": \"C\"}, {\"PassengerId\": 861, \"Survived\": 0, \"Pclass\": 3, \"Name\": \"Hansen, Mr. Claus Peter\", \"Sex\": \"male\", \"Age\": 41.0, \"SibSp\": 2, \"Parch\": 0, \"Ticket\": \"350026\", \"Fare\": 14.1083, \"Cabin\": null, \"Embarked\": \"S\"}, {\"PassengerId\": 862, \"Survived\": 0, \"Pclass\": 2, \"Name\": \"Giles, Mr. Frederick Edward\", \"Sex\": \"male\", \"Age\": 21.0, \"SibSp\": 1, \"Parch\": 0, \"Ticket\": \"28134\", \"Fare\": 11.5, \"Cabin\": null, \"Embarked\": \"S\"}, {\"PassengerId\": 863, \"Survived\": 1, \"Pclass\": 1, \"Name\": \"Swift, Mrs. Frederick Joel (Margaret Welles Barron)\", \"Sex\": \"female\", \"Age\": 48.0, \"SibSp\": 0, \"Parch\": 0, \"Ticket\": \"17466\", \"Fare\": 25.9292, \"Cabin\": \"D17\", \"Embarked\": \"S\"}, {\"PassengerId\": 864, \"Survived\": 0, \"Pclass\": 3, \"Name\": \"Sage, Miss. Dorothy Edith \\\"Dolly\\\"\", \"Sex\": \"female\", \"Age\": null, \"SibSp\": 8, \"Parch\": 2, \"Ticket\": \"CA. 2343\", \"Fare\": 69.55, \"Cabin\": null, \"Embarked\": \"S\"}, {\"PassengerId\": 865, \"Survived\": 0, \"Pclass\": 2, \"Name\": \"Gill, Mr. John William\", \"Sex\": \"male\", \"Age\": 24.0, \"SibSp\": 0, \"Parch\": 0, \"Ticket\": \"233866\", \"Fare\": 13.0, \"Cabin\": null, \"Embarked\": \"S\"}, {\"PassengerId\": 866, \"Survived\": 1, \"Pclass\": 2, \"Name\": \"Bystrom, Mrs. (Karolina)\", \"Sex\": \"female\", \"Age\": 42.0, \"SibSp\": 0, \"Parch\": 0, \"Ticket\": \"236852\", \"Fare\": 13.0, \"Cabin\": null, \"Embarked\": \"S\"}, {\"PassengerId\": 867, \"Survived\": 1, \"Pclass\": 2, \"Name\": \"Duran y More, Miss. Asuncion\", \"Sex\": \"female\", \"Age\": 27.0, \"SibSp\": 1, \"Parch\": 0, \"Ticket\": \"SC/PARIS 2149\", \"Fare\": 13.8583, \"Cabin\": null, \"Embarked\": \"C\"}, {\"PassengerId\": 868, \"Survived\": 0, \"Pclass\": 1, \"Name\": \"Roebling, Mr. Washington Augustus II\", \"Sex\": \"male\", \"Age\": 31.0, \"SibSp\": 0, \"Parch\": 0, \"Ticket\": \"PC 17590\", \"Fare\": 50.4958, \"Cabin\": \"A24\", \"Embarked\": \"S\"}, {\"PassengerId\": 869, \"Survived\": 0, \"Pclass\": 3, \"Name\": \"van Melkebeke, Mr. Philemon\", \"Sex\": \"male\", \"Age\": null, \"SibSp\": 0, \"Parch\": 0, \"Ticket\": \"345777\", \"Fare\": 9.5, \"Cabin\": null, \"Embarked\": \"S\"}, {\"PassengerId\": 870, \"Survived\": 1, \"Pclass\": 3, \"Name\": \"Johnson, Master. Harold Theodor\", \"Sex\": \"male\", \"Age\": 4.0, \"SibSp\": 1, \"Parch\": 1, \"Ticket\": \"347742\", \"Fare\": 11.1333, \"Cabin\": null, \"Embarked\": \"S\"}, {\"PassengerId\": 871, \"Survived\": 0, \"Pclass\": 3, \"Name\": \"Balkic, Mr. Cerin\", \"Sex\": \"male\", \"Age\": 26.0, \"SibSp\": 0, \"Parch\": 0, \"Ticket\": \"349248\", \"Fare\": 7.8958, \"Cabin\": null, \"Embarked\": \"S\"}, {\"PassengerId\": 872, \"Survived\": 1, \"Pclass\": 1, \"Name\": \"Beckwith, Mrs. Richard Leonard (Sallie Monypeny)\", \"Sex\": \"female\", \"Age\": 47.0, \"SibSp\": 1, \"Parch\": 1, \"Ticket\": \"11751\", \"Fare\": 52.5542, \"Cabin\": \"D35\", \"Embarked\": \"S\"}, {\"PassengerId\": 873, \"Survived\": 0, \"Pclass\": 1, \"Name\": \"Carlsson, Mr. Frans Olof\", \"Sex\": \"male\", \"Age\": 33.0, \"SibSp\": 0, \"Parch\": 0, \"Ticket\": \"695\", \"Fare\": 5.0, \"Cabin\": \"B51 B53 B55\", \"Embarked\": \"S\"}, {\"PassengerId\": 874, \"Survived\": 0, \"Pclass\": 3, \"Name\": \"Vander Cruyssen, Mr. Victor\", \"Sex\": \"male\", \"Age\": 47.0, \"SibSp\": 0, \"Parch\": 0, \"Ticket\": \"345765\", \"Fare\": 9.0, \"Cabin\": null, \"Embarked\": \"S\"}, {\"PassengerId\": 875, \"Survived\": 1, \"Pclass\": 2, \"Name\": \"Abelson, Mrs. Samuel (Hannah Wizosky)\", \"Sex\": \"female\", \"Age\": 28.0, \"SibSp\": 1, \"Parch\": 0, \"Ticket\": \"P/PP 3381\", \"Fare\": 24.0, \"Cabin\": null, \"Embarked\": \"C\"}, {\"PassengerId\": 876, \"Survived\": 1, \"Pclass\": 3, \"Name\": \"Najib, Miss. Adele Kiamie \\\"Jane\\\"\", \"Sex\": \"female\", \"Age\": 15.0, \"SibSp\": 0, \"Parch\": 0, \"Ticket\": \"2667\", \"Fare\": 7.225, \"Cabin\": null, \"Embarked\": \"C\"}, {\"PassengerId\": 877, \"Survived\": 0, \"Pclass\": 3, \"Name\": \"Gustafsson, Mr. Alfred Ossian\", \"Sex\": \"male\", \"Age\": 20.0, \"SibSp\": 0, \"Parch\": 0, \"Ticket\": \"7534\", \"Fare\": 9.8458, \"Cabin\": null, \"Embarked\": \"S\"}, {\"PassengerId\": 878, \"Survived\": 0, \"Pclass\": 3, \"Name\": \"Petroff, Mr. Nedelio\", \"Sex\": \"male\", \"Age\": 19.0, \"SibSp\": 0, \"Parch\": 0, \"Ticket\": \"349212\", \"Fare\": 7.8958, \"Cabin\": null, \"Embarked\": \"S\"}, {\"PassengerId\": 879, \"Survived\": 0, \"Pclass\": 3, \"Name\": \"Laleff, Mr. Kristo\", \"Sex\": \"male\", \"Age\": null, \"SibSp\": 0, \"Parch\": 0, \"Ticket\": \"349217\", \"Fare\": 7.8958, \"Cabin\": null, \"Embarked\": \"S\"}, {\"PassengerId\": 880, \"Survived\": 1, \"Pclass\": 1, \"Name\": \"Potter, Mrs. Thomas Jr (Lily Alexenia Wilson)\", \"Sex\": \"female\", \"Age\": 56.0, \"SibSp\": 0, \"Parch\": 1, \"Ticket\": \"11767\", \"Fare\": 83.1583, \"Cabin\": \"C50\", \"Embarked\": \"C\"}, {\"PassengerId\": 881, \"Survived\": 1, \"Pclass\": 2, \"Name\": \"Shelley, Mrs. William (Imanita Parrish Hall)\", \"Sex\": \"female\", \"Age\": 25.0, \"SibSp\": 0, \"Parch\": 1, \"Ticket\": \"230433\", \"Fare\": 26.0, \"Cabin\": null, \"Embarked\": \"S\"}, {\"PassengerId\": 882, \"Survived\": 0, \"Pclass\": 3, \"Name\": \"Markun, Mr. Johann\", \"Sex\": \"male\", \"Age\": 33.0, \"SibSp\": 0, \"Parch\": 0, \"Ticket\": \"349257\", \"Fare\": 7.8958, \"Cabin\": null, \"Embarked\": \"S\"}, {\"PassengerId\": 883, \"Survived\": 0, \"Pclass\": 3, \"Name\": \"Dahlberg, Miss. Gerda Ulrika\", \"Sex\": \"female\", \"Age\": 22.0, \"SibSp\": 0, \"Parch\": 0, \"Ticket\": \"7552\", \"Fare\": 10.5167, \"Cabin\": null, \"Embarked\": \"S\"}, {\"PassengerId\": 884, \"Survived\": 0, \"Pclass\": 2, \"Name\": \"Banfield, Mr. Frederick James\", \"Sex\": \"male\", \"Age\": 28.0, \"SibSp\": 0, \"Parch\": 0, \"Ticket\": \"C.A./SOTON 34068\", \"Fare\": 10.5, \"Cabin\": null, \"Embarked\": \"S\"}, {\"PassengerId\": 885, \"Survived\": 0, \"Pclass\": 3, \"Name\": \"Sutehall, Mr. Henry Jr\", \"Sex\": \"male\", \"Age\": 25.0, \"SibSp\": 0, \"Parch\": 0, \"Ticket\": \"SOTON/OQ 392076\", \"Fare\": 7.05, \"Cabin\": null, \"Embarked\": \"S\"}, {\"PassengerId\": 886, \"Survived\": 0, \"Pclass\": 3, \"Name\": \"Rice, Mrs. William (Margaret Norton)\", \"Sex\": \"female\", \"Age\": 39.0, \"SibSp\": 0, \"Parch\": 5, \"Ticket\": \"382652\", \"Fare\": 29.125, \"Cabin\": null, \"Embarked\": \"Q\"}, {\"PassengerId\": 887, \"Survived\": 0, \"Pclass\": 2, \"Name\": \"Montvila, Rev. Juozas\", \"Sex\": \"male\", \"Age\": 27.0, \"SibSp\": 0, \"Parch\": 0, \"Ticket\": \"211536\", \"Fare\": 13.0, \"Cabin\": null, \"Embarked\": \"S\"}, {\"PassengerId\": 888, \"Survived\": 1, \"Pclass\": 1, \"Name\": \"Graham, Miss. Margaret Edith\", \"Sex\": \"female\", \"Age\": 19.0, \"SibSp\": 0, \"Parch\": 0, \"Ticket\": \"112053\", \"Fare\": 30.0, \"Cabin\": \"B42\", \"Embarked\": \"S\"}, {\"PassengerId\": 889, \"Survived\": 0, \"Pclass\": 3, \"Name\": \"Johnston, Miss. Catherine Helen \\\"Carrie\\\"\", \"Sex\": \"female\", \"Age\": null, \"SibSp\": 1, \"Parch\": 2, \"Ticket\": \"W./C. 6607\", \"Fare\": 23.45, \"Cabin\": null, \"Embarked\": \"S\"}, {\"PassengerId\": 890, \"Survived\": 1, \"Pclass\": 1, \"Name\": \"Behr, Mr. Karl Howell\", \"Sex\": \"male\", \"Age\": 26.0, \"SibSp\": 0, \"Parch\": 0, \"Ticket\": \"111369\", \"Fare\": 30.0, \"Cabin\": \"C148\", \"Embarked\": \"C\"}, {\"PassengerId\": 891, \"Survived\": 0, \"Pclass\": 3, \"Name\": \"Dooley, Mr. Patrick\", \"Sex\": \"male\", \"Age\": 32.0, \"SibSp\": 0, \"Parch\": 0, \"Ticket\": \"370376\", \"Fare\": 7.75, \"Cabin\": null, \"Embarked\": \"Q\"}]}}, {\"mode\": \"vega-lite\"});\n",
       "</script>"
      ],
      "text/plain": [
       "alt.Chart(...)"
      ]
     },
     "execution_count": 8,
     "metadata": {},
     "output_type": "execute_result"
    }
   ],
   "source": [
    "(\n",
    "    df\n",
    "    .plot.bar(\n",
    "        x=alt.X(\"Pclass:O\").title(\"Passenger Class\"),\n",
    "        y=alt.Y(\"count()\").title(\"Number of Passengers\"),\n",
    "        color=alt.Color(\"Survived:N\", legend=alt.Legend(title=\"Survived\")),\n",
    "        tooltip=[\n",
    "            alt.Tooltip(\"Pclass\").title(\"Class\"),\n",
    "            alt.Tooltip(\"Survived\"),\n",
    "            alt.Tooltip(\"count()\").title(\"Pax Count\")\n",
    "        ]\n",
    "        )\n",
    "        .properties\n",
    "        (\n",
    "            width=500\n",
    "        )\n",
    "    )"
   ]
  },
  {
   "cell_type": "code",
   "execution_count": 9,
   "id": "54aad86b-ff31-490d-97a2-be15ac4189d3",
   "metadata": {},
   "outputs": [
    {
     "data": {
      "text/html": [
       "\n",
       "<style>\n",
       "  #altair-viz-8c86739a03af4d318eedb0d01e0cf8c3.vega-embed {\n",
       "    width: 100%;\n",
       "    display: flex;\n",
       "  }\n",
       "\n",
       "  #altair-viz-8c86739a03af4d318eedb0d01e0cf8c3.vega-embed details,\n",
       "  #altair-viz-8c86739a03af4d318eedb0d01e0cf8c3.vega-embed details summary {\n",
       "    position: relative;\n",
       "  }\n",
       "</style>\n",
       "<div id=\"altair-viz-8c86739a03af4d318eedb0d01e0cf8c3\"></div>\n",
       "<script type=\"text/javascript\">\n",
       "  var VEGA_DEBUG = (typeof VEGA_DEBUG == \"undefined\") ? {} : VEGA_DEBUG;\n",
       "  (function(spec, embedOpt){\n",
       "    let outputDiv = document.currentScript.previousElementSibling;\n",
       "    if (outputDiv.id !== \"altair-viz-8c86739a03af4d318eedb0d01e0cf8c3\") {\n",
       "      outputDiv = document.getElementById(\"altair-viz-8c86739a03af4d318eedb0d01e0cf8c3\");\n",
       "    }\n",
       "\n",
       "    const paths = {\n",
       "      \"vega\": \"https://cdn.jsdelivr.net/npm/vega@5?noext\",\n",
       "      \"vega-lib\": \"https://cdn.jsdelivr.net/npm/vega-lib?noext\",\n",
       "      \"vega-lite\": \"https://cdn.jsdelivr.net/npm/vega-lite@5.20.1?noext\",\n",
       "      \"vega-embed\": \"https://cdn.jsdelivr.net/npm/vega-embed@6?noext\",\n",
       "    };\n",
       "\n",
       "    function maybeLoadScript(lib, version) {\n",
       "      var key = `${lib.replace(\"-\", \"\")}_version`;\n",
       "      return (VEGA_DEBUG[key] == version) ?\n",
       "        Promise.resolve(paths[lib]) :\n",
       "        new Promise(function(resolve, reject) {\n",
       "          var s = document.createElement('script');\n",
       "          document.getElementsByTagName(\"head\")[0].appendChild(s);\n",
       "          s.async = true;\n",
       "          s.onload = () => {\n",
       "            VEGA_DEBUG[key] = version;\n",
       "            return resolve(paths[lib]);\n",
       "          };\n",
       "          s.onerror = () => reject(`Error loading script: ${paths[lib]}`);\n",
       "          s.src = paths[lib];\n",
       "        });\n",
       "    }\n",
       "\n",
       "    function showError(err) {\n",
       "      outputDiv.innerHTML = `<div class=\"error\" style=\"color:red;\">${err}</div>`;\n",
       "      throw err;\n",
       "    }\n",
       "\n",
       "    function displayChart(vegaEmbed) {\n",
       "      vegaEmbed(outputDiv, spec, embedOpt)\n",
       "        .catch(err => showError(`Javascript Error: ${err.message}<br>This usually means there's a typo in your chart specification. See the javascript console for the full traceback.`));\n",
       "    }\n",
       "\n",
       "    if(typeof define === \"function\" && define.amd) {\n",
       "      requirejs.config({paths});\n",
       "      let deps = [\"vega-embed\"];\n",
       "      require(deps, displayChart, err => showError(`Error loading script: ${err.message}`));\n",
       "    } else {\n",
       "      maybeLoadScript(\"vega\", \"5\")\n",
       "        .then(() => maybeLoadScript(\"vega-lite\", \"5.20.1\"))\n",
       "        .then(() => maybeLoadScript(\"vega-embed\", \"6\"))\n",
       "        .catch(showError)\n",
       "        .then(() => displayChart(vegaEmbed));\n",
       "    }\n",
       "  })({\"config\": {\"view\": {\"continuousWidth\": 300, \"continuousHeight\": 300}}, \"data\": {\"name\": \"data-eb4c1b9997f51a02fdb9c236c9019e4c\"}, \"mark\": {\"type\": \"point\", \"tooltip\": true}, \"encoding\": {\"color\": {\"field\": \"Pclass\", \"type\": \"nominal\"}, \"tooltip\": [{\"field\": \"Age\", \"type\": \"quantitative\"}, {\"field\": \"Fare\", \"type\": \"quantitative\"}, {\"field\": \"Pclass\", \"type\": \"quantitative\"}, {\"field\": \"Name\", \"type\": \"nominal\"}], \"x\": {\"field\": \"Age\", \"type\": \"quantitative\"}, \"y\": {\"field\": \"Fare\", \"type\": \"quantitative\"}}, \"params\": [{\"name\": \"param_4\", \"select\": {\"type\": \"interval\", \"encodings\": [\"x\", \"y\"]}, \"bind\": \"scales\"}], \"title\": \"Age vs Fare\", \"width\": 500, \"$schema\": \"https://vega.github.io/schema/vega-lite/v5.20.1.json\", \"datasets\": {\"data-eb4c1b9997f51a02fdb9c236c9019e4c\": [{\"PassengerId\": 1, \"Survived\": 0, \"Pclass\": 3, \"Name\": \"Braund, Mr. Owen Harris\", \"Sex\": \"male\", \"Age\": 22.0, \"SibSp\": 1, \"Parch\": 0, \"Ticket\": \"A/5 21171\", \"Fare\": 7.25, \"Cabin\": null, \"Embarked\": \"S\"}, {\"PassengerId\": 2, \"Survived\": 1, \"Pclass\": 1, \"Name\": \"Cumings, Mrs. John Bradley (Florence Briggs Thayer)\", \"Sex\": \"female\", \"Age\": 38.0, \"SibSp\": 1, \"Parch\": 0, \"Ticket\": \"PC 17599\", \"Fare\": 71.2833, \"Cabin\": \"C85\", \"Embarked\": \"C\"}, {\"PassengerId\": 3, \"Survived\": 1, \"Pclass\": 3, \"Name\": \"Heikkinen, Miss. Laina\", \"Sex\": \"female\", \"Age\": 26.0, \"SibSp\": 0, \"Parch\": 0, \"Ticket\": \"STON/O2. 3101282\", \"Fare\": 7.925, \"Cabin\": null, \"Embarked\": \"S\"}, {\"PassengerId\": 4, \"Survived\": 1, \"Pclass\": 1, \"Name\": \"Futrelle, Mrs. Jacques Heath (Lily May Peel)\", \"Sex\": \"female\", \"Age\": 35.0, \"SibSp\": 1, \"Parch\": 0, \"Ticket\": \"113803\", \"Fare\": 53.1, \"Cabin\": \"C123\", \"Embarked\": \"S\"}, {\"PassengerId\": 5, \"Survived\": 0, \"Pclass\": 3, \"Name\": \"Allen, Mr. William Henry\", \"Sex\": \"male\", \"Age\": 35.0, \"SibSp\": 0, \"Parch\": 0, \"Ticket\": \"373450\", \"Fare\": 8.05, \"Cabin\": null, \"Embarked\": \"S\"}, {\"PassengerId\": 6, \"Survived\": 0, \"Pclass\": 3, \"Name\": \"Moran, Mr. James\", \"Sex\": \"male\", \"Age\": null, \"SibSp\": 0, \"Parch\": 0, \"Ticket\": \"330877\", \"Fare\": 8.4583, \"Cabin\": null, \"Embarked\": \"Q\"}, {\"PassengerId\": 7, \"Survived\": 0, \"Pclass\": 1, \"Name\": \"McCarthy, Mr. Timothy J\", \"Sex\": \"male\", \"Age\": 54.0, \"SibSp\": 0, \"Parch\": 0, \"Ticket\": \"17463\", \"Fare\": 51.8625, \"Cabin\": \"E46\", \"Embarked\": \"S\"}, {\"PassengerId\": 8, \"Survived\": 0, \"Pclass\": 3, \"Name\": \"Palsson, Master. Gosta Leonard\", \"Sex\": \"male\", \"Age\": 2.0, \"SibSp\": 3, \"Parch\": 1, \"Ticket\": \"349909\", \"Fare\": 21.075, \"Cabin\": null, \"Embarked\": \"S\"}, {\"PassengerId\": 9, \"Survived\": 1, \"Pclass\": 3, \"Name\": \"Johnson, Mrs. Oscar W (Elisabeth Vilhelmina Berg)\", \"Sex\": \"female\", \"Age\": 27.0, \"SibSp\": 0, \"Parch\": 2, \"Ticket\": \"347742\", \"Fare\": 11.1333, \"Cabin\": null, \"Embarked\": \"S\"}, {\"PassengerId\": 10, \"Survived\": 1, \"Pclass\": 2, \"Name\": \"Nasser, Mrs. Nicholas (Adele Achem)\", \"Sex\": \"female\", \"Age\": 14.0, \"SibSp\": 1, \"Parch\": 0, \"Ticket\": \"237736\", \"Fare\": 30.0708, \"Cabin\": null, \"Embarked\": \"C\"}, {\"PassengerId\": 11, \"Survived\": 1, \"Pclass\": 3, \"Name\": \"Sandstrom, Miss. Marguerite Rut\", \"Sex\": \"female\", \"Age\": 4.0, \"SibSp\": 1, \"Parch\": 1, \"Ticket\": \"PP 9549\", \"Fare\": 16.7, \"Cabin\": \"G6\", \"Embarked\": \"S\"}, {\"PassengerId\": 12, \"Survived\": 1, \"Pclass\": 1, \"Name\": \"Bonnell, Miss. Elizabeth\", \"Sex\": \"female\", \"Age\": 58.0, \"SibSp\": 0, \"Parch\": 0, \"Ticket\": \"113783\", \"Fare\": 26.55, \"Cabin\": \"C103\", \"Embarked\": \"S\"}, {\"PassengerId\": 13, \"Survived\": 0, \"Pclass\": 3, \"Name\": \"Saundercock, Mr. William Henry\", \"Sex\": \"male\", \"Age\": 20.0, \"SibSp\": 0, \"Parch\": 0, \"Ticket\": \"A/5. 2151\", \"Fare\": 8.05, \"Cabin\": null, \"Embarked\": \"S\"}, {\"PassengerId\": 14, \"Survived\": 0, \"Pclass\": 3, \"Name\": \"Andersson, Mr. Anders Johan\", \"Sex\": \"male\", \"Age\": 39.0, \"SibSp\": 1, \"Parch\": 5, \"Ticket\": \"347082\", \"Fare\": 31.275, \"Cabin\": null, \"Embarked\": \"S\"}, {\"PassengerId\": 15, \"Survived\": 0, \"Pclass\": 3, \"Name\": \"Vestrom, Miss. Hulda Amanda Adolfina\", \"Sex\": \"female\", \"Age\": 14.0, \"SibSp\": 0, \"Parch\": 0, \"Ticket\": \"350406\", \"Fare\": 7.8542, \"Cabin\": null, \"Embarked\": \"S\"}, {\"PassengerId\": 16, \"Survived\": 1, \"Pclass\": 2, \"Name\": \"Hewlett, Mrs. (Mary D Kingcome) \", \"Sex\": \"female\", \"Age\": 55.0, \"SibSp\": 0, \"Parch\": 0, \"Ticket\": \"248706\", \"Fare\": 16.0, \"Cabin\": null, \"Embarked\": \"S\"}, {\"PassengerId\": 17, \"Survived\": 0, \"Pclass\": 3, \"Name\": \"Rice, Master. Eugene\", \"Sex\": \"male\", \"Age\": 2.0, \"SibSp\": 4, \"Parch\": 1, \"Ticket\": \"382652\", \"Fare\": 29.125, \"Cabin\": null, \"Embarked\": \"Q\"}, {\"PassengerId\": 18, \"Survived\": 1, \"Pclass\": 2, \"Name\": \"Williams, Mr. Charles Eugene\", \"Sex\": \"male\", \"Age\": null, \"SibSp\": 0, \"Parch\": 0, \"Ticket\": \"244373\", \"Fare\": 13.0, \"Cabin\": null, \"Embarked\": \"S\"}, {\"PassengerId\": 19, \"Survived\": 0, \"Pclass\": 3, \"Name\": \"Vander Planke, Mrs. Julius (Emelia Maria Vandemoortele)\", \"Sex\": \"female\", \"Age\": 31.0, \"SibSp\": 1, \"Parch\": 0, \"Ticket\": \"345763\", \"Fare\": 18.0, \"Cabin\": null, \"Embarked\": \"S\"}, {\"PassengerId\": 20, \"Survived\": 1, \"Pclass\": 3, \"Name\": \"Masselmani, Mrs. Fatima\", \"Sex\": \"female\", \"Age\": null, \"SibSp\": 0, \"Parch\": 0, \"Ticket\": \"2649\", \"Fare\": 7.225, \"Cabin\": null, \"Embarked\": \"C\"}, {\"PassengerId\": 21, \"Survived\": 0, \"Pclass\": 2, \"Name\": \"Fynney, Mr. Joseph J\", \"Sex\": \"male\", \"Age\": 35.0, \"SibSp\": 0, \"Parch\": 0, \"Ticket\": \"239865\", \"Fare\": 26.0, \"Cabin\": null, \"Embarked\": \"S\"}, {\"PassengerId\": 22, \"Survived\": 1, \"Pclass\": 2, \"Name\": \"Beesley, Mr. Lawrence\", \"Sex\": \"male\", \"Age\": 34.0, \"SibSp\": 0, \"Parch\": 0, \"Ticket\": \"248698\", \"Fare\": 13.0, \"Cabin\": \"D56\", \"Embarked\": \"S\"}, {\"PassengerId\": 23, \"Survived\": 1, \"Pclass\": 3, \"Name\": \"McGowan, Miss. Anna \\\"Annie\\\"\", \"Sex\": \"female\", \"Age\": 15.0, \"SibSp\": 0, \"Parch\": 0, \"Ticket\": \"330923\", \"Fare\": 8.0292, \"Cabin\": null, \"Embarked\": \"Q\"}, {\"PassengerId\": 24, \"Survived\": 1, \"Pclass\": 1, \"Name\": \"Sloper, Mr. William Thompson\", \"Sex\": \"male\", \"Age\": 28.0, \"SibSp\": 0, \"Parch\": 0, \"Ticket\": \"113788\", \"Fare\": 35.5, \"Cabin\": \"A6\", \"Embarked\": \"S\"}, {\"PassengerId\": 25, \"Survived\": 0, \"Pclass\": 3, \"Name\": \"Palsson, Miss. Torborg Danira\", \"Sex\": \"female\", \"Age\": 8.0, \"SibSp\": 3, \"Parch\": 1, \"Ticket\": \"349909\", \"Fare\": 21.075, \"Cabin\": null, \"Embarked\": \"S\"}, {\"PassengerId\": 26, \"Survived\": 1, \"Pclass\": 3, \"Name\": \"Asplund, Mrs. Carl Oscar (Selma Augusta Emilia Johansson)\", \"Sex\": \"female\", \"Age\": 38.0, \"SibSp\": 1, \"Parch\": 5, \"Ticket\": \"347077\", \"Fare\": 31.3875, \"Cabin\": null, \"Embarked\": \"S\"}, {\"PassengerId\": 27, \"Survived\": 0, \"Pclass\": 3, \"Name\": \"Emir, Mr. Farred Chehab\", \"Sex\": \"male\", \"Age\": null, \"SibSp\": 0, \"Parch\": 0, \"Ticket\": \"2631\", \"Fare\": 7.225, \"Cabin\": null, \"Embarked\": \"C\"}, {\"PassengerId\": 28, \"Survived\": 0, \"Pclass\": 1, \"Name\": \"Fortune, Mr. Charles Alexander\", \"Sex\": \"male\", \"Age\": 19.0, \"SibSp\": 3, \"Parch\": 2, \"Ticket\": \"19950\", \"Fare\": 263.0, \"Cabin\": \"C23 C25 C27\", \"Embarked\": \"S\"}, {\"PassengerId\": 29, \"Survived\": 1, \"Pclass\": 3, \"Name\": \"O'Dwyer, Miss. Ellen \\\"Nellie\\\"\", \"Sex\": \"female\", \"Age\": null, \"SibSp\": 0, \"Parch\": 0, \"Ticket\": \"330959\", \"Fare\": 7.8792, \"Cabin\": null, \"Embarked\": \"Q\"}, {\"PassengerId\": 30, \"Survived\": 0, \"Pclass\": 3, \"Name\": \"Todoroff, Mr. Lalio\", \"Sex\": \"male\", \"Age\": null, \"SibSp\": 0, \"Parch\": 0, \"Ticket\": \"349216\", \"Fare\": 7.8958, \"Cabin\": null, \"Embarked\": \"S\"}, {\"PassengerId\": 31, \"Survived\": 0, \"Pclass\": 1, \"Name\": \"Uruchurtu, Don. Manuel E\", \"Sex\": \"male\", \"Age\": 40.0, \"SibSp\": 0, \"Parch\": 0, \"Ticket\": \"PC 17601\", \"Fare\": 27.7208, \"Cabin\": null, \"Embarked\": \"C\"}, {\"PassengerId\": 32, \"Survived\": 1, \"Pclass\": 1, \"Name\": \"Spencer, Mrs. William Augustus (Marie Eugenie)\", \"Sex\": \"female\", \"Age\": null, \"SibSp\": 1, \"Parch\": 0, \"Ticket\": \"PC 17569\", \"Fare\": 146.5208, \"Cabin\": \"B78\", \"Embarked\": \"C\"}, {\"PassengerId\": 33, \"Survived\": 1, \"Pclass\": 3, \"Name\": \"Glynn, Miss. Mary Agatha\", \"Sex\": \"female\", \"Age\": null, \"SibSp\": 0, \"Parch\": 0, \"Ticket\": \"335677\", \"Fare\": 7.75, \"Cabin\": null, \"Embarked\": \"Q\"}, {\"PassengerId\": 34, \"Survived\": 0, \"Pclass\": 2, \"Name\": \"Wheadon, Mr. Edward H\", \"Sex\": \"male\", \"Age\": 66.0, \"SibSp\": 0, \"Parch\": 0, \"Ticket\": \"C.A. 24579\", \"Fare\": 10.5, \"Cabin\": null, \"Embarked\": \"S\"}, {\"PassengerId\": 35, \"Survived\": 0, \"Pclass\": 1, \"Name\": \"Meyer, Mr. Edgar Joseph\", \"Sex\": \"male\", \"Age\": 28.0, \"SibSp\": 1, \"Parch\": 0, \"Ticket\": \"PC 17604\", \"Fare\": 82.1708, \"Cabin\": null, \"Embarked\": \"C\"}, {\"PassengerId\": 36, \"Survived\": 0, \"Pclass\": 1, \"Name\": \"Holverson, Mr. Alexander Oskar\", \"Sex\": \"male\", \"Age\": 42.0, \"SibSp\": 1, \"Parch\": 0, \"Ticket\": \"113789\", \"Fare\": 52.0, \"Cabin\": null, \"Embarked\": \"S\"}, {\"PassengerId\": 37, \"Survived\": 1, \"Pclass\": 3, \"Name\": \"Mamee, Mr. Hanna\", \"Sex\": \"male\", \"Age\": null, \"SibSp\": 0, \"Parch\": 0, \"Ticket\": \"2677\", \"Fare\": 7.2292, \"Cabin\": null, \"Embarked\": \"C\"}, {\"PassengerId\": 38, \"Survived\": 0, \"Pclass\": 3, \"Name\": \"Cann, Mr. Ernest Charles\", \"Sex\": \"male\", \"Age\": 21.0, \"SibSp\": 0, \"Parch\": 0, \"Ticket\": \"A./5. 2152\", \"Fare\": 8.05, \"Cabin\": null, \"Embarked\": \"S\"}, {\"PassengerId\": 39, \"Survived\": 0, \"Pclass\": 3, \"Name\": \"Vander Planke, Miss. Augusta Maria\", \"Sex\": \"female\", \"Age\": 18.0, \"SibSp\": 2, \"Parch\": 0, \"Ticket\": \"345764\", \"Fare\": 18.0, \"Cabin\": null, \"Embarked\": \"S\"}, {\"PassengerId\": 40, \"Survived\": 1, \"Pclass\": 3, \"Name\": \"Nicola-Yarred, Miss. Jamila\", \"Sex\": \"female\", \"Age\": 14.0, \"SibSp\": 1, \"Parch\": 0, \"Ticket\": \"2651\", \"Fare\": 11.2417, \"Cabin\": null, \"Embarked\": \"C\"}, {\"PassengerId\": 41, \"Survived\": 0, \"Pclass\": 3, \"Name\": \"Ahlin, Mrs. Johan (Johanna Persdotter Larsson)\", \"Sex\": \"female\", \"Age\": 40.0, \"SibSp\": 1, \"Parch\": 0, \"Ticket\": \"7546\", \"Fare\": 9.475, \"Cabin\": null, \"Embarked\": \"S\"}, {\"PassengerId\": 42, \"Survived\": 0, \"Pclass\": 2, \"Name\": \"Turpin, Mrs. William John Robert (Dorothy Ann Wonnacott)\", \"Sex\": \"female\", \"Age\": 27.0, \"SibSp\": 1, \"Parch\": 0, \"Ticket\": \"11668\", \"Fare\": 21.0, \"Cabin\": null, \"Embarked\": \"S\"}, {\"PassengerId\": 43, \"Survived\": 0, \"Pclass\": 3, \"Name\": \"Kraeff, Mr. Theodor\", \"Sex\": \"male\", \"Age\": null, \"SibSp\": 0, \"Parch\": 0, \"Ticket\": \"349253\", \"Fare\": 7.8958, \"Cabin\": null, \"Embarked\": \"C\"}, {\"PassengerId\": 44, \"Survived\": 1, \"Pclass\": 2, \"Name\": \"Laroche, Miss. Simonne Marie Anne Andree\", \"Sex\": \"female\", \"Age\": 3.0, \"SibSp\": 1, \"Parch\": 2, \"Ticket\": \"SC/Paris 2123\", \"Fare\": 41.5792, \"Cabin\": null, \"Embarked\": \"C\"}, {\"PassengerId\": 45, \"Survived\": 1, \"Pclass\": 3, \"Name\": \"Devaney, Miss. Margaret Delia\", \"Sex\": \"female\", \"Age\": 19.0, \"SibSp\": 0, \"Parch\": 0, \"Ticket\": \"330958\", \"Fare\": 7.8792, \"Cabin\": null, \"Embarked\": \"Q\"}, {\"PassengerId\": 46, \"Survived\": 0, \"Pclass\": 3, \"Name\": \"Rogers, Mr. William John\", \"Sex\": \"male\", \"Age\": null, \"SibSp\": 0, \"Parch\": 0, \"Ticket\": \"S.C./A.4. 23567\", \"Fare\": 8.05, \"Cabin\": null, \"Embarked\": \"S\"}, {\"PassengerId\": 47, \"Survived\": 0, \"Pclass\": 3, \"Name\": \"Lennon, Mr. Denis\", \"Sex\": \"male\", \"Age\": null, \"SibSp\": 1, \"Parch\": 0, \"Ticket\": \"370371\", \"Fare\": 15.5, \"Cabin\": null, \"Embarked\": \"Q\"}, {\"PassengerId\": 48, \"Survived\": 1, \"Pclass\": 3, \"Name\": \"O'Driscoll, Miss. Bridget\", \"Sex\": \"female\", \"Age\": null, \"SibSp\": 0, \"Parch\": 0, \"Ticket\": \"14311\", \"Fare\": 7.75, \"Cabin\": null, \"Embarked\": \"Q\"}, {\"PassengerId\": 49, \"Survived\": 0, \"Pclass\": 3, \"Name\": \"Samaan, Mr. Youssef\", \"Sex\": \"male\", \"Age\": null, \"SibSp\": 2, \"Parch\": 0, \"Ticket\": \"2662\", \"Fare\": 21.6792, \"Cabin\": null, \"Embarked\": \"C\"}, {\"PassengerId\": 50, \"Survived\": 0, \"Pclass\": 3, \"Name\": \"Arnold-Franchi, Mrs. Josef (Josefine Franchi)\", \"Sex\": \"female\", \"Age\": 18.0, \"SibSp\": 1, \"Parch\": 0, \"Ticket\": \"349237\", \"Fare\": 17.8, \"Cabin\": null, \"Embarked\": \"S\"}, {\"PassengerId\": 51, \"Survived\": 0, \"Pclass\": 3, \"Name\": \"Panula, Master. Juha Niilo\", \"Sex\": \"male\", \"Age\": 7.0, \"SibSp\": 4, \"Parch\": 1, \"Ticket\": \"3101295\", \"Fare\": 39.6875, \"Cabin\": null, \"Embarked\": \"S\"}, {\"PassengerId\": 52, \"Survived\": 0, \"Pclass\": 3, \"Name\": \"Nosworthy, Mr. Richard Cater\", \"Sex\": \"male\", \"Age\": 21.0, \"SibSp\": 0, \"Parch\": 0, \"Ticket\": \"A/4. 39886\", \"Fare\": 7.8, \"Cabin\": null, \"Embarked\": \"S\"}, {\"PassengerId\": 53, \"Survived\": 1, \"Pclass\": 1, \"Name\": \"Harper, Mrs. Henry Sleeper (Myna Haxtun)\", \"Sex\": \"female\", \"Age\": 49.0, \"SibSp\": 1, \"Parch\": 0, \"Ticket\": \"PC 17572\", \"Fare\": 76.7292, \"Cabin\": \"D33\", \"Embarked\": \"C\"}, {\"PassengerId\": 54, \"Survived\": 1, \"Pclass\": 2, \"Name\": \"Faunthorpe, Mrs. Lizzie (Elizabeth Anne Wilkinson)\", \"Sex\": \"female\", \"Age\": 29.0, \"SibSp\": 1, \"Parch\": 0, \"Ticket\": \"2926\", \"Fare\": 26.0, \"Cabin\": null, \"Embarked\": \"S\"}, {\"PassengerId\": 55, \"Survived\": 0, \"Pclass\": 1, \"Name\": \"Ostby, Mr. Engelhart Cornelius\", \"Sex\": \"male\", \"Age\": 65.0, \"SibSp\": 0, \"Parch\": 1, \"Ticket\": \"113509\", \"Fare\": 61.9792, \"Cabin\": \"B30\", \"Embarked\": \"C\"}, {\"PassengerId\": 56, \"Survived\": 1, \"Pclass\": 1, \"Name\": \"Woolner, Mr. Hugh\", \"Sex\": \"male\", \"Age\": null, \"SibSp\": 0, \"Parch\": 0, \"Ticket\": \"19947\", \"Fare\": 35.5, \"Cabin\": \"C52\", \"Embarked\": \"S\"}, {\"PassengerId\": 57, \"Survived\": 1, \"Pclass\": 2, \"Name\": \"Rugg, Miss. Emily\", \"Sex\": \"female\", \"Age\": 21.0, \"SibSp\": 0, \"Parch\": 0, \"Ticket\": \"C.A. 31026\", \"Fare\": 10.5, \"Cabin\": null, \"Embarked\": \"S\"}, {\"PassengerId\": 58, \"Survived\": 0, \"Pclass\": 3, \"Name\": \"Novel, Mr. Mansouer\", \"Sex\": \"male\", \"Age\": 28.5, \"SibSp\": 0, \"Parch\": 0, \"Ticket\": \"2697\", \"Fare\": 7.2292, \"Cabin\": null, \"Embarked\": \"C\"}, {\"PassengerId\": 59, \"Survived\": 1, \"Pclass\": 2, \"Name\": \"West, Miss. Constance Mirium\", \"Sex\": \"female\", \"Age\": 5.0, \"SibSp\": 1, \"Parch\": 2, \"Ticket\": \"C.A. 34651\", \"Fare\": 27.75, \"Cabin\": null, \"Embarked\": \"S\"}, {\"PassengerId\": 60, \"Survived\": 0, \"Pclass\": 3, \"Name\": \"Goodwin, Master. William Frederick\", \"Sex\": \"male\", \"Age\": 11.0, \"SibSp\": 5, \"Parch\": 2, \"Ticket\": \"CA 2144\", \"Fare\": 46.9, \"Cabin\": null, \"Embarked\": \"S\"}, {\"PassengerId\": 61, \"Survived\": 0, \"Pclass\": 3, \"Name\": \"Sirayanian, Mr. Orsen\", \"Sex\": \"male\", \"Age\": 22.0, \"SibSp\": 0, \"Parch\": 0, \"Ticket\": \"2669\", \"Fare\": 7.2292, \"Cabin\": null, \"Embarked\": \"C\"}, {\"PassengerId\": 62, \"Survived\": 1, \"Pclass\": 1, \"Name\": \"Icard, Miss. Amelie\", \"Sex\": \"female\", \"Age\": 38.0, \"SibSp\": 0, \"Parch\": 0, \"Ticket\": \"113572\", \"Fare\": 80.0, \"Cabin\": \"B28\", \"Embarked\": null}, {\"PassengerId\": 63, \"Survived\": 0, \"Pclass\": 1, \"Name\": \"Harris, Mr. Henry Birkhardt\", \"Sex\": \"male\", \"Age\": 45.0, \"SibSp\": 1, \"Parch\": 0, \"Ticket\": \"36973\", \"Fare\": 83.475, \"Cabin\": \"C83\", \"Embarked\": \"S\"}, {\"PassengerId\": 64, \"Survived\": 0, \"Pclass\": 3, \"Name\": \"Skoog, Master. Harald\", \"Sex\": \"male\", \"Age\": 4.0, \"SibSp\": 3, \"Parch\": 2, \"Ticket\": \"347088\", \"Fare\": 27.9, \"Cabin\": null, \"Embarked\": \"S\"}, {\"PassengerId\": 65, \"Survived\": 0, \"Pclass\": 1, \"Name\": \"Stewart, Mr. Albert A\", \"Sex\": \"male\", \"Age\": null, \"SibSp\": 0, \"Parch\": 0, \"Ticket\": \"PC 17605\", \"Fare\": 27.7208, \"Cabin\": null, \"Embarked\": \"C\"}, {\"PassengerId\": 66, \"Survived\": 1, \"Pclass\": 3, \"Name\": \"Moubarek, Master. Gerios\", \"Sex\": \"male\", \"Age\": null, \"SibSp\": 1, \"Parch\": 1, \"Ticket\": \"2661\", \"Fare\": 15.2458, \"Cabin\": null, \"Embarked\": \"C\"}, {\"PassengerId\": 67, \"Survived\": 1, \"Pclass\": 2, \"Name\": \"Nye, Mrs. (Elizabeth Ramell)\", \"Sex\": \"female\", \"Age\": 29.0, \"SibSp\": 0, \"Parch\": 0, \"Ticket\": \"C.A. 29395\", \"Fare\": 10.5, \"Cabin\": \"F33\", \"Embarked\": \"S\"}, {\"PassengerId\": 68, \"Survived\": 0, \"Pclass\": 3, \"Name\": \"Crease, Mr. Ernest James\", \"Sex\": \"male\", \"Age\": 19.0, \"SibSp\": 0, \"Parch\": 0, \"Ticket\": \"S.P. 3464\", \"Fare\": 8.1583, \"Cabin\": null, \"Embarked\": \"S\"}, {\"PassengerId\": 69, \"Survived\": 1, \"Pclass\": 3, \"Name\": \"Andersson, Miss. Erna Alexandra\", \"Sex\": \"female\", \"Age\": 17.0, \"SibSp\": 4, \"Parch\": 2, \"Ticket\": \"3101281\", \"Fare\": 7.925, \"Cabin\": null, \"Embarked\": \"S\"}, {\"PassengerId\": 70, \"Survived\": 0, \"Pclass\": 3, \"Name\": \"Kink, Mr. Vincenz\", \"Sex\": \"male\", \"Age\": 26.0, \"SibSp\": 2, \"Parch\": 0, \"Ticket\": \"315151\", \"Fare\": 8.6625, \"Cabin\": null, \"Embarked\": \"S\"}, {\"PassengerId\": 71, \"Survived\": 0, \"Pclass\": 2, \"Name\": \"Jenkin, Mr. Stephen Curnow\", \"Sex\": \"male\", \"Age\": 32.0, \"SibSp\": 0, \"Parch\": 0, \"Ticket\": \"C.A. 33111\", \"Fare\": 10.5, \"Cabin\": null, \"Embarked\": \"S\"}, {\"PassengerId\": 72, \"Survived\": 0, \"Pclass\": 3, \"Name\": \"Goodwin, Miss. Lillian Amy\", \"Sex\": \"female\", \"Age\": 16.0, \"SibSp\": 5, \"Parch\": 2, \"Ticket\": \"CA 2144\", \"Fare\": 46.9, \"Cabin\": null, \"Embarked\": \"S\"}, {\"PassengerId\": 73, \"Survived\": 0, \"Pclass\": 2, \"Name\": \"Hood, Mr. Ambrose Jr\", \"Sex\": \"male\", \"Age\": 21.0, \"SibSp\": 0, \"Parch\": 0, \"Ticket\": \"S.O.C. 14879\", \"Fare\": 73.5, \"Cabin\": null, \"Embarked\": \"S\"}, {\"PassengerId\": 74, \"Survived\": 0, \"Pclass\": 3, \"Name\": \"Chronopoulos, Mr. Apostolos\", \"Sex\": \"male\", \"Age\": 26.0, \"SibSp\": 1, \"Parch\": 0, \"Ticket\": \"2680\", \"Fare\": 14.4542, \"Cabin\": null, \"Embarked\": \"C\"}, {\"PassengerId\": 75, \"Survived\": 1, \"Pclass\": 3, \"Name\": \"Bing, Mr. Lee\", \"Sex\": \"male\", \"Age\": 32.0, \"SibSp\": 0, \"Parch\": 0, \"Ticket\": \"1601\", \"Fare\": 56.4958, \"Cabin\": null, \"Embarked\": \"S\"}, {\"PassengerId\": 76, \"Survived\": 0, \"Pclass\": 3, \"Name\": \"Moen, Mr. Sigurd Hansen\", \"Sex\": \"male\", \"Age\": 25.0, \"SibSp\": 0, \"Parch\": 0, \"Ticket\": \"348123\", \"Fare\": 7.65, \"Cabin\": \"F G73\", \"Embarked\": \"S\"}, {\"PassengerId\": 77, \"Survived\": 0, \"Pclass\": 3, \"Name\": \"Staneff, Mr. Ivan\", \"Sex\": \"male\", \"Age\": null, \"SibSp\": 0, \"Parch\": 0, \"Ticket\": \"349208\", \"Fare\": 7.8958, \"Cabin\": null, \"Embarked\": \"S\"}, {\"PassengerId\": 78, \"Survived\": 0, \"Pclass\": 3, \"Name\": \"Moutal, Mr. Rahamin Haim\", \"Sex\": \"male\", \"Age\": null, \"SibSp\": 0, \"Parch\": 0, \"Ticket\": \"374746\", \"Fare\": 8.05, \"Cabin\": null, \"Embarked\": \"S\"}, {\"PassengerId\": 79, \"Survived\": 1, \"Pclass\": 2, \"Name\": \"Caldwell, Master. Alden Gates\", \"Sex\": \"male\", \"Age\": 0.83, \"SibSp\": 0, \"Parch\": 2, \"Ticket\": \"248738\", \"Fare\": 29.0, \"Cabin\": null, \"Embarked\": \"S\"}, {\"PassengerId\": 80, \"Survived\": 1, \"Pclass\": 3, \"Name\": \"Dowdell, Miss. Elizabeth\", \"Sex\": \"female\", \"Age\": 30.0, \"SibSp\": 0, \"Parch\": 0, \"Ticket\": \"364516\", \"Fare\": 12.475, \"Cabin\": null, \"Embarked\": \"S\"}, {\"PassengerId\": 81, \"Survived\": 0, \"Pclass\": 3, \"Name\": \"Waelens, Mr. Achille\", \"Sex\": \"male\", \"Age\": 22.0, \"SibSp\": 0, \"Parch\": 0, \"Ticket\": \"345767\", \"Fare\": 9.0, \"Cabin\": null, \"Embarked\": \"S\"}, {\"PassengerId\": 82, \"Survived\": 1, \"Pclass\": 3, \"Name\": \"Sheerlinck, Mr. Jan Baptist\", \"Sex\": \"male\", \"Age\": 29.0, \"SibSp\": 0, \"Parch\": 0, \"Ticket\": \"345779\", \"Fare\": 9.5, \"Cabin\": null, \"Embarked\": \"S\"}, {\"PassengerId\": 83, \"Survived\": 1, \"Pclass\": 3, \"Name\": \"McDermott, Miss. Brigdet Delia\", \"Sex\": \"female\", \"Age\": null, \"SibSp\": 0, \"Parch\": 0, \"Ticket\": \"330932\", \"Fare\": 7.7875, \"Cabin\": null, \"Embarked\": \"Q\"}, {\"PassengerId\": 84, \"Survived\": 0, \"Pclass\": 1, \"Name\": \"Carrau, Mr. Francisco M\", \"Sex\": \"male\", \"Age\": 28.0, \"SibSp\": 0, \"Parch\": 0, \"Ticket\": \"113059\", \"Fare\": 47.1, \"Cabin\": null, \"Embarked\": \"S\"}, {\"PassengerId\": 85, \"Survived\": 1, \"Pclass\": 2, \"Name\": \"Ilett, Miss. Bertha\", \"Sex\": \"female\", \"Age\": 17.0, \"SibSp\": 0, \"Parch\": 0, \"Ticket\": \"SO/C 14885\", \"Fare\": 10.5, \"Cabin\": null, \"Embarked\": \"S\"}, {\"PassengerId\": 86, \"Survived\": 1, \"Pclass\": 3, \"Name\": \"Backstrom, Mrs. Karl Alfred (Maria Mathilda Gustafsson)\", \"Sex\": \"female\", \"Age\": 33.0, \"SibSp\": 3, \"Parch\": 0, \"Ticket\": \"3101278\", \"Fare\": 15.85, \"Cabin\": null, \"Embarked\": \"S\"}, {\"PassengerId\": 87, \"Survived\": 0, \"Pclass\": 3, \"Name\": \"Ford, Mr. William Neal\", \"Sex\": \"male\", \"Age\": 16.0, \"SibSp\": 1, \"Parch\": 3, \"Ticket\": \"W./C. 6608\", \"Fare\": 34.375, \"Cabin\": null, \"Embarked\": \"S\"}, {\"PassengerId\": 88, \"Survived\": 0, \"Pclass\": 3, \"Name\": \"Slocovski, Mr. Selman Francis\", \"Sex\": \"male\", \"Age\": null, \"SibSp\": 0, \"Parch\": 0, \"Ticket\": \"SOTON/OQ 392086\", \"Fare\": 8.05, \"Cabin\": null, \"Embarked\": \"S\"}, {\"PassengerId\": 89, \"Survived\": 1, \"Pclass\": 1, \"Name\": \"Fortune, Miss. Mabel Helen\", \"Sex\": \"female\", \"Age\": 23.0, \"SibSp\": 3, \"Parch\": 2, \"Ticket\": \"19950\", \"Fare\": 263.0, \"Cabin\": \"C23 C25 C27\", \"Embarked\": \"S\"}, {\"PassengerId\": 90, \"Survived\": 0, \"Pclass\": 3, \"Name\": \"Celotti, Mr. Francesco\", \"Sex\": \"male\", \"Age\": 24.0, \"SibSp\": 0, \"Parch\": 0, \"Ticket\": \"343275\", \"Fare\": 8.05, \"Cabin\": null, \"Embarked\": \"S\"}, {\"PassengerId\": 91, \"Survived\": 0, \"Pclass\": 3, \"Name\": \"Christmann, Mr. Emil\", \"Sex\": \"male\", \"Age\": 29.0, \"SibSp\": 0, \"Parch\": 0, \"Ticket\": \"343276\", \"Fare\": 8.05, \"Cabin\": null, \"Embarked\": \"S\"}, {\"PassengerId\": 92, \"Survived\": 0, \"Pclass\": 3, \"Name\": \"Andreasson, Mr. Paul Edvin\", \"Sex\": \"male\", \"Age\": 20.0, \"SibSp\": 0, \"Parch\": 0, \"Ticket\": \"347466\", \"Fare\": 7.8542, \"Cabin\": null, \"Embarked\": \"S\"}, {\"PassengerId\": 93, \"Survived\": 0, \"Pclass\": 1, \"Name\": \"Chaffee, Mr. Herbert Fuller\", \"Sex\": \"male\", \"Age\": 46.0, \"SibSp\": 1, \"Parch\": 0, \"Ticket\": \"W.E.P. 5734\", \"Fare\": 61.175, \"Cabin\": \"E31\", \"Embarked\": \"S\"}, {\"PassengerId\": 94, \"Survived\": 0, \"Pclass\": 3, \"Name\": \"Dean, Mr. Bertram Frank\", \"Sex\": \"male\", \"Age\": 26.0, \"SibSp\": 1, \"Parch\": 2, \"Ticket\": \"C.A. 2315\", \"Fare\": 20.575, \"Cabin\": null, \"Embarked\": \"S\"}, {\"PassengerId\": 95, \"Survived\": 0, \"Pclass\": 3, \"Name\": \"Coxon, Mr. Daniel\", \"Sex\": \"male\", \"Age\": 59.0, \"SibSp\": 0, \"Parch\": 0, \"Ticket\": \"364500\", \"Fare\": 7.25, \"Cabin\": null, \"Embarked\": \"S\"}, {\"PassengerId\": 96, \"Survived\": 0, \"Pclass\": 3, \"Name\": \"Shorney, Mr. Charles Joseph\", \"Sex\": \"male\", \"Age\": null, \"SibSp\": 0, \"Parch\": 0, \"Ticket\": \"374910\", \"Fare\": 8.05, \"Cabin\": null, \"Embarked\": \"S\"}, {\"PassengerId\": 97, \"Survived\": 0, \"Pclass\": 1, \"Name\": \"Goldschmidt, Mr. George B\", \"Sex\": \"male\", \"Age\": 71.0, \"SibSp\": 0, \"Parch\": 0, \"Ticket\": \"PC 17754\", \"Fare\": 34.6542, \"Cabin\": \"A5\", \"Embarked\": \"C\"}, {\"PassengerId\": 98, \"Survived\": 1, \"Pclass\": 1, \"Name\": \"Greenfield, Mr. William Bertram\", \"Sex\": \"male\", \"Age\": 23.0, \"SibSp\": 0, \"Parch\": 1, \"Ticket\": \"PC 17759\", \"Fare\": 63.3583, \"Cabin\": \"D10 D12\", \"Embarked\": \"C\"}, {\"PassengerId\": 99, \"Survived\": 1, \"Pclass\": 2, \"Name\": \"Doling, Mrs. John T (Ada Julia Bone)\", \"Sex\": \"female\", \"Age\": 34.0, \"SibSp\": 0, \"Parch\": 1, \"Ticket\": \"231919\", \"Fare\": 23.0, \"Cabin\": null, \"Embarked\": \"S\"}, {\"PassengerId\": 100, \"Survived\": 0, \"Pclass\": 2, \"Name\": \"Kantor, Mr. Sinai\", \"Sex\": \"male\", \"Age\": 34.0, \"SibSp\": 1, \"Parch\": 0, \"Ticket\": \"244367\", \"Fare\": 26.0, \"Cabin\": null, \"Embarked\": \"S\"}, {\"PassengerId\": 101, \"Survived\": 0, \"Pclass\": 3, \"Name\": \"Petranec, Miss. Matilda\", \"Sex\": \"female\", \"Age\": 28.0, \"SibSp\": 0, \"Parch\": 0, \"Ticket\": \"349245\", \"Fare\": 7.8958, \"Cabin\": null, \"Embarked\": \"S\"}, {\"PassengerId\": 102, \"Survived\": 0, \"Pclass\": 3, \"Name\": \"Petroff, Mr. Pastcho (\\\"Pentcho\\\")\", \"Sex\": \"male\", \"Age\": null, \"SibSp\": 0, \"Parch\": 0, \"Ticket\": \"349215\", \"Fare\": 7.8958, \"Cabin\": null, \"Embarked\": \"S\"}, {\"PassengerId\": 103, \"Survived\": 0, \"Pclass\": 1, \"Name\": \"White, Mr. Richard Frasar\", \"Sex\": \"male\", \"Age\": 21.0, \"SibSp\": 0, \"Parch\": 1, \"Ticket\": \"35281\", \"Fare\": 77.2875, \"Cabin\": \"D26\", \"Embarked\": \"S\"}, {\"PassengerId\": 104, \"Survived\": 0, \"Pclass\": 3, \"Name\": \"Johansson, Mr. Gustaf Joel\", \"Sex\": \"male\", \"Age\": 33.0, \"SibSp\": 0, \"Parch\": 0, \"Ticket\": \"7540\", \"Fare\": 8.6542, \"Cabin\": null, \"Embarked\": \"S\"}, {\"PassengerId\": 105, \"Survived\": 0, \"Pclass\": 3, \"Name\": \"Gustafsson, Mr. Anders Vilhelm\", \"Sex\": \"male\", \"Age\": 37.0, \"SibSp\": 2, \"Parch\": 0, \"Ticket\": \"3101276\", \"Fare\": 7.925, \"Cabin\": null, \"Embarked\": \"S\"}, {\"PassengerId\": 106, \"Survived\": 0, \"Pclass\": 3, \"Name\": \"Mionoff, Mr. Stoytcho\", \"Sex\": \"male\", \"Age\": 28.0, \"SibSp\": 0, \"Parch\": 0, \"Ticket\": \"349207\", \"Fare\": 7.8958, \"Cabin\": null, \"Embarked\": \"S\"}, {\"PassengerId\": 107, \"Survived\": 1, \"Pclass\": 3, \"Name\": \"Salkjelsvik, Miss. Anna Kristine\", \"Sex\": \"female\", \"Age\": 21.0, \"SibSp\": 0, \"Parch\": 0, \"Ticket\": \"343120\", \"Fare\": 7.65, \"Cabin\": null, \"Embarked\": \"S\"}, {\"PassengerId\": 108, \"Survived\": 1, \"Pclass\": 3, \"Name\": \"Moss, Mr. Albert Johan\", \"Sex\": \"male\", \"Age\": null, \"SibSp\": 0, \"Parch\": 0, \"Ticket\": \"312991\", \"Fare\": 7.775, \"Cabin\": null, \"Embarked\": \"S\"}, {\"PassengerId\": 109, \"Survived\": 0, \"Pclass\": 3, \"Name\": \"Rekic, Mr. Tido\", \"Sex\": \"male\", \"Age\": 38.0, \"SibSp\": 0, \"Parch\": 0, \"Ticket\": \"349249\", \"Fare\": 7.8958, \"Cabin\": null, \"Embarked\": \"S\"}, {\"PassengerId\": 110, \"Survived\": 1, \"Pclass\": 3, \"Name\": \"Moran, Miss. Bertha\", \"Sex\": \"female\", \"Age\": null, \"SibSp\": 1, \"Parch\": 0, \"Ticket\": \"371110\", \"Fare\": 24.15, \"Cabin\": null, \"Embarked\": \"Q\"}, {\"PassengerId\": 111, \"Survived\": 0, \"Pclass\": 1, \"Name\": \"Porter, Mr. Walter Chamberlain\", \"Sex\": \"male\", \"Age\": 47.0, \"SibSp\": 0, \"Parch\": 0, \"Ticket\": \"110465\", \"Fare\": 52.0, \"Cabin\": \"C110\", \"Embarked\": \"S\"}, {\"PassengerId\": 112, \"Survived\": 0, \"Pclass\": 3, \"Name\": \"Zabour, Miss. Hileni\", \"Sex\": \"female\", \"Age\": 14.5, \"SibSp\": 1, \"Parch\": 0, \"Ticket\": \"2665\", \"Fare\": 14.4542, \"Cabin\": null, \"Embarked\": \"C\"}, {\"PassengerId\": 113, \"Survived\": 0, \"Pclass\": 3, \"Name\": \"Barton, Mr. David John\", \"Sex\": \"male\", \"Age\": 22.0, \"SibSp\": 0, \"Parch\": 0, \"Ticket\": \"324669\", \"Fare\": 8.05, \"Cabin\": null, \"Embarked\": \"S\"}, {\"PassengerId\": 114, \"Survived\": 0, \"Pclass\": 3, \"Name\": \"Jussila, Miss. Katriina\", \"Sex\": \"female\", \"Age\": 20.0, \"SibSp\": 1, \"Parch\": 0, \"Ticket\": \"4136\", \"Fare\": 9.825, \"Cabin\": null, \"Embarked\": \"S\"}, {\"PassengerId\": 115, \"Survived\": 0, \"Pclass\": 3, \"Name\": \"Attalah, Miss. Malake\", \"Sex\": \"female\", \"Age\": 17.0, \"SibSp\": 0, \"Parch\": 0, \"Ticket\": \"2627\", \"Fare\": 14.4583, \"Cabin\": null, \"Embarked\": \"C\"}, {\"PassengerId\": 116, \"Survived\": 0, \"Pclass\": 3, \"Name\": \"Pekoniemi, Mr. Edvard\", \"Sex\": \"male\", \"Age\": 21.0, \"SibSp\": 0, \"Parch\": 0, \"Ticket\": \"STON/O 2. 3101294\", \"Fare\": 7.925, \"Cabin\": null, \"Embarked\": \"S\"}, {\"PassengerId\": 117, \"Survived\": 0, \"Pclass\": 3, \"Name\": \"Connors, Mr. Patrick\", \"Sex\": \"male\", \"Age\": 70.5, \"SibSp\": 0, \"Parch\": 0, \"Ticket\": \"370369\", \"Fare\": 7.75, \"Cabin\": null, \"Embarked\": \"Q\"}, {\"PassengerId\": 118, \"Survived\": 0, \"Pclass\": 2, \"Name\": \"Turpin, Mr. William John Robert\", \"Sex\": \"male\", \"Age\": 29.0, \"SibSp\": 1, \"Parch\": 0, \"Ticket\": \"11668\", \"Fare\": 21.0, \"Cabin\": null, \"Embarked\": \"S\"}, {\"PassengerId\": 119, \"Survived\": 0, \"Pclass\": 1, \"Name\": \"Baxter, Mr. Quigg Edmond\", \"Sex\": \"male\", \"Age\": 24.0, \"SibSp\": 0, \"Parch\": 1, \"Ticket\": \"PC 17558\", \"Fare\": 247.5208, \"Cabin\": \"B58 B60\", \"Embarked\": \"C\"}, {\"PassengerId\": 120, \"Survived\": 0, \"Pclass\": 3, \"Name\": \"Andersson, Miss. Ellis Anna Maria\", \"Sex\": \"female\", \"Age\": 2.0, \"SibSp\": 4, \"Parch\": 2, \"Ticket\": \"347082\", \"Fare\": 31.275, \"Cabin\": null, \"Embarked\": \"S\"}, {\"PassengerId\": 121, \"Survived\": 0, \"Pclass\": 2, \"Name\": \"Hickman, Mr. Stanley George\", \"Sex\": \"male\", \"Age\": 21.0, \"SibSp\": 2, \"Parch\": 0, \"Ticket\": \"S.O.C. 14879\", \"Fare\": 73.5, \"Cabin\": null, \"Embarked\": \"S\"}, {\"PassengerId\": 122, \"Survived\": 0, \"Pclass\": 3, \"Name\": \"Moore, Mr. Leonard Charles\", \"Sex\": \"male\", \"Age\": null, \"SibSp\": 0, \"Parch\": 0, \"Ticket\": \"A4. 54510\", \"Fare\": 8.05, \"Cabin\": null, \"Embarked\": \"S\"}, {\"PassengerId\": 123, \"Survived\": 0, \"Pclass\": 2, \"Name\": \"Nasser, Mr. Nicholas\", \"Sex\": \"male\", \"Age\": 32.5, \"SibSp\": 1, \"Parch\": 0, \"Ticket\": \"237736\", \"Fare\": 30.0708, \"Cabin\": null, \"Embarked\": \"C\"}, {\"PassengerId\": 124, \"Survived\": 1, \"Pclass\": 2, \"Name\": \"Webber, Miss. Susan\", \"Sex\": \"female\", \"Age\": 32.5, \"SibSp\": 0, \"Parch\": 0, \"Ticket\": \"27267\", \"Fare\": 13.0, \"Cabin\": \"E101\", \"Embarked\": \"S\"}, {\"PassengerId\": 125, \"Survived\": 0, \"Pclass\": 1, \"Name\": \"White, Mr. Percival Wayland\", \"Sex\": \"male\", \"Age\": 54.0, \"SibSp\": 0, \"Parch\": 1, \"Ticket\": \"35281\", \"Fare\": 77.2875, \"Cabin\": \"D26\", \"Embarked\": \"S\"}, {\"PassengerId\": 126, \"Survived\": 1, \"Pclass\": 3, \"Name\": \"Nicola-Yarred, Master. Elias\", \"Sex\": \"male\", \"Age\": 12.0, \"SibSp\": 1, \"Parch\": 0, \"Ticket\": \"2651\", \"Fare\": 11.2417, \"Cabin\": null, \"Embarked\": \"C\"}, {\"PassengerId\": 127, \"Survived\": 0, \"Pclass\": 3, \"Name\": \"McMahon, Mr. Martin\", \"Sex\": \"male\", \"Age\": null, \"SibSp\": 0, \"Parch\": 0, \"Ticket\": \"370372\", \"Fare\": 7.75, \"Cabin\": null, \"Embarked\": \"Q\"}, {\"PassengerId\": 128, \"Survived\": 1, \"Pclass\": 3, \"Name\": \"Madsen, Mr. Fridtjof Arne\", \"Sex\": \"male\", \"Age\": 24.0, \"SibSp\": 0, \"Parch\": 0, \"Ticket\": \"C 17369\", \"Fare\": 7.1417, \"Cabin\": null, \"Embarked\": \"S\"}, {\"PassengerId\": 129, \"Survived\": 1, \"Pclass\": 3, \"Name\": \"Peter, Miss. Anna\", \"Sex\": \"female\", \"Age\": null, \"SibSp\": 1, \"Parch\": 1, \"Ticket\": \"2668\", \"Fare\": 22.3583, \"Cabin\": \"F E69\", \"Embarked\": \"C\"}, {\"PassengerId\": 130, \"Survived\": 0, \"Pclass\": 3, \"Name\": \"Ekstrom, Mr. Johan\", \"Sex\": \"male\", \"Age\": 45.0, \"SibSp\": 0, \"Parch\": 0, \"Ticket\": \"347061\", \"Fare\": 6.975, \"Cabin\": null, \"Embarked\": \"S\"}, {\"PassengerId\": 131, \"Survived\": 0, \"Pclass\": 3, \"Name\": \"Drazenoic, Mr. Jozef\", \"Sex\": \"male\", \"Age\": 33.0, \"SibSp\": 0, \"Parch\": 0, \"Ticket\": \"349241\", \"Fare\": 7.8958, \"Cabin\": null, \"Embarked\": \"C\"}, {\"PassengerId\": 132, \"Survived\": 0, \"Pclass\": 3, \"Name\": \"Coelho, Mr. Domingos Fernandeo\", \"Sex\": \"male\", \"Age\": 20.0, \"SibSp\": 0, \"Parch\": 0, \"Ticket\": \"SOTON/O.Q. 3101307\", \"Fare\": 7.05, \"Cabin\": null, \"Embarked\": \"S\"}, {\"PassengerId\": 133, \"Survived\": 0, \"Pclass\": 3, \"Name\": \"Robins, Mrs. Alexander A (Grace Charity Laury)\", \"Sex\": \"female\", \"Age\": 47.0, \"SibSp\": 1, \"Parch\": 0, \"Ticket\": \"A/5. 3337\", \"Fare\": 14.5, \"Cabin\": null, \"Embarked\": \"S\"}, {\"PassengerId\": 134, \"Survived\": 1, \"Pclass\": 2, \"Name\": \"Weisz, Mrs. Leopold (Mathilde Francoise Pede)\", \"Sex\": \"female\", \"Age\": 29.0, \"SibSp\": 1, \"Parch\": 0, \"Ticket\": \"228414\", \"Fare\": 26.0, \"Cabin\": null, \"Embarked\": \"S\"}, {\"PassengerId\": 135, \"Survived\": 0, \"Pclass\": 2, \"Name\": \"Sobey, Mr. Samuel James Hayden\", \"Sex\": \"male\", \"Age\": 25.0, \"SibSp\": 0, \"Parch\": 0, \"Ticket\": \"C.A. 29178\", \"Fare\": 13.0, \"Cabin\": null, \"Embarked\": \"S\"}, {\"PassengerId\": 136, \"Survived\": 0, \"Pclass\": 2, \"Name\": \"Richard, Mr. Emile\", \"Sex\": \"male\", \"Age\": 23.0, \"SibSp\": 0, \"Parch\": 0, \"Ticket\": \"SC/PARIS 2133\", \"Fare\": 15.0458, \"Cabin\": null, \"Embarked\": \"C\"}, {\"PassengerId\": 137, \"Survived\": 1, \"Pclass\": 1, \"Name\": \"Newsom, Miss. Helen Monypeny\", \"Sex\": \"female\", \"Age\": 19.0, \"SibSp\": 0, \"Parch\": 2, \"Ticket\": \"11752\", \"Fare\": 26.2833, \"Cabin\": \"D47\", \"Embarked\": \"S\"}, {\"PassengerId\": 138, \"Survived\": 0, \"Pclass\": 1, \"Name\": \"Futrelle, Mr. Jacques Heath\", \"Sex\": \"male\", \"Age\": 37.0, \"SibSp\": 1, \"Parch\": 0, \"Ticket\": \"113803\", \"Fare\": 53.1, \"Cabin\": \"C123\", \"Embarked\": \"S\"}, {\"PassengerId\": 139, \"Survived\": 0, \"Pclass\": 3, \"Name\": \"Osen, Mr. Olaf Elon\", \"Sex\": \"male\", \"Age\": 16.0, \"SibSp\": 0, \"Parch\": 0, \"Ticket\": \"7534\", \"Fare\": 9.2167, \"Cabin\": null, \"Embarked\": \"S\"}, {\"PassengerId\": 140, \"Survived\": 0, \"Pclass\": 1, \"Name\": \"Giglio, Mr. Victor\", \"Sex\": \"male\", \"Age\": 24.0, \"SibSp\": 0, \"Parch\": 0, \"Ticket\": \"PC 17593\", \"Fare\": 79.2, \"Cabin\": \"B86\", \"Embarked\": \"C\"}, {\"PassengerId\": 141, \"Survived\": 0, \"Pclass\": 3, \"Name\": \"Boulos, Mrs. Joseph (Sultana)\", \"Sex\": \"female\", \"Age\": null, \"SibSp\": 0, \"Parch\": 2, \"Ticket\": \"2678\", \"Fare\": 15.2458, \"Cabin\": null, \"Embarked\": \"C\"}, {\"PassengerId\": 142, \"Survived\": 1, \"Pclass\": 3, \"Name\": \"Nysten, Miss. Anna Sofia\", \"Sex\": \"female\", \"Age\": 22.0, \"SibSp\": 0, \"Parch\": 0, \"Ticket\": \"347081\", \"Fare\": 7.75, \"Cabin\": null, \"Embarked\": \"S\"}, {\"PassengerId\": 143, \"Survived\": 1, \"Pclass\": 3, \"Name\": \"Hakkarainen, Mrs. Pekka Pietari (Elin Matilda Dolck)\", \"Sex\": \"female\", \"Age\": 24.0, \"SibSp\": 1, \"Parch\": 0, \"Ticket\": \"STON/O2. 3101279\", \"Fare\": 15.85, \"Cabin\": null, \"Embarked\": \"S\"}, {\"PassengerId\": 144, \"Survived\": 0, \"Pclass\": 3, \"Name\": \"Burke, Mr. Jeremiah\", \"Sex\": \"male\", \"Age\": 19.0, \"SibSp\": 0, \"Parch\": 0, \"Ticket\": \"365222\", \"Fare\": 6.75, \"Cabin\": null, \"Embarked\": \"Q\"}, {\"PassengerId\": 145, \"Survived\": 0, \"Pclass\": 2, \"Name\": \"Andrew, Mr. Edgardo Samuel\", \"Sex\": \"male\", \"Age\": 18.0, \"SibSp\": 0, \"Parch\": 0, \"Ticket\": \"231945\", \"Fare\": 11.5, \"Cabin\": null, \"Embarked\": \"S\"}, {\"PassengerId\": 146, \"Survived\": 0, \"Pclass\": 2, \"Name\": \"Nicholls, Mr. Joseph Charles\", \"Sex\": \"male\", \"Age\": 19.0, \"SibSp\": 1, \"Parch\": 1, \"Ticket\": \"C.A. 33112\", \"Fare\": 36.75, \"Cabin\": null, \"Embarked\": \"S\"}, {\"PassengerId\": 147, \"Survived\": 1, \"Pclass\": 3, \"Name\": \"Andersson, Mr. August Edvard (\\\"Wennerstrom\\\")\", \"Sex\": \"male\", \"Age\": 27.0, \"SibSp\": 0, \"Parch\": 0, \"Ticket\": \"350043\", \"Fare\": 7.7958, \"Cabin\": null, \"Embarked\": \"S\"}, {\"PassengerId\": 148, \"Survived\": 0, \"Pclass\": 3, \"Name\": \"Ford, Miss. Robina Maggie \\\"Ruby\\\"\", \"Sex\": \"female\", \"Age\": 9.0, \"SibSp\": 2, \"Parch\": 2, \"Ticket\": \"W./C. 6608\", \"Fare\": 34.375, \"Cabin\": null, \"Embarked\": \"S\"}, {\"PassengerId\": 149, \"Survived\": 0, \"Pclass\": 2, \"Name\": \"Navratil, Mr. Michel (\\\"Louis M Hoffman\\\")\", \"Sex\": \"male\", \"Age\": 36.5, \"SibSp\": 0, \"Parch\": 2, \"Ticket\": \"230080\", \"Fare\": 26.0, \"Cabin\": \"F2\", \"Embarked\": \"S\"}, {\"PassengerId\": 150, \"Survived\": 0, \"Pclass\": 2, \"Name\": \"Byles, Rev. Thomas Roussel Davids\", \"Sex\": \"male\", \"Age\": 42.0, \"SibSp\": 0, \"Parch\": 0, \"Ticket\": \"244310\", \"Fare\": 13.0, \"Cabin\": null, \"Embarked\": \"S\"}, {\"PassengerId\": 151, \"Survived\": 0, \"Pclass\": 2, \"Name\": \"Bateman, Rev. Robert James\", \"Sex\": \"male\", \"Age\": 51.0, \"SibSp\": 0, \"Parch\": 0, \"Ticket\": \"S.O.P. 1166\", \"Fare\": 12.525, \"Cabin\": null, \"Embarked\": \"S\"}, {\"PassengerId\": 152, \"Survived\": 1, \"Pclass\": 1, \"Name\": \"Pears, Mrs. Thomas (Edith Wearne)\", \"Sex\": \"female\", \"Age\": 22.0, \"SibSp\": 1, \"Parch\": 0, \"Ticket\": \"113776\", \"Fare\": 66.6, \"Cabin\": \"C2\", \"Embarked\": \"S\"}, {\"PassengerId\": 153, \"Survived\": 0, \"Pclass\": 3, \"Name\": \"Meo, Mr. Alfonzo\", \"Sex\": \"male\", \"Age\": 55.5, \"SibSp\": 0, \"Parch\": 0, \"Ticket\": \"A.5. 11206\", \"Fare\": 8.05, \"Cabin\": null, \"Embarked\": \"S\"}, {\"PassengerId\": 154, \"Survived\": 0, \"Pclass\": 3, \"Name\": \"van Billiard, Mr. Austin Blyler\", \"Sex\": \"male\", \"Age\": 40.5, \"SibSp\": 0, \"Parch\": 2, \"Ticket\": \"A/5. 851\", \"Fare\": 14.5, \"Cabin\": null, \"Embarked\": \"S\"}, {\"PassengerId\": 155, \"Survived\": 0, \"Pclass\": 3, \"Name\": \"Olsen, Mr. Ole Martin\", \"Sex\": \"male\", \"Age\": null, \"SibSp\": 0, \"Parch\": 0, \"Ticket\": \"Fa 265302\", \"Fare\": 7.3125, \"Cabin\": null, \"Embarked\": \"S\"}, {\"PassengerId\": 156, \"Survived\": 0, \"Pclass\": 1, \"Name\": \"Williams, Mr. Charles Duane\", \"Sex\": \"male\", \"Age\": 51.0, \"SibSp\": 0, \"Parch\": 1, \"Ticket\": \"PC 17597\", \"Fare\": 61.3792, \"Cabin\": null, \"Embarked\": \"C\"}, {\"PassengerId\": 157, \"Survived\": 1, \"Pclass\": 3, \"Name\": \"Gilnagh, Miss. Katherine \\\"Katie\\\"\", \"Sex\": \"female\", \"Age\": 16.0, \"SibSp\": 0, \"Parch\": 0, \"Ticket\": \"35851\", \"Fare\": 7.7333, \"Cabin\": null, \"Embarked\": \"Q\"}, {\"PassengerId\": 158, \"Survived\": 0, \"Pclass\": 3, \"Name\": \"Corn, Mr. Harry\", \"Sex\": \"male\", \"Age\": 30.0, \"SibSp\": 0, \"Parch\": 0, \"Ticket\": \"SOTON/OQ 392090\", \"Fare\": 8.05, \"Cabin\": null, \"Embarked\": \"S\"}, {\"PassengerId\": 159, \"Survived\": 0, \"Pclass\": 3, \"Name\": \"Smiljanic, Mr. Mile\", \"Sex\": \"male\", \"Age\": null, \"SibSp\": 0, \"Parch\": 0, \"Ticket\": \"315037\", \"Fare\": 8.6625, \"Cabin\": null, \"Embarked\": \"S\"}, {\"PassengerId\": 160, \"Survived\": 0, \"Pclass\": 3, \"Name\": \"Sage, Master. Thomas Henry\", \"Sex\": \"male\", \"Age\": null, \"SibSp\": 8, \"Parch\": 2, \"Ticket\": \"CA. 2343\", \"Fare\": 69.55, \"Cabin\": null, \"Embarked\": \"S\"}, {\"PassengerId\": 161, \"Survived\": 0, \"Pclass\": 3, \"Name\": \"Cribb, Mr. John Hatfield\", \"Sex\": \"male\", \"Age\": 44.0, \"SibSp\": 0, \"Parch\": 1, \"Ticket\": \"371362\", \"Fare\": 16.1, \"Cabin\": null, \"Embarked\": \"S\"}, {\"PassengerId\": 162, \"Survived\": 1, \"Pclass\": 2, \"Name\": \"Watt, Mrs. James (Elizabeth \\\"Bessie\\\" Inglis Milne)\", \"Sex\": \"female\", \"Age\": 40.0, \"SibSp\": 0, \"Parch\": 0, \"Ticket\": \"C.A. 33595\", \"Fare\": 15.75, \"Cabin\": null, \"Embarked\": \"S\"}, {\"PassengerId\": 163, \"Survived\": 0, \"Pclass\": 3, \"Name\": \"Bengtsson, Mr. John Viktor\", \"Sex\": \"male\", \"Age\": 26.0, \"SibSp\": 0, \"Parch\": 0, \"Ticket\": \"347068\", \"Fare\": 7.775, \"Cabin\": null, \"Embarked\": \"S\"}, {\"PassengerId\": 164, \"Survived\": 0, \"Pclass\": 3, \"Name\": \"Calic, Mr. Jovo\", \"Sex\": \"male\", \"Age\": 17.0, \"SibSp\": 0, \"Parch\": 0, \"Ticket\": \"315093\", \"Fare\": 8.6625, \"Cabin\": null, \"Embarked\": \"S\"}, {\"PassengerId\": 165, \"Survived\": 0, \"Pclass\": 3, \"Name\": \"Panula, Master. Eino Viljami\", \"Sex\": \"male\", \"Age\": 1.0, \"SibSp\": 4, \"Parch\": 1, \"Ticket\": \"3101295\", \"Fare\": 39.6875, \"Cabin\": null, \"Embarked\": \"S\"}, {\"PassengerId\": 166, \"Survived\": 1, \"Pclass\": 3, \"Name\": \"Goldsmith, Master. Frank John William \\\"Frankie\\\"\", \"Sex\": \"male\", \"Age\": 9.0, \"SibSp\": 0, \"Parch\": 2, \"Ticket\": \"363291\", \"Fare\": 20.525, \"Cabin\": null, \"Embarked\": \"S\"}, {\"PassengerId\": 167, \"Survived\": 1, \"Pclass\": 1, \"Name\": \"Chibnall, Mrs. (Edith Martha Bowerman)\", \"Sex\": \"female\", \"Age\": null, \"SibSp\": 0, \"Parch\": 1, \"Ticket\": \"113505\", \"Fare\": 55.0, \"Cabin\": \"E33\", \"Embarked\": \"S\"}, {\"PassengerId\": 168, \"Survived\": 0, \"Pclass\": 3, \"Name\": \"Skoog, Mrs. William (Anna Bernhardina Karlsson)\", \"Sex\": \"female\", \"Age\": 45.0, \"SibSp\": 1, \"Parch\": 4, \"Ticket\": \"347088\", \"Fare\": 27.9, \"Cabin\": null, \"Embarked\": \"S\"}, {\"PassengerId\": 169, \"Survived\": 0, \"Pclass\": 1, \"Name\": \"Baumann, Mr. John D\", \"Sex\": \"male\", \"Age\": null, \"SibSp\": 0, \"Parch\": 0, \"Ticket\": \"PC 17318\", \"Fare\": 25.925, \"Cabin\": null, \"Embarked\": \"S\"}, {\"PassengerId\": 170, \"Survived\": 0, \"Pclass\": 3, \"Name\": \"Ling, Mr. Lee\", \"Sex\": \"male\", \"Age\": 28.0, \"SibSp\": 0, \"Parch\": 0, \"Ticket\": \"1601\", \"Fare\": 56.4958, \"Cabin\": null, \"Embarked\": \"S\"}, {\"PassengerId\": 171, \"Survived\": 0, \"Pclass\": 1, \"Name\": \"Van der hoef, Mr. Wyckoff\", \"Sex\": \"male\", \"Age\": 61.0, \"SibSp\": 0, \"Parch\": 0, \"Ticket\": \"111240\", \"Fare\": 33.5, \"Cabin\": \"B19\", \"Embarked\": \"S\"}, {\"PassengerId\": 172, \"Survived\": 0, \"Pclass\": 3, \"Name\": \"Rice, Master. Arthur\", \"Sex\": \"male\", \"Age\": 4.0, \"SibSp\": 4, \"Parch\": 1, \"Ticket\": \"382652\", \"Fare\": 29.125, \"Cabin\": null, \"Embarked\": \"Q\"}, {\"PassengerId\": 173, \"Survived\": 1, \"Pclass\": 3, \"Name\": \"Johnson, Miss. Eleanor Ileen\", \"Sex\": \"female\", \"Age\": 1.0, \"SibSp\": 1, \"Parch\": 1, \"Ticket\": \"347742\", \"Fare\": 11.1333, \"Cabin\": null, \"Embarked\": \"S\"}, {\"PassengerId\": 174, \"Survived\": 0, \"Pclass\": 3, \"Name\": \"Sivola, Mr. Antti Wilhelm\", \"Sex\": \"male\", \"Age\": 21.0, \"SibSp\": 0, \"Parch\": 0, \"Ticket\": \"STON/O 2. 3101280\", \"Fare\": 7.925, \"Cabin\": null, \"Embarked\": \"S\"}, {\"PassengerId\": 175, \"Survived\": 0, \"Pclass\": 1, \"Name\": \"Smith, Mr. James Clinch\", \"Sex\": \"male\", \"Age\": 56.0, \"SibSp\": 0, \"Parch\": 0, \"Ticket\": \"17764\", \"Fare\": 30.6958, \"Cabin\": \"A7\", \"Embarked\": \"C\"}, {\"PassengerId\": 176, \"Survived\": 0, \"Pclass\": 3, \"Name\": \"Klasen, Mr. Klas Albin\", \"Sex\": \"male\", \"Age\": 18.0, \"SibSp\": 1, \"Parch\": 1, \"Ticket\": \"350404\", \"Fare\": 7.8542, \"Cabin\": null, \"Embarked\": \"S\"}, {\"PassengerId\": 177, \"Survived\": 0, \"Pclass\": 3, \"Name\": \"Lefebre, Master. Henry Forbes\", \"Sex\": \"male\", \"Age\": null, \"SibSp\": 3, \"Parch\": 1, \"Ticket\": \"4133\", \"Fare\": 25.4667, \"Cabin\": null, \"Embarked\": \"S\"}, {\"PassengerId\": 178, \"Survived\": 0, \"Pclass\": 1, \"Name\": \"Isham, Miss. Ann Elizabeth\", \"Sex\": \"female\", \"Age\": 50.0, \"SibSp\": 0, \"Parch\": 0, \"Ticket\": \"PC 17595\", \"Fare\": 28.7125, \"Cabin\": \"C49\", \"Embarked\": \"C\"}, {\"PassengerId\": 179, \"Survived\": 0, \"Pclass\": 2, \"Name\": \"Hale, Mr. Reginald\", \"Sex\": \"male\", \"Age\": 30.0, \"SibSp\": 0, \"Parch\": 0, \"Ticket\": \"250653\", \"Fare\": 13.0, \"Cabin\": null, \"Embarked\": \"S\"}, {\"PassengerId\": 180, \"Survived\": 0, \"Pclass\": 3, \"Name\": \"Leonard, Mr. Lionel\", \"Sex\": \"male\", \"Age\": 36.0, \"SibSp\": 0, \"Parch\": 0, \"Ticket\": \"LINE\", \"Fare\": 0.0, \"Cabin\": null, \"Embarked\": \"S\"}, {\"PassengerId\": 181, \"Survived\": 0, \"Pclass\": 3, \"Name\": \"Sage, Miss. Constance Gladys\", \"Sex\": \"female\", \"Age\": null, \"SibSp\": 8, \"Parch\": 2, \"Ticket\": \"CA. 2343\", \"Fare\": 69.55, \"Cabin\": null, \"Embarked\": \"S\"}, {\"PassengerId\": 182, \"Survived\": 0, \"Pclass\": 2, \"Name\": \"Pernot, Mr. Rene\", \"Sex\": \"male\", \"Age\": null, \"SibSp\": 0, \"Parch\": 0, \"Ticket\": \"SC/PARIS 2131\", \"Fare\": 15.05, \"Cabin\": null, \"Embarked\": \"C\"}, {\"PassengerId\": 183, \"Survived\": 0, \"Pclass\": 3, \"Name\": \"Asplund, Master. Clarence Gustaf Hugo\", \"Sex\": \"male\", \"Age\": 9.0, \"SibSp\": 4, \"Parch\": 2, \"Ticket\": \"347077\", \"Fare\": 31.3875, \"Cabin\": null, \"Embarked\": \"S\"}, {\"PassengerId\": 184, \"Survived\": 1, \"Pclass\": 2, \"Name\": \"Becker, Master. Richard F\", \"Sex\": \"male\", \"Age\": 1.0, \"SibSp\": 2, \"Parch\": 1, \"Ticket\": \"230136\", \"Fare\": 39.0, \"Cabin\": \"F4\", \"Embarked\": \"S\"}, {\"PassengerId\": 185, \"Survived\": 1, \"Pclass\": 3, \"Name\": \"Kink-Heilmann, Miss. Luise Gretchen\", \"Sex\": \"female\", \"Age\": 4.0, \"SibSp\": 0, \"Parch\": 2, \"Ticket\": \"315153\", \"Fare\": 22.025, \"Cabin\": null, \"Embarked\": \"S\"}, {\"PassengerId\": 186, \"Survived\": 0, \"Pclass\": 1, \"Name\": \"Rood, Mr. Hugh Roscoe\", \"Sex\": \"male\", \"Age\": null, \"SibSp\": 0, \"Parch\": 0, \"Ticket\": \"113767\", \"Fare\": 50.0, \"Cabin\": \"A32\", \"Embarked\": \"S\"}, {\"PassengerId\": 187, \"Survived\": 1, \"Pclass\": 3, \"Name\": \"O'Brien, Mrs. Thomas (Johanna \\\"Hannah\\\" Godfrey)\", \"Sex\": \"female\", \"Age\": null, \"SibSp\": 1, \"Parch\": 0, \"Ticket\": \"370365\", \"Fare\": 15.5, \"Cabin\": null, \"Embarked\": \"Q\"}, {\"PassengerId\": 188, \"Survived\": 1, \"Pclass\": 1, \"Name\": \"Romaine, Mr. Charles Hallace (\\\"Mr C Rolmane\\\")\", \"Sex\": \"male\", \"Age\": 45.0, \"SibSp\": 0, \"Parch\": 0, \"Ticket\": \"111428\", \"Fare\": 26.55, \"Cabin\": null, \"Embarked\": \"S\"}, {\"PassengerId\": 189, \"Survived\": 0, \"Pclass\": 3, \"Name\": \"Bourke, Mr. John\", \"Sex\": \"male\", \"Age\": 40.0, \"SibSp\": 1, \"Parch\": 1, \"Ticket\": \"364849\", \"Fare\": 15.5, \"Cabin\": null, \"Embarked\": \"Q\"}, {\"PassengerId\": 190, \"Survived\": 0, \"Pclass\": 3, \"Name\": \"Turcin, Mr. Stjepan\", \"Sex\": \"male\", \"Age\": 36.0, \"SibSp\": 0, \"Parch\": 0, \"Ticket\": \"349247\", \"Fare\": 7.8958, \"Cabin\": null, \"Embarked\": \"S\"}, {\"PassengerId\": 191, \"Survived\": 1, \"Pclass\": 2, \"Name\": \"Pinsky, Mrs. (Rosa)\", \"Sex\": \"female\", \"Age\": 32.0, \"SibSp\": 0, \"Parch\": 0, \"Ticket\": \"234604\", \"Fare\": 13.0, \"Cabin\": null, \"Embarked\": \"S\"}, {\"PassengerId\": 192, \"Survived\": 0, \"Pclass\": 2, \"Name\": \"Carbines, Mr. William\", \"Sex\": \"male\", \"Age\": 19.0, \"SibSp\": 0, \"Parch\": 0, \"Ticket\": \"28424\", \"Fare\": 13.0, \"Cabin\": null, \"Embarked\": \"S\"}, {\"PassengerId\": 193, \"Survived\": 1, \"Pclass\": 3, \"Name\": \"Andersen-Jensen, Miss. Carla Christine Nielsine\", \"Sex\": \"female\", \"Age\": 19.0, \"SibSp\": 1, \"Parch\": 0, \"Ticket\": \"350046\", \"Fare\": 7.8542, \"Cabin\": null, \"Embarked\": \"S\"}, {\"PassengerId\": 194, \"Survived\": 1, \"Pclass\": 2, \"Name\": \"Navratil, Master. Michel M\", \"Sex\": \"male\", \"Age\": 3.0, \"SibSp\": 1, \"Parch\": 1, \"Ticket\": \"230080\", \"Fare\": 26.0, \"Cabin\": \"F2\", \"Embarked\": \"S\"}, {\"PassengerId\": 195, \"Survived\": 1, \"Pclass\": 1, \"Name\": \"Brown, Mrs. James Joseph (Margaret Tobin)\", \"Sex\": \"female\", \"Age\": 44.0, \"SibSp\": 0, \"Parch\": 0, \"Ticket\": \"PC 17610\", \"Fare\": 27.7208, \"Cabin\": \"B4\", \"Embarked\": \"C\"}, {\"PassengerId\": 196, \"Survived\": 1, \"Pclass\": 1, \"Name\": \"Lurette, Miss. Elise\", \"Sex\": \"female\", \"Age\": 58.0, \"SibSp\": 0, \"Parch\": 0, \"Ticket\": \"PC 17569\", \"Fare\": 146.5208, \"Cabin\": \"B80\", \"Embarked\": \"C\"}, {\"PassengerId\": 197, \"Survived\": 0, \"Pclass\": 3, \"Name\": \"Mernagh, Mr. Robert\", \"Sex\": \"male\", \"Age\": null, \"SibSp\": 0, \"Parch\": 0, \"Ticket\": \"368703\", \"Fare\": 7.75, \"Cabin\": null, \"Embarked\": \"Q\"}, {\"PassengerId\": 198, \"Survived\": 0, \"Pclass\": 3, \"Name\": \"Olsen, Mr. Karl Siegwart Andreas\", \"Sex\": \"male\", \"Age\": 42.0, \"SibSp\": 0, \"Parch\": 1, \"Ticket\": \"4579\", \"Fare\": 8.4042, \"Cabin\": null, \"Embarked\": \"S\"}, {\"PassengerId\": 199, \"Survived\": 1, \"Pclass\": 3, \"Name\": \"Madigan, Miss. Margaret \\\"Maggie\\\"\", \"Sex\": \"female\", \"Age\": null, \"SibSp\": 0, \"Parch\": 0, \"Ticket\": \"370370\", \"Fare\": 7.75, \"Cabin\": null, \"Embarked\": \"Q\"}, {\"PassengerId\": 200, \"Survived\": 0, \"Pclass\": 2, \"Name\": \"Yrois, Miss. Henriette (\\\"Mrs Harbeck\\\")\", \"Sex\": \"female\", \"Age\": 24.0, \"SibSp\": 0, \"Parch\": 0, \"Ticket\": \"248747\", \"Fare\": 13.0, \"Cabin\": null, \"Embarked\": \"S\"}, {\"PassengerId\": 201, \"Survived\": 0, \"Pclass\": 3, \"Name\": \"Vande Walle, Mr. Nestor Cyriel\", \"Sex\": \"male\", \"Age\": 28.0, \"SibSp\": 0, \"Parch\": 0, \"Ticket\": \"345770\", \"Fare\": 9.5, \"Cabin\": null, \"Embarked\": \"S\"}, {\"PassengerId\": 202, \"Survived\": 0, \"Pclass\": 3, \"Name\": \"Sage, Mr. Frederick\", \"Sex\": \"male\", \"Age\": null, \"SibSp\": 8, \"Parch\": 2, \"Ticket\": \"CA. 2343\", \"Fare\": 69.55, \"Cabin\": null, \"Embarked\": \"S\"}, {\"PassengerId\": 203, \"Survived\": 0, \"Pclass\": 3, \"Name\": \"Johanson, Mr. Jakob Alfred\", \"Sex\": \"male\", \"Age\": 34.0, \"SibSp\": 0, \"Parch\": 0, \"Ticket\": \"3101264\", \"Fare\": 6.4958, \"Cabin\": null, \"Embarked\": \"S\"}, {\"PassengerId\": 204, \"Survived\": 0, \"Pclass\": 3, \"Name\": \"Youseff, Mr. Gerious\", \"Sex\": \"male\", \"Age\": 45.5, \"SibSp\": 0, \"Parch\": 0, \"Ticket\": \"2628\", \"Fare\": 7.225, \"Cabin\": null, \"Embarked\": \"C\"}, {\"PassengerId\": 205, \"Survived\": 1, \"Pclass\": 3, \"Name\": \"Cohen, Mr. Gurshon \\\"Gus\\\"\", \"Sex\": \"male\", \"Age\": 18.0, \"SibSp\": 0, \"Parch\": 0, \"Ticket\": \"A/5 3540\", \"Fare\": 8.05, \"Cabin\": null, \"Embarked\": \"S\"}, {\"PassengerId\": 206, \"Survived\": 0, \"Pclass\": 3, \"Name\": \"Strom, Miss. Telma Matilda\", \"Sex\": \"female\", \"Age\": 2.0, \"SibSp\": 0, \"Parch\": 1, \"Ticket\": \"347054\", \"Fare\": 10.4625, \"Cabin\": \"G6\", \"Embarked\": \"S\"}, {\"PassengerId\": 207, \"Survived\": 0, \"Pclass\": 3, \"Name\": \"Backstrom, Mr. Karl Alfred\", \"Sex\": \"male\", \"Age\": 32.0, \"SibSp\": 1, \"Parch\": 0, \"Ticket\": \"3101278\", \"Fare\": 15.85, \"Cabin\": null, \"Embarked\": \"S\"}, {\"PassengerId\": 208, \"Survived\": 1, \"Pclass\": 3, \"Name\": \"Albimona, Mr. Nassef Cassem\", \"Sex\": \"male\", \"Age\": 26.0, \"SibSp\": 0, \"Parch\": 0, \"Ticket\": \"2699\", \"Fare\": 18.7875, \"Cabin\": null, \"Embarked\": \"C\"}, {\"PassengerId\": 209, \"Survived\": 1, \"Pclass\": 3, \"Name\": \"Carr, Miss. Helen \\\"Ellen\\\"\", \"Sex\": \"female\", \"Age\": 16.0, \"SibSp\": 0, \"Parch\": 0, \"Ticket\": \"367231\", \"Fare\": 7.75, \"Cabin\": null, \"Embarked\": \"Q\"}, {\"PassengerId\": 210, \"Survived\": 1, \"Pclass\": 1, \"Name\": \"Blank, Mr. Henry\", \"Sex\": \"male\", \"Age\": 40.0, \"SibSp\": 0, \"Parch\": 0, \"Ticket\": \"112277\", \"Fare\": 31.0, \"Cabin\": \"A31\", \"Embarked\": \"C\"}, {\"PassengerId\": 211, \"Survived\": 0, \"Pclass\": 3, \"Name\": \"Ali, Mr. Ahmed\", \"Sex\": \"male\", \"Age\": 24.0, \"SibSp\": 0, \"Parch\": 0, \"Ticket\": \"SOTON/O.Q. 3101311\", \"Fare\": 7.05, \"Cabin\": null, \"Embarked\": \"S\"}, {\"PassengerId\": 212, \"Survived\": 1, \"Pclass\": 2, \"Name\": \"Cameron, Miss. Clear Annie\", \"Sex\": \"female\", \"Age\": 35.0, \"SibSp\": 0, \"Parch\": 0, \"Ticket\": \"F.C.C. 13528\", \"Fare\": 21.0, \"Cabin\": null, \"Embarked\": \"S\"}, {\"PassengerId\": 213, \"Survived\": 0, \"Pclass\": 3, \"Name\": \"Perkin, Mr. John Henry\", \"Sex\": \"male\", \"Age\": 22.0, \"SibSp\": 0, \"Parch\": 0, \"Ticket\": \"A/5 21174\", \"Fare\": 7.25, \"Cabin\": null, \"Embarked\": \"S\"}, {\"PassengerId\": 214, \"Survived\": 0, \"Pclass\": 2, \"Name\": \"Givard, Mr. Hans Kristensen\", \"Sex\": \"male\", \"Age\": 30.0, \"SibSp\": 0, \"Parch\": 0, \"Ticket\": \"250646\", \"Fare\": 13.0, \"Cabin\": null, \"Embarked\": \"S\"}, {\"PassengerId\": 215, \"Survived\": 0, \"Pclass\": 3, \"Name\": \"Kiernan, Mr. Philip\", \"Sex\": \"male\", \"Age\": null, \"SibSp\": 1, \"Parch\": 0, \"Ticket\": \"367229\", \"Fare\": 7.75, \"Cabin\": null, \"Embarked\": \"Q\"}, {\"PassengerId\": 216, \"Survived\": 1, \"Pclass\": 1, \"Name\": \"Newell, Miss. Madeleine\", \"Sex\": \"female\", \"Age\": 31.0, \"SibSp\": 1, \"Parch\": 0, \"Ticket\": \"35273\", \"Fare\": 113.275, \"Cabin\": \"D36\", \"Embarked\": \"C\"}, {\"PassengerId\": 217, \"Survived\": 1, \"Pclass\": 3, \"Name\": \"Honkanen, Miss. Eliina\", \"Sex\": \"female\", \"Age\": 27.0, \"SibSp\": 0, \"Parch\": 0, \"Ticket\": \"STON/O2. 3101283\", \"Fare\": 7.925, \"Cabin\": null, \"Embarked\": \"S\"}, {\"PassengerId\": 218, \"Survived\": 0, \"Pclass\": 2, \"Name\": \"Jacobsohn, Mr. Sidney Samuel\", \"Sex\": \"male\", \"Age\": 42.0, \"SibSp\": 1, \"Parch\": 0, \"Ticket\": \"243847\", \"Fare\": 27.0, \"Cabin\": null, \"Embarked\": \"S\"}, {\"PassengerId\": 219, \"Survived\": 1, \"Pclass\": 1, \"Name\": \"Bazzani, Miss. Albina\", \"Sex\": \"female\", \"Age\": 32.0, \"SibSp\": 0, \"Parch\": 0, \"Ticket\": \"11813\", \"Fare\": 76.2917, \"Cabin\": \"D15\", \"Embarked\": \"C\"}, {\"PassengerId\": 220, \"Survived\": 0, \"Pclass\": 2, \"Name\": \"Harris, Mr. Walter\", \"Sex\": \"male\", \"Age\": 30.0, \"SibSp\": 0, \"Parch\": 0, \"Ticket\": \"W/C 14208\", \"Fare\": 10.5, \"Cabin\": null, \"Embarked\": \"S\"}, {\"PassengerId\": 221, \"Survived\": 1, \"Pclass\": 3, \"Name\": \"Sunderland, Mr. Victor Francis\", \"Sex\": \"male\", \"Age\": 16.0, \"SibSp\": 0, \"Parch\": 0, \"Ticket\": \"SOTON/OQ 392089\", \"Fare\": 8.05, \"Cabin\": null, \"Embarked\": \"S\"}, {\"PassengerId\": 222, \"Survived\": 0, \"Pclass\": 2, \"Name\": \"Bracken, Mr. James H\", \"Sex\": \"male\", \"Age\": 27.0, \"SibSp\": 0, \"Parch\": 0, \"Ticket\": \"220367\", \"Fare\": 13.0, \"Cabin\": null, \"Embarked\": \"S\"}, {\"PassengerId\": 223, \"Survived\": 0, \"Pclass\": 3, \"Name\": \"Green, Mr. George Henry\", \"Sex\": \"male\", \"Age\": 51.0, \"SibSp\": 0, \"Parch\": 0, \"Ticket\": \"21440\", \"Fare\": 8.05, \"Cabin\": null, \"Embarked\": \"S\"}, {\"PassengerId\": 224, \"Survived\": 0, \"Pclass\": 3, \"Name\": \"Nenkoff, Mr. Christo\", \"Sex\": \"male\", \"Age\": null, \"SibSp\": 0, \"Parch\": 0, \"Ticket\": \"349234\", \"Fare\": 7.8958, \"Cabin\": null, \"Embarked\": \"S\"}, {\"PassengerId\": 225, \"Survived\": 1, \"Pclass\": 1, \"Name\": \"Hoyt, Mr. Frederick Maxfield\", \"Sex\": \"male\", \"Age\": 38.0, \"SibSp\": 1, \"Parch\": 0, \"Ticket\": \"19943\", \"Fare\": 90.0, \"Cabin\": \"C93\", \"Embarked\": \"S\"}, {\"PassengerId\": 226, \"Survived\": 0, \"Pclass\": 3, \"Name\": \"Berglund, Mr. Karl Ivar Sven\", \"Sex\": \"male\", \"Age\": 22.0, \"SibSp\": 0, \"Parch\": 0, \"Ticket\": \"PP 4348\", \"Fare\": 9.35, \"Cabin\": null, \"Embarked\": \"S\"}, {\"PassengerId\": 227, \"Survived\": 1, \"Pclass\": 2, \"Name\": \"Mellors, Mr. William John\", \"Sex\": \"male\", \"Age\": 19.0, \"SibSp\": 0, \"Parch\": 0, \"Ticket\": \"SW/PP 751\", \"Fare\": 10.5, \"Cabin\": null, \"Embarked\": \"S\"}, {\"PassengerId\": 228, \"Survived\": 0, \"Pclass\": 3, \"Name\": \"Lovell, Mr. John Hall (\\\"Henry\\\")\", \"Sex\": \"male\", \"Age\": 20.5, \"SibSp\": 0, \"Parch\": 0, \"Ticket\": \"A/5 21173\", \"Fare\": 7.25, \"Cabin\": null, \"Embarked\": \"S\"}, {\"PassengerId\": 229, \"Survived\": 0, \"Pclass\": 2, \"Name\": \"Fahlstrom, Mr. Arne Jonas\", \"Sex\": \"male\", \"Age\": 18.0, \"SibSp\": 0, \"Parch\": 0, \"Ticket\": \"236171\", \"Fare\": 13.0, \"Cabin\": null, \"Embarked\": \"S\"}, {\"PassengerId\": 230, \"Survived\": 0, \"Pclass\": 3, \"Name\": \"Lefebre, Miss. Mathilde\", \"Sex\": \"female\", \"Age\": null, \"SibSp\": 3, \"Parch\": 1, \"Ticket\": \"4133\", \"Fare\": 25.4667, \"Cabin\": null, \"Embarked\": \"S\"}, {\"PassengerId\": 231, \"Survived\": 1, \"Pclass\": 1, \"Name\": \"Harris, Mrs. Henry Birkhardt (Irene Wallach)\", \"Sex\": \"female\", \"Age\": 35.0, \"SibSp\": 1, \"Parch\": 0, \"Ticket\": \"36973\", \"Fare\": 83.475, \"Cabin\": \"C83\", \"Embarked\": \"S\"}, {\"PassengerId\": 232, \"Survived\": 0, \"Pclass\": 3, \"Name\": \"Larsson, Mr. Bengt Edvin\", \"Sex\": \"male\", \"Age\": 29.0, \"SibSp\": 0, \"Parch\": 0, \"Ticket\": \"347067\", \"Fare\": 7.775, \"Cabin\": null, \"Embarked\": \"S\"}, {\"PassengerId\": 233, \"Survived\": 0, \"Pclass\": 2, \"Name\": \"Sjostedt, Mr. Ernst Adolf\", \"Sex\": \"male\", \"Age\": 59.0, \"SibSp\": 0, \"Parch\": 0, \"Ticket\": \"237442\", \"Fare\": 13.5, \"Cabin\": null, \"Embarked\": \"S\"}, {\"PassengerId\": 234, \"Survived\": 1, \"Pclass\": 3, \"Name\": \"Asplund, Miss. Lillian Gertrud\", \"Sex\": \"female\", \"Age\": 5.0, \"SibSp\": 4, \"Parch\": 2, \"Ticket\": \"347077\", \"Fare\": 31.3875, \"Cabin\": null, \"Embarked\": \"S\"}, {\"PassengerId\": 235, \"Survived\": 0, \"Pclass\": 2, \"Name\": \"Leyson, Mr. Robert William Norman\", \"Sex\": \"male\", \"Age\": 24.0, \"SibSp\": 0, \"Parch\": 0, \"Ticket\": \"C.A. 29566\", \"Fare\": 10.5, \"Cabin\": null, \"Embarked\": \"S\"}, {\"PassengerId\": 236, \"Survived\": 0, \"Pclass\": 3, \"Name\": \"Harknett, Miss. Alice Phoebe\", \"Sex\": \"female\", \"Age\": null, \"SibSp\": 0, \"Parch\": 0, \"Ticket\": \"W./C. 6609\", \"Fare\": 7.55, \"Cabin\": null, \"Embarked\": \"S\"}, {\"PassengerId\": 237, \"Survived\": 0, \"Pclass\": 2, \"Name\": \"Hold, Mr. Stephen\", \"Sex\": \"male\", \"Age\": 44.0, \"SibSp\": 1, \"Parch\": 0, \"Ticket\": \"26707\", \"Fare\": 26.0, \"Cabin\": null, \"Embarked\": \"S\"}, {\"PassengerId\": 238, \"Survived\": 1, \"Pclass\": 2, \"Name\": \"Collyer, Miss. Marjorie \\\"Lottie\\\"\", \"Sex\": \"female\", \"Age\": 8.0, \"SibSp\": 0, \"Parch\": 2, \"Ticket\": \"C.A. 31921\", \"Fare\": 26.25, \"Cabin\": null, \"Embarked\": \"S\"}, {\"PassengerId\": 239, \"Survived\": 0, \"Pclass\": 2, \"Name\": \"Pengelly, Mr. Frederick William\", \"Sex\": \"male\", \"Age\": 19.0, \"SibSp\": 0, \"Parch\": 0, \"Ticket\": \"28665\", \"Fare\": 10.5, \"Cabin\": null, \"Embarked\": \"S\"}, {\"PassengerId\": 240, \"Survived\": 0, \"Pclass\": 2, \"Name\": \"Hunt, Mr. George Henry\", \"Sex\": \"male\", \"Age\": 33.0, \"SibSp\": 0, \"Parch\": 0, \"Ticket\": \"SCO/W 1585\", \"Fare\": 12.275, \"Cabin\": null, \"Embarked\": \"S\"}, {\"PassengerId\": 241, \"Survived\": 0, \"Pclass\": 3, \"Name\": \"Zabour, Miss. Thamine\", \"Sex\": \"female\", \"Age\": null, \"SibSp\": 1, \"Parch\": 0, \"Ticket\": \"2665\", \"Fare\": 14.4542, \"Cabin\": null, \"Embarked\": \"C\"}, {\"PassengerId\": 242, \"Survived\": 1, \"Pclass\": 3, \"Name\": \"Murphy, Miss. Katherine \\\"Kate\\\"\", \"Sex\": \"female\", \"Age\": null, \"SibSp\": 1, \"Parch\": 0, \"Ticket\": \"367230\", \"Fare\": 15.5, \"Cabin\": null, \"Embarked\": \"Q\"}, {\"PassengerId\": 243, \"Survived\": 0, \"Pclass\": 2, \"Name\": \"Coleridge, Mr. Reginald Charles\", \"Sex\": \"male\", \"Age\": 29.0, \"SibSp\": 0, \"Parch\": 0, \"Ticket\": \"W./C. 14263\", \"Fare\": 10.5, \"Cabin\": null, \"Embarked\": \"S\"}, {\"PassengerId\": 244, \"Survived\": 0, \"Pclass\": 3, \"Name\": \"Maenpaa, Mr. Matti Alexanteri\", \"Sex\": \"male\", \"Age\": 22.0, \"SibSp\": 0, \"Parch\": 0, \"Ticket\": \"STON/O 2. 3101275\", \"Fare\": 7.125, \"Cabin\": null, \"Embarked\": \"S\"}, {\"PassengerId\": 245, \"Survived\": 0, \"Pclass\": 3, \"Name\": \"Attalah, Mr. Sleiman\", \"Sex\": \"male\", \"Age\": 30.0, \"SibSp\": 0, \"Parch\": 0, \"Ticket\": \"2694\", \"Fare\": 7.225, \"Cabin\": null, \"Embarked\": \"C\"}, {\"PassengerId\": 246, \"Survived\": 0, \"Pclass\": 1, \"Name\": \"Minahan, Dr. William Edward\", \"Sex\": \"male\", \"Age\": 44.0, \"SibSp\": 2, \"Parch\": 0, \"Ticket\": \"19928\", \"Fare\": 90.0, \"Cabin\": \"C78\", \"Embarked\": \"Q\"}, {\"PassengerId\": 247, \"Survived\": 0, \"Pclass\": 3, \"Name\": \"Lindahl, Miss. Agda Thorilda Viktoria\", \"Sex\": \"female\", \"Age\": 25.0, \"SibSp\": 0, \"Parch\": 0, \"Ticket\": \"347071\", \"Fare\": 7.775, \"Cabin\": null, \"Embarked\": \"S\"}, {\"PassengerId\": 248, \"Survived\": 1, \"Pclass\": 2, \"Name\": \"Hamalainen, Mrs. William (Anna)\", \"Sex\": \"female\", \"Age\": 24.0, \"SibSp\": 0, \"Parch\": 2, \"Ticket\": \"250649\", \"Fare\": 14.5, \"Cabin\": null, \"Embarked\": \"S\"}, {\"PassengerId\": 249, \"Survived\": 1, \"Pclass\": 1, \"Name\": \"Beckwith, Mr. Richard Leonard\", \"Sex\": \"male\", \"Age\": 37.0, \"SibSp\": 1, \"Parch\": 1, \"Ticket\": \"11751\", \"Fare\": 52.5542, \"Cabin\": \"D35\", \"Embarked\": \"S\"}, {\"PassengerId\": 250, \"Survived\": 0, \"Pclass\": 2, \"Name\": \"Carter, Rev. Ernest Courtenay\", \"Sex\": \"male\", \"Age\": 54.0, \"SibSp\": 1, \"Parch\": 0, \"Ticket\": \"244252\", \"Fare\": 26.0, \"Cabin\": null, \"Embarked\": \"S\"}, {\"PassengerId\": 251, \"Survived\": 0, \"Pclass\": 3, \"Name\": \"Reed, Mr. James George\", \"Sex\": \"male\", \"Age\": null, \"SibSp\": 0, \"Parch\": 0, \"Ticket\": \"362316\", \"Fare\": 7.25, \"Cabin\": null, \"Embarked\": \"S\"}, {\"PassengerId\": 252, \"Survived\": 0, \"Pclass\": 3, \"Name\": \"Strom, Mrs. Wilhelm (Elna Matilda Persson)\", \"Sex\": \"female\", \"Age\": 29.0, \"SibSp\": 1, \"Parch\": 1, \"Ticket\": \"347054\", \"Fare\": 10.4625, \"Cabin\": \"G6\", \"Embarked\": \"S\"}, {\"PassengerId\": 253, \"Survived\": 0, \"Pclass\": 1, \"Name\": \"Stead, Mr. William Thomas\", \"Sex\": \"male\", \"Age\": 62.0, \"SibSp\": 0, \"Parch\": 0, \"Ticket\": \"113514\", \"Fare\": 26.55, \"Cabin\": \"C87\", \"Embarked\": \"S\"}, {\"PassengerId\": 254, \"Survived\": 0, \"Pclass\": 3, \"Name\": \"Lobb, Mr. William Arthur\", \"Sex\": \"male\", \"Age\": 30.0, \"SibSp\": 1, \"Parch\": 0, \"Ticket\": \"A/5. 3336\", \"Fare\": 16.1, \"Cabin\": null, \"Embarked\": \"S\"}, {\"PassengerId\": 255, \"Survived\": 0, \"Pclass\": 3, \"Name\": \"Rosblom, Mrs. Viktor (Helena Wilhelmina)\", \"Sex\": \"female\", \"Age\": 41.0, \"SibSp\": 0, \"Parch\": 2, \"Ticket\": \"370129\", \"Fare\": 20.2125, \"Cabin\": null, \"Embarked\": \"S\"}, {\"PassengerId\": 256, \"Survived\": 1, \"Pclass\": 3, \"Name\": \"Touma, Mrs. Darwis (Hanne Youssef Razi)\", \"Sex\": \"female\", \"Age\": 29.0, \"SibSp\": 0, \"Parch\": 2, \"Ticket\": \"2650\", \"Fare\": 15.2458, \"Cabin\": null, \"Embarked\": \"C\"}, {\"PassengerId\": 257, \"Survived\": 1, \"Pclass\": 1, \"Name\": \"Thorne, Mrs. Gertrude Maybelle\", \"Sex\": \"female\", \"Age\": null, \"SibSp\": 0, \"Parch\": 0, \"Ticket\": \"PC 17585\", \"Fare\": 79.2, \"Cabin\": null, \"Embarked\": \"C\"}, {\"PassengerId\": 258, \"Survived\": 1, \"Pclass\": 1, \"Name\": \"Cherry, Miss. Gladys\", \"Sex\": \"female\", \"Age\": 30.0, \"SibSp\": 0, \"Parch\": 0, \"Ticket\": \"110152\", \"Fare\": 86.5, \"Cabin\": \"B77\", \"Embarked\": \"S\"}, {\"PassengerId\": 259, \"Survived\": 1, \"Pclass\": 1, \"Name\": \"Ward, Miss. Anna\", \"Sex\": \"female\", \"Age\": 35.0, \"SibSp\": 0, \"Parch\": 0, \"Ticket\": \"PC 17755\", \"Fare\": 512.3292, \"Cabin\": null, \"Embarked\": \"C\"}, {\"PassengerId\": 260, \"Survived\": 1, \"Pclass\": 2, \"Name\": \"Parrish, Mrs. (Lutie Davis)\", \"Sex\": \"female\", \"Age\": 50.0, \"SibSp\": 0, \"Parch\": 1, \"Ticket\": \"230433\", \"Fare\": 26.0, \"Cabin\": null, \"Embarked\": \"S\"}, {\"PassengerId\": 261, \"Survived\": 0, \"Pclass\": 3, \"Name\": \"Smith, Mr. Thomas\", \"Sex\": \"male\", \"Age\": null, \"SibSp\": 0, \"Parch\": 0, \"Ticket\": \"384461\", \"Fare\": 7.75, \"Cabin\": null, \"Embarked\": \"Q\"}, {\"PassengerId\": 262, \"Survived\": 1, \"Pclass\": 3, \"Name\": \"Asplund, Master. Edvin Rojj Felix\", \"Sex\": \"male\", \"Age\": 3.0, \"SibSp\": 4, \"Parch\": 2, \"Ticket\": \"347077\", \"Fare\": 31.3875, \"Cabin\": null, \"Embarked\": \"S\"}, {\"PassengerId\": 263, \"Survived\": 0, \"Pclass\": 1, \"Name\": \"Taussig, Mr. Emil\", \"Sex\": \"male\", \"Age\": 52.0, \"SibSp\": 1, \"Parch\": 1, \"Ticket\": \"110413\", \"Fare\": 79.65, \"Cabin\": \"E67\", \"Embarked\": \"S\"}, {\"PassengerId\": 264, \"Survived\": 0, \"Pclass\": 1, \"Name\": \"Harrison, Mr. William\", \"Sex\": \"male\", \"Age\": 40.0, \"SibSp\": 0, \"Parch\": 0, \"Ticket\": \"112059\", \"Fare\": 0.0, \"Cabin\": \"B94\", \"Embarked\": \"S\"}, {\"PassengerId\": 265, \"Survived\": 0, \"Pclass\": 3, \"Name\": \"Henry, Miss. Delia\", \"Sex\": \"female\", \"Age\": null, \"SibSp\": 0, \"Parch\": 0, \"Ticket\": \"382649\", \"Fare\": 7.75, \"Cabin\": null, \"Embarked\": \"Q\"}, {\"PassengerId\": 266, \"Survived\": 0, \"Pclass\": 2, \"Name\": \"Reeves, Mr. David\", \"Sex\": \"male\", \"Age\": 36.0, \"SibSp\": 0, \"Parch\": 0, \"Ticket\": \"C.A. 17248\", \"Fare\": 10.5, \"Cabin\": null, \"Embarked\": \"S\"}, {\"PassengerId\": 267, \"Survived\": 0, \"Pclass\": 3, \"Name\": \"Panula, Mr. Ernesti Arvid\", \"Sex\": \"male\", \"Age\": 16.0, \"SibSp\": 4, \"Parch\": 1, \"Ticket\": \"3101295\", \"Fare\": 39.6875, \"Cabin\": null, \"Embarked\": \"S\"}, {\"PassengerId\": 268, \"Survived\": 1, \"Pclass\": 3, \"Name\": \"Persson, Mr. Ernst Ulrik\", \"Sex\": \"male\", \"Age\": 25.0, \"SibSp\": 1, \"Parch\": 0, \"Ticket\": \"347083\", \"Fare\": 7.775, \"Cabin\": null, \"Embarked\": \"S\"}, {\"PassengerId\": 269, \"Survived\": 1, \"Pclass\": 1, \"Name\": \"Graham, Mrs. William Thompson (Edith Junkins)\", \"Sex\": \"female\", \"Age\": 58.0, \"SibSp\": 0, \"Parch\": 1, \"Ticket\": \"PC 17582\", \"Fare\": 153.4625, \"Cabin\": \"C125\", \"Embarked\": \"S\"}, {\"PassengerId\": 270, \"Survived\": 1, \"Pclass\": 1, \"Name\": \"Bissette, Miss. Amelia\", \"Sex\": \"female\", \"Age\": 35.0, \"SibSp\": 0, \"Parch\": 0, \"Ticket\": \"PC 17760\", \"Fare\": 135.6333, \"Cabin\": \"C99\", \"Embarked\": \"S\"}, {\"PassengerId\": 271, \"Survived\": 0, \"Pclass\": 1, \"Name\": \"Cairns, Mr. Alexander\", \"Sex\": \"male\", \"Age\": null, \"SibSp\": 0, \"Parch\": 0, \"Ticket\": \"113798\", \"Fare\": 31.0, \"Cabin\": null, \"Embarked\": \"S\"}, {\"PassengerId\": 272, \"Survived\": 1, \"Pclass\": 3, \"Name\": \"Tornquist, Mr. William Henry\", \"Sex\": \"male\", \"Age\": 25.0, \"SibSp\": 0, \"Parch\": 0, \"Ticket\": \"LINE\", \"Fare\": 0.0, \"Cabin\": null, \"Embarked\": \"S\"}, {\"PassengerId\": 273, \"Survived\": 1, \"Pclass\": 2, \"Name\": \"Mellinger, Mrs. (Elizabeth Anne Maidment)\", \"Sex\": \"female\", \"Age\": 41.0, \"SibSp\": 0, \"Parch\": 1, \"Ticket\": \"250644\", \"Fare\": 19.5, \"Cabin\": null, \"Embarked\": \"S\"}, {\"PassengerId\": 274, \"Survived\": 0, \"Pclass\": 1, \"Name\": \"Natsch, Mr. Charles H\", \"Sex\": \"male\", \"Age\": 37.0, \"SibSp\": 0, \"Parch\": 1, \"Ticket\": \"PC 17596\", \"Fare\": 29.7, \"Cabin\": \"C118\", \"Embarked\": \"C\"}, {\"PassengerId\": 275, \"Survived\": 1, \"Pclass\": 3, \"Name\": \"Healy, Miss. Hanora \\\"Nora\\\"\", \"Sex\": \"female\", \"Age\": null, \"SibSp\": 0, \"Parch\": 0, \"Ticket\": \"370375\", \"Fare\": 7.75, \"Cabin\": null, \"Embarked\": \"Q\"}, {\"PassengerId\": 276, \"Survived\": 1, \"Pclass\": 1, \"Name\": \"Andrews, Miss. Kornelia Theodosia\", \"Sex\": \"female\", \"Age\": 63.0, \"SibSp\": 1, \"Parch\": 0, \"Ticket\": \"13502\", \"Fare\": 77.9583, \"Cabin\": \"D7\", \"Embarked\": \"S\"}, {\"PassengerId\": 277, \"Survived\": 0, \"Pclass\": 3, \"Name\": \"Lindblom, Miss. Augusta Charlotta\", \"Sex\": \"female\", \"Age\": 45.0, \"SibSp\": 0, \"Parch\": 0, \"Ticket\": \"347073\", \"Fare\": 7.75, \"Cabin\": null, \"Embarked\": \"S\"}, {\"PassengerId\": 278, \"Survived\": 0, \"Pclass\": 2, \"Name\": \"Parkes, Mr. Francis \\\"Frank\\\"\", \"Sex\": \"male\", \"Age\": null, \"SibSp\": 0, \"Parch\": 0, \"Ticket\": \"239853\", \"Fare\": 0.0, \"Cabin\": null, \"Embarked\": \"S\"}, {\"PassengerId\": 279, \"Survived\": 0, \"Pclass\": 3, \"Name\": \"Rice, Master. Eric\", \"Sex\": \"male\", \"Age\": 7.0, \"SibSp\": 4, \"Parch\": 1, \"Ticket\": \"382652\", \"Fare\": 29.125, \"Cabin\": null, \"Embarked\": \"Q\"}, {\"PassengerId\": 280, \"Survived\": 1, \"Pclass\": 3, \"Name\": \"Abbott, Mrs. Stanton (Rosa Hunt)\", \"Sex\": \"female\", \"Age\": 35.0, \"SibSp\": 1, \"Parch\": 1, \"Ticket\": \"C.A. 2673\", \"Fare\": 20.25, \"Cabin\": null, \"Embarked\": \"S\"}, {\"PassengerId\": 281, \"Survived\": 0, \"Pclass\": 3, \"Name\": \"Duane, Mr. Frank\", \"Sex\": \"male\", \"Age\": 65.0, \"SibSp\": 0, \"Parch\": 0, \"Ticket\": \"336439\", \"Fare\": 7.75, \"Cabin\": null, \"Embarked\": \"Q\"}, {\"PassengerId\": 282, \"Survived\": 0, \"Pclass\": 3, \"Name\": \"Olsson, Mr. Nils Johan Goransson\", \"Sex\": \"male\", \"Age\": 28.0, \"SibSp\": 0, \"Parch\": 0, \"Ticket\": \"347464\", \"Fare\": 7.8542, \"Cabin\": null, \"Embarked\": \"S\"}, {\"PassengerId\": 283, \"Survived\": 0, \"Pclass\": 3, \"Name\": \"de Pelsmaeker, Mr. Alfons\", \"Sex\": \"male\", \"Age\": 16.0, \"SibSp\": 0, \"Parch\": 0, \"Ticket\": \"345778\", \"Fare\": 9.5, \"Cabin\": null, \"Embarked\": \"S\"}, {\"PassengerId\": 284, \"Survived\": 1, \"Pclass\": 3, \"Name\": \"Dorking, Mr. Edward Arthur\", \"Sex\": \"male\", \"Age\": 19.0, \"SibSp\": 0, \"Parch\": 0, \"Ticket\": \"A/5. 10482\", \"Fare\": 8.05, \"Cabin\": null, \"Embarked\": \"S\"}, {\"PassengerId\": 285, \"Survived\": 0, \"Pclass\": 1, \"Name\": \"Smith, Mr. Richard William\", \"Sex\": \"male\", \"Age\": null, \"SibSp\": 0, \"Parch\": 0, \"Ticket\": \"113056\", \"Fare\": 26.0, \"Cabin\": \"A19\", \"Embarked\": \"S\"}, {\"PassengerId\": 286, \"Survived\": 0, \"Pclass\": 3, \"Name\": \"Stankovic, Mr. Ivan\", \"Sex\": \"male\", \"Age\": 33.0, \"SibSp\": 0, \"Parch\": 0, \"Ticket\": \"349239\", \"Fare\": 8.6625, \"Cabin\": null, \"Embarked\": \"C\"}, {\"PassengerId\": 287, \"Survived\": 1, \"Pclass\": 3, \"Name\": \"de Mulder, Mr. Theodore\", \"Sex\": \"male\", \"Age\": 30.0, \"SibSp\": 0, \"Parch\": 0, \"Ticket\": \"345774\", \"Fare\": 9.5, \"Cabin\": null, \"Embarked\": \"S\"}, {\"PassengerId\": 288, \"Survived\": 0, \"Pclass\": 3, \"Name\": \"Naidenoff, Mr. Penko\", \"Sex\": \"male\", \"Age\": 22.0, \"SibSp\": 0, \"Parch\": 0, \"Ticket\": \"349206\", \"Fare\": 7.8958, \"Cabin\": null, \"Embarked\": \"S\"}, {\"PassengerId\": 289, \"Survived\": 1, \"Pclass\": 2, \"Name\": \"Hosono, Mr. Masabumi\", \"Sex\": \"male\", \"Age\": 42.0, \"SibSp\": 0, \"Parch\": 0, \"Ticket\": \"237798\", \"Fare\": 13.0, \"Cabin\": null, \"Embarked\": \"S\"}, {\"PassengerId\": 290, \"Survived\": 1, \"Pclass\": 3, \"Name\": \"Connolly, Miss. Kate\", \"Sex\": \"female\", \"Age\": 22.0, \"SibSp\": 0, \"Parch\": 0, \"Ticket\": \"370373\", \"Fare\": 7.75, \"Cabin\": null, \"Embarked\": \"Q\"}, {\"PassengerId\": 291, \"Survived\": 1, \"Pclass\": 1, \"Name\": \"Barber, Miss. Ellen \\\"Nellie\\\"\", \"Sex\": \"female\", \"Age\": 26.0, \"SibSp\": 0, \"Parch\": 0, \"Ticket\": \"19877\", \"Fare\": 78.85, \"Cabin\": null, \"Embarked\": \"S\"}, {\"PassengerId\": 292, \"Survived\": 1, \"Pclass\": 1, \"Name\": \"Bishop, Mrs. Dickinson H (Helen Walton)\", \"Sex\": \"female\", \"Age\": 19.0, \"SibSp\": 1, \"Parch\": 0, \"Ticket\": \"11967\", \"Fare\": 91.0792, \"Cabin\": \"B49\", \"Embarked\": \"C\"}, {\"PassengerId\": 293, \"Survived\": 0, \"Pclass\": 2, \"Name\": \"Levy, Mr. Rene Jacques\", \"Sex\": \"male\", \"Age\": 36.0, \"SibSp\": 0, \"Parch\": 0, \"Ticket\": \"SC/Paris 2163\", \"Fare\": 12.875, \"Cabin\": \"D\", \"Embarked\": \"C\"}, {\"PassengerId\": 294, \"Survived\": 0, \"Pclass\": 3, \"Name\": \"Haas, Miss. Aloisia\", \"Sex\": \"female\", \"Age\": 24.0, \"SibSp\": 0, \"Parch\": 0, \"Ticket\": \"349236\", \"Fare\": 8.85, \"Cabin\": null, \"Embarked\": \"S\"}, {\"PassengerId\": 295, \"Survived\": 0, \"Pclass\": 3, \"Name\": \"Mineff, Mr. Ivan\", \"Sex\": \"male\", \"Age\": 24.0, \"SibSp\": 0, \"Parch\": 0, \"Ticket\": \"349233\", \"Fare\": 7.8958, \"Cabin\": null, \"Embarked\": \"S\"}, {\"PassengerId\": 296, \"Survived\": 0, \"Pclass\": 1, \"Name\": \"Lewy, Mr. Ervin G\", \"Sex\": \"male\", \"Age\": null, \"SibSp\": 0, \"Parch\": 0, \"Ticket\": \"PC 17612\", \"Fare\": 27.7208, \"Cabin\": null, \"Embarked\": \"C\"}, {\"PassengerId\": 297, \"Survived\": 0, \"Pclass\": 3, \"Name\": \"Hanna, Mr. Mansour\", \"Sex\": \"male\", \"Age\": 23.5, \"SibSp\": 0, \"Parch\": 0, \"Ticket\": \"2693\", \"Fare\": 7.2292, \"Cabin\": null, \"Embarked\": \"C\"}, {\"PassengerId\": 298, \"Survived\": 0, \"Pclass\": 1, \"Name\": \"Allison, Miss. Helen Loraine\", \"Sex\": \"female\", \"Age\": 2.0, \"SibSp\": 1, \"Parch\": 2, \"Ticket\": \"113781\", \"Fare\": 151.55, \"Cabin\": \"C22 C26\", \"Embarked\": \"S\"}, {\"PassengerId\": 299, \"Survived\": 1, \"Pclass\": 1, \"Name\": \"Saalfeld, Mr. Adolphe\", \"Sex\": \"male\", \"Age\": null, \"SibSp\": 0, \"Parch\": 0, \"Ticket\": \"19988\", \"Fare\": 30.5, \"Cabin\": \"C106\", \"Embarked\": \"S\"}, {\"PassengerId\": 300, \"Survived\": 1, \"Pclass\": 1, \"Name\": \"Baxter, Mrs. James (Helene DeLaudeniere Chaput)\", \"Sex\": \"female\", \"Age\": 50.0, \"SibSp\": 0, \"Parch\": 1, \"Ticket\": \"PC 17558\", \"Fare\": 247.5208, \"Cabin\": \"B58 B60\", \"Embarked\": \"C\"}, {\"PassengerId\": 301, \"Survived\": 1, \"Pclass\": 3, \"Name\": \"Kelly, Miss. Anna Katherine \\\"Annie Kate\\\"\", \"Sex\": \"female\", \"Age\": null, \"SibSp\": 0, \"Parch\": 0, \"Ticket\": \"9234\", \"Fare\": 7.75, \"Cabin\": null, \"Embarked\": \"Q\"}, {\"PassengerId\": 302, \"Survived\": 1, \"Pclass\": 3, \"Name\": \"McCoy, Mr. Bernard\", \"Sex\": \"male\", \"Age\": null, \"SibSp\": 2, \"Parch\": 0, \"Ticket\": \"367226\", \"Fare\": 23.25, \"Cabin\": null, \"Embarked\": \"Q\"}, {\"PassengerId\": 303, \"Survived\": 0, \"Pclass\": 3, \"Name\": \"Johnson, Mr. William Cahoone Jr\", \"Sex\": \"male\", \"Age\": 19.0, \"SibSp\": 0, \"Parch\": 0, \"Ticket\": \"LINE\", \"Fare\": 0.0, \"Cabin\": null, \"Embarked\": \"S\"}, {\"PassengerId\": 304, \"Survived\": 1, \"Pclass\": 2, \"Name\": \"Keane, Miss. Nora A\", \"Sex\": \"female\", \"Age\": null, \"SibSp\": 0, \"Parch\": 0, \"Ticket\": \"226593\", \"Fare\": 12.35, \"Cabin\": \"E101\", \"Embarked\": \"Q\"}, {\"PassengerId\": 305, \"Survived\": 0, \"Pclass\": 3, \"Name\": \"Williams, Mr. Howard Hugh \\\"Harry\\\"\", \"Sex\": \"male\", \"Age\": null, \"SibSp\": 0, \"Parch\": 0, \"Ticket\": \"A/5 2466\", \"Fare\": 8.05, \"Cabin\": null, \"Embarked\": \"S\"}, {\"PassengerId\": 306, \"Survived\": 1, \"Pclass\": 1, \"Name\": \"Allison, Master. Hudson Trevor\", \"Sex\": \"male\", \"Age\": 0.92, \"SibSp\": 1, \"Parch\": 2, \"Ticket\": \"113781\", \"Fare\": 151.55, \"Cabin\": \"C22 C26\", \"Embarked\": \"S\"}, {\"PassengerId\": 307, \"Survived\": 1, \"Pclass\": 1, \"Name\": \"Fleming, Miss. Margaret\", \"Sex\": \"female\", \"Age\": null, \"SibSp\": 0, \"Parch\": 0, \"Ticket\": \"17421\", \"Fare\": 110.8833, \"Cabin\": null, \"Embarked\": \"C\"}, {\"PassengerId\": 308, \"Survived\": 1, \"Pclass\": 1, \"Name\": \"Penasco y Castellana, Mrs. Victor de Satode (Maria Josefa Perez de Soto y Vallejo)\", \"Sex\": \"female\", \"Age\": 17.0, \"SibSp\": 1, \"Parch\": 0, \"Ticket\": \"PC 17758\", \"Fare\": 108.9, \"Cabin\": \"C65\", \"Embarked\": \"C\"}, {\"PassengerId\": 309, \"Survived\": 0, \"Pclass\": 2, \"Name\": \"Abelson, Mr. Samuel\", \"Sex\": \"male\", \"Age\": 30.0, \"SibSp\": 1, \"Parch\": 0, \"Ticket\": \"P/PP 3381\", \"Fare\": 24.0, \"Cabin\": null, \"Embarked\": \"C\"}, {\"PassengerId\": 310, \"Survived\": 1, \"Pclass\": 1, \"Name\": \"Francatelli, Miss. Laura Mabel\", \"Sex\": \"female\", \"Age\": 30.0, \"SibSp\": 0, \"Parch\": 0, \"Ticket\": \"PC 17485\", \"Fare\": 56.9292, \"Cabin\": \"E36\", \"Embarked\": \"C\"}, {\"PassengerId\": 311, \"Survived\": 1, \"Pclass\": 1, \"Name\": \"Hays, Miss. Margaret Bechstein\", \"Sex\": \"female\", \"Age\": 24.0, \"SibSp\": 0, \"Parch\": 0, \"Ticket\": \"11767\", \"Fare\": 83.1583, \"Cabin\": \"C54\", \"Embarked\": \"C\"}, {\"PassengerId\": 312, \"Survived\": 1, \"Pclass\": 1, \"Name\": \"Ryerson, Miss. Emily Borie\", \"Sex\": \"female\", \"Age\": 18.0, \"SibSp\": 2, \"Parch\": 2, \"Ticket\": \"PC 17608\", \"Fare\": 262.375, \"Cabin\": \"B57 B59 B63 B66\", \"Embarked\": \"C\"}, {\"PassengerId\": 313, \"Survived\": 0, \"Pclass\": 2, \"Name\": \"Lahtinen, Mrs. William (Anna Sylfven)\", \"Sex\": \"female\", \"Age\": 26.0, \"SibSp\": 1, \"Parch\": 1, \"Ticket\": \"250651\", \"Fare\": 26.0, \"Cabin\": null, \"Embarked\": \"S\"}, {\"PassengerId\": 314, \"Survived\": 0, \"Pclass\": 3, \"Name\": \"Hendekovic, Mr. Ignjac\", \"Sex\": \"male\", \"Age\": 28.0, \"SibSp\": 0, \"Parch\": 0, \"Ticket\": \"349243\", \"Fare\": 7.8958, \"Cabin\": null, \"Embarked\": \"S\"}, {\"PassengerId\": 315, \"Survived\": 0, \"Pclass\": 2, \"Name\": \"Hart, Mr. Benjamin\", \"Sex\": \"male\", \"Age\": 43.0, \"SibSp\": 1, \"Parch\": 1, \"Ticket\": \"F.C.C. 13529\", \"Fare\": 26.25, \"Cabin\": null, \"Embarked\": \"S\"}, {\"PassengerId\": 316, \"Survived\": 1, \"Pclass\": 3, \"Name\": \"Nilsson, Miss. Helmina Josefina\", \"Sex\": \"female\", \"Age\": 26.0, \"SibSp\": 0, \"Parch\": 0, \"Ticket\": \"347470\", \"Fare\": 7.8542, \"Cabin\": null, \"Embarked\": \"S\"}, {\"PassengerId\": 317, \"Survived\": 1, \"Pclass\": 2, \"Name\": \"Kantor, Mrs. Sinai (Miriam Sternin)\", \"Sex\": \"female\", \"Age\": 24.0, \"SibSp\": 1, \"Parch\": 0, \"Ticket\": \"244367\", \"Fare\": 26.0, \"Cabin\": null, \"Embarked\": \"S\"}, {\"PassengerId\": 318, \"Survived\": 0, \"Pclass\": 2, \"Name\": \"Moraweck, Dr. Ernest\", \"Sex\": \"male\", \"Age\": 54.0, \"SibSp\": 0, \"Parch\": 0, \"Ticket\": \"29011\", \"Fare\": 14.0, \"Cabin\": null, \"Embarked\": \"S\"}, {\"PassengerId\": 319, \"Survived\": 1, \"Pclass\": 1, \"Name\": \"Wick, Miss. Mary Natalie\", \"Sex\": \"female\", \"Age\": 31.0, \"SibSp\": 0, \"Parch\": 2, \"Ticket\": \"36928\", \"Fare\": 164.8667, \"Cabin\": \"C7\", \"Embarked\": \"S\"}, {\"PassengerId\": 320, \"Survived\": 1, \"Pclass\": 1, \"Name\": \"Spedden, Mrs. Frederic Oakley (Margaretta Corning Stone)\", \"Sex\": \"female\", \"Age\": 40.0, \"SibSp\": 1, \"Parch\": 1, \"Ticket\": \"16966\", \"Fare\": 134.5, \"Cabin\": \"E34\", \"Embarked\": \"C\"}, {\"PassengerId\": 321, \"Survived\": 0, \"Pclass\": 3, \"Name\": \"Dennis, Mr. Samuel\", \"Sex\": \"male\", \"Age\": 22.0, \"SibSp\": 0, \"Parch\": 0, \"Ticket\": \"A/5 21172\", \"Fare\": 7.25, \"Cabin\": null, \"Embarked\": \"S\"}, {\"PassengerId\": 322, \"Survived\": 0, \"Pclass\": 3, \"Name\": \"Danoff, Mr. Yoto\", \"Sex\": \"male\", \"Age\": 27.0, \"SibSp\": 0, \"Parch\": 0, \"Ticket\": \"349219\", \"Fare\": 7.8958, \"Cabin\": null, \"Embarked\": \"S\"}, {\"PassengerId\": 323, \"Survived\": 1, \"Pclass\": 2, \"Name\": \"Slayter, Miss. Hilda Mary\", \"Sex\": \"female\", \"Age\": 30.0, \"SibSp\": 0, \"Parch\": 0, \"Ticket\": \"234818\", \"Fare\": 12.35, \"Cabin\": null, \"Embarked\": \"Q\"}, {\"PassengerId\": 324, \"Survived\": 1, \"Pclass\": 2, \"Name\": \"Caldwell, Mrs. Albert Francis (Sylvia Mae Harbaugh)\", \"Sex\": \"female\", \"Age\": 22.0, \"SibSp\": 1, \"Parch\": 1, \"Ticket\": \"248738\", \"Fare\": 29.0, \"Cabin\": null, \"Embarked\": \"S\"}, {\"PassengerId\": 325, \"Survived\": 0, \"Pclass\": 3, \"Name\": \"Sage, Mr. George John Jr\", \"Sex\": \"male\", \"Age\": null, \"SibSp\": 8, \"Parch\": 2, \"Ticket\": \"CA. 2343\", \"Fare\": 69.55, \"Cabin\": null, \"Embarked\": \"S\"}, {\"PassengerId\": 326, \"Survived\": 1, \"Pclass\": 1, \"Name\": \"Young, Miss. Marie Grice\", \"Sex\": \"female\", \"Age\": 36.0, \"SibSp\": 0, \"Parch\": 0, \"Ticket\": \"PC 17760\", \"Fare\": 135.6333, \"Cabin\": \"C32\", \"Embarked\": \"C\"}, {\"PassengerId\": 327, \"Survived\": 0, \"Pclass\": 3, \"Name\": \"Nysveen, Mr. Johan Hansen\", \"Sex\": \"male\", \"Age\": 61.0, \"SibSp\": 0, \"Parch\": 0, \"Ticket\": \"345364\", \"Fare\": 6.2375, \"Cabin\": null, \"Embarked\": \"S\"}, {\"PassengerId\": 328, \"Survived\": 1, \"Pclass\": 2, \"Name\": \"Ball, Mrs. (Ada E Hall)\", \"Sex\": \"female\", \"Age\": 36.0, \"SibSp\": 0, \"Parch\": 0, \"Ticket\": \"28551\", \"Fare\": 13.0, \"Cabin\": \"D\", \"Embarked\": \"S\"}, {\"PassengerId\": 329, \"Survived\": 1, \"Pclass\": 3, \"Name\": \"Goldsmith, Mrs. Frank John (Emily Alice Brown)\", \"Sex\": \"female\", \"Age\": 31.0, \"SibSp\": 1, \"Parch\": 1, \"Ticket\": \"363291\", \"Fare\": 20.525, \"Cabin\": null, \"Embarked\": \"S\"}, {\"PassengerId\": 330, \"Survived\": 1, \"Pclass\": 1, \"Name\": \"Hippach, Miss. Jean Gertrude\", \"Sex\": \"female\", \"Age\": 16.0, \"SibSp\": 0, \"Parch\": 1, \"Ticket\": \"111361\", \"Fare\": 57.9792, \"Cabin\": \"B18\", \"Embarked\": \"C\"}, {\"PassengerId\": 331, \"Survived\": 1, \"Pclass\": 3, \"Name\": \"McCoy, Miss. Agnes\", \"Sex\": \"female\", \"Age\": null, \"SibSp\": 2, \"Parch\": 0, \"Ticket\": \"367226\", \"Fare\": 23.25, \"Cabin\": null, \"Embarked\": \"Q\"}, {\"PassengerId\": 332, \"Survived\": 0, \"Pclass\": 1, \"Name\": \"Partner, Mr. Austen\", \"Sex\": \"male\", \"Age\": 45.5, \"SibSp\": 0, \"Parch\": 0, \"Ticket\": \"113043\", \"Fare\": 28.5, \"Cabin\": \"C124\", \"Embarked\": \"S\"}, {\"PassengerId\": 333, \"Survived\": 0, \"Pclass\": 1, \"Name\": \"Graham, Mr. George Edward\", \"Sex\": \"male\", \"Age\": 38.0, \"SibSp\": 0, \"Parch\": 1, \"Ticket\": \"PC 17582\", \"Fare\": 153.4625, \"Cabin\": \"C91\", \"Embarked\": \"S\"}, {\"PassengerId\": 334, \"Survived\": 0, \"Pclass\": 3, \"Name\": \"Vander Planke, Mr. Leo Edmondus\", \"Sex\": \"male\", \"Age\": 16.0, \"SibSp\": 2, \"Parch\": 0, \"Ticket\": \"345764\", \"Fare\": 18.0, \"Cabin\": null, \"Embarked\": \"S\"}, {\"PassengerId\": 335, \"Survived\": 1, \"Pclass\": 1, \"Name\": \"Frauenthal, Mrs. Henry William (Clara Heinsheimer)\", \"Sex\": \"female\", \"Age\": null, \"SibSp\": 1, \"Parch\": 0, \"Ticket\": \"PC 17611\", \"Fare\": 133.65, \"Cabin\": null, \"Embarked\": \"S\"}, {\"PassengerId\": 336, \"Survived\": 0, \"Pclass\": 3, \"Name\": \"Denkoff, Mr. Mitto\", \"Sex\": \"male\", \"Age\": null, \"SibSp\": 0, \"Parch\": 0, \"Ticket\": \"349225\", \"Fare\": 7.8958, \"Cabin\": null, \"Embarked\": \"S\"}, {\"PassengerId\": 337, \"Survived\": 0, \"Pclass\": 1, \"Name\": \"Pears, Mr. Thomas Clinton\", \"Sex\": \"male\", \"Age\": 29.0, \"SibSp\": 1, \"Parch\": 0, \"Ticket\": \"113776\", \"Fare\": 66.6, \"Cabin\": \"C2\", \"Embarked\": \"S\"}, {\"PassengerId\": 338, \"Survived\": 1, \"Pclass\": 1, \"Name\": \"Burns, Miss. Elizabeth Margaret\", \"Sex\": \"female\", \"Age\": 41.0, \"SibSp\": 0, \"Parch\": 0, \"Ticket\": \"16966\", \"Fare\": 134.5, \"Cabin\": \"E40\", \"Embarked\": \"C\"}, {\"PassengerId\": 339, \"Survived\": 1, \"Pclass\": 3, \"Name\": \"Dahl, Mr. Karl Edwart\", \"Sex\": \"male\", \"Age\": 45.0, \"SibSp\": 0, \"Parch\": 0, \"Ticket\": \"7598\", \"Fare\": 8.05, \"Cabin\": null, \"Embarked\": \"S\"}, {\"PassengerId\": 340, \"Survived\": 0, \"Pclass\": 1, \"Name\": \"Blackwell, Mr. Stephen Weart\", \"Sex\": \"male\", \"Age\": 45.0, \"SibSp\": 0, \"Parch\": 0, \"Ticket\": \"113784\", \"Fare\": 35.5, \"Cabin\": \"T\", \"Embarked\": \"S\"}, {\"PassengerId\": 341, \"Survived\": 1, \"Pclass\": 2, \"Name\": \"Navratil, Master. Edmond Roger\", \"Sex\": \"male\", \"Age\": 2.0, \"SibSp\": 1, \"Parch\": 1, \"Ticket\": \"230080\", \"Fare\": 26.0, \"Cabin\": \"F2\", \"Embarked\": \"S\"}, {\"PassengerId\": 342, \"Survived\": 1, \"Pclass\": 1, \"Name\": \"Fortune, Miss. Alice Elizabeth\", \"Sex\": \"female\", \"Age\": 24.0, \"SibSp\": 3, \"Parch\": 2, \"Ticket\": \"19950\", \"Fare\": 263.0, \"Cabin\": \"C23 C25 C27\", \"Embarked\": \"S\"}, {\"PassengerId\": 343, \"Survived\": 0, \"Pclass\": 2, \"Name\": \"Collander, Mr. Erik Gustaf\", \"Sex\": \"male\", \"Age\": 28.0, \"SibSp\": 0, \"Parch\": 0, \"Ticket\": \"248740\", \"Fare\": 13.0, \"Cabin\": null, \"Embarked\": \"S\"}, {\"PassengerId\": 344, \"Survived\": 0, \"Pclass\": 2, \"Name\": \"Sedgwick, Mr. Charles Frederick Waddington\", \"Sex\": \"male\", \"Age\": 25.0, \"SibSp\": 0, \"Parch\": 0, \"Ticket\": \"244361\", \"Fare\": 13.0, \"Cabin\": null, \"Embarked\": \"S\"}, {\"PassengerId\": 345, \"Survived\": 0, \"Pclass\": 2, \"Name\": \"Fox, Mr. Stanley Hubert\", \"Sex\": \"male\", \"Age\": 36.0, \"SibSp\": 0, \"Parch\": 0, \"Ticket\": \"229236\", \"Fare\": 13.0, \"Cabin\": null, \"Embarked\": \"S\"}, {\"PassengerId\": 346, \"Survived\": 1, \"Pclass\": 2, \"Name\": \"Brown, Miss. Amelia \\\"Mildred\\\"\", \"Sex\": \"female\", \"Age\": 24.0, \"SibSp\": 0, \"Parch\": 0, \"Ticket\": \"248733\", \"Fare\": 13.0, \"Cabin\": \"F33\", \"Embarked\": \"S\"}, {\"PassengerId\": 347, \"Survived\": 1, \"Pclass\": 2, \"Name\": \"Smith, Miss. Marion Elsie\", \"Sex\": \"female\", \"Age\": 40.0, \"SibSp\": 0, \"Parch\": 0, \"Ticket\": \"31418\", \"Fare\": 13.0, \"Cabin\": null, \"Embarked\": \"S\"}, {\"PassengerId\": 348, \"Survived\": 1, \"Pclass\": 3, \"Name\": \"Davison, Mrs. Thomas Henry (Mary E Finck)\", \"Sex\": \"female\", \"Age\": null, \"SibSp\": 1, \"Parch\": 0, \"Ticket\": \"386525\", \"Fare\": 16.1, \"Cabin\": null, \"Embarked\": \"S\"}, {\"PassengerId\": 349, \"Survived\": 1, \"Pclass\": 3, \"Name\": \"Coutts, Master. William Loch \\\"William\\\"\", \"Sex\": \"male\", \"Age\": 3.0, \"SibSp\": 1, \"Parch\": 1, \"Ticket\": \"C.A. 37671\", \"Fare\": 15.9, \"Cabin\": null, \"Embarked\": \"S\"}, {\"PassengerId\": 350, \"Survived\": 0, \"Pclass\": 3, \"Name\": \"Dimic, Mr. Jovan\", \"Sex\": \"male\", \"Age\": 42.0, \"SibSp\": 0, \"Parch\": 0, \"Ticket\": \"315088\", \"Fare\": 8.6625, \"Cabin\": null, \"Embarked\": \"S\"}, {\"PassengerId\": 351, \"Survived\": 0, \"Pclass\": 3, \"Name\": \"Odahl, Mr. Nils Martin\", \"Sex\": \"male\", \"Age\": 23.0, \"SibSp\": 0, \"Parch\": 0, \"Ticket\": \"7267\", \"Fare\": 9.225, \"Cabin\": null, \"Embarked\": \"S\"}, {\"PassengerId\": 352, \"Survived\": 0, \"Pclass\": 1, \"Name\": \"Williams-Lambert, Mr. Fletcher Fellows\", \"Sex\": \"male\", \"Age\": null, \"SibSp\": 0, \"Parch\": 0, \"Ticket\": \"113510\", \"Fare\": 35.0, \"Cabin\": \"C128\", \"Embarked\": \"S\"}, {\"PassengerId\": 353, \"Survived\": 0, \"Pclass\": 3, \"Name\": \"Elias, Mr. Tannous\", \"Sex\": \"male\", \"Age\": 15.0, \"SibSp\": 1, \"Parch\": 1, \"Ticket\": \"2695\", \"Fare\": 7.2292, \"Cabin\": null, \"Embarked\": \"C\"}, {\"PassengerId\": 354, \"Survived\": 0, \"Pclass\": 3, \"Name\": \"Arnold-Franchi, Mr. Josef\", \"Sex\": \"male\", \"Age\": 25.0, \"SibSp\": 1, \"Parch\": 0, \"Ticket\": \"349237\", \"Fare\": 17.8, \"Cabin\": null, \"Embarked\": \"S\"}, {\"PassengerId\": 355, \"Survived\": 0, \"Pclass\": 3, \"Name\": \"Yousif, Mr. Wazli\", \"Sex\": \"male\", \"Age\": null, \"SibSp\": 0, \"Parch\": 0, \"Ticket\": \"2647\", \"Fare\": 7.225, \"Cabin\": null, \"Embarked\": \"C\"}, {\"PassengerId\": 356, \"Survived\": 0, \"Pclass\": 3, \"Name\": \"Vanden Steen, Mr. Leo Peter\", \"Sex\": \"male\", \"Age\": 28.0, \"SibSp\": 0, \"Parch\": 0, \"Ticket\": \"345783\", \"Fare\": 9.5, \"Cabin\": null, \"Embarked\": \"S\"}, {\"PassengerId\": 357, \"Survived\": 1, \"Pclass\": 1, \"Name\": \"Bowerman, Miss. Elsie Edith\", \"Sex\": \"female\", \"Age\": 22.0, \"SibSp\": 0, \"Parch\": 1, \"Ticket\": \"113505\", \"Fare\": 55.0, \"Cabin\": \"E33\", \"Embarked\": \"S\"}, {\"PassengerId\": 358, \"Survived\": 0, \"Pclass\": 2, \"Name\": \"Funk, Miss. Annie Clemmer\", \"Sex\": \"female\", \"Age\": 38.0, \"SibSp\": 0, \"Parch\": 0, \"Ticket\": \"237671\", \"Fare\": 13.0, \"Cabin\": null, \"Embarked\": \"S\"}, {\"PassengerId\": 359, \"Survived\": 1, \"Pclass\": 3, \"Name\": \"McGovern, Miss. Mary\", \"Sex\": \"female\", \"Age\": null, \"SibSp\": 0, \"Parch\": 0, \"Ticket\": \"330931\", \"Fare\": 7.8792, \"Cabin\": null, \"Embarked\": \"Q\"}, {\"PassengerId\": 360, \"Survived\": 1, \"Pclass\": 3, \"Name\": \"Mockler, Miss. Helen Mary \\\"Ellie\\\"\", \"Sex\": \"female\", \"Age\": null, \"SibSp\": 0, \"Parch\": 0, \"Ticket\": \"330980\", \"Fare\": 7.8792, \"Cabin\": null, \"Embarked\": \"Q\"}, {\"PassengerId\": 361, \"Survived\": 0, \"Pclass\": 3, \"Name\": \"Skoog, Mr. Wilhelm\", \"Sex\": \"male\", \"Age\": 40.0, \"SibSp\": 1, \"Parch\": 4, \"Ticket\": \"347088\", \"Fare\": 27.9, \"Cabin\": null, \"Embarked\": \"S\"}, {\"PassengerId\": 362, \"Survived\": 0, \"Pclass\": 2, \"Name\": \"del Carlo, Mr. Sebastiano\", \"Sex\": \"male\", \"Age\": 29.0, \"SibSp\": 1, \"Parch\": 0, \"Ticket\": \"SC/PARIS 2167\", \"Fare\": 27.7208, \"Cabin\": null, \"Embarked\": \"C\"}, {\"PassengerId\": 363, \"Survived\": 0, \"Pclass\": 3, \"Name\": \"Barbara, Mrs. (Catherine David)\", \"Sex\": \"female\", \"Age\": 45.0, \"SibSp\": 0, \"Parch\": 1, \"Ticket\": \"2691\", \"Fare\": 14.4542, \"Cabin\": null, \"Embarked\": \"C\"}, {\"PassengerId\": 364, \"Survived\": 0, \"Pclass\": 3, \"Name\": \"Asim, Mr. Adola\", \"Sex\": \"male\", \"Age\": 35.0, \"SibSp\": 0, \"Parch\": 0, \"Ticket\": \"SOTON/O.Q. 3101310\", \"Fare\": 7.05, \"Cabin\": null, \"Embarked\": \"S\"}, {\"PassengerId\": 365, \"Survived\": 0, \"Pclass\": 3, \"Name\": \"O'Brien, Mr. Thomas\", \"Sex\": \"male\", \"Age\": null, \"SibSp\": 1, \"Parch\": 0, \"Ticket\": \"370365\", \"Fare\": 15.5, \"Cabin\": null, \"Embarked\": \"Q\"}, {\"PassengerId\": 366, \"Survived\": 0, \"Pclass\": 3, \"Name\": \"Adahl, Mr. Mauritz Nils Martin\", \"Sex\": \"male\", \"Age\": 30.0, \"SibSp\": 0, \"Parch\": 0, \"Ticket\": \"C 7076\", \"Fare\": 7.25, \"Cabin\": null, \"Embarked\": \"S\"}, {\"PassengerId\": 367, \"Survived\": 1, \"Pclass\": 1, \"Name\": \"Warren, Mrs. Frank Manley (Anna Sophia Atkinson)\", \"Sex\": \"female\", \"Age\": 60.0, \"SibSp\": 1, \"Parch\": 0, \"Ticket\": \"110813\", \"Fare\": 75.25, \"Cabin\": \"D37\", \"Embarked\": \"C\"}, {\"PassengerId\": 368, \"Survived\": 1, \"Pclass\": 3, \"Name\": \"Moussa, Mrs. (Mantoura Boulos)\", \"Sex\": \"female\", \"Age\": null, \"SibSp\": 0, \"Parch\": 0, \"Ticket\": \"2626\", \"Fare\": 7.2292, \"Cabin\": null, \"Embarked\": \"C\"}, {\"PassengerId\": 369, \"Survived\": 1, \"Pclass\": 3, \"Name\": \"Jermyn, Miss. Annie\", \"Sex\": \"female\", \"Age\": null, \"SibSp\": 0, \"Parch\": 0, \"Ticket\": \"14313\", \"Fare\": 7.75, \"Cabin\": null, \"Embarked\": \"Q\"}, {\"PassengerId\": 370, \"Survived\": 1, \"Pclass\": 1, \"Name\": \"Aubart, Mme. Leontine Pauline\", \"Sex\": \"female\", \"Age\": 24.0, \"SibSp\": 0, \"Parch\": 0, \"Ticket\": \"PC 17477\", \"Fare\": 69.3, \"Cabin\": \"B35\", \"Embarked\": \"C\"}, {\"PassengerId\": 371, \"Survived\": 1, \"Pclass\": 1, \"Name\": \"Harder, Mr. George Achilles\", \"Sex\": \"male\", \"Age\": 25.0, \"SibSp\": 1, \"Parch\": 0, \"Ticket\": \"11765\", \"Fare\": 55.4417, \"Cabin\": \"E50\", \"Embarked\": \"C\"}, {\"PassengerId\": 372, \"Survived\": 0, \"Pclass\": 3, \"Name\": \"Wiklund, Mr. Jakob Alfred\", \"Sex\": \"male\", \"Age\": 18.0, \"SibSp\": 1, \"Parch\": 0, \"Ticket\": \"3101267\", \"Fare\": 6.4958, \"Cabin\": null, \"Embarked\": \"S\"}, {\"PassengerId\": 373, \"Survived\": 0, \"Pclass\": 3, \"Name\": \"Beavan, Mr. William Thomas\", \"Sex\": \"male\", \"Age\": 19.0, \"SibSp\": 0, \"Parch\": 0, \"Ticket\": \"323951\", \"Fare\": 8.05, \"Cabin\": null, \"Embarked\": \"S\"}, {\"PassengerId\": 374, \"Survived\": 0, \"Pclass\": 1, \"Name\": \"Ringhini, Mr. Sante\", \"Sex\": \"male\", \"Age\": 22.0, \"SibSp\": 0, \"Parch\": 0, \"Ticket\": \"PC 17760\", \"Fare\": 135.6333, \"Cabin\": null, \"Embarked\": \"C\"}, {\"PassengerId\": 375, \"Survived\": 0, \"Pclass\": 3, \"Name\": \"Palsson, Miss. Stina Viola\", \"Sex\": \"female\", \"Age\": 3.0, \"SibSp\": 3, \"Parch\": 1, \"Ticket\": \"349909\", \"Fare\": 21.075, \"Cabin\": null, \"Embarked\": \"S\"}, {\"PassengerId\": 376, \"Survived\": 1, \"Pclass\": 1, \"Name\": \"Meyer, Mrs. Edgar Joseph (Leila Saks)\", \"Sex\": \"female\", \"Age\": null, \"SibSp\": 1, \"Parch\": 0, \"Ticket\": \"PC 17604\", \"Fare\": 82.1708, \"Cabin\": null, \"Embarked\": \"C\"}, {\"PassengerId\": 377, \"Survived\": 1, \"Pclass\": 3, \"Name\": \"Landergren, Miss. Aurora Adelia\", \"Sex\": \"female\", \"Age\": 22.0, \"SibSp\": 0, \"Parch\": 0, \"Ticket\": \"C 7077\", \"Fare\": 7.25, \"Cabin\": null, \"Embarked\": \"S\"}, {\"PassengerId\": 378, \"Survived\": 0, \"Pclass\": 1, \"Name\": \"Widener, Mr. Harry Elkins\", \"Sex\": \"male\", \"Age\": 27.0, \"SibSp\": 0, \"Parch\": 2, \"Ticket\": \"113503\", \"Fare\": 211.5, \"Cabin\": \"C82\", \"Embarked\": \"C\"}, {\"PassengerId\": 379, \"Survived\": 0, \"Pclass\": 3, \"Name\": \"Betros, Mr. Tannous\", \"Sex\": \"male\", \"Age\": 20.0, \"SibSp\": 0, \"Parch\": 0, \"Ticket\": \"2648\", \"Fare\": 4.0125, \"Cabin\": null, \"Embarked\": \"C\"}, {\"PassengerId\": 380, \"Survived\": 0, \"Pclass\": 3, \"Name\": \"Gustafsson, Mr. Karl Gideon\", \"Sex\": \"male\", \"Age\": 19.0, \"SibSp\": 0, \"Parch\": 0, \"Ticket\": \"347069\", \"Fare\": 7.775, \"Cabin\": null, \"Embarked\": \"S\"}, {\"PassengerId\": 381, \"Survived\": 1, \"Pclass\": 1, \"Name\": \"Bidois, Miss. Rosalie\", \"Sex\": \"female\", \"Age\": 42.0, \"SibSp\": 0, \"Parch\": 0, \"Ticket\": \"PC 17757\", \"Fare\": 227.525, \"Cabin\": null, \"Embarked\": \"C\"}, {\"PassengerId\": 382, \"Survived\": 1, \"Pclass\": 3, \"Name\": \"Nakid, Miss. Maria (\\\"Mary\\\")\", \"Sex\": \"female\", \"Age\": 1.0, \"SibSp\": 0, \"Parch\": 2, \"Ticket\": \"2653\", \"Fare\": 15.7417, \"Cabin\": null, \"Embarked\": \"C\"}, {\"PassengerId\": 383, \"Survived\": 0, \"Pclass\": 3, \"Name\": \"Tikkanen, Mr. Juho\", \"Sex\": \"male\", \"Age\": 32.0, \"SibSp\": 0, \"Parch\": 0, \"Ticket\": \"STON/O 2. 3101293\", \"Fare\": 7.925, \"Cabin\": null, \"Embarked\": \"S\"}, {\"PassengerId\": 384, \"Survived\": 1, \"Pclass\": 1, \"Name\": \"Holverson, Mrs. Alexander Oskar (Mary Aline Towner)\", \"Sex\": \"female\", \"Age\": 35.0, \"SibSp\": 1, \"Parch\": 0, \"Ticket\": \"113789\", \"Fare\": 52.0, \"Cabin\": null, \"Embarked\": \"S\"}, {\"PassengerId\": 385, \"Survived\": 0, \"Pclass\": 3, \"Name\": \"Plotcharsky, Mr. Vasil\", \"Sex\": \"male\", \"Age\": null, \"SibSp\": 0, \"Parch\": 0, \"Ticket\": \"349227\", \"Fare\": 7.8958, \"Cabin\": null, \"Embarked\": \"S\"}, {\"PassengerId\": 386, \"Survived\": 0, \"Pclass\": 2, \"Name\": \"Davies, Mr. Charles Henry\", \"Sex\": \"male\", \"Age\": 18.0, \"SibSp\": 0, \"Parch\": 0, \"Ticket\": \"S.O.C. 14879\", \"Fare\": 73.5, \"Cabin\": null, \"Embarked\": \"S\"}, {\"PassengerId\": 387, \"Survived\": 0, \"Pclass\": 3, \"Name\": \"Goodwin, Master. Sidney Leonard\", \"Sex\": \"male\", \"Age\": 1.0, \"SibSp\": 5, \"Parch\": 2, \"Ticket\": \"CA 2144\", \"Fare\": 46.9, \"Cabin\": null, \"Embarked\": \"S\"}, {\"PassengerId\": 388, \"Survived\": 1, \"Pclass\": 2, \"Name\": \"Buss, Miss. Kate\", \"Sex\": \"female\", \"Age\": 36.0, \"SibSp\": 0, \"Parch\": 0, \"Ticket\": \"27849\", \"Fare\": 13.0, \"Cabin\": null, \"Embarked\": \"S\"}, {\"PassengerId\": 389, \"Survived\": 0, \"Pclass\": 3, \"Name\": \"Sadlier, Mr. Matthew\", \"Sex\": \"male\", \"Age\": null, \"SibSp\": 0, \"Parch\": 0, \"Ticket\": \"367655\", \"Fare\": 7.7292, \"Cabin\": null, \"Embarked\": \"Q\"}, {\"PassengerId\": 390, \"Survived\": 1, \"Pclass\": 2, \"Name\": \"Lehmann, Miss. Bertha\", \"Sex\": \"female\", \"Age\": 17.0, \"SibSp\": 0, \"Parch\": 0, \"Ticket\": \"SC 1748\", \"Fare\": 12.0, \"Cabin\": null, \"Embarked\": \"C\"}, {\"PassengerId\": 391, \"Survived\": 1, \"Pclass\": 1, \"Name\": \"Carter, Mr. William Ernest\", \"Sex\": \"male\", \"Age\": 36.0, \"SibSp\": 1, \"Parch\": 2, \"Ticket\": \"113760\", \"Fare\": 120.0, \"Cabin\": \"B96 B98\", \"Embarked\": \"S\"}, {\"PassengerId\": 392, \"Survived\": 1, \"Pclass\": 3, \"Name\": \"Jansson, Mr. Carl Olof\", \"Sex\": \"male\", \"Age\": 21.0, \"SibSp\": 0, \"Parch\": 0, \"Ticket\": \"350034\", \"Fare\": 7.7958, \"Cabin\": null, \"Embarked\": \"S\"}, {\"PassengerId\": 393, \"Survived\": 0, \"Pclass\": 3, \"Name\": \"Gustafsson, Mr. Johan Birger\", \"Sex\": \"male\", \"Age\": 28.0, \"SibSp\": 2, \"Parch\": 0, \"Ticket\": \"3101277\", \"Fare\": 7.925, \"Cabin\": null, \"Embarked\": \"S\"}, {\"PassengerId\": 394, \"Survived\": 1, \"Pclass\": 1, \"Name\": \"Newell, Miss. Marjorie\", \"Sex\": \"female\", \"Age\": 23.0, \"SibSp\": 1, \"Parch\": 0, \"Ticket\": \"35273\", \"Fare\": 113.275, \"Cabin\": \"D36\", \"Embarked\": \"C\"}, {\"PassengerId\": 395, \"Survived\": 1, \"Pclass\": 3, \"Name\": \"Sandstrom, Mrs. Hjalmar (Agnes Charlotta Bengtsson)\", \"Sex\": \"female\", \"Age\": 24.0, \"SibSp\": 0, \"Parch\": 2, \"Ticket\": \"PP 9549\", \"Fare\": 16.7, \"Cabin\": \"G6\", \"Embarked\": \"S\"}, {\"PassengerId\": 396, \"Survived\": 0, \"Pclass\": 3, \"Name\": \"Johansson, Mr. Erik\", \"Sex\": \"male\", \"Age\": 22.0, \"SibSp\": 0, \"Parch\": 0, \"Ticket\": \"350052\", \"Fare\": 7.7958, \"Cabin\": null, \"Embarked\": \"S\"}, {\"PassengerId\": 397, \"Survived\": 0, \"Pclass\": 3, \"Name\": \"Olsson, Miss. Elina\", \"Sex\": \"female\", \"Age\": 31.0, \"SibSp\": 0, \"Parch\": 0, \"Ticket\": \"350407\", \"Fare\": 7.8542, \"Cabin\": null, \"Embarked\": \"S\"}, {\"PassengerId\": 398, \"Survived\": 0, \"Pclass\": 2, \"Name\": \"McKane, Mr. Peter David\", \"Sex\": \"male\", \"Age\": 46.0, \"SibSp\": 0, \"Parch\": 0, \"Ticket\": \"28403\", \"Fare\": 26.0, \"Cabin\": null, \"Embarked\": \"S\"}, {\"PassengerId\": 399, \"Survived\": 0, \"Pclass\": 2, \"Name\": \"Pain, Dr. Alfred\", \"Sex\": \"male\", \"Age\": 23.0, \"SibSp\": 0, \"Parch\": 0, \"Ticket\": \"244278\", \"Fare\": 10.5, \"Cabin\": null, \"Embarked\": \"S\"}, {\"PassengerId\": 400, \"Survived\": 1, \"Pclass\": 2, \"Name\": \"Trout, Mrs. William H (Jessie L)\", \"Sex\": \"female\", \"Age\": 28.0, \"SibSp\": 0, \"Parch\": 0, \"Ticket\": \"240929\", \"Fare\": 12.65, \"Cabin\": null, \"Embarked\": \"S\"}, {\"PassengerId\": 401, \"Survived\": 1, \"Pclass\": 3, \"Name\": \"Niskanen, Mr. Juha\", \"Sex\": \"male\", \"Age\": 39.0, \"SibSp\": 0, \"Parch\": 0, \"Ticket\": \"STON/O 2. 3101289\", \"Fare\": 7.925, \"Cabin\": null, \"Embarked\": \"S\"}, {\"PassengerId\": 402, \"Survived\": 0, \"Pclass\": 3, \"Name\": \"Adams, Mr. John\", \"Sex\": \"male\", \"Age\": 26.0, \"SibSp\": 0, \"Parch\": 0, \"Ticket\": \"341826\", \"Fare\": 8.05, \"Cabin\": null, \"Embarked\": \"S\"}, {\"PassengerId\": 403, \"Survived\": 0, \"Pclass\": 3, \"Name\": \"Jussila, Miss. Mari Aina\", \"Sex\": \"female\", \"Age\": 21.0, \"SibSp\": 1, \"Parch\": 0, \"Ticket\": \"4137\", \"Fare\": 9.825, \"Cabin\": null, \"Embarked\": \"S\"}, {\"PassengerId\": 404, \"Survived\": 0, \"Pclass\": 3, \"Name\": \"Hakkarainen, Mr. Pekka Pietari\", \"Sex\": \"male\", \"Age\": 28.0, \"SibSp\": 1, \"Parch\": 0, \"Ticket\": \"STON/O2. 3101279\", \"Fare\": 15.85, \"Cabin\": null, \"Embarked\": \"S\"}, {\"PassengerId\": 405, \"Survived\": 0, \"Pclass\": 3, \"Name\": \"Oreskovic, Miss. Marija\", \"Sex\": \"female\", \"Age\": 20.0, \"SibSp\": 0, \"Parch\": 0, \"Ticket\": \"315096\", \"Fare\": 8.6625, \"Cabin\": null, \"Embarked\": \"S\"}, {\"PassengerId\": 406, \"Survived\": 0, \"Pclass\": 2, \"Name\": \"Gale, Mr. Shadrach\", \"Sex\": \"male\", \"Age\": 34.0, \"SibSp\": 1, \"Parch\": 0, \"Ticket\": \"28664\", \"Fare\": 21.0, \"Cabin\": null, \"Embarked\": \"S\"}, {\"PassengerId\": 407, \"Survived\": 0, \"Pclass\": 3, \"Name\": \"Widegren, Mr. Carl/Charles Peter\", \"Sex\": \"male\", \"Age\": 51.0, \"SibSp\": 0, \"Parch\": 0, \"Ticket\": \"347064\", \"Fare\": 7.75, \"Cabin\": null, \"Embarked\": \"S\"}, {\"PassengerId\": 408, \"Survived\": 1, \"Pclass\": 2, \"Name\": \"Richards, Master. William Rowe\", \"Sex\": \"male\", \"Age\": 3.0, \"SibSp\": 1, \"Parch\": 1, \"Ticket\": \"29106\", \"Fare\": 18.75, \"Cabin\": null, \"Embarked\": \"S\"}, {\"PassengerId\": 409, \"Survived\": 0, \"Pclass\": 3, \"Name\": \"Birkeland, Mr. Hans Martin Monsen\", \"Sex\": \"male\", \"Age\": 21.0, \"SibSp\": 0, \"Parch\": 0, \"Ticket\": \"312992\", \"Fare\": 7.775, \"Cabin\": null, \"Embarked\": \"S\"}, {\"PassengerId\": 410, \"Survived\": 0, \"Pclass\": 3, \"Name\": \"Lefebre, Miss. Ida\", \"Sex\": \"female\", \"Age\": null, \"SibSp\": 3, \"Parch\": 1, \"Ticket\": \"4133\", \"Fare\": 25.4667, \"Cabin\": null, \"Embarked\": \"S\"}, {\"PassengerId\": 411, \"Survived\": 0, \"Pclass\": 3, \"Name\": \"Sdycoff, Mr. Todor\", \"Sex\": \"male\", \"Age\": null, \"SibSp\": 0, \"Parch\": 0, \"Ticket\": \"349222\", \"Fare\": 7.8958, \"Cabin\": null, \"Embarked\": \"S\"}, {\"PassengerId\": 412, \"Survived\": 0, \"Pclass\": 3, \"Name\": \"Hart, Mr. Henry\", \"Sex\": \"male\", \"Age\": null, \"SibSp\": 0, \"Parch\": 0, \"Ticket\": \"394140\", \"Fare\": 6.8583, \"Cabin\": null, \"Embarked\": \"Q\"}, {\"PassengerId\": 413, \"Survived\": 1, \"Pclass\": 1, \"Name\": \"Minahan, Miss. Daisy E\", \"Sex\": \"female\", \"Age\": 33.0, \"SibSp\": 1, \"Parch\": 0, \"Ticket\": \"19928\", \"Fare\": 90.0, \"Cabin\": \"C78\", \"Embarked\": \"Q\"}, {\"PassengerId\": 414, \"Survived\": 0, \"Pclass\": 2, \"Name\": \"Cunningham, Mr. Alfred Fleming\", \"Sex\": \"male\", \"Age\": null, \"SibSp\": 0, \"Parch\": 0, \"Ticket\": \"239853\", \"Fare\": 0.0, \"Cabin\": null, \"Embarked\": \"S\"}, {\"PassengerId\": 415, \"Survived\": 1, \"Pclass\": 3, \"Name\": \"Sundman, Mr. Johan Julian\", \"Sex\": \"male\", \"Age\": 44.0, \"SibSp\": 0, \"Parch\": 0, \"Ticket\": \"STON/O 2. 3101269\", \"Fare\": 7.925, \"Cabin\": null, \"Embarked\": \"S\"}, {\"PassengerId\": 416, \"Survived\": 0, \"Pclass\": 3, \"Name\": \"Meek, Mrs. Thomas (Annie Louise Rowley)\", \"Sex\": \"female\", \"Age\": null, \"SibSp\": 0, \"Parch\": 0, \"Ticket\": \"343095\", \"Fare\": 8.05, \"Cabin\": null, \"Embarked\": \"S\"}, {\"PassengerId\": 417, \"Survived\": 1, \"Pclass\": 2, \"Name\": \"Drew, Mrs. James Vivian (Lulu Thorne Christian)\", \"Sex\": \"female\", \"Age\": 34.0, \"SibSp\": 1, \"Parch\": 1, \"Ticket\": \"28220\", \"Fare\": 32.5, \"Cabin\": null, \"Embarked\": \"S\"}, {\"PassengerId\": 418, \"Survived\": 1, \"Pclass\": 2, \"Name\": \"Silven, Miss. Lyyli Karoliina\", \"Sex\": \"female\", \"Age\": 18.0, \"SibSp\": 0, \"Parch\": 2, \"Ticket\": \"250652\", \"Fare\": 13.0, \"Cabin\": null, \"Embarked\": \"S\"}, {\"PassengerId\": 419, \"Survived\": 0, \"Pclass\": 2, \"Name\": \"Matthews, Mr. William John\", \"Sex\": \"male\", \"Age\": 30.0, \"SibSp\": 0, \"Parch\": 0, \"Ticket\": \"28228\", \"Fare\": 13.0, \"Cabin\": null, \"Embarked\": \"S\"}, {\"PassengerId\": 420, \"Survived\": 0, \"Pclass\": 3, \"Name\": \"Van Impe, Miss. Catharina\", \"Sex\": \"female\", \"Age\": 10.0, \"SibSp\": 0, \"Parch\": 2, \"Ticket\": \"345773\", \"Fare\": 24.15, \"Cabin\": null, \"Embarked\": \"S\"}, {\"PassengerId\": 421, \"Survived\": 0, \"Pclass\": 3, \"Name\": \"Gheorgheff, Mr. Stanio\", \"Sex\": \"male\", \"Age\": null, \"SibSp\": 0, \"Parch\": 0, \"Ticket\": \"349254\", \"Fare\": 7.8958, \"Cabin\": null, \"Embarked\": \"C\"}, {\"PassengerId\": 422, \"Survived\": 0, \"Pclass\": 3, \"Name\": \"Charters, Mr. David\", \"Sex\": \"male\", \"Age\": 21.0, \"SibSp\": 0, \"Parch\": 0, \"Ticket\": \"A/5. 13032\", \"Fare\": 7.7333, \"Cabin\": null, \"Embarked\": \"Q\"}, {\"PassengerId\": 423, \"Survived\": 0, \"Pclass\": 3, \"Name\": \"Zimmerman, Mr. Leo\", \"Sex\": \"male\", \"Age\": 29.0, \"SibSp\": 0, \"Parch\": 0, \"Ticket\": \"315082\", \"Fare\": 7.875, \"Cabin\": null, \"Embarked\": \"S\"}, {\"PassengerId\": 424, \"Survived\": 0, \"Pclass\": 3, \"Name\": \"Danbom, Mrs. Ernst Gilbert (Anna Sigrid Maria Brogren)\", \"Sex\": \"female\", \"Age\": 28.0, \"SibSp\": 1, \"Parch\": 1, \"Ticket\": \"347080\", \"Fare\": 14.4, \"Cabin\": null, \"Embarked\": \"S\"}, {\"PassengerId\": 425, \"Survived\": 0, \"Pclass\": 3, \"Name\": \"Rosblom, Mr. Viktor Richard\", \"Sex\": \"male\", \"Age\": 18.0, \"SibSp\": 1, \"Parch\": 1, \"Ticket\": \"370129\", \"Fare\": 20.2125, \"Cabin\": null, \"Embarked\": \"S\"}, {\"PassengerId\": 426, \"Survived\": 0, \"Pclass\": 3, \"Name\": \"Wiseman, Mr. Phillippe\", \"Sex\": \"male\", \"Age\": null, \"SibSp\": 0, \"Parch\": 0, \"Ticket\": \"A/4. 34244\", \"Fare\": 7.25, \"Cabin\": null, \"Embarked\": \"S\"}, {\"PassengerId\": 427, \"Survived\": 1, \"Pclass\": 2, \"Name\": \"Clarke, Mrs. Charles V (Ada Maria Winfield)\", \"Sex\": \"female\", \"Age\": 28.0, \"SibSp\": 1, \"Parch\": 0, \"Ticket\": \"2003\", \"Fare\": 26.0, \"Cabin\": null, \"Embarked\": \"S\"}, {\"PassengerId\": 428, \"Survived\": 1, \"Pclass\": 2, \"Name\": \"Phillips, Miss. Kate Florence (\\\"Mrs Kate Louise Phillips Marshall\\\")\", \"Sex\": \"female\", \"Age\": 19.0, \"SibSp\": 0, \"Parch\": 0, \"Ticket\": \"250655\", \"Fare\": 26.0, \"Cabin\": null, \"Embarked\": \"S\"}, {\"PassengerId\": 429, \"Survived\": 0, \"Pclass\": 3, \"Name\": \"Flynn, Mr. James\", \"Sex\": \"male\", \"Age\": null, \"SibSp\": 0, \"Parch\": 0, \"Ticket\": \"364851\", \"Fare\": 7.75, \"Cabin\": null, \"Embarked\": \"Q\"}, {\"PassengerId\": 430, \"Survived\": 1, \"Pclass\": 3, \"Name\": \"Pickard, Mr. Berk (Berk Trembisky)\", \"Sex\": \"male\", \"Age\": 32.0, \"SibSp\": 0, \"Parch\": 0, \"Ticket\": \"SOTON/O.Q. 392078\", \"Fare\": 8.05, \"Cabin\": \"E10\", \"Embarked\": \"S\"}, {\"PassengerId\": 431, \"Survived\": 1, \"Pclass\": 1, \"Name\": \"Bjornstrom-Steffansson, Mr. Mauritz Hakan\", \"Sex\": \"male\", \"Age\": 28.0, \"SibSp\": 0, \"Parch\": 0, \"Ticket\": \"110564\", \"Fare\": 26.55, \"Cabin\": \"C52\", \"Embarked\": \"S\"}, {\"PassengerId\": 432, \"Survived\": 1, \"Pclass\": 3, \"Name\": \"Thorneycroft, Mrs. Percival (Florence Kate White)\", \"Sex\": \"female\", \"Age\": null, \"SibSp\": 1, \"Parch\": 0, \"Ticket\": \"376564\", \"Fare\": 16.1, \"Cabin\": null, \"Embarked\": \"S\"}, {\"PassengerId\": 433, \"Survived\": 1, \"Pclass\": 2, \"Name\": \"Louch, Mrs. Charles Alexander (Alice Adelaide Slow)\", \"Sex\": \"female\", \"Age\": 42.0, \"SibSp\": 1, \"Parch\": 0, \"Ticket\": \"SC/AH 3085\", \"Fare\": 26.0, \"Cabin\": null, \"Embarked\": \"S\"}, {\"PassengerId\": 434, \"Survived\": 0, \"Pclass\": 3, \"Name\": \"Kallio, Mr. Nikolai Erland\", \"Sex\": \"male\", \"Age\": 17.0, \"SibSp\": 0, \"Parch\": 0, \"Ticket\": \"STON/O 2. 3101274\", \"Fare\": 7.125, \"Cabin\": null, \"Embarked\": \"S\"}, {\"PassengerId\": 435, \"Survived\": 0, \"Pclass\": 1, \"Name\": \"Silvey, Mr. William Baird\", \"Sex\": \"male\", \"Age\": 50.0, \"SibSp\": 1, \"Parch\": 0, \"Ticket\": \"13507\", \"Fare\": 55.9, \"Cabin\": \"E44\", \"Embarked\": \"S\"}, {\"PassengerId\": 436, \"Survived\": 1, \"Pclass\": 1, \"Name\": \"Carter, Miss. Lucile Polk\", \"Sex\": \"female\", \"Age\": 14.0, \"SibSp\": 1, \"Parch\": 2, \"Ticket\": \"113760\", \"Fare\": 120.0, \"Cabin\": \"B96 B98\", \"Embarked\": \"S\"}, {\"PassengerId\": 437, \"Survived\": 0, \"Pclass\": 3, \"Name\": \"Ford, Miss. Doolina Margaret \\\"Daisy\\\"\", \"Sex\": \"female\", \"Age\": 21.0, \"SibSp\": 2, \"Parch\": 2, \"Ticket\": \"W./C. 6608\", \"Fare\": 34.375, \"Cabin\": null, \"Embarked\": \"S\"}, {\"PassengerId\": 438, \"Survived\": 1, \"Pclass\": 2, \"Name\": \"Richards, Mrs. Sidney (Emily Hocking)\", \"Sex\": \"female\", \"Age\": 24.0, \"SibSp\": 2, \"Parch\": 3, \"Ticket\": \"29106\", \"Fare\": 18.75, \"Cabin\": null, \"Embarked\": \"S\"}, {\"PassengerId\": 439, \"Survived\": 0, \"Pclass\": 1, \"Name\": \"Fortune, Mr. Mark\", \"Sex\": \"male\", \"Age\": 64.0, \"SibSp\": 1, \"Parch\": 4, \"Ticket\": \"19950\", \"Fare\": 263.0, \"Cabin\": \"C23 C25 C27\", \"Embarked\": \"S\"}, {\"PassengerId\": 440, \"Survived\": 0, \"Pclass\": 2, \"Name\": \"Kvillner, Mr. Johan Henrik Johannesson\", \"Sex\": \"male\", \"Age\": 31.0, \"SibSp\": 0, \"Parch\": 0, \"Ticket\": \"C.A. 18723\", \"Fare\": 10.5, \"Cabin\": null, \"Embarked\": \"S\"}, {\"PassengerId\": 441, \"Survived\": 1, \"Pclass\": 2, \"Name\": \"Hart, Mrs. Benjamin (Esther Ada Bloomfield)\", \"Sex\": \"female\", \"Age\": 45.0, \"SibSp\": 1, \"Parch\": 1, \"Ticket\": \"F.C.C. 13529\", \"Fare\": 26.25, \"Cabin\": null, \"Embarked\": \"S\"}, {\"PassengerId\": 442, \"Survived\": 0, \"Pclass\": 3, \"Name\": \"Hampe, Mr. Leon\", \"Sex\": \"male\", \"Age\": 20.0, \"SibSp\": 0, \"Parch\": 0, \"Ticket\": \"345769\", \"Fare\": 9.5, \"Cabin\": null, \"Embarked\": \"S\"}, {\"PassengerId\": 443, \"Survived\": 0, \"Pclass\": 3, \"Name\": \"Petterson, Mr. Johan Emil\", \"Sex\": \"male\", \"Age\": 25.0, \"SibSp\": 1, \"Parch\": 0, \"Ticket\": \"347076\", \"Fare\": 7.775, \"Cabin\": null, \"Embarked\": \"S\"}, {\"PassengerId\": 444, \"Survived\": 1, \"Pclass\": 2, \"Name\": \"Reynaldo, Ms. Encarnacion\", \"Sex\": \"female\", \"Age\": 28.0, \"SibSp\": 0, \"Parch\": 0, \"Ticket\": \"230434\", \"Fare\": 13.0, \"Cabin\": null, \"Embarked\": \"S\"}, {\"PassengerId\": 445, \"Survived\": 1, \"Pclass\": 3, \"Name\": \"Johannesen-Bratthammer, Mr. Bernt\", \"Sex\": \"male\", \"Age\": null, \"SibSp\": 0, \"Parch\": 0, \"Ticket\": \"65306\", \"Fare\": 8.1125, \"Cabin\": null, \"Embarked\": \"S\"}, {\"PassengerId\": 446, \"Survived\": 1, \"Pclass\": 1, \"Name\": \"Dodge, Master. Washington\", \"Sex\": \"male\", \"Age\": 4.0, \"SibSp\": 0, \"Parch\": 2, \"Ticket\": \"33638\", \"Fare\": 81.8583, \"Cabin\": \"A34\", \"Embarked\": \"S\"}, {\"PassengerId\": 447, \"Survived\": 1, \"Pclass\": 2, \"Name\": \"Mellinger, Miss. Madeleine Violet\", \"Sex\": \"female\", \"Age\": 13.0, \"SibSp\": 0, \"Parch\": 1, \"Ticket\": \"250644\", \"Fare\": 19.5, \"Cabin\": null, \"Embarked\": \"S\"}, {\"PassengerId\": 448, \"Survived\": 1, \"Pclass\": 1, \"Name\": \"Seward, Mr. Frederic Kimber\", \"Sex\": \"male\", \"Age\": 34.0, \"SibSp\": 0, \"Parch\": 0, \"Ticket\": \"113794\", \"Fare\": 26.55, \"Cabin\": null, \"Embarked\": \"S\"}, {\"PassengerId\": 449, \"Survived\": 1, \"Pclass\": 3, \"Name\": \"Baclini, Miss. Marie Catherine\", \"Sex\": \"female\", \"Age\": 5.0, \"SibSp\": 2, \"Parch\": 1, \"Ticket\": \"2666\", \"Fare\": 19.2583, \"Cabin\": null, \"Embarked\": \"C\"}, {\"PassengerId\": 450, \"Survived\": 1, \"Pclass\": 1, \"Name\": \"Peuchen, Major. Arthur Godfrey\", \"Sex\": \"male\", \"Age\": 52.0, \"SibSp\": 0, \"Parch\": 0, \"Ticket\": \"113786\", \"Fare\": 30.5, \"Cabin\": \"C104\", \"Embarked\": \"S\"}, {\"PassengerId\": 451, \"Survived\": 0, \"Pclass\": 2, \"Name\": \"West, Mr. Edwy Arthur\", \"Sex\": \"male\", \"Age\": 36.0, \"SibSp\": 1, \"Parch\": 2, \"Ticket\": \"C.A. 34651\", \"Fare\": 27.75, \"Cabin\": null, \"Embarked\": \"S\"}, {\"PassengerId\": 452, \"Survived\": 0, \"Pclass\": 3, \"Name\": \"Hagland, Mr. Ingvald Olai Olsen\", \"Sex\": \"male\", \"Age\": null, \"SibSp\": 1, \"Parch\": 0, \"Ticket\": \"65303\", \"Fare\": 19.9667, \"Cabin\": null, \"Embarked\": \"S\"}, {\"PassengerId\": 453, \"Survived\": 0, \"Pclass\": 1, \"Name\": \"Foreman, Mr. Benjamin Laventall\", \"Sex\": \"male\", \"Age\": 30.0, \"SibSp\": 0, \"Parch\": 0, \"Ticket\": \"113051\", \"Fare\": 27.75, \"Cabin\": \"C111\", \"Embarked\": \"C\"}, {\"PassengerId\": 454, \"Survived\": 1, \"Pclass\": 1, \"Name\": \"Goldenberg, Mr. Samuel L\", \"Sex\": \"male\", \"Age\": 49.0, \"SibSp\": 1, \"Parch\": 0, \"Ticket\": \"17453\", \"Fare\": 89.1042, \"Cabin\": \"C92\", \"Embarked\": \"C\"}, {\"PassengerId\": 455, \"Survived\": 0, \"Pclass\": 3, \"Name\": \"Peduzzi, Mr. Joseph\", \"Sex\": \"male\", \"Age\": null, \"SibSp\": 0, \"Parch\": 0, \"Ticket\": \"A/5 2817\", \"Fare\": 8.05, \"Cabin\": null, \"Embarked\": \"S\"}, {\"PassengerId\": 456, \"Survived\": 1, \"Pclass\": 3, \"Name\": \"Jalsevac, Mr. Ivan\", \"Sex\": \"male\", \"Age\": 29.0, \"SibSp\": 0, \"Parch\": 0, \"Ticket\": \"349240\", \"Fare\": 7.8958, \"Cabin\": null, \"Embarked\": \"C\"}, {\"PassengerId\": 457, \"Survived\": 0, \"Pclass\": 1, \"Name\": \"Millet, Mr. Francis Davis\", \"Sex\": \"male\", \"Age\": 65.0, \"SibSp\": 0, \"Parch\": 0, \"Ticket\": \"13509\", \"Fare\": 26.55, \"Cabin\": \"E38\", \"Embarked\": \"S\"}, {\"PassengerId\": 458, \"Survived\": 1, \"Pclass\": 1, \"Name\": \"Kenyon, Mrs. Frederick R (Marion)\", \"Sex\": \"female\", \"Age\": null, \"SibSp\": 1, \"Parch\": 0, \"Ticket\": \"17464\", \"Fare\": 51.8625, \"Cabin\": \"D21\", \"Embarked\": \"S\"}, {\"PassengerId\": 459, \"Survived\": 1, \"Pclass\": 2, \"Name\": \"Toomey, Miss. Ellen\", \"Sex\": \"female\", \"Age\": 50.0, \"SibSp\": 0, \"Parch\": 0, \"Ticket\": \"F.C.C. 13531\", \"Fare\": 10.5, \"Cabin\": null, \"Embarked\": \"S\"}, {\"PassengerId\": 460, \"Survived\": 0, \"Pclass\": 3, \"Name\": \"O'Connor, Mr. Maurice\", \"Sex\": \"male\", \"Age\": null, \"SibSp\": 0, \"Parch\": 0, \"Ticket\": \"371060\", \"Fare\": 7.75, \"Cabin\": null, \"Embarked\": \"Q\"}, {\"PassengerId\": 461, \"Survived\": 1, \"Pclass\": 1, \"Name\": \"Anderson, Mr. Harry\", \"Sex\": \"male\", \"Age\": 48.0, \"SibSp\": 0, \"Parch\": 0, \"Ticket\": \"19952\", \"Fare\": 26.55, \"Cabin\": \"E12\", \"Embarked\": \"S\"}, {\"PassengerId\": 462, \"Survived\": 0, \"Pclass\": 3, \"Name\": \"Morley, Mr. William\", \"Sex\": \"male\", \"Age\": 34.0, \"SibSp\": 0, \"Parch\": 0, \"Ticket\": \"364506\", \"Fare\": 8.05, \"Cabin\": null, \"Embarked\": \"S\"}, {\"PassengerId\": 463, \"Survived\": 0, \"Pclass\": 1, \"Name\": \"Gee, Mr. Arthur H\", \"Sex\": \"male\", \"Age\": 47.0, \"SibSp\": 0, \"Parch\": 0, \"Ticket\": \"111320\", \"Fare\": 38.5, \"Cabin\": \"E63\", \"Embarked\": \"S\"}, {\"PassengerId\": 464, \"Survived\": 0, \"Pclass\": 2, \"Name\": \"Milling, Mr. Jacob Christian\", \"Sex\": \"male\", \"Age\": 48.0, \"SibSp\": 0, \"Parch\": 0, \"Ticket\": \"234360\", \"Fare\": 13.0, \"Cabin\": null, \"Embarked\": \"S\"}, {\"PassengerId\": 465, \"Survived\": 0, \"Pclass\": 3, \"Name\": \"Maisner, Mr. Simon\", \"Sex\": \"male\", \"Age\": null, \"SibSp\": 0, \"Parch\": 0, \"Ticket\": \"A/S 2816\", \"Fare\": 8.05, \"Cabin\": null, \"Embarked\": \"S\"}, {\"PassengerId\": 466, \"Survived\": 0, \"Pclass\": 3, \"Name\": \"Goncalves, Mr. Manuel Estanslas\", \"Sex\": \"male\", \"Age\": 38.0, \"SibSp\": 0, \"Parch\": 0, \"Ticket\": \"SOTON/O.Q. 3101306\", \"Fare\": 7.05, \"Cabin\": null, \"Embarked\": \"S\"}, {\"PassengerId\": 467, \"Survived\": 0, \"Pclass\": 2, \"Name\": \"Campbell, Mr. William\", \"Sex\": \"male\", \"Age\": null, \"SibSp\": 0, \"Parch\": 0, \"Ticket\": \"239853\", \"Fare\": 0.0, \"Cabin\": null, \"Embarked\": \"S\"}, {\"PassengerId\": 468, \"Survived\": 0, \"Pclass\": 1, \"Name\": \"Smart, Mr. John Montgomery\", \"Sex\": \"male\", \"Age\": 56.0, \"SibSp\": 0, \"Parch\": 0, \"Ticket\": \"113792\", \"Fare\": 26.55, \"Cabin\": null, \"Embarked\": \"S\"}, {\"PassengerId\": 469, \"Survived\": 0, \"Pclass\": 3, \"Name\": \"Scanlan, Mr. James\", \"Sex\": \"male\", \"Age\": null, \"SibSp\": 0, \"Parch\": 0, \"Ticket\": \"36209\", \"Fare\": 7.725, \"Cabin\": null, \"Embarked\": \"Q\"}, {\"PassengerId\": 470, \"Survived\": 1, \"Pclass\": 3, \"Name\": \"Baclini, Miss. Helene Barbara\", \"Sex\": \"female\", \"Age\": 0.75, \"SibSp\": 2, \"Parch\": 1, \"Ticket\": \"2666\", \"Fare\": 19.2583, \"Cabin\": null, \"Embarked\": \"C\"}, {\"PassengerId\": 471, \"Survived\": 0, \"Pclass\": 3, \"Name\": \"Keefe, Mr. Arthur\", \"Sex\": \"male\", \"Age\": null, \"SibSp\": 0, \"Parch\": 0, \"Ticket\": \"323592\", \"Fare\": 7.25, \"Cabin\": null, \"Embarked\": \"S\"}, {\"PassengerId\": 472, \"Survived\": 0, \"Pclass\": 3, \"Name\": \"Cacic, Mr. Luka\", \"Sex\": \"male\", \"Age\": 38.0, \"SibSp\": 0, \"Parch\": 0, \"Ticket\": \"315089\", \"Fare\": 8.6625, \"Cabin\": null, \"Embarked\": \"S\"}, {\"PassengerId\": 473, \"Survived\": 1, \"Pclass\": 2, \"Name\": \"West, Mrs. Edwy Arthur (Ada Mary Worth)\", \"Sex\": \"female\", \"Age\": 33.0, \"SibSp\": 1, \"Parch\": 2, \"Ticket\": \"C.A. 34651\", \"Fare\": 27.75, \"Cabin\": null, \"Embarked\": \"S\"}, {\"PassengerId\": 474, \"Survived\": 1, \"Pclass\": 2, \"Name\": \"Jerwan, Mrs. Amin S (Marie Marthe Thuillard)\", \"Sex\": \"female\", \"Age\": 23.0, \"SibSp\": 0, \"Parch\": 0, \"Ticket\": \"SC/AH Basle 541\", \"Fare\": 13.7917, \"Cabin\": \"D\", \"Embarked\": \"C\"}, {\"PassengerId\": 475, \"Survived\": 0, \"Pclass\": 3, \"Name\": \"Strandberg, Miss. Ida Sofia\", \"Sex\": \"female\", \"Age\": 22.0, \"SibSp\": 0, \"Parch\": 0, \"Ticket\": \"7553\", \"Fare\": 9.8375, \"Cabin\": null, \"Embarked\": \"S\"}, {\"PassengerId\": 476, \"Survived\": 0, \"Pclass\": 1, \"Name\": \"Clifford, Mr. George Quincy\", \"Sex\": \"male\", \"Age\": null, \"SibSp\": 0, \"Parch\": 0, \"Ticket\": \"110465\", \"Fare\": 52.0, \"Cabin\": \"A14\", \"Embarked\": \"S\"}, {\"PassengerId\": 477, \"Survived\": 0, \"Pclass\": 2, \"Name\": \"Renouf, Mr. Peter Henry\", \"Sex\": \"male\", \"Age\": 34.0, \"SibSp\": 1, \"Parch\": 0, \"Ticket\": \"31027\", \"Fare\": 21.0, \"Cabin\": null, \"Embarked\": \"S\"}, {\"PassengerId\": 478, \"Survived\": 0, \"Pclass\": 3, \"Name\": \"Braund, Mr. Lewis Richard\", \"Sex\": \"male\", \"Age\": 29.0, \"SibSp\": 1, \"Parch\": 0, \"Ticket\": \"3460\", \"Fare\": 7.0458, \"Cabin\": null, \"Embarked\": \"S\"}, {\"PassengerId\": 479, \"Survived\": 0, \"Pclass\": 3, \"Name\": \"Karlsson, Mr. Nils August\", \"Sex\": \"male\", \"Age\": 22.0, \"SibSp\": 0, \"Parch\": 0, \"Ticket\": \"350060\", \"Fare\": 7.5208, \"Cabin\": null, \"Embarked\": \"S\"}, {\"PassengerId\": 480, \"Survived\": 1, \"Pclass\": 3, \"Name\": \"Hirvonen, Miss. Hildur E\", \"Sex\": \"female\", \"Age\": 2.0, \"SibSp\": 0, \"Parch\": 1, \"Ticket\": \"3101298\", \"Fare\": 12.2875, \"Cabin\": null, \"Embarked\": \"S\"}, {\"PassengerId\": 481, \"Survived\": 0, \"Pclass\": 3, \"Name\": \"Goodwin, Master. Harold Victor\", \"Sex\": \"male\", \"Age\": 9.0, \"SibSp\": 5, \"Parch\": 2, \"Ticket\": \"CA 2144\", \"Fare\": 46.9, \"Cabin\": null, \"Embarked\": \"S\"}, {\"PassengerId\": 482, \"Survived\": 0, \"Pclass\": 2, \"Name\": \"Frost, Mr. Anthony Wood \\\"Archie\\\"\", \"Sex\": \"male\", \"Age\": null, \"SibSp\": 0, \"Parch\": 0, \"Ticket\": \"239854\", \"Fare\": 0.0, \"Cabin\": null, \"Embarked\": \"S\"}, {\"PassengerId\": 483, \"Survived\": 0, \"Pclass\": 3, \"Name\": \"Rouse, Mr. Richard Henry\", \"Sex\": \"male\", \"Age\": 50.0, \"SibSp\": 0, \"Parch\": 0, \"Ticket\": \"A/5 3594\", \"Fare\": 8.05, \"Cabin\": null, \"Embarked\": \"S\"}, {\"PassengerId\": 484, \"Survived\": 1, \"Pclass\": 3, \"Name\": \"Turkula, Mrs. (Hedwig)\", \"Sex\": \"female\", \"Age\": 63.0, \"SibSp\": 0, \"Parch\": 0, \"Ticket\": \"4134\", \"Fare\": 9.5875, \"Cabin\": null, \"Embarked\": \"S\"}, {\"PassengerId\": 485, \"Survived\": 1, \"Pclass\": 1, \"Name\": \"Bishop, Mr. Dickinson H\", \"Sex\": \"male\", \"Age\": 25.0, \"SibSp\": 1, \"Parch\": 0, \"Ticket\": \"11967\", \"Fare\": 91.0792, \"Cabin\": \"B49\", \"Embarked\": \"C\"}, {\"PassengerId\": 486, \"Survived\": 0, \"Pclass\": 3, \"Name\": \"Lefebre, Miss. Jeannie\", \"Sex\": \"female\", \"Age\": null, \"SibSp\": 3, \"Parch\": 1, \"Ticket\": \"4133\", \"Fare\": 25.4667, \"Cabin\": null, \"Embarked\": \"S\"}, {\"PassengerId\": 487, \"Survived\": 1, \"Pclass\": 1, \"Name\": \"Hoyt, Mrs. Frederick Maxfield (Jane Anne Forby)\", \"Sex\": \"female\", \"Age\": 35.0, \"SibSp\": 1, \"Parch\": 0, \"Ticket\": \"19943\", \"Fare\": 90.0, \"Cabin\": \"C93\", \"Embarked\": \"S\"}, {\"PassengerId\": 488, \"Survived\": 0, \"Pclass\": 1, \"Name\": \"Kent, Mr. Edward Austin\", \"Sex\": \"male\", \"Age\": 58.0, \"SibSp\": 0, \"Parch\": 0, \"Ticket\": \"11771\", \"Fare\": 29.7, \"Cabin\": \"B37\", \"Embarked\": \"C\"}, {\"PassengerId\": 489, \"Survived\": 0, \"Pclass\": 3, \"Name\": \"Somerton, Mr. Francis William\", \"Sex\": \"male\", \"Age\": 30.0, \"SibSp\": 0, \"Parch\": 0, \"Ticket\": \"A.5. 18509\", \"Fare\": 8.05, \"Cabin\": null, \"Embarked\": \"S\"}, {\"PassengerId\": 490, \"Survived\": 1, \"Pclass\": 3, \"Name\": \"Coutts, Master. Eden Leslie \\\"Neville\\\"\", \"Sex\": \"male\", \"Age\": 9.0, \"SibSp\": 1, \"Parch\": 1, \"Ticket\": \"C.A. 37671\", \"Fare\": 15.9, \"Cabin\": null, \"Embarked\": \"S\"}, {\"PassengerId\": 491, \"Survived\": 0, \"Pclass\": 3, \"Name\": \"Hagland, Mr. Konrad Mathias Reiersen\", \"Sex\": \"male\", \"Age\": null, \"SibSp\": 1, \"Parch\": 0, \"Ticket\": \"65304\", \"Fare\": 19.9667, \"Cabin\": null, \"Embarked\": \"S\"}, {\"PassengerId\": 492, \"Survived\": 0, \"Pclass\": 3, \"Name\": \"Windelov, Mr. Einar\", \"Sex\": \"male\", \"Age\": 21.0, \"SibSp\": 0, \"Parch\": 0, \"Ticket\": \"SOTON/OQ 3101317\", \"Fare\": 7.25, \"Cabin\": null, \"Embarked\": \"S\"}, {\"PassengerId\": 493, \"Survived\": 0, \"Pclass\": 1, \"Name\": \"Molson, Mr. Harry Markland\", \"Sex\": \"male\", \"Age\": 55.0, \"SibSp\": 0, \"Parch\": 0, \"Ticket\": \"113787\", \"Fare\": 30.5, \"Cabin\": \"C30\", \"Embarked\": \"S\"}, {\"PassengerId\": 494, \"Survived\": 0, \"Pclass\": 1, \"Name\": \"Artagaveytia, Mr. Ramon\", \"Sex\": \"male\", \"Age\": 71.0, \"SibSp\": 0, \"Parch\": 0, \"Ticket\": \"PC 17609\", \"Fare\": 49.5042, \"Cabin\": null, \"Embarked\": \"C\"}, {\"PassengerId\": 495, \"Survived\": 0, \"Pclass\": 3, \"Name\": \"Stanley, Mr. Edward Roland\", \"Sex\": \"male\", \"Age\": 21.0, \"SibSp\": 0, \"Parch\": 0, \"Ticket\": \"A/4 45380\", \"Fare\": 8.05, \"Cabin\": null, \"Embarked\": \"S\"}, {\"PassengerId\": 496, \"Survived\": 0, \"Pclass\": 3, \"Name\": \"Yousseff, Mr. Gerious\", \"Sex\": \"male\", \"Age\": null, \"SibSp\": 0, \"Parch\": 0, \"Ticket\": \"2627\", \"Fare\": 14.4583, \"Cabin\": null, \"Embarked\": \"C\"}, {\"PassengerId\": 497, \"Survived\": 1, \"Pclass\": 1, \"Name\": \"Eustis, Miss. Elizabeth Mussey\", \"Sex\": \"female\", \"Age\": 54.0, \"SibSp\": 1, \"Parch\": 0, \"Ticket\": \"36947\", \"Fare\": 78.2667, \"Cabin\": \"D20\", \"Embarked\": \"C\"}, {\"PassengerId\": 498, \"Survived\": 0, \"Pclass\": 3, \"Name\": \"Shellard, Mr. Frederick William\", \"Sex\": \"male\", \"Age\": null, \"SibSp\": 0, \"Parch\": 0, \"Ticket\": \"C.A. 6212\", \"Fare\": 15.1, \"Cabin\": null, \"Embarked\": \"S\"}, {\"PassengerId\": 499, \"Survived\": 0, \"Pclass\": 1, \"Name\": \"Allison, Mrs. Hudson J C (Bessie Waldo Daniels)\", \"Sex\": \"female\", \"Age\": 25.0, \"SibSp\": 1, \"Parch\": 2, \"Ticket\": \"113781\", \"Fare\": 151.55, \"Cabin\": \"C22 C26\", \"Embarked\": \"S\"}, {\"PassengerId\": 500, \"Survived\": 0, \"Pclass\": 3, \"Name\": \"Svensson, Mr. Olof\", \"Sex\": \"male\", \"Age\": 24.0, \"SibSp\": 0, \"Parch\": 0, \"Ticket\": \"350035\", \"Fare\": 7.7958, \"Cabin\": null, \"Embarked\": \"S\"}, {\"PassengerId\": 501, \"Survived\": 0, \"Pclass\": 3, \"Name\": \"Calic, Mr. Petar\", \"Sex\": \"male\", \"Age\": 17.0, \"SibSp\": 0, \"Parch\": 0, \"Ticket\": \"315086\", \"Fare\": 8.6625, \"Cabin\": null, \"Embarked\": \"S\"}, {\"PassengerId\": 502, \"Survived\": 0, \"Pclass\": 3, \"Name\": \"Canavan, Miss. Mary\", \"Sex\": \"female\", \"Age\": 21.0, \"SibSp\": 0, \"Parch\": 0, \"Ticket\": \"364846\", \"Fare\": 7.75, \"Cabin\": null, \"Embarked\": \"Q\"}, {\"PassengerId\": 503, \"Survived\": 0, \"Pclass\": 3, \"Name\": \"O'Sullivan, Miss. Bridget Mary\", \"Sex\": \"female\", \"Age\": null, \"SibSp\": 0, \"Parch\": 0, \"Ticket\": \"330909\", \"Fare\": 7.6292, \"Cabin\": null, \"Embarked\": \"Q\"}, {\"PassengerId\": 504, \"Survived\": 0, \"Pclass\": 3, \"Name\": \"Laitinen, Miss. Kristina Sofia\", \"Sex\": \"female\", \"Age\": 37.0, \"SibSp\": 0, \"Parch\": 0, \"Ticket\": \"4135\", \"Fare\": 9.5875, \"Cabin\": null, \"Embarked\": \"S\"}, {\"PassengerId\": 505, \"Survived\": 1, \"Pclass\": 1, \"Name\": \"Maioni, Miss. Roberta\", \"Sex\": \"female\", \"Age\": 16.0, \"SibSp\": 0, \"Parch\": 0, \"Ticket\": \"110152\", \"Fare\": 86.5, \"Cabin\": \"B79\", \"Embarked\": \"S\"}, {\"PassengerId\": 506, \"Survived\": 0, \"Pclass\": 1, \"Name\": \"Penasco y Castellana, Mr. Victor de Satode\", \"Sex\": \"male\", \"Age\": 18.0, \"SibSp\": 1, \"Parch\": 0, \"Ticket\": \"PC 17758\", \"Fare\": 108.9, \"Cabin\": \"C65\", \"Embarked\": \"C\"}, {\"PassengerId\": 507, \"Survived\": 1, \"Pclass\": 2, \"Name\": \"Quick, Mrs. Frederick Charles (Jane Richards)\", \"Sex\": \"female\", \"Age\": 33.0, \"SibSp\": 0, \"Parch\": 2, \"Ticket\": \"26360\", \"Fare\": 26.0, \"Cabin\": null, \"Embarked\": \"S\"}, {\"PassengerId\": 508, \"Survived\": 1, \"Pclass\": 1, \"Name\": \"Bradley, Mr. George (\\\"George Arthur Brayton\\\")\", \"Sex\": \"male\", \"Age\": null, \"SibSp\": 0, \"Parch\": 0, \"Ticket\": \"111427\", \"Fare\": 26.55, \"Cabin\": null, \"Embarked\": \"S\"}, {\"PassengerId\": 509, \"Survived\": 0, \"Pclass\": 3, \"Name\": \"Olsen, Mr. Henry Margido\", \"Sex\": \"male\", \"Age\": 28.0, \"SibSp\": 0, \"Parch\": 0, \"Ticket\": \"C 4001\", \"Fare\": 22.525, \"Cabin\": null, \"Embarked\": \"S\"}, {\"PassengerId\": 510, \"Survived\": 1, \"Pclass\": 3, \"Name\": \"Lang, Mr. Fang\", \"Sex\": \"male\", \"Age\": 26.0, \"SibSp\": 0, \"Parch\": 0, \"Ticket\": \"1601\", \"Fare\": 56.4958, \"Cabin\": null, \"Embarked\": \"S\"}, {\"PassengerId\": 511, \"Survived\": 1, \"Pclass\": 3, \"Name\": \"Daly, Mr. Eugene Patrick\", \"Sex\": \"male\", \"Age\": 29.0, \"SibSp\": 0, \"Parch\": 0, \"Ticket\": \"382651\", \"Fare\": 7.75, \"Cabin\": null, \"Embarked\": \"Q\"}, {\"PassengerId\": 512, \"Survived\": 0, \"Pclass\": 3, \"Name\": \"Webber, Mr. James\", \"Sex\": \"male\", \"Age\": null, \"SibSp\": 0, \"Parch\": 0, \"Ticket\": \"SOTON/OQ 3101316\", \"Fare\": 8.05, \"Cabin\": null, \"Embarked\": \"S\"}, {\"PassengerId\": 513, \"Survived\": 1, \"Pclass\": 1, \"Name\": \"McGough, Mr. James Robert\", \"Sex\": \"male\", \"Age\": 36.0, \"SibSp\": 0, \"Parch\": 0, \"Ticket\": \"PC 17473\", \"Fare\": 26.2875, \"Cabin\": \"E25\", \"Embarked\": \"S\"}, {\"PassengerId\": 514, \"Survived\": 1, \"Pclass\": 1, \"Name\": \"Rothschild, Mrs. Martin (Elizabeth L. Barrett)\", \"Sex\": \"female\", \"Age\": 54.0, \"SibSp\": 1, \"Parch\": 0, \"Ticket\": \"PC 17603\", \"Fare\": 59.4, \"Cabin\": null, \"Embarked\": \"C\"}, {\"PassengerId\": 515, \"Survived\": 0, \"Pclass\": 3, \"Name\": \"Coleff, Mr. Satio\", \"Sex\": \"male\", \"Age\": 24.0, \"SibSp\": 0, \"Parch\": 0, \"Ticket\": \"349209\", \"Fare\": 7.4958, \"Cabin\": null, \"Embarked\": \"S\"}, {\"PassengerId\": 516, \"Survived\": 0, \"Pclass\": 1, \"Name\": \"Walker, Mr. William Anderson\", \"Sex\": \"male\", \"Age\": 47.0, \"SibSp\": 0, \"Parch\": 0, \"Ticket\": \"36967\", \"Fare\": 34.0208, \"Cabin\": \"D46\", \"Embarked\": \"S\"}, {\"PassengerId\": 517, \"Survived\": 1, \"Pclass\": 2, \"Name\": \"Lemore, Mrs. (Amelia Milley)\", \"Sex\": \"female\", \"Age\": 34.0, \"SibSp\": 0, \"Parch\": 0, \"Ticket\": \"C.A. 34260\", \"Fare\": 10.5, \"Cabin\": \"F33\", \"Embarked\": \"S\"}, {\"PassengerId\": 518, \"Survived\": 0, \"Pclass\": 3, \"Name\": \"Ryan, Mr. Patrick\", \"Sex\": \"male\", \"Age\": null, \"SibSp\": 0, \"Parch\": 0, \"Ticket\": \"371110\", \"Fare\": 24.15, \"Cabin\": null, \"Embarked\": \"Q\"}, {\"PassengerId\": 519, \"Survived\": 1, \"Pclass\": 2, \"Name\": \"Angle, Mrs. William A (Florence \\\"Mary\\\" Agnes Hughes)\", \"Sex\": \"female\", \"Age\": 36.0, \"SibSp\": 1, \"Parch\": 0, \"Ticket\": \"226875\", \"Fare\": 26.0, \"Cabin\": null, \"Embarked\": \"S\"}, {\"PassengerId\": 520, \"Survived\": 0, \"Pclass\": 3, \"Name\": \"Pavlovic, Mr. Stefo\", \"Sex\": \"male\", \"Age\": 32.0, \"SibSp\": 0, \"Parch\": 0, \"Ticket\": \"349242\", \"Fare\": 7.8958, \"Cabin\": null, \"Embarked\": \"S\"}, {\"PassengerId\": 521, \"Survived\": 1, \"Pclass\": 1, \"Name\": \"Perreault, Miss. Anne\", \"Sex\": \"female\", \"Age\": 30.0, \"SibSp\": 0, \"Parch\": 0, \"Ticket\": \"12749\", \"Fare\": 93.5, \"Cabin\": \"B73\", \"Embarked\": \"S\"}, {\"PassengerId\": 522, \"Survived\": 0, \"Pclass\": 3, \"Name\": \"Vovk, Mr. Janko\", \"Sex\": \"male\", \"Age\": 22.0, \"SibSp\": 0, \"Parch\": 0, \"Ticket\": \"349252\", \"Fare\": 7.8958, \"Cabin\": null, \"Embarked\": \"S\"}, {\"PassengerId\": 523, \"Survived\": 0, \"Pclass\": 3, \"Name\": \"Lahoud, Mr. Sarkis\", \"Sex\": \"male\", \"Age\": null, \"SibSp\": 0, \"Parch\": 0, \"Ticket\": \"2624\", \"Fare\": 7.225, \"Cabin\": null, \"Embarked\": \"C\"}, {\"PassengerId\": 524, \"Survived\": 1, \"Pclass\": 1, \"Name\": \"Hippach, Mrs. Louis Albert (Ida Sophia Fischer)\", \"Sex\": \"female\", \"Age\": 44.0, \"SibSp\": 0, \"Parch\": 1, \"Ticket\": \"111361\", \"Fare\": 57.9792, \"Cabin\": \"B18\", \"Embarked\": \"C\"}, {\"PassengerId\": 525, \"Survived\": 0, \"Pclass\": 3, \"Name\": \"Kassem, Mr. Fared\", \"Sex\": \"male\", \"Age\": null, \"SibSp\": 0, \"Parch\": 0, \"Ticket\": \"2700\", \"Fare\": 7.2292, \"Cabin\": null, \"Embarked\": \"C\"}, {\"PassengerId\": 526, \"Survived\": 0, \"Pclass\": 3, \"Name\": \"Farrell, Mr. James\", \"Sex\": \"male\", \"Age\": 40.5, \"SibSp\": 0, \"Parch\": 0, \"Ticket\": \"367232\", \"Fare\": 7.75, \"Cabin\": null, \"Embarked\": \"Q\"}, {\"PassengerId\": 527, \"Survived\": 1, \"Pclass\": 2, \"Name\": \"Ridsdale, Miss. Lucy\", \"Sex\": \"female\", \"Age\": 50.0, \"SibSp\": 0, \"Parch\": 0, \"Ticket\": \"W./C. 14258\", \"Fare\": 10.5, \"Cabin\": null, \"Embarked\": \"S\"}, {\"PassengerId\": 528, \"Survived\": 0, \"Pclass\": 1, \"Name\": \"Farthing, Mr. John\", \"Sex\": \"male\", \"Age\": null, \"SibSp\": 0, \"Parch\": 0, \"Ticket\": \"PC 17483\", \"Fare\": 221.7792, \"Cabin\": \"C95\", \"Embarked\": \"S\"}, {\"PassengerId\": 529, \"Survived\": 0, \"Pclass\": 3, \"Name\": \"Salonen, Mr. Johan Werner\", \"Sex\": \"male\", \"Age\": 39.0, \"SibSp\": 0, \"Parch\": 0, \"Ticket\": \"3101296\", \"Fare\": 7.925, \"Cabin\": null, \"Embarked\": \"S\"}, {\"PassengerId\": 530, \"Survived\": 0, \"Pclass\": 2, \"Name\": \"Hocking, Mr. Richard George\", \"Sex\": \"male\", \"Age\": 23.0, \"SibSp\": 2, \"Parch\": 1, \"Ticket\": \"29104\", \"Fare\": 11.5, \"Cabin\": null, \"Embarked\": \"S\"}, {\"PassengerId\": 531, \"Survived\": 1, \"Pclass\": 2, \"Name\": \"Quick, Miss. Phyllis May\", \"Sex\": \"female\", \"Age\": 2.0, \"SibSp\": 1, \"Parch\": 1, \"Ticket\": \"26360\", \"Fare\": 26.0, \"Cabin\": null, \"Embarked\": \"S\"}, {\"PassengerId\": 532, \"Survived\": 0, \"Pclass\": 3, \"Name\": \"Toufik, Mr. Nakli\", \"Sex\": \"male\", \"Age\": null, \"SibSp\": 0, \"Parch\": 0, \"Ticket\": \"2641\", \"Fare\": 7.2292, \"Cabin\": null, \"Embarked\": \"C\"}, {\"PassengerId\": 533, \"Survived\": 0, \"Pclass\": 3, \"Name\": \"Elias, Mr. Joseph Jr\", \"Sex\": \"male\", \"Age\": 17.0, \"SibSp\": 1, \"Parch\": 1, \"Ticket\": \"2690\", \"Fare\": 7.2292, \"Cabin\": null, \"Embarked\": \"C\"}, {\"PassengerId\": 534, \"Survived\": 1, \"Pclass\": 3, \"Name\": \"Peter, Mrs. Catherine (Catherine Rizk)\", \"Sex\": \"female\", \"Age\": null, \"SibSp\": 0, \"Parch\": 2, \"Ticket\": \"2668\", \"Fare\": 22.3583, \"Cabin\": null, \"Embarked\": \"C\"}, {\"PassengerId\": 535, \"Survived\": 0, \"Pclass\": 3, \"Name\": \"Cacic, Miss. Marija\", \"Sex\": \"female\", \"Age\": 30.0, \"SibSp\": 0, \"Parch\": 0, \"Ticket\": \"315084\", \"Fare\": 8.6625, \"Cabin\": null, \"Embarked\": \"S\"}, {\"PassengerId\": 536, \"Survived\": 1, \"Pclass\": 2, \"Name\": \"Hart, Miss. Eva Miriam\", \"Sex\": \"female\", \"Age\": 7.0, \"SibSp\": 0, \"Parch\": 2, \"Ticket\": \"F.C.C. 13529\", \"Fare\": 26.25, \"Cabin\": null, \"Embarked\": \"S\"}, {\"PassengerId\": 537, \"Survived\": 0, \"Pclass\": 1, \"Name\": \"Butt, Major. Archibald Willingham\", \"Sex\": \"male\", \"Age\": 45.0, \"SibSp\": 0, \"Parch\": 0, \"Ticket\": \"113050\", \"Fare\": 26.55, \"Cabin\": \"B38\", \"Embarked\": \"S\"}, {\"PassengerId\": 538, \"Survived\": 1, \"Pclass\": 1, \"Name\": \"LeRoy, Miss. Bertha\", \"Sex\": \"female\", \"Age\": 30.0, \"SibSp\": 0, \"Parch\": 0, \"Ticket\": \"PC 17761\", \"Fare\": 106.425, \"Cabin\": null, \"Embarked\": \"C\"}, {\"PassengerId\": 539, \"Survived\": 0, \"Pclass\": 3, \"Name\": \"Risien, Mr. Samuel Beard\", \"Sex\": \"male\", \"Age\": null, \"SibSp\": 0, \"Parch\": 0, \"Ticket\": \"364498\", \"Fare\": 14.5, \"Cabin\": null, \"Embarked\": \"S\"}, {\"PassengerId\": 540, \"Survived\": 1, \"Pclass\": 1, \"Name\": \"Frolicher, Miss. Hedwig Margaritha\", \"Sex\": \"female\", \"Age\": 22.0, \"SibSp\": 0, \"Parch\": 2, \"Ticket\": \"13568\", \"Fare\": 49.5, \"Cabin\": \"B39\", \"Embarked\": \"C\"}, {\"PassengerId\": 541, \"Survived\": 1, \"Pclass\": 1, \"Name\": \"Crosby, Miss. Harriet R\", \"Sex\": \"female\", \"Age\": 36.0, \"SibSp\": 0, \"Parch\": 2, \"Ticket\": \"WE/P 5735\", \"Fare\": 71.0, \"Cabin\": \"B22\", \"Embarked\": \"S\"}, {\"PassengerId\": 542, \"Survived\": 0, \"Pclass\": 3, \"Name\": \"Andersson, Miss. Ingeborg Constanzia\", \"Sex\": \"female\", \"Age\": 9.0, \"SibSp\": 4, \"Parch\": 2, \"Ticket\": \"347082\", \"Fare\": 31.275, \"Cabin\": null, \"Embarked\": \"S\"}, {\"PassengerId\": 543, \"Survived\": 0, \"Pclass\": 3, \"Name\": \"Andersson, Miss. Sigrid Elisabeth\", \"Sex\": \"female\", \"Age\": 11.0, \"SibSp\": 4, \"Parch\": 2, \"Ticket\": \"347082\", \"Fare\": 31.275, \"Cabin\": null, \"Embarked\": \"S\"}, {\"PassengerId\": 544, \"Survived\": 1, \"Pclass\": 2, \"Name\": \"Beane, Mr. Edward\", \"Sex\": \"male\", \"Age\": 32.0, \"SibSp\": 1, \"Parch\": 0, \"Ticket\": \"2908\", \"Fare\": 26.0, \"Cabin\": null, \"Embarked\": \"S\"}, {\"PassengerId\": 545, \"Survived\": 0, \"Pclass\": 1, \"Name\": \"Douglas, Mr. Walter Donald\", \"Sex\": \"male\", \"Age\": 50.0, \"SibSp\": 1, \"Parch\": 0, \"Ticket\": \"PC 17761\", \"Fare\": 106.425, \"Cabin\": \"C86\", \"Embarked\": \"C\"}, {\"PassengerId\": 546, \"Survived\": 0, \"Pclass\": 1, \"Name\": \"Nicholson, Mr. Arthur Ernest\", \"Sex\": \"male\", \"Age\": 64.0, \"SibSp\": 0, \"Parch\": 0, \"Ticket\": \"693\", \"Fare\": 26.0, \"Cabin\": null, \"Embarked\": \"S\"}, {\"PassengerId\": 547, \"Survived\": 1, \"Pclass\": 2, \"Name\": \"Beane, Mrs. Edward (Ethel Clarke)\", \"Sex\": \"female\", \"Age\": 19.0, \"SibSp\": 1, \"Parch\": 0, \"Ticket\": \"2908\", \"Fare\": 26.0, \"Cabin\": null, \"Embarked\": \"S\"}, {\"PassengerId\": 548, \"Survived\": 1, \"Pclass\": 2, \"Name\": \"Padro y Manent, Mr. Julian\", \"Sex\": \"male\", \"Age\": null, \"SibSp\": 0, \"Parch\": 0, \"Ticket\": \"SC/PARIS 2146\", \"Fare\": 13.8625, \"Cabin\": null, \"Embarked\": \"C\"}, {\"PassengerId\": 549, \"Survived\": 0, \"Pclass\": 3, \"Name\": \"Goldsmith, Mr. Frank John\", \"Sex\": \"male\", \"Age\": 33.0, \"SibSp\": 1, \"Parch\": 1, \"Ticket\": \"363291\", \"Fare\": 20.525, \"Cabin\": null, \"Embarked\": \"S\"}, {\"PassengerId\": 550, \"Survived\": 1, \"Pclass\": 2, \"Name\": \"Davies, Master. John Morgan Jr\", \"Sex\": \"male\", \"Age\": 8.0, \"SibSp\": 1, \"Parch\": 1, \"Ticket\": \"C.A. 33112\", \"Fare\": 36.75, \"Cabin\": null, \"Embarked\": \"S\"}, {\"PassengerId\": 551, \"Survived\": 1, \"Pclass\": 1, \"Name\": \"Thayer, Mr. John Borland Jr\", \"Sex\": \"male\", \"Age\": 17.0, \"SibSp\": 0, \"Parch\": 2, \"Ticket\": \"17421\", \"Fare\": 110.8833, \"Cabin\": \"C70\", \"Embarked\": \"C\"}, {\"PassengerId\": 552, \"Survived\": 0, \"Pclass\": 2, \"Name\": \"Sharp, Mr. Percival James R\", \"Sex\": \"male\", \"Age\": 27.0, \"SibSp\": 0, \"Parch\": 0, \"Ticket\": \"244358\", \"Fare\": 26.0, \"Cabin\": null, \"Embarked\": \"S\"}, {\"PassengerId\": 553, \"Survived\": 0, \"Pclass\": 3, \"Name\": \"O'Brien, Mr. Timothy\", \"Sex\": \"male\", \"Age\": null, \"SibSp\": 0, \"Parch\": 0, \"Ticket\": \"330979\", \"Fare\": 7.8292, \"Cabin\": null, \"Embarked\": \"Q\"}, {\"PassengerId\": 554, \"Survived\": 1, \"Pclass\": 3, \"Name\": \"Leeni, Mr. Fahim (\\\"Philip Zenni\\\")\", \"Sex\": \"male\", \"Age\": 22.0, \"SibSp\": 0, \"Parch\": 0, \"Ticket\": \"2620\", \"Fare\": 7.225, \"Cabin\": null, \"Embarked\": \"C\"}, {\"PassengerId\": 555, \"Survived\": 1, \"Pclass\": 3, \"Name\": \"Ohman, Miss. Velin\", \"Sex\": \"female\", \"Age\": 22.0, \"SibSp\": 0, \"Parch\": 0, \"Ticket\": \"347085\", \"Fare\": 7.775, \"Cabin\": null, \"Embarked\": \"S\"}, {\"PassengerId\": 556, \"Survived\": 0, \"Pclass\": 1, \"Name\": \"Wright, Mr. George\", \"Sex\": \"male\", \"Age\": 62.0, \"SibSp\": 0, \"Parch\": 0, \"Ticket\": \"113807\", \"Fare\": 26.55, \"Cabin\": null, \"Embarked\": \"S\"}, {\"PassengerId\": 557, \"Survived\": 1, \"Pclass\": 1, \"Name\": \"Duff Gordon, Lady. (Lucille Christiana Sutherland) (\\\"Mrs Morgan\\\")\", \"Sex\": \"female\", \"Age\": 48.0, \"SibSp\": 1, \"Parch\": 0, \"Ticket\": \"11755\", \"Fare\": 39.6, \"Cabin\": \"A16\", \"Embarked\": \"C\"}, {\"PassengerId\": 558, \"Survived\": 0, \"Pclass\": 1, \"Name\": \"Robbins, Mr. Victor\", \"Sex\": \"male\", \"Age\": null, \"SibSp\": 0, \"Parch\": 0, \"Ticket\": \"PC 17757\", \"Fare\": 227.525, \"Cabin\": null, \"Embarked\": \"C\"}, {\"PassengerId\": 559, \"Survived\": 1, \"Pclass\": 1, \"Name\": \"Taussig, Mrs. Emil (Tillie Mandelbaum)\", \"Sex\": \"female\", \"Age\": 39.0, \"SibSp\": 1, \"Parch\": 1, \"Ticket\": \"110413\", \"Fare\": 79.65, \"Cabin\": \"E67\", \"Embarked\": \"S\"}, {\"PassengerId\": 560, \"Survived\": 1, \"Pclass\": 3, \"Name\": \"de Messemaeker, Mrs. Guillaume Joseph (Emma)\", \"Sex\": \"female\", \"Age\": 36.0, \"SibSp\": 1, \"Parch\": 0, \"Ticket\": \"345572\", \"Fare\": 17.4, \"Cabin\": null, \"Embarked\": \"S\"}, {\"PassengerId\": 561, \"Survived\": 0, \"Pclass\": 3, \"Name\": \"Morrow, Mr. Thomas Rowan\", \"Sex\": \"male\", \"Age\": null, \"SibSp\": 0, \"Parch\": 0, \"Ticket\": \"372622\", \"Fare\": 7.75, \"Cabin\": null, \"Embarked\": \"Q\"}, {\"PassengerId\": 562, \"Survived\": 0, \"Pclass\": 3, \"Name\": \"Sivic, Mr. Husein\", \"Sex\": \"male\", \"Age\": 40.0, \"SibSp\": 0, \"Parch\": 0, \"Ticket\": \"349251\", \"Fare\": 7.8958, \"Cabin\": null, \"Embarked\": \"S\"}, {\"PassengerId\": 563, \"Survived\": 0, \"Pclass\": 2, \"Name\": \"Norman, Mr. Robert Douglas\", \"Sex\": \"male\", \"Age\": 28.0, \"SibSp\": 0, \"Parch\": 0, \"Ticket\": \"218629\", \"Fare\": 13.5, \"Cabin\": null, \"Embarked\": \"S\"}, {\"PassengerId\": 564, \"Survived\": 0, \"Pclass\": 3, \"Name\": \"Simmons, Mr. John\", \"Sex\": \"male\", \"Age\": null, \"SibSp\": 0, \"Parch\": 0, \"Ticket\": \"SOTON/OQ 392082\", \"Fare\": 8.05, \"Cabin\": null, \"Embarked\": \"S\"}, {\"PassengerId\": 565, \"Survived\": 0, \"Pclass\": 3, \"Name\": \"Meanwell, Miss. (Marion Ogden)\", \"Sex\": \"female\", \"Age\": null, \"SibSp\": 0, \"Parch\": 0, \"Ticket\": \"SOTON/O.Q. 392087\", \"Fare\": 8.05, \"Cabin\": null, \"Embarked\": \"S\"}, {\"PassengerId\": 566, \"Survived\": 0, \"Pclass\": 3, \"Name\": \"Davies, Mr. Alfred J\", \"Sex\": \"male\", \"Age\": 24.0, \"SibSp\": 2, \"Parch\": 0, \"Ticket\": \"A/4 48871\", \"Fare\": 24.15, \"Cabin\": null, \"Embarked\": \"S\"}, {\"PassengerId\": 567, \"Survived\": 0, \"Pclass\": 3, \"Name\": \"Stoytcheff, Mr. Ilia\", \"Sex\": \"male\", \"Age\": 19.0, \"SibSp\": 0, \"Parch\": 0, \"Ticket\": \"349205\", \"Fare\": 7.8958, \"Cabin\": null, \"Embarked\": \"S\"}, {\"PassengerId\": 568, \"Survived\": 0, \"Pclass\": 3, \"Name\": \"Palsson, Mrs. Nils (Alma Cornelia Berglund)\", \"Sex\": \"female\", \"Age\": 29.0, \"SibSp\": 0, \"Parch\": 4, \"Ticket\": \"349909\", \"Fare\": 21.075, \"Cabin\": null, \"Embarked\": \"S\"}, {\"PassengerId\": 569, \"Survived\": 0, \"Pclass\": 3, \"Name\": \"Doharr, Mr. Tannous\", \"Sex\": \"male\", \"Age\": null, \"SibSp\": 0, \"Parch\": 0, \"Ticket\": \"2686\", \"Fare\": 7.2292, \"Cabin\": null, \"Embarked\": \"C\"}, {\"PassengerId\": 570, \"Survived\": 1, \"Pclass\": 3, \"Name\": \"Jonsson, Mr. Carl\", \"Sex\": \"male\", \"Age\": 32.0, \"SibSp\": 0, \"Parch\": 0, \"Ticket\": \"350417\", \"Fare\": 7.8542, \"Cabin\": null, \"Embarked\": \"S\"}, {\"PassengerId\": 571, \"Survived\": 1, \"Pclass\": 2, \"Name\": \"Harris, Mr. George\", \"Sex\": \"male\", \"Age\": 62.0, \"SibSp\": 0, \"Parch\": 0, \"Ticket\": \"S.W./PP 752\", \"Fare\": 10.5, \"Cabin\": null, \"Embarked\": \"S\"}, {\"PassengerId\": 572, \"Survived\": 1, \"Pclass\": 1, \"Name\": \"Appleton, Mrs. Edward Dale (Charlotte Lamson)\", \"Sex\": \"female\", \"Age\": 53.0, \"SibSp\": 2, \"Parch\": 0, \"Ticket\": \"11769\", \"Fare\": 51.4792, \"Cabin\": \"C101\", \"Embarked\": \"S\"}, {\"PassengerId\": 573, \"Survived\": 1, \"Pclass\": 1, \"Name\": \"Flynn, Mr. John Irwin (\\\"Irving\\\")\", \"Sex\": \"male\", \"Age\": 36.0, \"SibSp\": 0, \"Parch\": 0, \"Ticket\": \"PC 17474\", \"Fare\": 26.3875, \"Cabin\": \"E25\", \"Embarked\": \"S\"}, {\"PassengerId\": 574, \"Survived\": 1, \"Pclass\": 3, \"Name\": \"Kelly, Miss. Mary\", \"Sex\": \"female\", \"Age\": null, \"SibSp\": 0, \"Parch\": 0, \"Ticket\": \"14312\", \"Fare\": 7.75, \"Cabin\": null, \"Embarked\": \"Q\"}, {\"PassengerId\": 575, \"Survived\": 0, \"Pclass\": 3, \"Name\": \"Rush, Mr. Alfred George John\", \"Sex\": \"male\", \"Age\": 16.0, \"SibSp\": 0, \"Parch\": 0, \"Ticket\": \"A/4. 20589\", \"Fare\": 8.05, \"Cabin\": null, \"Embarked\": \"S\"}, {\"PassengerId\": 576, \"Survived\": 0, \"Pclass\": 3, \"Name\": \"Patchett, Mr. George\", \"Sex\": \"male\", \"Age\": 19.0, \"SibSp\": 0, \"Parch\": 0, \"Ticket\": \"358585\", \"Fare\": 14.5, \"Cabin\": null, \"Embarked\": \"S\"}, {\"PassengerId\": 577, \"Survived\": 1, \"Pclass\": 2, \"Name\": \"Garside, Miss. Ethel\", \"Sex\": \"female\", \"Age\": 34.0, \"SibSp\": 0, \"Parch\": 0, \"Ticket\": \"243880\", \"Fare\": 13.0, \"Cabin\": null, \"Embarked\": \"S\"}, {\"PassengerId\": 578, \"Survived\": 1, \"Pclass\": 1, \"Name\": \"Silvey, Mrs. William Baird (Alice Munger)\", \"Sex\": \"female\", \"Age\": 39.0, \"SibSp\": 1, \"Parch\": 0, \"Ticket\": \"13507\", \"Fare\": 55.9, \"Cabin\": \"E44\", \"Embarked\": \"S\"}, {\"PassengerId\": 579, \"Survived\": 0, \"Pclass\": 3, \"Name\": \"Caram, Mrs. Joseph (Maria Elias)\", \"Sex\": \"female\", \"Age\": null, \"SibSp\": 1, \"Parch\": 0, \"Ticket\": \"2689\", \"Fare\": 14.4583, \"Cabin\": null, \"Embarked\": \"C\"}, {\"PassengerId\": 580, \"Survived\": 1, \"Pclass\": 3, \"Name\": \"Jussila, Mr. Eiriik\", \"Sex\": \"male\", \"Age\": 32.0, \"SibSp\": 0, \"Parch\": 0, \"Ticket\": \"STON/O 2. 3101286\", \"Fare\": 7.925, \"Cabin\": null, \"Embarked\": \"S\"}, {\"PassengerId\": 581, \"Survived\": 1, \"Pclass\": 2, \"Name\": \"Christy, Miss. Julie Rachel\", \"Sex\": \"female\", \"Age\": 25.0, \"SibSp\": 1, \"Parch\": 1, \"Ticket\": \"237789\", \"Fare\": 30.0, \"Cabin\": null, \"Embarked\": \"S\"}, {\"PassengerId\": 582, \"Survived\": 1, \"Pclass\": 1, \"Name\": \"Thayer, Mrs. John Borland (Marian Longstreth Morris)\", \"Sex\": \"female\", \"Age\": 39.0, \"SibSp\": 1, \"Parch\": 1, \"Ticket\": \"17421\", \"Fare\": 110.8833, \"Cabin\": \"C68\", \"Embarked\": \"C\"}, {\"PassengerId\": 583, \"Survived\": 0, \"Pclass\": 2, \"Name\": \"Downton, Mr. William James\", \"Sex\": \"male\", \"Age\": 54.0, \"SibSp\": 0, \"Parch\": 0, \"Ticket\": \"28403\", \"Fare\": 26.0, \"Cabin\": null, \"Embarked\": \"S\"}, {\"PassengerId\": 584, \"Survived\": 0, \"Pclass\": 1, \"Name\": \"Ross, Mr. John Hugo\", \"Sex\": \"male\", \"Age\": 36.0, \"SibSp\": 0, \"Parch\": 0, \"Ticket\": \"13049\", \"Fare\": 40.125, \"Cabin\": \"A10\", \"Embarked\": \"C\"}, {\"PassengerId\": 585, \"Survived\": 0, \"Pclass\": 3, \"Name\": \"Paulner, Mr. Uscher\", \"Sex\": \"male\", \"Age\": null, \"SibSp\": 0, \"Parch\": 0, \"Ticket\": \"3411\", \"Fare\": 8.7125, \"Cabin\": null, \"Embarked\": \"C\"}, {\"PassengerId\": 586, \"Survived\": 1, \"Pclass\": 1, \"Name\": \"Taussig, Miss. Ruth\", \"Sex\": \"female\", \"Age\": 18.0, \"SibSp\": 0, \"Parch\": 2, \"Ticket\": \"110413\", \"Fare\": 79.65, \"Cabin\": \"E68\", \"Embarked\": \"S\"}, {\"PassengerId\": 587, \"Survived\": 0, \"Pclass\": 2, \"Name\": \"Jarvis, Mr. John Denzil\", \"Sex\": \"male\", \"Age\": 47.0, \"SibSp\": 0, \"Parch\": 0, \"Ticket\": \"237565\", \"Fare\": 15.0, \"Cabin\": null, \"Embarked\": \"S\"}, {\"PassengerId\": 588, \"Survived\": 1, \"Pclass\": 1, \"Name\": \"Frolicher-Stehli, Mr. Maxmillian\", \"Sex\": \"male\", \"Age\": 60.0, \"SibSp\": 1, \"Parch\": 1, \"Ticket\": \"13567\", \"Fare\": 79.2, \"Cabin\": \"B41\", \"Embarked\": \"C\"}, {\"PassengerId\": 589, \"Survived\": 0, \"Pclass\": 3, \"Name\": \"Gilinski, Mr. Eliezer\", \"Sex\": \"male\", \"Age\": 22.0, \"SibSp\": 0, \"Parch\": 0, \"Ticket\": \"14973\", \"Fare\": 8.05, \"Cabin\": null, \"Embarked\": \"S\"}, {\"PassengerId\": 590, \"Survived\": 0, \"Pclass\": 3, \"Name\": \"Murdlin, Mr. Joseph\", \"Sex\": \"male\", \"Age\": null, \"SibSp\": 0, \"Parch\": 0, \"Ticket\": \"A./5. 3235\", \"Fare\": 8.05, \"Cabin\": null, \"Embarked\": \"S\"}, {\"PassengerId\": 591, \"Survived\": 0, \"Pclass\": 3, \"Name\": \"Rintamaki, Mr. Matti\", \"Sex\": \"male\", \"Age\": 35.0, \"SibSp\": 0, \"Parch\": 0, \"Ticket\": \"STON/O 2. 3101273\", \"Fare\": 7.125, \"Cabin\": null, \"Embarked\": \"S\"}, {\"PassengerId\": 592, \"Survived\": 1, \"Pclass\": 1, \"Name\": \"Stephenson, Mrs. Walter Bertram (Martha Eustis)\", \"Sex\": \"female\", \"Age\": 52.0, \"SibSp\": 1, \"Parch\": 0, \"Ticket\": \"36947\", \"Fare\": 78.2667, \"Cabin\": \"D20\", \"Embarked\": \"C\"}, {\"PassengerId\": 593, \"Survived\": 0, \"Pclass\": 3, \"Name\": \"Elsbury, Mr. William James\", \"Sex\": \"male\", \"Age\": 47.0, \"SibSp\": 0, \"Parch\": 0, \"Ticket\": \"A/5 3902\", \"Fare\": 7.25, \"Cabin\": null, \"Embarked\": \"S\"}, {\"PassengerId\": 594, \"Survived\": 0, \"Pclass\": 3, \"Name\": \"Bourke, Miss. Mary\", \"Sex\": \"female\", \"Age\": null, \"SibSp\": 0, \"Parch\": 2, \"Ticket\": \"364848\", \"Fare\": 7.75, \"Cabin\": null, \"Embarked\": \"Q\"}, {\"PassengerId\": 595, \"Survived\": 0, \"Pclass\": 2, \"Name\": \"Chapman, Mr. John Henry\", \"Sex\": \"male\", \"Age\": 37.0, \"SibSp\": 1, \"Parch\": 0, \"Ticket\": \"SC/AH 29037\", \"Fare\": 26.0, \"Cabin\": null, \"Embarked\": \"S\"}, {\"PassengerId\": 596, \"Survived\": 0, \"Pclass\": 3, \"Name\": \"Van Impe, Mr. Jean Baptiste\", \"Sex\": \"male\", \"Age\": 36.0, \"SibSp\": 1, \"Parch\": 1, \"Ticket\": \"345773\", \"Fare\": 24.15, \"Cabin\": null, \"Embarked\": \"S\"}, {\"PassengerId\": 597, \"Survived\": 1, \"Pclass\": 2, \"Name\": \"Leitch, Miss. Jessie Wills\", \"Sex\": \"female\", \"Age\": null, \"SibSp\": 0, \"Parch\": 0, \"Ticket\": \"248727\", \"Fare\": 33.0, \"Cabin\": null, \"Embarked\": \"S\"}, {\"PassengerId\": 598, \"Survived\": 0, \"Pclass\": 3, \"Name\": \"Johnson, Mr. Alfred\", \"Sex\": \"male\", \"Age\": 49.0, \"SibSp\": 0, \"Parch\": 0, \"Ticket\": \"LINE\", \"Fare\": 0.0, \"Cabin\": null, \"Embarked\": \"S\"}, {\"PassengerId\": 599, \"Survived\": 0, \"Pclass\": 3, \"Name\": \"Boulos, Mr. Hanna\", \"Sex\": \"male\", \"Age\": null, \"SibSp\": 0, \"Parch\": 0, \"Ticket\": \"2664\", \"Fare\": 7.225, \"Cabin\": null, \"Embarked\": \"C\"}, {\"PassengerId\": 600, \"Survived\": 1, \"Pclass\": 1, \"Name\": \"Duff Gordon, Sir. Cosmo Edmund (\\\"Mr Morgan\\\")\", \"Sex\": \"male\", \"Age\": 49.0, \"SibSp\": 1, \"Parch\": 0, \"Ticket\": \"PC 17485\", \"Fare\": 56.9292, \"Cabin\": \"A20\", \"Embarked\": \"C\"}, {\"PassengerId\": 601, \"Survived\": 1, \"Pclass\": 2, \"Name\": \"Jacobsohn, Mrs. Sidney Samuel (Amy Frances Christy)\", \"Sex\": \"female\", \"Age\": 24.0, \"SibSp\": 2, \"Parch\": 1, \"Ticket\": \"243847\", \"Fare\": 27.0, \"Cabin\": null, \"Embarked\": \"S\"}, {\"PassengerId\": 602, \"Survived\": 0, \"Pclass\": 3, \"Name\": \"Slabenoff, Mr. Petco\", \"Sex\": \"male\", \"Age\": null, \"SibSp\": 0, \"Parch\": 0, \"Ticket\": \"349214\", \"Fare\": 7.8958, \"Cabin\": null, \"Embarked\": \"S\"}, {\"PassengerId\": 603, \"Survived\": 0, \"Pclass\": 1, \"Name\": \"Harrington, Mr. Charles H\", \"Sex\": \"male\", \"Age\": null, \"SibSp\": 0, \"Parch\": 0, \"Ticket\": \"113796\", \"Fare\": 42.4, \"Cabin\": null, \"Embarked\": \"S\"}, {\"PassengerId\": 604, \"Survived\": 0, \"Pclass\": 3, \"Name\": \"Torber, Mr. Ernst William\", \"Sex\": \"male\", \"Age\": 44.0, \"SibSp\": 0, \"Parch\": 0, \"Ticket\": \"364511\", \"Fare\": 8.05, \"Cabin\": null, \"Embarked\": \"S\"}, {\"PassengerId\": 605, \"Survived\": 1, \"Pclass\": 1, \"Name\": \"Homer, Mr. Harry (\\\"Mr E Haven\\\")\", \"Sex\": \"male\", \"Age\": 35.0, \"SibSp\": 0, \"Parch\": 0, \"Ticket\": \"111426\", \"Fare\": 26.55, \"Cabin\": null, \"Embarked\": \"C\"}, {\"PassengerId\": 606, \"Survived\": 0, \"Pclass\": 3, \"Name\": \"Lindell, Mr. Edvard Bengtsson\", \"Sex\": \"male\", \"Age\": 36.0, \"SibSp\": 1, \"Parch\": 0, \"Ticket\": \"349910\", \"Fare\": 15.55, \"Cabin\": null, \"Embarked\": \"S\"}, {\"PassengerId\": 607, \"Survived\": 0, \"Pclass\": 3, \"Name\": \"Karaic, Mr. Milan\", \"Sex\": \"male\", \"Age\": 30.0, \"SibSp\": 0, \"Parch\": 0, \"Ticket\": \"349246\", \"Fare\": 7.8958, \"Cabin\": null, \"Embarked\": \"S\"}, {\"PassengerId\": 608, \"Survived\": 1, \"Pclass\": 1, \"Name\": \"Daniel, Mr. Robert Williams\", \"Sex\": \"male\", \"Age\": 27.0, \"SibSp\": 0, \"Parch\": 0, \"Ticket\": \"113804\", \"Fare\": 30.5, \"Cabin\": null, \"Embarked\": \"S\"}, {\"PassengerId\": 609, \"Survived\": 1, \"Pclass\": 2, \"Name\": \"Laroche, Mrs. Joseph (Juliette Marie Louise Lafargue)\", \"Sex\": \"female\", \"Age\": 22.0, \"SibSp\": 1, \"Parch\": 2, \"Ticket\": \"SC/Paris 2123\", \"Fare\": 41.5792, \"Cabin\": null, \"Embarked\": \"C\"}, {\"PassengerId\": 610, \"Survived\": 1, \"Pclass\": 1, \"Name\": \"Shutes, Miss. Elizabeth W\", \"Sex\": \"female\", \"Age\": 40.0, \"SibSp\": 0, \"Parch\": 0, \"Ticket\": \"PC 17582\", \"Fare\": 153.4625, \"Cabin\": \"C125\", \"Embarked\": \"S\"}, {\"PassengerId\": 611, \"Survived\": 0, \"Pclass\": 3, \"Name\": \"Andersson, Mrs. Anders Johan (Alfrida Konstantia Brogren)\", \"Sex\": \"female\", \"Age\": 39.0, \"SibSp\": 1, \"Parch\": 5, \"Ticket\": \"347082\", \"Fare\": 31.275, \"Cabin\": null, \"Embarked\": \"S\"}, {\"PassengerId\": 612, \"Survived\": 0, \"Pclass\": 3, \"Name\": \"Jardin, Mr. Jose Neto\", \"Sex\": \"male\", \"Age\": null, \"SibSp\": 0, \"Parch\": 0, \"Ticket\": \"SOTON/O.Q. 3101305\", \"Fare\": 7.05, \"Cabin\": null, \"Embarked\": \"S\"}, {\"PassengerId\": 613, \"Survived\": 1, \"Pclass\": 3, \"Name\": \"Murphy, Miss. Margaret Jane\", \"Sex\": \"female\", \"Age\": null, \"SibSp\": 1, \"Parch\": 0, \"Ticket\": \"367230\", \"Fare\": 15.5, \"Cabin\": null, \"Embarked\": \"Q\"}, {\"PassengerId\": 614, \"Survived\": 0, \"Pclass\": 3, \"Name\": \"Horgan, Mr. John\", \"Sex\": \"male\", \"Age\": null, \"SibSp\": 0, \"Parch\": 0, \"Ticket\": \"370377\", \"Fare\": 7.75, \"Cabin\": null, \"Embarked\": \"Q\"}, {\"PassengerId\": 615, \"Survived\": 0, \"Pclass\": 3, \"Name\": \"Brocklebank, Mr. William Alfred\", \"Sex\": \"male\", \"Age\": 35.0, \"SibSp\": 0, \"Parch\": 0, \"Ticket\": \"364512\", \"Fare\": 8.05, \"Cabin\": null, \"Embarked\": \"S\"}, {\"PassengerId\": 616, \"Survived\": 1, \"Pclass\": 2, \"Name\": \"Herman, Miss. Alice\", \"Sex\": \"female\", \"Age\": 24.0, \"SibSp\": 1, \"Parch\": 2, \"Ticket\": \"220845\", \"Fare\": 65.0, \"Cabin\": null, \"Embarked\": \"S\"}, {\"PassengerId\": 617, \"Survived\": 0, \"Pclass\": 3, \"Name\": \"Danbom, Mr. Ernst Gilbert\", \"Sex\": \"male\", \"Age\": 34.0, \"SibSp\": 1, \"Parch\": 1, \"Ticket\": \"347080\", \"Fare\": 14.4, \"Cabin\": null, \"Embarked\": \"S\"}, {\"PassengerId\": 618, \"Survived\": 0, \"Pclass\": 3, \"Name\": \"Lobb, Mrs. William Arthur (Cordelia K Stanlick)\", \"Sex\": \"female\", \"Age\": 26.0, \"SibSp\": 1, \"Parch\": 0, \"Ticket\": \"A/5. 3336\", \"Fare\": 16.1, \"Cabin\": null, \"Embarked\": \"S\"}, {\"PassengerId\": 619, \"Survived\": 1, \"Pclass\": 2, \"Name\": \"Becker, Miss. Marion Louise\", \"Sex\": \"female\", \"Age\": 4.0, \"SibSp\": 2, \"Parch\": 1, \"Ticket\": \"230136\", \"Fare\": 39.0, \"Cabin\": \"F4\", \"Embarked\": \"S\"}, {\"PassengerId\": 620, \"Survived\": 0, \"Pclass\": 2, \"Name\": \"Gavey, Mr. Lawrence\", \"Sex\": \"male\", \"Age\": 26.0, \"SibSp\": 0, \"Parch\": 0, \"Ticket\": \"31028\", \"Fare\": 10.5, \"Cabin\": null, \"Embarked\": \"S\"}, {\"PassengerId\": 621, \"Survived\": 0, \"Pclass\": 3, \"Name\": \"Yasbeck, Mr. Antoni\", \"Sex\": \"male\", \"Age\": 27.0, \"SibSp\": 1, \"Parch\": 0, \"Ticket\": \"2659\", \"Fare\": 14.4542, \"Cabin\": null, \"Embarked\": \"C\"}, {\"PassengerId\": 622, \"Survived\": 1, \"Pclass\": 1, \"Name\": \"Kimball, Mr. Edwin Nelson Jr\", \"Sex\": \"male\", \"Age\": 42.0, \"SibSp\": 1, \"Parch\": 0, \"Ticket\": \"11753\", \"Fare\": 52.5542, \"Cabin\": \"D19\", \"Embarked\": \"S\"}, {\"PassengerId\": 623, \"Survived\": 1, \"Pclass\": 3, \"Name\": \"Nakid, Mr. Sahid\", \"Sex\": \"male\", \"Age\": 20.0, \"SibSp\": 1, \"Parch\": 1, \"Ticket\": \"2653\", \"Fare\": 15.7417, \"Cabin\": null, \"Embarked\": \"C\"}, {\"PassengerId\": 624, \"Survived\": 0, \"Pclass\": 3, \"Name\": \"Hansen, Mr. Henry Damsgaard\", \"Sex\": \"male\", \"Age\": 21.0, \"SibSp\": 0, \"Parch\": 0, \"Ticket\": \"350029\", \"Fare\": 7.8542, \"Cabin\": null, \"Embarked\": \"S\"}, {\"PassengerId\": 625, \"Survived\": 0, \"Pclass\": 3, \"Name\": \"Bowen, Mr. David John \\\"Dai\\\"\", \"Sex\": \"male\", \"Age\": 21.0, \"SibSp\": 0, \"Parch\": 0, \"Ticket\": \"54636\", \"Fare\": 16.1, \"Cabin\": null, \"Embarked\": \"S\"}, {\"PassengerId\": 626, \"Survived\": 0, \"Pclass\": 1, \"Name\": \"Sutton, Mr. Frederick\", \"Sex\": \"male\", \"Age\": 61.0, \"SibSp\": 0, \"Parch\": 0, \"Ticket\": \"36963\", \"Fare\": 32.3208, \"Cabin\": \"D50\", \"Embarked\": \"S\"}, {\"PassengerId\": 627, \"Survived\": 0, \"Pclass\": 2, \"Name\": \"Kirkland, Rev. Charles Leonard\", \"Sex\": \"male\", \"Age\": 57.0, \"SibSp\": 0, \"Parch\": 0, \"Ticket\": \"219533\", \"Fare\": 12.35, \"Cabin\": null, \"Embarked\": \"Q\"}, {\"PassengerId\": 628, \"Survived\": 1, \"Pclass\": 1, \"Name\": \"Longley, Miss. Gretchen Fiske\", \"Sex\": \"female\", \"Age\": 21.0, \"SibSp\": 0, \"Parch\": 0, \"Ticket\": \"13502\", \"Fare\": 77.9583, \"Cabin\": \"D9\", \"Embarked\": \"S\"}, {\"PassengerId\": 629, \"Survived\": 0, \"Pclass\": 3, \"Name\": \"Bostandyeff, Mr. Guentcho\", \"Sex\": \"male\", \"Age\": 26.0, \"SibSp\": 0, \"Parch\": 0, \"Ticket\": \"349224\", \"Fare\": 7.8958, \"Cabin\": null, \"Embarked\": \"S\"}, {\"PassengerId\": 630, \"Survived\": 0, \"Pclass\": 3, \"Name\": \"O'Connell, Mr. Patrick D\", \"Sex\": \"male\", \"Age\": null, \"SibSp\": 0, \"Parch\": 0, \"Ticket\": \"334912\", \"Fare\": 7.7333, \"Cabin\": null, \"Embarked\": \"Q\"}, {\"PassengerId\": 631, \"Survived\": 1, \"Pclass\": 1, \"Name\": \"Barkworth, Mr. Algernon Henry Wilson\", \"Sex\": \"male\", \"Age\": 80.0, \"SibSp\": 0, \"Parch\": 0, \"Ticket\": \"27042\", \"Fare\": 30.0, \"Cabin\": \"A23\", \"Embarked\": \"S\"}, {\"PassengerId\": 632, \"Survived\": 0, \"Pclass\": 3, \"Name\": \"Lundahl, Mr. Johan Svensson\", \"Sex\": \"male\", \"Age\": 51.0, \"SibSp\": 0, \"Parch\": 0, \"Ticket\": \"347743\", \"Fare\": 7.0542, \"Cabin\": null, \"Embarked\": \"S\"}, {\"PassengerId\": 633, \"Survived\": 1, \"Pclass\": 1, \"Name\": \"Stahelin-Maeglin, Dr. Max\", \"Sex\": \"male\", \"Age\": 32.0, \"SibSp\": 0, \"Parch\": 0, \"Ticket\": \"13214\", \"Fare\": 30.5, \"Cabin\": \"B50\", \"Embarked\": \"C\"}, {\"PassengerId\": 634, \"Survived\": 0, \"Pclass\": 1, \"Name\": \"Parr, Mr. William Henry Marsh\", \"Sex\": \"male\", \"Age\": null, \"SibSp\": 0, \"Parch\": 0, \"Ticket\": \"112052\", \"Fare\": 0.0, \"Cabin\": null, \"Embarked\": \"S\"}, {\"PassengerId\": 635, \"Survived\": 0, \"Pclass\": 3, \"Name\": \"Skoog, Miss. Mabel\", \"Sex\": \"female\", \"Age\": 9.0, \"SibSp\": 3, \"Parch\": 2, \"Ticket\": \"347088\", \"Fare\": 27.9, \"Cabin\": null, \"Embarked\": \"S\"}, {\"PassengerId\": 636, \"Survived\": 1, \"Pclass\": 2, \"Name\": \"Davis, Miss. Mary\", \"Sex\": \"female\", \"Age\": 28.0, \"SibSp\": 0, \"Parch\": 0, \"Ticket\": \"237668\", \"Fare\": 13.0, \"Cabin\": null, \"Embarked\": \"S\"}, {\"PassengerId\": 637, \"Survived\": 0, \"Pclass\": 3, \"Name\": \"Leinonen, Mr. Antti Gustaf\", \"Sex\": \"male\", \"Age\": 32.0, \"SibSp\": 0, \"Parch\": 0, \"Ticket\": \"STON/O 2. 3101292\", \"Fare\": 7.925, \"Cabin\": null, \"Embarked\": \"S\"}, {\"PassengerId\": 638, \"Survived\": 0, \"Pclass\": 2, \"Name\": \"Collyer, Mr. Harvey\", \"Sex\": \"male\", \"Age\": 31.0, \"SibSp\": 1, \"Parch\": 1, \"Ticket\": \"C.A. 31921\", \"Fare\": 26.25, \"Cabin\": null, \"Embarked\": \"S\"}, {\"PassengerId\": 639, \"Survived\": 0, \"Pclass\": 3, \"Name\": \"Panula, Mrs. Juha (Maria Emilia Ojala)\", \"Sex\": \"female\", \"Age\": 41.0, \"SibSp\": 0, \"Parch\": 5, \"Ticket\": \"3101295\", \"Fare\": 39.6875, \"Cabin\": null, \"Embarked\": \"S\"}, {\"PassengerId\": 640, \"Survived\": 0, \"Pclass\": 3, \"Name\": \"Thorneycroft, Mr. Percival\", \"Sex\": \"male\", \"Age\": null, \"SibSp\": 1, \"Parch\": 0, \"Ticket\": \"376564\", \"Fare\": 16.1, \"Cabin\": null, \"Embarked\": \"S\"}, {\"PassengerId\": 641, \"Survived\": 0, \"Pclass\": 3, \"Name\": \"Jensen, Mr. Hans Peder\", \"Sex\": \"male\", \"Age\": 20.0, \"SibSp\": 0, \"Parch\": 0, \"Ticket\": \"350050\", \"Fare\": 7.8542, \"Cabin\": null, \"Embarked\": \"S\"}, {\"PassengerId\": 642, \"Survived\": 1, \"Pclass\": 1, \"Name\": \"Sagesser, Mlle. Emma\", \"Sex\": \"female\", \"Age\": 24.0, \"SibSp\": 0, \"Parch\": 0, \"Ticket\": \"PC 17477\", \"Fare\": 69.3, \"Cabin\": \"B35\", \"Embarked\": \"C\"}, {\"PassengerId\": 643, \"Survived\": 0, \"Pclass\": 3, \"Name\": \"Skoog, Miss. Margit Elizabeth\", \"Sex\": \"female\", \"Age\": 2.0, \"SibSp\": 3, \"Parch\": 2, \"Ticket\": \"347088\", \"Fare\": 27.9, \"Cabin\": null, \"Embarked\": \"S\"}, {\"PassengerId\": 644, \"Survived\": 1, \"Pclass\": 3, \"Name\": \"Foo, Mr. Choong\", \"Sex\": \"male\", \"Age\": null, \"SibSp\": 0, \"Parch\": 0, \"Ticket\": \"1601\", \"Fare\": 56.4958, \"Cabin\": null, \"Embarked\": \"S\"}, {\"PassengerId\": 645, \"Survived\": 1, \"Pclass\": 3, \"Name\": \"Baclini, Miss. Eugenie\", \"Sex\": \"female\", \"Age\": 0.75, \"SibSp\": 2, \"Parch\": 1, \"Ticket\": \"2666\", \"Fare\": 19.2583, \"Cabin\": null, \"Embarked\": \"C\"}, {\"PassengerId\": 646, \"Survived\": 1, \"Pclass\": 1, \"Name\": \"Harper, Mr. Henry Sleeper\", \"Sex\": \"male\", \"Age\": 48.0, \"SibSp\": 1, \"Parch\": 0, \"Ticket\": \"PC 17572\", \"Fare\": 76.7292, \"Cabin\": \"D33\", \"Embarked\": \"C\"}, {\"PassengerId\": 647, \"Survived\": 0, \"Pclass\": 3, \"Name\": \"Cor, Mr. Liudevit\", \"Sex\": \"male\", \"Age\": 19.0, \"SibSp\": 0, \"Parch\": 0, \"Ticket\": \"349231\", \"Fare\": 7.8958, \"Cabin\": null, \"Embarked\": \"S\"}, {\"PassengerId\": 648, \"Survived\": 1, \"Pclass\": 1, \"Name\": \"Simonius-Blumer, Col. Oberst Alfons\", \"Sex\": \"male\", \"Age\": 56.0, \"SibSp\": 0, \"Parch\": 0, \"Ticket\": \"13213\", \"Fare\": 35.5, \"Cabin\": \"A26\", \"Embarked\": \"C\"}, {\"PassengerId\": 649, \"Survived\": 0, \"Pclass\": 3, \"Name\": \"Willey, Mr. Edward\", \"Sex\": \"male\", \"Age\": null, \"SibSp\": 0, \"Parch\": 0, \"Ticket\": \"S.O./P.P. 751\", \"Fare\": 7.55, \"Cabin\": null, \"Embarked\": \"S\"}, {\"PassengerId\": 650, \"Survived\": 1, \"Pclass\": 3, \"Name\": \"Stanley, Miss. Amy Zillah Elsie\", \"Sex\": \"female\", \"Age\": 23.0, \"SibSp\": 0, \"Parch\": 0, \"Ticket\": \"CA. 2314\", \"Fare\": 7.55, \"Cabin\": null, \"Embarked\": \"S\"}, {\"PassengerId\": 651, \"Survived\": 0, \"Pclass\": 3, \"Name\": \"Mitkoff, Mr. Mito\", \"Sex\": \"male\", \"Age\": null, \"SibSp\": 0, \"Parch\": 0, \"Ticket\": \"349221\", \"Fare\": 7.8958, \"Cabin\": null, \"Embarked\": \"S\"}, {\"PassengerId\": 652, \"Survived\": 1, \"Pclass\": 2, \"Name\": \"Doling, Miss. Elsie\", \"Sex\": \"female\", \"Age\": 18.0, \"SibSp\": 0, \"Parch\": 1, \"Ticket\": \"231919\", \"Fare\": 23.0, \"Cabin\": null, \"Embarked\": \"S\"}, {\"PassengerId\": 653, \"Survived\": 0, \"Pclass\": 3, \"Name\": \"Kalvik, Mr. Johannes Halvorsen\", \"Sex\": \"male\", \"Age\": 21.0, \"SibSp\": 0, \"Parch\": 0, \"Ticket\": \"8475\", \"Fare\": 8.4333, \"Cabin\": null, \"Embarked\": \"S\"}, {\"PassengerId\": 654, \"Survived\": 1, \"Pclass\": 3, \"Name\": \"O'Leary, Miss. Hanora \\\"Norah\\\"\", \"Sex\": \"female\", \"Age\": null, \"SibSp\": 0, \"Parch\": 0, \"Ticket\": \"330919\", \"Fare\": 7.8292, \"Cabin\": null, \"Embarked\": \"Q\"}, {\"PassengerId\": 655, \"Survived\": 0, \"Pclass\": 3, \"Name\": \"Hegarty, Miss. Hanora \\\"Nora\\\"\", \"Sex\": \"female\", \"Age\": 18.0, \"SibSp\": 0, \"Parch\": 0, \"Ticket\": \"365226\", \"Fare\": 6.75, \"Cabin\": null, \"Embarked\": \"Q\"}, {\"PassengerId\": 656, \"Survived\": 0, \"Pclass\": 2, \"Name\": \"Hickman, Mr. Leonard Mark\", \"Sex\": \"male\", \"Age\": 24.0, \"SibSp\": 2, \"Parch\": 0, \"Ticket\": \"S.O.C. 14879\", \"Fare\": 73.5, \"Cabin\": null, \"Embarked\": \"S\"}, {\"PassengerId\": 657, \"Survived\": 0, \"Pclass\": 3, \"Name\": \"Radeff, Mr. Alexander\", \"Sex\": \"male\", \"Age\": null, \"SibSp\": 0, \"Parch\": 0, \"Ticket\": \"349223\", \"Fare\": 7.8958, \"Cabin\": null, \"Embarked\": \"S\"}, {\"PassengerId\": 658, \"Survived\": 0, \"Pclass\": 3, \"Name\": \"Bourke, Mrs. John (Catherine)\", \"Sex\": \"female\", \"Age\": 32.0, \"SibSp\": 1, \"Parch\": 1, \"Ticket\": \"364849\", \"Fare\": 15.5, \"Cabin\": null, \"Embarked\": \"Q\"}, {\"PassengerId\": 659, \"Survived\": 0, \"Pclass\": 2, \"Name\": \"Eitemiller, Mr. George Floyd\", \"Sex\": \"male\", \"Age\": 23.0, \"SibSp\": 0, \"Parch\": 0, \"Ticket\": \"29751\", \"Fare\": 13.0, \"Cabin\": null, \"Embarked\": \"S\"}, {\"PassengerId\": 660, \"Survived\": 0, \"Pclass\": 1, \"Name\": \"Newell, Mr. Arthur Webster\", \"Sex\": \"male\", \"Age\": 58.0, \"SibSp\": 0, \"Parch\": 2, \"Ticket\": \"35273\", \"Fare\": 113.275, \"Cabin\": \"D48\", \"Embarked\": \"C\"}, {\"PassengerId\": 661, \"Survived\": 1, \"Pclass\": 1, \"Name\": \"Frauenthal, Dr. Henry William\", \"Sex\": \"male\", \"Age\": 50.0, \"SibSp\": 2, \"Parch\": 0, \"Ticket\": \"PC 17611\", \"Fare\": 133.65, \"Cabin\": null, \"Embarked\": \"S\"}, {\"PassengerId\": 662, \"Survived\": 0, \"Pclass\": 3, \"Name\": \"Badt, Mr. Mohamed\", \"Sex\": \"male\", \"Age\": 40.0, \"SibSp\": 0, \"Parch\": 0, \"Ticket\": \"2623\", \"Fare\": 7.225, \"Cabin\": null, \"Embarked\": \"C\"}, {\"PassengerId\": 663, \"Survived\": 0, \"Pclass\": 1, \"Name\": \"Colley, Mr. Edward Pomeroy\", \"Sex\": \"male\", \"Age\": 47.0, \"SibSp\": 0, \"Parch\": 0, \"Ticket\": \"5727\", \"Fare\": 25.5875, \"Cabin\": \"E58\", \"Embarked\": \"S\"}, {\"PassengerId\": 664, \"Survived\": 0, \"Pclass\": 3, \"Name\": \"Coleff, Mr. Peju\", \"Sex\": \"male\", \"Age\": 36.0, \"SibSp\": 0, \"Parch\": 0, \"Ticket\": \"349210\", \"Fare\": 7.4958, \"Cabin\": null, \"Embarked\": \"S\"}, {\"PassengerId\": 665, \"Survived\": 1, \"Pclass\": 3, \"Name\": \"Lindqvist, Mr. Eino William\", \"Sex\": \"male\", \"Age\": 20.0, \"SibSp\": 1, \"Parch\": 0, \"Ticket\": \"STON/O 2. 3101285\", \"Fare\": 7.925, \"Cabin\": null, \"Embarked\": \"S\"}, {\"PassengerId\": 666, \"Survived\": 0, \"Pclass\": 2, \"Name\": \"Hickman, Mr. Lewis\", \"Sex\": \"male\", \"Age\": 32.0, \"SibSp\": 2, \"Parch\": 0, \"Ticket\": \"S.O.C. 14879\", \"Fare\": 73.5, \"Cabin\": null, \"Embarked\": \"S\"}, {\"PassengerId\": 667, \"Survived\": 0, \"Pclass\": 2, \"Name\": \"Butler, Mr. Reginald Fenton\", \"Sex\": \"male\", \"Age\": 25.0, \"SibSp\": 0, \"Parch\": 0, \"Ticket\": \"234686\", \"Fare\": 13.0, \"Cabin\": null, \"Embarked\": \"S\"}, {\"PassengerId\": 668, \"Survived\": 0, \"Pclass\": 3, \"Name\": \"Rommetvedt, Mr. Knud Paust\", \"Sex\": \"male\", \"Age\": null, \"SibSp\": 0, \"Parch\": 0, \"Ticket\": \"312993\", \"Fare\": 7.775, \"Cabin\": null, \"Embarked\": \"S\"}, {\"PassengerId\": 669, \"Survived\": 0, \"Pclass\": 3, \"Name\": \"Cook, Mr. Jacob\", \"Sex\": \"male\", \"Age\": 43.0, \"SibSp\": 0, \"Parch\": 0, \"Ticket\": \"A/5 3536\", \"Fare\": 8.05, \"Cabin\": null, \"Embarked\": \"S\"}, {\"PassengerId\": 670, \"Survived\": 1, \"Pclass\": 1, \"Name\": \"Taylor, Mrs. Elmer Zebley (Juliet Cummins Wright)\", \"Sex\": \"female\", \"Age\": null, \"SibSp\": 1, \"Parch\": 0, \"Ticket\": \"19996\", \"Fare\": 52.0, \"Cabin\": \"C126\", \"Embarked\": \"S\"}, {\"PassengerId\": 671, \"Survived\": 1, \"Pclass\": 2, \"Name\": \"Brown, Mrs. Thomas William Solomon (Elizabeth Catherine Ford)\", \"Sex\": \"female\", \"Age\": 40.0, \"SibSp\": 1, \"Parch\": 1, \"Ticket\": \"29750\", \"Fare\": 39.0, \"Cabin\": null, \"Embarked\": \"S\"}, {\"PassengerId\": 672, \"Survived\": 0, \"Pclass\": 1, \"Name\": \"Davidson, Mr. Thornton\", \"Sex\": \"male\", \"Age\": 31.0, \"SibSp\": 1, \"Parch\": 0, \"Ticket\": \"F.C. 12750\", \"Fare\": 52.0, \"Cabin\": \"B71\", \"Embarked\": \"S\"}, {\"PassengerId\": 673, \"Survived\": 0, \"Pclass\": 2, \"Name\": \"Mitchell, Mr. Henry Michael\", \"Sex\": \"male\", \"Age\": 70.0, \"SibSp\": 0, \"Parch\": 0, \"Ticket\": \"C.A. 24580\", \"Fare\": 10.5, \"Cabin\": null, \"Embarked\": \"S\"}, {\"PassengerId\": 674, \"Survived\": 1, \"Pclass\": 2, \"Name\": \"Wilhelms, Mr. Charles\", \"Sex\": \"male\", \"Age\": 31.0, \"SibSp\": 0, \"Parch\": 0, \"Ticket\": \"244270\", \"Fare\": 13.0, \"Cabin\": null, \"Embarked\": \"S\"}, {\"PassengerId\": 675, \"Survived\": 0, \"Pclass\": 2, \"Name\": \"Watson, Mr. Ennis Hastings\", \"Sex\": \"male\", \"Age\": null, \"SibSp\": 0, \"Parch\": 0, \"Ticket\": \"239856\", \"Fare\": 0.0, \"Cabin\": null, \"Embarked\": \"S\"}, {\"PassengerId\": 676, \"Survived\": 0, \"Pclass\": 3, \"Name\": \"Edvardsson, Mr. Gustaf Hjalmar\", \"Sex\": \"male\", \"Age\": 18.0, \"SibSp\": 0, \"Parch\": 0, \"Ticket\": \"349912\", \"Fare\": 7.775, \"Cabin\": null, \"Embarked\": \"S\"}, {\"PassengerId\": 677, \"Survived\": 0, \"Pclass\": 3, \"Name\": \"Sawyer, Mr. Frederick Charles\", \"Sex\": \"male\", \"Age\": 24.5, \"SibSp\": 0, \"Parch\": 0, \"Ticket\": \"342826\", \"Fare\": 8.05, \"Cabin\": null, \"Embarked\": \"S\"}, {\"PassengerId\": 678, \"Survived\": 1, \"Pclass\": 3, \"Name\": \"Turja, Miss. Anna Sofia\", \"Sex\": \"female\", \"Age\": 18.0, \"SibSp\": 0, \"Parch\": 0, \"Ticket\": \"4138\", \"Fare\": 9.8417, \"Cabin\": null, \"Embarked\": \"S\"}, {\"PassengerId\": 679, \"Survived\": 0, \"Pclass\": 3, \"Name\": \"Goodwin, Mrs. Frederick (Augusta Tyler)\", \"Sex\": \"female\", \"Age\": 43.0, \"SibSp\": 1, \"Parch\": 6, \"Ticket\": \"CA 2144\", \"Fare\": 46.9, \"Cabin\": null, \"Embarked\": \"S\"}, {\"PassengerId\": 680, \"Survived\": 1, \"Pclass\": 1, \"Name\": \"Cardeza, Mr. Thomas Drake Martinez\", \"Sex\": \"male\", \"Age\": 36.0, \"SibSp\": 0, \"Parch\": 1, \"Ticket\": \"PC 17755\", \"Fare\": 512.3292, \"Cabin\": \"B51 B53 B55\", \"Embarked\": \"C\"}, {\"PassengerId\": 681, \"Survived\": 0, \"Pclass\": 3, \"Name\": \"Peters, Miss. Katie\", \"Sex\": \"female\", \"Age\": null, \"SibSp\": 0, \"Parch\": 0, \"Ticket\": \"330935\", \"Fare\": 8.1375, \"Cabin\": null, \"Embarked\": \"Q\"}, {\"PassengerId\": 682, \"Survived\": 1, \"Pclass\": 1, \"Name\": \"Hassab, Mr. Hammad\", \"Sex\": \"male\", \"Age\": 27.0, \"SibSp\": 0, \"Parch\": 0, \"Ticket\": \"PC 17572\", \"Fare\": 76.7292, \"Cabin\": \"D49\", \"Embarked\": \"C\"}, {\"PassengerId\": 683, \"Survived\": 0, \"Pclass\": 3, \"Name\": \"Olsvigen, Mr. Thor Anderson\", \"Sex\": \"male\", \"Age\": 20.0, \"SibSp\": 0, \"Parch\": 0, \"Ticket\": \"6563\", \"Fare\": 9.225, \"Cabin\": null, \"Embarked\": \"S\"}, {\"PassengerId\": 684, \"Survived\": 0, \"Pclass\": 3, \"Name\": \"Goodwin, Mr. Charles Edward\", \"Sex\": \"male\", \"Age\": 14.0, \"SibSp\": 5, \"Parch\": 2, \"Ticket\": \"CA 2144\", \"Fare\": 46.9, \"Cabin\": null, \"Embarked\": \"S\"}, {\"PassengerId\": 685, \"Survived\": 0, \"Pclass\": 2, \"Name\": \"Brown, Mr. Thomas William Solomon\", \"Sex\": \"male\", \"Age\": 60.0, \"SibSp\": 1, \"Parch\": 1, \"Ticket\": \"29750\", \"Fare\": 39.0, \"Cabin\": null, \"Embarked\": \"S\"}, {\"PassengerId\": 686, \"Survived\": 0, \"Pclass\": 2, \"Name\": \"Laroche, Mr. Joseph Philippe Lemercier\", \"Sex\": \"male\", \"Age\": 25.0, \"SibSp\": 1, \"Parch\": 2, \"Ticket\": \"SC/Paris 2123\", \"Fare\": 41.5792, \"Cabin\": null, \"Embarked\": \"C\"}, {\"PassengerId\": 687, \"Survived\": 0, \"Pclass\": 3, \"Name\": \"Panula, Mr. Jaako Arnold\", \"Sex\": \"male\", \"Age\": 14.0, \"SibSp\": 4, \"Parch\": 1, \"Ticket\": \"3101295\", \"Fare\": 39.6875, \"Cabin\": null, \"Embarked\": \"S\"}, {\"PassengerId\": 688, \"Survived\": 0, \"Pclass\": 3, \"Name\": \"Dakic, Mr. Branko\", \"Sex\": \"male\", \"Age\": 19.0, \"SibSp\": 0, \"Parch\": 0, \"Ticket\": \"349228\", \"Fare\": 10.1708, \"Cabin\": null, \"Embarked\": \"S\"}, {\"PassengerId\": 689, \"Survived\": 0, \"Pclass\": 3, \"Name\": \"Fischer, Mr. Eberhard Thelander\", \"Sex\": \"male\", \"Age\": 18.0, \"SibSp\": 0, \"Parch\": 0, \"Ticket\": \"350036\", \"Fare\": 7.7958, \"Cabin\": null, \"Embarked\": \"S\"}, {\"PassengerId\": 690, \"Survived\": 1, \"Pclass\": 1, \"Name\": \"Madill, Miss. Georgette Alexandra\", \"Sex\": \"female\", \"Age\": 15.0, \"SibSp\": 0, \"Parch\": 1, \"Ticket\": \"24160\", \"Fare\": 211.3375, \"Cabin\": \"B5\", \"Embarked\": \"S\"}, {\"PassengerId\": 691, \"Survived\": 1, \"Pclass\": 1, \"Name\": \"Dick, Mr. Albert Adrian\", \"Sex\": \"male\", \"Age\": 31.0, \"SibSp\": 1, \"Parch\": 0, \"Ticket\": \"17474\", \"Fare\": 57.0, \"Cabin\": \"B20\", \"Embarked\": \"S\"}, {\"PassengerId\": 692, \"Survived\": 1, \"Pclass\": 3, \"Name\": \"Karun, Miss. Manca\", \"Sex\": \"female\", \"Age\": 4.0, \"SibSp\": 0, \"Parch\": 1, \"Ticket\": \"349256\", \"Fare\": 13.4167, \"Cabin\": null, \"Embarked\": \"C\"}, {\"PassengerId\": 693, \"Survived\": 1, \"Pclass\": 3, \"Name\": \"Lam, Mr. Ali\", \"Sex\": \"male\", \"Age\": null, \"SibSp\": 0, \"Parch\": 0, \"Ticket\": \"1601\", \"Fare\": 56.4958, \"Cabin\": null, \"Embarked\": \"S\"}, {\"PassengerId\": 694, \"Survived\": 0, \"Pclass\": 3, \"Name\": \"Saad, Mr. Khalil\", \"Sex\": \"male\", \"Age\": 25.0, \"SibSp\": 0, \"Parch\": 0, \"Ticket\": \"2672\", \"Fare\": 7.225, \"Cabin\": null, \"Embarked\": \"C\"}, {\"PassengerId\": 695, \"Survived\": 0, \"Pclass\": 1, \"Name\": \"Weir, Col. John\", \"Sex\": \"male\", \"Age\": 60.0, \"SibSp\": 0, \"Parch\": 0, \"Ticket\": \"113800\", \"Fare\": 26.55, \"Cabin\": null, \"Embarked\": \"S\"}, {\"PassengerId\": 696, \"Survived\": 0, \"Pclass\": 2, \"Name\": \"Chapman, Mr. Charles Henry\", \"Sex\": \"male\", \"Age\": 52.0, \"SibSp\": 0, \"Parch\": 0, \"Ticket\": \"248731\", \"Fare\": 13.5, \"Cabin\": null, \"Embarked\": \"S\"}, {\"PassengerId\": 697, \"Survived\": 0, \"Pclass\": 3, \"Name\": \"Kelly, Mr. James\", \"Sex\": \"male\", \"Age\": 44.0, \"SibSp\": 0, \"Parch\": 0, \"Ticket\": \"363592\", \"Fare\": 8.05, \"Cabin\": null, \"Embarked\": \"S\"}, {\"PassengerId\": 698, \"Survived\": 1, \"Pclass\": 3, \"Name\": \"Mullens, Miss. Katherine \\\"Katie\\\"\", \"Sex\": \"female\", \"Age\": null, \"SibSp\": 0, \"Parch\": 0, \"Ticket\": \"35852\", \"Fare\": 7.7333, \"Cabin\": null, \"Embarked\": \"Q\"}, {\"PassengerId\": 699, \"Survived\": 0, \"Pclass\": 1, \"Name\": \"Thayer, Mr. John Borland\", \"Sex\": \"male\", \"Age\": 49.0, \"SibSp\": 1, \"Parch\": 1, \"Ticket\": \"17421\", \"Fare\": 110.8833, \"Cabin\": \"C68\", \"Embarked\": \"C\"}, {\"PassengerId\": 700, \"Survived\": 0, \"Pclass\": 3, \"Name\": \"Humblen, Mr. Adolf Mathias Nicolai Olsen\", \"Sex\": \"male\", \"Age\": 42.0, \"SibSp\": 0, \"Parch\": 0, \"Ticket\": \"348121\", \"Fare\": 7.65, \"Cabin\": \"F G63\", \"Embarked\": \"S\"}, {\"PassengerId\": 701, \"Survived\": 1, \"Pclass\": 1, \"Name\": \"Astor, Mrs. John Jacob (Madeleine Talmadge Force)\", \"Sex\": \"female\", \"Age\": 18.0, \"SibSp\": 1, \"Parch\": 0, \"Ticket\": \"PC 17757\", \"Fare\": 227.525, \"Cabin\": \"C62 C64\", \"Embarked\": \"C\"}, {\"PassengerId\": 702, \"Survived\": 1, \"Pclass\": 1, \"Name\": \"Silverthorne, Mr. Spencer Victor\", \"Sex\": \"male\", \"Age\": 35.0, \"SibSp\": 0, \"Parch\": 0, \"Ticket\": \"PC 17475\", \"Fare\": 26.2875, \"Cabin\": \"E24\", \"Embarked\": \"S\"}, {\"PassengerId\": 703, \"Survived\": 0, \"Pclass\": 3, \"Name\": \"Barbara, Miss. Saiide\", \"Sex\": \"female\", \"Age\": 18.0, \"SibSp\": 0, \"Parch\": 1, \"Ticket\": \"2691\", \"Fare\": 14.4542, \"Cabin\": null, \"Embarked\": \"C\"}, {\"PassengerId\": 704, \"Survived\": 0, \"Pclass\": 3, \"Name\": \"Gallagher, Mr. Martin\", \"Sex\": \"male\", \"Age\": 25.0, \"SibSp\": 0, \"Parch\": 0, \"Ticket\": \"36864\", \"Fare\": 7.7417, \"Cabin\": null, \"Embarked\": \"Q\"}, {\"PassengerId\": 705, \"Survived\": 0, \"Pclass\": 3, \"Name\": \"Hansen, Mr. Henrik Juul\", \"Sex\": \"male\", \"Age\": 26.0, \"SibSp\": 1, \"Parch\": 0, \"Ticket\": \"350025\", \"Fare\": 7.8542, \"Cabin\": null, \"Embarked\": \"S\"}, {\"PassengerId\": 706, \"Survived\": 0, \"Pclass\": 2, \"Name\": \"Morley, Mr. Henry Samuel (\\\"Mr Henry Marshall\\\")\", \"Sex\": \"male\", \"Age\": 39.0, \"SibSp\": 0, \"Parch\": 0, \"Ticket\": \"250655\", \"Fare\": 26.0, \"Cabin\": null, \"Embarked\": \"S\"}, {\"PassengerId\": 707, \"Survived\": 1, \"Pclass\": 2, \"Name\": \"Kelly, Mrs. Florence \\\"Fannie\\\"\", \"Sex\": \"female\", \"Age\": 45.0, \"SibSp\": 0, \"Parch\": 0, \"Ticket\": \"223596\", \"Fare\": 13.5, \"Cabin\": null, \"Embarked\": \"S\"}, {\"PassengerId\": 708, \"Survived\": 1, \"Pclass\": 1, \"Name\": \"Calderhead, Mr. Edward Pennington\", \"Sex\": \"male\", \"Age\": 42.0, \"SibSp\": 0, \"Parch\": 0, \"Ticket\": \"PC 17476\", \"Fare\": 26.2875, \"Cabin\": \"E24\", \"Embarked\": \"S\"}, {\"PassengerId\": 709, \"Survived\": 1, \"Pclass\": 1, \"Name\": \"Cleaver, Miss. Alice\", \"Sex\": \"female\", \"Age\": 22.0, \"SibSp\": 0, \"Parch\": 0, \"Ticket\": \"113781\", \"Fare\": 151.55, \"Cabin\": null, \"Embarked\": \"S\"}, {\"PassengerId\": 710, \"Survived\": 1, \"Pclass\": 3, \"Name\": \"Moubarek, Master. Halim Gonios (\\\"William George\\\")\", \"Sex\": \"male\", \"Age\": null, \"SibSp\": 1, \"Parch\": 1, \"Ticket\": \"2661\", \"Fare\": 15.2458, \"Cabin\": null, \"Embarked\": \"C\"}, {\"PassengerId\": 711, \"Survived\": 1, \"Pclass\": 1, \"Name\": \"Mayne, Mlle. Berthe Antonine (\\\"Mrs de Villiers\\\")\", \"Sex\": \"female\", \"Age\": 24.0, \"SibSp\": 0, \"Parch\": 0, \"Ticket\": \"PC 17482\", \"Fare\": 49.5042, \"Cabin\": \"C90\", \"Embarked\": \"C\"}, {\"PassengerId\": 712, \"Survived\": 0, \"Pclass\": 1, \"Name\": \"Klaber, Mr. Herman\", \"Sex\": \"male\", \"Age\": null, \"SibSp\": 0, \"Parch\": 0, \"Ticket\": \"113028\", \"Fare\": 26.55, \"Cabin\": \"C124\", \"Embarked\": \"S\"}, {\"PassengerId\": 713, \"Survived\": 1, \"Pclass\": 1, \"Name\": \"Taylor, Mr. Elmer Zebley\", \"Sex\": \"male\", \"Age\": 48.0, \"SibSp\": 1, \"Parch\": 0, \"Ticket\": \"19996\", \"Fare\": 52.0, \"Cabin\": \"C126\", \"Embarked\": \"S\"}, {\"PassengerId\": 714, \"Survived\": 0, \"Pclass\": 3, \"Name\": \"Larsson, Mr. August Viktor\", \"Sex\": \"male\", \"Age\": 29.0, \"SibSp\": 0, \"Parch\": 0, \"Ticket\": \"7545\", \"Fare\": 9.4833, \"Cabin\": null, \"Embarked\": \"S\"}, {\"PassengerId\": 715, \"Survived\": 0, \"Pclass\": 2, \"Name\": \"Greenberg, Mr. Samuel\", \"Sex\": \"male\", \"Age\": 52.0, \"SibSp\": 0, \"Parch\": 0, \"Ticket\": \"250647\", \"Fare\": 13.0, \"Cabin\": null, \"Embarked\": \"S\"}, {\"PassengerId\": 716, \"Survived\": 0, \"Pclass\": 3, \"Name\": \"Soholt, Mr. Peter Andreas Lauritz Andersen\", \"Sex\": \"male\", \"Age\": 19.0, \"SibSp\": 0, \"Parch\": 0, \"Ticket\": \"348124\", \"Fare\": 7.65, \"Cabin\": \"F G73\", \"Embarked\": \"S\"}, {\"PassengerId\": 717, \"Survived\": 1, \"Pclass\": 1, \"Name\": \"Endres, Miss. Caroline Louise\", \"Sex\": \"female\", \"Age\": 38.0, \"SibSp\": 0, \"Parch\": 0, \"Ticket\": \"PC 17757\", \"Fare\": 227.525, \"Cabin\": \"C45\", \"Embarked\": \"C\"}, {\"PassengerId\": 718, \"Survived\": 1, \"Pclass\": 2, \"Name\": \"Troutt, Miss. Edwina Celia \\\"Winnie\\\"\", \"Sex\": \"female\", \"Age\": 27.0, \"SibSp\": 0, \"Parch\": 0, \"Ticket\": \"34218\", \"Fare\": 10.5, \"Cabin\": \"E101\", \"Embarked\": \"S\"}, {\"PassengerId\": 719, \"Survived\": 0, \"Pclass\": 3, \"Name\": \"McEvoy, Mr. Michael\", \"Sex\": \"male\", \"Age\": null, \"SibSp\": 0, \"Parch\": 0, \"Ticket\": \"36568\", \"Fare\": 15.5, \"Cabin\": null, \"Embarked\": \"Q\"}, {\"PassengerId\": 720, \"Survived\": 0, \"Pclass\": 3, \"Name\": \"Johnson, Mr. Malkolm Joackim\", \"Sex\": \"male\", \"Age\": 33.0, \"SibSp\": 0, \"Parch\": 0, \"Ticket\": \"347062\", \"Fare\": 7.775, \"Cabin\": null, \"Embarked\": \"S\"}, {\"PassengerId\": 721, \"Survived\": 1, \"Pclass\": 2, \"Name\": \"Harper, Miss. Annie Jessie \\\"Nina\\\"\", \"Sex\": \"female\", \"Age\": 6.0, \"SibSp\": 0, \"Parch\": 1, \"Ticket\": \"248727\", \"Fare\": 33.0, \"Cabin\": null, \"Embarked\": \"S\"}, {\"PassengerId\": 722, \"Survived\": 0, \"Pclass\": 3, \"Name\": \"Jensen, Mr. Svend Lauritz\", \"Sex\": \"male\", \"Age\": 17.0, \"SibSp\": 1, \"Parch\": 0, \"Ticket\": \"350048\", \"Fare\": 7.0542, \"Cabin\": null, \"Embarked\": \"S\"}, {\"PassengerId\": 723, \"Survived\": 0, \"Pclass\": 2, \"Name\": \"Gillespie, Mr. William Henry\", \"Sex\": \"male\", \"Age\": 34.0, \"SibSp\": 0, \"Parch\": 0, \"Ticket\": \"12233\", \"Fare\": 13.0, \"Cabin\": null, \"Embarked\": \"S\"}, {\"PassengerId\": 724, \"Survived\": 0, \"Pclass\": 2, \"Name\": \"Hodges, Mr. Henry Price\", \"Sex\": \"male\", \"Age\": 50.0, \"SibSp\": 0, \"Parch\": 0, \"Ticket\": \"250643\", \"Fare\": 13.0, \"Cabin\": null, \"Embarked\": \"S\"}, {\"PassengerId\": 725, \"Survived\": 1, \"Pclass\": 1, \"Name\": \"Chambers, Mr. Norman Campbell\", \"Sex\": \"male\", \"Age\": 27.0, \"SibSp\": 1, \"Parch\": 0, \"Ticket\": \"113806\", \"Fare\": 53.1, \"Cabin\": \"E8\", \"Embarked\": \"S\"}, {\"PassengerId\": 726, \"Survived\": 0, \"Pclass\": 3, \"Name\": \"Oreskovic, Mr. Luka\", \"Sex\": \"male\", \"Age\": 20.0, \"SibSp\": 0, \"Parch\": 0, \"Ticket\": \"315094\", \"Fare\": 8.6625, \"Cabin\": null, \"Embarked\": \"S\"}, {\"PassengerId\": 727, \"Survived\": 1, \"Pclass\": 2, \"Name\": \"Renouf, Mrs. Peter Henry (Lillian Jefferys)\", \"Sex\": \"female\", \"Age\": 30.0, \"SibSp\": 3, \"Parch\": 0, \"Ticket\": \"31027\", \"Fare\": 21.0, \"Cabin\": null, \"Embarked\": \"S\"}, {\"PassengerId\": 728, \"Survived\": 1, \"Pclass\": 3, \"Name\": \"Mannion, Miss. Margareth\", \"Sex\": \"female\", \"Age\": null, \"SibSp\": 0, \"Parch\": 0, \"Ticket\": \"36866\", \"Fare\": 7.7375, \"Cabin\": null, \"Embarked\": \"Q\"}, {\"PassengerId\": 729, \"Survived\": 0, \"Pclass\": 2, \"Name\": \"Bryhl, Mr. Kurt Arnold Gottfrid\", \"Sex\": \"male\", \"Age\": 25.0, \"SibSp\": 1, \"Parch\": 0, \"Ticket\": \"236853\", \"Fare\": 26.0, \"Cabin\": null, \"Embarked\": \"S\"}, {\"PassengerId\": 730, \"Survived\": 0, \"Pclass\": 3, \"Name\": \"Ilmakangas, Miss. Pieta Sofia\", \"Sex\": \"female\", \"Age\": 25.0, \"SibSp\": 1, \"Parch\": 0, \"Ticket\": \"STON/O2. 3101271\", \"Fare\": 7.925, \"Cabin\": null, \"Embarked\": \"S\"}, {\"PassengerId\": 731, \"Survived\": 1, \"Pclass\": 1, \"Name\": \"Allen, Miss. Elisabeth Walton\", \"Sex\": \"female\", \"Age\": 29.0, \"SibSp\": 0, \"Parch\": 0, \"Ticket\": \"24160\", \"Fare\": 211.3375, \"Cabin\": \"B5\", \"Embarked\": \"S\"}, {\"PassengerId\": 732, \"Survived\": 0, \"Pclass\": 3, \"Name\": \"Hassan, Mr. Houssein G N\", \"Sex\": \"male\", \"Age\": 11.0, \"SibSp\": 0, \"Parch\": 0, \"Ticket\": \"2699\", \"Fare\": 18.7875, \"Cabin\": null, \"Embarked\": \"C\"}, {\"PassengerId\": 733, \"Survived\": 0, \"Pclass\": 2, \"Name\": \"Knight, Mr. Robert J\", \"Sex\": \"male\", \"Age\": null, \"SibSp\": 0, \"Parch\": 0, \"Ticket\": \"239855\", \"Fare\": 0.0, \"Cabin\": null, \"Embarked\": \"S\"}, {\"PassengerId\": 734, \"Survived\": 0, \"Pclass\": 2, \"Name\": \"Berriman, Mr. William John\", \"Sex\": \"male\", \"Age\": 23.0, \"SibSp\": 0, \"Parch\": 0, \"Ticket\": \"28425\", \"Fare\": 13.0, \"Cabin\": null, \"Embarked\": \"S\"}, {\"PassengerId\": 735, \"Survived\": 0, \"Pclass\": 2, \"Name\": \"Troupiansky, Mr. Moses Aaron\", \"Sex\": \"male\", \"Age\": 23.0, \"SibSp\": 0, \"Parch\": 0, \"Ticket\": \"233639\", \"Fare\": 13.0, \"Cabin\": null, \"Embarked\": \"S\"}, {\"PassengerId\": 736, \"Survived\": 0, \"Pclass\": 3, \"Name\": \"Williams, Mr. Leslie\", \"Sex\": \"male\", \"Age\": 28.5, \"SibSp\": 0, \"Parch\": 0, \"Ticket\": \"54636\", \"Fare\": 16.1, \"Cabin\": null, \"Embarked\": \"S\"}, {\"PassengerId\": 737, \"Survived\": 0, \"Pclass\": 3, \"Name\": \"Ford, Mrs. Edward (Margaret Ann Watson)\", \"Sex\": \"female\", \"Age\": 48.0, \"SibSp\": 1, \"Parch\": 3, \"Ticket\": \"W./C. 6608\", \"Fare\": 34.375, \"Cabin\": null, \"Embarked\": \"S\"}, {\"PassengerId\": 738, \"Survived\": 1, \"Pclass\": 1, \"Name\": \"Lesurer, Mr. Gustave J\", \"Sex\": \"male\", \"Age\": 35.0, \"SibSp\": 0, \"Parch\": 0, \"Ticket\": \"PC 17755\", \"Fare\": 512.3292, \"Cabin\": \"B101\", \"Embarked\": \"C\"}, {\"PassengerId\": 739, \"Survived\": 0, \"Pclass\": 3, \"Name\": \"Ivanoff, Mr. Kanio\", \"Sex\": \"male\", \"Age\": null, \"SibSp\": 0, \"Parch\": 0, \"Ticket\": \"349201\", \"Fare\": 7.8958, \"Cabin\": null, \"Embarked\": \"S\"}, {\"PassengerId\": 740, \"Survived\": 0, \"Pclass\": 3, \"Name\": \"Nankoff, Mr. Minko\", \"Sex\": \"male\", \"Age\": null, \"SibSp\": 0, \"Parch\": 0, \"Ticket\": \"349218\", \"Fare\": 7.8958, \"Cabin\": null, \"Embarked\": \"S\"}, {\"PassengerId\": 741, \"Survived\": 1, \"Pclass\": 1, \"Name\": \"Hawksford, Mr. Walter James\", \"Sex\": \"male\", \"Age\": null, \"SibSp\": 0, \"Parch\": 0, \"Ticket\": \"16988\", \"Fare\": 30.0, \"Cabin\": \"D45\", \"Embarked\": \"S\"}, {\"PassengerId\": 742, \"Survived\": 0, \"Pclass\": 1, \"Name\": \"Cavendish, Mr. Tyrell William\", \"Sex\": \"male\", \"Age\": 36.0, \"SibSp\": 1, \"Parch\": 0, \"Ticket\": \"19877\", \"Fare\": 78.85, \"Cabin\": \"C46\", \"Embarked\": \"S\"}, {\"PassengerId\": 743, \"Survived\": 1, \"Pclass\": 1, \"Name\": \"Ryerson, Miss. Susan Parker \\\"Suzette\\\"\", \"Sex\": \"female\", \"Age\": 21.0, \"SibSp\": 2, \"Parch\": 2, \"Ticket\": \"PC 17608\", \"Fare\": 262.375, \"Cabin\": \"B57 B59 B63 B66\", \"Embarked\": \"C\"}, {\"PassengerId\": 744, \"Survived\": 0, \"Pclass\": 3, \"Name\": \"McNamee, Mr. Neal\", \"Sex\": \"male\", \"Age\": 24.0, \"SibSp\": 1, \"Parch\": 0, \"Ticket\": \"376566\", \"Fare\": 16.1, \"Cabin\": null, \"Embarked\": \"S\"}, {\"PassengerId\": 745, \"Survived\": 1, \"Pclass\": 3, \"Name\": \"Stranden, Mr. Juho\", \"Sex\": \"male\", \"Age\": 31.0, \"SibSp\": 0, \"Parch\": 0, \"Ticket\": \"STON/O 2. 3101288\", \"Fare\": 7.925, \"Cabin\": null, \"Embarked\": \"S\"}, {\"PassengerId\": 746, \"Survived\": 0, \"Pclass\": 1, \"Name\": \"Crosby, Capt. Edward Gifford\", \"Sex\": \"male\", \"Age\": 70.0, \"SibSp\": 1, \"Parch\": 1, \"Ticket\": \"WE/P 5735\", \"Fare\": 71.0, \"Cabin\": \"B22\", \"Embarked\": \"S\"}, {\"PassengerId\": 747, \"Survived\": 0, \"Pclass\": 3, \"Name\": \"Abbott, Mr. Rossmore Edward\", \"Sex\": \"male\", \"Age\": 16.0, \"SibSp\": 1, \"Parch\": 1, \"Ticket\": \"C.A. 2673\", \"Fare\": 20.25, \"Cabin\": null, \"Embarked\": \"S\"}, {\"PassengerId\": 748, \"Survived\": 1, \"Pclass\": 2, \"Name\": \"Sinkkonen, Miss. Anna\", \"Sex\": \"female\", \"Age\": 30.0, \"SibSp\": 0, \"Parch\": 0, \"Ticket\": \"250648\", \"Fare\": 13.0, \"Cabin\": null, \"Embarked\": \"S\"}, {\"PassengerId\": 749, \"Survived\": 0, \"Pclass\": 1, \"Name\": \"Marvin, Mr. Daniel Warner\", \"Sex\": \"male\", \"Age\": 19.0, \"SibSp\": 1, \"Parch\": 0, \"Ticket\": \"113773\", \"Fare\": 53.1, \"Cabin\": \"D30\", \"Embarked\": \"S\"}, {\"PassengerId\": 750, \"Survived\": 0, \"Pclass\": 3, \"Name\": \"Connaghton, Mr. Michael\", \"Sex\": \"male\", \"Age\": 31.0, \"SibSp\": 0, \"Parch\": 0, \"Ticket\": \"335097\", \"Fare\": 7.75, \"Cabin\": null, \"Embarked\": \"Q\"}, {\"PassengerId\": 751, \"Survived\": 1, \"Pclass\": 2, \"Name\": \"Wells, Miss. Joan\", \"Sex\": \"female\", \"Age\": 4.0, \"SibSp\": 1, \"Parch\": 1, \"Ticket\": \"29103\", \"Fare\": 23.0, \"Cabin\": null, \"Embarked\": \"S\"}, {\"PassengerId\": 752, \"Survived\": 1, \"Pclass\": 3, \"Name\": \"Moor, Master. Meier\", \"Sex\": \"male\", \"Age\": 6.0, \"SibSp\": 0, \"Parch\": 1, \"Ticket\": \"392096\", \"Fare\": 12.475, \"Cabin\": \"E121\", \"Embarked\": \"S\"}, {\"PassengerId\": 753, \"Survived\": 0, \"Pclass\": 3, \"Name\": \"Vande Velde, Mr. Johannes Joseph\", \"Sex\": \"male\", \"Age\": 33.0, \"SibSp\": 0, \"Parch\": 0, \"Ticket\": \"345780\", \"Fare\": 9.5, \"Cabin\": null, \"Embarked\": \"S\"}, {\"PassengerId\": 754, \"Survived\": 0, \"Pclass\": 3, \"Name\": \"Jonkoff, Mr. Lalio\", \"Sex\": \"male\", \"Age\": 23.0, \"SibSp\": 0, \"Parch\": 0, \"Ticket\": \"349204\", \"Fare\": 7.8958, \"Cabin\": null, \"Embarked\": \"S\"}, {\"PassengerId\": 755, \"Survived\": 1, \"Pclass\": 2, \"Name\": \"Herman, Mrs. Samuel (Jane Laver)\", \"Sex\": \"female\", \"Age\": 48.0, \"SibSp\": 1, \"Parch\": 2, \"Ticket\": \"220845\", \"Fare\": 65.0, \"Cabin\": null, \"Embarked\": \"S\"}, {\"PassengerId\": 756, \"Survived\": 1, \"Pclass\": 2, \"Name\": \"Hamalainen, Master. Viljo\", \"Sex\": \"male\", \"Age\": 0.67, \"SibSp\": 1, \"Parch\": 1, \"Ticket\": \"250649\", \"Fare\": 14.5, \"Cabin\": null, \"Embarked\": \"S\"}, {\"PassengerId\": 757, \"Survived\": 0, \"Pclass\": 3, \"Name\": \"Carlsson, Mr. August Sigfrid\", \"Sex\": \"male\", \"Age\": 28.0, \"SibSp\": 0, \"Parch\": 0, \"Ticket\": \"350042\", \"Fare\": 7.7958, \"Cabin\": null, \"Embarked\": \"S\"}, {\"PassengerId\": 758, \"Survived\": 0, \"Pclass\": 2, \"Name\": \"Bailey, Mr. Percy Andrew\", \"Sex\": \"male\", \"Age\": 18.0, \"SibSp\": 0, \"Parch\": 0, \"Ticket\": \"29108\", \"Fare\": 11.5, \"Cabin\": null, \"Embarked\": \"S\"}, {\"PassengerId\": 759, \"Survived\": 0, \"Pclass\": 3, \"Name\": \"Theobald, Mr. Thomas Leonard\", \"Sex\": \"male\", \"Age\": 34.0, \"SibSp\": 0, \"Parch\": 0, \"Ticket\": \"363294\", \"Fare\": 8.05, \"Cabin\": null, \"Embarked\": \"S\"}, {\"PassengerId\": 760, \"Survived\": 1, \"Pclass\": 1, \"Name\": \"Rothes, the Countess. of (Lucy Noel Martha Dyer-Edwards)\", \"Sex\": \"female\", \"Age\": 33.0, \"SibSp\": 0, \"Parch\": 0, \"Ticket\": \"110152\", \"Fare\": 86.5, \"Cabin\": \"B77\", \"Embarked\": \"S\"}, {\"PassengerId\": 761, \"Survived\": 0, \"Pclass\": 3, \"Name\": \"Garfirth, Mr. John\", \"Sex\": \"male\", \"Age\": null, \"SibSp\": 0, \"Parch\": 0, \"Ticket\": \"358585\", \"Fare\": 14.5, \"Cabin\": null, \"Embarked\": \"S\"}, {\"PassengerId\": 762, \"Survived\": 0, \"Pclass\": 3, \"Name\": \"Nirva, Mr. Iisakki Antino Aijo\", \"Sex\": \"male\", \"Age\": 41.0, \"SibSp\": 0, \"Parch\": 0, \"Ticket\": \"SOTON/O2 3101272\", \"Fare\": 7.125, \"Cabin\": null, \"Embarked\": \"S\"}, {\"PassengerId\": 763, \"Survived\": 1, \"Pclass\": 3, \"Name\": \"Barah, Mr. Hanna Assi\", \"Sex\": \"male\", \"Age\": 20.0, \"SibSp\": 0, \"Parch\": 0, \"Ticket\": \"2663\", \"Fare\": 7.2292, \"Cabin\": null, \"Embarked\": \"C\"}, {\"PassengerId\": 764, \"Survived\": 1, \"Pclass\": 1, \"Name\": \"Carter, Mrs. William Ernest (Lucile Polk)\", \"Sex\": \"female\", \"Age\": 36.0, \"SibSp\": 1, \"Parch\": 2, \"Ticket\": \"113760\", \"Fare\": 120.0, \"Cabin\": \"B96 B98\", \"Embarked\": \"S\"}, {\"PassengerId\": 765, \"Survived\": 0, \"Pclass\": 3, \"Name\": \"Eklund, Mr. Hans Linus\", \"Sex\": \"male\", \"Age\": 16.0, \"SibSp\": 0, \"Parch\": 0, \"Ticket\": \"347074\", \"Fare\": 7.775, \"Cabin\": null, \"Embarked\": \"S\"}, {\"PassengerId\": 766, \"Survived\": 1, \"Pclass\": 1, \"Name\": \"Hogeboom, Mrs. John C (Anna Andrews)\", \"Sex\": \"female\", \"Age\": 51.0, \"SibSp\": 1, \"Parch\": 0, \"Ticket\": \"13502\", \"Fare\": 77.9583, \"Cabin\": \"D11\", \"Embarked\": \"S\"}, {\"PassengerId\": 767, \"Survived\": 0, \"Pclass\": 1, \"Name\": \"Brewe, Dr. Arthur Jackson\", \"Sex\": \"male\", \"Age\": null, \"SibSp\": 0, \"Parch\": 0, \"Ticket\": \"112379\", \"Fare\": 39.6, \"Cabin\": null, \"Embarked\": \"C\"}, {\"PassengerId\": 768, \"Survived\": 0, \"Pclass\": 3, \"Name\": \"Mangan, Miss. Mary\", \"Sex\": \"female\", \"Age\": 30.5, \"SibSp\": 0, \"Parch\": 0, \"Ticket\": \"364850\", \"Fare\": 7.75, \"Cabin\": null, \"Embarked\": \"Q\"}, {\"PassengerId\": 769, \"Survived\": 0, \"Pclass\": 3, \"Name\": \"Moran, Mr. Daniel J\", \"Sex\": \"male\", \"Age\": null, \"SibSp\": 1, \"Parch\": 0, \"Ticket\": \"371110\", \"Fare\": 24.15, \"Cabin\": null, \"Embarked\": \"Q\"}, {\"PassengerId\": 770, \"Survived\": 0, \"Pclass\": 3, \"Name\": \"Gronnestad, Mr. Daniel Danielsen\", \"Sex\": \"male\", \"Age\": 32.0, \"SibSp\": 0, \"Parch\": 0, \"Ticket\": \"8471\", \"Fare\": 8.3625, \"Cabin\": null, \"Embarked\": \"S\"}, {\"PassengerId\": 771, \"Survived\": 0, \"Pclass\": 3, \"Name\": \"Lievens, Mr. Rene Aime\", \"Sex\": \"male\", \"Age\": 24.0, \"SibSp\": 0, \"Parch\": 0, \"Ticket\": \"345781\", \"Fare\": 9.5, \"Cabin\": null, \"Embarked\": \"S\"}, {\"PassengerId\": 772, \"Survived\": 0, \"Pclass\": 3, \"Name\": \"Jensen, Mr. Niels Peder\", \"Sex\": \"male\", \"Age\": 48.0, \"SibSp\": 0, \"Parch\": 0, \"Ticket\": \"350047\", \"Fare\": 7.8542, \"Cabin\": null, \"Embarked\": \"S\"}, {\"PassengerId\": 773, \"Survived\": 0, \"Pclass\": 2, \"Name\": \"Mack, Mrs. (Mary)\", \"Sex\": \"female\", \"Age\": 57.0, \"SibSp\": 0, \"Parch\": 0, \"Ticket\": \"S.O./P.P. 3\", \"Fare\": 10.5, \"Cabin\": \"E77\", \"Embarked\": \"S\"}, {\"PassengerId\": 774, \"Survived\": 0, \"Pclass\": 3, \"Name\": \"Elias, Mr. Dibo\", \"Sex\": \"male\", \"Age\": null, \"SibSp\": 0, \"Parch\": 0, \"Ticket\": \"2674\", \"Fare\": 7.225, \"Cabin\": null, \"Embarked\": \"C\"}, {\"PassengerId\": 775, \"Survived\": 1, \"Pclass\": 2, \"Name\": \"Hocking, Mrs. Elizabeth (Eliza Needs)\", \"Sex\": \"female\", \"Age\": 54.0, \"SibSp\": 1, \"Parch\": 3, \"Ticket\": \"29105\", \"Fare\": 23.0, \"Cabin\": null, \"Embarked\": \"S\"}, {\"PassengerId\": 776, \"Survived\": 0, \"Pclass\": 3, \"Name\": \"Myhrman, Mr. Pehr Fabian Oliver Malkolm\", \"Sex\": \"male\", \"Age\": 18.0, \"SibSp\": 0, \"Parch\": 0, \"Ticket\": \"347078\", \"Fare\": 7.75, \"Cabin\": null, \"Embarked\": \"S\"}, {\"PassengerId\": 777, \"Survived\": 0, \"Pclass\": 3, \"Name\": \"Tobin, Mr. Roger\", \"Sex\": \"male\", \"Age\": null, \"SibSp\": 0, \"Parch\": 0, \"Ticket\": \"383121\", \"Fare\": 7.75, \"Cabin\": \"F38\", \"Embarked\": \"Q\"}, {\"PassengerId\": 778, \"Survived\": 1, \"Pclass\": 3, \"Name\": \"Emanuel, Miss. Virginia Ethel\", \"Sex\": \"female\", \"Age\": 5.0, \"SibSp\": 0, \"Parch\": 0, \"Ticket\": \"364516\", \"Fare\": 12.475, \"Cabin\": null, \"Embarked\": \"S\"}, {\"PassengerId\": 779, \"Survived\": 0, \"Pclass\": 3, \"Name\": \"Kilgannon, Mr. Thomas J\", \"Sex\": \"male\", \"Age\": null, \"SibSp\": 0, \"Parch\": 0, \"Ticket\": \"36865\", \"Fare\": 7.7375, \"Cabin\": null, \"Embarked\": \"Q\"}, {\"PassengerId\": 780, \"Survived\": 1, \"Pclass\": 1, \"Name\": \"Robert, Mrs. Edward Scott (Elisabeth Walton McMillan)\", \"Sex\": \"female\", \"Age\": 43.0, \"SibSp\": 0, \"Parch\": 1, \"Ticket\": \"24160\", \"Fare\": 211.3375, \"Cabin\": \"B3\", \"Embarked\": \"S\"}, {\"PassengerId\": 781, \"Survived\": 1, \"Pclass\": 3, \"Name\": \"Ayoub, Miss. Banoura\", \"Sex\": \"female\", \"Age\": 13.0, \"SibSp\": 0, \"Parch\": 0, \"Ticket\": \"2687\", \"Fare\": 7.2292, \"Cabin\": null, \"Embarked\": \"C\"}, {\"PassengerId\": 782, \"Survived\": 1, \"Pclass\": 1, \"Name\": \"Dick, Mrs. Albert Adrian (Vera Gillespie)\", \"Sex\": \"female\", \"Age\": 17.0, \"SibSp\": 1, \"Parch\": 0, \"Ticket\": \"17474\", \"Fare\": 57.0, \"Cabin\": \"B20\", \"Embarked\": \"S\"}, {\"PassengerId\": 783, \"Survived\": 0, \"Pclass\": 1, \"Name\": \"Long, Mr. Milton Clyde\", \"Sex\": \"male\", \"Age\": 29.0, \"SibSp\": 0, \"Parch\": 0, \"Ticket\": \"113501\", \"Fare\": 30.0, \"Cabin\": \"D6\", \"Embarked\": \"S\"}, {\"PassengerId\": 784, \"Survived\": 0, \"Pclass\": 3, \"Name\": \"Johnston, Mr. Andrew G\", \"Sex\": \"male\", \"Age\": null, \"SibSp\": 1, \"Parch\": 2, \"Ticket\": \"W./C. 6607\", \"Fare\": 23.45, \"Cabin\": null, \"Embarked\": \"S\"}, {\"PassengerId\": 785, \"Survived\": 0, \"Pclass\": 3, \"Name\": \"Ali, Mr. William\", \"Sex\": \"male\", \"Age\": 25.0, \"SibSp\": 0, \"Parch\": 0, \"Ticket\": \"SOTON/O.Q. 3101312\", \"Fare\": 7.05, \"Cabin\": null, \"Embarked\": \"S\"}, {\"PassengerId\": 786, \"Survived\": 0, \"Pclass\": 3, \"Name\": \"Harmer, Mr. Abraham (David Lishin)\", \"Sex\": \"male\", \"Age\": 25.0, \"SibSp\": 0, \"Parch\": 0, \"Ticket\": \"374887\", \"Fare\": 7.25, \"Cabin\": null, \"Embarked\": \"S\"}, {\"PassengerId\": 787, \"Survived\": 1, \"Pclass\": 3, \"Name\": \"Sjoblom, Miss. Anna Sofia\", \"Sex\": \"female\", \"Age\": 18.0, \"SibSp\": 0, \"Parch\": 0, \"Ticket\": \"3101265\", \"Fare\": 7.4958, \"Cabin\": null, \"Embarked\": \"S\"}, {\"PassengerId\": 788, \"Survived\": 0, \"Pclass\": 3, \"Name\": \"Rice, Master. George Hugh\", \"Sex\": \"male\", \"Age\": 8.0, \"SibSp\": 4, \"Parch\": 1, \"Ticket\": \"382652\", \"Fare\": 29.125, \"Cabin\": null, \"Embarked\": \"Q\"}, {\"PassengerId\": 789, \"Survived\": 1, \"Pclass\": 3, \"Name\": \"Dean, Master. Bertram Vere\", \"Sex\": \"male\", \"Age\": 1.0, \"SibSp\": 1, \"Parch\": 2, \"Ticket\": \"C.A. 2315\", \"Fare\": 20.575, \"Cabin\": null, \"Embarked\": \"S\"}, {\"PassengerId\": 790, \"Survived\": 0, \"Pclass\": 1, \"Name\": \"Guggenheim, Mr. Benjamin\", \"Sex\": \"male\", \"Age\": 46.0, \"SibSp\": 0, \"Parch\": 0, \"Ticket\": \"PC 17593\", \"Fare\": 79.2, \"Cabin\": \"B82 B84\", \"Embarked\": \"C\"}, {\"PassengerId\": 791, \"Survived\": 0, \"Pclass\": 3, \"Name\": \"Keane, Mr. Andrew \\\"Andy\\\"\", \"Sex\": \"male\", \"Age\": null, \"SibSp\": 0, \"Parch\": 0, \"Ticket\": \"12460\", \"Fare\": 7.75, \"Cabin\": null, \"Embarked\": \"Q\"}, {\"PassengerId\": 792, \"Survived\": 0, \"Pclass\": 2, \"Name\": \"Gaskell, Mr. Alfred\", \"Sex\": \"male\", \"Age\": 16.0, \"SibSp\": 0, \"Parch\": 0, \"Ticket\": \"239865\", \"Fare\": 26.0, \"Cabin\": null, \"Embarked\": \"S\"}, {\"PassengerId\": 793, \"Survived\": 0, \"Pclass\": 3, \"Name\": \"Sage, Miss. Stella Anna\", \"Sex\": \"female\", \"Age\": null, \"SibSp\": 8, \"Parch\": 2, \"Ticket\": \"CA. 2343\", \"Fare\": 69.55, \"Cabin\": null, \"Embarked\": \"S\"}, {\"PassengerId\": 794, \"Survived\": 0, \"Pclass\": 1, \"Name\": \"Hoyt, Mr. William Fisher\", \"Sex\": \"male\", \"Age\": null, \"SibSp\": 0, \"Parch\": 0, \"Ticket\": \"PC 17600\", \"Fare\": 30.6958, \"Cabin\": null, \"Embarked\": \"C\"}, {\"PassengerId\": 795, \"Survived\": 0, \"Pclass\": 3, \"Name\": \"Dantcheff, Mr. Ristiu\", \"Sex\": \"male\", \"Age\": 25.0, \"SibSp\": 0, \"Parch\": 0, \"Ticket\": \"349203\", \"Fare\": 7.8958, \"Cabin\": null, \"Embarked\": \"S\"}, {\"PassengerId\": 796, \"Survived\": 0, \"Pclass\": 2, \"Name\": \"Otter, Mr. Richard\", \"Sex\": \"male\", \"Age\": 39.0, \"SibSp\": 0, \"Parch\": 0, \"Ticket\": \"28213\", \"Fare\": 13.0, \"Cabin\": null, \"Embarked\": \"S\"}, {\"PassengerId\": 797, \"Survived\": 1, \"Pclass\": 1, \"Name\": \"Leader, Dr. Alice (Farnham)\", \"Sex\": \"female\", \"Age\": 49.0, \"SibSp\": 0, \"Parch\": 0, \"Ticket\": \"17465\", \"Fare\": 25.9292, \"Cabin\": \"D17\", \"Embarked\": \"S\"}, {\"PassengerId\": 798, \"Survived\": 1, \"Pclass\": 3, \"Name\": \"Osman, Mrs. Mara\", \"Sex\": \"female\", \"Age\": 31.0, \"SibSp\": 0, \"Parch\": 0, \"Ticket\": \"349244\", \"Fare\": 8.6833, \"Cabin\": null, \"Embarked\": \"S\"}, {\"PassengerId\": 799, \"Survived\": 0, \"Pclass\": 3, \"Name\": \"Ibrahim Shawah, Mr. Yousseff\", \"Sex\": \"male\", \"Age\": 30.0, \"SibSp\": 0, \"Parch\": 0, \"Ticket\": \"2685\", \"Fare\": 7.2292, \"Cabin\": null, \"Embarked\": \"C\"}, {\"PassengerId\": 800, \"Survived\": 0, \"Pclass\": 3, \"Name\": \"Van Impe, Mrs. Jean Baptiste (Rosalie Paula Govaert)\", \"Sex\": \"female\", \"Age\": 30.0, \"SibSp\": 1, \"Parch\": 1, \"Ticket\": \"345773\", \"Fare\": 24.15, \"Cabin\": null, \"Embarked\": \"S\"}, {\"PassengerId\": 801, \"Survived\": 0, \"Pclass\": 2, \"Name\": \"Ponesell, Mr. Martin\", \"Sex\": \"male\", \"Age\": 34.0, \"SibSp\": 0, \"Parch\": 0, \"Ticket\": \"250647\", \"Fare\": 13.0, \"Cabin\": null, \"Embarked\": \"S\"}, {\"PassengerId\": 802, \"Survived\": 1, \"Pclass\": 2, \"Name\": \"Collyer, Mrs. Harvey (Charlotte Annie Tate)\", \"Sex\": \"female\", \"Age\": 31.0, \"SibSp\": 1, \"Parch\": 1, \"Ticket\": \"C.A. 31921\", \"Fare\": 26.25, \"Cabin\": null, \"Embarked\": \"S\"}, {\"PassengerId\": 803, \"Survived\": 1, \"Pclass\": 1, \"Name\": \"Carter, Master. William Thornton II\", \"Sex\": \"male\", \"Age\": 11.0, \"SibSp\": 1, \"Parch\": 2, \"Ticket\": \"113760\", \"Fare\": 120.0, \"Cabin\": \"B96 B98\", \"Embarked\": \"S\"}, {\"PassengerId\": 804, \"Survived\": 1, \"Pclass\": 3, \"Name\": \"Thomas, Master. Assad Alexander\", \"Sex\": \"male\", \"Age\": 0.42, \"SibSp\": 0, \"Parch\": 1, \"Ticket\": \"2625\", \"Fare\": 8.5167, \"Cabin\": null, \"Embarked\": \"C\"}, {\"PassengerId\": 805, \"Survived\": 1, \"Pclass\": 3, \"Name\": \"Hedman, Mr. Oskar Arvid\", \"Sex\": \"male\", \"Age\": 27.0, \"SibSp\": 0, \"Parch\": 0, \"Ticket\": \"347089\", \"Fare\": 6.975, \"Cabin\": null, \"Embarked\": \"S\"}, {\"PassengerId\": 806, \"Survived\": 0, \"Pclass\": 3, \"Name\": \"Johansson, Mr. Karl Johan\", \"Sex\": \"male\", \"Age\": 31.0, \"SibSp\": 0, \"Parch\": 0, \"Ticket\": \"347063\", \"Fare\": 7.775, \"Cabin\": null, \"Embarked\": \"S\"}, {\"PassengerId\": 807, \"Survived\": 0, \"Pclass\": 1, \"Name\": \"Andrews, Mr. Thomas Jr\", \"Sex\": \"male\", \"Age\": 39.0, \"SibSp\": 0, \"Parch\": 0, \"Ticket\": \"112050\", \"Fare\": 0.0, \"Cabin\": \"A36\", \"Embarked\": \"S\"}, {\"PassengerId\": 808, \"Survived\": 0, \"Pclass\": 3, \"Name\": \"Pettersson, Miss. Ellen Natalia\", \"Sex\": \"female\", \"Age\": 18.0, \"SibSp\": 0, \"Parch\": 0, \"Ticket\": \"347087\", \"Fare\": 7.775, \"Cabin\": null, \"Embarked\": \"S\"}, {\"PassengerId\": 809, \"Survived\": 0, \"Pclass\": 2, \"Name\": \"Meyer, Mr. August\", \"Sex\": \"male\", \"Age\": 39.0, \"SibSp\": 0, \"Parch\": 0, \"Ticket\": \"248723\", \"Fare\": 13.0, \"Cabin\": null, \"Embarked\": \"S\"}, {\"PassengerId\": 810, \"Survived\": 1, \"Pclass\": 1, \"Name\": \"Chambers, Mrs. Norman Campbell (Bertha Griggs)\", \"Sex\": \"female\", \"Age\": 33.0, \"SibSp\": 1, \"Parch\": 0, \"Ticket\": \"113806\", \"Fare\": 53.1, \"Cabin\": \"E8\", \"Embarked\": \"S\"}, {\"PassengerId\": 811, \"Survived\": 0, \"Pclass\": 3, \"Name\": \"Alexander, Mr. William\", \"Sex\": \"male\", \"Age\": 26.0, \"SibSp\": 0, \"Parch\": 0, \"Ticket\": \"3474\", \"Fare\": 7.8875, \"Cabin\": null, \"Embarked\": \"S\"}, {\"PassengerId\": 812, \"Survived\": 0, \"Pclass\": 3, \"Name\": \"Lester, Mr. James\", \"Sex\": \"male\", \"Age\": 39.0, \"SibSp\": 0, \"Parch\": 0, \"Ticket\": \"A/4 48871\", \"Fare\": 24.15, \"Cabin\": null, \"Embarked\": \"S\"}, {\"PassengerId\": 813, \"Survived\": 0, \"Pclass\": 2, \"Name\": \"Slemen, Mr. Richard James\", \"Sex\": \"male\", \"Age\": 35.0, \"SibSp\": 0, \"Parch\": 0, \"Ticket\": \"28206\", \"Fare\": 10.5, \"Cabin\": null, \"Embarked\": \"S\"}, {\"PassengerId\": 814, \"Survived\": 0, \"Pclass\": 3, \"Name\": \"Andersson, Miss. Ebba Iris Alfrida\", \"Sex\": \"female\", \"Age\": 6.0, \"SibSp\": 4, \"Parch\": 2, \"Ticket\": \"347082\", \"Fare\": 31.275, \"Cabin\": null, \"Embarked\": \"S\"}, {\"PassengerId\": 815, \"Survived\": 0, \"Pclass\": 3, \"Name\": \"Tomlin, Mr. Ernest Portage\", \"Sex\": \"male\", \"Age\": 30.5, \"SibSp\": 0, \"Parch\": 0, \"Ticket\": \"364499\", \"Fare\": 8.05, \"Cabin\": null, \"Embarked\": \"S\"}, {\"PassengerId\": 816, \"Survived\": 0, \"Pclass\": 1, \"Name\": \"Fry, Mr. Richard\", \"Sex\": \"male\", \"Age\": null, \"SibSp\": 0, \"Parch\": 0, \"Ticket\": \"112058\", \"Fare\": 0.0, \"Cabin\": \"B102\", \"Embarked\": \"S\"}, {\"PassengerId\": 817, \"Survived\": 0, \"Pclass\": 3, \"Name\": \"Heininen, Miss. Wendla Maria\", \"Sex\": \"female\", \"Age\": 23.0, \"SibSp\": 0, \"Parch\": 0, \"Ticket\": \"STON/O2. 3101290\", \"Fare\": 7.925, \"Cabin\": null, \"Embarked\": \"S\"}, {\"PassengerId\": 818, \"Survived\": 0, \"Pclass\": 2, \"Name\": \"Mallet, Mr. Albert\", \"Sex\": \"male\", \"Age\": 31.0, \"SibSp\": 1, \"Parch\": 1, \"Ticket\": \"S.C./PARIS 2079\", \"Fare\": 37.0042, \"Cabin\": null, \"Embarked\": \"C\"}, {\"PassengerId\": 819, \"Survived\": 0, \"Pclass\": 3, \"Name\": \"Holm, Mr. John Fredrik Alexander\", \"Sex\": \"male\", \"Age\": 43.0, \"SibSp\": 0, \"Parch\": 0, \"Ticket\": \"C 7075\", \"Fare\": 6.45, \"Cabin\": null, \"Embarked\": \"S\"}, {\"PassengerId\": 820, \"Survived\": 0, \"Pclass\": 3, \"Name\": \"Skoog, Master. Karl Thorsten\", \"Sex\": \"male\", \"Age\": 10.0, \"SibSp\": 3, \"Parch\": 2, \"Ticket\": \"347088\", \"Fare\": 27.9, \"Cabin\": null, \"Embarked\": \"S\"}, {\"PassengerId\": 821, \"Survived\": 1, \"Pclass\": 1, \"Name\": \"Hays, Mrs. Charles Melville (Clara Jennings Gregg)\", \"Sex\": \"female\", \"Age\": 52.0, \"SibSp\": 1, \"Parch\": 1, \"Ticket\": \"12749\", \"Fare\": 93.5, \"Cabin\": \"B69\", \"Embarked\": \"S\"}, {\"PassengerId\": 822, \"Survived\": 1, \"Pclass\": 3, \"Name\": \"Lulic, Mr. Nikola\", \"Sex\": \"male\", \"Age\": 27.0, \"SibSp\": 0, \"Parch\": 0, \"Ticket\": \"315098\", \"Fare\": 8.6625, \"Cabin\": null, \"Embarked\": \"S\"}, {\"PassengerId\": 823, \"Survived\": 0, \"Pclass\": 1, \"Name\": \"Reuchlin, Jonkheer. John George\", \"Sex\": \"male\", \"Age\": 38.0, \"SibSp\": 0, \"Parch\": 0, \"Ticket\": \"19972\", \"Fare\": 0.0, \"Cabin\": null, \"Embarked\": \"S\"}, {\"PassengerId\": 824, \"Survived\": 1, \"Pclass\": 3, \"Name\": \"Moor, Mrs. (Beila)\", \"Sex\": \"female\", \"Age\": 27.0, \"SibSp\": 0, \"Parch\": 1, \"Ticket\": \"392096\", \"Fare\": 12.475, \"Cabin\": \"E121\", \"Embarked\": \"S\"}, {\"PassengerId\": 825, \"Survived\": 0, \"Pclass\": 3, \"Name\": \"Panula, Master. Urho Abraham\", \"Sex\": \"male\", \"Age\": 2.0, \"SibSp\": 4, \"Parch\": 1, \"Ticket\": \"3101295\", \"Fare\": 39.6875, \"Cabin\": null, \"Embarked\": \"S\"}, {\"PassengerId\": 826, \"Survived\": 0, \"Pclass\": 3, \"Name\": \"Flynn, Mr. John\", \"Sex\": \"male\", \"Age\": null, \"SibSp\": 0, \"Parch\": 0, \"Ticket\": \"368323\", \"Fare\": 6.95, \"Cabin\": null, \"Embarked\": \"Q\"}, {\"PassengerId\": 827, \"Survived\": 0, \"Pclass\": 3, \"Name\": \"Lam, Mr. Len\", \"Sex\": \"male\", \"Age\": null, \"SibSp\": 0, \"Parch\": 0, \"Ticket\": \"1601\", \"Fare\": 56.4958, \"Cabin\": null, \"Embarked\": \"S\"}, {\"PassengerId\": 828, \"Survived\": 1, \"Pclass\": 2, \"Name\": \"Mallet, Master. Andre\", \"Sex\": \"male\", \"Age\": 1.0, \"SibSp\": 0, \"Parch\": 2, \"Ticket\": \"S.C./PARIS 2079\", \"Fare\": 37.0042, \"Cabin\": null, \"Embarked\": \"C\"}, {\"PassengerId\": 829, \"Survived\": 1, \"Pclass\": 3, \"Name\": \"McCormack, Mr. Thomas Joseph\", \"Sex\": \"male\", \"Age\": null, \"SibSp\": 0, \"Parch\": 0, \"Ticket\": \"367228\", \"Fare\": 7.75, \"Cabin\": null, \"Embarked\": \"Q\"}, {\"PassengerId\": 830, \"Survived\": 1, \"Pclass\": 1, \"Name\": \"Stone, Mrs. George Nelson (Martha Evelyn)\", \"Sex\": \"female\", \"Age\": 62.0, \"SibSp\": 0, \"Parch\": 0, \"Ticket\": \"113572\", \"Fare\": 80.0, \"Cabin\": \"B28\", \"Embarked\": null}, {\"PassengerId\": 831, \"Survived\": 1, \"Pclass\": 3, \"Name\": \"Yasbeck, Mrs. Antoni (Selini Alexander)\", \"Sex\": \"female\", \"Age\": 15.0, \"SibSp\": 1, \"Parch\": 0, \"Ticket\": \"2659\", \"Fare\": 14.4542, \"Cabin\": null, \"Embarked\": \"C\"}, {\"PassengerId\": 832, \"Survived\": 1, \"Pclass\": 2, \"Name\": \"Richards, Master. George Sibley\", \"Sex\": \"male\", \"Age\": 0.83, \"SibSp\": 1, \"Parch\": 1, \"Ticket\": \"29106\", \"Fare\": 18.75, \"Cabin\": null, \"Embarked\": \"S\"}, {\"PassengerId\": 833, \"Survived\": 0, \"Pclass\": 3, \"Name\": \"Saad, Mr. Amin\", \"Sex\": \"male\", \"Age\": null, \"SibSp\": 0, \"Parch\": 0, \"Ticket\": \"2671\", \"Fare\": 7.2292, \"Cabin\": null, \"Embarked\": \"C\"}, {\"PassengerId\": 834, \"Survived\": 0, \"Pclass\": 3, \"Name\": \"Augustsson, Mr. Albert\", \"Sex\": \"male\", \"Age\": 23.0, \"SibSp\": 0, \"Parch\": 0, \"Ticket\": \"347468\", \"Fare\": 7.8542, \"Cabin\": null, \"Embarked\": \"S\"}, {\"PassengerId\": 835, \"Survived\": 0, \"Pclass\": 3, \"Name\": \"Allum, Mr. Owen George\", \"Sex\": \"male\", \"Age\": 18.0, \"SibSp\": 0, \"Parch\": 0, \"Ticket\": \"2223\", \"Fare\": 8.3, \"Cabin\": null, \"Embarked\": \"S\"}, {\"PassengerId\": 836, \"Survived\": 1, \"Pclass\": 1, \"Name\": \"Compton, Miss. Sara Rebecca\", \"Sex\": \"female\", \"Age\": 39.0, \"SibSp\": 1, \"Parch\": 1, \"Ticket\": \"PC 17756\", \"Fare\": 83.1583, \"Cabin\": \"E49\", \"Embarked\": \"C\"}, {\"PassengerId\": 837, \"Survived\": 0, \"Pclass\": 3, \"Name\": \"Pasic, Mr. Jakob\", \"Sex\": \"male\", \"Age\": 21.0, \"SibSp\": 0, \"Parch\": 0, \"Ticket\": \"315097\", \"Fare\": 8.6625, \"Cabin\": null, \"Embarked\": \"S\"}, {\"PassengerId\": 838, \"Survived\": 0, \"Pclass\": 3, \"Name\": \"Sirota, Mr. Maurice\", \"Sex\": \"male\", \"Age\": null, \"SibSp\": 0, \"Parch\": 0, \"Ticket\": \"392092\", \"Fare\": 8.05, \"Cabin\": null, \"Embarked\": \"S\"}, {\"PassengerId\": 839, \"Survived\": 1, \"Pclass\": 3, \"Name\": \"Chip, Mr. Chang\", \"Sex\": \"male\", \"Age\": 32.0, \"SibSp\": 0, \"Parch\": 0, \"Ticket\": \"1601\", \"Fare\": 56.4958, \"Cabin\": null, \"Embarked\": \"S\"}, {\"PassengerId\": 840, \"Survived\": 1, \"Pclass\": 1, \"Name\": \"Marechal, Mr. Pierre\", \"Sex\": \"male\", \"Age\": null, \"SibSp\": 0, \"Parch\": 0, \"Ticket\": \"11774\", \"Fare\": 29.7, \"Cabin\": \"C47\", \"Embarked\": \"C\"}, {\"PassengerId\": 841, \"Survived\": 0, \"Pclass\": 3, \"Name\": \"Alhomaki, Mr. Ilmari Rudolf\", \"Sex\": \"male\", \"Age\": 20.0, \"SibSp\": 0, \"Parch\": 0, \"Ticket\": \"SOTON/O2 3101287\", \"Fare\": 7.925, \"Cabin\": null, \"Embarked\": \"S\"}, {\"PassengerId\": 842, \"Survived\": 0, \"Pclass\": 2, \"Name\": \"Mudd, Mr. Thomas Charles\", \"Sex\": \"male\", \"Age\": 16.0, \"SibSp\": 0, \"Parch\": 0, \"Ticket\": \"S.O./P.P. 3\", \"Fare\": 10.5, \"Cabin\": null, \"Embarked\": \"S\"}, {\"PassengerId\": 843, \"Survived\": 1, \"Pclass\": 1, \"Name\": \"Serepeca, Miss. Augusta\", \"Sex\": \"female\", \"Age\": 30.0, \"SibSp\": 0, \"Parch\": 0, \"Ticket\": \"113798\", \"Fare\": 31.0, \"Cabin\": null, \"Embarked\": \"C\"}, {\"PassengerId\": 844, \"Survived\": 0, \"Pclass\": 3, \"Name\": \"Lemberopolous, Mr. Peter L\", \"Sex\": \"male\", \"Age\": 34.5, \"SibSp\": 0, \"Parch\": 0, \"Ticket\": \"2683\", \"Fare\": 6.4375, \"Cabin\": null, \"Embarked\": \"C\"}, {\"PassengerId\": 845, \"Survived\": 0, \"Pclass\": 3, \"Name\": \"Culumovic, Mr. Jeso\", \"Sex\": \"male\", \"Age\": 17.0, \"SibSp\": 0, \"Parch\": 0, \"Ticket\": \"315090\", \"Fare\": 8.6625, \"Cabin\": null, \"Embarked\": \"S\"}, {\"PassengerId\": 846, \"Survived\": 0, \"Pclass\": 3, \"Name\": \"Abbing, Mr. Anthony\", \"Sex\": \"male\", \"Age\": 42.0, \"SibSp\": 0, \"Parch\": 0, \"Ticket\": \"C.A. 5547\", \"Fare\": 7.55, \"Cabin\": null, \"Embarked\": \"S\"}, {\"PassengerId\": 847, \"Survived\": 0, \"Pclass\": 3, \"Name\": \"Sage, Mr. Douglas Bullen\", \"Sex\": \"male\", \"Age\": null, \"SibSp\": 8, \"Parch\": 2, \"Ticket\": \"CA. 2343\", \"Fare\": 69.55, \"Cabin\": null, \"Embarked\": \"S\"}, {\"PassengerId\": 848, \"Survived\": 0, \"Pclass\": 3, \"Name\": \"Markoff, Mr. Marin\", \"Sex\": \"male\", \"Age\": 35.0, \"SibSp\": 0, \"Parch\": 0, \"Ticket\": \"349213\", \"Fare\": 7.8958, \"Cabin\": null, \"Embarked\": \"C\"}, {\"PassengerId\": 849, \"Survived\": 0, \"Pclass\": 2, \"Name\": \"Harper, Rev. John\", \"Sex\": \"male\", \"Age\": 28.0, \"SibSp\": 0, \"Parch\": 1, \"Ticket\": \"248727\", \"Fare\": 33.0, \"Cabin\": null, \"Embarked\": \"S\"}, {\"PassengerId\": 850, \"Survived\": 1, \"Pclass\": 1, \"Name\": \"Goldenberg, Mrs. Samuel L (Edwiga Grabowska)\", \"Sex\": \"female\", \"Age\": null, \"SibSp\": 1, \"Parch\": 0, \"Ticket\": \"17453\", \"Fare\": 89.1042, \"Cabin\": \"C92\", \"Embarked\": \"C\"}, {\"PassengerId\": 851, \"Survived\": 0, \"Pclass\": 3, \"Name\": \"Andersson, Master. Sigvard Harald Elias\", \"Sex\": \"male\", \"Age\": 4.0, \"SibSp\": 4, \"Parch\": 2, \"Ticket\": \"347082\", \"Fare\": 31.275, \"Cabin\": null, \"Embarked\": \"S\"}, {\"PassengerId\": 852, \"Survived\": 0, \"Pclass\": 3, \"Name\": \"Svensson, Mr. Johan\", \"Sex\": \"male\", \"Age\": 74.0, \"SibSp\": 0, \"Parch\": 0, \"Ticket\": \"347060\", \"Fare\": 7.775, \"Cabin\": null, \"Embarked\": \"S\"}, {\"PassengerId\": 853, \"Survived\": 0, \"Pclass\": 3, \"Name\": \"Boulos, Miss. Nourelain\", \"Sex\": \"female\", \"Age\": 9.0, \"SibSp\": 1, \"Parch\": 1, \"Ticket\": \"2678\", \"Fare\": 15.2458, \"Cabin\": null, \"Embarked\": \"C\"}, {\"PassengerId\": 854, \"Survived\": 1, \"Pclass\": 1, \"Name\": \"Lines, Miss. Mary Conover\", \"Sex\": \"female\", \"Age\": 16.0, \"SibSp\": 0, \"Parch\": 1, \"Ticket\": \"PC 17592\", \"Fare\": 39.4, \"Cabin\": \"D28\", \"Embarked\": \"S\"}, {\"PassengerId\": 855, \"Survived\": 0, \"Pclass\": 2, \"Name\": \"Carter, Mrs. Ernest Courtenay (Lilian Hughes)\", \"Sex\": \"female\", \"Age\": 44.0, \"SibSp\": 1, \"Parch\": 0, \"Ticket\": \"244252\", \"Fare\": 26.0, \"Cabin\": null, \"Embarked\": \"S\"}, {\"PassengerId\": 856, \"Survived\": 1, \"Pclass\": 3, \"Name\": \"Aks, Mrs. Sam (Leah Rosen)\", \"Sex\": \"female\", \"Age\": 18.0, \"SibSp\": 0, \"Parch\": 1, \"Ticket\": \"392091\", \"Fare\": 9.35, \"Cabin\": null, \"Embarked\": \"S\"}, {\"PassengerId\": 857, \"Survived\": 1, \"Pclass\": 1, \"Name\": \"Wick, Mrs. George Dennick (Mary Hitchcock)\", \"Sex\": \"female\", \"Age\": 45.0, \"SibSp\": 1, \"Parch\": 1, \"Ticket\": \"36928\", \"Fare\": 164.8667, \"Cabin\": null, \"Embarked\": \"S\"}, {\"PassengerId\": 858, \"Survived\": 1, \"Pclass\": 1, \"Name\": \"Daly, Mr. Peter Denis \", \"Sex\": \"male\", \"Age\": 51.0, \"SibSp\": 0, \"Parch\": 0, \"Ticket\": \"113055\", \"Fare\": 26.55, \"Cabin\": \"E17\", \"Embarked\": \"S\"}, {\"PassengerId\": 859, \"Survived\": 1, \"Pclass\": 3, \"Name\": \"Baclini, Mrs. Solomon (Latifa Qurban)\", \"Sex\": \"female\", \"Age\": 24.0, \"SibSp\": 0, \"Parch\": 3, \"Ticket\": \"2666\", \"Fare\": 19.2583, \"Cabin\": null, \"Embarked\": \"C\"}, {\"PassengerId\": 860, \"Survived\": 0, \"Pclass\": 3, \"Name\": \"Razi, Mr. Raihed\", \"Sex\": \"male\", \"Age\": null, \"SibSp\": 0, \"Parch\": 0, \"Ticket\": \"2629\", \"Fare\": 7.2292, \"Cabin\": null, \"Embarked\": \"C\"}, {\"PassengerId\": 861, \"Survived\": 0, \"Pclass\": 3, \"Name\": \"Hansen, Mr. Claus Peter\", \"Sex\": \"male\", \"Age\": 41.0, \"SibSp\": 2, \"Parch\": 0, \"Ticket\": \"350026\", \"Fare\": 14.1083, \"Cabin\": null, \"Embarked\": \"S\"}, {\"PassengerId\": 862, \"Survived\": 0, \"Pclass\": 2, \"Name\": \"Giles, Mr. Frederick Edward\", \"Sex\": \"male\", \"Age\": 21.0, \"SibSp\": 1, \"Parch\": 0, \"Ticket\": \"28134\", \"Fare\": 11.5, \"Cabin\": null, \"Embarked\": \"S\"}, {\"PassengerId\": 863, \"Survived\": 1, \"Pclass\": 1, \"Name\": \"Swift, Mrs. Frederick Joel (Margaret Welles Barron)\", \"Sex\": \"female\", \"Age\": 48.0, \"SibSp\": 0, \"Parch\": 0, \"Ticket\": \"17466\", \"Fare\": 25.9292, \"Cabin\": \"D17\", \"Embarked\": \"S\"}, {\"PassengerId\": 864, \"Survived\": 0, \"Pclass\": 3, \"Name\": \"Sage, Miss. Dorothy Edith \\\"Dolly\\\"\", \"Sex\": \"female\", \"Age\": null, \"SibSp\": 8, \"Parch\": 2, \"Ticket\": \"CA. 2343\", \"Fare\": 69.55, \"Cabin\": null, \"Embarked\": \"S\"}, {\"PassengerId\": 865, \"Survived\": 0, \"Pclass\": 2, \"Name\": \"Gill, Mr. John William\", \"Sex\": \"male\", \"Age\": 24.0, \"SibSp\": 0, \"Parch\": 0, \"Ticket\": \"233866\", \"Fare\": 13.0, \"Cabin\": null, \"Embarked\": \"S\"}, {\"PassengerId\": 866, \"Survived\": 1, \"Pclass\": 2, \"Name\": \"Bystrom, Mrs. (Karolina)\", \"Sex\": \"female\", \"Age\": 42.0, \"SibSp\": 0, \"Parch\": 0, \"Ticket\": \"236852\", \"Fare\": 13.0, \"Cabin\": null, \"Embarked\": \"S\"}, {\"PassengerId\": 867, \"Survived\": 1, \"Pclass\": 2, \"Name\": \"Duran y More, Miss. Asuncion\", \"Sex\": \"female\", \"Age\": 27.0, \"SibSp\": 1, \"Parch\": 0, \"Ticket\": \"SC/PARIS 2149\", \"Fare\": 13.8583, \"Cabin\": null, \"Embarked\": \"C\"}, {\"PassengerId\": 868, \"Survived\": 0, \"Pclass\": 1, \"Name\": \"Roebling, Mr. Washington Augustus II\", \"Sex\": \"male\", \"Age\": 31.0, \"SibSp\": 0, \"Parch\": 0, \"Ticket\": \"PC 17590\", \"Fare\": 50.4958, \"Cabin\": \"A24\", \"Embarked\": \"S\"}, {\"PassengerId\": 869, \"Survived\": 0, \"Pclass\": 3, \"Name\": \"van Melkebeke, Mr. Philemon\", \"Sex\": \"male\", \"Age\": null, \"SibSp\": 0, \"Parch\": 0, \"Ticket\": \"345777\", \"Fare\": 9.5, \"Cabin\": null, \"Embarked\": \"S\"}, {\"PassengerId\": 870, \"Survived\": 1, \"Pclass\": 3, \"Name\": \"Johnson, Master. Harold Theodor\", \"Sex\": \"male\", \"Age\": 4.0, \"SibSp\": 1, \"Parch\": 1, \"Ticket\": \"347742\", \"Fare\": 11.1333, \"Cabin\": null, \"Embarked\": \"S\"}, {\"PassengerId\": 871, \"Survived\": 0, \"Pclass\": 3, \"Name\": \"Balkic, Mr. Cerin\", \"Sex\": \"male\", \"Age\": 26.0, \"SibSp\": 0, \"Parch\": 0, \"Ticket\": \"349248\", \"Fare\": 7.8958, \"Cabin\": null, \"Embarked\": \"S\"}, {\"PassengerId\": 872, \"Survived\": 1, \"Pclass\": 1, \"Name\": \"Beckwith, Mrs. Richard Leonard (Sallie Monypeny)\", \"Sex\": \"female\", \"Age\": 47.0, \"SibSp\": 1, \"Parch\": 1, \"Ticket\": \"11751\", \"Fare\": 52.5542, \"Cabin\": \"D35\", \"Embarked\": \"S\"}, {\"PassengerId\": 873, \"Survived\": 0, \"Pclass\": 1, \"Name\": \"Carlsson, Mr. Frans Olof\", \"Sex\": \"male\", \"Age\": 33.0, \"SibSp\": 0, \"Parch\": 0, \"Ticket\": \"695\", \"Fare\": 5.0, \"Cabin\": \"B51 B53 B55\", \"Embarked\": \"S\"}, {\"PassengerId\": 874, \"Survived\": 0, \"Pclass\": 3, \"Name\": \"Vander Cruyssen, Mr. Victor\", \"Sex\": \"male\", \"Age\": 47.0, \"SibSp\": 0, \"Parch\": 0, \"Ticket\": \"345765\", \"Fare\": 9.0, \"Cabin\": null, \"Embarked\": \"S\"}, {\"PassengerId\": 875, \"Survived\": 1, \"Pclass\": 2, \"Name\": \"Abelson, Mrs. Samuel (Hannah Wizosky)\", \"Sex\": \"female\", \"Age\": 28.0, \"SibSp\": 1, \"Parch\": 0, \"Ticket\": \"P/PP 3381\", \"Fare\": 24.0, \"Cabin\": null, \"Embarked\": \"C\"}, {\"PassengerId\": 876, \"Survived\": 1, \"Pclass\": 3, \"Name\": \"Najib, Miss. Adele Kiamie \\\"Jane\\\"\", \"Sex\": \"female\", \"Age\": 15.0, \"SibSp\": 0, \"Parch\": 0, \"Ticket\": \"2667\", \"Fare\": 7.225, \"Cabin\": null, \"Embarked\": \"C\"}, {\"PassengerId\": 877, \"Survived\": 0, \"Pclass\": 3, \"Name\": \"Gustafsson, Mr. Alfred Ossian\", \"Sex\": \"male\", \"Age\": 20.0, \"SibSp\": 0, \"Parch\": 0, \"Ticket\": \"7534\", \"Fare\": 9.8458, \"Cabin\": null, \"Embarked\": \"S\"}, {\"PassengerId\": 878, \"Survived\": 0, \"Pclass\": 3, \"Name\": \"Petroff, Mr. Nedelio\", \"Sex\": \"male\", \"Age\": 19.0, \"SibSp\": 0, \"Parch\": 0, \"Ticket\": \"349212\", \"Fare\": 7.8958, \"Cabin\": null, \"Embarked\": \"S\"}, {\"PassengerId\": 879, \"Survived\": 0, \"Pclass\": 3, \"Name\": \"Laleff, Mr. Kristo\", \"Sex\": \"male\", \"Age\": null, \"SibSp\": 0, \"Parch\": 0, \"Ticket\": \"349217\", \"Fare\": 7.8958, \"Cabin\": null, \"Embarked\": \"S\"}, {\"PassengerId\": 880, \"Survived\": 1, \"Pclass\": 1, \"Name\": \"Potter, Mrs. Thomas Jr (Lily Alexenia Wilson)\", \"Sex\": \"female\", \"Age\": 56.0, \"SibSp\": 0, \"Parch\": 1, \"Ticket\": \"11767\", \"Fare\": 83.1583, \"Cabin\": \"C50\", \"Embarked\": \"C\"}, {\"PassengerId\": 881, \"Survived\": 1, \"Pclass\": 2, \"Name\": \"Shelley, Mrs. William (Imanita Parrish Hall)\", \"Sex\": \"female\", \"Age\": 25.0, \"SibSp\": 0, \"Parch\": 1, \"Ticket\": \"230433\", \"Fare\": 26.0, \"Cabin\": null, \"Embarked\": \"S\"}, {\"PassengerId\": 882, \"Survived\": 0, \"Pclass\": 3, \"Name\": \"Markun, Mr. Johann\", \"Sex\": \"male\", \"Age\": 33.0, \"SibSp\": 0, \"Parch\": 0, \"Ticket\": \"349257\", \"Fare\": 7.8958, \"Cabin\": null, \"Embarked\": \"S\"}, {\"PassengerId\": 883, \"Survived\": 0, \"Pclass\": 3, \"Name\": \"Dahlberg, Miss. Gerda Ulrika\", \"Sex\": \"female\", \"Age\": 22.0, \"SibSp\": 0, \"Parch\": 0, \"Ticket\": \"7552\", \"Fare\": 10.5167, \"Cabin\": null, \"Embarked\": \"S\"}, {\"PassengerId\": 884, \"Survived\": 0, \"Pclass\": 2, \"Name\": \"Banfield, Mr. Frederick James\", \"Sex\": \"male\", \"Age\": 28.0, \"SibSp\": 0, \"Parch\": 0, \"Ticket\": \"C.A./SOTON 34068\", \"Fare\": 10.5, \"Cabin\": null, \"Embarked\": \"S\"}, {\"PassengerId\": 885, \"Survived\": 0, \"Pclass\": 3, \"Name\": \"Sutehall, Mr. Henry Jr\", \"Sex\": \"male\", \"Age\": 25.0, \"SibSp\": 0, \"Parch\": 0, \"Ticket\": \"SOTON/OQ 392076\", \"Fare\": 7.05, \"Cabin\": null, \"Embarked\": \"S\"}, {\"PassengerId\": 886, \"Survived\": 0, \"Pclass\": 3, \"Name\": \"Rice, Mrs. William (Margaret Norton)\", \"Sex\": \"female\", \"Age\": 39.0, \"SibSp\": 0, \"Parch\": 5, \"Ticket\": \"382652\", \"Fare\": 29.125, \"Cabin\": null, \"Embarked\": \"Q\"}, {\"PassengerId\": 887, \"Survived\": 0, \"Pclass\": 2, \"Name\": \"Montvila, Rev. Juozas\", \"Sex\": \"male\", \"Age\": 27.0, \"SibSp\": 0, \"Parch\": 0, \"Ticket\": \"211536\", \"Fare\": 13.0, \"Cabin\": null, \"Embarked\": \"S\"}, {\"PassengerId\": 888, \"Survived\": 1, \"Pclass\": 1, \"Name\": \"Graham, Miss. Margaret Edith\", \"Sex\": \"female\", \"Age\": 19.0, \"SibSp\": 0, \"Parch\": 0, \"Ticket\": \"112053\", \"Fare\": 30.0, \"Cabin\": \"B42\", \"Embarked\": \"S\"}, {\"PassengerId\": 889, \"Survived\": 0, \"Pclass\": 3, \"Name\": \"Johnston, Miss. Catherine Helen \\\"Carrie\\\"\", \"Sex\": \"female\", \"Age\": null, \"SibSp\": 1, \"Parch\": 2, \"Ticket\": \"W./C. 6607\", \"Fare\": 23.45, \"Cabin\": null, \"Embarked\": \"S\"}, {\"PassengerId\": 890, \"Survived\": 1, \"Pclass\": 1, \"Name\": \"Behr, Mr. Karl Howell\", \"Sex\": \"male\", \"Age\": 26.0, \"SibSp\": 0, \"Parch\": 0, \"Ticket\": \"111369\", \"Fare\": 30.0, \"Cabin\": \"C148\", \"Embarked\": \"C\"}, {\"PassengerId\": 891, \"Survived\": 0, \"Pclass\": 3, \"Name\": \"Dooley, Mr. Patrick\", \"Sex\": \"male\", \"Age\": 32.0, \"SibSp\": 0, \"Parch\": 0, \"Ticket\": \"370376\", \"Fare\": 7.75, \"Cabin\": null, \"Embarked\": \"Q\"}]}}, {\"mode\": \"vega-lite\"});\n",
       "</script>"
      ],
      "text/plain": [
       "alt.Chart(...)"
      ]
     },
     "execution_count": 9,
     "metadata": {},
     "output_type": "execute_result"
    }
   ],
   "source": [
    "(\n",
    "    df\n",
    "    .plot.scatter\n",
    "    (\n",
    "        x=\"Age\",\n",
    "        y=\"Fare\",\n",
    "        color=\"Pclass:N\",\n",
    "        tooltip=[\"Age\",\"Fare\",\"Pclass\",\"Name\"]\n",
    "    )\n",
    "    .properties\n",
    "    (\n",
    "        width=500,\n",
    "        title=\"Age vs Fare\",\n",
    "    )\n",
    "\n",
    ")"
   ]
  },
  {
   "cell_type": "code",
   "execution_count": 10,
   "id": "abf3708a-63cb-4de6-b3a2-1abfdd2145fb",
   "metadata": {},
   "outputs": [
    {
     "data": {
      "text/html": [
       "\n",
       "<style>\n",
       "  #altair-viz-944fb0fb09aa4ca1806731984b20b4ea.vega-embed {\n",
       "    width: 100%;\n",
       "    display: flex;\n",
       "  }\n",
       "\n",
       "  #altair-viz-944fb0fb09aa4ca1806731984b20b4ea.vega-embed details,\n",
       "  #altair-viz-944fb0fb09aa4ca1806731984b20b4ea.vega-embed details summary {\n",
       "    position: relative;\n",
       "  }\n",
       "</style>\n",
       "<div id=\"altair-viz-944fb0fb09aa4ca1806731984b20b4ea\"></div>\n",
       "<script type=\"text/javascript\">\n",
       "  var VEGA_DEBUG = (typeof VEGA_DEBUG == \"undefined\") ? {} : VEGA_DEBUG;\n",
       "  (function(spec, embedOpt){\n",
       "    let outputDiv = document.currentScript.previousElementSibling;\n",
       "    if (outputDiv.id !== \"altair-viz-944fb0fb09aa4ca1806731984b20b4ea\") {\n",
       "      outputDiv = document.getElementById(\"altair-viz-944fb0fb09aa4ca1806731984b20b4ea\");\n",
       "    }\n",
       "\n",
       "    const paths = {\n",
       "      \"vega\": \"https://cdn.jsdelivr.net/npm/vega@5?noext\",\n",
       "      \"vega-lib\": \"https://cdn.jsdelivr.net/npm/vega-lib?noext\",\n",
       "      \"vega-lite\": \"https://cdn.jsdelivr.net/npm/vega-lite@5.20.1?noext\",\n",
       "      \"vega-embed\": \"https://cdn.jsdelivr.net/npm/vega-embed@6?noext\",\n",
       "    };\n",
       "\n",
       "    function maybeLoadScript(lib, version) {\n",
       "      var key = `${lib.replace(\"-\", \"\")}_version`;\n",
       "      return (VEGA_DEBUG[key] == version) ?\n",
       "        Promise.resolve(paths[lib]) :\n",
       "        new Promise(function(resolve, reject) {\n",
       "          var s = document.createElement('script');\n",
       "          document.getElementsByTagName(\"head\")[0].appendChild(s);\n",
       "          s.async = true;\n",
       "          s.onload = () => {\n",
       "            VEGA_DEBUG[key] = version;\n",
       "            return resolve(paths[lib]);\n",
       "          };\n",
       "          s.onerror = () => reject(`Error loading script: ${paths[lib]}`);\n",
       "          s.src = paths[lib];\n",
       "        });\n",
       "    }\n",
       "\n",
       "    function showError(err) {\n",
       "      outputDiv.innerHTML = `<div class=\"error\" style=\"color:red;\">${err}</div>`;\n",
       "      throw err;\n",
       "    }\n",
       "\n",
       "    function displayChart(vegaEmbed) {\n",
       "      vegaEmbed(outputDiv, spec, embedOpt)\n",
       "        .catch(err => showError(`Javascript Error: ${err.message}<br>This usually means there's a typo in your chart specification. See the javascript console for the full traceback.`));\n",
       "    }\n",
       "\n",
       "    if(typeof define === \"function\" && define.amd) {\n",
       "      requirejs.config({paths});\n",
       "      let deps = [\"vega-embed\"];\n",
       "      require(deps, displayChart, err => showError(`Error loading script: ${err.message}`));\n",
       "    } else {\n",
       "      maybeLoadScript(\"vega\", \"5\")\n",
       "        .then(() => maybeLoadScript(\"vega-lite\", \"5.20.1\"))\n",
       "        .then(() => maybeLoadScript(\"vega-embed\", \"6\"))\n",
       "        .catch(showError)\n",
       "        .then(() => displayChart(vegaEmbed));\n",
       "    }\n",
       "  })({\"config\": {\"view\": {\"continuousWidth\": 300, \"continuousHeight\": 300}}, \"data\": {\"name\": \"data-dd8f1dfe243a7fb81fa9bcb41ddde825\"}, \"mark\": {\"type\": \"bar\", \"tooltip\": true}, \"encoding\": {\"x\": {\"field\": \"category\", \"sort\": [\"[0.42, 8.378]\", \"(8.378, 16.336]\", \"(16.336, 24.294]\", \"(24.294, 32.252]\", \"(32.252, 40.21]\", \"(40.21, 48.168]\", \"(48.168, 56.126]\", \"(56.126, 64.084]\", \"(64.084, 72.042]\", \"(72.042, 80.0]\"], \"type\": \"ordinal\"}, \"y\": {\"field\": \"count\", \"type\": \"quantitative\"}}, \"params\": [{\"name\": \"param_5\", \"select\": {\"type\": \"interval\", \"encodings\": [\"x\", \"y\"]}, \"bind\": \"scales\"}], \"$schema\": \"https://vega.github.io/schema/vega-lite/v5.20.1.json\", \"datasets\": {\"data-dd8f1dfe243a7fb81fa9bcb41ddde825\": [{\"breakpoint\": 8.378, \"category\": \"[0.42, 8.378]\", \"count\": 54}, {\"breakpoint\": 16.336000000000002, \"category\": \"(8.378, 16.336]\", \"count\": 46}, {\"breakpoint\": 24.294000000000004, \"category\": \"(16.336, 24.294]\", \"count\": 177}, {\"breakpoint\": 32.252, \"category\": \"(24.294, 32.252]\", \"count\": 169}, {\"breakpoint\": 40.21, \"category\": \"(32.252, 40.21]\", \"count\": 118}, {\"breakpoint\": 48.168000000000006, \"category\": \"(40.21, 48.168]\", \"count\": 70}, {\"breakpoint\": 56.126000000000005, \"category\": \"(48.168, 56.126]\", \"count\": 45}, {\"breakpoint\": 64.084, \"category\": \"(56.126, 64.084]\", \"count\": 24}, {\"breakpoint\": 72.042, \"category\": \"(64.084, 72.042]\", \"count\": 9}, {\"breakpoint\": 80.0, \"category\": \"(72.042, 80.0]\", \"count\": 2}]}}, {\"mode\": \"vega-lite\"});\n",
       "</script>"
      ],
      "text/plain": [
       "alt.Chart(...)"
      ]
     },
     "execution_count": 10,
     "metadata": {},
     "output_type": "execute_result"
    }
   ],
   "source": [
    "(\n",
    "    df[\"Age\"]\n",
    "    .hist(\n",
    "        bin_count=10\n",
    "    )\n",
    "    .plot.bar\n",
    "    (\n",
    "        x=\"category\",\n",
    "        y=\"count\",\n",
    "    )\n",
    ")"
   ]
  },
  {
   "cell_type": "code",
   "execution_count": 11,
   "id": "ee82fdce-4e5c-4f61-aa50-5ecb66e46e6b",
   "metadata": {},
   "outputs": [
    {
     "data": {
      "text/html": [
       "<div><style>\n",
       ".dataframe > thead > tr,\n",
       ".dataframe > tbody > tr {\n",
       "  text-align: right;\n",
       "  white-space: pre-wrap;\n",
       "}\n",
       "</style>\n",
       "<small>shape: (5, 12)</small><table border=\"1\" class=\"dataframe\"><thead><tr><th>PassengerId</th><th>Survived</th><th>Pclass</th><th>Name</th><th>Sex</th><th>Age</th><th>SibSp</th><th>Parch</th><th>Ticket</th><th>Fare</th><th>Cabin</th><th>Embarked</th></tr><tr><td>i64</td><td>i64</td><td>i64</td><td>str</td><td>str</td><td>f64</td><td>i64</td><td>i64</td><td>str</td><td>f64</td><td>str</td><td>str</td></tr></thead><tbody><tr><td>6</td><td>0</td><td>3</td><td>&quot;Moran, Mr. James&quot;</td><td>&quot;male&quot;</td><td>null</td><td>0</td><td>0</td><td>&quot;330877&quot;</td><td>8.4583</td><td>null</td><td>&quot;Q&quot;</td></tr><tr><td>7</td><td>0</td><td>1</td><td>&quot;McCarthy, Mr. Timothy J&quot;</td><td>&quot;male&quot;</td><td>54.0</td><td>0</td><td>0</td><td>&quot;17463&quot;</td><td>51.8625</td><td>&quot;E46&quot;</td><td>&quot;S&quot;</td></tr><tr><td>8</td><td>0</td><td>3</td><td>&quot;Palsson, Master. Gosta Leonard&quot;</td><td>&quot;male&quot;</td><td>2.0</td><td>3</td><td>1</td><td>&quot;349909&quot;</td><td>21.075</td><td>null</td><td>&quot;S&quot;</td></tr><tr><td>9</td><td>1</td><td>3</td><td>&quot;Johnson, Mrs. Oscar W (Elisabe…</td><td>&quot;female&quot;</td><td>27.0</td><td>0</td><td>2</td><td>&quot;347742&quot;</td><td>11.1333</td><td>null</td><td>&quot;S&quot;</td></tr><tr><td>10</td><td>1</td><td>2</td><td>&quot;Nasser, Mrs. Nicholas (Adele A…</td><td>&quot;female&quot;</td><td>14.0</td><td>1</td><td>0</td><td>&quot;237736&quot;</td><td>30.0708</td><td>null</td><td>&quot;C&quot;</td></tr></tbody></table></div>"
      ],
      "text/plain": [
       "shape: (5, 12)\n",
       "┌─────────────┬──────────┬────────┬──────────────────────┬───┬────────┬─────────┬───────┬──────────┐\n",
       "│ PassengerId ┆ Survived ┆ Pclass ┆ Name                 ┆ … ┆ Ticket ┆ Fare    ┆ Cabin ┆ Embarked │\n",
       "│ ---         ┆ ---      ┆ ---    ┆ ---                  ┆   ┆ ---    ┆ ---     ┆ ---   ┆ ---      │\n",
       "│ i64         ┆ i64      ┆ i64    ┆ str                  ┆   ┆ str    ┆ f64     ┆ str   ┆ str      │\n",
       "╞═════════════╪══════════╪════════╪══════════════════════╪═══╪════════╪═════════╪═══════╪══════════╡\n",
       "│ 6           ┆ 0        ┆ 3      ┆ Moran, Mr. James     ┆ … ┆ 330877 ┆ 8.4583  ┆ null  ┆ Q        │\n",
       "│ 7           ┆ 0        ┆ 1      ┆ McCarthy, Mr.        ┆ … ┆ 17463  ┆ 51.8625 ┆ E46   ┆ S        │\n",
       "│             ┆          ┆        ┆ Timothy J            ┆   ┆        ┆         ┆       ┆          │\n",
       "│ 8           ┆ 0        ┆ 3      ┆ Palsson, Master.     ┆ … ┆ 349909 ┆ 21.075  ┆ null  ┆ S        │\n",
       "│             ┆          ┆        ┆ Gosta Leonard        ┆   ┆        ┆         ┆       ┆          │\n",
       "│ 9           ┆ 1        ┆ 3      ┆ Johnson, Mrs. Oscar  ┆ … ┆ 347742 ┆ 11.1333 ┆ null  ┆ S        │\n",
       "│             ┆          ┆        ┆ W (Elisabe…          ┆   ┆        ┆         ┆       ┆          │\n",
       "│ 10          ┆ 1        ┆ 2      ┆ Nasser, Mrs.         ┆ … ┆ 237736 ┆ 30.0708 ┆ null  ┆ C        │\n",
       "│             ┆          ┆        ┆ Nicholas (Adele A…   ┆   ┆        ┆         ┆       ┆          │\n",
       "└─────────────┴──────────┴────────┴──────────────────────┴───┴────────┴─────────┴───────┴──────────┘"
      ]
     },
     "execution_count": 11,
     "metadata": {},
     "output_type": "execute_result"
    }
   ],
   "source": [
    "df[range(5,10)]"
   ]
  },
  {
   "cell_type": "code",
   "execution_count": 12,
   "id": "cd365cb1-31af-43a3-abdc-00cd91fc4ad1",
   "metadata": {},
   "outputs": [
    {
     "data": {
      "text/html": [
       "<div><style>\n",
       ".dataframe > thead > tr,\n",
       ".dataframe > tbody > tr {\n",
       "  text-align: right;\n",
       "  white-space: pre-wrap;\n",
       "}\n",
       "</style>\n",
       "<small>shape: (5, 12)</small><table border=\"1\" class=\"dataframe\"><thead><tr><th>PassengerId</th><th>Survived</th><th>Pclass</th><th>Name</th><th>Sex</th><th>Age</th><th>SibSp</th><th>Parch</th><th>Ticket</th><th>Fare</th><th>Cabin</th><th>Embarked</th></tr><tr><td>i64</td><td>i64</td><td>i64</td><td>str</td><td>str</td><td>f64</td><td>i64</td><td>i64</td><td>str</td><td>f64</td><td>str</td><td>str</td></tr></thead><tbody><tr><td>517</td><td>1</td><td>2</td><td>&quot;Lemore, Mrs. (Amelia Milley)&quot;</td><td>&quot;female&quot;</td><td>34.0</td><td>0</td><td>0</td><td>&quot;C.A. 34260&quot;</td><td>10.5</td><td>&quot;F33&quot;</td><td>&quot;S&quot;</td></tr><tr><td>227</td><td>1</td><td>2</td><td>&quot;Mellors, Mr. William John&quot;</td><td>&quot;male&quot;</td><td>19.0</td><td>0</td><td>0</td><td>&quot;SW/PP 751&quot;</td><td>10.5</td><td>null</td><td>&quot;S&quot;</td></tr><tr><td>449</td><td>1</td><td>3</td><td>&quot;Baclini, Miss. Marie Catherine&quot;</td><td>&quot;female&quot;</td><td>5.0</td><td>2</td><td>1</td><td>&quot;2666&quot;</td><td>19.2583</td><td>null</td><td>&quot;C&quot;</td></tr><tr><td>596</td><td>0</td><td>3</td><td>&quot;Van Impe, Mr. Jean Baptiste&quot;</td><td>&quot;male&quot;</td><td>36.0</td><td>1</td><td>1</td><td>&quot;345773&quot;</td><td>24.15</td><td>null</td><td>&quot;S&quot;</td></tr><tr><td>467</td><td>0</td><td>2</td><td>&quot;Campbell, Mr. William&quot;</td><td>&quot;male&quot;</td><td>null</td><td>0</td><td>0</td><td>&quot;239853&quot;</td><td>0.0</td><td>null</td><td>&quot;S&quot;</td></tr></tbody></table></div>"
      ],
      "text/plain": [
       "shape: (5, 12)\n",
       "┌─────────────┬──────────┬────────┬──────────────────┬───┬────────────┬─────────┬───────┬──────────┐\n",
       "│ PassengerId ┆ Survived ┆ Pclass ┆ Name             ┆ … ┆ Ticket     ┆ Fare    ┆ Cabin ┆ Embarked │\n",
       "│ ---         ┆ ---      ┆ ---    ┆ ---              ┆   ┆ ---        ┆ ---     ┆ ---   ┆ ---      │\n",
       "│ i64         ┆ i64      ┆ i64    ┆ str              ┆   ┆ str        ┆ f64     ┆ str   ┆ str      │\n",
       "╞═════════════╪══════════╪════════╪══════════════════╪═══╪════════════╪═════════╪═══════╪══════════╡\n",
       "│ 517         ┆ 1        ┆ 2      ┆ Lemore, Mrs.     ┆ … ┆ C.A. 34260 ┆ 10.5    ┆ F33   ┆ S        │\n",
       "│             ┆          ┆        ┆ (Amelia Milley)  ┆   ┆            ┆         ┆       ┆          │\n",
       "│ 227         ┆ 1        ┆ 2      ┆ Mellors, Mr.     ┆ … ┆ SW/PP 751  ┆ 10.5    ┆ null  ┆ S        │\n",
       "│             ┆          ┆        ┆ William John     ┆   ┆            ┆         ┆       ┆          │\n",
       "│ 449         ┆ 1        ┆ 3      ┆ Baclini, Miss.   ┆ … ┆ 2666       ┆ 19.2583 ┆ null  ┆ C        │\n",
       "│             ┆          ┆        ┆ Marie Catherine  ┆   ┆            ┆         ┆       ┆          │\n",
       "│ 596         ┆ 0        ┆ 3      ┆ Van Impe, Mr.    ┆ … ┆ 345773     ┆ 24.15   ┆ null  ┆ S        │\n",
       "│             ┆          ┆        ┆ Jean Baptiste    ┆   ┆            ┆         ┆       ┆          │\n",
       "│ 467         ┆ 0        ┆ 2      ┆ Campbell, Mr.    ┆ … ┆ 239853     ┆ 0.0     ┆ null  ┆ S        │\n",
       "│             ┆          ┆        ┆ William          ┆   ┆            ┆         ┆       ┆          │\n",
       "└─────────────┴──────────┴────────┴──────────────────┴───┴────────────┴─────────┴───────┴──────────┘"
      ]
     },
     "execution_count": 12,
     "metadata": {},
     "output_type": "execute_result"
    }
   ],
   "source": [
    "import random\n",
    "df.sample(5)"
   ]
  },
  {
   "cell_type": "code",
   "execution_count": 13,
   "id": "af027a65-0daa-431b-bd3f-e1fd81b3e4bc",
   "metadata": {},
   "outputs": [
    {
     "data": {
      "text/html": [
       "<div><style>\n",
       ".dataframe > thead > tr,\n",
       ".dataframe > tbody > tr {\n",
       "  text-align: right;\n",
       "  white-space: pre-wrap;\n",
       "}\n",
       "</style>\n",
       "<small>shape: (891, 2)</small><table border=\"1\" class=\"dataframe\"><thead><tr><th>PassengerId</th><th>Embarked</th></tr><tr><td>i64</td><td>str</td></tr></thead><tbody><tr><td>1</td><td>&quot;S&quot;</td></tr><tr><td>2</td><td>&quot;C&quot;</td></tr><tr><td>3</td><td>&quot;S&quot;</td></tr><tr><td>4</td><td>&quot;S&quot;</td></tr><tr><td>5</td><td>&quot;S&quot;</td></tr><tr><td>&hellip;</td><td>&hellip;</td></tr><tr><td>887</td><td>&quot;S&quot;</td></tr><tr><td>888</td><td>&quot;S&quot;</td></tr><tr><td>889</td><td>&quot;S&quot;</td></tr><tr><td>890</td><td>&quot;C&quot;</td></tr><tr><td>891</td><td>&quot;Q&quot;</td></tr></tbody></table></div>"
      ],
      "text/plain": [
       "shape: (891, 2)\n",
       "┌─────────────┬──────────┐\n",
       "│ PassengerId ┆ Embarked │\n",
       "│ ---         ┆ ---      │\n",
       "│ i64         ┆ str      │\n",
       "╞═════════════╪══════════╡\n",
       "│ 1           ┆ S        │\n",
       "│ 2           ┆ C        │\n",
       "│ 3           ┆ S        │\n",
       "│ 4           ┆ S        │\n",
       "│ 5           ┆ S        │\n",
       "│ …           ┆ …        │\n",
       "│ 887         ┆ S        │\n",
       "│ 888         ┆ S        │\n",
       "│ 889         ┆ S        │\n",
       "│ 890         ┆ C        │\n",
       "│ 891         ┆ Q        │\n",
       "└─────────────┴──────────┘"
      ]
     },
     "execution_count": 13,
     "metadata": {},
     "output_type": "execute_result"
    }
   ],
   "source": [
    "df[[True] + [False] * 10 + [True]]"
   ]
  },
  {
   "cell_type": "code",
   "execution_count": 14,
   "id": "d1b13856-5775-4cc3-adbc-43bb941a7b6e",
   "metadata": {},
   "outputs": [
    {
     "data": {
      "text/html": [
       "<div><style>\n",
       ".dataframe > thead > tr,\n",
       ".dataframe > tbody > tr {\n",
       "  text-align: right;\n",
       "  white-space: pre-wrap;\n",
       "}\n",
       "</style>\n",
       "<small>shape: (5, 12)</small><table border=\"1\" class=\"dataframe\"><thead><tr><th>PassengerId</th><th>Survived</th><th>Pclass</th><th>Name</th><th>Sex</th><th>Age</th><th>SibSp</th><th>Parch</th><th>Ticket</th><th>Fare</th><th>Cabin</th><th>Embarked</th></tr><tr><td>i64</td><td>i64</td><td>i64</td><td>str</td><td>str</td><td>f64</td><td>i64</td><td>i64</td><td>str</td><td>f64</td><td>str</td><td>str</td></tr></thead><tbody><tr><td>1</td><td>0</td><td>3</td><td>&quot;Braund, Mr. Owen Harris&quot;</td><td>&quot;male&quot;</td><td>22.0</td><td>1</td><td>0</td><td>&quot;A/5 21171&quot;</td><td>7.25</td><td>null</td><td>&quot;S&quot;</td></tr><tr><td>2</td><td>1</td><td>1</td><td>&quot;Cumings, Mrs. John Bradley (Fl…</td><td>&quot;female&quot;</td><td>38.0</td><td>1</td><td>0</td><td>&quot;PC 17599&quot;</td><td>71.2833</td><td>&quot;C85&quot;</td><td>&quot;C&quot;</td></tr><tr><td>3</td><td>1</td><td>3</td><td>&quot;Heikkinen, Miss. Laina&quot;</td><td>&quot;female&quot;</td><td>26.0</td><td>0</td><td>0</td><td>&quot;STON/O2. 3101282&quot;</td><td>7.925</td><td>null</td><td>&quot;S&quot;</td></tr><tr><td>4</td><td>1</td><td>1</td><td>&quot;Futrelle, Mrs. Jacques Heath (…</td><td>&quot;female&quot;</td><td>35.0</td><td>1</td><td>0</td><td>&quot;113803&quot;</td><td>53.1</td><td>&quot;C123&quot;</td><td>&quot;S&quot;</td></tr><tr><td>5</td><td>0</td><td>3</td><td>&quot;Allen, Mr. William Henry&quot;</td><td>&quot;male&quot;</td><td>35.0</td><td>0</td><td>0</td><td>&quot;373450&quot;</td><td>8.05</td><td>null</td><td>&quot;S&quot;</td></tr></tbody></table></div>"
      ],
      "text/plain": [
       "shape: (5, 12)\n",
       "┌─────────────┬──────────┬────────┬───────────────────┬───┬───────────┬─────────┬───────┬──────────┐\n",
       "│ PassengerId ┆ Survived ┆ Pclass ┆ Name              ┆ … ┆ Ticket    ┆ Fare    ┆ Cabin ┆ Embarked │\n",
       "│ ---         ┆ ---      ┆ ---    ┆ ---               ┆   ┆ ---       ┆ ---     ┆ ---   ┆ ---      │\n",
       "│ i64         ┆ i64      ┆ i64    ┆ str               ┆   ┆ str       ┆ f64     ┆ str   ┆ str      │\n",
       "╞═════════════╪══════════╪════════╪═══════════════════╪═══╪═══════════╪═════════╪═══════╪══════════╡\n",
       "│ 1           ┆ 0        ┆ 3      ┆ Braund, Mr. Owen  ┆ … ┆ A/5 21171 ┆ 7.25    ┆ null  ┆ S        │\n",
       "│             ┆          ┆        ┆ Harris            ┆   ┆           ┆         ┆       ┆          │\n",
       "│ 2           ┆ 1        ┆ 1      ┆ Cumings, Mrs.     ┆ … ┆ PC 17599  ┆ 71.2833 ┆ C85   ┆ C        │\n",
       "│             ┆          ┆        ┆ John Bradley (Fl… ┆   ┆           ┆         ┆       ┆          │\n",
       "│ 3           ┆ 1        ┆ 3      ┆ Heikkinen, Miss.  ┆ … ┆ STON/O2.  ┆ 7.925   ┆ null  ┆ S        │\n",
       "│             ┆          ┆        ┆ Laina             ┆   ┆ 3101282   ┆         ┆       ┆          │\n",
       "│ 4           ┆ 1        ┆ 1      ┆ Futrelle, Mrs.    ┆ … ┆ 113803    ┆ 53.1    ┆ C123  ┆ S        │\n",
       "│             ┆          ┆        ┆ Jacques Heath (…  ┆   ┆           ┆         ┆       ┆          │\n",
       "│ 5           ┆ 0        ┆ 3      ┆ Allen, Mr.        ┆ … ┆ 373450    ┆ 8.05    ┆ null  ┆ S        │\n",
       "│             ┆          ┆        ┆ William Henry     ┆   ┆           ┆         ┆       ┆          │\n",
       "└─────────────┴──────────┴────────┴───────────────────┴───┴───────────┴─────────┴───────┴──────────┘"
      ]
     },
     "execution_count": 14,
     "metadata": {},
     "output_type": "execute_result"
    }
   ],
   "source": [
    "df[:5]"
   ]
  },
  {
   "cell_type": "code",
   "execution_count": 15,
   "id": "06c27e9f-db82-4e2f-bfb0-5bca38945a15",
   "metadata": {},
   "outputs": [
    {
     "data": {
      "text/html": [
       "<div><style>\n",
       ".dataframe > thead > tr,\n",
       ".dataframe > tbody > tr {\n",
       "  text-align: right;\n",
       "  white-space: pre-wrap;\n",
       "}\n",
       "</style>\n",
       "<small>shape: (4, 12)</small><table border=\"1\" class=\"dataframe\"><thead><tr><th>PassengerId</th><th>Survived</th><th>Pclass</th><th>Name</th><th>Sex</th><th>Age</th><th>SibSp</th><th>Parch</th><th>Ticket</th><th>Fare</th><th>Cabin</th><th>Embarked</th></tr><tr><td>i64</td><td>i64</td><td>i64</td><td>str</td><td>str</td><td>f64</td><td>i64</td><td>i64</td><td>str</td><td>f64</td><td>str</td><td>str</td></tr></thead><tbody><tr><td>2</td><td>1</td><td>1</td><td>&quot;Cumings, Mrs. John Bradley (Fl…</td><td>&quot;female&quot;</td><td>38.0</td><td>1</td><td>0</td><td>&quot;PC 17599&quot;</td><td>71.2833</td><td>&quot;C85&quot;</td><td>&quot;C&quot;</td></tr><tr><td>3</td><td>1</td><td>3</td><td>&quot;Heikkinen, Miss. Laina&quot;</td><td>&quot;female&quot;</td><td>26.0</td><td>0</td><td>0</td><td>&quot;STON/O2. 3101282&quot;</td><td>7.925</td><td>null</td><td>&quot;S&quot;</td></tr><tr><td>4</td><td>1</td><td>1</td><td>&quot;Futrelle, Mrs. Jacques Heath (…</td><td>&quot;female&quot;</td><td>35.0</td><td>1</td><td>0</td><td>&quot;113803&quot;</td><td>53.1</td><td>&quot;C123&quot;</td><td>&quot;S&quot;</td></tr><tr><td>5</td><td>0</td><td>3</td><td>&quot;Allen, Mr. William Henry&quot;</td><td>&quot;male&quot;</td><td>35.0</td><td>0</td><td>0</td><td>&quot;373450&quot;</td><td>8.05</td><td>null</td><td>&quot;S&quot;</td></tr></tbody></table></div>"
      ],
      "text/plain": [
       "shape: (4, 12)\n",
       "┌─────────────┬──────────┬────────┬────────────────────┬───┬──────────┬─────────┬───────┬──────────┐\n",
       "│ PassengerId ┆ Survived ┆ Pclass ┆ Name               ┆ … ┆ Ticket   ┆ Fare    ┆ Cabin ┆ Embarked │\n",
       "│ ---         ┆ ---      ┆ ---    ┆ ---                ┆   ┆ ---      ┆ ---     ┆ ---   ┆ ---      │\n",
       "│ i64         ┆ i64      ┆ i64    ┆ str                ┆   ┆ str      ┆ f64     ┆ str   ┆ str      │\n",
       "╞═════════════╪══════════╪════════╪════════════════════╪═══╪══════════╪═════════╪═══════╪══════════╡\n",
       "│ 2           ┆ 1        ┆ 1      ┆ Cumings, Mrs. John ┆ … ┆ PC 17599 ┆ 71.2833 ┆ C85   ┆ C        │\n",
       "│             ┆          ┆        ┆ Bradley (Fl…       ┆   ┆          ┆         ┆       ┆          │\n",
       "│ 3           ┆ 1        ┆ 3      ┆ Heikkinen, Miss.   ┆ … ┆ STON/O2. ┆ 7.925   ┆ null  ┆ S        │\n",
       "│             ┆          ┆        ┆ Laina              ┆   ┆ 3101282  ┆         ┆       ┆          │\n",
       "│ 4           ┆ 1        ┆ 1      ┆ Futrelle, Mrs.     ┆ … ┆ 113803   ┆ 53.1    ┆ C123  ┆ S        │\n",
       "│             ┆          ┆        ┆ Jacques Heath (…   ┆   ┆          ┆         ┆       ┆          │\n",
       "│ 5           ┆ 0        ┆ 3      ┆ Allen, Mr. William ┆ … ┆ 373450   ┆ 8.05    ┆ null  ┆ S        │\n",
       "│             ┆          ┆        ┆ Henry              ┆   ┆          ┆         ┆       ┆          │\n",
       "└─────────────┴──────────┴────────┴────────────────────┴───┴──────────┴─────────┴───────┴──────────┘"
      ]
     },
     "execution_count": 15,
     "metadata": {},
     "output_type": "execute_result"
    }
   ],
   "source": [
    "df[range(1,5)]"
   ]
  },
  {
   "cell_type": "code",
   "execution_count": 16,
   "id": "0abcebc7-2433-4ffa-a3c7-531c015637bc",
   "metadata": {},
   "outputs": [
    {
     "data": {
      "text/html": [
       "<div><style>\n",
       ".dataframe > thead > tr,\n",
       ".dataframe > tbody > tr {\n",
       "  text-align: right;\n",
       "  white-space: pre-wrap;\n",
       "}\n",
       "</style>\n",
       "<small>shape: (216, 12)</small><table border=\"1\" class=\"dataframe\"><thead><tr><th>PassengerId</th><th>Survived</th><th>Pclass</th><th>Name</th><th>Sex</th><th>Age</th><th>SibSp</th><th>Parch</th><th>Ticket</th><th>Fare</th><th>Cabin</th><th>Embarked</th></tr><tr><td>i64</td><td>i64</td><td>i64</td><td>str</td><td>str</td><td>f64</td><td>i64</td><td>i64</td><td>str</td><td>f64</td><td>str</td><td>str</td></tr></thead><tbody><tr><td>2</td><td>1</td><td>1</td><td>&quot;Cumings, Mrs. John Bradley (Fl…</td><td>&quot;female&quot;</td><td>38.0</td><td>1</td><td>0</td><td>&quot;PC 17599&quot;</td><td>71.2833</td><td>&quot;C85&quot;</td><td>&quot;C&quot;</td></tr><tr><td>4</td><td>1</td><td>1</td><td>&quot;Futrelle, Mrs. Jacques Heath (…</td><td>&quot;female&quot;</td><td>35.0</td><td>1</td><td>0</td><td>&quot;113803&quot;</td><td>53.1</td><td>&quot;C123&quot;</td><td>&quot;S&quot;</td></tr><tr><td>7</td><td>0</td><td>1</td><td>&quot;McCarthy, Mr. Timothy J&quot;</td><td>&quot;male&quot;</td><td>54.0</td><td>0</td><td>0</td><td>&quot;17463&quot;</td><td>51.8625</td><td>&quot;E46&quot;</td><td>&quot;S&quot;</td></tr><tr><td>12</td><td>1</td><td>1</td><td>&quot;Bonnell, Miss. Elizabeth&quot;</td><td>&quot;female&quot;</td><td>58.0</td><td>0</td><td>0</td><td>&quot;113783&quot;</td><td>26.55</td><td>&quot;C103&quot;</td><td>&quot;S&quot;</td></tr><tr><td>24</td><td>1</td><td>1</td><td>&quot;Sloper, Mr. William Thompson&quot;</td><td>&quot;male&quot;</td><td>28.0</td><td>0</td><td>0</td><td>&quot;113788&quot;</td><td>35.5</td><td>&quot;A6&quot;</td><td>&quot;S&quot;</td></tr><tr><td>&hellip;</td><td>&hellip;</td><td>&hellip;</td><td>&hellip;</td><td>&hellip;</td><td>&hellip;</td><td>&hellip;</td><td>&hellip;</td><td>&hellip;</td><td>&hellip;</td><td>&hellip;</td><td>&hellip;</td></tr><tr><td>872</td><td>1</td><td>1</td><td>&quot;Beckwith, Mrs. Richard Leonard…</td><td>&quot;female&quot;</td><td>47.0</td><td>1</td><td>1</td><td>&quot;11751&quot;</td><td>52.5542</td><td>&quot;D35&quot;</td><td>&quot;S&quot;</td></tr><tr><td>873</td><td>0</td><td>1</td><td>&quot;Carlsson, Mr. Frans Olof&quot;</td><td>&quot;male&quot;</td><td>33.0</td><td>0</td><td>0</td><td>&quot;695&quot;</td><td>5.0</td><td>&quot;B51 B53 B55&quot;</td><td>&quot;S&quot;</td></tr><tr><td>880</td><td>1</td><td>1</td><td>&quot;Potter, Mrs. Thomas Jr (Lily A…</td><td>&quot;female&quot;</td><td>56.0</td><td>0</td><td>1</td><td>&quot;11767&quot;</td><td>83.1583</td><td>&quot;C50&quot;</td><td>&quot;C&quot;</td></tr><tr><td>888</td><td>1</td><td>1</td><td>&quot;Graham, Miss. Margaret Edith&quot;</td><td>&quot;female&quot;</td><td>19.0</td><td>0</td><td>0</td><td>&quot;112053&quot;</td><td>30.0</td><td>&quot;B42&quot;</td><td>&quot;S&quot;</td></tr><tr><td>890</td><td>1</td><td>1</td><td>&quot;Behr, Mr. Karl Howell&quot;</td><td>&quot;male&quot;</td><td>26.0</td><td>0</td><td>0</td><td>&quot;111369&quot;</td><td>30.0</td><td>&quot;C148&quot;</td><td>&quot;C&quot;</td></tr></tbody></table></div>"
      ],
      "text/plain": [
       "shape: (216, 12)\n",
       "┌─────────────┬──────────┬────────┬──────────────┬───┬──────────┬─────────┬─────────────┬──────────┐\n",
       "│ PassengerId ┆ Survived ┆ Pclass ┆ Name         ┆ … ┆ Ticket   ┆ Fare    ┆ Cabin       ┆ Embarked │\n",
       "│ ---         ┆ ---      ┆ ---    ┆ ---          ┆   ┆ ---      ┆ ---     ┆ ---         ┆ ---      │\n",
       "│ i64         ┆ i64      ┆ i64    ┆ str          ┆   ┆ str      ┆ f64     ┆ str         ┆ str      │\n",
       "╞═════════════╪══════════╪════════╪══════════════╪═══╪══════════╪═════════╪═════════════╪══════════╡\n",
       "│ 2           ┆ 1        ┆ 1      ┆ Cumings,     ┆ … ┆ PC 17599 ┆ 71.2833 ┆ C85         ┆ C        │\n",
       "│             ┆          ┆        ┆ Mrs. John    ┆   ┆          ┆         ┆             ┆          │\n",
       "│             ┆          ┆        ┆ Bradley (Fl… ┆   ┆          ┆         ┆             ┆          │\n",
       "│ 4           ┆ 1        ┆ 1      ┆ Futrelle,    ┆ … ┆ 113803   ┆ 53.1    ┆ C123        ┆ S        │\n",
       "│             ┆          ┆        ┆ Mrs. Jacques ┆   ┆          ┆         ┆             ┆          │\n",
       "│             ┆          ┆        ┆ Heath (…     ┆   ┆          ┆         ┆             ┆          │\n",
       "│ 7           ┆ 0        ┆ 1      ┆ McCarthy,    ┆ … ┆ 17463    ┆ 51.8625 ┆ E46         ┆ S        │\n",
       "│             ┆          ┆        ┆ Mr. Timothy  ┆   ┆          ┆         ┆             ┆          │\n",
       "│             ┆          ┆        ┆ J            ┆   ┆          ┆         ┆             ┆          │\n",
       "│ 12          ┆ 1        ┆ 1      ┆ Bonnell,     ┆ … ┆ 113783   ┆ 26.55   ┆ C103        ┆ S        │\n",
       "│             ┆          ┆        ┆ Miss.        ┆   ┆          ┆         ┆             ┆          │\n",
       "│             ┆          ┆        ┆ Elizabeth    ┆   ┆          ┆         ┆             ┆          │\n",
       "│ 24          ┆ 1        ┆ 1      ┆ Sloper, Mr.  ┆ … ┆ 113788   ┆ 35.5    ┆ A6          ┆ S        │\n",
       "│             ┆          ┆        ┆ William      ┆   ┆          ┆         ┆             ┆          │\n",
       "│             ┆          ┆        ┆ Thompson     ┆   ┆          ┆         ┆             ┆          │\n",
       "│ …           ┆ …        ┆ …      ┆ …            ┆ … ┆ …        ┆ …       ┆ …           ┆ …        │\n",
       "│ 872         ┆ 1        ┆ 1      ┆ Beckwith,    ┆ … ┆ 11751    ┆ 52.5542 ┆ D35         ┆ S        │\n",
       "│             ┆          ┆        ┆ Mrs. Richard ┆   ┆          ┆         ┆             ┆          │\n",
       "│             ┆          ┆        ┆ Leonard…     ┆   ┆          ┆         ┆             ┆          │\n",
       "│ 873         ┆ 0        ┆ 1      ┆ Carlsson,    ┆ … ┆ 695      ┆ 5.0     ┆ B51 B53 B55 ┆ S        │\n",
       "│             ┆          ┆        ┆ Mr. Frans    ┆   ┆          ┆         ┆             ┆          │\n",
       "│             ┆          ┆        ┆ Olof         ┆   ┆          ┆         ┆             ┆          │\n",
       "│ 880         ┆ 1        ┆ 1      ┆ Potter, Mrs. ┆ … ┆ 11767    ┆ 83.1583 ┆ C50         ┆ C        │\n",
       "│             ┆          ┆        ┆ Thomas Jr    ┆   ┆          ┆         ┆             ┆          │\n",
       "│             ┆          ┆        ┆ (Lily A…     ┆   ┆          ┆         ┆             ┆          │\n",
       "│ 888         ┆ 1        ┆ 1      ┆ Graham,      ┆ … ┆ 112053   ┆ 30.0    ┆ B42         ┆ S        │\n",
       "│             ┆          ┆        ┆ Miss.        ┆   ┆          ┆         ┆             ┆          │\n",
       "│             ┆          ┆        ┆ Margaret     ┆   ┆          ┆         ┆             ┆          │\n",
       "│             ┆          ┆        ┆ Edith        ┆   ┆          ┆         ┆             ┆          │\n",
       "│ 890         ┆ 1        ┆ 1      ┆ Behr, Mr.    ┆ … ┆ 111369   ┆ 30.0    ┆ C148        ┆ C        │\n",
       "│             ┆          ┆        ┆ Karl Howell  ┆   ┆          ┆         ┆             ┆          │\n",
       "└─────────────┴──────────┴────────┴──────────────┴───┴──────────┴─────────┴─────────────┴──────────┘"
      ]
     },
     "execution_count": 16,
     "metadata": {},
     "output_type": "execute_result"
    }
   ],
   "source": [
    "(\n",
    "    df\n",
    "    .filter\n",
    "    (\n",
    "        pl.col(\"Pclass\") == 1\n",
    "    )\n",
    ")"
   ]
  },
  {
   "cell_type": "code",
   "execution_count": 17,
   "id": "be5d3966-b348-45d1-a817-f3567b99dee7",
   "metadata": {},
   "outputs": [
    {
     "data": {
      "text/plain": [
       "(891, 12)"
      ]
     },
     "execution_count": 17,
     "metadata": {},
     "output_type": "execute_result"
    }
   ],
   "source": [
    "df.shape"
   ]
  },
  {
   "cell_type": "code",
   "execution_count": 18,
   "id": "9543acef-b686-422b-8b76-24efeb063052",
   "metadata": {},
   "outputs": [
    {
     "data": {
      "text/html": [
       "<div><style>\n",
       ".dataframe > thead > tr,\n",
       ".dataframe > tbody > tr {\n",
       "  text-align: right;\n",
       "  white-space: pre-wrap;\n",
       "}\n",
       "</style>\n",
       "<small>shape: (101, 3)</small><table border=\"1\" class=\"dataframe\"><thead><tr><th>PassengerId</th><th>Parch</th><th>SibSp</th></tr><tr><td>i64</td><td>i64</td><td>i64</td></tr></thead><tbody><tr><td>9</td><td>2</td><td>0</td></tr><tr><td>14</td><td>5</td><td>1</td></tr><tr><td>26</td><td>5</td><td>1</td></tr><tr><td>44</td><td>2</td><td>1</td></tr><tr><td>55</td><td>1</td><td>0</td></tr><tr><td>&hellip;</td><td>&hellip;</td><td>&hellip;</td></tr><tr><td>859</td><td>3</td><td>0</td></tr><tr><td>880</td><td>1</td><td>0</td></tr><tr><td>881</td><td>1</td><td>0</td></tr><tr><td>886</td><td>5</td><td>0</td></tr><tr><td>889</td><td>2</td><td>1</td></tr></tbody></table></div>"
      ],
      "text/plain": [
       "shape: (101, 3)\n",
       "┌─────────────┬───────┬───────┐\n",
       "│ PassengerId ┆ Parch ┆ SibSp │\n",
       "│ ---         ┆ ---   ┆ ---   │\n",
       "│ i64         ┆ i64   ┆ i64   │\n",
       "╞═════════════╪═══════╪═══════╡\n",
       "│ 9           ┆ 2     ┆ 0     │\n",
       "│ 14          ┆ 5     ┆ 1     │\n",
       "│ 26          ┆ 5     ┆ 1     │\n",
       "│ 44          ┆ 2     ┆ 1     │\n",
       "│ 55          ┆ 1     ┆ 0     │\n",
       "│ …           ┆ …     ┆ …     │\n",
       "│ 859         ┆ 3     ┆ 0     │\n",
       "│ 880         ┆ 1     ┆ 0     │\n",
       "│ 881         ┆ 1     ┆ 0     │\n",
       "│ 886         ┆ 5     ┆ 0     │\n",
       "│ 889         ┆ 2     ┆ 1     │\n",
       "└─────────────┴───────┴───────┘"
      ]
     },
     "execution_count": 18,
     "metadata": {},
     "output_type": "execute_result"
    }
   ],
   "source": [
    "(\n",
    "    df\n",
    "    .filter\n",
    "    (\n",
    "        pl.col(\"Parch\") > pl.col(\"SibSp\")\n",
    "    )\n",
    "    .select\n",
    "    (\n",
    "        \"PassengerId\", \"Parch\", \"SibSp\"\n",
    "    )\n",
    ")\n",
    "        "
   ]
  },
  {
   "cell_type": "code",
   "execution_count": 19,
   "id": "2f70a9c0-ed70-4196-bd6b-c0ecacae6985",
   "metadata": {},
   "outputs": [
    {
     "data": {
      "text/html": [
       "<div><style>\n",
       ".dataframe > thead > tr,\n",
       ".dataframe > tbody > tr {\n",
       "  text-align: right;\n",
       "  white-space: pre-wrap;\n",
       "}\n",
       "</style>\n",
       "<small>shape: (5, 13)</small><table border=\"1\" class=\"dataframe\"><thead><tr><th>index</th><th>PassengerId</th><th>Survived</th><th>Pclass</th><th>Name</th><th>Sex</th><th>Age</th><th>SibSp</th><th>Parch</th><th>Ticket</th><th>Fare</th><th>Cabin</th><th>Embarked</th></tr><tr><td>u32</td><td>i64</td><td>i64</td><td>i64</td><td>str</td><td>str</td><td>f64</td><td>i64</td><td>i64</td><td>str</td><td>f64</td><td>str</td><td>str</td></tr></thead><tbody><tr><td>0</td><td>1</td><td>0</td><td>3</td><td>&quot;Braund, Mr. Owen Harris&quot;</td><td>&quot;male&quot;</td><td>22.0</td><td>1</td><td>0</td><td>&quot;A/5 21171&quot;</td><td>7.25</td><td>null</td><td>&quot;S&quot;</td></tr><tr><td>1</td><td>2</td><td>1</td><td>1</td><td>&quot;Cumings, Mrs. John Bradley (Fl…</td><td>&quot;female&quot;</td><td>38.0</td><td>1</td><td>0</td><td>&quot;PC 17599&quot;</td><td>71.2833</td><td>&quot;C85&quot;</td><td>&quot;C&quot;</td></tr><tr><td>2</td><td>3</td><td>1</td><td>3</td><td>&quot;Heikkinen, Miss. Laina&quot;</td><td>&quot;female&quot;</td><td>26.0</td><td>0</td><td>0</td><td>&quot;STON/O2. 3101282&quot;</td><td>7.925</td><td>null</td><td>&quot;S&quot;</td></tr><tr><td>3</td><td>4</td><td>1</td><td>1</td><td>&quot;Futrelle, Mrs. Jacques Heath (…</td><td>&quot;female&quot;</td><td>35.0</td><td>1</td><td>0</td><td>&quot;113803&quot;</td><td>53.1</td><td>&quot;C123&quot;</td><td>&quot;S&quot;</td></tr><tr><td>4</td><td>5</td><td>0</td><td>3</td><td>&quot;Allen, Mr. William Henry&quot;</td><td>&quot;male&quot;</td><td>35.0</td><td>0</td><td>0</td><td>&quot;373450&quot;</td><td>8.05</td><td>null</td><td>&quot;S&quot;</td></tr></tbody></table></div>"
      ],
      "text/plain": [
       "shape: (5, 13)\n",
       "┌───────┬─────────────┬──────────┬────────┬───┬──────────────────┬─────────┬───────┬──────────┐\n",
       "│ index ┆ PassengerId ┆ Survived ┆ Pclass ┆ … ┆ Ticket           ┆ Fare    ┆ Cabin ┆ Embarked │\n",
       "│ ---   ┆ ---         ┆ ---      ┆ ---    ┆   ┆ ---              ┆ ---     ┆ ---   ┆ ---      │\n",
       "│ u32   ┆ i64         ┆ i64      ┆ i64    ┆   ┆ str              ┆ f64     ┆ str   ┆ str      │\n",
       "╞═══════╪═════════════╪══════════╪════════╪═══╪══════════════════╪═════════╪═══════╪══════════╡\n",
       "│ 0     ┆ 1           ┆ 0        ┆ 3      ┆ … ┆ A/5 21171        ┆ 7.25    ┆ null  ┆ S        │\n",
       "│ 1     ┆ 2           ┆ 1        ┆ 1      ┆ … ┆ PC 17599         ┆ 71.2833 ┆ C85   ┆ C        │\n",
       "│ 2     ┆ 3           ┆ 1        ┆ 3      ┆ … ┆ STON/O2. 3101282 ┆ 7.925   ┆ null  ┆ S        │\n",
       "│ 3     ┆ 4           ┆ 1        ┆ 1      ┆ … ┆ 113803           ┆ 53.1    ┆ C123  ┆ S        │\n",
       "│ 4     ┆ 5           ┆ 0        ┆ 3      ┆ … ┆ 373450           ┆ 8.05    ┆ null  ┆ S        │\n",
       "└───────┴─────────────┴──────────┴────────┴───┴──────────────────┴─────────┴───────┴──────────┘"
      ]
     },
     "execution_count": 19,
     "metadata": {},
     "output_type": "execute_result"
    }
   ],
   "source": [
    "(\n",
    "    df.with_row_index(\"index\")\n",
    "    .filter\n",
    "    (\n",
    "        pl.col(\"index\") < 5\n",
    "    )\n",
    ")"
   ]
  },
  {
   "cell_type": "code",
   "execution_count": 20,
   "id": "10161230-fb01-4b89-87bd-4a430fdf4395",
   "metadata": {},
   "outputs": [
    {
     "data": {
      "text/html": [
       "<div><style>\n",
       ".dataframe > thead > tr,\n",
       ".dataframe > tbody > tr {\n",
       "  text-align: right;\n",
       "  white-space: pre-wrap;\n",
       "}\n",
       "</style>\n",
       "<small>shape: (5, 13)</small><table border=\"1\" class=\"dataframe\"><thead><tr><th>PassengerId</th><th>Survived</th><th>Pclass</th><th>Name</th><th>Sex</th><th>Age</th><th>SibSp</th><th>Parch</th><th>Ticket</th><th>Fare</th><th>Cabin</th><th>Embarked</th><th>is_young</th></tr><tr><td>i64</td><td>i64</td><td>i64</td><td>str</td><td>str</td><td>f64</td><td>i64</td><td>i64</td><td>str</td><td>f64</td><td>str</td><td>str</td><td>bool</td></tr></thead><tbody><tr><td>2</td><td>1</td><td>1</td><td>&quot;Cumings, Mrs. John Bradley (Fl…</td><td>&quot;female&quot;</td><td>38.0</td><td>1</td><td>0</td><td>&quot;PC 17599&quot;</td><td>71.2833</td><td>&quot;C85&quot;</td><td>&quot;C&quot;</td><td>false</td></tr><tr><td>4</td><td>1</td><td>1</td><td>&quot;Futrelle, Mrs. Jacques Heath (…</td><td>&quot;female&quot;</td><td>35.0</td><td>1</td><td>0</td><td>&quot;113803&quot;</td><td>53.1</td><td>&quot;C123&quot;</td><td>&quot;S&quot;</td><td>false</td></tr><tr><td>5</td><td>0</td><td>3</td><td>&quot;Allen, Mr. William Henry&quot;</td><td>&quot;male&quot;</td><td>35.0</td><td>0</td><td>0</td><td>&quot;373450&quot;</td><td>8.05</td><td>null</td><td>&quot;S&quot;</td><td>false</td></tr><tr><td>7</td><td>0</td><td>1</td><td>&quot;McCarthy, Mr. Timothy J&quot;</td><td>&quot;male&quot;</td><td>54.0</td><td>0</td><td>0</td><td>&quot;17463&quot;</td><td>51.8625</td><td>&quot;E46&quot;</td><td>&quot;S&quot;</td><td>false</td></tr><tr><td>12</td><td>1</td><td>1</td><td>&quot;Bonnell, Miss. Elizabeth&quot;</td><td>&quot;female&quot;</td><td>58.0</td><td>0</td><td>0</td><td>&quot;113783&quot;</td><td>26.55</td><td>&quot;C103&quot;</td><td>&quot;S&quot;</td><td>false</td></tr></tbody></table></div>"
      ],
      "text/plain": [
       "shape: (5, 13)\n",
       "┌─────────────┬──────────┬────────┬────────────────────┬───┬─────────┬───────┬──────────┬──────────┐\n",
       "│ PassengerId ┆ Survived ┆ Pclass ┆ Name               ┆ … ┆ Fare    ┆ Cabin ┆ Embarked ┆ is_young │\n",
       "│ ---         ┆ ---      ┆ ---    ┆ ---                ┆   ┆ ---     ┆ ---   ┆ ---      ┆ ---      │\n",
       "│ i64         ┆ i64      ┆ i64    ┆ str                ┆   ┆ f64     ┆ str   ┆ str      ┆ bool     │\n",
       "╞═════════════╪══════════╪════════╪════════════════════╪═══╪═════════╪═══════╪══════════╪══════════╡\n",
       "│ 2           ┆ 1        ┆ 1      ┆ Cumings, Mrs. John ┆ … ┆ 71.2833 ┆ C85   ┆ C        ┆ false    │\n",
       "│             ┆          ┆        ┆ Bradley (Fl…       ┆   ┆         ┆       ┆          ┆          │\n",
       "│ 4           ┆ 1        ┆ 1      ┆ Futrelle, Mrs.     ┆ … ┆ 53.1    ┆ C123  ┆ S        ┆ false    │\n",
       "│             ┆          ┆        ┆ Jacques Heath (…   ┆   ┆         ┆       ┆          ┆          │\n",
       "│ 5           ┆ 0        ┆ 3      ┆ Allen, Mr. William ┆ … ┆ 8.05    ┆ null  ┆ S        ┆ false    │\n",
       "│             ┆          ┆        ┆ Henry              ┆   ┆         ┆       ┆          ┆          │\n",
       "│ 7           ┆ 0        ┆ 1      ┆ McCarthy, Mr.      ┆ … ┆ 51.8625 ┆ E46   ┆ S        ┆ false    │\n",
       "│             ┆          ┆        ┆ Timothy J          ┆   ┆         ┆       ┆          ┆          │\n",
       "│ 12          ┆ 1        ┆ 1      ┆ Bonnell, Miss.     ┆ … ┆ 26.55   ┆ C103  ┆ S        ┆ false    │\n",
       "│             ┆          ┆        ┆ Elizabeth          ┆   ┆         ┆       ┆          ┆          │\n",
       "└─────────────┴──────────┴────────┴────────────────────┴───┴─────────┴───────┴──────────┴──────────┘"
      ]
     },
     "execution_count": 20,
     "metadata": {},
     "output_type": "execute_result"
    }
   ],
   "source": [
    "(\n",
    "    df\n",
    "    .with_columns\n",
    "    (\n",
    "        is_young = pl.col(\"Age\") < 30\n",
    "    )\n",
    "    .filter\n",
    "    (\n",
    "        ~ pl.col(\"is_young\")\n",
    "    )\n",
    "    .head()\n",
    ")"
   ]
  },
  {
   "cell_type": "code",
   "execution_count": 21,
   "id": "00e7a8ef-ccbc-45f1-9c86-ed8ce1367cdf",
   "metadata": {},
   "outputs": [
    {
     "data": {
      "text/plain": [
       "polars.expr.expr.Expr"
      ]
     },
     "execution_count": 21,
     "metadata": {},
     "output_type": "execute_result"
    }
   ],
   "source": [
    "type(pl.col(\"Age\"))"
   ]
  },
  {
   "cell_type": "markdown",
   "id": "1d4810b3-aecb-441f-ae6c-3d781327d149",
   "metadata": {},
   "source": [
    "### Exercise 1 \n",
    "Select all rows where `Age` is greater than 30"
   ]
  },
  {
   "cell_type": "code",
   "execution_count": 60,
   "id": "57596e40-84e6-47d1-8996-2d171a7c7876",
   "metadata": {
    "tags": []
   },
   "outputs": [
    {
     "data": {
      "text/html": [
       "<div><style>\n",
       ".dataframe > thead > tr,\n",
       ".dataframe > tbody > tr {\n",
       "  text-align: right;\n",
       "  white-space: pre-wrap;\n",
       "}\n",
       "</style>\n",
       "<small>shape: (305, 12)</small><table border=\"1\" class=\"dataframe\"><thead><tr><th>PassengerId</th><th>Survived</th><th>Pclass</th><th>Name</th><th>Sex</th><th>Age</th><th>SibSp</th><th>Parch</th><th>Ticket</th><th>Fare</th><th>Cabin</th><th>Embarked</th></tr><tr><td>i64</td><td>i64</td><td>i64</td><td>str</td><td>str</td><td>f64</td><td>i64</td><td>i64</td><td>str</td><td>f64</td><td>str</td><td>str</td></tr></thead><tbody><tr><td>2</td><td>1</td><td>1</td><td>&quot;Cumings, Mrs. John Bradley (Fl…</td><td>&quot;female&quot;</td><td>38.0</td><td>1</td><td>0</td><td>&quot;PC 17599&quot;</td><td>71.2833</td><td>&quot;C85&quot;</td><td>&quot;C&quot;</td></tr><tr><td>4</td><td>1</td><td>1</td><td>&quot;Futrelle, Mrs. Jacques Heath (…</td><td>&quot;female&quot;</td><td>35.0</td><td>1</td><td>0</td><td>&quot;113803&quot;</td><td>53.1</td><td>&quot;C123&quot;</td><td>&quot;S&quot;</td></tr><tr><td>5</td><td>0</td><td>3</td><td>&quot;Allen, Mr. William Henry&quot;</td><td>&quot;male&quot;</td><td>35.0</td><td>0</td><td>0</td><td>&quot;373450&quot;</td><td>8.05</td><td>null</td><td>&quot;S&quot;</td></tr><tr><td>7</td><td>0</td><td>1</td><td>&quot;McCarthy, Mr. Timothy J&quot;</td><td>&quot;male&quot;</td><td>54.0</td><td>0</td><td>0</td><td>&quot;17463&quot;</td><td>51.8625</td><td>&quot;E46&quot;</td><td>&quot;S&quot;</td></tr><tr><td>12</td><td>1</td><td>1</td><td>&quot;Bonnell, Miss. Elizabeth&quot;</td><td>&quot;female&quot;</td><td>58.0</td><td>0</td><td>0</td><td>&quot;113783&quot;</td><td>26.55</td><td>&quot;C103&quot;</td><td>&quot;S&quot;</td></tr><tr><td>&hellip;</td><td>&hellip;</td><td>&hellip;</td><td>&hellip;</td><td>&hellip;</td><td>&hellip;</td><td>&hellip;</td><td>&hellip;</td><td>&hellip;</td><td>&hellip;</td><td>&hellip;</td><td>&hellip;</td></tr><tr><td>874</td><td>0</td><td>3</td><td>&quot;Vander Cruyssen, Mr. Victor&quot;</td><td>&quot;male&quot;</td><td>47.0</td><td>0</td><td>0</td><td>&quot;345765&quot;</td><td>9.0</td><td>null</td><td>&quot;S&quot;</td></tr><tr><td>880</td><td>1</td><td>1</td><td>&quot;Potter, Mrs. Thomas Jr (Lily A…</td><td>&quot;female&quot;</td><td>56.0</td><td>0</td><td>1</td><td>&quot;11767&quot;</td><td>83.1583</td><td>&quot;C50&quot;</td><td>&quot;C&quot;</td></tr><tr><td>882</td><td>0</td><td>3</td><td>&quot;Markun, Mr. Johann&quot;</td><td>&quot;male&quot;</td><td>33.0</td><td>0</td><td>0</td><td>&quot;349257&quot;</td><td>7.8958</td><td>null</td><td>&quot;S&quot;</td></tr><tr><td>886</td><td>0</td><td>3</td><td>&quot;Rice, Mrs. William (Margaret N…</td><td>&quot;female&quot;</td><td>39.0</td><td>0</td><td>5</td><td>&quot;382652&quot;</td><td>29.125</td><td>null</td><td>&quot;Q&quot;</td></tr><tr><td>891</td><td>0</td><td>3</td><td>&quot;Dooley, Mr. Patrick&quot;</td><td>&quot;male&quot;</td><td>32.0</td><td>0</td><td>0</td><td>&quot;370376&quot;</td><td>7.75</td><td>null</td><td>&quot;Q&quot;</td></tr></tbody></table></div>"
      ],
      "text/plain": [
       "shape: (305, 12)\n",
       "┌─────────────┬──────────┬────────┬────────────────────┬───┬──────────┬─────────┬───────┬──────────┐\n",
       "│ PassengerId ┆ Survived ┆ Pclass ┆ Name               ┆ … ┆ Ticket   ┆ Fare    ┆ Cabin ┆ Embarked │\n",
       "│ ---         ┆ ---      ┆ ---    ┆ ---                ┆   ┆ ---      ┆ ---     ┆ ---   ┆ ---      │\n",
       "│ i64         ┆ i64      ┆ i64    ┆ str                ┆   ┆ str      ┆ f64     ┆ str   ┆ str      │\n",
       "╞═════════════╪══════════╪════════╪════════════════════╪═══╪══════════╪═════════╪═══════╪══════════╡\n",
       "│ 2           ┆ 1        ┆ 1      ┆ Cumings, Mrs. John ┆ … ┆ PC 17599 ┆ 71.2833 ┆ C85   ┆ C        │\n",
       "│             ┆          ┆        ┆ Bradley (Fl…       ┆   ┆          ┆         ┆       ┆          │\n",
       "│ 4           ┆ 1        ┆ 1      ┆ Futrelle, Mrs.     ┆ … ┆ 113803   ┆ 53.1    ┆ C123  ┆ S        │\n",
       "│             ┆          ┆        ┆ Jacques Heath (…   ┆   ┆          ┆         ┆       ┆          │\n",
       "│ 5           ┆ 0        ┆ 3      ┆ Allen, Mr. William ┆ … ┆ 373450   ┆ 8.05    ┆ null  ┆ S        │\n",
       "│             ┆          ┆        ┆ Henry              ┆   ┆          ┆         ┆       ┆          │\n",
       "│ 7           ┆ 0        ┆ 1      ┆ McCarthy, Mr.      ┆ … ┆ 17463    ┆ 51.8625 ┆ E46   ┆ S        │\n",
       "│             ┆          ┆        ┆ Timothy J          ┆   ┆          ┆         ┆       ┆          │\n",
       "│ 12          ┆ 1        ┆ 1      ┆ Bonnell, Miss.     ┆ … ┆ 113783   ┆ 26.55   ┆ C103  ┆ S        │\n",
       "│             ┆          ┆        ┆ Elizabeth          ┆   ┆          ┆         ┆       ┆          │\n",
       "│ …           ┆ …        ┆ …      ┆ …                  ┆ … ┆ …        ┆ …       ┆ …     ┆ …        │\n",
       "│ 874         ┆ 0        ┆ 3      ┆ Vander Cruyssen,   ┆ … ┆ 345765   ┆ 9.0     ┆ null  ┆ S        │\n",
       "│             ┆          ┆        ┆ Mr. Victor         ┆   ┆          ┆         ┆       ┆          │\n",
       "│ 880         ┆ 1        ┆ 1      ┆ Potter, Mrs.       ┆ … ┆ 11767    ┆ 83.1583 ┆ C50   ┆ C        │\n",
       "│             ┆          ┆        ┆ Thomas Jr (Lily A… ┆   ┆          ┆         ┆       ┆          │\n",
       "│ 882         ┆ 0        ┆ 3      ┆ Markun, Mr. Johann ┆ … ┆ 349257   ┆ 7.8958  ┆ null  ┆ S        │\n",
       "│ 886         ┆ 0        ┆ 3      ┆ Rice, Mrs. William ┆ … ┆ 382652   ┆ 29.125  ┆ null  ┆ Q        │\n",
       "│             ┆          ┆        ┆ (Margaret N…       ┆   ┆          ┆         ┆       ┆          │\n",
       "│ 891         ┆ 0        ┆ 3      ┆ Dooley, Mr.        ┆ … ┆ 370376   ┆ 7.75    ┆ null  ┆ Q        │\n",
       "│             ┆          ┆        ┆ Patrick            ┆   ┆          ┆         ┆       ┆          │\n",
       "└─────────────┴──────────┴────────┴────────────────────┴───┴──────────┴─────────┴───────┴──────────┘"
      ]
     },
     "execution_count": 60,
     "metadata": {},
     "output_type": "execute_result"
    }
   ],
   "source": [
    "(\n",
    "    pl.read_csv(csv_file)\n",
    "    .filter\n",
    "    (\n",
    "        pl.col(\"Age\") > 30\n",
    "    )\n",
    ")"
   ]
  },
  {
   "cell_type": "markdown",
   "id": "ddb0cef9-5dcc-467f-ad1b-ab59ec0ecea6",
   "metadata": {},
   "source": [
    "Select all rows where `Embarked` is equal to \"C\" - using the keyword approach"
   ]
  },
  {
   "cell_type": "code",
   "execution_count": 61,
   "id": "49f44a9d-61db-4b06-b57e-27d61c115962",
   "metadata": {},
   "outputs": [
    {
     "data": {
      "text/html": [
       "<div><style>\n",
       ".dataframe > thead > tr,\n",
       ".dataframe > tbody > tr {\n",
       "  text-align: right;\n",
       "  white-space: pre-wrap;\n",
       "}\n",
       "</style>\n",
       "<small>shape: (168, 12)</small><table border=\"1\" class=\"dataframe\"><thead><tr><th>PassengerId</th><th>Survived</th><th>Pclass</th><th>Name</th><th>Sex</th><th>Age</th><th>SibSp</th><th>Parch</th><th>Ticket</th><th>Fare</th><th>Cabin</th><th>Embarked</th></tr><tr><td>i64</td><td>i64</td><td>i64</td><td>str</td><td>str</td><td>f64</td><td>i64</td><td>i64</td><td>str</td><td>f64</td><td>str</td><td>str</td></tr></thead><tbody><tr><td>2</td><td>1</td><td>1</td><td>&quot;Cumings, Mrs. John Bradley (Fl…</td><td>&quot;female&quot;</td><td>38.0</td><td>1</td><td>0</td><td>&quot;PC 17599&quot;</td><td>71.2833</td><td>&quot;C85&quot;</td><td>&quot;C&quot;</td></tr><tr><td>10</td><td>1</td><td>2</td><td>&quot;Nasser, Mrs. Nicholas (Adele A…</td><td>&quot;female&quot;</td><td>14.0</td><td>1</td><td>0</td><td>&quot;237736&quot;</td><td>30.0708</td><td>null</td><td>&quot;C&quot;</td></tr><tr><td>20</td><td>1</td><td>3</td><td>&quot;Masselmani, Mrs. Fatima&quot;</td><td>&quot;female&quot;</td><td>null</td><td>0</td><td>0</td><td>&quot;2649&quot;</td><td>7.225</td><td>null</td><td>&quot;C&quot;</td></tr><tr><td>27</td><td>0</td><td>3</td><td>&quot;Emir, Mr. Farred Chehab&quot;</td><td>&quot;male&quot;</td><td>null</td><td>0</td><td>0</td><td>&quot;2631&quot;</td><td>7.225</td><td>null</td><td>&quot;C&quot;</td></tr><tr><td>31</td><td>0</td><td>1</td><td>&quot;Uruchurtu, Don. Manuel E&quot;</td><td>&quot;male&quot;</td><td>40.0</td><td>0</td><td>0</td><td>&quot;PC 17601&quot;</td><td>27.7208</td><td>null</td><td>&quot;C&quot;</td></tr><tr><td>&hellip;</td><td>&hellip;</td><td>&hellip;</td><td>&hellip;</td><td>&hellip;</td><td>&hellip;</td><td>&hellip;</td><td>&hellip;</td><td>&hellip;</td><td>&hellip;</td><td>&hellip;</td><td>&hellip;</td></tr><tr><td>867</td><td>1</td><td>2</td><td>&quot;Duran y More, Miss. Asuncion&quot;</td><td>&quot;female&quot;</td><td>27.0</td><td>1</td><td>0</td><td>&quot;SC/PARIS 2149&quot;</td><td>13.8583</td><td>null</td><td>&quot;C&quot;</td></tr><tr><td>875</td><td>1</td><td>2</td><td>&quot;Abelson, Mrs. Samuel (Hannah W…</td><td>&quot;female&quot;</td><td>28.0</td><td>1</td><td>0</td><td>&quot;P/PP 3381&quot;</td><td>24.0</td><td>null</td><td>&quot;C&quot;</td></tr><tr><td>876</td><td>1</td><td>3</td><td>&quot;Najib, Miss. Adele Kiamie &quot;Jan…</td><td>&quot;female&quot;</td><td>15.0</td><td>0</td><td>0</td><td>&quot;2667&quot;</td><td>7.225</td><td>null</td><td>&quot;C&quot;</td></tr><tr><td>880</td><td>1</td><td>1</td><td>&quot;Potter, Mrs. Thomas Jr (Lily A…</td><td>&quot;female&quot;</td><td>56.0</td><td>0</td><td>1</td><td>&quot;11767&quot;</td><td>83.1583</td><td>&quot;C50&quot;</td><td>&quot;C&quot;</td></tr><tr><td>890</td><td>1</td><td>1</td><td>&quot;Behr, Mr. Karl Howell&quot;</td><td>&quot;male&quot;</td><td>26.0</td><td>0</td><td>0</td><td>&quot;111369&quot;</td><td>30.0</td><td>&quot;C148&quot;</td><td>&quot;C&quot;</td></tr></tbody></table></div>"
      ],
      "text/plain": [
       "shape: (168, 12)\n",
       "┌─────────────┬──────────┬────────┬───────────────┬───┬───────────────┬─────────┬───────┬──────────┐\n",
       "│ PassengerId ┆ Survived ┆ Pclass ┆ Name          ┆ … ┆ Ticket        ┆ Fare    ┆ Cabin ┆ Embarked │\n",
       "│ ---         ┆ ---      ┆ ---    ┆ ---           ┆   ┆ ---           ┆ ---     ┆ ---   ┆ ---      │\n",
       "│ i64         ┆ i64      ┆ i64    ┆ str           ┆   ┆ str           ┆ f64     ┆ str   ┆ str      │\n",
       "╞═════════════╪══════════╪════════╪═══════════════╪═══╪═══════════════╪═════════╪═══════╪══════════╡\n",
       "│ 2           ┆ 1        ┆ 1      ┆ Cumings, Mrs. ┆ … ┆ PC 17599      ┆ 71.2833 ┆ C85   ┆ C        │\n",
       "│             ┆          ┆        ┆ John Bradley  ┆   ┆               ┆         ┆       ┆          │\n",
       "│             ┆          ┆        ┆ (Fl…          ┆   ┆               ┆         ┆       ┆          │\n",
       "│ 10          ┆ 1        ┆ 2      ┆ Nasser, Mrs.  ┆ … ┆ 237736        ┆ 30.0708 ┆ null  ┆ C        │\n",
       "│             ┆          ┆        ┆ Nicholas      ┆   ┆               ┆         ┆       ┆          │\n",
       "│             ┆          ┆        ┆ (Adele A…     ┆   ┆               ┆         ┆       ┆          │\n",
       "│ 20          ┆ 1        ┆ 3      ┆ Masselmani,   ┆ … ┆ 2649          ┆ 7.225   ┆ null  ┆ C        │\n",
       "│             ┆          ┆        ┆ Mrs. Fatima   ┆   ┆               ┆         ┆       ┆          │\n",
       "│ 27          ┆ 0        ┆ 3      ┆ Emir, Mr.     ┆ … ┆ 2631          ┆ 7.225   ┆ null  ┆ C        │\n",
       "│             ┆          ┆        ┆ Farred Chehab ┆   ┆               ┆         ┆       ┆          │\n",
       "│ 31          ┆ 0        ┆ 1      ┆ Uruchurtu,    ┆ … ┆ PC 17601      ┆ 27.7208 ┆ null  ┆ C        │\n",
       "│             ┆          ┆        ┆ Don. Manuel E ┆   ┆               ┆         ┆       ┆          │\n",
       "│ …           ┆ …        ┆ …      ┆ …             ┆ … ┆ …             ┆ …       ┆ …     ┆ …        │\n",
       "│ 867         ┆ 1        ┆ 2      ┆ Duran y More, ┆ … ┆ SC/PARIS 2149 ┆ 13.8583 ┆ null  ┆ C        │\n",
       "│             ┆          ┆        ┆ Miss.         ┆   ┆               ┆         ┆       ┆          │\n",
       "│             ┆          ┆        ┆ Asuncion      ┆   ┆               ┆         ┆       ┆          │\n",
       "│ 875         ┆ 1        ┆ 2      ┆ Abelson, Mrs. ┆ … ┆ P/PP 3381     ┆ 24.0    ┆ null  ┆ C        │\n",
       "│             ┆          ┆        ┆ Samuel        ┆   ┆               ┆         ┆       ┆          │\n",
       "│             ┆          ┆        ┆ (Hannah W…    ┆   ┆               ┆         ┆       ┆          │\n",
       "│ 876         ┆ 1        ┆ 3      ┆ Najib, Miss.  ┆ … ┆ 2667          ┆ 7.225   ┆ null  ┆ C        │\n",
       "│             ┆          ┆        ┆ Adele Kiamie  ┆   ┆               ┆         ┆       ┆          │\n",
       "│             ┆          ┆        ┆ \"Jan…         ┆   ┆               ┆         ┆       ┆          │\n",
       "│ 880         ┆ 1        ┆ 1      ┆ Potter, Mrs.  ┆ … ┆ 11767         ┆ 83.1583 ┆ C50   ┆ C        │\n",
       "│             ┆          ┆        ┆ Thomas Jr     ┆   ┆               ┆         ┆       ┆          │\n",
       "│             ┆          ┆        ┆ (Lily A…      ┆   ┆               ┆         ┆       ┆          │\n",
       "│ 890         ┆ 1        ┆ 1      ┆ Behr, Mr.     ┆ … ┆ 111369        ┆ 30.0    ┆ C148  ┆ C        │\n",
       "│             ┆          ┆        ┆ Karl Howell   ┆   ┆               ┆         ┆       ┆          │\n",
       "└─────────────┴──────────┴────────┴───────────────┴───┴───────────────┴─────────┴───────┴──────────┘"
      ]
     },
     "execution_count": 61,
     "metadata": {},
     "output_type": "execute_result"
    }
   ],
   "source": [
    "(\n",
    "    df\n",
    "    .filter\n",
    "    (\n",
    "        Embarked = \"C\"\n",
    "    )\n",
    ")"
   ]
  },
  {
   "cell_type": "markdown",
   "id": "3997643e-eb67-4988-86c6-799cae1ddfbf",
   "metadata": {},
   "source": [
    "Select all rows where `Embarked` is equal to \"C\" - use `pl.col` with the text operator rather than the mathematical operator this time"
   ]
  },
  {
   "cell_type": "code",
   "execution_count": null,
   "id": "3022f7c4-3718-4b9e-a459-2a022745775d",
   "metadata": {},
   "outputs": [],
   "source": []
  },
  {
   "cell_type": "markdown",
   "id": "926e80de-b477-4806-a00e-89ecaf95b37f",
   "metadata": {},
   "source": [
    "Select all rows where `Embarked` is **not** equal to \"C\" "
   ]
  },
  {
   "cell_type": "code",
   "execution_count": null,
   "id": "15cb78e6-fcf7-4673-becd-c5bd87690cd9",
   "metadata": {},
   "outputs": [],
   "source": []
  },
  {
   "cell_type": "markdown",
   "id": "1f00ab68-d0bc-4bae-b109-47f1e5969bd7",
   "metadata": {},
   "source": [
    "### Exercise 2 \n",
    "\n",
    "In this exercise we filter on row numbers.\n",
    "\n",
    "First add a row number column"
   ]
  },
  {
   "cell_type": "code",
   "execution_count": 62,
   "id": "1266eb17-23c4-4526-9044-cb4448a70231",
   "metadata": {
    "tags": []
   },
   "outputs": [
    {
     "data": {
      "text/html": [
       "<div><style>\n",
       ".dataframe > thead > tr,\n",
       ".dataframe > tbody > tr {\n",
       "  text-align: right;\n",
       "  white-space: pre-wrap;\n",
       "}\n",
       "</style>\n",
       "<small>shape: (5, 13)</small><table border=\"1\" class=\"dataframe\"><thead><tr><th>index</th><th>PassengerId</th><th>Survived</th><th>Pclass</th><th>Name</th><th>Sex</th><th>Age</th><th>SibSp</th><th>Parch</th><th>Ticket</th><th>Fare</th><th>Cabin</th><th>Embarked</th></tr><tr><td>u32</td><td>i64</td><td>i64</td><td>i64</td><td>str</td><td>str</td><td>f64</td><td>i64</td><td>i64</td><td>str</td><td>f64</td><td>str</td><td>str</td></tr></thead><tbody><tr><td>0</td><td>1</td><td>0</td><td>3</td><td>&quot;Braund, Mr. Owen Harris&quot;</td><td>&quot;male&quot;</td><td>22.0</td><td>1</td><td>0</td><td>&quot;A/5 21171&quot;</td><td>7.25</td><td>null</td><td>&quot;S&quot;</td></tr><tr><td>1</td><td>2</td><td>1</td><td>1</td><td>&quot;Cumings, Mrs. John Bradley (Fl…</td><td>&quot;female&quot;</td><td>38.0</td><td>1</td><td>0</td><td>&quot;PC 17599&quot;</td><td>71.2833</td><td>&quot;C85&quot;</td><td>&quot;C&quot;</td></tr><tr><td>2</td><td>3</td><td>1</td><td>3</td><td>&quot;Heikkinen, Miss. Laina&quot;</td><td>&quot;female&quot;</td><td>26.0</td><td>0</td><td>0</td><td>&quot;STON/O2. 3101282&quot;</td><td>7.925</td><td>null</td><td>&quot;S&quot;</td></tr><tr><td>3</td><td>4</td><td>1</td><td>1</td><td>&quot;Futrelle, Mrs. Jacques Heath (…</td><td>&quot;female&quot;</td><td>35.0</td><td>1</td><td>0</td><td>&quot;113803&quot;</td><td>53.1</td><td>&quot;C123&quot;</td><td>&quot;S&quot;</td></tr><tr><td>4</td><td>5</td><td>0</td><td>3</td><td>&quot;Allen, Mr. William Henry&quot;</td><td>&quot;male&quot;</td><td>35.0</td><td>0</td><td>0</td><td>&quot;373450&quot;</td><td>8.05</td><td>null</td><td>&quot;S&quot;</td></tr></tbody></table></div>"
      ],
      "text/plain": [
       "shape: (5, 13)\n",
       "┌───────┬─────────────┬──────────┬────────┬───┬──────────────────┬─────────┬───────┬──────────┐\n",
       "│ index ┆ PassengerId ┆ Survived ┆ Pclass ┆ … ┆ Ticket           ┆ Fare    ┆ Cabin ┆ Embarked │\n",
       "│ ---   ┆ ---         ┆ ---      ┆ ---    ┆   ┆ ---              ┆ ---     ┆ ---   ┆ ---      │\n",
       "│ u32   ┆ i64         ┆ i64      ┆ i64    ┆   ┆ str              ┆ f64     ┆ str   ┆ str      │\n",
       "╞═══════╪═════════════╪══════════╪════════╪═══╪══════════════════╪═════════╪═══════╪══════════╡\n",
       "│ 0     ┆ 1           ┆ 0        ┆ 3      ┆ … ┆ A/5 21171        ┆ 7.25    ┆ null  ┆ S        │\n",
       "│ 1     ┆ 2           ┆ 1        ┆ 1      ┆ … ┆ PC 17599         ┆ 71.2833 ┆ C85   ┆ C        │\n",
       "│ 2     ┆ 3           ┆ 1        ┆ 3      ┆ … ┆ STON/O2. 3101282 ┆ 7.925   ┆ null  ┆ S        │\n",
       "│ 3     ┆ 4           ┆ 1        ┆ 1      ┆ … ┆ 113803           ┆ 53.1    ┆ C123  ┆ S        │\n",
       "│ 4     ┆ 5           ┆ 0        ┆ 3      ┆ … ┆ 373450           ┆ 8.05    ┆ null  ┆ S        │\n",
       "└───────┴─────────────┴──────────┴────────┴───┴──────────────────┴─────────┴───────┴──────────┘"
      ]
     },
     "execution_count": 62,
     "metadata": {},
     "output_type": "execute_result"
    }
   ],
   "source": [
    "(\n",
    "    pl.read_csv(csv_file)\n",
    "    .with_row_index(\"index\")\n",
    "    .filter\n",
    "    (\n",
    "        pl.col(\"index\") < 5\n",
    "    )\n",
    ")"
   ]
  },
  {
   "cell_type": "markdown",
   "id": "618c8c93-1d06-4067-a136-689310668dec",
   "metadata": {},
   "source": [
    "Continue by selecting the first 5 rows using `filter` on the row number column"
   ]
  },
  {
   "cell_type": "code",
   "execution_count": null,
   "id": "f05183a6-8f13-483b-8f41-638b2a59bc3f",
   "metadata": {
    "tags": []
   },
   "outputs": [],
   "source": []
  },
  {
   "cell_type": "markdown",
   "id": "57dc2e8b-c2a2-49fa-b92f-1a0dc13f5c7b",
   "metadata": {},
   "source": [
    "### Exercise 3\n",
    "Partition the `DataFrame` by the `Survived` and `Pclass` columns as a `dict` (you may want to check the API docs for help: https://pola-rs.github.io/polars/py-polars/html/reference/dataframe/api/polars.DataFrame.partition_by.html#polars.DataFrame.partition_by)"
   ]
  },
  {
   "cell_type": "code",
   "execution_count": 64,
   "id": "c904b66d-4890-44c4-a0b9-82ee0564165d",
   "metadata": {},
   "outputs": [
    {
     "data": {
      "text/plain": [
       "dict_keys([(0, 3), (1, 1), (1, 3), (0, 1), (1, 2), (0, 2)])"
      ]
     },
     "execution_count": 64,
     "metadata": {},
     "output_type": "execute_result"
    }
   ],
   "source": [
    "survived_pclass_dict = (\n",
    "    pl.read_csv(csv_file)\n",
    "    .partition_by\n",
    "    (\n",
    "        \"Survived\", \"Pclass\",\n",
    "        as_dict = True\n",
    "    )\n",
    ")\n",
    "survived_pclass_dict.keys()"
   ]
  },
  {
   "cell_type": "markdown",
   "id": "7a3eaaa1-3f31-45f8-91de-917cbaae7ea2",
   "metadata": {},
   "source": [
    "Return the sub-`DataFrame` with the passengers who did not survive from the third class"
   ]
  },
  {
   "cell_type": "code",
   "execution_count": 65,
   "id": "c480517f-d82c-459b-a4ad-f84dd64d823c",
   "metadata": {},
   "outputs": [
    {
     "data": {
      "text/html": [
       "<div><style>\n",
       ".dataframe > thead > tr,\n",
       ".dataframe > tbody > tr {\n",
       "  text-align: right;\n",
       "  white-space: pre-wrap;\n",
       "}\n",
       "</style>\n",
       "<small>shape: (372, 12)</small><table border=\"1\" class=\"dataframe\"><thead><tr><th>PassengerId</th><th>Survived</th><th>Pclass</th><th>Name</th><th>Sex</th><th>Age</th><th>SibSp</th><th>Parch</th><th>Ticket</th><th>Fare</th><th>Cabin</th><th>Embarked</th></tr><tr><td>i64</td><td>i64</td><td>i64</td><td>str</td><td>str</td><td>f64</td><td>i64</td><td>i64</td><td>str</td><td>f64</td><td>str</td><td>str</td></tr></thead><tbody><tr><td>1</td><td>0</td><td>3</td><td>&quot;Braund, Mr. Owen Harris&quot;</td><td>&quot;male&quot;</td><td>22.0</td><td>1</td><td>0</td><td>&quot;A/5 21171&quot;</td><td>7.25</td><td>null</td><td>&quot;S&quot;</td></tr><tr><td>5</td><td>0</td><td>3</td><td>&quot;Allen, Mr. William Henry&quot;</td><td>&quot;male&quot;</td><td>35.0</td><td>0</td><td>0</td><td>&quot;373450&quot;</td><td>8.05</td><td>null</td><td>&quot;S&quot;</td></tr><tr><td>6</td><td>0</td><td>3</td><td>&quot;Moran, Mr. James&quot;</td><td>&quot;male&quot;</td><td>null</td><td>0</td><td>0</td><td>&quot;330877&quot;</td><td>8.4583</td><td>null</td><td>&quot;Q&quot;</td></tr><tr><td>8</td><td>0</td><td>3</td><td>&quot;Palsson, Master. Gosta Leonard&quot;</td><td>&quot;male&quot;</td><td>2.0</td><td>3</td><td>1</td><td>&quot;349909&quot;</td><td>21.075</td><td>null</td><td>&quot;S&quot;</td></tr><tr><td>13</td><td>0</td><td>3</td><td>&quot;Saundercock, Mr. William Henry&quot;</td><td>&quot;male&quot;</td><td>20.0</td><td>0</td><td>0</td><td>&quot;A/5. 2151&quot;</td><td>8.05</td><td>null</td><td>&quot;S&quot;</td></tr><tr><td>&hellip;</td><td>&hellip;</td><td>&hellip;</td><td>&hellip;</td><td>&hellip;</td><td>&hellip;</td><td>&hellip;</td><td>&hellip;</td><td>&hellip;</td><td>&hellip;</td><td>&hellip;</td><td>&hellip;</td></tr><tr><td>883</td><td>0</td><td>3</td><td>&quot;Dahlberg, Miss. Gerda Ulrika&quot;</td><td>&quot;female&quot;</td><td>22.0</td><td>0</td><td>0</td><td>&quot;7552&quot;</td><td>10.5167</td><td>null</td><td>&quot;S&quot;</td></tr><tr><td>885</td><td>0</td><td>3</td><td>&quot;Sutehall, Mr. Henry Jr&quot;</td><td>&quot;male&quot;</td><td>25.0</td><td>0</td><td>0</td><td>&quot;SOTON/OQ 392076&quot;</td><td>7.05</td><td>null</td><td>&quot;S&quot;</td></tr><tr><td>886</td><td>0</td><td>3</td><td>&quot;Rice, Mrs. William (Margaret N…</td><td>&quot;female&quot;</td><td>39.0</td><td>0</td><td>5</td><td>&quot;382652&quot;</td><td>29.125</td><td>null</td><td>&quot;Q&quot;</td></tr><tr><td>889</td><td>0</td><td>3</td><td>&quot;Johnston, Miss. Catherine Hele…</td><td>&quot;female&quot;</td><td>null</td><td>1</td><td>2</td><td>&quot;W./C. 6607&quot;</td><td>23.45</td><td>null</td><td>&quot;S&quot;</td></tr><tr><td>891</td><td>0</td><td>3</td><td>&quot;Dooley, Mr. Patrick&quot;</td><td>&quot;male&quot;</td><td>32.0</td><td>0</td><td>0</td><td>&quot;370376&quot;</td><td>7.75</td><td>null</td><td>&quot;Q&quot;</td></tr></tbody></table></div>"
      ],
      "text/plain": [
       "shape: (372, 12)\n",
       "┌─────────────┬──────────┬────────┬──────────────────┬───┬────────────┬─────────┬───────┬──────────┐\n",
       "│ PassengerId ┆ Survived ┆ Pclass ┆ Name             ┆ … ┆ Ticket     ┆ Fare    ┆ Cabin ┆ Embarked │\n",
       "│ ---         ┆ ---      ┆ ---    ┆ ---              ┆   ┆ ---        ┆ ---     ┆ ---   ┆ ---      │\n",
       "│ i64         ┆ i64      ┆ i64    ┆ str              ┆   ┆ str        ┆ f64     ┆ str   ┆ str      │\n",
       "╞═════════════╪══════════╪════════╪══════════════════╪═══╪════════════╪═════════╪═══════╪══════════╡\n",
       "│ 1           ┆ 0        ┆ 3      ┆ Braund, Mr. Owen ┆ … ┆ A/5 21171  ┆ 7.25    ┆ null  ┆ S        │\n",
       "│             ┆          ┆        ┆ Harris           ┆   ┆            ┆         ┆       ┆          │\n",
       "│ 5           ┆ 0        ┆ 3      ┆ Allen, Mr.       ┆ … ┆ 373450     ┆ 8.05    ┆ null  ┆ S        │\n",
       "│             ┆          ┆        ┆ William Henry    ┆   ┆            ┆         ┆       ┆          │\n",
       "│ 6           ┆ 0        ┆ 3      ┆ Moran, Mr. James ┆ … ┆ 330877     ┆ 8.4583  ┆ null  ┆ Q        │\n",
       "│ 8           ┆ 0        ┆ 3      ┆ Palsson, Master. ┆ … ┆ 349909     ┆ 21.075  ┆ null  ┆ S        │\n",
       "│             ┆          ┆        ┆ Gosta Leonard    ┆   ┆            ┆         ┆       ┆          │\n",
       "│ 13          ┆ 0        ┆ 3      ┆ Saundercock, Mr. ┆ … ┆ A/5. 2151  ┆ 8.05    ┆ null  ┆ S        │\n",
       "│             ┆          ┆        ┆ William Henry    ┆   ┆            ┆         ┆       ┆          │\n",
       "│ …           ┆ …        ┆ …      ┆ …                ┆ … ┆ …          ┆ …       ┆ …     ┆ …        │\n",
       "│ 883         ┆ 0        ┆ 3      ┆ Dahlberg, Miss.  ┆ … ┆ 7552       ┆ 10.5167 ┆ null  ┆ S        │\n",
       "│             ┆          ┆        ┆ Gerda Ulrika     ┆   ┆            ┆         ┆       ┆          │\n",
       "│ 885         ┆ 0        ┆ 3      ┆ Sutehall, Mr.    ┆ … ┆ SOTON/OQ   ┆ 7.05    ┆ null  ┆ S        │\n",
       "│             ┆          ┆        ┆ Henry Jr         ┆   ┆ 392076     ┆         ┆       ┆          │\n",
       "│ 886         ┆ 0        ┆ 3      ┆ Rice, Mrs.       ┆ … ┆ 382652     ┆ 29.125  ┆ null  ┆ Q        │\n",
       "│             ┆          ┆        ┆ William          ┆   ┆            ┆         ┆       ┆          │\n",
       "│             ┆          ┆        ┆ (Margaret N…     ┆   ┆            ┆         ┆       ┆          │\n",
       "│ 889         ┆ 0        ┆ 3      ┆ Johnston, Miss.  ┆ … ┆ W./C. 6607 ┆ 23.45   ┆ null  ┆ S        │\n",
       "│             ┆          ┆        ┆ Catherine Hele…  ┆   ┆            ┆         ┆       ┆          │\n",
       "│ 891         ┆ 0        ┆ 3      ┆ Dooley, Mr.      ┆ … ┆ 370376     ┆ 7.75    ┆ null  ┆ Q        │\n",
       "│             ┆          ┆        ┆ Patrick          ┆   ┆            ┆         ┆       ┆          │\n",
       "└─────────────┴──────────┴────────┴──────────────────┴───┴────────────┴─────────┴───────┴──────────┘"
      ]
     },
     "execution_count": 65,
     "metadata": {},
     "output_type": "execute_result"
    }
   ],
   "source": [
    "survived_pclass_dict[(0,3)]"
   ]
  },
  {
   "cell_type": "markdown",
   "id": "187f4251-ff91-4ef3-8360-a5a0dac239a7",
   "metadata": {},
   "source": [
    "### Exercise 4\n",
    "In this exercise we load data from the Spotify charts"
   ]
  },
  {
   "cell_type": "code",
   "execution_count": 66,
   "id": "14fa973d-5e51-40bc-999a-d089e1fea763",
   "metadata": {},
   "outputs": [
    {
     "data": {
      "text/html": [
       "<div><style>\n",
       ".dataframe > thead > tr,\n",
       ".dataframe > tbody > tr {\n",
       "  text-align: right;\n",
       "  white-space: pre-wrap;\n",
       "}\n",
       "</style>\n",
       "<small>shape: (5, 9)</small><table border=\"1\" class=\"dataframe\"><thead><tr><th>title</th><th>rank</th><th>date</th><th>artist</th><th>url</th><th>region</th><th>chart</th><th>trend</th><th>streams</th></tr><tr><td>str</td><td>i64</td><td>str</td><td>str</td><td>str</td><td>str</td><td>str</td><td>str</td><td>i64</td></tr></thead><tbody><tr><td>&quot;Starboy&quot;</td><td>1</td><td>&quot;2017-01-01&quot;</td><td>&quot;The Weeknd, Daft Punk&quot;</td><td>&quot;https://open.spotify.com/track…</td><td>&quot;Global&quot;</td><td>&quot;top200&quot;</td><td>&quot;SAME_POSITION&quot;</td><td>3135625</td></tr><tr><td>&quot;Closer&quot;</td><td>2</td><td>&quot;2017-01-01&quot;</td><td>&quot;The Chainsmokers, Halsey&quot;</td><td>&quot;https://open.spotify.com/track…</td><td>&quot;Global&quot;</td><td>&quot;top200&quot;</td><td>&quot;SAME_POSITION&quot;</td><td>3015525</td></tr><tr><td>&quot;Let Me Love You&quot;</td><td>3</td><td>&quot;2017-01-01&quot;</td><td>&quot;DJ Snake, Justin Bieber&quot;</td><td>&quot;https://open.spotify.com/track…</td><td>&quot;Global&quot;</td><td>&quot;top200&quot;</td><td>&quot;MOVE_UP&quot;</td><td>2545384</td></tr><tr><td>&quot;Rockabye (feat. Sean Paul &amp; An…</td><td>4</td><td>&quot;2017-01-01&quot;</td><td>&quot;Clean Bandit&quot;</td><td>&quot;https://open.spotify.com/track…</td><td>&quot;Global&quot;</td><td>&quot;top200&quot;</td><td>&quot;MOVE_DOWN&quot;</td><td>2356604</td></tr><tr><td>&quot;One Dance&quot;</td><td>5</td><td>&quot;2017-01-01&quot;</td><td>&quot;Drake, WizKid, Kyla&quot;</td><td>&quot;https://open.spotify.com/track…</td><td>&quot;Global&quot;</td><td>&quot;top200&quot;</td><td>&quot;SAME_POSITION&quot;</td><td>2259887</td></tr></tbody></table></div>"
      ],
      "text/plain": [
       "shape: (5, 9)\n",
       "┌───────────────┬──────┬────────────┬───────────────┬───┬────────┬────────┬──────────────┬─────────┐\n",
       "│ title         ┆ rank ┆ date       ┆ artist        ┆ … ┆ region ┆ chart  ┆ trend        ┆ streams │\n",
       "│ ---           ┆ ---  ┆ ---        ┆ ---           ┆   ┆ ---    ┆ ---    ┆ ---          ┆ ---     │\n",
       "│ str           ┆ i64  ┆ str        ┆ str           ┆   ┆ str    ┆ str    ┆ str          ┆ i64     │\n",
       "╞═══════════════╪══════╪════════════╪═══════════════╪═══╪════════╪════════╪══════════════╪═════════╡\n",
       "│ Starboy       ┆ 1    ┆ 2017-01-01 ┆ The Weeknd,   ┆ … ┆ Global ┆ top200 ┆ SAME_POSITIO ┆ 3135625 │\n",
       "│               ┆      ┆            ┆ Daft Punk     ┆   ┆        ┆        ┆ N            ┆         │\n",
       "│ Closer        ┆ 2    ┆ 2017-01-01 ┆ The           ┆ … ┆ Global ┆ top200 ┆ SAME_POSITIO ┆ 3015525 │\n",
       "│               ┆      ┆            ┆ Chainsmokers, ┆   ┆        ┆        ┆ N            ┆         │\n",
       "│               ┆      ┆            ┆ Halsey        ┆   ┆        ┆        ┆              ┆         │\n",
       "│ Let Me Love   ┆ 3    ┆ 2017-01-01 ┆ DJ Snake,     ┆ … ┆ Global ┆ top200 ┆ MOVE_UP      ┆ 2545384 │\n",
       "│ You           ┆      ┆            ┆ Justin Bieber ┆   ┆        ┆        ┆              ┆         │\n",
       "│ Rockabye      ┆ 4    ┆ 2017-01-01 ┆ Clean Bandit  ┆ … ┆ Global ┆ top200 ┆ MOVE_DOWN    ┆ 2356604 │\n",
       "│ (feat. Sean   ┆      ┆            ┆               ┆   ┆        ┆        ┆              ┆         │\n",
       "│ Paul & An…    ┆      ┆            ┆               ┆   ┆        ┆        ┆              ┆         │\n",
       "│ One Dance     ┆ 5    ┆ 2017-01-01 ┆ Drake,        ┆ … ┆ Global ┆ top200 ┆ SAME_POSITIO ┆ 2259887 │\n",
       "│               ┆      ┆            ┆ WizKid, Kyla  ┆   ┆        ┆        ┆ N            ┆         │\n",
       "└───────────────┴──────┴────────────┴───────────────┴───┴────────┴────────┴──────────────┴─────────┘"
      ]
     },
     "execution_count": 66,
     "metadata": {},
     "output_type": "execute_result"
    }
   ],
   "source": [
    "spotify_csv = \"notebooks/data/spotify-charts-2017-2021-global-top200.csv.gz\"\n",
    "spotify_df = pl.read_csv(spotify_csv)\n",
    "spotify_df.head()"
   ]
  },
  {
   "cell_type": "markdown",
   "id": "c3a1f541-aadd-4bee-a788-0f712f0aeadf",
   "metadata": {},
   "source": [
    "Filter the `DataFrame` to find all rows with artist Post Malone"
   ]
  },
  {
   "cell_type": "code",
   "execution_count": 70,
   "id": "2db8d315-227f-4a9b-804a-951a94782ace",
   "metadata": {},
   "outputs": [
    {
     "data": {
      "text/html": [
       "<div><style>\n",
       ".dataframe > thead > tr,\n",
       ".dataframe > tbody > tr {\n",
       "  text-align: right;\n",
       "  white-space: pre-wrap;\n",
       "}\n",
       "</style>\n",
       "<small>shape: (10_040, 9)</small><table border=\"1\" class=\"dataframe\"><thead><tr><th>title</th><th>rank</th><th>date</th><th>artist</th><th>url</th><th>region</th><th>chart</th><th>trend</th><th>streams</th></tr><tr><td>str</td><td>i64</td><td>str</td><td>str</td><td>str</td><td>str</td><td>str</td><td>str</td><td>i64</td></tr></thead><tbody><tr><td>&quot;White Iverson&quot;</td><td>196</td><td>&quot;2017-01-01&quot;</td><td>&quot;Post Malone&quot;</td><td>&quot;https://open.spotify.com/track…</td><td>&quot;Global&quot;</td><td>&quot;top200&quot;</td><td>&quot;NEW_ENTRY&quot;</td><td>332756</td></tr><tr><td>&quot;White Iverson&quot;</td><td>188</td><td>&quot;2017-01-02&quot;</td><td>&quot;Post Malone&quot;</td><td>&quot;https://open.spotify.com/track…</td><td>&quot;Global&quot;</td><td>&quot;top200&quot;</td><td>&quot;MOVE_UP&quot;</td><td>343936</td></tr><tr><td>&quot;Psycho (feat. Ty Dolla $ign)&quot;</td><td>2</td><td>&quot;2018-03-01&quot;</td><td>&quot;Post Malone&quot;</td><td>&quot;https://open.spotify.com/track…</td><td>&quot;Global&quot;</td><td>&quot;top200&quot;</td><td>&quot;SAME_POSITION&quot;</td><td>5999224</td></tr><tr><td>&quot;rockstar&quot;</td><td>9</td><td>&quot;2018-03-01&quot;</td><td>&quot;Post Malone, 21 Savage&quot;</td><td>&quot;https://open.spotify.com/track…</td><td>&quot;Global&quot;</td><td>&quot;top200&quot;</td><td>&quot;MOVE_UP&quot;</td><td>2891782</td></tr><tr><td>&quot;I Fall Apart&quot;</td><td>22</td><td>&quot;2018-03-01&quot;</td><td>&quot;Post Malone&quot;</td><td>&quot;https://open.spotify.com/track…</td><td>&quot;Global&quot;</td><td>&quot;top200&quot;</td><td>&quot;SAME_POSITION&quot;</td><td>2003396</td></tr><tr><td>&hellip;</td><td>&hellip;</td><td>&hellip;</td><td>&hellip;</td><td>&hellip;</td><td>&hellip;</td><td>&hellip;</td><td>&hellip;</td><td>&hellip;</td></tr><tr><td>&quot;Congratulations&quot;</td><td>54</td><td>&quot;2018-01-31&quot;</td><td>&quot;Post Malone, Quavo&quot;</td><td>&quot;https://open.spotify.com/track…</td><td>&quot;Global&quot;</td><td>&quot;top200&quot;</td><td>&quot;MOVE_DOWN&quot;</td><td>1284862</td></tr><tr><td>&quot;Candy Paint&quot;</td><td>55</td><td>&quot;2018-01-31&quot;</td><td>&quot;Post Malone&quot;</td><td>&quot;https://open.spotify.com/track…</td><td>&quot;Global&quot;</td><td>&quot;top200&quot;</td><td>&quot;SAME_POSITION&quot;</td><td>1247324</td></tr><tr><td>&quot;Notice Me&quot;</td><td>70</td><td>&quot;2018-01-31&quot;</td><td>&quot;Migos, Post Malone&quot;</td><td>&quot;https://open.spotify.com/track…</td><td>&quot;Global&quot;</td><td>&quot;top200&quot;</td><td>&quot;MOVE_DOWN&quot;</td><td>1046189</td></tr><tr><td>&quot;Go Flex&quot;</td><td>140</td><td>&quot;2018-01-31&quot;</td><td>&quot;Post Malone&quot;</td><td>&quot;https://open.spotify.com/track…</td><td>&quot;Global&quot;</td><td>&quot;top200&quot;</td><td>&quot;MOVE_UP&quot;</td><td>704766</td></tr><tr><td>&quot;White Iverson&quot;</td><td>180</td><td>&quot;2018-01-31&quot;</td><td>&quot;Post Malone&quot;</td><td>&quot;https://open.spotify.com/track…</td><td>&quot;Global&quot;</td><td>&quot;top200&quot;</td><td>&quot;MOVE_UP&quot;</td><td>598970</td></tr></tbody></table></div>"
      ],
      "text/plain": [
       "shape: (10_040, 9)\n",
       "┌───────────────┬──────┬────────────┬───────────────┬───┬────────┬────────┬──────────────┬─────────┐\n",
       "│ title         ┆ rank ┆ date       ┆ artist        ┆ … ┆ region ┆ chart  ┆ trend        ┆ streams │\n",
       "│ ---           ┆ ---  ┆ ---        ┆ ---           ┆   ┆ ---    ┆ ---    ┆ ---          ┆ ---     │\n",
       "│ str           ┆ i64  ┆ str        ┆ str           ┆   ┆ str    ┆ str    ┆ str          ┆ i64     │\n",
       "╞═══════════════╪══════╪════════════╪═══════════════╪═══╪════════╪════════╪══════════════╪═════════╡\n",
       "│ White Iverson ┆ 196  ┆ 2017-01-01 ┆ Post Malone   ┆ … ┆ Global ┆ top200 ┆ NEW_ENTRY    ┆ 332756  │\n",
       "│ White Iverson ┆ 188  ┆ 2017-01-02 ┆ Post Malone   ┆ … ┆ Global ┆ top200 ┆ MOVE_UP      ┆ 343936  │\n",
       "│ Psycho (feat. ┆ 2    ┆ 2018-03-01 ┆ Post Malone   ┆ … ┆ Global ┆ top200 ┆ SAME_POSITIO ┆ 5999224 │\n",
       "│ Ty Dolla      ┆      ┆            ┆               ┆   ┆        ┆        ┆ N            ┆         │\n",
       "│ $ign)         ┆      ┆            ┆               ┆   ┆        ┆        ┆              ┆         │\n",
       "│ rockstar      ┆ 9    ┆ 2018-03-01 ┆ Post Malone,  ┆ … ┆ Global ┆ top200 ┆ MOVE_UP      ┆ 2891782 │\n",
       "│               ┆      ┆            ┆ 21 Savage     ┆   ┆        ┆        ┆              ┆         │\n",
       "│ I Fall Apart  ┆ 22   ┆ 2018-03-01 ┆ Post Malone   ┆ … ┆ Global ┆ top200 ┆ SAME_POSITIO ┆ 2003396 │\n",
       "│               ┆      ┆            ┆               ┆   ┆        ┆        ┆ N            ┆         │\n",
       "│ …             ┆ …    ┆ …          ┆ …             ┆ … ┆ …      ┆ …      ┆ …            ┆ …       │\n",
       "│ Congratulatio ┆ 54   ┆ 2018-01-31 ┆ Post Malone,  ┆ … ┆ Global ┆ top200 ┆ MOVE_DOWN    ┆ 1284862 │\n",
       "│ ns            ┆      ┆            ┆ Quavo         ┆   ┆        ┆        ┆              ┆         │\n",
       "│ Candy Paint   ┆ 55   ┆ 2018-01-31 ┆ Post Malone   ┆ … ┆ Global ┆ top200 ┆ SAME_POSITIO ┆ 1247324 │\n",
       "│               ┆      ┆            ┆               ┆   ┆        ┆        ┆ N            ┆         │\n",
       "│ Notice Me     ┆ 70   ┆ 2018-01-31 ┆ Migos, Post   ┆ … ┆ Global ┆ top200 ┆ MOVE_DOWN    ┆ 1046189 │\n",
       "│               ┆      ┆            ┆ Malone        ┆   ┆        ┆        ┆              ┆         │\n",
       "│ Go Flex       ┆ 140  ┆ 2018-01-31 ┆ Post Malone   ┆ … ┆ Global ┆ top200 ┆ MOVE_UP      ┆ 704766  │\n",
       "│ White Iverson ┆ 180  ┆ 2018-01-31 ┆ Post Malone   ┆ … ┆ Global ┆ top200 ┆ MOVE_UP      ┆ 598970  │\n",
       "└───────────────┴──────┴────────────┴───────────────┴───┴────────┴────────┴──────────────┴─────────┘"
      ]
     },
     "execution_count": 70,
     "metadata": {},
     "output_type": "execute_result"
    }
   ],
   "source": [
    "(\n",
    "    spotify_df\n",
    "    .filter\n",
    "    (\n",
    "        pl.col(\"artist\").str.contains(\"Post Malone\")\n",
    "    )\n",
    ")"
   ]
  },
  {
   "cell_type": "code",
   "execution_count": 71,
   "id": "7b488f6f-633f-4ad5-acc9-2278b491a76c",
   "metadata": {},
   "outputs": [
    {
     "data": {
      "text/html": [
       "<div><style>\n",
       ".dataframe > thead > tr,\n",
       ".dataframe > tbody > tr {\n",
       "  text-align: right;\n",
       "  white-space: pre-wrap;\n",
       "}\n",
       "</style>\n",
       "<small>shape: (183, 12)</small><table border=\"1\" class=\"dataframe\"><thead><tr><th>PassengerId</th><th>Survived</th><th>Pclass</th><th>Name</th><th>Sex</th><th>Age</th><th>SibSp</th><th>Parch</th><th>Ticket</th><th>Fare</th><th>Cabin</th><th>Embarked</th></tr><tr><td>i64</td><td>i64</td><td>i64</td><td>str</td><td>str</td><td>f64</td><td>i64</td><td>i64</td><td>str</td><td>f64</td><td>str</td><td>str</td></tr></thead><tbody><tr><td>2</td><td>1</td><td>1</td><td>&quot;Cumings, Mrs. John Bradley (Fl…</td><td>&quot;female&quot;</td><td>38.0</td><td>1</td><td>0</td><td>&quot;PC 17599&quot;</td><td>71.2833</td><td>&quot;C85&quot;</td><td>&quot;C&quot;</td></tr><tr><td>4</td><td>1</td><td>1</td><td>&quot;Futrelle, Mrs. Jacques Heath (…</td><td>&quot;female&quot;</td><td>35.0</td><td>1</td><td>0</td><td>&quot;113803&quot;</td><td>53.1</td><td>&quot;C123&quot;</td><td>&quot;S&quot;</td></tr><tr><td>7</td><td>0</td><td>1</td><td>&quot;McCarthy, Mr. Timothy J&quot;</td><td>&quot;male&quot;</td><td>54.0</td><td>0</td><td>0</td><td>&quot;17463&quot;</td><td>51.8625</td><td>&quot;E46&quot;</td><td>&quot;S&quot;</td></tr><tr><td>11</td><td>1</td><td>3</td><td>&quot;Sandstrom, Miss. Marguerite Ru…</td><td>&quot;female&quot;</td><td>4.0</td><td>1</td><td>1</td><td>&quot;PP 9549&quot;</td><td>16.7</td><td>&quot;G6&quot;</td><td>&quot;S&quot;</td></tr><tr><td>12</td><td>1</td><td>1</td><td>&quot;Bonnell, Miss. Elizabeth&quot;</td><td>&quot;female&quot;</td><td>58.0</td><td>0</td><td>0</td><td>&quot;113783&quot;</td><td>26.55</td><td>&quot;C103&quot;</td><td>&quot;S&quot;</td></tr><tr><td>&hellip;</td><td>&hellip;</td><td>&hellip;</td><td>&hellip;</td><td>&hellip;</td><td>&hellip;</td><td>&hellip;</td><td>&hellip;</td><td>&hellip;</td><td>&hellip;</td><td>&hellip;</td><td>&hellip;</td></tr><tr><td>872</td><td>1</td><td>1</td><td>&quot;Beckwith, Mrs. Richard Leonard…</td><td>&quot;female&quot;</td><td>47.0</td><td>1</td><td>1</td><td>&quot;11751&quot;</td><td>52.5542</td><td>&quot;D35&quot;</td><td>&quot;S&quot;</td></tr><tr><td>873</td><td>0</td><td>1</td><td>&quot;Carlsson, Mr. Frans Olof&quot;</td><td>&quot;male&quot;</td><td>33.0</td><td>0</td><td>0</td><td>&quot;695&quot;</td><td>5.0</td><td>&quot;B51 B53 B55&quot;</td><td>&quot;S&quot;</td></tr><tr><td>880</td><td>1</td><td>1</td><td>&quot;Potter, Mrs. Thomas Jr (Lily A…</td><td>&quot;female&quot;</td><td>56.0</td><td>0</td><td>1</td><td>&quot;11767&quot;</td><td>83.1583</td><td>&quot;C50&quot;</td><td>&quot;C&quot;</td></tr><tr><td>888</td><td>1</td><td>1</td><td>&quot;Graham, Miss. Margaret Edith&quot;</td><td>&quot;female&quot;</td><td>19.0</td><td>0</td><td>0</td><td>&quot;112053&quot;</td><td>30.0</td><td>&quot;B42&quot;</td><td>&quot;S&quot;</td></tr><tr><td>890</td><td>1</td><td>1</td><td>&quot;Behr, Mr. Karl Howell&quot;</td><td>&quot;male&quot;</td><td>26.0</td><td>0</td><td>0</td><td>&quot;111369&quot;</td><td>30.0</td><td>&quot;C148&quot;</td><td>&quot;C&quot;</td></tr></tbody></table></div>"
      ],
      "text/plain": [
       "shape: (183, 12)\n",
       "┌─────────────┬──────────┬────────┬──────────────┬───┬──────────┬─────────┬─────────────┬──────────┐\n",
       "│ PassengerId ┆ Survived ┆ Pclass ┆ Name         ┆ … ┆ Ticket   ┆ Fare    ┆ Cabin       ┆ Embarked │\n",
       "│ ---         ┆ ---      ┆ ---    ┆ ---          ┆   ┆ ---      ┆ ---     ┆ ---         ┆ ---      │\n",
       "│ i64         ┆ i64      ┆ i64    ┆ str          ┆   ┆ str      ┆ f64     ┆ str         ┆ str      │\n",
       "╞═════════════╪══════════╪════════╪══════════════╪═══╪══════════╪═════════╪═════════════╪══════════╡\n",
       "│ 2           ┆ 1        ┆ 1      ┆ Cumings,     ┆ … ┆ PC 17599 ┆ 71.2833 ┆ C85         ┆ C        │\n",
       "│             ┆          ┆        ┆ Mrs. John    ┆   ┆          ┆         ┆             ┆          │\n",
       "│             ┆          ┆        ┆ Bradley (Fl… ┆   ┆          ┆         ┆             ┆          │\n",
       "│ 4           ┆ 1        ┆ 1      ┆ Futrelle,    ┆ … ┆ 113803   ┆ 53.1    ┆ C123        ┆ S        │\n",
       "│             ┆          ┆        ┆ Mrs. Jacques ┆   ┆          ┆         ┆             ┆          │\n",
       "│             ┆          ┆        ┆ Heath (…     ┆   ┆          ┆         ┆             ┆          │\n",
       "│ 7           ┆ 0        ┆ 1      ┆ McCarthy,    ┆ … ┆ 17463    ┆ 51.8625 ┆ E46         ┆ S        │\n",
       "│             ┆          ┆        ┆ Mr. Timothy  ┆   ┆          ┆         ┆             ┆          │\n",
       "│             ┆          ┆        ┆ J            ┆   ┆          ┆         ┆             ┆          │\n",
       "│ 11          ┆ 1        ┆ 3      ┆ Sandstrom,   ┆ … ┆ PP 9549  ┆ 16.7    ┆ G6          ┆ S        │\n",
       "│             ┆          ┆        ┆ Miss.        ┆   ┆          ┆         ┆             ┆          │\n",
       "│             ┆          ┆        ┆ Marguerite   ┆   ┆          ┆         ┆             ┆          │\n",
       "│             ┆          ┆        ┆ Ru…          ┆   ┆          ┆         ┆             ┆          │\n",
       "│ 12          ┆ 1        ┆ 1      ┆ Bonnell,     ┆ … ┆ 113783   ┆ 26.55   ┆ C103        ┆ S        │\n",
       "│             ┆          ┆        ┆ Miss.        ┆   ┆          ┆         ┆             ┆          │\n",
       "│             ┆          ┆        ┆ Elizabeth    ┆   ┆          ┆         ┆             ┆          │\n",
       "│ …           ┆ …        ┆ …      ┆ …            ┆ … ┆ …        ┆ …       ┆ …           ┆ …        │\n",
       "│ 872         ┆ 1        ┆ 1      ┆ Beckwith,    ┆ … ┆ 11751    ┆ 52.5542 ┆ D35         ┆ S        │\n",
       "│             ┆          ┆        ┆ Mrs. Richard ┆   ┆          ┆         ┆             ┆          │\n",
       "│             ┆          ┆        ┆ Leonard…     ┆   ┆          ┆         ┆             ┆          │\n",
       "│ 873         ┆ 0        ┆ 1      ┆ Carlsson,    ┆ … ┆ 695      ┆ 5.0     ┆ B51 B53 B55 ┆ S        │\n",
       "│             ┆          ┆        ┆ Mr. Frans    ┆   ┆          ┆         ┆             ┆          │\n",
       "│             ┆          ┆        ┆ Olof         ┆   ┆          ┆         ┆             ┆          │\n",
       "│ 880         ┆ 1        ┆ 1      ┆ Potter, Mrs. ┆ … ┆ 11767    ┆ 83.1583 ┆ C50         ┆ C        │\n",
       "│             ┆          ┆        ┆ Thomas Jr    ┆   ┆          ┆         ┆             ┆          │\n",
       "│             ┆          ┆        ┆ (Lily A…     ┆   ┆          ┆         ┆             ┆          │\n",
       "│ 888         ┆ 1        ┆ 1      ┆ Graham,      ┆ … ┆ 112053   ┆ 30.0    ┆ B42         ┆ S        │\n",
       "│             ┆          ┆        ┆ Miss.        ┆   ┆          ┆         ┆             ┆          │\n",
       "│             ┆          ┆        ┆ Margaret     ┆   ┆          ┆         ┆             ┆          │\n",
       "│             ┆          ┆        ┆ Edith        ┆   ┆          ┆         ┆             ┆          │\n",
       "│ 890         ┆ 1        ┆ 1      ┆ Behr, Mr.    ┆ … ┆ 111369   ┆ 30.0    ┆ C148        ┆ C        │\n",
       "│             ┆          ┆        ┆ Karl Howell  ┆   ┆          ┆         ┆             ┆          │\n",
       "└─────────────┴──────────┴────────┴──────────────┴───┴──────────┴─────────┴─────────────┴──────────┘"
      ]
     },
     "execution_count": 71,
     "metadata": {},
     "output_type": "execute_result"
    }
   ],
   "source": [
    "(\n",
    "    df\n",
    "    .filter(\n",
    "        pl.all_horizontal(\n",
    "            pl.all().is_not_null()\n",
    "        )\n",
    "    )\n",
    ")"
   ]
  },
  {
   "cell_type": "code",
   "execution_count": 76,
   "id": "f24436d1-c410-4c5e-95c9-8b4053aef7f6",
   "metadata": {},
   "outputs": [
    {
     "data": {
      "text/html": [
       "<div><style>\n",
       ".dataframe > thead > tr,\n",
       ".dataframe > tbody > tr {\n",
       "  text-align: right;\n",
       "  white-space: pre-wrap;\n",
       "}\n",
       "</style>\n",
       "<small>shape: (1, 2)</small><table border=\"1\" class=\"dataframe\"><thead><tr><th>a</th><th>b</th></tr><tr><td>bool</td><td>bool</td></tr></thead><tbody><tr><td>true</td><td>false</td></tr></tbody></table></div>"
      ],
      "text/plain": [
       "shape: (1, 2)\n",
       "┌──────┬───────┐\n",
       "│ a    ┆ b     │\n",
       "│ ---  ┆ ---   │\n",
       "│ bool ┆ bool  │\n",
       "╞══════╪═══════╡\n",
       "│ true ┆ false │\n",
       "└──────┴───────┘"
      ]
     },
     "execution_count": 76,
     "metadata": {},
     "output_type": "execute_result"
    }
   ],
   "source": [
    "pl.DataFrame(\n",
    "    {\n",
    "        \"a\": [True, True, True],\n",
    "        \"b\": [True, True, False],\n",
    "    }\n",
    ").select( pl.all().all())"
   ]
  },
  {
   "cell_type": "code",
   "execution_count": 78,
   "id": "e6fba44a-11fb-419c-a748-59366cbb3c43",
   "metadata": {},
   "outputs": [
    {
     "data": {
      "text/plain": [
       "(675, 12)"
      ]
     },
     "execution_count": 78,
     "metadata": {},
     "output_type": "execute_result"
    }
   ],
   "source": [
    "(\n",
    "    df\n",
    "    .filter\n",
    "    (\n",
    "        (pl.col(\"Pclass\") == 2) | (pl.col(\"Pclass\") == 3)\n",
    "    )\n",
    "    .shape\n",
    ")"
   ]
  },
  {
   "cell_type": "code",
   "execution_count": 79,
   "id": "8188ca84-af74-47fb-aa67-63ddb3060b3d",
   "metadata": {},
   "outputs": [
    {
     "data": {
      "text/plain": [
       "(675, 12)"
      ]
     },
     "execution_count": 79,
     "metadata": {},
     "output_type": "execute_result"
    }
   ],
   "source": [
    "(\n",
    "    df\n",
    "    .filter\n",
    "    (\n",
    "        pl.col(\"Pclass\").is_in([2,3])\n",
    "    )\n",
    "    .shape\n",
    ")"
   ]
  },
  {
   "cell_type": "code",
   "execution_count": null,
   "id": "cc781d65-4df2-4987-a4d0-fd539d6b4d91",
   "metadata": {},
   "outputs": [],
   "source": []
  },
  {
   "cell_type": "markdown",
   "id": "82b7bcfe-bfe3-4f7a-a3d4-1e201e3e65e7",
   "metadata": {},
   "source": [
    "## Exercises\n",
    "In the exercises you will develop your understanding of:\n",
    "- applying multiple AND conditions\n",
    "- applying multiple OR conditions"
   ]
  },
  {
   "cell_type": "markdown",
   "id": "6eb1531e-1342-47ae-a9db-a6ea041ac4ae",
   "metadata": {},
   "source": [
    "### Exercise 1 \n",
    "Filter the `DataFrame` to find rows where `Age` is between 30 and 50 (including the lower bound) and the passenger is in 2nd class. Do this in eager mode in a single pass through the `DataFrame`"
   ]
  },
  {
   "cell_type": "code",
   "execution_count": 80,
   "id": "6e19df4e-12ff-4cb4-82ce-492bec6a77e7",
   "metadata": {
    "tags": []
   },
   "outputs": [
    {
     "data": {
      "text/html": [
       "<div><style>\n",
       ".dataframe > thead > tr,\n",
       ".dataframe > tbody > tr {\n",
       "  text-align: right;\n",
       "  white-space: pre-wrap;\n",
       "}\n",
       "</style>\n",
       "<small>shape: (70, 12)</small><table border=\"1\" class=\"dataframe\"><thead><tr><th>PassengerId</th><th>Survived</th><th>Pclass</th><th>Name</th><th>Sex</th><th>Age</th><th>SibSp</th><th>Parch</th><th>Ticket</th><th>Fare</th><th>Cabin</th><th>Embarked</th></tr><tr><td>i64</td><td>i64</td><td>i64</td><td>str</td><td>str</td><td>f64</td><td>i64</td><td>i64</td><td>str</td><td>f64</td><td>str</td><td>str</td></tr></thead><tbody><tr><td>21</td><td>0</td><td>2</td><td>&quot;Fynney, Mr. Joseph J&quot;</td><td>&quot;male&quot;</td><td>35.0</td><td>0</td><td>0</td><td>&quot;239865&quot;</td><td>26.0</td><td>null</td><td>&quot;S&quot;</td></tr><tr><td>22</td><td>1</td><td>2</td><td>&quot;Beesley, Mr. Lawrence&quot;</td><td>&quot;male&quot;</td><td>34.0</td><td>0</td><td>0</td><td>&quot;248698&quot;</td><td>13.0</td><td>&quot;D56&quot;</td><td>&quot;S&quot;</td></tr><tr><td>71</td><td>0</td><td>2</td><td>&quot;Jenkin, Mr. Stephen Curnow&quot;</td><td>&quot;male&quot;</td><td>32.0</td><td>0</td><td>0</td><td>&quot;C.A. 33111&quot;</td><td>10.5</td><td>null</td><td>&quot;S&quot;</td></tr><tr><td>99</td><td>1</td><td>2</td><td>&quot;Doling, Mrs. John T (Ada Julia…</td><td>&quot;female&quot;</td><td>34.0</td><td>0</td><td>1</td><td>&quot;231919&quot;</td><td>23.0</td><td>null</td><td>&quot;S&quot;</td></tr><tr><td>100</td><td>0</td><td>2</td><td>&quot;Kantor, Mr. Sinai&quot;</td><td>&quot;male&quot;</td><td>34.0</td><td>1</td><td>0</td><td>&quot;244367&quot;</td><td>26.0</td><td>null</td><td>&quot;S&quot;</td></tr><tr><td>&hellip;</td><td>&hellip;</td><td>&hellip;</td><td>&hellip;</td><td>&hellip;</td><td>&hellip;</td><td>&hellip;</td><td>&hellip;</td><td>&hellip;</td><td>&hellip;</td><td>&hellip;</td><td>&hellip;</td></tr><tr><td>809</td><td>0</td><td>2</td><td>&quot;Meyer, Mr. August&quot;</td><td>&quot;male&quot;</td><td>39.0</td><td>0</td><td>0</td><td>&quot;248723&quot;</td><td>13.0</td><td>null</td><td>&quot;S&quot;</td></tr><tr><td>813</td><td>0</td><td>2</td><td>&quot;Slemen, Mr. Richard James&quot;</td><td>&quot;male&quot;</td><td>35.0</td><td>0</td><td>0</td><td>&quot;28206&quot;</td><td>10.5</td><td>null</td><td>&quot;S&quot;</td></tr><tr><td>818</td><td>0</td><td>2</td><td>&quot;Mallet, Mr. Albert&quot;</td><td>&quot;male&quot;</td><td>31.0</td><td>1</td><td>1</td><td>&quot;S.C./PARIS 2079&quot;</td><td>37.0042</td><td>null</td><td>&quot;C&quot;</td></tr><tr><td>855</td><td>0</td><td>2</td><td>&quot;Carter, Mrs. Ernest Courtenay …</td><td>&quot;female&quot;</td><td>44.0</td><td>1</td><td>0</td><td>&quot;244252&quot;</td><td>26.0</td><td>null</td><td>&quot;S&quot;</td></tr><tr><td>866</td><td>1</td><td>2</td><td>&quot;Bystrom, Mrs. (Karolina)&quot;</td><td>&quot;female&quot;</td><td>42.0</td><td>0</td><td>0</td><td>&quot;236852&quot;</td><td>13.0</td><td>null</td><td>&quot;S&quot;</td></tr></tbody></table></div>"
      ],
      "text/plain": [
       "shape: (70, 12)\n",
       "┌─────────────┬──────────┬────────┬──────────────────┬───┬────────────┬─────────┬───────┬──────────┐\n",
       "│ PassengerId ┆ Survived ┆ Pclass ┆ Name             ┆ … ┆ Ticket     ┆ Fare    ┆ Cabin ┆ Embarked │\n",
       "│ ---         ┆ ---      ┆ ---    ┆ ---              ┆   ┆ ---        ┆ ---     ┆ ---   ┆ ---      │\n",
       "│ i64         ┆ i64      ┆ i64    ┆ str              ┆   ┆ str        ┆ f64     ┆ str   ┆ str      │\n",
       "╞═════════════╪══════════╪════════╪══════════════════╪═══╪════════════╪═════════╪═══════╪══════════╡\n",
       "│ 21          ┆ 0        ┆ 2      ┆ Fynney, Mr.      ┆ … ┆ 239865     ┆ 26.0    ┆ null  ┆ S        │\n",
       "│             ┆          ┆        ┆ Joseph J         ┆   ┆            ┆         ┆       ┆          │\n",
       "│ 22          ┆ 1        ┆ 2      ┆ Beesley, Mr.     ┆ … ┆ 248698     ┆ 13.0    ┆ D56   ┆ S        │\n",
       "│             ┆          ┆        ┆ Lawrence         ┆   ┆            ┆         ┆       ┆          │\n",
       "│ 71          ┆ 0        ┆ 2      ┆ Jenkin, Mr.      ┆ … ┆ C.A. 33111 ┆ 10.5    ┆ null  ┆ S        │\n",
       "│             ┆          ┆        ┆ Stephen Curnow   ┆   ┆            ┆         ┆       ┆          │\n",
       "│ 99          ┆ 1        ┆ 2      ┆ Doling, Mrs.     ┆ … ┆ 231919     ┆ 23.0    ┆ null  ┆ S        │\n",
       "│             ┆          ┆        ┆ John T (Ada      ┆   ┆            ┆         ┆       ┆          │\n",
       "│             ┆          ┆        ┆ Julia…           ┆   ┆            ┆         ┆       ┆          │\n",
       "│ 100         ┆ 0        ┆ 2      ┆ Kantor, Mr.      ┆ … ┆ 244367     ┆ 26.0    ┆ null  ┆ S        │\n",
       "│             ┆          ┆        ┆ Sinai            ┆   ┆            ┆         ┆       ┆          │\n",
       "│ …           ┆ …        ┆ …      ┆ …                ┆ … ┆ …          ┆ …       ┆ …     ┆ …        │\n",
       "│ 809         ┆ 0        ┆ 2      ┆ Meyer, Mr.       ┆ … ┆ 248723     ┆ 13.0    ┆ null  ┆ S        │\n",
       "│             ┆          ┆        ┆ August           ┆   ┆            ┆         ┆       ┆          │\n",
       "│ 813         ┆ 0        ┆ 2      ┆ Slemen, Mr.      ┆ … ┆ 28206      ┆ 10.5    ┆ null  ┆ S        │\n",
       "│             ┆          ┆        ┆ Richard James    ┆   ┆            ┆         ┆       ┆          │\n",
       "│ 818         ┆ 0        ┆ 2      ┆ Mallet, Mr.      ┆ … ┆ S.C./PARIS ┆ 37.0042 ┆ null  ┆ C        │\n",
       "│             ┆          ┆        ┆ Albert           ┆   ┆ 2079       ┆         ┆       ┆          │\n",
       "│ 855         ┆ 0        ┆ 2      ┆ Carter, Mrs.     ┆ … ┆ 244252     ┆ 26.0    ┆ null  ┆ S        │\n",
       "│             ┆          ┆        ┆ Ernest Courtenay ┆   ┆            ┆         ┆       ┆          │\n",
       "│             ┆          ┆        ┆ …                ┆   ┆            ┆         ┆       ┆          │\n",
       "│ 866         ┆ 1        ┆ 2      ┆ Bystrom, Mrs.    ┆ … ┆ 236852     ┆ 13.0    ┆ null  ┆ S        │\n",
       "│             ┆          ┆        ┆ (Karolina)       ┆   ┆            ┆         ┆       ┆          │\n",
       "└─────────────┴──────────┴────────┴──────────────────┴───┴────────────┴─────────┴───────┴──────────┘"
      ]
     },
     "execution_count": 80,
     "metadata": {},
     "output_type": "execute_result"
    }
   ],
   "source": [
    "(\n",
    "    pl.read_csv(csv_file)\n",
    "    .filter\n",
    "    (\n",
    "        pl.col(\"Age\").is_between(30, 50),\n",
    "        pl.col(\"Pclass\") == 2\n",
    "    )\n",
    ")"
   ]
  },
  {
   "cell_type": "markdown",
   "id": "55ff09f7-4a93-4ee0-8350-a8a1068fa850",
   "metadata": {},
   "source": [
    "Do this again combining the range condition with the keyword approach for the 2nd class condition - does the order you pass the conditions matter?"
   ]
  },
  {
   "cell_type": "code",
   "execution_count": 81,
   "id": "5fe7cc2b-3b4e-48ec-9b8d-df239d62064b",
   "metadata": {},
   "outputs": [
    {
     "data": {
      "text/html": [
       "<div><style>\n",
       ".dataframe > thead > tr,\n",
       ".dataframe > tbody > tr {\n",
       "  text-align: right;\n",
       "  white-space: pre-wrap;\n",
       "}\n",
       "</style>\n",
       "<small>shape: (70, 12)</small><table border=\"1\" class=\"dataframe\"><thead><tr><th>PassengerId</th><th>Survived</th><th>Pclass</th><th>Name</th><th>Sex</th><th>Age</th><th>SibSp</th><th>Parch</th><th>Ticket</th><th>Fare</th><th>Cabin</th><th>Embarked</th></tr><tr><td>i64</td><td>i64</td><td>i64</td><td>str</td><td>str</td><td>f64</td><td>i64</td><td>i64</td><td>str</td><td>f64</td><td>str</td><td>str</td></tr></thead><tbody><tr><td>21</td><td>0</td><td>2</td><td>&quot;Fynney, Mr. Joseph J&quot;</td><td>&quot;male&quot;</td><td>35.0</td><td>0</td><td>0</td><td>&quot;239865&quot;</td><td>26.0</td><td>null</td><td>&quot;S&quot;</td></tr><tr><td>22</td><td>1</td><td>2</td><td>&quot;Beesley, Mr. Lawrence&quot;</td><td>&quot;male&quot;</td><td>34.0</td><td>0</td><td>0</td><td>&quot;248698&quot;</td><td>13.0</td><td>&quot;D56&quot;</td><td>&quot;S&quot;</td></tr><tr><td>71</td><td>0</td><td>2</td><td>&quot;Jenkin, Mr. Stephen Curnow&quot;</td><td>&quot;male&quot;</td><td>32.0</td><td>0</td><td>0</td><td>&quot;C.A. 33111&quot;</td><td>10.5</td><td>null</td><td>&quot;S&quot;</td></tr><tr><td>99</td><td>1</td><td>2</td><td>&quot;Doling, Mrs. John T (Ada Julia…</td><td>&quot;female&quot;</td><td>34.0</td><td>0</td><td>1</td><td>&quot;231919&quot;</td><td>23.0</td><td>null</td><td>&quot;S&quot;</td></tr><tr><td>100</td><td>0</td><td>2</td><td>&quot;Kantor, Mr. Sinai&quot;</td><td>&quot;male&quot;</td><td>34.0</td><td>1</td><td>0</td><td>&quot;244367&quot;</td><td>26.0</td><td>null</td><td>&quot;S&quot;</td></tr><tr><td>&hellip;</td><td>&hellip;</td><td>&hellip;</td><td>&hellip;</td><td>&hellip;</td><td>&hellip;</td><td>&hellip;</td><td>&hellip;</td><td>&hellip;</td><td>&hellip;</td><td>&hellip;</td><td>&hellip;</td></tr><tr><td>809</td><td>0</td><td>2</td><td>&quot;Meyer, Mr. August&quot;</td><td>&quot;male&quot;</td><td>39.0</td><td>0</td><td>0</td><td>&quot;248723&quot;</td><td>13.0</td><td>null</td><td>&quot;S&quot;</td></tr><tr><td>813</td><td>0</td><td>2</td><td>&quot;Slemen, Mr. Richard James&quot;</td><td>&quot;male&quot;</td><td>35.0</td><td>0</td><td>0</td><td>&quot;28206&quot;</td><td>10.5</td><td>null</td><td>&quot;S&quot;</td></tr><tr><td>818</td><td>0</td><td>2</td><td>&quot;Mallet, Mr. Albert&quot;</td><td>&quot;male&quot;</td><td>31.0</td><td>1</td><td>1</td><td>&quot;S.C./PARIS 2079&quot;</td><td>37.0042</td><td>null</td><td>&quot;C&quot;</td></tr><tr><td>855</td><td>0</td><td>2</td><td>&quot;Carter, Mrs. Ernest Courtenay …</td><td>&quot;female&quot;</td><td>44.0</td><td>1</td><td>0</td><td>&quot;244252&quot;</td><td>26.0</td><td>null</td><td>&quot;S&quot;</td></tr><tr><td>866</td><td>1</td><td>2</td><td>&quot;Bystrom, Mrs. (Karolina)&quot;</td><td>&quot;female&quot;</td><td>42.0</td><td>0</td><td>0</td><td>&quot;236852&quot;</td><td>13.0</td><td>null</td><td>&quot;S&quot;</td></tr></tbody></table></div>"
      ],
      "text/plain": [
       "shape: (70, 12)\n",
       "┌─────────────┬──────────┬────────┬──────────────────┬───┬────────────┬─────────┬───────┬──────────┐\n",
       "│ PassengerId ┆ Survived ┆ Pclass ┆ Name             ┆ … ┆ Ticket     ┆ Fare    ┆ Cabin ┆ Embarked │\n",
       "│ ---         ┆ ---      ┆ ---    ┆ ---              ┆   ┆ ---        ┆ ---     ┆ ---   ┆ ---      │\n",
       "│ i64         ┆ i64      ┆ i64    ┆ str              ┆   ┆ str        ┆ f64     ┆ str   ┆ str      │\n",
       "╞═════════════╪══════════╪════════╪══════════════════╪═══╪════════════╪═════════╪═══════╪══════════╡\n",
       "│ 21          ┆ 0        ┆ 2      ┆ Fynney, Mr.      ┆ … ┆ 239865     ┆ 26.0    ┆ null  ┆ S        │\n",
       "│             ┆          ┆        ┆ Joseph J         ┆   ┆            ┆         ┆       ┆          │\n",
       "│ 22          ┆ 1        ┆ 2      ┆ Beesley, Mr.     ┆ … ┆ 248698     ┆ 13.0    ┆ D56   ┆ S        │\n",
       "│             ┆          ┆        ┆ Lawrence         ┆   ┆            ┆         ┆       ┆          │\n",
       "│ 71          ┆ 0        ┆ 2      ┆ Jenkin, Mr.      ┆ … ┆ C.A. 33111 ┆ 10.5    ┆ null  ┆ S        │\n",
       "│             ┆          ┆        ┆ Stephen Curnow   ┆   ┆            ┆         ┆       ┆          │\n",
       "│ 99          ┆ 1        ┆ 2      ┆ Doling, Mrs.     ┆ … ┆ 231919     ┆ 23.0    ┆ null  ┆ S        │\n",
       "│             ┆          ┆        ┆ John T (Ada      ┆   ┆            ┆         ┆       ┆          │\n",
       "│             ┆          ┆        ┆ Julia…           ┆   ┆            ┆         ┆       ┆          │\n",
       "│ 100         ┆ 0        ┆ 2      ┆ Kantor, Mr.      ┆ … ┆ 244367     ┆ 26.0    ┆ null  ┆ S        │\n",
       "│             ┆          ┆        ┆ Sinai            ┆   ┆            ┆         ┆       ┆          │\n",
       "│ …           ┆ …        ┆ …      ┆ …                ┆ … ┆ …          ┆ …       ┆ …     ┆ …        │\n",
       "│ 809         ┆ 0        ┆ 2      ┆ Meyer, Mr.       ┆ … ┆ 248723     ┆ 13.0    ┆ null  ┆ S        │\n",
       "│             ┆          ┆        ┆ August           ┆   ┆            ┆         ┆       ┆          │\n",
       "│ 813         ┆ 0        ┆ 2      ┆ Slemen, Mr.      ┆ … ┆ 28206      ┆ 10.5    ┆ null  ┆ S        │\n",
       "│             ┆          ┆        ┆ Richard James    ┆   ┆            ┆         ┆       ┆          │\n",
       "│ 818         ┆ 0        ┆ 2      ┆ Mallet, Mr.      ┆ … ┆ S.C./PARIS ┆ 37.0042 ┆ null  ┆ C        │\n",
       "│             ┆          ┆        ┆ Albert           ┆   ┆ 2079       ┆         ┆       ┆          │\n",
       "│ 855         ┆ 0        ┆ 2      ┆ Carter, Mrs.     ┆ … ┆ 244252     ┆ 26.0    ┆ null  ┆ S        │\n",
       "│             ┆          ┆        ┆ Ernest Courtenay ┆   ┆            ┆         ┆       ┆          │\n",
       "│             ┆          ┆        ┆ …                ┆   ┆            ┆         ┆       ┆          │\n",
       "│ 866         ┆ 1        ┆ 2      ┆ Bystrom, Mrs.    ┆ … ┆ 236852     ┆ 13.0    ┆ null  ┆ S        │\n",
       "│             ┆          ┆        ┆ (Karolina)       ┆   ┆            ┆         ┆       ┆          │\n",
       "└─────────────┴──────────┴────────┴──────────────────┴───┴────────────┴─────────┴───────┴──────────┘"
      ]
     },
     "execution_count": 81,
     "metadata": {},
     "output_type": "execute_result"
    }
   ],
   "source": [
    "(\n",
    "    pl.read_csv(csv_file)\n",
    "    .filter\n",
    "    (\n",
    "        pl.col(\"Age\").is_between(30, 50),\n",
    "        Pclass = 2\n",
    "    )\n",
    ")"
   ]
  },
  {
   "cell_type": "markdown",
   "id": "9a90edc2-1903-4d1b-ac74-f8c8f5c6f51f",
   "metadata": {},
   "source": [
    "### Exercise 2\n",
    "Return all the rows of the `DataFrame` where at least one column on the row is `null` (excluding the `Cabin` column with many `null` values)"
   ]
  },
  {
   "cell_type": "code",
   "execution_count": 96,
   "id": "874ce438-a54f-478e-add3-666e8ec52b3e",
   "metadata": {},
   "outputs": [
    {
     "data": {
      "text/html": [
       "<div><style>\n",
       ".dataframe > thead > tr,\n",
       ".dataframe > tbody > tr {\n",
       "  text-align: right;\n",
       "  white-space: pre-wrap;\n",
       "}\n",
       "</style>\n",
       "<small>shape: (179, 11)</small><table border=\"1\" class=\"dataframe\"><thead><tr><th>PassengerId</th><th>Survived</th><th>Pclass</th><th>Name</th><th>Sex</th><th>Age</th><th>SibSp</th><th>Parch</th><th>Ticket</th><th>Fare</th><th>Embarked</th></tr><tr><td>i64</td><td>i64</td><td>i64</td><td>str</td><td>str</td><td>f64</td><td>i64</td><td>i64</td><td>str</td><td>f64</td><td>str</td></tr></thead><tbody><tr><td>6</td><td>0</td><td>3</td><td>&quot;Moran, Mr. James&quot;</td><td>&quot;male&quot;</td><td>null</td><td>0</td><td>0</td><td>&quot;330877&quot;</td><td>8.4583</td><td>&quot;Q&quot;</td></tr><tr><td>18</td><td>1</td><td>2</td><td>&quot;Williams, Mr. Charles Eugene&quot;</td><td>&quot;male&quot;</td><td>null</td><td>0</td><td>0</td><td>&quot;244373&quot;</td><td>13.0</td><td>&quot;S&quot;</td></tr><tr><td>20</td><td>1</td><td>3</td><td>&quot;Masselmani, Mrs. Fatima&quot;</td><td>&quot;female&quot;</td><td>null</td><td>0</td><td>0</td><td>&quot;2649&quot;</td><td>7.225</td><td>&quot;C&quot;</td></tr><tr><td>27</td><td>0</td><td>3</td><td>&quot;Emir, Mr. Farred Chehab&quot;</td><td>&quot;male&quot;</td><td>null</td><td>0</td><td>0</td><td>&quot;2631&quot;</td><td>7.225</td><td>&quot;C&quot;</td></tr><tr><td>29</td><td>1</td><td>3</td><td>&quot;O&#x27;Dwyer, Miss. Ellen &quot;Nellie&quot;&quot;</td><td>&quot;female&quot;</td><td>null</td><td>0</td><td>0</td><td>&quot;330959&quot;</td><td>7.8792</td><td>&quot;Q&quot;</td></tr><tr><td>&hellip;</td><td>&hellip;</td><td>&hellip;</td><td>&hellip;</td><td>&hellip;</td><td>&hellip;</td><td>&hellip;</td><td>&hellip;</td><td>&hellip;</td><td>&hellip;</td><td>&hellip;</td></tr><tr><td>860</td><td>0</td><td>3</td><td>&quot;Razi, Mr. Raihed&quot;</td><td>&quot;male&quot;</td><td>null</td><td>0</td><td>0</td><td>&quot;2629&quot;</td><td>7.2292</td><td>&quot;C&quot;</td></tr><tr><td>864</td><td>0</td><td>3</td><td>&quot;Sage, Miss. Dorothy Edith &quot;Dol…</td><td>&quot;female&quot;</td><td>null</td><td>8</td><td>2</td><td>&quot;CA. 2343&quot;</td><td>69.55</td><td>&quot;S&quot;</td></tr><tr><td>869</td><td>0</td><td>3</td><td>&quot;van Melkebeke, Mr. Philemon&quot;</td><td>&quot;male&quot;</td><td>null</td><td>0</td><td>0</td><td>&quot;345777&quot;</td><td>9.5</td><td>&quot;S&quot;</td></tr><tr><td>879</td><td>0</td><td>3</td><td>&quot;Laleff, Mr. Kristo&quot;</td><td>&quot;male&quot;</td><td>null</td><td>0</td><td>0</td><td>&quot;349217&quot;</td><td>7.8958</td><td>&quot;S&quot;</td></tr><tr><td>889</td><td>0</td><td>3</td><td>&quot;Johnston, Miss. Catherine Hele…</td><td>&quot;female&quot;</td><td>null</td><td>1</td><td>2</td><td>&quot;W./C. 6607&quot;</td><td>23.45</td><td>&quot;S&quot;</td></tr></tbody></table></div>"
      ],
      "text/plain": [
       "shape: (179, 11)\n",
       "┌─────────────┬──────────┬────────┬───────────────────┬───┬───────┬────────────┬────────┬──────────┐\n",
       "│ PassengerId ┆ Survived ┆ Pclass ┆ Name              ┆ … ┆ Parch ┆ Ticket     ┆ Fare   ┆ Embarked │\n",
       "│ ---         ┆ ---      ┆ ---    ┆ ---               ┆   ┆ ---   ┆ ---        ┆ ---    ┆ ---      │\n",
       "│ i64         ┆ i64      ┆ i64    ┆ str               ┆   ┆ i64   ┆ str        ┆ f64    ┆ str      │\n",
       "╞═════════════╪══════════╪════════╪═══════════════════╪═══╪═══════╪════════════╪════════╪══════════╡\n",
       "│ 6           ┆ 0        ┆ 3      ┆ Moran, Mr. James  ┆ … ┆ 0     ┆ 330877     ┆ 8.4583 ┆ Q        │\n",
       "│ 18          ┆ 1        ┆ 2      ┆ Williams, Mr.     ┆ … ┆ 0     ┆ 244373     ┆ 13.0   ┆ S        │\n",
       "│             ┆          ┆        ┆ Charles Eugene    ┆   ┆       ┆            ┆        ┆          │\n",
       "│ 20          ┆ 1        ┆ 3      ┆ Masselmani, Mrs.  ┆ … ┆ 0     ┆ 2649       ┆ 7.225  ┆ C        │\n",
       "│             ┆          ┆        ┆ Fatima            ┆   ┆       ┆            ┆        ┆          │\n",
       "│ 27          ┆ 0        ┆ 3      ┆ Emir, Mr. Farred  ┆ … ┆ 0     ┆ 2631       ┆ 7.225  ┆ C        │\n",
       "│             ┆          ┆        ┆ Chehab            ┆   ┆       ┆            ┆        ┆          │\n",
       "│ 29          ┆ 1        ┆ 3      ┆ O'Dwyer, Miss.    ┆ … ┆ 0     ┆ 330959     ┆ 7.8792 ┆ Q        │\n",
       "│             ┆          ┆        ┆ Ellen \"Nellie\"    ┆   ┆       ┆            ┆        ┆          │\n",
       "│ …           ┆ …        ┆ …      ┆ …                 ┆ … ┆ …     ┆ …          ┆ …      ┆ …        │\n",
       "│ 860         ┆ 0        ┆ 3      ┆ Razi, Mr. Raihed  ┆ … ┆ 0     ┆ 2629       ┆ 7.2292 ┆ C        │\n",
       "│ 864         ┆ 0        ┆ 3      ┆ Sage, Miss.       ┆ … ┆ 2     ┆ CA. 2343   ┆ 69.55  ┆ S        │\n",
       "│             ┆          ┆        ┆ Dorothy Edith     ┆   ┆       ┆            ┆        ┆          │\n",
       "│             ┆          ┆        ┆ \"Dol…             ┆   ┆       ┆            ┆        ┆          │\n",
       "│ 869         ┆ 0        ┆ 3      ┆ van Melkebeke,    ┆ … ┆ 0     ┆ 345777     ┆ 9.5    ┆ S        │\n",
       "│             ┆          ┆        ┆ Mr. Philemon      ┆   ┆       ┆            ┆        ┆          │\n",
       "│ 879         ┆ 0        ┆ 3      ┆ Laleff, Mr.       ┆ … ┆ 0     ┆ 349217     ┆ 7.8958 ┆ S        │\n",
       "│             ┆          ┆        ┆ Kristo            ┆   ┆       ┆            ┆        ┆          │\n",
       "│ 889         ┆ 0        ┆ 3      ┆ Johnston, Miss.   ┆ … ┆ 2     ┆ W./C. 6607 ┆ 23.45  ┆ S        │\n",
       "│             ┆          ┆        ┆ Catherine Hele…   ┆   ┆       ┆            ┆        ┆          │\n",
       "└─────────────┴──────────┴────────┴───────────────────┴───┴───────┴────────────┴────────┴──────────┘"
      ]
     },
     "execution_count": 96,
     "metadata": {},
     "output_type": "execute_result"
    }
   ],
   "source": [
    "(\n",
    "    pl.read_csv(csv_file)\n",
    "    .drop(\"Cabin\")\n",
    "    .filter(\n",
    "        pl.any_horizontal(\n",
    "            pl.all().is_null()\n",
    "        )\n",
    "    )\n",
    ")"
   ]
  },
  {
   "cell_type": "code",
   "execution_count": 84,
   "id": "9fb9d05f-bc9e-4698-ab6d-72cd3e2a32cd",
   "metadata": {},
   "outputs": [
    {
     "data": {
      "text/html": [
       "<div><style>\n",
       ".dataframe > thead > tr,\n",
       ".dataframe > tbody > tr {\n",
       "  text-align: right;\n",
       "  white-space: pre-wrap;\n",
       "}\n",
       "</style>\n",
       "<small>shape: (179, 11)</small><table border=\"1\" class=\"dataframe\"><thead><tr><th>PassengerId</th><th>Survived</th><th>Pclass</th><th>Name</th><th>Sex</th><th>Age</th><th>SibSp</th><th>Parch</th><th>Ticket</th><th>Fare</th><th>Embarked</th></tr><tr><td>i64</td><td>i64</td><td>i64</td><td>str</td><td>str</td><td>f64</td><td>i64</td><td>i64</td><td>str</td><td>f64</td><td>str</td></tr></thead><tbody><tr><td>6</td><td>0</td><td>3</td><td>&quot;Moran, Mr. James&quot;</td><td>&quot;male&quot;</td><td>null</td><td>0</td><td>0</td><td>&quot;330877&quot;</td><td>8.4583</td><td>&quot;Q&quot;</td></tr><tr><td>18</td><td>1</td><td>2</td><td>&quot;Williams, Mr. Charles Eugene&quot;</td><td>&quot;male&quot;</td><td>null</td><td>0</td><td>0</td><td>&quot;244373&quot;</td><td>13.0</td><td>&quot;S&quot;</td></tr><tr><td>20</td><td>1</td><td>3</td><td>&quot;Masselmani, Mrs. Fatima&quot;</td><td>&quot;female&quot;</td><td>null</td><td>0</td><td>0</td><td>&quot;2649&quot;</td><td>7.225</td><td>&quot;C&quot;</td></tr><tr><td>27</td><td>0</td><td>3</td><td>&quot;Emir, Mr. Farred Chehab&quot;</td><td>&quot;male&quot;</td><td>null</td><td>0</td><td>0</td><td>&quot;2631&quot;</td><td>7.225</td><td>&quot;C&quot;</td></tr><tr><td>29</td><td>1</td><td>3</td><td>&quot;O&#x27;Dwyer, Miss. Ellen &quot;Nellie&quot;&quot;</td><td>&quot;female&quot;</td><td>null</td><td>0</td><td>0</td><td>&quot;330959&quot;</td><td>7.8792</td><td>&quot;Q&quot;</td></tr><tr><td>&hellip;</td><td>&hellip;</td><td>&hellip;</td><td>&hellip;</td><td>&hellip;</td><td>&hellip;</td><td>&hellip;</td><td>&hellip;</td><td>&hellip;</td><td>&hellip;</td><td>&hellip;</td></tr><tr><td>860</td><td>0</td><td>3</td><td>&quot;Razi, Mr. Raihed&quot;</td><td>&quot;male&quot;</td><td>null</td><td>0</td><td>0</td><td>&quot;2629&quot;</td><td>7.2292</td><td>&quot;C&quot;</td></tr><tr><td>864</td><td>0</td><td>3</td><td>&quot;Sage, Miss. Dorothy Edith &quot;Dol…</td><td>&quot;female&quot;</td><td>null</td><td>8</td><td>2</td><td>&quot;CA. 2343&quot;</td><td>69.55</td><td>&quot;S&quot;</td></tr><tr><td>869</td><td>0</td><td>3</td><td>&quot;van Melkebeke, Mr. Philemon&quot;</td><td>&quot;male&quot;</td><td>null</td><td>0</td><td>0</td><td>&quot;345777&quot;</td><td>9.5</td><td>&quot;S&quot;</td></tr><tr><td>879</td><td>0</td><td>3</td><td>&quot;Laleff, Mr. Kristo&quot;</td><td>&quot;male&quot;</td><td>null</td><td>0</td><td>0</td><td>&quot;349217&quot;</td><td>7.8958</td><td>&quot;S&quot;</td></tr><tr><td>889</td><td>0</td><td>3</td><td>&quot;Johnston, Miss. Catherine Hele…</td><td>&quot;female&quot;</td><td>null</td><td>1</td><td>2</td><td>&quot;W./C. 6607&quot;</td><td>23.45</td><td>&quot;S&quot;</td></tr></tbody></table></div>"
      ],
      "text/plain": [
       "shape: (179, 11)\n",
       "┌─────────────┬──────────┬────────┬───────────────────┬───┬───────┬────────────┬────────┬──────────┐\n",
       "│ PassengerId ┆ Survived ┆ Pclass ┆ Name              ┆ … ┆ Parch ┆ Ticket     ┆ Fare   ┆ Embarked │\n",
       "│ ---         ┆ ---      ┆ ---    ┆ ---               ┆   ┆ ---   ┆ ---        ┆ ---    ┆ ---      │\n",
       "│ i64         ┆ i64      ┆ i64    ┆ str               ┆   ┆ i64   ┆ str        ┆ f64    ┆ str      │\n",
       "╞═════════════╪══════════╪════════╪═══════════════════╪═══╪═══════╪════════════╪════════╪══════════╡\n",
       "│ 6           ┆ 0        ┆ 3      ┆ Moran, Mr. James  ┆ … ┆ 0     ┆ 330877     ┆ 8.4583 ┆ Q        │\n",
       "│ 18          ┆ 1        ┆ 2      ┆ Williams, Mr.     ┆ … ┆ 0     ┆ 244373     ┆ 13.0   ┆ S        │\n",
       "│             ┆          ┆        ┆ Charles Eugene    ┆   ┆       ┆            ┆        ┆          │\n",
       "│ 20          ┆ 1        ┆ 3      ┆ Masselmani, Mrs.  ┆ … ┆ 0     ┆ 2649       ┆ 7.225  ┆ C        │\n",
       "│             ┆          ┆        ┆ Fatima            ┆   ┆       ┆            ┆        ┆          │\n",
       "│ 27          ┆ 0        ┆ 3      ┆ Emir, Mr. Farred  ┆ … ┆ 0     ┆ 2631       ┆ 7.225  ┆ C        │\n",
       "│             ┆          ┆        ┆ Chehab            ┆   ┆       ┆            ┆        ┆          │\n",
       "│ 29          ┆ 1        ┆ 3      ┆ O'Dwyer, Miss.    ┆ … ┆ 0     ┆ 330959     ┆ 7.8792 ┆ Q        │\n",
       "│             ┆          ┆        ┆ Ellen \"Nellie\"    ┆   ┆       ┆            ┆        ┆          │\n",
       "│ …           ┆ …        ┆ …      ┆ …                 ┆ … ┆ …     ┆ …          ┆ …      ┆ …        │\n",
       "│ 860         ┆ 0        ┆ 3      ┆ Razi, Mr. Raihed  ┆ … ┆ 0     ┆ 2629       ┆ 7.2292 ┆ C        │\n",
       "│ 864         ┆ 0        ┆ 3      ┆ Sage, Miss.       ┆ … ┆ 2     ┆ CA. 2343   ┆ 69.55  ┆ S        │\n",
       "│             ┆          ┆        ┆ Dorothy Edith     ┆   ┆       ┆            ┆        ┆          │\n",
       "│             ┆          ┆        ┆ \"Dol…             ┆   ┆       ┆            ┆        ┆          │\n",
       "│ 869         ┆ 0        ┆ 3      ┆ van Melkebeke,    ┆ … ┆ 0     ┆ 345777     ┆ 9.5    ┆ S        │\n",
       "│             ┆          ┆        ┆ Mr. Philemon      ┆   ┆       ┆            ┆        ┆          │\n",
       "│ 879         ┆ 0        ┆ 3      ┆ Laleff, Mr.       ┆ … ┆ 0     ┆ 349217     ┆ 7.8958 ┆ S        │\n",
       "│             ┆          ┆        ┆ Kristo            ┆   ┆       ┆            ┆        ┆          │\n",
       "│ 889         ┆ 0        ┆ 3      ┆ Johnston, Miss.   ┆ … ┆ 2     ┆ W./C. 6607 ┆ 23.45  ┆ S        │\n",
       "│             ┆          ┆        ┆ Catherine Hele…   ┆   ┆       ┆            ┆        ┆          │\n",
       "└─────────────┴──────────┴────────┴───────────────────┴───┴───────┴────────────┴────────┴──────────┘"
      ]
     },
     "execution_count": 84,
     "metadata": {},
     "output_type": "execute_result"
    }
   ],
   "source": [
    "(\n",
    "    pl.read_csv(csv_file)\n",
    "    .drop(\"Cabin\")\n",
    "    .filter\n",
    "    (\n",
    "        ~ pl.all_horizontal\n",
    "        (\n",
    "            pl.all().is_not_null()\n",
    "        )\n",
    "    )        \n",
    ")"
   ]
  },
  {
   "cell_type": "markdown",
   "id": "832330c1-2130-46d1-b469-6720098adbd4",
   "metadata": {},
   "source": [
    "### Exercise 3\n",
    "Create a `DataFrame` where the passengers got on in Cork (\"C\") or Southampton (\"S\") using the pipe operator"
   ]
  },
  {
   "cell_type": "code",
   "execution_count": 86,
   "id": "ef2983ab-bdab-4f46-b809-d82145a10775",
   "metadata": {},
   "outputs": [
    {
     "data": {
      "text/html": [
       "<div><style>\n",
       ".dataframe > thead > tr,\n",
       ".dataframe > tbody > tr {\n",
       "  text-align: right;\n",
       "  white-space: pre-wrap;\n",
       "}\n",
       "</style>\n",
       "<small>shape: (812, 12)</small><table border=\"1\" class=\"dataframe\"><thead><tr><th>PassengerId</th><th>Survived</th><th>Pclass</th><th>Name</th><th>Sex</th><th>Age</th><th>SibSp</th><th>Parch</th><th>Ticket</th><th>Fare</th><th>Cabin</th><th>Embarked</th></tr><tr><td>i64</td><td>i64</td><td>i64</td><td>str</td><td>str</td><td>f64</td><td>i64</td><td>i64</td><td>str</td><td>f64</td><td>str</td><td>str</td></tr></thead><tbody><tr><td>1</td><td>0</td><td>3</td><td>&quot;Braund, Mr. Owen Harris&quot;</td><td>&quot;male&quot;</td><td>22.0</td><td>1</td><td>0</td><td>&quot;A/5 21171&quot;</td><td>7.25</td><td>null</td><td>&quot;S&quot;</td></tr><tr><td>2</td><td>1</td><td>1</td><td>&quot;Cumings, Mrs. John Bradley (Fl…</td><td>&quot;female&quot;</td><td>38.0</td><td>1</td><td>0</td><td>&quot;PC 17599&quot;</td><td>71.2833</td><td>&quot;C85&quot;</td><td>&quot;C&quot;</td></tr><tr><td>3</td><td>1</td><td>3</td><td>&quot;Heikkinen, Miss. Laina&quot;</td><td>&quot;female&quot;</td><td>26.0</td><td>0</td><td>0</td><td>&quot;STON/O2. 3101282&quot;</td><td>7.925</td><td>null</td><td>&quot;S&quot;</td></tr><tr><td>4</td><td>1</td><td>1</td><td>&quot;Futrelle, Mrs. Jacques Heath (…</td><td>&quot;female&quot;</td><td>35.0</td><td>1</td><td>0</td><td>&quot;113803&quot;</td><td>53.1</td><td>&quot;C123&quot;</td><td>&quot;S&quot;</td></tr><tr><td>5</td><td>0</td><td>3</td><td>&quot;Allen, Mr. William Henry&quot;</td><td>&quot;male&quot;</td><td>35.0</td><td>0</td><td>0</td><td>&quot;373450&quot;</td><td>8.05</td><td>null</td><td>&quot;S&quot;</td></tr><tr><td>&hellip;</td><td>&hellip;</td><td>&hellip;</td><td>&hellip;</td><td>&hellip;</td><td>&hellip;</td><td>&hellip;</td><td>&hellip;</td><td>&hellip;</td><td>&hellip;</td><td>&hellip;</td><td>&hellip;</td></tr><tr><td>885</td><td>0</td><td>3</td><td>&quot;Sutehall, Mr. Henry Jr&quot;</td><td>&quot;male&quot;</td><td>25.0</td><td>0</td><td>0</td><td>&quot;SOTON/OQ 392076&quot;</td><td>7.05</td><td>null</td><td>&quot;S&quot;</td></tr><tr><td>887</td><td>0</td><td>2</td><td>&quot;Montvila, Rev. Juozas&quot;</td><td>&quot;male&quot;</td><td>27.0</td><td>0</td><td>0</td><td>&quot;211536&quot;</td><td>13.0</td><td>null</td><td>&quot;S&quot;</td></tr><tr><td>888</td><td>1</td><td>1</td><td>&quot;Graham, Miss. Margaret Edith&quot;</td><td>&quot;female&quot;</td><td>19.0</td><td>0</td><td>0</td><td>&quot;112053&quot;</td><td>30.0</td><td>&quot;B42&quot;</td><td>&quot;S&quot;</td></tr><tr><td>889</td><td>0</td><td>3</td><td>&quot;Johnston, Miss. Catherine Hele…</td><td>&quot;female&quot;</td><td>null</td><td>1</td><td>2</td><td>&quot;W./C. 6607&quot;</td><td>23.45</td><td>null</td><td>&quot;S&quot;</td></tr><tr><td>890</td><td>1</td><td>1</td><td>&quot;Behr, Mr. Karl Howell&quot;</td><td>&quot;male&quot;</td><td>26.0</td><td>0</td><td>0</td><td>&quot;111369&quot;</td><td>30.0</td><td>&quot;C148&quot;</td><td>&quot;C&quot;</td></tr></tbody></table></div>"
      ],
      "text/plain": [
       "shape: (812, 12)\n",
       "┌─────────────┬──────────┬────────┬──────────────────┬───┬────────────┬─────────┬───────┬──────────┐\n",
       "│ PassengerId ┆ Survived ┆ Pclass ┆ Name             ┆ … ┆ Ticket     ┆ Fare    ┆ Cabin ┆ Embarked │\n",
       "│ ---         ┆ ---      ┆ ---    ┆ ---              ┆   ┆ ---        ┆ ---     ┆ ---   ┆ ---      │\n",
       "│ i64         ┆ i64      ┆ i64    ┆ str              ┆   ┆ str        ┆ f64     ┆ str   ┆ str      │\n",
       "╞═════════════╪══════════╪════════╪══════════════════╪═══╪════════════╪═════════╪═══════╪══════════╡\n",
       "│ 1           ┆ 0        ┆ 3      ┆ Braund, Mr. Owen ┆ … ┆ A/5 21171  ┆ 7.25    ┆ null  ┆ S        │\n",
       "│             ┆          ┆        ┆ Harris           ┆   ┆            ┆         ┆       ┆          │\n",
       "│ 2           ┆ 1        ┆ 1      ┆ Cumings, Mrs.    ┆ … ┆ PC 17599   ┆ 71.2833 ┆ C85   ┆ C        │\n",
       "│             ┆          ┆        ┆ John Bradley     ┆   ┆            ┆         ┆       ┆          │\n",
       "│             ┆          ┆        ┆ (Fl…             ┆   ┆            ┆         ┆       ┆          │\n",
       "│ 3           ┆ 1        ┆ 3      ┆ Heikkinen, Miss. ┆ … ┆ STON/O2.   ┆ 7.925   ┆ null  ┆ S        │\n",
       "│             ┆          ┆        ┆ Laina            ┆   ┆ 3101282    ┆         ┆       ┆          │\n",
       "│ 4           ┆ 1        ┆ 1      ┆ Futrelle, Mrs.   ┆ … ┆ 113803     ┆ 53.1    ┆ C123  ┆ S        │\n",
       "│             ┆          ┆        ┆ Jacques Heath (… ┆   ┆            ┆         ┆       ┆          │\n",
       "│ 5           ┆ 0        ┆ 3      ┆ Allen, Mr.       ┆ … ┆ 373450     ┆ 8.05    ┆ null  ┆ S        │\n",
       "│             ┆          ┆        ┆ William Henry    ┆   ┆            ┆         ┆       ┆          │\n",
       "│ …           ┆ …        ┆ …      ┆ …                ┆ … ┆ …          ┆ …       ┆ …     ┆ …        │\n",
       "│ 885         ┆ 0        ┆ 3      ┆ Sutehall, Mr.    ┆ … ┆ SOTON/OQ   ┆ 7.05    ┆ null  ┆ S        │\n",
       "│             ┆          ┆        ┆ Henry Jr         ┆   ┆ 392076     ┆         ┆       ┆          │\n",
       "│ 887         ┆ 0        ┆ 2      ┆ Montvila, Rev.   ┆ … ┆ 211536     ┆ 13.0    ┆ null  ┆ S        │\n",
       "│             ┆          ┆        ┆ Juozas           ┆   ┆            ┆         ┆       ┆          │\n",
       "│ 888         ┆ 1        ┆ 1      ┆ Graham, Miss.    ┆ … ┆ 112053     ┆ 30.0    ┆ B42   ┆ S        │\n",
       "│             ┆          ┆        ┆ Margaret Edith   ┆   ┆            ┆         ┆       ┆          │\n",
       "│ 889         ┆ 0        ┆ 3      ┆ Johnston, Miss.  ┆ … ┆ W./C. 6607 ┆ 23.45   ┆ null  ┆ S        │\n",
       "│             ┆          ┆        ┆ Catherine Hele…  ┆   ┆            ┆         ┆       ┆          │\n",
       "│ 890         ┆ 1        ┆ 1      ┆ Behr, Mr. Karl   ┆ … ┆ 111369     ┆ 30.0    ┆ C148  ┆ C        │\n",
       "│             ┆          ┆        ┆ Howell           ┆   ┆            ┆         ┆       ┆          │\n",
       "└─────────────┴──────────┴────────┴──────────────────┴───┴────────────┴─────────┴───────┴──────────┘"
      ]
     },
     "execution_count": 86,
     "metadata": {},
     "output_type": "execute_result"
    }
   ],
   "source": [
    "(\n",
    "    pl.read_csv(csv_file)\n",
    "    .filter\n",
    "    (\n",
    "        (pl.col(\"Embarked\") == \"C\") | (pl.col(\"Embarked\") == \"S\") \n",
    "    )\n",
    ")"
   ]
  },
  {
   "cell_type": "markdown",
   "id": "b76ae426-7e11-4b29-9c3c-25dd594cb899",
   "metadata": {},
   "source": [
    "Do this again using the `is_in` approach"
   ]
  },
  {
   "cell_type": "code",
   "execution_count": 87,
   "id": "d4bdf681-16e7-4ddd-a9c2-78a108676368",
   "metadata": {},
   "outputs": [
    {
     "data": {
      "text/html": [
       "<div><style>\n",
       ".dataframe > thead > tr,\n",
       ".dataframe > tbody > tr {\n",
       "  text-align: right;\n",
       "  white-space: pre-wrap;\n",
       "}\n",
       "</style>\n",
       "<small>shape: (812, 12)</small><table border=\"1\" class=\"dataframe\"><thead><tr><th>PassengerId</th><th>Survived</th><th>Pclass</th><th>Name</th><th>Sex</th><th>Age</th><th>SibSp</th><th>Parch</th><th>Ticket</th><th>Fare</th><th>Cabin</th><th>Embarked</th></tr><tr><td>i64</td><td>i64</td><td>i64</td><td>str</td><td>str</td><td>f64</td><td>i64</td><td>i64</td><td>str</td><td>f64</td><td>str</td><td>str</td></tr></thead><tbody><tr><td>1</td><td>0</td><td>3</td><td>&quot;Braund, Mr. Owen Harris&quot;</td><td>&quot;male&quot;</td><td>22.0</td><td>1</td><td>0</td><td>&quot;A/5 21171&quot;</td><td>7.25</td><td>null</td><td>&quot;S&quot;</td></tr><tr><td>2</td><td>1</td><td>1</td><td>&quot;Cumings, Mrs. John Bradley (Fl…</td><td>&quot;female&quot;</td><td>38.0</td><td>1</td><td>0</td><td>&quot;PC 17599&quot;</td><td>71.2833</td><td>&quot;C85&quot;</td><td>&quot;C&quot;</td></tr><tr><td>3</td><td>1</td><td>3</td><td>&quot;Heikkinen, Miss. Laina&quot;</td><td>&quot;female&quot;</td><td>26.0</td><td>0</td><td>0</td><td>&quot;STON/O2. 3101282&quot;</td><td>7.925</td><td>null</td><td>&quot;S&quot;</td></tr><tr><td>4</td><td>1</td><td>1</td><td>&quot;Futrelle, Mrs. Jacques Heath (…</td><td>&quot;female&quot;</td><td>35.0</td><td>1</td><td>0</td><td>&quot;113803&quot;</td><td>53.1</td><td>&quot;C123&quot;</td><td>&quot;S&quot;</td></tr><tr><td>5</td><td>0</td><td>3</td><td>&quot;Allen, Mr. William Henry&quot;</td><td>&quot;male&quot;</td><td>35.0</td><td>0</td><td>0</td><td>&quot;373450&quot;</td><td>8.05</td><td>null</td><td>&quot;S&quot;</td></tr><tr><td>&hellip;</td><td>&hellip;</td><td>&hellip;</td><td>&hellip;</td><td>&hellip;</td><td>&hellip;</td><td>&hellip;</td><td>&hellip;</td><td>&hellip;</td><td>&hellip;</td><td>&hellip;</td><td>&hellip;</td></tr><tr><td>885</td><td>0</td><td>3</td><td>&quot;Sutehall, Mr. Henry Jr&quot;</td><td>&quot;male&quot;</td><td>25.0</td><td>0</td><td>0</td><td>&quot;SOTON/OQ 392076&quot;</td><td>7.05</td><td>null</td><td>&quot;S&quot;</td></tr><tr><td>887</td><td>0</td><td>2</td><td>&quot;Montvila, Rev. Juozas&quot;</td><td>&quot;male&quot;</td><td>27.0</td><td>0</td><td>0</td><td>&quot;211536&quot;</td><td>13.0</td><td>null</td><td>&quot;S&quot;</td></tr><tr><td>888</td><td>1</td><td>1</td><td>&quot;Graham, Miss. Margaret Edith&quot;</td><td>&quot;female&quot;</td><td>19.0</td><td>0</td><td>0</td><td>&quot;112053&quot;</td><td>30.0</td><td>&quot;B42&quot;</td><td>&quot;S&quot;</td></tr><tr><td>889</td><td>0</td><td>3</td><td>&quot;Johnston, Miss. Catherine Hele…</td><td>&quot;female&quot;</td><td>null</td><td>1</td><td>2</td><td>&quot;W./C. 6607&quot;</td><td>23.45</td><td>null</td><td>&quot;S&quot;</td></tr><tr><td>890</td><td>1</td><td>1</td><td>&quot;Behr, Mr. Karl Howell&quot;</td><td>&quot;male&quot;</td><td>26.0</td><td>0</td><td>0</td><td>&quot;111369&quot;</td><td>30.0</td><td>&quot;C148&quot;</td><td>&quot;C&quot;</td></tr></tbody></table></div>"
      ],
      "text/plain": [
       "shape: (812, 12)\n",
       "┌─────────────┬──────────┬────────┬──────────────────┬───┬────────────┬─────────┬───────┬──────────┐\n",
       "│ PassengerId ┆ Survived ┆ Pclass ┆ Name             ┆ … ┆ Ticket     ┆ Fare    ┆ Cabin ┆ Embarked │\n",
       "│ ---         ┆ ---      ┆ ---    ┆ ---              ┆   ┆ ---        ┆ ---     ┆ ---   ┆ ---      │\n",
       "│ i64         ┆ i64      ┆ i64    ┆ str              ┆   ┆ str        ┆ f64     ┆ str   ┆ str      │\n",
       "╞═════════════╪══════════╪════════╪══════════════════╪═══╪════════════╪═════════╪═══════╪══════════╡\n",
       "│ 1           ┆ 0        ┆ 3      ┆ Braund, Mr. Owen ┆ … ┆ A/5 21171  ┆ 7.25    ┆ null  ┆ S        │\n",
       "│             ┆          ┆        ┆ Harris           ┆   ┆            ┆         ┆       ┆          │\n",
       "│ 2           ┆ 1        ┆ 1      ┆ Cumings, Mrs.    ┆ … ┆ PC 17599   ┆ 71.2833 ┆ C85   ┆ C        │\n",
       "│             ┆          ┆        ┆ John Bradley     ┆   ┆            ┆         ┆       ┆          │\n",
       "│             ┆          ┆        ┆ (Fl…             ┆   ┆            ┆         ┆       ┆          │\n",
       "│ 3           ┆ 1        ┆ 3      ┆ Heikkinen, Miss. ┆ … ┆ STON/O2.   ┆ 7.925   ┆ null  ┆ S        │\n",
       "│             ┆          ┆        ┆ Laina            ┆   ┆ 3101282    ┆         ┆       ┆          │\n",
       "│ 4           ┆ 1        ┆ 1      ┆ Futrelle, Mrs.   ┆ … ┆ 113803     ┆ 53.1    ┆ C123  ┆ S        │\n",
       "│             ┆          ┆        ┆ Jacques Heath (… ┆   ┆            ┆         ┆       ┆          │\n",
       "│ 5           ┆ 0        ┆ 3      ┆ Allen, Mr.       ┆ … ┆ 373450     ┆ 8.05    ┆ null  ┆ S        │\n",
       "│             ┆          ┆        ┆ William Henry    ┆   ┆            ┆         ┆       ┆          │\n",
       "│ …           ┆ …        ┆ …      ┆ …                ┆ … ┆ …          ┆ …       ┆ …     ┆ …        │\n",
       "│ 885         ┆ 0        ┆ 3      ┆ Sutehall, Mr.    ┆ … ┆ SOTON/OQ   ┆ 7.05    ┆ null  ┆ S        │\n",
       "│             ┆          ┆        ┆ Henry Jr         ┆   ┆ 392076     ┆         ┆       ┆          │\n",
       "│ 887         ┆ 0        ┆ 2      ┆ Montvila, Rev.   ┆ … ┆ 211536     ┆ 13.0    ┆ null  ┆ S        │\n",
       "│             ┆          ┆        ┆ Juozas           ┆   ┆            ┆         ┆       ┆          │\n",
       "│ 888         ┆ 1        ┆ 1      ┆ Graham, Miss.    ┆ … ┆ 112053     ┆ 30.0    ┆ B42   ┆ S        │\n",
       "│             ┆          ┆        ┆ Margaret Edith   ┆   ┆            ┆         ┆       ┆          │\n",
       "│ 889         ┆ 0        ┆ 3      ┆ Johnston, Miss.  ┆ … ┆ W./C. 6607 ┆ 23.45   ┆ null  ┆ S        │\n",
       "│             ┆          ┆        ┆ Catherine Hele…  ┆   ┆            ┆         ┆       ┆          │\n",
       "│ 890         ┆ 1        ┆ 1      ┆ Behr, Mr. Karl   ┆ … ┆ 111369     ┆ 30.0    ┆ C148  ┆ C        │\n",
       "│             ┆          ┆        ┆ Howell           ┆   ┆            ┆         ┆       ┆          │\n",
       "└─────────────┴──────────┴────────┴──────────────────┴───┴────────────┴─────────┴───────┴──────────┘"
      ]
     },
     "execution_count": 87,
     "metadata": {},
     "output_type": "execute_result"
    }
   ],
   "source": [
    "(\n",
    "    df\n",
    "    .filter\n",
    "    (\n",
    "        pl.col(\"Embarked\").is_in([\"C\", \"S\"])\n",
    "    )\n",
    ")"
   ]
  },
  {
   "cell_type": "markdown",
   "id": "ef1e29bc-5112-47f3-aa0d-ff9a30a0a82b",
   "metadata": {},
   "source": [
    "### Exercise 4\n",
    "Load the Spotify CSV data into a `DataFrame`"
   ]
  },
  {
   "cell_type": "code",
   "execution_count": 90,
   "id": "951a25fa-3ac7-4f21-a413-bdf3ccba9f63",
   "metadata": {},
   "outputs": [
    {
     "data": {
      "text/html": [
       "<div><style>\n",
       ".dataframe > thead > tr,\n",
       ".dataframe > tbody > tr {\n",
       "  text-align: right;\n",
       "  white-space: pre-wrap;\n",
       "}\n",
       "</style>\n",
       "<small>shape: (5, 9)</small><table border=\"1\" class=\"dataframe\"><thead><tr><th>title</th><th>rank</th><th>date</th><th>artist</th><th>url</th><th>region</th><th>chart</th><th>trend</th><th>streams</th></tr><tr><td>str</td><td>i64</td><td>str</td><td>str</td><td>str</td><td>str</td><td>str</td><td>str</td><td>i64</td></tr></thead><tbody><tr><td>&quot;Starboy&quot;</td><td>1</td><td>&quot;2017-01-01&quot;</td><td>&quot;The Weeknd, Daft Punk&quot;</td><td>&quot;https://open.spotify.com/track…</td><td>&quot;Global&quot;</td><td>&quot;top200&quot;</td><td>&quot;SAME_POSITION&quot;</td><td>3135625</td></tr><tr><td>&quot;Closer&quot;</td><td>2</td><td>&quot;2017-01-01&quot;</td><td>&quot;The Chainsmokers, Halsey&quot;</td><td>&quot;https://open.spotify.com/track…</td><td>&quot;Global&quot;</td><td>&quot;top200&quot;</td><td>&quot;SAME_POSITION&quot;</td><td>3015525</td></tr><tr><td>&quot;Let Me Love You&quot;</td><td>3</td><td>&quot;2017-01-01&quot;</td><td>&quot;DJ Snake, Justin Bieber&quot;</td><td>&quot;https://open.spotify.com/track…</td><td>&quot;Global&quot;</td><td>&quot;top200&quot;</td><td>&quot;MOVE_UP&quot;</td><td>2545384</td></tr><tr><td>&quot;Rockabye (feat. Sean Paul &amp; An…</td><td>4</td><td>&quot;2017-01-01&quot;</td><td>&quot;Clean Bandit&quot;</td><td>&quot;https://open.spotify.com/track…</td><td>&quot;Global&quot;</td><td>&quot;top200&quot;</td><td>&quot;MOVE_DOWN&quot;</td><td>2356604</td></tr><tr><td>&quot;One Dance&quot;</td><td>5</td><td>&quot;2017-01-01&quot;</td><td>&quot;Drake, WizKid, Kyla&quot;</td><td>&quot;https://open.spotify.com/track…</td><td>&quot;Global&quot;</td><td>&quot;top200&quot;</td><td>&quot;SAME_POSITION&quot;</td><td>2259887</td></tr></tbody></table></div>"
      ],
      "text/plain": [
       "shape: (5, 9)\n",
       "┌───────────────┬──────┬────────────┬───────────────┬───┬────────┬────────┬──────────────┬─────────┐\n",
       "│ title         ┆ rank ┆ date       ┆ artist        ┆ … ┆ region ┆ chart  ┆ trend        ┆ streams │\n",
       "│ ---           ┆ ---  ┆ ---        ┆ ---           ┆   ┆ ---    ┆ ---    ┆ ---          ┆ ---     │\n",
       "│ str           ┆ i64  ┆ str        ┆ str           ┆   ┆ str    ┆ str    ┆ str          ┆ i64     │\n",
       "╞═══════════════╪══════╪════════════╪═══════════════╪═══╪════════╪════════╪══════════════╪═════════╡\n",
       "│ Starboy       ┆ 1    ┆ 2017-01-01 ┆ The Weeknd,   ┆ … ┆ Global ┆ top200 ┆ SAME_POSITIO ┆ 3135625 │\n",
       "│               ┆      ┆            ┆ Daft Punk     ┆   ┆        ┆        ┆ N            ┆         │\n",
       "│ Closer        ┆ 2    ┆ 2017-01-01 ┆ The           ┆ … ┆ Global ┆ top200 ┆ SAME_POSITIO ┆ 3015525 │\n",
       "│               ┆      ┆            ┆ Chainsmokers, ┆   ┆        ┆        ┆ N            ┆         │\n",
       "│               ┆      ┆            ┆ Halsey        ┆   ┆        ┆        ┆              ┆         │\n",
       "│ Let Me Love   ┆ 3    ┆ 2017-01-01 ┆ DJ Snake,     ┆ … ┆ Global ┆ top200 ┆ MOVE_UP      ┆ 2545384 │\n",
       "│ You           ┆      ┆            ┆ Justin Bieber ┆   ┆        ┆        ┆              ┆         │\n",
       "│ Rockabye      ┆ 4    ┆ 2017-01-01 ┆ Clean Bandit  ┆ … ┆ Global ┆ top200 ┆ MOVE_DOWN    ┆ 2356604 │\n",
       "│ (feat. Sean   ┆      ┆            ┆               ┆   ┆        ┆        ┆              ┆         │\n",
       "│ Paul & An…    ┆      ┆            ┆               ┆   ┆        ┆        ┆              ┆         │\n",
       "│ One Dance     ┆ 5    ┆ 2017-01-01 ┆ Drake,        ┆ … ┆ Global ┆ top200 ┆ SAME_POSITIO ┆ 2259887 │\n",
       "│               ┆      ┆            ┆ WizKid, Kyla  ┆   ┆        ┆        ┆ N            ┆         │\n",
       "└───────────────┴──────┴────────────┴───────────────┴───┴────────┴────────┴──────────────┴─────────┘"
      ]
     },
     "execution_count": 90,
     "metadata": {},
     "output_type": "execute_result"
    }
   ],
   "source": [
    "# pl.Config.set_fmt_str_lengths(30)\n",
    "spotify_csv = \"notebooks/data/spotify-charts-2017-2021-global-top200.csv.gz\"\n",
    "spotify_df = pl.read_csv(spotify_csv)\n",
    "spotify_df.head()"
   ]
  },
  {
   "cell_type": "markdown",
   "id": "b4f1f926-3c82-4315-acd6-15f6881d9fee",
   "metadata": {},
   "source": [
    "Find all rows where the number of streams is greater than 10 million and the trend is \"NEW_ENTRY\"  "
   ]
  },
  {
   "cell_type": "code",
   "execution_count": 92,
   "id": "4fba9b5e-1629-4416-9586-aa0e0b87ce92",
   "metadata": {},
   "outputs": [
    {
     "data": {
      "text/html": [
       "<div><style>\n",
       ".dataframe > thead > tr,\n",
       ".dataframe > tbody > tr {\n",
       "  text-align: right;\n",
       "  white-space: pre-wrap;\n",
       "}\n",
       "</style>\n",
       "<small>shape: (6, 9)</small><table border=\"1\" class=\"dataframe\"><thead><tr><th>title</th><th>rank</th><th>date</th><th>artist</th><th>url</th><th>region</th><th>chart</th><th>trend</th><th>streams</th></tr><tr><td>str</td><td>i64</td><td>str</td><td>str</td><td>str</td><td>str</td><td>str</td><td>str</td><td>i64</td></tr></thead><tbody><tr><td>&quot;I Don&#x27;t Care (with Justin Bieb…</td><td>1</td><td>&quot;2019-05-10&quot;</td><td>&quot;Ed Sheeran&quot;</td><td>&quot;https://open.spotify.com/track…</td><td>&quot;Global&quot;</td><td>&quot;top200&quot;</td><td>&quot;NEW_ENTRY&quot;</td><td>10977389</td></tr><tr><td>&quot;Butter&quot;</td><td>2</td><td>&quot;2021-05-21&quot;</td><td>&quot;BTS&quot;</td><td>&quot;https://open.spotify.com/track…</td><td>&quot;Global&quot;</td><td>&quot;top200&quot;</td><td>&quot;NEW_ENTRY&quot;</td><td>11042335</td></tr><tr><td>&quot;Girls Want Girls (with Lil Bab…</td><td>1</td><td>&quot;2021-09-03&quot;</td><td>&quot;Drake&quot;</td><td>&quot;https://open.spotify.com/track…</td><td>&quot;Global&quot;</td><td>&quot;top200&quot;</td><td>&quot;NEW_ENTRY&quot;</td><td>12384750</td></tr><tr><td>&quot;Champagne Poetry&quot;</td><td>2</td><td>&quot;2021-09-03&quot;</td><td>&quot;Drake&quot;</td><td>&quot;https://open.spotify.com/track…</td><td>&quot;Global&quot;</td><td>&quot;top200&quot;</td><td>&quot;NEW_ENTRY&quot;</td><td>11696783</td></tr><tr><td>&quot;Fair Trade (with Travis Scott)&quot;</td><td>3</td><td>&quot;2021-09-03&quot;</td><td>&quot;Drake&quot;</td><td>&quot;https://open.spotify.com/track…</td><td>&quot;Global&quot;</td><td>&quot;top200&quot;</td><td>&quot;NEW_ENTRY&quot;</td><td>11642541</td></tr><tr><td>&quot;Papi’s Home&quot;</td><td>5</td><td>&quot;2021-09-03&quot;</td><td>&quot;Drake&quot;</td><td>&quot;https://open.spotify.com/track…</td><td>&quot;Global&quot;</td><td>&quot;top200&quot;</td><td>&quot;NEW_ENTRY&quot;</td><td>10029292</td></tr></tbody></table></div>"
      ],
      "text/plain": [
       "shape: (6, 9)\n",
       "┌────────────────────┬──────┬────────────┬────────────┬───┬────────┬────────┬───────────┬──────────┐\n",
       "│ title              ┆ rank ┆ date       ┆ artist     ┆ … ┆ region ┆ chart  ┆ trend     ┆ streams  │\n",
       "│ ---                ┆ ---  ┆ ---        ┆ ---        ┆   ┆ ---    ┆ ---    ┆ ---       ┆ ---      │\n",
       "│ str                ┆ i64  ┆ str        ┆ str        ┆   ┆ str    ┆ str    ┆ str       ┆ i64      │\n",
       "╞════════════════════╪══════╪════════════╪════════════╪═══╪════════╪════════╪═══════════╪══════════╡\n",
       "│ I Don't Care (with ┆ 1    ┆ 2019-05-10 ┆ Ed Sheeran ┆ … ┆ Global ┆ top200 ┆ NEW_ENTRY ┆ 10977389 │\n",
       "│ Justin Bieb…       ┆      ┆            ┆            ┆   ┆        ┆        ┆           ┆          │\n",
       "│ Butter             ┆ 2    ┆ 2021-05-21 ┆ BTS        ┆ … ┆ Global ┆ top200 ┆ NEW_ENTRY ┆ 11042335 │\n",
       "│ Girls Want Girls   ┆ 1    ┆ 2021-09-03 ┆ Drake      ┆ … ┆ Global ┆ top200 ┆ NEW_ENTRY ┆ 12384750 │\n",
       "│ (with Lil Bab…     ┆      ┆            ┆            ┆   ┆        ┆        ┆           ┆          │\n",
       "│ Champagne Poetry   ┆ 2    ┆ 2021-09-03 ┆ Drake      ┆ … ┆ Global ┆ top200 ┆ NEW_ENTRY ┆ 11696783 │\n",
       "│ Fair Trade (with   ┆ 3    ┆ 2021-09-03 ┆ Drake      ┆ … ┆ Global ┆ top200 ┆ NEW_ENTRY ┆ 11642541 │\n",
       "│ Travis Scott)      ┆      ┆            ┆            ┆   ┆        ┆        ┆           ┆          │\n",
       "│ Papi’s Home        ┆ 5    ┆ 2021-09-03 ┆ Drake      ┆ … ┆ Global ┆ top200 ┆ NEW_ENTRY ┆ 10029292 │\n",
       "└────────────────────┴──────┴────────────┴────────────┴───┴────────┴────────┴───────────┴──────────┘"
      ]
     },
     "execution_count": 92,
     "metadata": {},
     "output_type": "execute_result"
    }
   ],
   "source": [
    "(\n",
    "    spotify_df\n",
    "    .filter\n",
    "    (\n",
    "        pl.col(\"streams\") > 10_000_000,\n",
    "        pl.col(\"trend\") == \"NEW_ENTRY\"\n",
    "    )\n",
    ")"
   ]
  },
  {
   "cell_type": "markdown",
   "id": "6e6479dd-11c4-4a51-a86e-756cd7a387ba",
   "metadata": {},
   "source": [
    "Find the rows where the artist is either Drake or Ed Sheeran and the rank is less than (better than) 5"
   ]
  },
  {
   "cell_type": "code",
   "execution_count": 93,
   "id": "ba2e63e0-b01f-43ed-b17a-943eca040bfc",
   "metadata": {},
   "outputs": [
    {
     "data": {
      "text/html": [
       "<div><style>\n",
       ".dataframe > thead > tr,\n",
       ".dataframe > tbody > tr {\n",
       "  text-align: right;\n",
       "  white-space: pre-wrap;\n",
       "}\n",
       "</style>\n",
       "<small>shape: (795, 9)</small><table border=\"1\" class=\"dataframe\"><thead><tr><th>title</th><th>rank</th><th>date</th><th>artist</th><th>url</th><th>region</th><th>chart</th><th>trend</th><th>streams</th></tr><tr><td>str</td><td>i64</td><td>str</td><td>str</td><td>str</td><td>str</td><td>str</td><td>str</td><td>i64</td></tr></thead><tbody><tr><td>&quot;God&#x27;s Plan&quot;</td><td>1</td><td>&quot;2018-03-01&quot;</td><td>&quot;Drake&quot;</td><td>&quot;https://open.spotify.com/track…</td><td>&quot;Global&quot;</td><td>&quot;top200&quot;</td><td>&quot;SAME_POSITION&quot;</td><td>7572795</td></tr><tr><td>&quot;Shape of You&quot;</td><td>1</td><td>&quot;2017-02-01&quot;</td><td>&quot;Ed Sheeran&quot;</td><td>&quot;https://open.spotify.com/track…</td><td>&quot;Global&quot;</td><td>&quot;top200&quot;</td><td>&quot;SAME_POSITION&quot;</td><td>7549041</td></tr><tr><td>&quot;God&#x27;s Plan&quot;</td><td>1</td><td>&quot;2018-03-02&quot;</td><td>&quot;Drake&quot;</td><td>&quot;https://open.spotify.com/track…</td><td>&quot;Global&quot;</td><td>&quot;top200&quot;</td><td>&quot;SAME_POSITION&quot;</td><td>7817732</td></tr><tr><td>&quot;Shape of You&quot;</td><td>1</td><td>&quot;2017-02-02&quot;</td><td>&quot;Ed Sheeran&quot;</td><td>&quot;https://open.spotify.com/track…</td><td>&quot;Global&quot;</td><td>&quot;top200&quot;</td><td>&quot;SAME_POSITION&quot;</td><td>7602214</td></tr><tr><td>&quot;Shape of You&quot;</td><td>1</td><td>&quot;2017-02-03&quot;</td><td>&quot;Ed Sheeran&quot;</td><td>&quot;https://open.spotify.com/track…</td><td>&quot;Global&quot;</td><td>&quot;top200&quot;</td><td>&quot;SAME_POSITION&quot;</td><td>7881255</td></tr><tr><td>&hellip;</td><td>&hellip;</td><td>&hellip;</td><td>&hellip;</td><td>&hellip;</td><td>&hellip;</td><td>&hellip;</td><td>&hellip;</td><td>&hellip;</td></tr><tr><td>&quot;Shivers&quot;</td><td>4</td><td>&quot;2021-10-30&quot;</td><td>&quot;Ed Sheeran&quot;</td><td>&quot;https://open.spotify.com/track…</td><td>&quot;Global&quot;</td><td>&quot;top200&quot;</td><td>&quot;SAME_POSITION&quot;</td><td>4995236</td></tr><tr><td>&quot;Shivers&quot;</td><td>4</td><td>&quot;2021-10-31&quot;</td><td>&quot;Ed Sheeran&quot;</td><td>&quot;https://open.spotify.com/track…</td><td>&quot;Global&quot;</td><td>&quot;top200&quot;</td><td>&quot;SAME_POSITION&quot;</td><td>4195481</td></tr><tr><td>&quot;God&#x27;s Plan&quot;</td><td>1</td><td>&quot;2018-01-29&quot;</td><td>&quot;Drake&quot;</td><td>&quot;https://open.spotify.com/track…</td><td>&quot;Global&quot;</td><td>&quot;top200&quot;</td><td>&quot;SAME_POSITION&quot;</td><td>7272380</td></tr><tr><td>&quot;God&#x27;s Plan&quot;</td><td>1</td><td>&quot;2018-01-30&quot;</td><td>&quot;Drake&quot;</td><td>&quot;https://open.spotify.com/track…</td><td>&quot;Global&quot;</td><td>&quot;top200&quot;</td><td>&quot;SAME_POSITION&quot;</td><td>7468471</td></tr><tr><td>&quot;God&#x27;s Plan&quot;</td><td>1</td><td>&quot;2018-01-31&quot;</td><td>&quot;Drake&quot;</td><td>&quot;https://open.spotify.com/track…</td><td>&quot;Global&quot;</td><td>&quot;top200&quot;</td><td>&quot;SAME_POSITION&quot;</td><td>7341621</td></tr></tbody></table></div>"
      ],
      "text/plain": [
       "shape: (795, 9)\n",
       "┌──────────────┬──────┬────────────┬────────────┬───┬────────┬────────┬───────────────┬─────────┐\n",
       "│ title        ┆ rank ┆ date       ┆ artist     ┆ … ┆ region ┆ chart  ┆ trend         ┆ streams │\n",
       "│ ---          ┆ ---  ┆ ---        ┆ ---        ┆   ┆ ---    ┆ ---    ┆ ---           ┆ ---     │\n",
       "│ str          ┆ i64  ┆ str        ┆ str        ┆   ┆ str    ┆ str    ┆ str           ┆ i64     │\n",
       "╞══════════════╪══════╪════════════╪════════════╪═══╪════════╪════════╪═══════════════╪═════════╡\n",
       "│ God's Plan   ┆ 1    ┆ 2018-03-01 ┆ Drake      ┆ … ┆ Global ┆ top200 ┆ SAME_POSITION ┆ 7572795 │\n",
       "│ Shape of You ┆ 1    ┆ 2017-02-01 ┆ Ed Sheeran ┆ … ┆ Global ┆ top200 ┆ SAME_POSITION ┆ 7549041 │\n",
       "│ God's Plan   ┆ 1    ┆ 2018-03-02 ┆ Drake      ┆ … ┆ Global ┆ top200 ┆ SAME_POSITION ┆ 7817732 │\n",
       "│ Shape of You ┆ 1    ┆ 2017-02-02 ┆ Ed Sheeran ┆ … ┆ Global ┆ top200 ┆ SAME_POSITION ┆ 7602214 │\n",
       "│ Shape of You ┆ 1    ┆ 2017-02-03 ┆ Ed Sheeran ┆ … ┆ Global ┆ top200 ┆ SAME_POSITION ┆ 7881255 │\n",
       "│ …            ┆ …    ┆ …          ┆ …          ┆ … ┆ …      ┆ …      ┆ …             ┆ …       │\n",
       "│ Shivers      ┆ 4    ┆ 2021-10-30 ┆ Ed Sheeran ┆ … ┆ Global ┆ top200 ┆ SAME_POSITION ┆ 4995236 │\n",
       "│ Shivers      ┆ 4    ┆ 2021-10-31 ┆ Ed Sheeran ┆ … ┆ Global ┆ top200 ┆ SAME_POSITION ┆ 4195481 │\n",
       "│ God's Plan   ┆ 1    ┆ 2018-01-29 ┆ Drake      ┆ … ┆ Global ┆ top200 ┆ SAME_POSITION ┆ 7272380 │\n",
       "│ God's Plan   ┆ 1    ┆ 2018-01-30 ┆ Drake      ┆ … ┆ Global ┆ top200 ┆ SAME_POSITION ┆ 7468471 │\n",
       "│ God's Plan   ┆ 1    ┆ 2018-01-31 ┆ Drake      ┆ … ┆ Global ┆ top200 ┆ SAME_POSITION ┆ 7341621 │\n",
       "└──────────────┴──────┴────────────┴────────────┴───┴────────┴────────┴───────────────┴─────────┘"
      ]
     },
     "execution_count": 93,
     "metadata": {},
     "output_type": "execute_result"
    }
   ],
   "source": [
    "(\n",
    "    spotify_df\n",
    "    .filter\n",
    "    (\n",
    "        pl.col(\"artist\").is_in([\"Drake\", \"Ed Sheeran\"]),\n",
    "        pl.col(\"rank\") < 5\n",
    "    )\n",
    ")"
   ]
  },
  {
   "cell_type": "code",
   "execution_count": 94,
   "id": "2ab1dc66-3aa9-41c3-bbb4-a6087b2439ca",
   "metadata": {},
   "outputs": [
    {
     "data": {
      "text/html": [
       "<div><style>\n",
       ".dataframe > thead > tr,\n",
       ".dataframe > tbody > tr {\n",
       "  text-align: right;\n",
       "  white-space: pre-wrap;\n",
       "}\n",
       "</style>\n",
       "<small>shape: (795, 9)</small><table border=\"1\" class=\"dataframe\"><thead><tr><th>title</th><th>rank</th><th>date</th><th>artist</th><th>url</th><th>region</th><th>chart</th><th>trend</th><th>streams</th></tr><tr><td>str</td><td>i64</td><td>str</td><td>str</td><td>str</td><td>str</td><td>str</td><td>str</td><td>i64</td></tr></thead><tbody><tr><td>&quot;God&#x27;s Plan&quot;</td><td>1</td><td>&quot;2018-03-01&quot;</td><td>&quot;Drake&quot;</td><td>&quot;https://open.spotify.com/track…</td><td>&quot;Global&quot;</td><td>&quot;top200&quot;</td><td>&quot;SAME_POSITION&quot;</td><td>7572795</td></tr><tr><td>&quot;Shape of You&quot;</td><td>1</td><td>&quot;2017-02-01&quot;</td><td>&quot;Ed Sheeran&quot;</td><td>&quot;https://open.spotify.com/track…</td><td>&quot;Global&quot;</td><td>&quot;top200&quot;</td><td>&quot;SAME_POSITION&quot;</td><td>7549041</td></tr><tr><td>&quot;God&#x27;s Plan&quot;</td><td>1</td><td>&quot;2018-03-02&quot;</td><td>&quot;Drake&quot;</td><td>&quot;https://open.spotify.com/track…</td><td>&quot;Global&quot;</td><td>&quot;top200&quot;</td><td>&quot;SAME_POSITION&quot;</td><td>7817732</td></tr><tr><td>&quot;Shape of You&quot;</td><td>1</td><td>&quot;2017-02-02&quot;</td><td>&quot;Ed Sheeran&quot;</td><td>&quot;https://open.spotify.com/track…</td><td>&quot;Global&quot;</td><td>&quot;top200&quot;</td><td>&quot;SAME_POSITION&quot;</td><td>7602214</td></tr><tr><td>&quot;Shape of You&quot;</td><td>1</td><td>&quot;2017-02-03&quot;</td><td>&quot;Ed Sheeran&quot;</td><td>&quot;https://open.spotify.com/track…</td><td>&quot;Global&quot;</td><td>&quot;top200&quot;</td><td>&quot;SAME_POSITION&quot;</td><td>7881255</td></tr><tr><td>&hellip;</td><td>&hellip;</td><td>&hellip;</td><td>&hellip;</td><td>&hellip;</td><td>&hellip;</td><td>&hellip;</td><td>&hellip;</td><td>&hellip;</td></tr><tr><td>&quot;Shivers&quot;</td><td>4</td><td>&quot;2021-10-30&quot;</td><td>&quot;Ed Sheeran&quot;</td><td>&quot;https://open.spotify.com/track…</td><td>&quot;Global&quot;</td><td>&quot;top200&quot;</td><td>&quot;SAME_POSITION&quot;</td><td>4995236</td></tr><tr><td>&quot;Shivers&quot;</td><td>4</td><td>&quot;2021-10-31&quot;</td><td>&quot;Ed Sheeran&quot;</td><td>&quot;https://open.spotify.com/track…</td><td>&quot;Global&quot;</td><td>&quot;top200&quot;</td><td>&quot;SAME_POSITION&quot;</td><td>4195481</td></tr><tr><td>&quot;God&#x27;s Plan&quot;</td><td>1</td><td>&quot;2018-01-29&quot;</td><td>&quot;Drake&quot;</td><td>&quot;https://open.spotify.com/track…</td><td>&quot;Global&quot;</td><td>&quot;top200&quot;</td><td>&quot;SAME_POSITION&quot;</td><td>7272380</td></tr><tr><td>&quot;God&#x27;s Plan&quot;</td><td>1</td><td>&quot;2018-01-30&quot;</td><td>&quot;Drake&quot;</td><td>&quot;https://open.spotify.com/track…</td><td>&quot;Global&quot;</td><td>&quot;top200&quot;</td><td>&quot;SAME_POSITION&quot;</td><td>7468471</td></tr><tr><td>&quot;God&#x27;s Plan&quot;</td><td>1</td><td>&quot;2018-01-31&quot;</td><td>&quot;Drake&quot;</td><td>&quot;https://open.spotify.com/track…</td><td>&quot;Global&quot;</td><td>&quot;top200&quot;</td><td>&quot;SAME_POSITION&quot;</td><td>7341621</td></tr></tbody></table></div>"
      ],
      "text/plain": [
       "shape: (795, 9)\n",
       "┌──────────────┬──────┬────────────┬────────────┬───┬────────┬────────┬───────────────┬─────────┐\n",
       "│ title        ┆ rank ┆ date       ┆ artist     ┆ … ┆ region ┆ chart  ┆ trend         ┆ streams │\n",
       "│ ---          ┆ ---  ┆ ---        ┆ ---        ┆   ┆ ---    ┆ ---    ┆ ---           ┆ ---     │\n",
       "│ str          ┆ i64  ┆ str        ┆ str        ┆   ┆ str    ┆ str    ┆ str           ┆ i64     │\n",
       "╞══════════════╪══════╪════════════╪════════════╪═══╪════════╪════════╪═══════════════╪═════════╡\n",
       "│ God's Plan   ┆ 1    ┆ 2018-03-01 ┆ Drake      ┆ … ┆ Global ┆ top200 ┆ SAME_POSITION ┆ 7572795 │\n",
       "│ Shape of You ┆ 1    ┆ 2017-02-01 ┆ Ed Sheeran ┆ … ┆ Global ┆ top200 ┆ SAME_POSITION ┆ 7549041 │\n",
       "│ God's Plan   ┆ 1    ┆ 2018-03-02 ┆ Drake      ┆ … ┆ Global ┆ top200 ┆ SAME_POSITION ┆ 7817732 │\n",
       "│ Shape of You ┆ 1    ┆ 2017-02-02 ┆ Ed Sheeran ┆ … ┆ Global ┆ top200 ┆ SAME_POSITION ┆ 7602214 │\n",
       "│ Shape of You ┆ 1    ┆ 2017-02-03 ┆ Ed Sheeran ┆ … ┆ Global ┆ top200 ┆ SAME_POSITION ┆ 7881255 │\n",
       "│ …            ┆ …    ┆ …          ┆ …          ┆ … ┆ …      ┆ …      ┆ …             ┆ …       │\n",
       "│ Shivers      ┆ 4    ┆ 2021-10-30 ┆ Ed Sheeran ┆ … ┆ Global ┆ top200 ┆ SAME_POSITION ┆ 4995236 │\n",
       "│ Shivers      ┆ 4    ┆ 2021-10-31 ┆ Ed Sheeran ┆ … ┆ Global ┆ top200 ┆ SAME_POSITION ┆ 4195481 │\n",
       "│ God's Plan   ┆ 1    ┆ 2018-01-29 ┆ Drake      ┆ … ┆ Global ┆ top200 ┆ SAME_POSITION ┆ 7272380 │\n",
       "│ God's Plan   ┆ 1    ┆ 2018-01-30 ┆ Drake      ┆ … ┆ Global ┆ top200 ┆ SAME_POSITION ┆ 7468471 │\n",
       "│ God's Plan   ┆ 1    ┆ 2018-01-31 ┆ Drake      ┆ … ┆ Global ┆ top200 ┆ SAME_POSITION ┆ 7341621 │\n",
       "└──────────────┴──────┴────────────┴────────────┴───┴────────┴────────┴───────────────┴─────────┘"
      ]
     },
     "execution_count": 94,
     "metadata": {},
     "output_type": "execute_result"
    }
   ],
   "source": [
    "(\n",
    "    spotify_df\n",
    "    .filter(\n",
    "        pl.col(\"artist\").is_in([\"Drake\",\"Ed Sheeran\"])\n",
    "    )\n",
    "    .filter(pl.col(\"rank\")<5)\n",
    ")"
   ]
  },
  {
   "cell_type": "code",
   "execution_count": null,
   "id": "30ee3c7f-963a-4f50-8bbc-0ce3e78153b1",
   "metadata": {},
   "outputs": [],
   "source": []
  },
  {
   "cell_type": "markdown",
   "id": "1475739d-f8ab-488d-b20d-bc481e6b82c0",
   "metadata": {},
   "source": [
    "# Exercises\n",
    "\n",
    "In the exercises you will develop your understanding of:\n",
    "- selecting columns using `[]`\n",
    "- selecing rows and columns using `[]`\n"
   ]
  },
  {
   "cell_type": "markdown",
   "id": "da7f90d7-5e20-4e3c-8699-2697389b5150",
   "metadata": {},
   "source": [
    "### Exercise 1\n",
    "\n",
    "Choose the `Name` column as a `Series`"
   ]
  },
  {
   "cell_type": "code",
   "execution_count": 22,
   "id": "eb894d1a-b3a2-4309-82de-f825b41b6dfa",
   "metadata": {
    "tags": []
   },
   "outputs": [
    {
     "data": {
      "text/html": [
       "<div><style>\n",
       ".dataframe > thead > tr,\n",
       ".dataframe > tbody > tr {\n",
       "  text-align: right;\n",
       "  white-space: pre-wrap;\n",
       "}\n",
       "</style>\n",
       "<small>shape: (3,)</small><table border=\"1\" class=\"dataframe\"><thead><tr><th>Name</th></tr><tr><td>str</td></tr></thead><tbody><tr><td>&quot;Braund, Mr. Owen Harris&quot;</td></tr><tr><td>&quot;Cumings, Mrs. John Bradley (Fl…</td></tr><tr><td>&quot;Heikkinen, Miss. Laina&quot;</td></tr></tbody></table></div>"
      ],
      "text/plain": [
       "shape: (3,)\n",
       "Series: 'Name' [str]\n",
       "[\n",
       "\t\"Braund, Mr. Owen Harris\"\n",
       "\t\"Cumings, Mrs. John Bradley (Fl…\n",
       "\t\"Heikkinen, Miss. Laina\"\n",
       "]"
      ]
     },
     "execution_count": 22,
     "metadata": {},
     "output_type": "execute_result"
    }
   ],
   "source": [
    "df = pl.read_csv(csv_file)\n",
    "df['Name'].head(3)"
   ]
  },
  {
   "cell_type": "markdown",
   "id": "275e5c92-3223-498d-89a6-7f9c7601eac0",
   "metadata": {},
   "source": [
    "Choose the `Name` and `Fare` columns"
   ]
  },
  {
   "cell_type": "code",
   "execution_count": 23,
   "id": "d182f692-4218-4576-ba7c-03e99e3c2dd2",
   "metadata": {
    "tags": []
   },
   "outputs": [
    {
     "data": {
      "text/html": [
       "<div><style>\n",
       ".dataframe > thead > tr,\n",
       ".dataframe > tbody > tr {\n",
       "  text-align: right;\n",
       "  white-space: pre-wrap;\n",
       "}\n",
       "</style>\n",
       "<small>shape: (3, 2)</small><table border=\"1\" class=\"dataframe\"><thead><tr><th>Name</th><th>Fare</th></tr><tr><td>str</td><td>f64</td></tr></thead><tbody><tr><td>&quot;Braund, Mr. Owen Harris&quot;</td><td>7.25</td></tr><tr><td>&quot;Cumings, Mrs. John Bradley (Fl…</td><td>71.2833</td></tr><tr><td>&quot;Heikkinen, Miss. Laina&quot;</td><td>7.925</td></tr></tbody></table></div>"
      ],
      "text/plain": [
       "shape: (3, 2)\n",
       "┌─────────────────────────────────┬─────────┐\n",
       "│ Name                            ┆ Fare    │\n",
       "│ ---                             ┆ ---     │\n",
       "│ str                             ┆ f64     │\n",
       "╞═════════════════════════════════╪═════════╡\n",
       "│ Braund, Mr. Owen Harris         ┆ 7.25    │\n",
       "│ Cumings, Mrs. John Bradley (Fl… ┆ 71.2833 │\n",
       "│ Heikkinen, Miss. Laina          ┆ 7.925   │\n",
       "└─────────────────────────────────┴─────────┘"
      ]
     },
     "execution_count": 23,
     "metadata": {},
     "output_type": "execute_result"
    }
   ],
   "source": [
    "df = pl.read_csv(csv_file)\n",
    "df[['Name','Fare']].head(3)"
   ]
  },
  {
   "cell_type": "markdown",
   "id": "9e33e1e8-47ba-4795-93aa-5178a6fdae58",
   "metadata": {},
   "source": [
    "Choose all columns from `Name` to `Fare`"
   ]
  },
  {
   "cell_type": "code",
   "execution_count": 27,
   "id": "d4d3b07c-a860-47bc-a529-d8703b825f40",
   "metadata": {
    "tags": []
   },
   "outputs": [
    {
     "data": {
      "text/html": [
       "<div><style>\n",
       ".dataframe > thead > tr,\n",
       ".dataframe > tbody > tr {\n",
       "  text-align: right;\n",
       "  white-space: pre-wrap;\n",
       "}\n",
       "</style>\n",
       "<small>shape: (3, 7)</small><table border=\"1\" class=\"dataframe\"><thead><tr><th>Name</th><th>Sex</th><th>Age</th><th>SibSp</th><th>Parch</th><th>Ticket</th><th>Fare</th></tr><tr><td>str</td><td>str</td><td>f64</td><td>i64</td><td>i64</td><td>str</td><td>f64</td></tr></thead><tbody><tr><td>&quot;Braund, Mr. Owen Harris&quot;</td><td>&quot;male&quot;</td><td>22.0</td><td>1</td><td>0</td><td>&quot;A/5 21171&quot;</td><td>7.25</td></tr><tr><td>&quot;Cumings, Mrs. John Bradley (Fl…</td><td>&quot;female&quot;</td><td>38.0</td><td>1</td><td>0</td><td>&quot;PC 17599&quot;</td><td>71.2833</td></tr><tr><td>&quot;Heikkinen, Miss. Laina&quot;</td><td>&quot;female&quot;</td><td>26.0</td><td>0</td><td>0</td><td>&quot;STON/O2. 3101282&quot;</td><td>7.925</td></tr></tbody></table></div>"
      ],
      "text/plain": [
       "shape: (3, 7)\n",
       "┌─────────────────────────────────┬────────┬──────┬───────┬───────┬──────────────────┬─────────┐\n",
       "│ Name                            ┆ Sex    ┆ Age  ┆ SibSp ┆ Parch ┆ Ticket           ┆ Fare    │\n",
       "│ ---                             ┆ ---    ┆ ---  ┆ ---   ┆ ---   ┆ ---              ┆ ---     │\n",
       "│ str                             ┆ str    ┆ f64  ┆ i64   ┆ i64   ┆ str              ┆ f64     │\n",
       "╞═════════════════════════════════╪════════╪══════╪═══════╪═══════╪══════════════════╪═════════╡\n",
       "│ Braund, Mr. Owen Harris         ┆ male   ┆ 22.0 ┆ 1     ┆ 0     ┆ A/5 21171        ┆ 7.25    │\n",
       "│ Cumings, Mrs. John Bradley (Fl… ┆ female ┆ 38.0 ┆ 1     ┆ 0     ┆ PC 17599         ┆ 71.2833 │\n",
       "│ Heikkinen, Miss. Laina          ┆ female ┆ 26.0 ┆ 0     ┆ 0     ┆ STON/O2. 3101282 ┆ 7.925   │\n",
       "└─────────────────────────────────┴────────┴──────┴───────┴───────┴──────────────────┴─────────┘"
      ]
     },
     "execution_count": 27,
     "metadata": {},
     "output_type": "execute_result"
    }
   ],
   "source": [
    "df = pl.read_csv(csv_file)\n",
    "df[:,3:-2].head(3)"
   ]
  },
  {
   "cell_type": "markdown",
   "id": "eee0e987-8091-4261-884d-41b6d77798e0",
   "metadata": {},
   "source": [
    "### Exercise 2\n",
    "Choose the first 3 rows from the `Name` column as a `Series`"
   ]
  },
  {
   "cell_type": "code",
   "execution_count": 24,
   "id": "69efb478-584d-4608-acf4-f0eeb8471bf8",
   "metadata": {
    "tags": []
   },
   "outputs": [
    {
     "data": {
      "text/html": [
       "<div><style>\n",
       ".dataframe > thead > tr,\n",
       ".dataframe > tbody > tr {\n",
       "  text-align: right;\n",
       "  white-space: pre-wrap;\n",
       "}\n",
       "</style>\n",
       "<small>shape: (3,)</small><table border=\"1\" class=\"dataframe\"><thead><tr><th>Name</th></tr><tr><td>str</td></tr></thead><tbody><tr><td>&quot;Braund, Mr. Owen Harris&quot;</td></tr><tr><td>&quot;Cumings, Mrs. John Bradley (Fl…</td></tr><tr><td>&quot;Heikkinen, Miss. Laina&quot;</td></tr></tbody></table></div>"
      ],
      "text/plain": [
       "shape: (3,)\n",
       "Series: 'Name' [str]\n",
       "[\n",
       "\t\"Braund, Mr. Owen Harris\"\n",
       "\t\"Cumings, Mrs. John Bradley (Fl…\n",
       "\t\"Heikkinen, Miss. Laina\"\n",
       "]"
      ]
     },
     "execution_count": 24,
     "metadata": {},
     "output_type": "execute_result"
    }
   ],
   "source": [
    "df = pl.read_csv(csv_file)\n",
    "df[:3,'Name']"
   ]
  },
  {
   "cell_type": "markdown",
   "id": "33d369c0-a922-4461-834a-348d121d5ec3",
   "metadata": {},
   "source": [
    "Choose the second and third rows of all columns from `Name` to `Fare`"
   ]
  },
  {
   "cell_type": "code",
   "execution_count": 25,
   "id": "086d48a6-e7eb-4164-b45f-af1babe5573d",
   "metadata": {},
   "outputs": [
    {
     "name": "stdout",
     "output_type": "stream",
     "text": [
      "Rows: 891\n",
      "Columns: 12\n",
      "$ PassengerId <i64> 1, 2, 3, 4, 5, 6, 7, 8, 9, 10\n",
      "$ Survived    <i64> 0, 1, 1, 1, 0, 0, 0, 0, 1, 1\n",
      "$ Pclass      <i64> 3, 1, 3, 1, 3, 3, 1, 3, 3, 2\n",
      "$ Name        <str> 'Braund, Mr. Owen Harris', 'Cumings, Mrs. John Bradley (Florence Briggs Thayer)', 'Heikkinen, Miss. Laina', 'Futrelle, Mrs. Jacques Heath (Lily May Peel)', 'Allen, Mr. William Henry', 'Moran, Mr. James', 'McCarthy, Mr. Timothy J', 'Palsson, Master. Gosta Leonard', 'Johnson, Mrs. Oscar W (Elisabeth Vilhelmina Berg)', 'Nasser, Mrs. Nicholas (Adele Achem)'\n",
      "$ Sex         <str> 'male', 'female', 'female', 'female', 'male', 'male', 'male', 'male', 'female', 'female'\n",
      "$ Age         <f64> 22.0, 38.0, 26.0, 35.0, 35.0, None, 54.0, 2.0, 27.0, 14.0\n",
      "$ SibSp       <i64> 1, 1, 0, 1, 0, 0, 0, 3, 0, 1\n",
      "$ Parch       <i64> 0, 0, 0, 0, 0, 0, 0, 1, 2, 0\n",
      "$ Ticket      <str> 'A/5 21171', 'PC 17599', 'STON/O2. 3101282', '113803', '373450', '330877', '17463', '349909', '347742', '237736'\n",
      "$ Fare        <f64> 7.25, 71.2833, 7.925, 53.1, 8.05, 8.4583, 51.8625, 21.075, 11.1333, 30.0708\n",
      "$ Cabin       <str> None, 'C85', None, 'C123', None, None, 'E46', None, None, None\n",
      "$ Embarked    <str> 'S', 'C', 'S', 'S', 'S', 'Q', 'S', 'S', 'S', 'C'\n",
      "\n"
     ]
    }
   ],
   "source": [
    "df.glimpse()"
   ]
  },
  {
   "cell_type": "code",
   "execution_count": 29,
   "id": "6d857716-5877-4b22-8cfd-0d5ab39c3efc",
   "metadata": {
    "tags": []
   },
   "outputs": [
    {
     "data": {
      "text/html": [
       "<div><style>\n",
       ".dataframe > thead > tr,\n",
       ".dataframe > tbody > tr {\n",
       "  text-align: right;\n",
       "  white-space: pre-wrap;\n",
       "}\n",
       "</style>\n",
       "<small>shape: (2, 7)</small><table border=\"1\" class=\"dataframe\"><thead><tr><th>Name</th><th>Sex</th><th>Age</th><th>SibSp</th><th>Parch</th><th>Ticket</th><th>Fare</th></tr><tr><td>str</td><td>str</td><td>f64</td><td>i64</td><td>i64</td><td>str</td><td>f64</td></tr></thead><tbody><tr><td>&quot;Heikkinen, Miss. Laina&quot;</td><td>&quot;female&quot;</td><td>26.0</td><td>0</td><td>0</td><td>&quot;STON/O2. 3101282&quot;</td><td>7.925</td></tr><tr><td>&quot;Futrelle, Mrs. Jacques Heath (…</td><td>&quot;female&quot;</td><td>35.0</td><td>1</td><td>0</td><td>&quot;113803&quot;</td><td>53.1</td></tr></tbody></table></div>"
      ],
      "text/plain": [
       "shape: (2, 7)\n",
       "┌─────────────────────────────────┬────────┬──────┬───────┬───────┬──────────────────┬───────┐\n",
       "│ Name                            ┆ Sex    ┆ Age  ┆ SibSp ┆ Parch ┆ Ticket           ┆ Fare  │\n",
       "│ ---                             ┆ ---    ┆ ---  ┆ ---   ┆ ---   ┆ ---              ┆ ---   │\n",
       "│ str                             ┆ str    ┆ f64  ┆ i64   ┆ i64   ┆ str              ┆ f64   │\n",
       "╞═════════════════════════════════╪════════╪══════╪═══════╪═══════╪══════════════════╪═══════╡\n",
       "│ Heikkinen, Miss. Laina          ┆ female ┆ 26.0 ┆ 0     ┆ 0     ┆ STON/O2. 3101282 ┆ 7.925 │\n",
       "│ Futrelle, Mrs. Jacques Heath (… ┆ female ┆ 35.0 ┆ 1     ┆ 0     ┆ 113803           ┆ 53.1  │\n",
       "└─────────────────────────────────┴────────┴──────┴───────┴───────┴──────────────────┴───────┘"
      ]
     },
     "execution_count": 29,
     "metadata": {},
     "output_type": "execute_result"
    }
   ],
   "source": [
    "df = pl.read_csv(csv_file)\n",
    "df[2:4,3:-2]"
   ]
  },
  {
   "cell_type": "code",
   "execution_count": 31,
   "id": "8ec0c604-0c58-4a81-a62b-d470a7fbad7f",
   "metadata": {},
   "outputs": [
    {
     "data": {
      "text/html": [
       "<div><style>\n",
       ".dataframe > thead > tr,\n",
       ".dataframe > tbody > tr {\n",
       "  text-align: right;\n",
       "  white-space: pre-wrap;\n",
       "}\n",
       "</style>\n",
       "<small>shape: (2, 7)</small><table border=\"1\" class=\"dataframe\"><thead><tr><th>Name</th><th>Sex</th><th>Age</th><th>SibSp</th><th>Parch</th><th>Ticket</th><th>Fare</th></tr><tr><td>str</td><td>str</td><td>f64</td><td>i64</td><td>i64</td><td>str</td><td>f64</td></tr></thead><tbody><tr><td>&quot;Heikkinen, Miss. Laina&quot;</td><td>&quot;female&quot;</td><td>26.0</td><td>0</td><td>0</td><td>&quot;STON/O2. 3101282&quot;</td><td>7.925</td></tr><tr><td>&quot;Futrelle, Mrs. Jacques Heath (…</td><td>&quot;female&quot;</td><td>35.0</td><td>1</td><td>0</td><td>&quot;113803&quot;</td><td>53.1</td></tr></tbody></table></div>"
      ],
      "text/plain": [
       "shape: (2, 7)\n",
       "┌─────────────────────────────────┬────────┬──────┬───────┬───────┬──────────────────┬───────┐\n",
       "│ Name                            ┆ Sex    ┆ Age  ┆ SibSp ┆ Parch ┆ Ticket           ┆ Fare  │\n",
       "│ ---                             ┆ ---    ┆ ---  ┆ ---   ┆ ---   ┆ ---              ┆ ---   │\n",
       "│ str                             ┆ str    ┆ f64  ┆ i64   ┆ i64   ┆ str              ┆ f64   │\n",
       "╞═════════════════════════════════╪════════╪══════╪═══════╪═══════╪══════════════════╪═══════╡\n",
       "│ Heikkinen, Miss. Laina          ┆ female ┆ 26.0 ┆ 0     ┆ 0     ┆ STON/O2. 3101282 ┆ 7.925 │\n",
       "│ Futrelle, Mrs. Jacques Heath (… ┆ female ┆ 35.0 ┆ 1     ┆ 0     ┆ 113803           ┆ 53.1  │\n",
       "└─────────────────────────────────┴────────┴──────┴───────┴───────┴──────────────────┴───────┘"
      ]
     },
     "execution_count": 31,
     "metadata": {},
     "output_type": "execute_result"
    }
   ],
   "source": [
    "df[2:4, 'Name':'Fare']"
   ]
  },
  {
   "cell_type": "code",
   "execution_count": 34,
   "id": "76aa9a88-a834-493b-8225-b4fe3e8ac82d",
   "metadata": {},
   "outputs": [
    {
     "data": {
      "text/plain": [
       "'Braund, Mr. Owen Harris'"
      ]
     },
     "execution_count": 34,
     "metadata": {},
     "output_type": "execute_result"
    }
   ],
   "source": [
    "(\n",
    "    df\n",
    "    .select\n",
    "    (\n",
    "        pl.col(\"Name\").first()\n",
    "    )\n",
    "    .item()\n",
    ")\n",
    "    "
   ]
  },
  {
   "cell_type": "code",
   "execution_count": null,
   "id": "15e7656d-e2a2-4607-a5f9-656ec0dd1728",
   "metadata": {},
   "outputs": [],
   "source": []
  },
  {
   "cell_type": "markdown",
   "id": "249f3024-00ba-4868-b623-dd7fb50722c7",
   "metadata": {},
   "source": [
    "## Exercises\n",
    "\n",
    "In the exercises you will develop your understanding of:\n",
    "- selecting columns using the `select` method\n",
    "- transforming columns within the `select` method\n",
    "- using `select` in lazy mode"
   ]
  },
  {
   "cell_type": "markdown",
   "id": "0e687fd0-7276-4f87-b65a-7a2b8362d18e",
   "metadata": {},
   "source": [
    "### Exercise 1\n",
    "\n",
    "Select the `Age` and `Survived` columns using the Expression API\n",
    "\n",
    "Do this twice:\n",
    "- once using strings\n",
    "- once using expressions"
   ]
  },
  {
   "cell_type": "code",
   "execution_count": 35,
   "id": "49cd51f4-8925-4ba8-b6a4-7ecd2e652509",
   "metadata": {
    "tags": []
   },
   "outputs": [
    {
     "data": {
      "text/html": [
       "<div><style>\n",
       ".dataframe > thead > tr,\n",
       ".dataframe > tbody > tr {\n",
       "  text-align: right;\n",
       "  white-space: pre-wrap;\n",
       "}\n",
       "</style>\n",
       "<small>shape: (3, 2)</small><table border=\"1\" class=\"dataframe\"><thead><tr><th>Age</th><th>Survived</th></tr><tr><td>f64</td><td>i64</td></tr></thead><tbody><tr><td>22.0</td><td>0</td></tr><tr><td>38.0</td><td>1</td></tr><tr><td>26.0</td><td>1</td></tr></tbody></table></div>"
      ],
      "text/plain": [
       "shape: (3, 2)\n",
       "┌──────┬──────────┐\n",
       "│ Age  ┆ Survived │\n",
       "│ ---  ┆ ---      │\n",
       "│ f64  ┆ i64      │\n",
       "╞══════╪══════════╡\n",
       "│ 22.0 ┆ 0        │\n",
       "│ 38.0 ┆ 1        │\n",
       "│ 26.0 ┆ 1        │\n",
       "└──────┴──────────┘"
      ]
     },
     "execution_count": 35,
     "metadata": {},
     "output_type": "execute_result"
    }
   ],
   "source": [
    "df = pl.read_csv(csv_file)\n",
    "df.select(\"Age\", \"Survived\").head(3)\n",
    "df.select(pl.col(\"Age\"), pl.col(\"Survived\")).head(3)"
   ]
  },
  {
   "cell_type": "markdown",
   "id": "95e59399-7d94-4e62-8aec-0eb3464ed755",
   "metadata": {},
   "source": [
    "### Exercise 2\n",
    "Select all rows where `Age` is greater than 30 and output the `Age` and `Survived` columns"
   ]
  },
  {
   "cell_type": "code",
   "execution_count": 37,
   "id": "250aafb8-d299-404c-96e3-762034b56e84",
   "metadata": {
    "tags": []
   },
   "outputs": [
    {
     "data": {
      "text/html": [
       "<div><style>\n",
       ".dataframe > thead > tr,\n",
       ".dataframe > tbody > tr {\n",
       "  text-align: right;\n",
       "  white-space: pre-wrap;\n",
       "}\n",
       "</style>\n",
       "<small>shape: (3, 2)</small><table border=\"1\" class=\"dataframe\"><thead><tr><th>Age</th><th>Survived</th></tr><tr><td>f64</td><td>i64</td></tr></thead><tbody><tr><td>38.0</td><td>1</td></tr><tr><td>35.0</td><td>1</td></tr><tr><td>35.0</td><td>0</td></tr></tbody></table></div>"
      ],
      "text/plain": [
       "shape: (3, 2)\n",
       "┌──────┬──────────┐\n",
       "│ Age  ┆ Survived │\n",
       "│ ---  ┆ ---      │\n",
       "│ f64  ┆ i64      │\n",
       "╞══════╪══════════╡\n",
       "│ 38.0 ┆ 1        │\n",
       "│ 35.0 ┆ 1        │\n",
       "│ 35.0 ┆ 0        │\n",
       "└──────┴──────────┘"
      ]
     },
     "execution_count": 37,
     "metadata": {},
     "output_type": "execute_result"
    }
   ],
   "source": [
    "df = pl.read_csv(csv_file)\n",
    "(\n",
    "    df\n",
    "    .filter\n",
    "    (\n",
    "        pl.col(\"Age\") > 30\n",
    "    )\n",
    "    .select\n",
    "    (\n",
    "        \"Age\",\n",
    "        \"Survived\"\n",
    "    )\n",
    "    .head(3)\n",
    ")"
   ]
  },
  {
   "cell_type": "markdown",
   "id": "7a556824-49d4-422e-b32f-f9109c28d566",
   "metadata": {},
   "source": [
    "### Exercise 3\n",
    "Output a one-column DataFrame where the column is the `min` of the `Age` column"
   ]
  },
  {
   "cell_type": "code",
   "execution_count": 38,
   "id": "759799b1-e2f5-4614-a158-8a5522791ed0",
   "metadata": {
    "tags": []
   },
   "outputs": [
    {
     "data": {
      "text/html": [
       "<div><style>\n",
       ".dataframe > thead > tr,\n",
       ".dataframe > tbody > tr {\n",
       "  text-align: right;\n",
       "  white-space: pre-wrap;\n",
       "}\n",
       "</style>\n",
       "<small>shape: (1, 1)</small><table border=\"1\" class=\"dataframe\"><thead><tr><th>Age</th></tr><tr><td>f64</td></tr></thead><tbody><tr><td>0.42</td></tr></tbody></table></div>"
      ],
      "text/plain": [
       "shape: (1, 1)\n",
       "┌──────┐\n",
       "│ Age  │\n",
       "│ ---  │\n",
       "│ f64  │\n",
       "╞══════╡\n",
       "│ 0.42 │\n",
       "└──────┘"
      ]
     },
     "execution_count": 38,
     "metadata": {},
     "output_type": "execute_result"
    }
   ],
   "source": [
    "(\n",
    "    pl.read_csv(csv_file)\n",
    "    .select\n",
    "    (\n",
    "        pl.col(\"Age\").min()\n",
    "    )\n",
    ")"
   ]
  },
  {
   "cell_type": "markdown",
   "id": "44f95825-659e-4837-b41a-1d47ecfb3775",
   "metadata": {},
   "source": [
    "Add another line onto the query to output this single value as a float"
   ]
  },
  {
   "cell_type": "code",
   "execution_count": 39,
   "id": "bd18ea15-3f4f-481e-8588-34ba9b78b446",
   "metadata": {},
   "outputs": [
    {
     "data": {
      "text/plain": [
       "0.42"
      ]
     },
     "execution_count": 39,
     "metadata": {},
     "output_type": "execute_result"
    }
   ],
   "source": [
    "(\n",
    "    pl.read_csv(csv_file)\n",
    "    .select\n",
    "    (\n",
    "        pl.col(\"Age\").min()\n",
    "    )\n",
    "    .item()\n",
    ")"
   ]
  },
  {
   "cell_type": "markdown",
   "id": "bdfdbf11-d1fb-453c-bc6c-c202eb2702a0",
   "metadata": {},
   "source": [
    "Output a one-row DataFrame where the first column is the `max` of the `Age` column and the second column is the `min` of the `Age` column\n",
    "\n",
    "Expand the following cell if you want a hint"
   ]
  },
  {
   "cell_type": "code",
   "execution_count": null,
   "id": "a845a51a-8e3e-458b-8d22-edd79618471c",
   "metadata": {
    "jupyter": {
     "source_hidden": true
    },
    "tags": []
   },
   "outputs": [],
   "source": [
    "#Hint: \n",
    "#you cannot have two columns with the same name so you will have to use the `alias` expression "
   ]
  },
  {
   "cell_type": "code",
   "execution_count": 40,
   "id": "847974f7-3158-4298-927a-6ebe68a7e00c",
   "metadata": {
    "tags": []
   },
   "outputs": [
    {
     "data": {
      "text/html": [
       "<div><style>\n",
       ".dataframe > thead > tr,\n",
       ".dataframe > tbody > tr {\n",
       "  text-align: right;\n",
       "  white-space: pre-wrap;\n",
       "}\n",
       "</style>\n",
       "<small>shape: (1, 2)</small><table border=\"1\" class=\"dataframe\"><thead><tr><th>max_age</th><th>min_age</th></tr><tr><td>f64</td><td>f64</td></tr></thead><tbody><tr><td>80.0</td><td>0.42</td></tr></tbody></table></div>"
      ],
      "text/plain": [
       "shape: (1, 2)\n",
       "┌─────────┬─────────┐\n",
       "│ max_age ┆ min_age │\n",
       "│ ---     ┆ ---     │\n",
       "│ f64     ┆ f64     │\n",
       "╞═════════╪═════════╡\n",
       "│ 80.0    ┆ 0.42    │\n",
       "└─────────┴─────────┘"
      ]
     },
     "execution_count": 40,
     "metadata": {},
     "output_type": "execute_result"
    }
   ],
   "source": [
    "(\n",
    "    pl.read_csv(csv_file)\n",
    "    .select\n",
    "    (\n",
    "        pl.col(\"Age\").max().alias(\"max_age\"),\n",
    "        pl.col(\"Age\").min().alias(\"min_age\"),\n",
    "    )\n",
    ")"
   ]
  },
  {
   "cell_type": "code",
   "execution_count": null,
   "id": "0dec9983-634b-47e1-850b-a941cde1c041",
   "metadata": {},
   "outputs": [],
   "source": []
  },
  {
   "cell_type": "markdown",
   "id": "26836d0c-4d13-4046-ba09-c505a701167d",
   "metadata": {
    "tags": []
   },
   "source": [
    "## Exercises\n",
    "\n",
    "In the exercises you will develop your understanding of:\n",
    "- transforming an existing column\n",
    "- adding a new column from existing columns\n",
    "- adding a new column with a constant value\n",
    "\n",
    "### Exercise 1\n",
    "\n",
    "Add a new column called `familySize` which is the sum of the number of siblings (`SibSp` columns), the number of parents or children (`Parch` columns) plus one for the passenger themself.\n",
    "\n",
    "Print out the first 3 rows.\n",
    "\n",
    "Hint: Add the two columns inside `()` and then apply `.alias`"
   ]
  },
  {
   "cell_type": "code",
   "execution_count": 42,
   "id": "b099bafa-aaca-42d7-9350-5ee1deb7b959",
   "metadata": {
    "tags": []
   },
   "outputs": [
    {
     "data": {
      "text/html": [
       "<div><style>\n",
       ".dataframe > thead > tr,\n",
       ".dataframe > tbody > tr {\n",
       "  text-align: right;\n",
       "  white-space: pre-wrap;\n",
       "}\n",
       "</style>\n",
       "<small>shape: (891, 13)</small><table border=\"1\" class=\"dataframe\"><thead><tr><th>PassengerId</th><th>Survived</th><th>Pclass</th><th>Name</th><th>Sex</th><th>Age</th><th>SibSp</th><th>Parch</th><th>Ticket</th><th>Fare</th><th>Cabin</th><th>Embarked</th><th>familySize</th></tr><tr><td>i64</td><td>i64</td><td>i64</td><td>str</td><td>str</td><td>f64</td><td>i64</td><td>i64</td><td>str</td><td>f64</td><td>str</td><td>str</td><td>i64</td></tr></thead><tbody><tr><td>1</td><td>0</td><td>3</td><td>&quot;Braund, Mr. Owen Harris&quot;</td><td>&quot;male&quot;</td><td>22.0</td><td>1</td><td>0</td><td>&quot;A/5 21171&quot;</td><td>7.25</td><td>null</td><td>&quot;S&quot;</td><td>2</td></tr><tr><td>2</td><td>1</td><td>1</td><td>&quot;Cumings, Mrs. John Bradley (Fl…</td><td>&quot;female&quot;</td><td>38.0</td><td>1</td><td>0</td><td>&quot;PC 17599&quot;</td><td>71.2833</td><td>&quot;C85&quot;</td><td>&quot;C&quot;</td><td>2</td></tr><tr><td>3</td><td>1</td><td>3</td><td>&quot;Heikkinen, Miss. Laina&quot;</td><td>&quot;female&quot;</td><td>26.0</td><td>0</td><td>0</td><td>&quot;STON/O2. 3101282&quot;</td><td>7.925</td><td>null</td><td>&quot;S&quot;</td><td>1</td></tr><tr><td>4</td><td>1</td><td>1</td><td>&quot;Futrelle, Mrs. Jacques Heath (…</td><td>&quot;female&quot;</td><td>35.0</td><td>1</td><td>0</td><td>&quot;113803&quot;</td><td>53.1</td><td>&quot;C123&quot;</td><td>&quot;S&quot;</td><td>2</td></tr><tr><td>5</td><td>0</td><td>3</td><td>&quot;Allen, Mr. William Henry&quot;</td><td>&quot;male&quot;</td><td>35.0</td><td>0</td><td>0</td><td>&quot;373450&quot;</td><td>8.05</td><td>null</td><td>&quot;S&quot;</td><td>1</td></tr><tr><td>&hellip;</td><td>&hellip;</td><td>&hellip;</td><td>&hellip;</td><td>&hellip;</td><td>&hellip;</td><td>&hellip;</td><td>&hellip;</td><td>&hellip;</td><td>&hellip;</td><td>&hellip;</td><td>&hellip;</td><td>&hellip;</td></tr><tr><td>887</td><td>0</td><td>2</td><td>&quot;Montvila, Rev. Juozas&quot;</td><td>&quot;male&quot;</td><td>27.0</td><td>0</td><td>0</td><td>&quot;211536&quot;</td><td>13.0</td><td>null</td><td>&quot;S&quot;</td><td>1</td></tr><tr><td>888</td><td>1</td><td>1</td><td>&quot;Graham, Miss. Margaret Edith&quot;</td><td>&quot;female&quot;</td><td>19.0</td><td>0</td><td>0</td><td>&quot;112053&quot;</td><td>30.0</td><td>&quot;B42&quot;</td><td>&quot;S&quot;</td><td>1</td></tr><tr><td>889</td><td>0</td><td>3</td><td>&quot;Johnston, Miss. Catherine Hele…</td><td>&quot;female&quot;</td><td>null</td><td>1</td><td>2</td><td>&quot;W./C. 6607&quot;</td><td>23.45</td><td>null</td><td>&quot;S&quot;</td><td>4</td></tr><tr><td>890</td><td>1</td><td>1</td><td>&quot;Behr, Mr. Karl Howell&quot;</td><td>&quot;male&quot;</td><td>26.0</td><td>0</td><td>0</td><td>&quot;111369&quot;</td><td>30.0</td><td>&quot;C148&quot;</td><td>&quot;C&quot;</td><td>1</td></tr><tr><td>891</td><td>0</td><td>3</td><td>&quot;Dooley, Mr. Patrick&quot;</td><td>&quot;male&quot;</td><td>32.0</td><td>0</td><td>0</td><td>&quot;370376&quot;</td><td>7.75</td><td>null</td><td>&quot;Q&quot;</td><td>1</td></tr></tbody></table></div>"
      ],
      "text/plain": [
       "shape: (891, 13)\n",
       "┌─────────────┬──────────┬────────┬──────────────────┬───┬─────────┬───────┬──────────┬────────────┐\n",
       "│ PassengerId ┆ Survived ┆ Pclass ┆ Name             ┆ … ┆ Fare    ┆ Cabin ┆ Embarked ┆ familySize │\n",
       "│ ---         ┆ ---      ┆ ---    ┆ ---              ┆   ┆ ---     ┆ ---   ┆ ---      ┆ ---        │\n",
       "│ i64         ┆ i64      ┆ i64    ┆ str              ┆   ┆ f64     ┆ str   ┆ str      ┆ i64        │\n",
       "╞═════════════╪══════════╪════════╪══════════════════╪═══╪═════════╪═══════╪══════════╪════════════╡\n",
       "│ 1           ┆ 0        ┆ 3      ┆ Braund, Mr. Owen ┆ … ┆ 7.25    ┆ null  ┆ S        ┆ 2          │\n",
       "│             ┆          ┆        ┆ Harris           ┆   ┆         ┆       ┆          ┆            │\n",
       "│ 2           ┆ 1        ┆ 1      ┆ Cumings, Mrs.    ┆ … ┆ 71.2833 ┆ C85   ┆ C        ┆ 2          │\n",
       "│             ┆          ┆        ┆ John Bradley     ┆   ┆         ┆       ┆          ┆            │\n",
       "│             ┆          ┆        ┆ (Fl…             ┆   ┆         ┆       ┆          ┆            │\n",
       "│ 3           ┆ 1        ┆ 3      ┆ Heikkinen, Miss. ┆ … ┆ 7.925   ┆ null  ┆ S        ┆ 1          │\n",
       "│             ┆          ┆        ┆ Laina            ┆   ┆         ┆       ┆          ┆            │\n",
       "│ 4           ┆ 1        ┆ 1      ┆ Futrelle, Mrs.   ┆ … ┆ 53.1    ┆ C123  ┆ S        ┆ 2          │\n",
       "│             ┆          ┆        ┆ Jacques Heath (… ┆   ┆         ┆       ┆          ┆            │\n",
       "│ 5           ┆ 0        ┆ 3      ┆ Allen, Mr.       ┆ … ┆ 8.05    ┆ null  ┆ S        ┆ 1          │\n",
       "│             ┆          ┆        ┆ William Henry    ┆   ┆         ┆       ┆          ┆            │\n",
       "│ …           ┆ …        ┆ …      ┆ …                ┆ … ┆ …       ┆ …     ┆ …        ┆ …          │\n",
       "│ 887         ┆ 0        ┆ 2      ┆ Montvila, Rev.   ┆ … ┆ 13.0    ┆ null  ┆ S        ┆ 1          │\n",
       "│             ┆          ┆        ┆ Juozas           ┆   ┆         ┆       ┆          ┆            │\n",
       "│ 888         ┆ 1        ┆ 1      ┆ Graham, Miss.    ┆ … ┆ 30.0    ┆ B42   ┆ S        ┆ 1          │\n",
       "│             ┆          ┆        ┆ Margaret Edith   ┆   ┆         ┆       ┆          ┆            │\n",
       "│ 889         ┆ 0        ┆ 3      ┆ Johnston, Miss.  ┆ … ┆ 23.45   ┆ null  ┆ S        ┆ 4          │\n",
       "│             ┆          ┆        ┆ Catherine Hele…  ┆   ┆         ┆       ┆          ┆            │\n",
       "│ 890         ┆ 1        ┆ 1      ┆ Behr, Mr. Karl   ┆ … ┆ 30.0    ┆ C148  ┆ C        ┆ 1          │\n",
       "│             ┆          ┆        ┆ Howell           ┆   ┆         ┆       ┆          ┆            │\n",
       "│ 891         ┆ 0        ┆ 3      ┆ Dooley, Mr.      ┆ … ┆ 7.75    ┆ null  ┆ Q        ┆ 1          │\n",
       "│             ┆          ┆        ┆ Patrick          ┆   ┆         ┆       ┆          ┆            │\n",
       "└─────────────┴──────────┴────────┴──────────────────┴───┴─────────┴───────┴──────────┴────────────┘"
      ]
     },
     "execution_count": 42,
     "metadata": {},
     "output_type": "execute_result"
    }
   ],
   "source": [
    "(\n",
    "    pl.read_csv(csv_file)\n",
    "    .with_columns\n",
    "    (\n",
    "        # familySize = pl.col(\"SibSp\") + pl.col(\"Parch\") + 1\n",
    "        (pl.col(\"SibSp\") + pl.col(\"Parch\") + 1).alias(\"familySize\")\n",
    "        \n",
    "    )\n",
    ")"
   ]
  },
  {
   "cell_type": "markdown",
   "id": "d9146dc8-5feb-417c-a12f-ac8ed15e4506",
   "metadata": {},
   "source": [
    "### Exercise 2 \n",
    "\n",
    "Add a new column called `decade` that converts the `Age` column to the passengers age in decades e.g. 15.2 goes to 10, where 10 is an integer. Add the new column using the kwargs approach.\n",
    "\n",
    "Print out the first 3 rows.\n",
    "\n",
    "Hint: use `cast` to convert the dtype"
   ]
  },
  {
   "cell_type": "code",
   "execution_count": 46,
   "id": "2a00950f-e5a2-4643-a686-9fc4e54d5f9a",
   "metadata": {
    "tags": []
   },
   "outputs": [
    {
     "data": {
      "text/html": [
       "<div><style>\n",
       ".dataframe > thead > tr,\n",
       ".dataframe > tbody > tr {\n",
       "  text-align: right;\n",
       "  white-space: pre-wrap;\n",
       "}\n",
       "</style>\n",
       "<small>shape: (3, 13)</small><table border=\"1\" class=\"dataframe\"><thead><tr><th>PassengerId</th><th>Survived</th><th>Pclass</th><th>Name</th><th>Sex</th><th>Age</th><th>SibSp</th><th>Parch</th><th>Ticket</th><th>Fare</th><th>Cabin</th><th>Embarked</th><th>decade</th></tr><tr><td>i64</td><td>i64</td><td>i64</td><td>str</td><td>str</td><td>f64</td><td>i64</td><td>i64</td><td>str</td><td>f64</td><td>str</td><td>str</td><td>i8</td></tr></thead><tbody><tr><td>1</td><td>0</td><td>3</td><td>&quot;Braund, Mr. Owen Harris&quot;</td><td>&quot;male&quot;</td><td>22.0</td><td>1</td><td>0</td><td>&quot;A/5 21171&quot;</td><td>7.25</td><td>null</td><td>&quot;S&quot;</td><td>20</td></tr><tr><td>2</td><td>1</td><td>1</td><td>&quot;Cumings, Mrs. John Bradley (Fl…</td><td>&quot;female&quot;</td><td>38.0</td><td>1</td><td>0</td><td>&quot;PC 17599&quot;</td><td>71.2833</td><td>&quot;C85&quot;</td><td>&quot;C&quot;</td><td>30</td></tr><tr><td>3</td><td>1</td><td>3</td><td>&quot;Heikkinen, Miss. Laina&quot;</td><td>&quot;female&quot;</td><td>26.0</td><td>0</td><td>0</td><td>&quot;STON/O2. 3101282&quot;</td><td>7.925</td><td>null</td><td>&quot;S&quot;</td><td>20</td></tr></tbody></table></div>"
      ],
      "text/plain": [
       "shape: (3, 13)\n",
       "┌─────────────┬──────────┬────────┬──────────────────────┬───┬─────────┬───────┬──────────┬────────┐\n",
       "│ PassengerId ┆ Survived ┆ Pclass ┆ Name                 ┆ … ┆ Fare    ┆ Cabin ┆ Embarked ┆ decade │\n",
       "│ ---         ┆ ---      ┆ ---    ┆ ---                  ┆   ┆ ---     ┆ ---   ┆ ---      ┆ ---    │\n",
       "│ i64         ┆ i64      ┆ i64    ┆ str                  ┆   ┆ f64     ┆ str   ┆ str      ┆ i8     │\n",
       "╞═════════════╪══════════╪════════╪══════════════════════╪═══╪═════════╪═══════╪══════════╪════════╡\n",
       "│ 1           ┆ 0        ┆ 3      ┆ Braund, Mr. Owen     ┆ … ┆ 7.25    ┆ null  ┆ S        ┆ 20     │\n",
       "│             ┆          ┆        ┆ Harris               ┆   ┆         ┆       ┆          ┆        │\n",
       "│ 2           ┆ 1        ┆ 1      ┆ Cumings, Mrs. John   ┆ … ┆ 71.2833 ┆ C85   ┆ C        ┆ 30     │\n",
       "│             ┆          ┆        ┆ Bradley (Fl…         ┆   ┆         ┆       ┆          ┆        │\n",
       "│ 3           ┆ 1        ┆ 3      ┆ Heikkinen, Miss.     ┆ … ┆ 7.925   ┆ null  ┆ S        ┆ 20     │\n",
       "│             ┆          ┆        ┆ Laina                ┆   ┆         ┆       ┆          ┆        │\n",
       "└─────────────┴──────────┴────────┴──────────────────────┴───┴─────────┴───────┴──────────┴────────┘"
      ]
     },
     "execution_count": 46,
     "metadata": {},
     "output_type": "execute_result"
    }
   ],
   "source": [
    "(\n",
    "    pl.read_csv(csv_file)\n",
    "    .with_columns\n",
    "    (\n",
    "        decade = ((pl.col(\"Age\") // 10 ) * 10).cast(pl.Int8)\n",
    "    )\n",
    "    .head(3)\n",
    ")"
   ]
  },
  {
   "cell_type": "markdown",
   "id": "5600067e-c057-4403-b6fb-c1025113bf47",
   "metadata": {},
   "source": [
    "### Exercise 3\n",
    "Create a new literal column\n",
    "\n",
    "Add a new binary column called `Aboard` that has the value `1` for all passengers.\n",
    "\n",
    "Print out the first 3 rows"
   ]
  },
  {
   "cell_type": "code",
   "execution_count": 47,
   "id": "b7a66f66-8b80-4c16-a27f-c8f95460e86c",
   "metadata": {},
   "outputs": [
    {
     "data": {
      "text/html": [
       "<div><style>\n",
       ".dataframe > thead > tr,\n",
       ".dataframe > tbody > tr {\n",
       "  text-align: right;\n",
       "  white-space: pre-wrap;\n",
       "}\n",
       "</style>\n",
       "<small>shape: (3, 13)</small><table border=\"1\" class=\"dataframe\"><thead><tr><th>PassengerId</th><th>Survived</th><th>Pclass</th><th>Name</th><th>Sex</th><th>Age</th><th>SibSp</th><th>Parch</th><th>Ticket</th><th>Fare</th><th>Cabin</th><th>Embarked</th><th>Aboard</th></tr><tr><td>i64</td><td>i64</td><td>i64</td><td>str</td><td>str</td><td>f64</td><td>i64</td><td>i64</td><td>str</td><td>f64</td><td>str</td><td>str</td><td>i32</td></tr></thead><tbody><tr><td>1</td><td>0</td><td>3</td><td>&quot;Braund, Mr. Owen Harris&quot;</td><td>&quot;male&quot;</td><td>22.0</td><td>1</td><td>0</td><td>&quot;A/5 21171&quot;</td><td>7.25</td><td>null</td><td>&quot;S&quot;</td><td>1</td></tr><tr><td>2</td><td>1</td><td>1</td><td>&quot;Cumings, Mrs. John Bradley (Fl…</td><td>&quot;female&quot;</td><td>38.0</td><td>1</td><td>0</td><td>&quot;PC 17599&quot;</td><td>71.2833</td><td>&quot;C85&quot;</td><td>&quot;C&quot;</td><td>1</td></tr><tr><td>3</td><td>1</td><td>3</td><td>&quot;Heikkinen, Miss. Laina&quot;</td><td>&quot;female&quot;</td><td>26.0</td><td>0</td><td>0</td><td>&quot;STON/O2. 3101282&quot;</td><td>7.925</td><td>null</td><td>&quot;S&quot;</td><td>1</td></tr></tbody></table></div>"
      ],
      "text/plain": [
       "shape: (3, 13)\n",
       "┌─────────────┬──────────┬────────┬──────────────────────┬───┬─────────┬───────┬──────────┬────────┐\n",
       "│ PassengerId ┆ Survived ┆ Pclass ┆ Name                 ┆ … ┆ Fare    ┆ Cabin ┆ Embarked ┆ Aboard │\n",
       "│ ---         ┆ ---      ┆ ---    ┆ ---                  ┆   ┆ ---     ┆ ---   ┆ ---      ┆ ---    │\n",
       "│ i64         ┆ i64      ┆ i64    ┆ str                  ┆   ┆ f64     ┆ str   ┆ str      ┆ i32    │\n",
       "╞═════════════╪══════════╪════════╪══════════════════════╪═══╪═════════╪═══════╪══════════╪════════╡\n",
       "│ 1           ┆ 0        ┆ 3      ┆ Braund, Mr. Owen     ┆ … ┆ 7.25    ┆ null  ┆ S        ┆ 1      │\n",
       "│             ┆          ┆        ┆ Harris               ┆   ┆         ┆       ┆          ┆        │\n",
       "│ 2           ┆ 1        ┆ 1      ┆ Cumings, Mrs. John   ┆ … ┆ 71.2833 ┆ C85   ┆ C        ┆ 1      │\n",
       "│             ┆          ┆        ┆ Bradley (Fl…         ┆   ┆         ┆       ┆          ┆        │\n",
       "│ 3           ┆ 1        ┆ 3      ┆ Heikkinen, Miss.     ┆ … ┆ 7.925   ┆ null  ┆ S        ┆ 1      │\n",
       "│             ┆          ┆        ┆ Laina                ┆   ┆         ┆       ┆          ┆        │\n",
       "└─────────────┴──────────┴────────┴──────────────────────┴───┴─────────┴───────┴──────────┴────────┘"
      ]
     },
     "execution_count": 47,
     "metadata": {},
     "output_type": "execute_result"
    }
   ],
   "source": [
    "(\n",
    "    pl.read_csv(csv_file)\n",
    "    .with_columns\n",
    "    (\n",
    "        pl.lit(1).alias(\"Aboard\")\n",
    "    )\n",
    "    .head(3)\n",
    ")"
   ]
  },
  {
   "cell_type": "markdown",
   "id": "7a2dc591-7ad7-4c0b-960c-4741c618c10f",
   "metadata": {},
   "source": [
    "### Exercise 4\n",
    "\n",
    "Add a new Boolean column `overThirty` that captures whether a passenger's age is 30 years or older"
   ]
  },
  {
   "cell_type": "code",
   "execution_count": 48,
   "id": "b0119f4d-6f48-40a4-a7d0-d6bc7e7a14d6",
   "metadata": {
    "tags": []
   },
   "outputs": [
    {
     "data": {
      "text/html": [
       "<div><style>\n",
       ".dataframe > thead > tr,\n",
       ".dataframe > tbody > tr {\n",
       "  text-align: right;\n",
       "  white-space: pre-wrap;\n",
       "}\n",
       "</style>\n",
       "<small>shape: (3, 13)</small><table border=\"1\" class=\"dataframe\"><thead><tr><th>PassengerId</th><th>Survived</th><th>Pclass</th><th>Name</th><th>Sex</th><th>Age</th><th>SibSp</th><th>Parch</th><th>Ticket</th><th>Fare</th><th>Cabin</th><th>Embarked</th><th>overThirty</th></tr><tr><td>i64</td><td>i64</td><td>i64</td><td>str</td><td>str</td><td>f64</td><td>i64</td><td>i64</td><td>str</td><td>f64</td><td>str</td><td>str</td><td>bool</td></tr></thead><tbody><tr><td>1</td><td>0</td><td>3</td><td>&quot;Braund, Mr. Owen Harris&quot;</td><td>&quot;male&quot;</td><td>22.0</td><td>1</td><td>0</td><td>&quot;A/5 21171&quot;</td><td>7.25</td><td>null</td><td>&quot;S&quot;</td><td>false</td></tr><tr><td>2</td><td>1</td><td>1</td><td>&quot;Cumings, Mrs. John Bradley (Fl…</td><td>&quot;female&quot;</td><td>38.0</td><td>1</td><td>0</td><td>&quot;PC 17599&quot;</td><td>71.2833</td><td>&quot;C85&quot;</td><td>&quot;C&quot;</td><td>true</td></tr><tr><td>3</td><td>1</td><td>3</td><td>&quot;Heikkinen, Miss. Laina&quot;</td><td>&quot;female&quot;</td><td>26.0</td><td>0</td><td>0</td><td>&quot;STON/O2. 3101282&quot;</td><td>7.925</td><td>null</td><td>&quot;S&quot;</td><td>false</td></tr></tbody></table></div>"
      ],
      "text/plain": [
       "shape: (3, 13)\n",
       "┌─────────────┬──────────┬────────┬──────────────────┬───┬─────────┬───────┬──────────┬────────────┐\n",
       "│ PassengerId ┆ Survived ┆ Pclass ┆ Name             ┆ … ┆ Fare    ┆ Cabin ┆ Embarked ┆ overThirty │\n",
       "│ ---         ┆ ---      ┆ ---    ┆ ---              ┆   ┆ ---     ┆ ---   ┆ ---      ┆ ---        │\n",
       "│ i64         ┆ i64      ┆ i64    ┆ str              ┆   ┆ f64     ┆ str   ┆ str      ┆ bool       │\n",
       "╞═════════════╪══════════╪════════╪══════════════════╪═══╪═════════╪═══════╪══════════╪════════════╡\n",
       "│ 1           ┆ 0        ┆ 3      ┆ Braund, Mr. Owen ┆ … ┆ 7.25    ┆ null  ┆ S        ┆ false      │\n",
       "│             ┆          ┆        ┆ Harris           ┆   ┆         ┆       ┆          ┆            │\n",
       "│ 2           ┆ 1        ┆ 1      ┆ Cumings, Mrs.    ┆ … ┆ 71.2833 ┆ C85   ┆ C        ┆ true       │\n",
       "│             ┆          ┆        ┆ John Bradley     ┆   ┆         ┆       ┆          ┆            │\n",
       "│             ┆          ┆        ┆ (Fl…             ┆   ┆         ┆       ┆          ┆            │\n",
       "│ 3           ┆ 1        ┆ 3      ┆ Heikkinen, Miss. ┆ … ┆ 7.925   ┆ null  ┆ S        ┆ false      │\n",
       "│             ┆          ┆        ┆ Laina            ┆   ┆         ┆       ┆          ┆            │\n",
       "└─────────────┴──────────┴────────┴──────────────────┴───┴─────────┴───────┴──────────┴────────────┘"
      ]
     },
     "execution_count": 48,
     "metadata": {},
     "output_type": "execute_result"
    }
   ],
   "source": [
    "(\n",
    "    pl.read_csv(csv_file)\n",
    "    .with_columns\n",
    "    (\n",
    "        pl.when(pl.col(\"Age\") >= 30)\n",
    "        .then(True)\n",
    "        .otherwise(False)\n",
    "        .alias(\"overThirty\")\n",
    "    )\n",
    "    .head(3)\n",
    ")"
   ]
  },
  {
   "cell_type": "code",
   "execution_count": null,
   "id": "0a8e4520-1bdf-441c-a637-6e0de6b4d7ef",
   "metadata": {},
   "outputs": [],
   "source": []
  },
  {
   "cell_type": "markdown",
   "id": "8e6b024a-e641-42e5-a5bf-019e66ba2556",
   "metadata": {},
   "source": [
    "## Exercises\n",
    "\n",
    "In the exercises you will develop your understanding of:\n",
    "- overwriting existing columns\n",
    "- adding multiple columns\n",
    "- transforming multiple columns based on dtype\n",
    "\n",
    "## Exercise 1\n",
    "Convert the 64-bit integer and float columns to their 32-bit equivalents"
   ]
  },
  {
   "cell_type": "code",
   "execution_count": null,
   "id": "b61fb211-a79e-4e66-9a98-702bc6d56abb",
   "metadata": {},
   "outputs": [],
   "source": [
    "(\n",
    "    pl.read_csv(csv_file)\n",
    "    <blank>\n",
    "    .head()\n",
    ")"
   ]
  },
  {
   "cell_type": "markdown",
   "id": "4775e21b-d47a-4761-acba-df05185d8051",
   "metadata": {},
   "source": [
    "Continue by adding \n",
    "- a `family_size` column as the sum of the siblings, parents and the passenger\n",
    "- a Boolean `over_thirty` column showing if a passenger is aged 30 or over\n",
    "\n",
    "Add these columns using keyword assignment"
   ]
  },
  {
   "cell_type": "code",
   "execution_count": null,
   "id": "33406592-5f2f-4d79-871b-fc39781155ca",
   "metadata": {},
   "outputs": [],
   "source": []
  },
  {
   "cell_type": "markdown",
   "id": "8247e835-5820-4509-b3bd-752bb1ac3e5c",
   "metadata": {},
   "source": [
    "### Exercise 2\n",
    "We have the following fictitious dataset with sales figures of bikes in different countries."
   ]
  },
  {
   "cell_type": "code",
   "execution_count": null,
   "id": "3e13250a-02e4-4634-a462-682ca04a89f2",
   "metadata": {},
   "outputs": [],
   "source": [
    "dfb = pl.read_parquet(\"../data/bike_sales.parquet\")\n",
    "dfb.head()"
   ]
  },
  {
   "cell_type": "markdown",
   "id": "1eba8a85-1ab6-4227-89a9-0ce61562d0f2",
   "metadata": {},
   "source": [
    "The monetary values are in the local currency but we want to compare them in US dollars. \n",
    "\n",
    "In order to do this we join the following `DataFrame` with the foreign-exchange rates to US dollars"
   ]
  },
  {
   "cell_type": "code",
   "execution_count": null,
   "id": "2c87197d-4d05-4359-b47b-64537d56d6e0",
   "metadata": {},
   "outputs": [],
   "source": [
    "fx_df = (\n",
    "    pl.DataFrame(\n",
    "        {\n",
    "            \"country\":['Germany', 'Canada', 'Australia', 'United States', 'United Kingdom', 'France'],\n",
    "            \"fx_rate\":[1.25,2.0,2.5,1.0,1.5,1.25]\n",
    "        }\n",
    "    )\n",
    ")\n",
    "\n",
    "dfb = (\n",
    "    dfb\n",
    "    .join(fx_df,on=\"country\",how=\"left\")\n",
    ")\n",
    "dfb.head()"
   ]
  },
  {
   "cell_type": "markdown",
   "id": "63f6ef8b-4267-4b7f-a01e-17d527a8f93b",
   "metadata": {},
   "source": [
    "We now have a column called `fx_rate`.\n",
    "\n",
    "We learn more about `joins` later in the course\n",
    "Convert the monetary columns to a float dtype. \n",
    "\n",
    "Note that the some column names have whitespace (I recommend printing them out)"
   ]
  },
  {
   "cell_type": "code",
   "execution_count": null,
   "id": "f2ee910d-b185-460f-a3ca-32f163d34a60",
   "metadata": {},
   "outputs": [],
   "source": []
  },
  {
   "cell_type": "markdown",
   "id": "3252b6ad-656b-4ae7-80bb-5720caf4cf60",
   "metadata": {},
   "source": [
    "Do this conversion to float dtype in a single expression"
   ]
  },
  {
   "cell_type": "code",
   "execution_count": null,
   "id": "ae417c82-1d91-41b5-bc66-6677ab8724d3",
   "metadata": {},
   "outputs": [],
   "source": [
    "(\n",
    "    dfb\n",
    "    .with_columns(\n",
    "        <blank>\n",
    "    )\n",
    "    .head()\n",
    ")"
   ]
  },
  {
   "cell_type": "markdown",
   "id": "861e575f-37d3-4329-b5ce-821cf6c137f5",
   "metadata": {},
   "source": [
    "Continue by adding a new `with_columns` statement where for each monetary column we add a column that has the US Dollar equivlent amount. We do this conversion by multiplying the monetary columns by `fx_rate`.\n",
    "\n",
    "- Select the monetary columns using `cs.matches`\n",
    "- Add `\"_usd\"` to the new column name\n",
    "- Ensure you enclose the conversion in `()` before renaming the expressions"
   ]
  },
  {
   "cell_type": "code",
   "execution_count": null,
   "id": "6bb0b43e-21f0-4069-9020-9b6dfa31ecfa",
   "metadata": {},
   "outputs": [],
   "source": []
  },
  {
   "cell_type": "markdown",
   "id": "2d25b914-f053-4d2e-8140-124687e9fcc1",
   "metadata": {},
   "source": [
    "## Exercises\n",
    "\n",
    "In the exercises you will develop your understanding of:\n",
    "- adding a column based on a mapping of another column\n",
    "- adding a binary column based on a condition on multiple columns\n",
    "- adding a column based on a nested `if-elif` condition on another column\n",
    "\n",
    "### Exercise 1 \n",
    "Create a binary column for whether a passenger is female or male.\n",
    "\n",
    "Add a column called `is_female` that maps rows with a female passenger to 1 and rows with a male passenger to 0. Ensure the column has an integer dtype"
   ]
  },
  {
   "cell_type": "code",
   "execution_count": null,
   "id": "e86d9d14-c0ec-44c7-a4e0-840bd5c772f6",
   "metadata": {
    "tags": []
   },
   "outputs": [],
   "source": [
    "(\n",
    "    pl.read_csv(csv_file)\n",
    "    .select(['Sex',<blank>])\n",
    "    .head()\n",
    ")"
   ]
  },
  {
   "cell_type": "markdown",
   "id": "7e4cf2c0-9843-432b-8569-f79bc5779941",
   "metadata": {},
   "source": [
    "### Exercise 2 \n",
    "Create a binary column called `young_female_first_class` for whether a passenger is:\n",
    "- female\n",
    "- in first class and\n",
    "- under 30"
   ]
  },
  {
   "cell_type": "code",
   "execution_count": null,
   "id": "194f4103-83c1-4293-803d-459febc547c6",
   "metadata": {
    "tags": []
   },
   "outputs": [],
   "source": [
    "(\n",
    "    pl.read_csv(csv_file)\n",
    "    <blank>\n",
    "    .head()\n",
    ")"
   ]
  },
  {
   "cell_type": "markdown",
   "id": "14af1f0f-3b42-4f5b-b606-59793564e6df",
   "metadata": {},
   "source": [
    "### Exercise 3 \n",
    "Create a column called `embarked_categories` where\n",
    "- female and embarked in Southampton then has value \"FS\"\n",
    "- female and did not embark in Southampton then has value \"NFS\"\n",
    "- male and embarked in Southampton then has value \"MS\"\n",
    "- male and did not embark in Southampton then has value \"NMS\""
   ]
  },
  {
   "cell_type": "code",
   "execution_count": null,
   "id": "cf448dc2-8b4c-479e-80b5-fc7c70490094",
   "metadata": {
    "tags": []
   },
   "outputs": [],
   "source": [
    "(\n",
    "    pl.read_csv(csv_file)\n",
    "    .select(\n",
    "            \"Sex\",\n",
    "            \"Embarked\",\n",
    "            <blank>\n",
    "    )\n",
    ")\n"
   ]
  },
  {
   "cell_type": "code",
   "execution_count": null,
   "id": "5c74b046-4bb6-4215-8f61-7c0a99d982b7",
   "metadata": {},
   "outputs": [],
   "source": []
  }
 ],
 "metadata": {
  "kernelspec": {
   "display_name": "Python 3 (ipykernel)",
   "language": "python",
   "name": "python3"
  },
  "language_info": {
   "codemirror_mode": {
    "name": "ipython",
    "version": 3
   },
   "file_extension": ".py",
   "mimetype": "text/x-python",
   "name": "python",
   "nbconvert_exporter": "python",
   "pygments_lexer": "ipython3",
   "version": "3.13.2"
  }
 },
 "nbformat": 4,
 "nbformat_minor": 5
}
